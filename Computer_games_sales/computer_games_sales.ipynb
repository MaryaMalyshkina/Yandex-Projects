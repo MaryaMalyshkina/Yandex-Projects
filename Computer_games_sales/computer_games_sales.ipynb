{
 "cells": [
  {
   "cell_type": "markdown",
   "metadata": {},
   "source": [
    "ВВЕДЕНИЕ\n",
    "\n",
    "Продажа компьютерных игр в интернет-магазине \"Стримчик\"\n",
    "    \n",
    "Цель работы - проанализировать исторические данные о продажах компьютерных игр, чтобы выявить закономерности, опредедяющие успешность игры. Это позволит определить потенциально популярные продукты, на которых следует сосредоточить усилия по продвижению продукта.\n",
    "    \n",
    "    \n",
    " Данные содержат в себе информацию о продажах компьютерных игр по всему миру до 2016 года, а именно: название игры, жанр, платформа, год выпуска, продажи в Европе, Японии и других странах, оценки пользователей и экспертов и рейтинг от организации ESRB. \n",
    "        \n",
    "План работы: \n",
    "1. [загрузка данных ](#section1)\n",
    "2. [предобработка данных (исследование пропусков, дублей, проверка типов данных) ](#section2)\n",
    "3. [исследовательский анализ: общая информация о продажах игр в зависимости от платформы и жанра](#section3) \n",
    "4. [портрет пользователя каждого региона](#section4) \n",
    "5. [проверка гипотез о рейтингах разных платформ и жанров](#section5) \n",
    "6. [заключение ](#section6)"
   ]
  },
  {
   "cell_type": "markdown",
   "metadata": {},
   "source": [
    "<a id='section1'></a>\n",
    "1. Загрузка данных.\n",
    "\n",
    "Открываем файл с данными и выведем на экран первые 10 строк."
   ]
  },
  {
   "cell_type": "code",
   "execution_count": 1,
   "metadata": {},
   "outputs": [],
   "source": [
    "import pandas as pd\n",
    "import matplotlib.pyplot as plt\n",
    "import seaborn as sns\n",
    "import numpy as np\n",
    "from scipy import stats as st\n",
    "from math import sqrt\n",
    "from scipy.stats import binom, norm,  poisson"
   ]
  },
  {
   "cell_type": "code",
   "execution_count": 2,
   "metadata": {},
   "outputs": [],
   "source": [
    "try:\n",
    "    data = pd.read_csv('/datasets/games.csv',sep = ',')\n",
    "except:\n",
    "    data = pd.read_csv('https://code.s3.yandex.net/datasets/games.csv',sep = ',')"
   ]
  },
  {
   "cell_type": "code",
   "execution_count": 3,
   "metadata": {},
   "outputs": [
    {
     "data": {
      "text/html": [
       "<div>\n",
       "<style scoped>\n",
       "    .dataframe tbody tr th:only-of-type {\n",
       "        vertical-align: middle;\n",
       "    }\n",
       "\n",
       "    .dataframe tbody tr th {\n",
       "        vertical-align: top;\n",
       "    }\n",
       "\n",
       "    .dataframe thead th {\n",
       "        text-align: right;\n",
       "    }\n",
       "</style>\n",
       "<table border=\"1\" class=\"dataframe\">\n",
       "  <thead>\n",
       "    <tr style=\"text-align: right;\">\n",
       "      <th></th>\n",
       "      <th>Name</th>\n",
       "      <th>Platform</th>\n",
       "      <th>Year_of_Release</th>\n",
       "      <th>Genre</th>\n",
       "      <th>NA_sales</th>\n",
       "      <th>EU_sales</th>\n",
       "      <th>JP_sales</th>\n",
       "      <th>Other_sales</th>\n",
       "      <th>Critic_Score</th>\n",
       "      <th>User_Score</th>\n",
       "      <th>Rating</th>\n",
       "    </tr>\n",
       "  </thead>\n",
       "  <tbody>\n",
       "    <tr>\n",
       "      <th>0</th>\n",
       "      <td>Wii Sports</td>\n",
       "      <td>Wii</td>\n",
       "      <td>2006.0</td>\n",
       "      <td>Sports</td>\n",
       "      <td>41.36</td>\n",
       "      <td>28.96</td>\n",
       "      <td>3.77</td>\n",
       "      <td>8.45</td>\n",
       "      <td>76.0</td>\n",
       "      <td>8</td>\n",
       "      <td>E</td>\n",
       "    </tr>\n",
       "    <tr>\n",
       "      <th>1</th>\n",
       "      <td>Super Mario Bros.</td>\n",
       "      <td>NES</td>\n",
       "      <td>1985.0</td>\n",
       "      <td>Platform</td>\n",
       "      <td>29.08</td>\n",
       "      <td>3.58</td>\n",
       "      <td>6.81</td>\n",
       "      <td>0.77</td>\n",
       "      <td>NaN</td>\n",
       "      <td>NaN</td>\n",
       "      <td>NaN</td>\n",
       "    </tr>\n",
       "    <tr>\n",
       "      <th>2</th>\n",
       "      <td>Mario Kart Wii</td>\n",
       "      <td>Wii</td>\n",
       "      <td>2008.0</td>\n",
       "      <td>Racing</td>\n",
       "      <td>15.68</td>\n",
       "      <td>12.76</td>\n",
       "      <td>3.79</td>\n",
       "      <td>3.29</td>\n",
       "      <td>82.0</td>\n",
       "      <td>8.3</td>\n",
       "      <td>E</td>\n",
       "    </tr>\n",
       "    <tr>\n",
       "      <th>3</th>\n",
       "      <td>Wii Sports Resort</td>\n",
       "      <td>Wii</td>\n",
       "      <td>2009.0</td>\n",
       "      <td>Sports</td>\n",
       "      <td>15.61</td>\n",
       "      <td>10.93</td>\n",
       "      <td>3.28</td>\n",
       "      <td>2.95</td>\n",
       "      <td>80.0</td>\n",
       "      <td>8</td>\n",
       "      <td>E</td>\n",
       "    </tr>\n",
       "    <tr>\n",
       "      <th>4</th>\n",
       "      <td>Pokemon Red/Pokemon Blue</td>\n",
       "      <td>GB</td>\n",
       "      <td>1996.0</td>\n",
       "      <td>Role-Playing</td>\n",
       "      <td>11.27</td>\n",
       "      <td>8.89</td>\n",
       "      <td>10.22</td>\n",
       "      <td>1.00</td>\n",
       "      <td>NaN</td>\n",
       "      <td>NaN</td>\n",
       "      <td>NaN</td>\n",
       "    </tr>\n",
       "    <tr>\n",
       "      <th>5</th>\n",
       "      <td>Tetris</td>\n",
       "      <td>GB</td>\n",
       "      <td>1989.0</td>\n",
       "      <td>Puzzle</td>\n",
       "      <td>23.20</td>\n",
       "      <td>2.26</td>\n",
       "      <td>4.22</td>\n",
       "      <td>0.58</td>\n",
       "      <td>NaN</td>\n",
       "      <td>NaN</td>\n",
       "      <td>NaN</td>\n",
       "    </tr>\n",
       "    <tr>\n",
       "      <th>6</th>\n",
       "      <td>New Super Mario Bros.</td>\n",
       "      <td>DS</td>\n",
       "      <td>2006.0</td>\n",
       "      <td>Platform</td>\n",
       "      <td>11.28</td>\n",
       "      <td>9.14</td>\n",
       "      <td>6.50</td>\n",
       "      <td>2.88</td>\n",
       "      <td>89.0</td>\n",
       "      <td>8.5</td>\n",
       "      <td>E</td>\n",
       "    </tr>\n",
       "    <tr>\n",
       "      <th>7</th>\n",
       "      <td>Wii Play</td>\n",
       "      <td>Wii</td>\n",
       "      <td>2006.0</td>\n",
       "      <td>Misc</td>\n",
       "      <td>13.96</td>\n",
       "      <td>9.18</td>\n",
       "      <td>2.93</td>\n",
       "      <td>2.84</td>\n",
       "      <td>58.0</td>\n",
       "      <td>6.6</td>\n",
       "      <td>E</td>\n",
       "    </tr>\n",
       "    <tr>\n",
       "      <th>8</th>\n",
       "      <td>New Super Mario Bros. Wii</td>\n",
       "      <td>Wii</td>\n",
       "      <td>2009.0</td>\n",
       "      <td>Platform</td>\n",
       "      <td>14.44</td>\n",
       "      <td>6.94</td>\n",
       "      <td>4.70</td>\n",
       "      <td>2.24</td>\n",
       "      <td>87.0</td>\n",
       "      <td>8.4</td>\n",
       "      <td>E</td>\n",
       "    </tr>\n",
       "    <tr>\n",
       "      <th>9</th>\n",
       "      <td>Duck Hunt</td>\n",
       "      <td>NES</td>\n",
       "      <td>1984.0</td>\n",
       "      <td>Shooter</td>\n",
       "      <td>26.93</td>\n",
       "      <td>0.63</td>\n",
       "      <td>0.28</td>\n",
       "      <td>0.47</td>\n",
       "      <td>NaN</td>\n",
       "      <td>NaN</td>\n",
       "      <td>NaN</td>\n",
       "    </tr>\n",
       "  </tbody>\n",
       "</table>\n",
       "</div>"
      ],
      "text/plain": [
       "                        Name Platform  Year_of_Release         Genre  \\\n",
       "0                 Wii Sports      Wii           2006.0        Sports   \n",
       "1          Super Mario Bros.      NES           1985.0      Platform   \n",
       "2             Mario Kart Wii      Wii           2008.0        Racing   \n",
       "3          Wii Sports Resort      Wii           2009.0        Sports   \n",
       "4   Pokemon Red/Pokemon Blue       GB           1996.0  Role-Playing   \n",
       "5                     Tetris       GB           1989.0        Puzzle   \n",
       "6      New Super Mario Bros.       DS           2006.0      Platform   \n",
       "7                   Wii Play      Wii           2006.0          Misc   \n",
       "8  New Super Mario Bros. Wii      Wii           2009.0      Platform   \n",
       "9                  Duck Hunt      NES           1984.0       Shooter   \n",
       "\n",
       "   NA_sales  EU_sales  JP_sales  Other_sales  Critic_Score User_Score Rating  \n",
       "0     41.36     28.96      3.77         8.45          76.0          8      E  \n",
       "1     29.08      3.58      6.81         0.77           NaN        NaN    NaN  \n",
       "2     15.68     12.76      3.79         3.29          82.0        8.3      E  \n",
       "3     15.61     10.93      3.28         2.95          80.0          8      E  \n",
       "4     11.27      8.89     10.22         1.00           NaN        NaN    NaN  \n",
       "5     23.20      2.26      4.22         0.58           NaN        NaN    NaN  \n",
       "6     11.28      9.14      6.50         2.88          89.0        8.5      E  \n",
       "7     13.96      9.18      2.93         2.84          58.0        6.6      E  \n",
       "8     14.44      6.94      4.70         2.24          87.0        8.4      E  \n",
       "9     26.93      0.63      0.28         0.47           NaN        NaN    NaN  "
      ]
     },
     "metadata": {},
     "output_type": "display_data"
    }
   ],
   "source": [
    "display(data.head(10))"
   ]
  },
  {
   "cell_type": "markdown",
   "metadata": {},
   "source": [
    "Выведем общую информацию о датафрейме."
   ]
  },
  {
   "cell_type": "code",
   "execution_count": 4,
   "metadata": {},
   "outputs": [
    {
     "name": "stdout",
     "output_type": "stream",
     "text": [
      "<class 'pandas.core.frame.DataFrame'>\n",
      "RangeIndex: 16715 entries, 0 to 16714\n",
      "Data columns (total 11 columns):\n",
      " #   Column           Non-Null Count  Dtype  \n",
      "---  ------           --------------  -----  \n",
      " 0   Name             16713 non-null  object \n",
      " 1   Platform         16715 non-null  object \n",
      " 2   Year_of_Release  16446 non-null  float64\n",
      " 3   Genre            16713 non-null  object \n",
      " 4   NA_sales         16715 non-null  float64\n",
      " 5   EU_sales         16715 non-null  float64\n",
      " 6   JP_sales         16715 non-null  float64\n",
      " 7   Other_sales      16715 non-null  float64\n",
      " 8   Critic_Score     8137 non-null   float64\n",
      " 9   User_Score       10014 non-null  object \n",
      " 10  Rating           9949 non-null   object \n",
      "dtypes: float64(6), object(5)\n",
      "memory usage: 1.1+ MB\n"
     ]
    }
   ],
   "source": [
    "data.info()"
   ]
  },
  {
   "cell_type": "markdown",
   "metadata": {},
   "source": [
    "В таблице 16715 строк, пропуски встречаются в названии, годе выпуска, жанре, в оценке критиков и пользователей и в рейтинге."
   ]
  },
  {
   "cell_type": "markdown",
   "metadata": {},
   "source": [
    "<a id='section2'></a>\n",
    "2. Предобработка данных"
   ]
  },
  {
   "cell_type": "markdown",
   "metadata": {},
   "source": [
    "2.1 Приведем названия всех столбцов к нижнему регистру."
   ]
  },
  {
   "cell_type": "code",
   "execution_count": 5,
   "metadata": {},
   "outputs": [],
   "source": [
    "data.columns = [x.lower() for x in data.columns]"
   ]
  },
  {
   "cell_type": "markdown",
   "metadata": {},
   "source": [
    "Проверим названия столбцов."
   ]
  },
  {
   "cell_type": "code",
   "execution_count": 6,
   "metadata": {},
   "outputs": [
    {
     "data": {
      "text/plain": [
       "Index(['name', 'platform', 'year_of_release', 'genre', 'na_sales', 'eu_sales',\n",
       "       'jp_sales', 'other_sales', 'critic_score', 'user_score', 'rating'],\n",
       "      dtype='object')"
      ]
     },
     "execution_count": 6,
     "metadata": {},
     "output_type": "execute_result"
    }
   ],
   "source": [
    "data.columns"
   ]
  },
  {
   "cell_type": "markdown",
   "metadata": {},
   "source": [
    "Все столбцы приведены к нижнему регистру."
   ]
  },
  {
   "cell_type": "markdown",
   "metadata": {},
   "source": [
    "2.2 Теперь обработуем пропуски в таблице."
   ]
  },
  {
   "cell_type": "markdown",
   "metadata": {},
   "source": [
    "Выведем количество пропусков в каждой строке в абсолютных значениях."
   ]
  },
  {
   "cell_type": "code",
   "execution_count": 7,
   "metadata": {},
   "outputs": [
    {
     "data": {
      "text/plain": [
       "platform              0\n",
       "na_sales              0\n",
       "eu_sales              0\n",
       "jp_sales              0\n",
       "other_sales           0\n",
       "name                  2\n",
       "genre                 2\n",
       "year_of_release     269\n",
       "user_score         6701\n",
       "rating             6766\n",
       "critic_score       8578\n",
       "dtype: int64"
      ]
     },
     "execution_count": 7,
     "metadata": {},
     "output_type": "execute_result"
    }
   ],
   "source": [
    "data.isna().sum().sort_values()"
   ]
  },
  {
   "cell_type": "markdown",
   "metadata": {},
   "source": [
    "Также выведем количество пропусков в каждой строке в процентах от общего числа записей."
   ]
  },
  {
   "cell_type": "code",
   "execution_count": 8,
   "metadata": {},
   "outputs": [
    {
     "data": {
      "text/plain": [
       "platform            0.000000\n",
       "na_sales            0.000000\n",
       "eu_sales            0.000000\n",
       "jp_sales            0.000000\n",
       "other_sales         0.000000\n",
       "name                0.011965\n",
       "genre               0.011965\n",
       "year_of_release     1.609333\n",
       "user_score         40.089740\n",
       "rating             40.478612\n",
       "critic_score       51.319174\n",
       "dtype: float64"
      ]
     },
     "execution_count": 8,
     "metadata": {},
     "output_type": "execute_result"
    }
   ],
   "source": [
    "data.isna().sum().sort_values()/len(data)*100"
   ]
  },
  {
   "cell_type": "markdown",
   "metadata": {},
   "source": [
    "2.2.1 По 2 пропуска в названии и жанре можно удалить без потери важной информации."
   ]
  },
  {
   "cell_type": "code",
   "execution_count": 9,
   "metadata": {},
   "outputs": [],
   "source": [
    "data=data.dropna(subset=['name','genre'])"
   ]
  },
  {
   "cell_type": "markdown",
   "metadata": {},
   "source": [
    "2.2.2 Год выпуска - важная информация для анализа, заменить пропущенные значения нечем, 1,6% пропусков - немного,  поэтому удалим строки с пропуском года выпуска."
   ]
  },
  {
   "cell_type": "code",
   "execution_count": 10,
   "metadata": {},
   "outputs": [],
   "source": [
    "data=data.dropna(subset=['year_of_release'])"
   ]
  },
  {
   "cell_type": "markdown",
   "metadata": {},
   "source": [
    "Теперь, когда удалены пропуски, можно преобразовать год выпуска в целочисленную переменную."
   ]
  },
  {
   "cell_type": "code",
   "execution_count": 11,
   "metadata": {},
   "outputs": [],
   "source": [
    "data['year_of_release'] = data['year_of_release'].astype(int)"
   ]
  },
  {
   "cell_type": "markdown",
   "metadata": {},
   "source": [
    "Выведем все значения, которые принимает год выпуска."
   ]
  },
  {
   "cell_type": "code",
   "execution_count": 12,
   "metadata": {},
   "outputs": [
    {
     "data": {
      "text/plain": [
       "array([1980, 1981, 1982, 1983, 1984, 1985, 1986, 1987, 1988, 1989, 1990,\n",
       "       1991, 1992, 1993, 1994, 1995, 1996, 1997, 1998, 1999, 2000, 2001,\n",
       "       2002, 2003, 2004, 2005, 2006, 2007, 2008, 2009, 2010, 2011, 2012,\n",
       "       2013, 2014, 2015, 2016])"
      ]
     },
     "execution_count": 12,
     "metadata": {},
     "output_type": "execute_result"
    }
   ],
   "source": [
    "data['year_of_release'].sort_values().unique()"
   ]
  },
  {
   "cell_type": "markdown",
   "metadata": {},
   "source": [
    "2.2.3 Теперь займемся пропусками в столбцах с рейтингом и оценками критиков и пользователей.\n",
    "\n",
    "Пропусков в этих столбцах очень много (по 40% и 51%).\n",
    "\n",
    "Посмотрим, сколько строк содержат пропуски в этих трех столбцах одновременно."
   ]
  },
  {
   "cell_type": "code",
   "execution_count": 13,
   "metadata": {},
   "outputs": [
    {
     "data": {
      "text/plain": [
       "6534"
      ]
     },
     "execution_count": 13,
     "metadata": {},
     "output_type": "execute_result"
    }
   ],
   "source": [
    "len(data.loc[(data['user_score'].isna()) & (data['rating'].isna())& (data['critic_score'].isna())])"
   ]
  },
  {
   "cell_type": "markdown",
   "metadata": {},
   "source": [
    "Как видим, подавляющая часть пропусков в столбцах с оценками критиков и пользователей, а также рейтингом ESRB, одновременная.\n",
    "\n",
    "Чтобы понять причины одновременных пропусков, нужно понимать, как происходило наполнение этой базы  данных. Необходимо более глубокое исследование, возможно эти пропуски можно заполнить из других источников."
   ]
  },
  {
   "cell_type": "markdown",
   "metadata": {},
   "source": [
    "Такое большое количество пропусков заполнять средним или медианой кажется не вполне разумным, потому что это может сильно исказить исходное распределение. Предлагается оставить эти пропуски как есть."
   ]
  },
  {
   "cell_type": "markdown",
   "metadata": {},
   "source": [
    "Отдельного внимания заслуживает столбец с оценкой пользователей. Выведем все его значения."
   ]
  },
  {
   "cell_type": "code",
   "execution_count": 14,
   "metadata": {},
   "outputs": [
    {
     "data": {
      "text/plain": [
       "array(['0', '0.2', '0.3', '0.5', '0.6', '0.7', '0.9', '1', '1.1', '1.2',\n",
       "       '1.3', '1.4', '1.5', '1.6', '1.7', '1.8', '1.9', '2', '2.1', '2.2',\n",
       "       '2.3', '2.4', '2.5', '2.6', '2.7', '2.8', '2.9', '3', '3.1', '3.2',\n",
       "       '3.3', '3.4', '3.5', '3.6', '3.7', '3.8', '3.9', '4', '4.1', '4.2',\n",
       "       '4.3', '4.4', '4.5', '4.6', '4.7', '4.8', '4.9', '5', '5.1', '5.2',\n",
       "       '5.3', '5.4', '5.5', '5.6', '5.7', '5.8', '5.9', '6', '6.1', '6.2',\n",
       "       '6.3', '6.4', '6.5', '6.6', '6.7', '6.8', '6.9', '7', '7.1', '7.2',\n",
       "       '7.3', '7.4', '7.5', '7.6', '7.7', '7.8', '7.9', '8', '8.1', '8.2',\n",
       "       '8.3', '8.4', '8.5', '8.6', '8.7', '8.8', '8.9', '9', '9.1', '9.2',\n",
       "       '9.3', '9.4', '9.5', '9.6', '9.7', 'tbd', nan], dtype=object)"
      ]
     },
     "execution_count": 14,
     "metadata": {},
     "output_type": "execute_result"
    }
   ],
   "source": [
    "data['user_score'].sort_values().unique()"
   ]
  },
  {
   "cell_type": "markdown",
   "metadata": {},
   "source": [
    "Помимо пропусков (nan) в нем встречается строка 'tbd', что означает по-видимому, 'to be determined', то есть \"будет определено\".\n",
    "\n",
    "Посмотрим, сколько таких значений в столбце user_score."
   ]
  },
  {
   "cell_type": "code",
   "execution_count": 15,
   "metadata": {},
   "outputs": [
    {
     "data": {
      "text/plain": [
       "2376"
      ]
     },
     "execution_count": 15,
     "metadata": {},
     "output_type": "execute_result"
    }
   ],
   "source": [
    "(data['user_score']=='tbd').sum()"
   ]
  },
  {
   "cell_type": "markdown",
   "metadata": {},
   "source": [
    "Поскольку замена такого большого числа неизвестных значений на среднее/ медиану может исказить истинную структуру данных, предлагается эти значения заменить пропусками."
   ]
  },
  {
   "cell_type": "code",
   "execution_count": 16,
   "metadata": {},
   "outputs": [],
   "source": [
    "data['user_score'].replace('tbd', np.nan, inplace=True)"
   ]
  },
  {
   "cell_type": "code",
   "execution_count": 17,
   "metadata": {
    "scrolled": true
   },
   "outputs": [
    {
     "data": {
      "text/plain": [
       "0"
      ]
     },
     "execution_count": 17,
     "metadata": {},
     "output_type": "execute_result"
    }
   ],
   "source": [
    "(data['user_score']=='tbd').sum()#проверка того, что замена tbd на NaN прошла успешно"
   ]
  },
  {
   "cell_type": "markdown",
   "metadata": {},
   "source": [
    "Теперь пропусков в датафрейме стало больше, но для нашего анализа эти параметры не так критичны."
   ]
  },
  {
   "cell_type": "code",
   "execution_count": 18,
   "metadata": {},
   "outputs": [
    {
     "data": {
      "text/plain": [
       "name                0.000000\n",
       "platform            0.000000\n",
       "year_of_release     0.000000\n",
       "genre               0.000000\n",
       "na_sales            0.000000\n",
       "eu_sales            0.000000\n",
       "jp_sales            0.000000\n",
       "other_sales         0.000000\n",
       "rating             40.598395\n",
       "critic_score       51.453418\n",
       "user_score         54.615665\n",
       "dtype: float64"
      ]
     },
     "execution_count": 18,
     "metadata": {},
     "output_type": "execute_result"
    }
   ],
   "source": [
    "data.isna().sum().sort_values()/len(data)*100"
   ]
  },
  {
   "cell_type": "markdown",
   "metadata": {},
   "source": [
    "Теперь нужно заменить строковый тип в столбце user_score на численный (вещественный), чтобы его значения можно было сравнивать."
   ]
  },
  {
   "cell_type": "code",
   "execution_count": 19,
   "metadata": {},
   "outputs": [],
   "source": [
    "data['user_score']=pd.to_numeric(data['user_score'],errors='coerce') "
   ]
  },
  {
   "cell_type": "markdown",
   "metadata": {},
   "source": [
    "Проверим еще раз типы всех переменных."
   ]
  },
  {
   "cell_type": "code",
   "execution_count": 20,
   "metadata": {},
   "outputs": [
    {
     "name": "stdout",
     "output_type": "stream",
     "text": [
      "<class 'pandas.core.frame.DataFrame'>\n",
      "Int64Index: 16444 entries, 0 to 16714\n",
      "Data columns (total 11 columns):\n",
      " #   Column           Non-Null Count  Dtype  \n",
      "---  ------           --------------  -----  \n",
      " 0   name             16444 non-null  object \n",
      " 1   platform         16444 non-null  object \n",
      " 2   year_of_release  16444 non-null  int32  \n",
      " 3   genre            16444 non-null  object \n",
      " 4   na_sales         16444 non-null  float64\n",
      " 5   eu_sales         16444 non-null  float64\n",
      " 6   jp_sales         16444 non-null  float64\n",
      " 7   other_sales      16444 non-null  float64\n",
      " 8   critic_score     7983 non-null   float64\n",
      " 9   user_score       7463 non-null   float64\n",
      " 10  rating           9768 non-null   object \n",
      "dtypes: float64(6), int32(1), object(4)\n",
      "memory usage: 1.2+ MB\n"
     ]
    }
   ],
   "source": [
    "data.info()"
   ]
  },
  {
   "cell_type": "markdown",
   "metadata": {},
   "source": [
    "Все переменные имеют правильные типы."
   ]
  },
  {
   "cell_type": "markdown",
   "metadata": {},
   "source": [
    "2.3 Проверим данные на явные дубликаты."
   ]
  },
  {
   "cell_type": "code",
   "execution_count": 21,
   "metadata": {},
   "outputs": [
    {
     "data": {
      "text/plain": [
       "0"
      ]
     },
     "execution_count": 21,
     "metadata": {},
     "output_type": "execute_result"
    }
   ],
   "source": [
    "data.duplicated().sum()"
   ]
  },
  {
   "cell_type": "markdown",
   "metadata": {},
   "source": [
    "Явных дубликатов нет. \n",
    "\n",
    "Предобработка данных выполнена."
   ]
  },
  {
   "cell_type": "markdown",
   "metadata": {},
   "source": [
    "2.4 Создадим столбец продаж во всех регионах, назовем его total_sales. "
   ]
  },
  {
   "cell_type": "code",
   "execution_count": 22,
   "metadata": {},
   "outputs": [],
   "source": [
    "data['total_sales']=data['na_sales']+data['eu_sales']+data['jp_sales']+data['other_sales']"
   ]
  },
  {
   "cell_type": "markdown",
   "metadata": {},
   "source": [
    "Проверим корректность создания нового столбца."
   ]
  },
  {
   "cell_type": "code",
   "execution_count": 23,
   "metadata": {
    "scrolled": true
   },
   "outputs": [
    {
     "data": {
      "text/html": [
       "<div>\n",
       "<style scoped>\n",
       "    .dataframe tbody tr th:only-of-type {\n",
       "        vertical-align: middle;\n",
       "    }\n",
       "\n",
       "    .dataframe tbody tr th {\n",
       "        vertical-align: top;\n",
       "    }\n",
       "\n",
       "    .dataframe thead th {\n",
       "        text-align: right;\n",
       "    }\n",
       "</style>\n",
       "<table border=\"1\" class=\"dataframe\">\n",
       "  <thead>\n",
       "    <tr style=\"text-align: right;\">\n",
       "      <th></th>\n",
       "      <th>name</th>\n",
       "      <th>platform</th>\n",
       "      <th>year_of_release</th>\n",
       "      <th>genre</th>\n",
       "      <th>na_sales</th>\n",
       "      <th>eu_sales</th>\n",
       "      <th>jp_sales</th>\n",
       "      <th>other_sales</th>\n",
       "      <th>critic_score</th>\n",
       "      <th>user_score</th>\n",
       "      <th>rating</th>\n",
       "      <th>total_sales</th>\n",
       "    </tr>\n",
       "  </thead>\n",
       "  <tbody>\n",
       "    <tr>\n",
       "      <th>0</th>\n",
       "      <td>Wii Sports</td>\n",
       "      <td>Wii</td>\n",
       "      <td>2006</td>\n",
       "      <td>Sports</td>\n",
       "      <td>41.36</td>\n",
       "      <td>28.96</td>\n",
       "      <td>3.77</td>\n",
       "      <td>8.45</td>\n",
       "      <td>76.0</td>\n",
       "      <td>8.0</td>\n",
       "      <td>E</td>\n",
       "      <td>82.54</td>\n",
       "    </tr>\n",
       "    <tr>\n",
       "      <th>1</th>\n",
       "      <td>Super Mario Bros.</td>\n",
       "      <td>NES</td>\n",
       "      <td>1985</td>\n",
       "      <td>Platform</td>\n",
       "      <td>29.08</td>\n",
       "      <td>3.58</td>\n",
       "      <td>6.81</td>\n",
       "      <td>0.77</td>\n",
       "      <td>NaN</td>\n",
       "      <td>NaN</td>\n",
       "      <td>NaN</td>\n",
       "      <td>40.24</td>\n",
       "    </tr>\n",
       "    <tr>\n",
       "      <th>2</th>\n",
       "      <td>Mario Kart Wii</td>\n",
       "      <td>Wii</td>\n",
       "      <td>2008</td>\n",
       "      <td>Racing</td>\n",
       "      <td>15.68</td>\n",
       "      <td>12.76</td>\n",
       "      <td>3.79</td>\n",
       "      <td>3.29</td>\n",
       "      <td>82.0</td>\n",
       "      <td>8.3</td>\n",
       "      <td>E</td>\n",
       "      <td>35.52</td>\n",
       "    </tr>\n",
       "    <tr>\n",
       "      <th>3</th>\n",
       "      <td>Wii Sports Resort</td>\n",
       "      <td>Wii</td>\n",
       "      <td>2009</td>\n",
       "      <td>Sports</td>\n",
       "      <td>15.61</td>\n",
       "      <td>10.93</td>\n",
       "      <td>3.28</td>\n",
       "      <td>2.95</td>\n",
       "      <td>80.0</td>\n",
       "      <td>8.0</td>\n",
       "      <td>E</td>\n",
       "      <td>32.77</td>\n",
       "    </tr>\n",
       "    <tr>\n",
       "      <th>4</th>\n",
       "      <td>Pokemon Red/Pokemon Blue</td>\n",
       "      <td>GB</td>\n",
       "      <td>1996</td>\n",
       "      <td>Role-Playing</td>\n",
       "      <td>11.27</td>\n",
       "      <td>8.89</td>\n",
       "      <td>10.22</td>\n",
       "      <td>1.00</td>\n",
       "      <td>NaN</td>\n",
       "      <td>NaN</td>\n",
       "      <td>NaN</td>\n",
       "      <td>31.38</td>\n",
       "    </tr>\n",
       "    <tr>\n",
       "      <th>5</th>\n",
       "      <td>Tetris</td>\n",
       "      <td>GB</td>\n",
       "      <td>1989</td>\n",
       "      <td>Puzzle</td>\n",
       "      <td>23.20</td>\n",
       "      <td>2.26</td>\n",
       "      <td>4.22</td>\n",
       "      <td>0.58</td>\n",
       "      <td>NaN</td>\n",
       "      <td>NaN</td>\n",
       "      <td>NaN</td>\n",
       "      <td>30.26</td>\n",
       "    </tr>\n",
       "    <tr>\n",
       "      <th>6</th>\n",
       "      <td>New Super Mario Bros.</td>\n",
       "      <td>DS</td>\n",
       "      <td>2006</td>\n",
       "      <td>Platform</td>\n",
       "      <td>11.28</td>\n",
       "      <td>9.14</td>\n",
       "      <td>6.50</td>\n",
       "      <td>2.88</td>\n",
       "      <td>89.0</td>\n",
       "      <td>8.5</td>\n",
       "      <td>E</td>\n",
       "      <td>29.80</td>\n",
       "    </tr>\n",
       "    <tr>\n",
       "      <th>7</th>\n",
       "      <td>Wii Play</td>\n",
       "      <td>Wii</td>\n",
       "      <td>2006</td>\n",
       "      <td>Misc</td>\n",
       "      <td>13.96</td>\n",
       "      <td>9.18</td>\n",
       "      <td>2.93</td>\n",
       "      <td>2.84</td>\n",
       "      <td>58.0</td>\n",
       "      <td>6.6</td>\n",
       "      <td>E</td>\n",
       "      <td>28.91</td>\n",
       "    </tr>\n",
       "    <tr>\n",
       "      <th>8</th>\n",
       "      <td>New Super Mario Bros. Wii</td>\n",
       "      <td>Wii</td>\n",
       "      <td>2009</td>\n",
       "      <td>Platform</td>\n",
       "      <td>14.44</td>\n",
       "      <td>6.94</td>\n",
       "      <td>4.70</td>\n",
       "      <td>2.24</td>\n",
       "      <td>87.0</td>\n",
       "      <td>8.4</td>\n",
       "      <td>E</td>\n",
       "      <td>28.32</td>\n",
       "    </tr>\n",
       "    <tr>\n",
       "      <th>9</th>\n",
       "      <td>Duck Hunt</td>\n",
       "      <td>NES</td>\n",
       "      <td>1984</td>\n",
       "      <td>Shooter</td>\n",
       "      <td>26.93</td>\n",
       "      <td>0.63</td>\n",
       "      <td>0.28</td>\n",
       "      <td>0.47</td>\n",
       "      <td>NaN</td>\n",
       "      <td>NaN</td>\n",
       "      <td>NaN</td>\n",
       "      <td>28.31</td>\n",
       "    </tr>\n",
       "  </tbody>\n",
       "</table>\n",
       "</div>"
      ],
      "text/plain": [
       "                        name platform  year_of_release         genre  \\\n",
       "0                 Wii Sports      Wii             2006        Sports   \n",
       "1          Super Mario Bros.      NES             1985      Platform   \n",
       "2             Mario Kart Wii      Wii             2008        Racing   \n",
       "3          Wii Sports Resort      Wii             2009        Sports   \n",
       "4   Pokemon Red/Pokemon Blue       GB             1996  Role-Playing   \n",
       "5                     Tetris       GB             1989        Puzzle   \n",
       "6      New Super Mario Bros.       DS             2006      Platform   \n",
       "7                   Wii Play      Wii             2006          Misc   \n",
       "8  New Super Mario Bros. Wii      Wii             2009      Platform   \n",
       "9                  Duck Hunt      NES             1984       Shooter   \n",
       "\n",
       "   na_sales  eu_sales  jp_sales  other_sales  critic_score  user_score rating  \\\n",
       "0     41.36     28.96      3.77         8.45          76.0         8.0      E   \n",
       "1     29.08      3.58      6.81         0.77           NaN         NaN    NaN   \n",
       "2     15.68     12.76      3.79         3.29          82.0         8.3      E   \n",
       "3     15.61     10.93      3.28         2.95          80.0         8.0      E   \n",
       "4     11.27      8.89     10.22         1.00           NaN         NaN    NaN   \n",
       "5     23.20      2.26      4.22         0.58           NaN         NaN    NaN   \n",
       "6     11.28      9.14      6.50         2.88          89.0         8.5      E   \n",
       "7     13.96      9.18      2.93         2.84          58.0         6.6      E   \n",
       "8     14.44      6.94      4.70         2.24          87.0         8.4      E   \n",
       "9     26.93      0.63      0.28         0.47           NaN         NaN    NaN   \n",
       "\n",
       "   total_sales  \n",
       "0        82.54  \n",
       "1        40.24  \n",
       "2        35.52  \n",
       "3        32.77  \n",
       "4        31.38  \n",
       "5        30.26  \n",
       "6        29.80  \n",
       "7        28.91  \n",
       "8        28.32  \n",
       "9        28.31  "
      ]
     },
     "metadata": {},
     "output_type": "display_data"
    }
   ],
   "source": [
    "display(data.head(10))"
   ]
  },
  {
   "cell_type": "markdown",
   "metadata": {},
   "source": [
    "Теперь данные готовы для исследовательского анализа."
   ]
  },
  {
   "cell_type": "markdown",
   "metadata": {},
   "source": [
    "<a id='section3'></a>\n",
    "3. Исследовательский анализ данных"
   ]
  },
  {
   "cell_type": "markdown",
   "metadata": {},
   "source": [
    "3.1 Сгруппируем данные по году выпуска игры, посмотрим, сколько игр выпускалось в разные годы."
   ]
  },
  {
   "cell_type": "code",
   "execution_count": 24,
   "metadata": {
    "scrolled": true
   },
   "outputs": [
    {
     "data": {
      "text/html": [
       "<div>\n",
       "<style scoped>\n",
       "    .dataframe tbody tr th:only-of-type {\n",
       "        vertical-align: middle;\n",
       "    }\n",
       "\n",
       "    .dataframe tbody tr th {\n",
       "        vertical-align: top;\n",
       "    }\n",
       "\n",
       "    .dataframe thead th {\n",
       "        text-align: right;\n",
       "    }\n",
       "</style>\n",
       "<table border=\"1\" class=\"dataframe\">\n",
       "  <thead>\n",
       "    <tr style=\"text-align: right;\">\n",
       "      <th></th>\n",
       "      <th>name</th>\n",
       "      <th>platform</th>\n",
       "      <th>genre</th>\n",
       "      <th>na_sales</th>\n",
       "      <th>eu_sales</th>\n",
       "      <th>jp_sales</th>\n",
       "      <th>other_sales</th>\n",
       "      <th>critic_score</th>\n",
       "      <th>user_score</th>\n",
       "      <th>rating</th>\n",
       "      <th>total_sales</th>\n",
       "    </tr>\n",
       "    <tr>\n",
       "      <th>year_of_release</th>\n",
       "      <th></th>\n",
       "      <th></th>\n",
       "      <th></th>\n",
       "      <th></th>\n",
       "      <th></th>\n",
       "      <th></th>\n",
       "      <th></th>\n",
       "      <th></th>\n",
       "      <th></th>\n",
       "      <th></th>\n",
       "      <th></th>\n",
       "    </tr>\n",
       "  </thead>\n",
       "  <tbody>\n",
       "    <tr>\n",
       "      <th>1980</th>\n",
       "      <td>9</td>\n",
       "      <td>9</td>\n",
       "      <td>9</td>\n",
       "      <td>9</td>\n",
       "      <td>9</td>\n",
       "      <td>9</td>\n",
       "      <td>9</td>\n",
       "      <td>0</td>\n",
       "      <td>0</td>\n",
       "      <td>0</td>\n",
       "      <td>9</td>\n",
       "    </tr>\n",
       "    <tr>\n",
       "      <th>1981</th>\n",
       "      <td>46</td>\n",
       "      <td>46</td>\n",
       "      <td>46</td>\n",
       "      <td>46</td>\n",
       "      <td>46</td>\n",
       "      <td>46</td>\n",
       "      <td>46</td>\n",
       "      <td>0</td>\n",
       "      <td>0</td>\n",
       "      <td>0</td>\n",
       "      <td>46</td>\n",
       "    </tr>\n",
       "    <tr>\n",
       "      <th>1982</th>\n",
       "      <td>36</td>\n",
       "      <td>36</td>\n",
       "      <td>36</td>\n",
       "      <td>36</td>\n",
       "      <td>36</td>\n",
       "      <td>36</td>\n",
       "      <td>36</td>\n",
       "      <td>0</td>\n",
       "      <td>0</td>\n",
       "      <td>0</td>\n",
       "      <td>36</td>\n",
       "    </tr>\n",
       "    <tr>\n",
       "      <th>1983</th>\n",
       "      <td>17</td>\n",
       "      <td>17</td>\n",
       "      <td>17</td>\n",
       "      <td>17</td>\n",
       "      <td>17</td>\n",
       "      <td>17</td>\n",
       "      <td>17</td>\n",
       "      <td>0</td>\n",
       "      <td>0</td>\n",
       "      <td>0</td>\n",
       "      <td>17</td>\n",
       "    </tr>\n",
       "    <tr>\n",
       "      <th>1984</th>\n",
       "      <td>14</td>\n",
       "      <td>14</td>\n",
       "      <td>14</td>\n",
       "      <td>14</td>\n",
       "      <td>14</td>\n",
       "      <td>14</td>\n",
       "      <td>14</td>\n",
       "      <td>0</td>\n",
       "      <td>0</td>\n",
       "      <td>0</td>\n",
       "      <td>14</td>\n",
       "    </tr>\n",
       "    <tr>\n",
       "      <th>1985</th>\n",
       "      <td>14</td>\n",
       "      <td>14</td>\n",
       "      <td>14</td>\n",
       "      <td>14</td>\n",
       "      <td>14</td>\n",
       "      <td>14</td>\n",
       "      <td>14</td>\n",
       "      <td>1</td>\n",
       "      <td>1</td>\n",
       "      <td>1</td>\n",
       "      <td>14</td>\n",
       "    </tr>\n",
       "    <tr>\n",
       "      <th>1986</th>\n",
       "      <td>21</td>\n",
       "      <td>21</td>\n",
       "      <td>21</td>\n",
       "      <td>21</td>\n",
       "      <td>21</td>\n",
       "      <td>21</td>\n",
       "      <td>21</td>\n",
       "      <td>0</td>\n",
       "      <td>0</td>\n",
       "      <td>0</td>\n",
       "      <td>21</td>\n",
       "    </tr>\n",
       "    <tr>\n",
       "      <th>1987</th>\n",
       "      <td>16</td>\n",
       "      <td>16</td>\n",
       "      <td>16</td>\n",
       "      <td>16</td>\n",
       "      <td>16</td>\n",
       "      <td>16</td>\n",
       "      <td>16</td>\n",
       "      <td>0</td>\n",
       "      <td>0</td>\n",
       "      <td>0</td>\n",
       "      <td>16</td>\n",
       "    </tr>\n",
       "    <tr>\n",
       "      <th>1988</th>\n",
       "      <td>15</td>\n",
       "      <td>15</td>\n",
       "      <td>15</td>\n",
       "      <td>15</td>\n",
       "      <td>15</td>\n",
       "      <td>15</td>\n",
       "      <td>15</td>\n",
       "      <td>1</td>\n",
       "      <td>1</td>\n",
       "      <td>1</td>\n",
       "      <td>15</td>\n",
       "    </tr>\n",
       "    <tr>\n",
       "      <th>1989</th>\n",
       "      <td>17</td>\n",
       "      <td>17</td>\n",
       "      <td>17</td>\n",
       "      <td>17</td>\n",
       "      <td>17</td>\n",
       "      <td>17</td>\n",
       "      <td>17</td>\n",
       "      <td>0</td>\n",
       "      <td>0</td>\n",
       "      <td>0</td>\n",
       "      <td>17</td>\n",
       "    </tr>\n",
       "    <tr>\n",
       "      <th>1990</th>\n",
       "      <td>16</td>\n",
       "      <td>16</td>\n",
       "      <td>16</td>\n",
       "      <td>16</td>\n",
       "      <td>16</td>\n",
       "      <td>16</td>\n",
       "      <td>16</td>\n",
       "      <td>0</td>\n",
       "      <td>0</td>\n",
       "      <td>0</td>\n",
       "      <td>16</td>\n",
       "    </tr>\n",
       "    <tr>\n",
       "      <th>1991</th>\n",
       "      <td>41</td>\n",
       "      <td>41</td>\n",
       "      <td>41</td>\n",
       "      <td>41</td>\n",
       "      <td>41</td>\n",
       "      <td>41</td>\n",
       "      <td>41</td>\n",
       "      <td>0</td>\n",
       "      <td>0</td>\n",
       "      <td>0</td>\n",
       "      <td>41</td>\n",
       "    </tr>\n",
       "    <tr>\n",
       "      <th>1992</th>\n",
       "      <td>43</td>\n",
       "      <td>43</td>\n",
       "      <td>43</td>\n",
       "      <td>43</td>\n",
       "      <td>43</td>\n",
       "      <td>43</td>\n",
       "      <td>43</td>\n",
       "      <td>1</td>\n",
       "      <td>1</td>\n",
       "      <td>2</td>\n",
       "      <td>43</td>\n",
       "    </tr>\n",
       "    <tr>\n",
       "      <th>1993</th>\n",
       "      <td>60</td>\n",
       "      <td>60</td>\n",
       "      <td>60</td>\n",
       "      <td>60</td>\n",
       "      <td>60</td>\n",
       "      <td>60</td>\n",
       "      <td>60</td>\n",
       "      <td>0</td>\n",
       "      <td>0</td>\n",
       "      <td>0</td>\n",
       "      <td>60</td>\n",
       "    </tr>\n",
       "    <tr>\n",
       "      <th>1994</th>\n",
       "      <td>121</td>\n",
       "      <td>121</td>\n",
       "      <td>121</td>\n",
       "      <td>121</td>\n",
       "      <td>121</td>\n",
       "      <td>121</td>\n",
       "      <td>121</td>\n",
       "      <td>1</td>\n",
       "      <td>1</td>\n",
       "      <td>1</td>\n",
       "      <td>121</td>\n",
       "    </tr>\n",
       "    <tr>\n",
       "      <th>1995</th>\n",
       "      <td>219</td>\n",
       "      <td>219</td>\n",
       "      <td>219</td>\n",
       "      <td>219</td>\n",
       "      <td>219</td>\n",
       "      <td>219</td>\n",
       "      <td>219</td>\n",
       "      <td>0</td>\n",
       "      <td>0</td>\n",
       "      <td>0</td>\n",
       "      <td>219</td>\n",
       "    </tr>\n",
       "    <tr>\n",
       "      <th>1996</th>\n",
       "      <td>263</td>\n",
       "      <td>263</td>\n",
       "      <td>263</td>\n",
       "      <td>263</td>\n",
       "      <td>263</td>\n",
       "      <td>263</td>\n",
       "      <td>263</td>\n",
       "      <td>8</td>\n",
       "      <td>8</td>\n",
       "      <td>7</td>\n",
       "      <td>263</td>\n",
       "    </tr>\n",
       "    <tr>\n",
       "      <th>1997</th>\n",
       "      <td>289</td>\n",
       "      <td>289</td>\n",
       "      <td>289</td>\n",
       "      <td>289</td>\n",
       "      <td>289</td>\n",
       "      <td>289</td>\n",
       "      <td>289</td>\n",
       "      <td>17</td>\n",
       "      <td>18</td>\n",
       "      <td>19</td>\n",
       "      <td>289</td>\n",
       "    </tr>\n",
       "    <tr>\n",
       "      <th>1998</th>\n",
       "      <td>379</td>\n",
       "      <td>379</td>\n",
       "      <td>379</td>\n",
       "      <td>379</td>\n",
       "      <td>379</td>\n",
       "      <td>379</td>\n",
       "      <td>379</td>\n",
       "      <td>28</td>\n",
       "      <td>31</td>\n",
       "      <td>32</td>\n",
       "      <td>379</td>\n",
       "    </tr>\n",
       "    <tr>\n",
       "      <th>1999</th>\n",
       "      <td>338</td>\n",
       "      <td>338</td>\n",
       "      <td>338</td>\n",
       "      <td>338</td>\n",
       "      <td>338</td>\n",
       "      <td>338</td>\n",
       "      <td>338</td>\n",
       "      <td>39</td>\n",
       "      <td>31</td>\n",
       "      <td>42</td>\n",
       "      <td>338</td>\n",
       "    </tr>\n",
       "    <tr>\n",
       "      <th>2000</th>\n",
       "      <td>350</td>\n",
       "      <td>350</td>\n",
       "      <td>350</td>\n",
       "      <td>350</td>\n",
       "      <td>350</td>\n",
       "      <td>350</td>\n",
       "      <td>350</td>\n",
       "      <td>143</td>\n",
       "      <td>107</td>\n",
       "      <td>148</td>\n",
       "      <td>350</td>\n",
       "    </tr>\n",
       "    <tr>\n",
       "      <th>2001</th>\n",
       "      <td>482</td>\n",
       "      <td>482</td>\n",
       "      <td>482</td>\n",
       "      <td>482</td>\n",
       "      <td>482</td>\n",
       "      <td>482</td>\n",
       "      <td>482</td>\n",
       "      <td>326</td>\n",
       "      <td>257</td>\n",
       "      <td>339</td>\n",
       "      <td>482</td>\n",
       "    </tr>\n",
       "    <tr>\n",
       "      <th>2002</th>\n",
       "      <td>829</td>\n",
       "      <td>829</td>\n",
       "      <td>829</td>\n",
       "      <td>829</td>\n",
       "      <td>829</td>\n",
       "      <td>829</td>\n",
       "      <td>829</td>\n",
       "      <td>627</td>\n",
       "      <td>464</td>\n",
       "      <td>655</td>\n",
       "      <td>829</td>\n",
       "    </tr>\n",
       "    <tr>\n",
       "      <th>2003</th>\n",
       "      <td>775</td>\n",
       "      <td>775</td>\n",
       "      <td>775</td>\n",
       "      <td>775</td>\n",
       "      <td>775</td>\n",
       "      <td>775</td>\n",
       "      <td>775</td>\n",
       "      <td>585</td>\n",
       "      <td>516</td>\n",
       "      <td>613</td>\n",
       "      <td>775</td>\n",
       "    </tr>\n",
       "    <tr>\n",
       "      <th>2004</th>\n",
       "      <td>762</td>\n",
       "      <td>762</td>\n",
       "      <td>762</td>\n",
       "      <td>762</td>\n",
       "      <td>762</td>\n",
       "      <td>762</td>\n",
       "      <td>762</td>\n",
       "      <td>561</td>\n",
       "      <td>489</td>\n",
       "      <td>598</td>\n",
       "      <td>762</td>\n",
       "    </tr>\n",
       "    <tr>\n",
       "      <th>2005</th>\n",
       "      <td>939</td>\n",
       "      <td>939</td>\n",
       "      <td>939</td>\n",
       "      <td>939</td>\n",
       "      <td>939</td>\n",
       "      <td>939</td>\n",
       "      <td>939</td>\n",
       "      <td>655</td>\n",
       "      <td>583</td>\n",
       "      <td>706</td>\n",
       "      <td>939</td>\n",
       "    </tr>\n",
       "    <tr>\n",
       "      <th>2006</th>\n",
       "      <td>1006</td>\n",
       "      <td>1006</td>\n",
       "      <td>1006</td>\n",
       "      <td>1006</td>\n",
       "      <td>1006</td>\n",
       "      <td>1006</td>\n",
       "      <td>1006</td>\n",
       "      <td>620</td>\n",
       "      <td>552</td>\n",
       "      <td>678</td>\n",
       "      <td>1006</td>\n",
       "    </tr>\n",
       "    <tr>\n",
       "      <th>2007</th>\n",
       "      <td>1197</td>\n",
       "      <td>1197</td>\n",
       "      <td>1197</td>\n",
       "      <td>1197</td>\n",
       "      <td>1197</td>\n",
       "      <td>1197</td>\n",
       "      <td>1197</td>\n",
       "      <td>692</td>\n",
       "      <td>629</td>\n",
       "      <td>821</td>\n",
       "      <td>1197</td>\n",
       "    </tr>\n",
       "    <tr>\n",
       "      <th>2008</th>\n",
       "      <td>1427</td>\n",
       "      <td>1427</td>\n",
       "      <td>1427</td>\n",
       "      <td>1427</td>\n",
       "      <td>1427</td>\n",
       "      <td>1427</td>\n",
       "      <td>1427</td>\n",
       "      <td>715</td>\n",
       "      <td>661</td>\n",
       "      <td>981</td>\n",
       "      <td>1427</td>\n",
       "    </tr>\n",
       "    <tr>\n",
       "      <th>2009</th>\n",
       "      <td>1426</td>\n",
       "      <td>1426</td>\n",
       "      <td>1426</td>\n",
       "      <td>1426</td>\n",
       "      <td>1426</td>\n",
       "      <td>1426</td>\n",
       "      <td>1426</td>\n",
       "      <td>651</td>\n",
       "      <td>614</td>\n",
       "      <td>1011</td>\n",
       "      <td>1426</td>\n",
       "    </tr>\n",
       "    <tr>\n",
       "      <th>2010</th>\n",
       "      <td>1255</td>\n",
       "      <td>1255</td>\n",
       "      <td>1255</td>\n",
       "      <td>1255</td>\n",
       "      <td>1255</td>\n",
       "      <td>1255</td>\n",
       "      <td>1255</td>\n",
       "      <td>500</td>\n",
       "      <td>467</td>\n",
       "      <td>799</td>\n",
       "      <td>1255</td>\n",
       "    </tr>\n",
       "    <tr>\n",
       "      <th>2011</th>\n",
       "      <td>1136</td>\n",
       "      <td>1136</td>\n",
       "      <td>1136</td>\n",
       "      <td>1136</td>\n",
       "      <td>1136</td>\n",
       "      <td>1136</td>\n",
       "      <td>1136</td>\n",
       "      <td>500</td>\n",
       "      <td>501</td>\n",
       "      <td>703</td>\n",
       "      <td>1136</td>\n",
       "    </tr>\n",
       "    <tr>\n",
       "      <th>2012</th>\n",
       "      <td>653</td>\n",
       "      <td>653</td>\n",
       "      <td>653</td>\n",
       "      <td>653</td>\n",
       "      <td>653</td>\n",
       "      <td>653</td>\n",
       "      <td>653</td>\n",
       "      <td>321</td>\n",
       "      <td>339</td>\n",
       "      <td>355</td>\n",
       "      <td>653</td>\n",
       "    </tr>\n",
       "    <tr>\n",
       "      <th>2013</th>\n",
       "      <td>544</td>\n",
       "      <td>544</td>\n",
       "      <td>544</td>\n",
       "      <td>544</td>\n",
       "      <td>544</td>\n",
       "      <td>544</td>\n",
       "      <td>544</td>\n",
       "      <td>273</td>\n",
       "      <td>304</td>\n",
       "      <td>316</td>\n",
       "      <td>544</td>\n",
       "    </tr>\n",
       "    <tr>\n",
       "      <th>2014</th>\n",
       "      <td>581</td>\n",
       "      <td>581</td>\n",
       "      <td>581</td>\n",
       "      <td>581</td>\n",
       "      <td>581</td>\n",
       "      <td>581</td>\n",
       "      <td>581</td>\n",
       "      <td>261</td>\n",
       "      <td>329</td>\n",
       "      <td>345</td>\n",
       "      <td>581</td>\n",
       "    </tr>\n",
       "    <tr>\n",
       "      <th>2015</th>\n",
       "      <td>606</td>\n",
       "      <td>606</td>\n",
       "      <td>606</td>\n",
       "      <td>606</td>\n",
       "      <td>606</td>\n",
       "      <td>606</td>\n",
       "      <td>606</td>\n",
       "      <td>225</td>\n",
       "      <td>297</td>\n",
       "      <td>315</td>\n",
       "      <td>606</td>\n",
       "    </tr>\n",
       "    <tr>\n",
       "      <th>2016</th>\n",
       "      <td>502</td>\n",
       "      <td>502</td>\n",
       "      <td>502</td>\n",
       "      <td>502</td>\n",
       "      <td>502</td>\n",
       "      <td>502</td>\n",
       "      <td>502</td>\n",
       "      <td>232</td>\n",
       "      <td>262</td>\n",
       "      <td>280</td>\n",
       "      <td>502</td>\n",
       "    </tr>\n",
       "  </tbody>\n",
       "</table>\n",
       "</div>"
      ],
      "text/plain": [
       "                 name  platform  genre  na_sales  eu_sales  jp_sales  \\\n",
       "year_of_release                                                        \n",
       "1980                9         9      9         9         9         9   \n",
       "1981               46        46     46        46        46        46   \n",
       "1982               36        36     36        36        36        36   \n",
       "1983               17        17     17        17        17        17   \n",
       "1984               14        14     14        14        14        14   \n",
       "1985               14        14     14        14        14        14   \n",
       "1986               21        21     21        21        21        21   \n",
       "1987               16        16     16        16        16        16   \n",
       "1988               15        15     15        15        15        15   \n",
       "1989               17        17     17        17        17        17   \n",
       "1990               16        16     16        16        16        16   \n",
       "1991               41        41     41        41        41        41   \n",
       "1992               43        43     43        43        43        43   \n",
       "1993               60        60     60        60        60        60   \n",
       "1994              121       121    121       121       121       121   \n",
       "1995              219       219    219       219       219       219   \n",
       "1996              263       263    263       263       263       263   \n",
       "1997              289       289    289       289       289       289   \n",
       "1998              379       379    379       379       379       379   \n",
       "1999              338       338    338       338       338       338   \n",
       "2000              350       350    350       350       350       350   \n",
       "2001              482       482    482       482       482       482   \n",
       "2002              829       829    829       829       829       829   \n",
       "2003              775       775    775       775       775       775   \n",
       "2004              762       762    762       762       762       762   \n",
       "2005              939       939    939       939       939       939   \n",
       "2006             1006      1006   1006      1006      1006      1006   \n",
       "2007             1197      1197   1197      1197      1197      1197   \n",
       "2008             1427      1427   1427      1427      1427      1427   \n",
       "2009             1426      1426   1426      1426      1426      1426   \n",
       "2010             1255      1255   1255      1255      1255      1255   \n",
       "2011             1136      1136   1136      1136      1136      1136   \n",
       "2012              653       653    653       653       653       653   \n",
       "2013              544       544    544       544       544       544   \n",
       "2014              581       581    581       581       581       581   \n",
       "2015              606       606    606       606       606       606   \n",
       "2016              502       502    502       502       502       502   \n",
       "\n",
       "                 other_sales  critic_score  user_score  rating  total_sales  \n",
       "year_of_release                                                              \n",
       "1980                       9             0           0       0            9  \n",
       "1981                      46             0           0       0           46  \n",
       "1982                      36             0           0       0           36  \n",
       "1983                      17             0           0       0           17  \n",
       "1984                      14             0           0       0           14  \n",
       "1985                      14             1           1       1           14  \n",
       "1986                      21             0           0       0           21  \n",
       "1987                      16             0           0       0           16  \n",
       "1988                      15             1           1       1           15  \n",
       "1989                      17             0           0       0           17  \n",
       "1990                      16             0           0       0           16  \n",
       "1991                      41             0           0       0           41  \n",
       "1992                      43             1           1       2           43  \n",
       "1993                      60             0           0       0           60  \n",
       "1994                     121             1           1       1          121  \n",
       "1995                     219             0           0       0          219  \n",
       "1996                     263             8           8       7          263  \n",
       "1997                     289            17          18      19          289  \n",
       "1998                     379            28          31      32          379  \n",
       "1999                     338            39          31      42          338  \n",
       "2000                     350           143         107     148          350  \n",
       "2001                     482           326         257     339          482  \n",
       "2002                     829           627         464     655          829  \n",
       "2003                     775           585         516     613          775  \n",
       "2004                     762           561         489     598          762  \n",
       "2005                     939           655         583     706          939  \n",
       "2006                    1006           620         552     678         1006  \n",
       "2007                    1197           692         629     821         1197  \n",
       "2008                    1427           715         661     981         1427  \n",
       "2009                    1426           651         614    1011         1426  \n",
       "2010                    1255           500         467     799         1255  \n",
       "2011                    1136           500         501     703         1136  \n",
       "2012                     653           321         339     355          653  \n",
       "2013                     544           273         304     316          544  \n",
       "2014                     581           261         329     345          581  \n",
       "2015                     606           225         297     315          606  \n",
       "2016                     502           232         262     280          502  "
      ]
     },
     "metadata": {},
     "output_type": "display_data"
    }
   ],
   "source": [
    "data_years = data.groupby('year_of_release').count()\n",
    "display(data_years)"
   ]
  },
  {
   "cell_type": "markdown",
   "metadata": {},
   "source": [
    "Для наглядности построим столбчатую диаграмму для числа игр, выпущенных  в разные года."
   ]
  },
  {
   "cell_type": "code",
   "execution_count": 25,
   "metadata": {},
   "outputs": [
    {
     "data": {
      "image/png": "[encoded data removed]",
      "text/plain": [
       "<Figure size 864x576 with 1 Axes>"
      ]
     },
     "metadata": {
      "needs_background": "light"
     },
     "output_type": "display_data"
    }
   ],
   "source": [
    "data_years['name'].plot.bar(figsize=(12,8))\n",
    "plt.title('Число выпущенных игр по годам') \n",
    "plt.xlabel('год') \n",
    "plt.ylabel('число игр') \n",
    "plt.show() "
   ]
  },
  {
   "cell_type": "markdown",
   "metadata": {},
   "source": [
    "Из таблицы и графика видно, что до 1993 года игр выходило совсем мало (двузначное число в год). \n",
    "\n",
    "Затем с 1994 по 2009 наблюдается стабильный рост числа игр до максимума в 2008-2009 году (1426 игр). \n",
    "\n",
    "С 2010 года происходит резкий спад числа выпущенных игр, и с 2012 по 2016 наблюдается некоторая стабильность: в год выходят примерно 500-600 игр.\n",
    "\n",
    "Удалим из таблицы данные за 1980-1993 год, они не принесут нам полезной информации, но могут попортить визуализацию нужных нам данных."
   ]
  },
  {
   "cell_type": "code",
   "execution_count": 26,
   "metadata": {},
   "outputs": [],
   "source": [
    "data=data[data['year_of_release']>1993]"
   ]
  },
  {
   "cell_type": "markdown",
   "metadata": {},
   "source": [
    "3.2 Посмотрим, как менялись продажи по платформам."
   ]
  },
  {
   "cell_type": "markdown",
   "metadata": {},
   "source": [
    "Выберем платформы с наибольшими суммарными продажами."
   ]
  },
  {
   "cell_type": "code",
   "execution_count": 27,
   "metadata": {},
   "outputs": [
    {
     "data": {
      "text/html": [
       "<div>\n",
       "<style scoped>\n",
       "    .dataframe tbody tr th:only-of-type {\n",
       "        vertical-align: middle;\n",
       "    }\n",
       "\n",
       "    .dataframe tbody tr th {\n",
       "        vertical-align: top;\n",
       "    }\n",
       "\n",
       "    .dataframe thead th {\n",
       "        text-align: right;\n",
       "    }\n",
       "</style>\n",
       "<table border=\"1\" class=\"dataframe\">\n",
       "  <thead>\n",
       "    <tr style=\"text-align: right;\">\n",
       "      <th></th>\n",
       "      <th>total_sales</th>\n",
       "    </tr>\n",
       "    <tr>\n",
       "      <th>platform</th>\n",
       "      <th></th>\n",
       "    </tr>\n",
       "  </thead>\n",
       "  <tbody>\n",
       "    <tr>\n",
       "      <th>PS2</th>\n",
       "      <td>1233.56</td>\n",
       "    </tr>\n",
       "    <tr>\n",
       "      <th>X360</th>\n",
       "      <td>961.24</td>\n",
       "    </tr>\n",
       "    <tr>\n",
       "      <th>PS3</th>\n",
       "      <td>931.34</td>\n",
       "    </tr>\n",
       "    <tr>\n",
       "      <th>Wii</th>\n",
       "      <td>891.18</td>\n",
       "    </tr>\n",
       "    <tr>\n",
       "      <th>DS</th>\n",
       "      <td>802.76</td>\n",
       "    </tr>\n",
       "    <tr>\n",
       "      <th>PS</th>\n",
       "      <td>727.58</td>\n",
       "    </tr>\n",
       "    <tr>\n",
       "      <th>PS4</th>\n",
       "      <td>314.14</td>\n",
       "    </tr>\n",
       "    <tr>\n",
       "      <th>GBA</th>\n",
       "      <td>312.88</td>\n",
       "    </tr>\n",
       "    <tr>\n",
       "      <th>PSP</th>\n",
       "      <td>289.53</td>\n",
       "    </tr>\n",
       "    <tr>\n",
       "      <th>3DS</th>\n",
       "      <td>257.81</td>\n",
       "    </tr>\n",
       "  </tbody>\n",
       "</table>\n",
       "</div>"
      ],
      "text/plain": [
       "          total_sales\n",
       "platform             \n",
       "PS2           1233.56\n",
       "X360           961.24\n",
       "PS3            931.34\n",
       "Wii            891.18\n",
       "DS             802.76\n",
       "PS             727.58\n",
       "PS4            314.14\n",
       "GBA            312.88\n",
       "PSP            289.53\n",
       "3DS            257.81"
      ]
     },
     "execution_count": 27,
     "metadata": {},
     "output_type": "execute_result"
    }
   ],
   "source": [
    "data.pivot_table(index='platform', values='total_sales',aggfunc='sum').sort_values(by='total_sales',ascending=False).head(10)"
   ]
  },
  {
   "cell_type": "markdown",
   "metadata": {},
   "source": [
    "Наибольшие продажи у платформ PS2, X360, PS3, Wii, DS, PS."
   ]
  },
  {
   "cell_type": "markdown",
   "metadata": {},
   "source": [
    "Создадим датафрейм с продажами только по этим платформам."
   ]
  },
  {
   "cell_type": "code",
   "execution_count": 28,
   "metadata": {},
   "outputs": [],
   "source": [
    "platforms=['PS2','X360','PS3','Wii','DS','PS']"
   ]
  },
  {
   "cell_type": "code",
   "execution_count": 29,
   "metadata": {},
   "outputs": [],
   "source": [
    "data_platform=data[data['platform'].isin(platforms)]"
   ]
  },
  {
   "cell_type": "markdown",
   "metadata": {},
   "source": [
    "Сводная таблица для продаж по годам по каждой платформе получается очень большой."
   ]
  },
  {
   "cell_type": "code",
   "execution_count": 30,
   "metadata": {},
   "outputs": [
    {
     "data": {
      "text/html": [
       "<div>\n",
       "<style scoped>\n",
       "    .dataframe tbody tr th:only-of-type {\n",
       "        vertical-align: middle;\n",
       "    }\n",
       "\n",
       "    .dataframe tbody tr th {\n",
       "        vertical-align: top;\n",
       "    }\n",
       "\n",
       "    .dataframe thead th {\n",
       "        text-align: right;\n",
       "    }\n",
       "</style>\n",
       "<table border=\"1\" class=\"dataframe\">\n",
       "  <thead>\n",
       "    <tr style=\"text-align: right;\">\n",
       "      <th></th>\n",
       "      <th></th>\n",
       "      <th>total_sales</th>\n",
       "    </tr>\n",
       "    <tr>\n",
       "      <th>platform</th>\n",
       "      <th>year_of_release</th>\n",
       "      <th></th>\n",
       "    </tr>\n",
       "  </thead>\n",
       "  <tbody>\n",
       "    <tr>\n",
       "      <th rowspan=\"5\" valign=\"top\">DS</th>\n",
       "      <th>2004</th>\n",
       "      <td>17.27</td>\n",
       "    </tr>\n",
       "    <tr>\n",
       "      <th>2005</th>\n",
       "      <td>130.14</td>\n",
       "    </tr>\n",
       "    <tr>\n",
       "      <th>2006</th>\n",
       "      <td>119.81</td>\n",
       "    </tr>\n",
       "    <tr>\n",
       "      <th>2007</th>\n",
       "      <td>146.94</td>\n",
       "    </tr>\n",
       "    <tr>\n",
       "      <th>2008</th>\n",
       "      <td>145.31</td>\n",
       "    </tr>\n",
       "    <tr>\n",
       "      <th>...</th>\n",
       "      <th>...</th>\n",
       "      <td>...</td>\n",
       "    </tr>\n",
       "    <tr>\n",
       "      <th rowspan=\"5\" valign=\"top\">X360</th>\n",
       "      <th>2012</th>\n",
       "      <td>99.74</td>\n",
       "    </tr>\n",
       "    <tr>\n",
       "      <th>2013</th>\n",
       "      <td>88.58</td>\n",
       "    </tr>\n",
       "    <tr>\n",
       "      <th>2014</th>\n",
       "      <td>34.74</td>\n",
       "    </tr>\n",
       "    <tr>\n",
       "      <th>2015</th>\n",
       "      <td>11.96</td>\n",
       "    </tr>\n",
       "    <tr>\n",
       "      <th>2016</th>\n",
       "      <td>1.52</td>\n",
       "    </tr>\n",
       "  </tbody>\n",
       "</table>\n",
       "<p>66 rows × 1 columns</p>\n",
       "</div>"
      ],
      "text/plain": [
       "                          total_sales\n",
       "platform year_of_release             \n",
       "DS       2004                   17.27\n",
       "         2005                  130.14\n",
       "         2006                  119.81\n",
       "         2007                  146.94\n",
       "         2008                  145.31\n",
       "...                               ...\n",
       "X360     2012                   99.74\n",
       "         2013                   88.58\n",
       "         2014                   34.74\n",
       "         2015                   11.96\n",
       "         2016                    1.52\n",
       "\n",
       "[66 rows x 1 columns]"
      ]
     },
     "metadata": {},
     "output_type": "display_data"
    }
   ],
   "source": [
    "data1=data_platform.pivot_table(index=['platform','year_of_release'], values='total_sales',aggfunc='sum')\n",
    "display(data1)"
   ]
  },
  {
   "cell_type": "markdown",
   "metadata": {},
   "source": [
    "Построим графики продаж для платформ с наибольшими продажами за все года."
   ]
  },
  {
   "cell_type": "code",
   "execution_count": 31,
   "metadata": {},
   "outputs": [
    {
     "data": {
      "image/png": "[encoded data removed]",
      "text/plain": [
       "<Figure size 1008x576 with 1 Axes>"
      ]
     },
     "metadata": {
      "needs_background": "light"
     },
     "output_type": "display_data"
    }
   ],
   "source": [
    "for i in platforms:    \n",
    "    pivot_table=data[data['platform']==i].pivot_table(index='year_of_release', values='total_sales',aggfunc='sum')\n",
    "    pivot_table['total_sales'].plot(kind='line',label=i,marker='o', figsize=(14,8),legend=True)\n",
    "plt.title('Продажи наиболее активно продающих платформ') \n",
    "plt.xlabel('год') \n",
    "plt.ylabel('кол-во проданных игр, млн. копий') \n",
    "plt.show()"
   ]
  },
  {
   "cell_type": "markdown",
   "metadata": {},
   "source": [
    "Наблюдается интересная тенденция: все эти платформы живут в среднем 10 лет, из которых первые 5 лет их продажи резко возрастают, затем в течение следующих 5 лет примерно так же резко убывают."
   ]
  },
  {
   "cell_type": "markdown",
   "metadata": {},
   "source": [
    "3.3 Поскольку с 2012 по 2016 наблюдается некоторая стабильность в количестве выпускаемых игр, а платформы живут в среднем не более 10 лет, то предлагается  взять пятилетний период с 2012 по 2016 за актуальный, и по нему строить аналитику.  Более длинный период брать нецелесообразно еще потому, что в современном мире предпочтения пользователей меняются довольно быстро, и игровая индустрия не стоит на месте. Поэтому 5 лет кажется наиболее оптимальным периодом для прогноза продаж компьютерных игр на следующий год."
   ]
  },
  {
   "cell_type": "markdown",
   "metadata": {},
   "source": [
    "Удалим из датафрейма все данные за 1993-2011 годы."
   ]
  },
  {
   "cell_type": "code",
   "execution_count": 32,
   "metadata": {},
   "outputs": [],
   "source": [
    "data=data[data['year_of_release']>2011]"
   ]
  },
  {
   "cell_type": "markdown",
   "metadata": {},
   "source": [
    "3.4 Посмотрим, какие платформы лидируют по продажам за период 2012-2016."
   ]
  },
  {
   "cell_type": "code",
   "execution_count": 33,
   "metadata": {},
   "outputs": [
    {
     "data": {
      "text/html": [
       "<div>\n",
       "<style scoped>\n",
       "    .dataframe tbody tr th:only-of-type {\n",
       "        vertical-align: middle;\n",
       "    }\n",
       "\n",
       "    .dataframe tbody tr th {\n",
       "        vertical-align: top;\n",
       "    }\n",
       "\n",
       "    .dataframe thead th {\n",
       "        text-align: right;\n",
       "    }\n",
       "</style>\n",
       "<table border=\"1\" class=\"dataframe\">\n",
       "  <thead>\n",
       "    <tr style=\"text-align: right;\">\n",
       "      <th></th>\n",
       "      <th>total_sales</th>\n",
       "    </tr>\n",
       "    <tr>\n",
       "      <th>platform</th>\n",
       "      <th></th>\n",
       "    </tr>\n",
       "  </thead>\n",
       "  <tbody>\n",
       "    <tr>\n",
       "      <th>PS4</th>\n",
       "      <td>314.14</td>\n",
       "    </tr>\n",
       "    <tr>\n",
       "      <th>PS3</th>\n",
       "      <td>288.79</td>\n",
       "    </tr>\n",
       "    <tr>\n",
       "      <th>X360</th>\n",
       "      <td>236.54</td>\n",
       "    </tr>\n",
       "    <tr>\n",
       "      <th>3DS</th>\n",
       "      <td>194.61</td>\n",
       "    </tr>\n",
       "    <tr>\n",
       "      <th>XOne</th>\n",
       "      <td>159.32</td>\n",
       "    </tr>\n",
       "    <tr>\n",
       "      <th>WiiU</th>\n",
       "      <td>82.19</td>\n",
       "    </tr>\n",
       "    <tr>\n",
       "      <th>PC</th>\n",
       "      <td>62.65</td>\n",
       "    </tr>\n",
       "    <tr>\n",
       "      <th>PSV</th>\n",
       "      <td>49.18</td>\n",
       "    </tr>\n",
       "    <tr>\n",
       "      <th>Wii</th>\n",
       "      <td>35.37</td>\n",
       "    </tr>\n",
       "    <tr>\n",
       "      <th>DS</th>\n",
       "      <td>12.55</td>\n",
       "    </tr>\n",
       "  </tbody>\n",
       "</table>\n",
       "</div>"
      ],
      "text/plain": [
       "          total_sales\n",
       "platform             \n",
       "PS4            314.14\n",
       "PS3            288.79\n",
       "X360           236.54\n",
       "3DS            194.61\n",
       "XOne           159.32\n",
       "WiiU            82.19\n",
       "PC              62.65\n",
       "PSV             49.18\n",
       "Wii             35.37\n",
       "DS              12.55"
      ]
     },
     "execution_count": 33,
     "metadata": {},
     "output_type": "execute_result"
    }
   ],
   "source": [
    "data.pivot_table(index='platform', values='total_sales',aggfunc='sum').sort_values(by='total_sales',ascending=False).head(10)"
   ]
  },
  {
   "cell_type": "markdown",
   "metadata": {},
   "source": [
    "Первые пять из этого списка будем считать потенциально прибыльными."
   ]
  },
  {
   "cell_type": "code",
   "execution_count": 34,
   "metadata": {},
   "outputs": [],
   "source": [
    "platforms=['PS4','PS3','X360','3DS','XOne']"
   ]
  },
  {
   "cell_type": "markdown",
   "metadata": {},
   "source": [
    "Снова построим графики продаж по платформам, чтобы оценить рост или падение продаж по этим платформам."
   ]
  },
  {
   "cell_type": "code",
   "execution_count": 35,
   "metadata": {
    "scrolled": false
   },
   "outputs": [
    {
     "name": "stderr",
     "output_type": "stream",
     "text": [
      "C:\\Users\\malyshkina\\Anaconda3\\lib\\site-packages\\matplotlib\\cbook\\deprecation.py:107: MatplotlibDeprecationWarning: Adding an axes using the same arguments as a previous axes currently reuses the earlier instance.  In a future version, a new instance will always be created and returned.  Meanwhile, this warning can be suppressed, and the future behavior ensured, by passing a unique label to each axes instance.\n",
      "  warnings.warn(message, mplDeprecation, stacklevel=1)\n"
     ]
    },
    {
     "data": {
      "image/png": "[encoded data removed]",
      "text/plain": [
       "<Figure size 720x576 with 1 Axes>"
      ]
     },
     "metadata": {
      "needs_background": "light"
     },
     "output_type": "display_data"
    }
   ],
   "source": [
    "for i in platforms:    \n",
    "    pivot_table=data[data['platform']==i].pivot_table(index='year_of_release', values='total_sales',aggfunc='sum')\n",
    "    pivot_table['total_sales'].plot(kind='line',label=i,marker='o', figsize=(10,8),legend=True)\n",
    "\n",
    "x_ticks = list(range(int(2012), int(2016)+1, 1))\n",
    "ax = plt.subplot()\n",
    "ax.set_xticks(x_ticks)\n",
    "plt.title('Продажи наиболее активных платформ за  2012-2016 года') \n",
    "plt.xlabel('год') \n",
    "plt.ylabel('кол-во проданных игр, млн. копий') \n",
    "\n",
    "plt.show()"
   ]
  },
  {
   "cell_type": "markdown",
   "metadata": {},
   "source": [
    "Как видно из графика, все эти платформы испытывают падение продаж за последние 2 года, а какие-то и за 4 года (хотя данные за 2016 год могут быть неполными, поэтому картина может не отражать истину в полной мере). Но судя по глобальным тенденциям, платформы PS3, X360  и 3DS находятся на закате своего развития и через пару лет перестанут существовать. У PS4 и XOne еще остался потенциал по продажам."
   ]
  },
  {
   "cell_type": "markdown",
   "metadata": {},
   "source": [
    "3.5 Построим \"ящики с усами\" по глобальным продажам игр в разбивке по потенциально прибыльным платформам."
   ]
  },
  {
   "cell_type": "code",
   "execution_count": 36,
   "metadata": {},
   "outputs": [
    {
     "data": {
      "image/png": "[encoded data removed]",
      "text/plain": [
       "<Figure size 1008x576 with 1 Axes>"
      ]
     },
     "metadata": {
      "needs_background": "light"
     },
     "output_type": "display_data"
    }
   ],
   "source": [
    "plt.figure(figsize=(14,8))\n",
    "sns.boxplot(data=data[data['platform'].isin(platforms)], y=\"platform\", x=\"total_sales\",orient='h')\n",
    "plt.xlim(-0.1,5)\n",
    "plt.title('Диаграммы размаха для количества проданных игр за 2012-2016 по платформам') \n",
    "plt.xlabel('количество проданных игр, млн.копий') \n",
    "plt.ylabel('платформа') \n",
    "plt.show()"
   ]
  },
  {
   "cell_type": "markdown",
   "metadata": {},
   "source": [
    "Из этих диаграмм можно сказать, что медианное значение числа проданных игр самое большое у X360, самое маленькое у 3DS,  то есть  средняя игра X360 продается лучше, чем средняя игра 3DS.\n",
    "\n",
    "В то же время у 3DS есть редкие игры с  очень большими продажами, и таких игр у явно больше, чем у X360.\n",
    "\n",
    "Значит, X360 - более стабильна в плане продаж своих игр, 3DS - более \"рискованная\", то есть у нее есть игры, которые могут очень удачно \"выстрелить\" и тем самым принести очень большие продажи."
   ]
  },
  {
   "cell_type": "markdown",
   "metadata": {},
   "source": [
    "3.6 Исследуем взаимосвязь количества продаж и рейтингов пользователей и критиков."
   ]
  },
  {
   "cell_type": "markdown",
   "metadata": {},
   "source": [
    "Сначала посмотрим, как влияют на продажи отзывы пользователей и критиков внутри одной платформы PS4."
   ]
  },
  {
   "cell_type": "markdown",
   "metadata": {},
   "source": [
    "Построим диаграмму рассеяния между отзывами и продажами."
   ]
  },
  {
   "cell_type": "code",
   "execution_count": 37,
   "metadata": {},
   "outputs": [
    {
     "data": {
      "image/png": "[encoded data removed]",
      "text/plain": [
       "<Figure size 720x432 with 1 Axes>"
      ]
     },
     "metadata": {
      "needs_background": "light"
     },
     "output_type": "display_data"
    }
   ],
   "source": [
    "data[data['platform']=='PS4'].plot(y='total_sales', x='user_score', kind='scatter',figsize=(10,6)) \n",
    "plt.title('Диаграмма рассеяния отзывы пользователей/продажи для платформы PS4') \n",
    "plt.xlabel('пользовательский рейтинг игры') \n",
    "plt.ylabel('количество проданных игр, млн.копий') \n",
    "plt.show()"
   ]
  },
  {
   "cell_type": "code",
   "execution_count": 38,
   "metadata": {},
   "outputs": [
    {
     "data": {
      "image/png": "[encoded data removed]",
      "text/plain": [
       "<Figure size 720x432 with 1 Axes>"
      ]
     },
     "metadata": {
      "needs_background": "light"
     },
     "output_type": "display_data"
    }
   ],
   "source": [
    "data[data['platform']=='PS4'].plot(y='total_sales', x='critic_score', kind='scatter',figsize=(10,6)) \n",
    "plt.title('Диаграмма рассеяния отзывы критиков/продажи для платформы PS4') \n",
    "plt.xlabel('рейтинг критиков игры') \n",
    "plt.ylabel('количество проданных игр, млн.копий') \n",
    "plt.show()"
   ]
  },
  {
   "cell_type": "markdown",
   "metadata": {},
   "source": [
    "Обе диаграммы не показывают никакой сильной связи между рейтингом и продажами. Игры с большим рейтингом в большинстве имеют низкие продажи. Игр с низким рейтингом в принципе гораздо меньше, чем с высоким, и есть только несколько случаев, когда они имеют высокие продажи."
   ]
  },
  {
   "cell_type": "markdown",
   "metadata": {},
   "source": [
    "Посчитаем корреляцию между отзывами и продажами."
   ]
  },
  {
   "cell_type": "code",
   "execution_count": 39,
   "metadata": {},
   "outputs": [
    {
     "data": {
      "text/plain": [
       "'Корреляция рейтинга пользователей и количества продаж для PS4'"
      ]
     },
     "metadata": {},
     "output_type": "display_data"
    },
    {
     "data": {
      "text/plain": [
       "-0.031957110204556466"
      ]
     },
     "metadata": {},
     "output_type": "display_data"
    },
    {
     "data": {
      "text/plain": [
       "'Корреляция рейтинга критиков и количества продаж для PS4'"
      ]
     },
     "metadata": {},
     "output_type": "display_data"
    },
    {
     "data": {
      "text/plain": [
       "0.40656790206178145"
      ]
     },
     "metadata": {},
     "output_type": "display_data"
    }
   ],
   "source": [
    "data_tmp=data[data['platform']=='PS4']\n",
    "display('Корреляция рейтинга пользователей и количества продаж для PS4',data_tmp['total_sales'].corr(data_tmp['user_score']))\n",
    "display('Корреляция рейтинга критиков и количества продаж для PS4',data_tmp['total_sales'].corr(data_tmp['critic_score']))"
   ]
  },
  {
   "cell_type": "markdown",
   "metadata": {},
   "source": [
    "Как видно из расчета, между рейтингом пользователей и количеством проданных игр нет никакой связи, а между рейтингом критиков и продажами есть несильная прямая зависимость."
   ]
  },
  {
   "cell_type": "markdown",
   "metadata": {},
   "source": [
    "Интересно проверить, верно ли то же самое для других платформ.\n",
    "\n",
    "Посчитаем корреляцию количества продаж и рейтинга пользователей/критиков для каждой из выбранных потенциально прибыльных платформ."
   ]
  },
  {
   "cell_type": "code",
   "execution_count": 40,
   "metadata": {},
   "outputs": [],
   "source": [
    "users=[]#создаем список рейтингов пользователей \n",
    "critics=[]#создаем список рейтингов критиков\n",
    "for i in platforms:\n",
    "    data_tmp=data[data['platform']==i]#для каждой платформы считаем отдельно\n",
    "    users.append(data_tmp['total_sales'].corr(data_tmp['user_score']))#вносим корреляцию в список users \n",
    "    critics.append(data_tmp['total_sales'].corr(data_tmp['critic_score']))#вносим корреляцию в список  critics"
   ]
  },
  {
   "cell_type": "markdown",
   "metadata": {},
   "source": [
    "Выведем найденные корреляции без названий платформ."
   ]
  },
  {
   "cell_type": "code",
   "execution_count": 41,
   "metadata": {},
   "outputs": [
    {
     "name": "stdout",
     "output_type": "stream",
     "text": [
      "Корреляция рейтинга пользователей и количества продаж по разным платформам:\n",
      "-0.032\n",
      "-0.005\n",
      "0.006\n",
      "0.198\n",
      "-0.069\n"
     ]
    }
   ],
   "source": [
    "print('Корреляция рейтинга пользователей и количества продаж по разным платформам:')\n",
    "for i in users:\n",
    "    print(round(i,3))"
   ]
  },
  {
   "cell_type": "code",
   "execution_count": 42,
   "metadata": {},
   "outputs": [
    {
     "name": "stdout",
     "output_type": "stream",
     "text": [
      "Корреляция рейтинга критиков и количества продаж по разным платформам::\n",
      "0.407\n",
      "0.331\n",
      "0.361\n",
      "0.321\n",
      "0.417\n"
     ]
    }
   ],
   "source": [
    "print('Корреляция рейтинга критиков и количества продаж по разным платформам::')\n",
    "for i in critics:\n",
    "    print(round(i,3))"
   ]
  },
  {
   "cell_type": "markdown",
   "metadata": {},
   "source": [
    "Для всех  платформ получились примерно одинаковые цифры: корреляция рейтинга пользователей с продажами близка к 0 (кроме одной 0,19 которая тоже слишком мала для обоснования связи), корреляция рейтинга критиков с продажами положительна, но далека от 1 (от 0,3 до 0,4). Следовательно, рейтинг пользователей никак не сказывается на продажах, а рейтинг критиков имеет прямую зависимость с продажами, но по всей видимости не линейную."
   ]
  },
  {
   "cell_type": "markdown",
   "metadata": {},
   "source": [
    "3.7 Теперь исследуем распределение игр по жанрам."
   ]
  },
  {
   "cell_type": "markdown",
   "metadata": {},
   "source": [
    "Построим сводную таблицу для расчета общего числа продаж компьютерных игр по жанрам."
   ]
  },
  {
   "cell_type": "code",
   "execution_count": 43,
   "metadata": {},
   "outputs": [
    {
     "data": {
      "text/html": [
       "<div>\n",
       "<style scoped>\n",
       "    .dataframe tbody tr th:only-of-type {\n",
       "        vertical-align: middle;\n",
       "    }\n",
       "\n",
       "    .dataframe tbody tr th {\n",
       "        vertical-align: top;\n",
       "    }\n",
       "\n",
       "    .dataframe thead th {\n",
       "        text-align: right;\n",
       "    }\n",
       "</style>\n",
       "<table border=\"1\" class=\"dataframe\">\n",
       "  <thead>\n",
       "    <tr style=\"text-align: right;\">\n",
       "      <th></th>\n",
       "      <th>total_sales</th>\n",
       "    </tr>\n",
       "    <tr>\n",
       "      <th>genre</th>\n",
       "      <th></th>\n",
       "    </tr>\n",
       "  </thead>\n",
       "  <tbody>\n",
       "    <tr>\n",
       "      <th>Action</th>\n",
       "      <td>441.12</td>\n",
       "    </tr>\n",
       "    <tr>\n",
       "      <th>Shooter</th>\n",
       "      <td>304.73</td>\n",
       "    </tr>\n",
       "    <tr>\n",
       "      <th>Role-Playing</th>\n",
       "      <td>192.80</td>\n",
       "    </tr>\n",
       "    <tr>\n",
       "      <th>Sports</th>\n",
       "      <td>181.07</td>\n",
       "    </tr>\n",
       "    <tr>\n",
       "      <th>Misc</th>\n",
       "      <td>85.04</td>\n",
       "    </tr>\n",
       "    <tr>\n",
       "      <th>Platform</th>\n",
       "      <td>61.00</td>\n",
       "    </tr>\n",
       "    <tr>\n",
       "      <th>Racing</th>\n",
       "      <td>53.50</td>\n",
       "    </tr>\n",
       "    <tr>\n",
       "      <th>Fighting</th>\n",
       "      <td>44.49</td>\n",
       "    </tr>\n",
       "    <tr>\n",
       "      <th>Simulation</th>\n",
       "      <td>35.12</td>\n",
       "    </tr>\n",
       "    <tr>\n",
       "      <th>Adventure</th>\n",
       "      <td>29.43</td>\n",
       "    </tr>\n",
       "    <tr>\n",
       "      <th>Strategy</th>\n",
       "      <td>13.34</td>\n",
       "    </tr>\n",
       "    <tr>\n",
       "      <th>Puzzle</th>\n",
       "      <td>4.89</td>\n",
       "    </tr>\n",
       "  </tbody>\n",
       "</table>\n",
       "</div>"
      ],
      "text/plain": [
       "              total_sales\n",
       "genre                    \n",
       "Action             441.12\n",
       "Shooter            304.73\n",
       "Role-Playing       192.80\n",
       "Sports             181.07\n",
       "Misc                85.04\n",
       "Platform            61.00\n",
       "Racing              53.50\n",
       "Fighting            44.49\n",
       "Simulation          35.12\n",
       "Adventure           29.43\n",
       "Strategy            13.34\n",
       "Puzzle               4.89"
      ]
     },
     "execution_count": 43,
     "metadata": {},
     "output_type": "execute_result"
    }
   ],
   "source": [
    "data.pivot_table(index='genre', values='total_sales',aggfunc='sum').sort_values(by='total_sales',ascending=False)"
   ]
  },
  {
   "cell_type": "markdown",
   "metadata": {},
   "source": [
    "Для наглядности построим еще столбчатую диаграмму."
   ]
  },
  {
   "cell_type": "code",
   "execution_count": 44,
   "metadata": {},
   "outputs": [
    {
     "data": {
      "image/png": "[encoded data removed]",
      "text/plain": [
       "<Figure size 864x432 with 1 Axes>"
      ]
     },
     "metadata": {
      "needs_background": "light"
     },
     "output_type": "display_data"
    }
   ],
   "source": [
    "data.pivot_table(index='genre', values='total_sales',aggfunc='sum').sort_values(by='total_sales',ascending=False)\\\n",
    ".plot(kind='bar',figsize=(12,6))\n",
    "\n",
    "plt.xlabel('жанр') \n",
    "plt.ylabel('количество проданных игр, млн.копий') \n",
    "plt.title(' Распределение  количества проданных игр по жанрам')\n",
    "plt.show()"
   ]
  },
  {
   "cell_type": "markdown",
   "metadata": {},
   "source": [
    "Самый продаваемый жанр - экшн, за ним с большим отрывом шутер, затем примерно одинаковые продажи имеют ролевые игры и спортивные. Самые непопулярными оказались паззлы и стратегии, то есть самые интеллектуальные игры, что не может не огорчать. "
   ]
  },
  {
   "cell_type": "markdown",
   "metadata": {},
   "source": [
    "Рассмотрим средние продажи игр по жанрам. \n",
    "    \n",
    "Построим сводную таблицу, в которой отобразим среднее число проданных копий игр каждого жанра."
   ]
  },
  {
   "cell_type": "code",
   "execution_count": 45,
   "metadata": {},
   "outputs": [
    {
     "data": {
      "text/html": [
       "<div>\n",
       "<style scoped>\n",
       "    .dataframe tbody tr th:only-of-type {\n",
       "        vertical-align: middle;\n",
       "    }\n",
       "\n",
       "    .dataframe tbody tr th {\n",
       "        vertical-align: top;\n",
       "    }\n",
       "\n",
       "    .dataframe thead th {\n",
       "        text-align: right;\n",
       "    }\n",
       "</style>\n",
       "<table border=\"1\" class=\"dataframe\">\n",
       "  <thead>\n",
       "    <tr style=\"text-align: right;\">\n",
       "      <th></th>\n",
       "      <th>total_sales</th>\n",
       "    </tr>\n",
       "    <tr>\n",
       "      <th>genre</th>\n",
       "      <th></th>\n",
       "    </tr>\n",
       "  </thead>\n",
       "  <tbody>\n",
       "    <tr>\n",
       "      <th>Shooter</th>\n",
       "      <td>1.296723</td>\n",
       "    </tr>\n",
       "    <tr>\n",
       "      <th>Platform</th>\n",
       "      <td>0.717647</td>\n",
       "    </tr>\n",
       "    <tr>\n",
       "      <th>Sports</th>\n",
       "      <td>0.675634</td>\n",
       "    </tr>\n",
       "    <tr>\n",
       "      <th>Role-Playing</th>\n",
       "      <td>0.521081</td>\n",
       "    </tr>\n",
       "    <tr>\n",
       "      <th>Racing</th>\n",
       "      <td>0.465217</td>\n",
       "    </tr>\n",
       "    <tr>\n",
       "      <th>Misc</th>\n",
       "      <td>0.442917</td>\n",
       "    </tr>\n",
       "    <tr>\n",
       "      <th>Simulation</th>\n",
       "      <td>0.439000</td>\n",
       "    </tr>\n",
       "    <tr>\n",
       "      <th>Action</th>\n",
       "      <td>0.427856</td>\n",
       "    </tr>\n",
       "    <tr>\n",
       "      <th>Fighting</th>\n",
       "      <td>0.408165</td>\n",
       "    </tr>\n",
       "    <tr>\n",
       "      <th>Strategy</th>\n",
       "      <td>0.187887</td>\n",
       "    </tr>\n",
       "    <tr>\n",
       "      <th>Puzzle</th>\n",
       "      <td>0.174643</td>\n",
       "    </tr>\n",
       "    <tr>\n",
       "      <th>Adventure</th>\n",
       "      <td>0.097450</td>\n",
       "    </tr>\n",
       "  </tbody>\n",
       "</table>\n",
       "</div>"
      ],
      "text/plain": [
       "              total_sales\n",
       "genre                    \n",
       "Shooter          1.296723\n",
       "Platform         0.717647\n",
       "Sports           0.675634\n",
       "Role-Playing     0.521081\n",
       "Racing           0.465217\n",
       "Misc             0.442917\n",
       "Simulation       0.439000\n",
       "Action           0.427856\n",
       "Fighting         0.408165\n",
       "Strategy         0.187887\n",
       "Puzzle           0.174643\n",
       "Adventure        0.097450"
      ]
     },
     "execution_count": 45,
     "metadata": {},
     "output_type": "execute_result"
    }
   ],
   "source": [
    "data.pivot_table(index='genre', values='total_sales',aggfunc='mean').sort_values(by='total_sales',ascending=False)"
   ]
  },
  {
   "cell_type": "markdown",
   "metadata": {},
   "source": [
    "Самым продаваемым жанром в среднем оказались шутеры, затем платформеры, спортивные игры, ролевые и гонки.\n",
    "    \n",
    "Самым неприбыльным жанром оказались стратегии, паззлы и приключения.   "
   ]
  },
  {
   "cell_type": "markdown",
   "metadata": {},
   "source": [
    "<a id='section4'></a>\n",
    "4. Составим портрет пользователя каждого региона."
   ]
  },
  {
   "cell_type": "markdown",
   "metadata": {},
   "source": [
    "4.1 Найдем самые популярные платформы для каждого региона."
   ]
  },
  {
   "cell_type": "markdown",
   "metadata": {},
   "source": [
    "Продажи игр (млн. копий) по разным платформам для Северной Америки:"
   ]
  },
  {
   "cell_type": "code",
   "execution_count": 46,
   "metadata": {},
   "outputs": [
    {
     "data": {
      "text/html": [
       "<div>\n",
       "<style scoped>\n",
       "    .dataframe tbody tr th:only-of-type {\n",
       "        vertical-align: middle;\n",
       "    }\n",
       "\n",
       "    .dataframe tbody tr th {\n",
       "        vertical-align: top;\n",
       "    }\n",
       "\n",
       "    .dataframe thead th {\n",
       "        text-align: right;\n",
       "    }\n",
       "</style>\n",
       "<table border=\"1\" class=\"dataframe\">\n",
       "  <thead>\n",
       "    <tr style=\"text-align: right;\">\n",
       "      <th></th>\n",
       "      <th>na_sales</th>\n",
       "    </tr>\n",
       "    <tr>\n",
       "      <th>platform</th>\n",
       "      <th></th>\n",
       "    </tr>\n",
       "  </thead>\n",
       "  <tbody>\n",
       "    <tr>\n",
       "      <th>X360</th>\n",
       "      <td>140.05</td>\n",
       "    </tr>\n",
       "    <tr>\n",
       "      <th>PS4</th>\n",
       "      <td>108.74</td>\n",
       "    </tr>\n",
       "    <tr>\n",
       "      <th>PS3</th>\n",
       "      <td>103.38</td>\n",
       "    </tr>\n",
       "    <tr>\n",
       "      <th>XOne</th>\n",
       "      <td>93.12</td>\n",
       "    </tr>\n",
       "    <tr>\n",
       "      <th>3DS</th>\n",
       "      <td>55.31</td>\n",
       "    </tr>\n",
       "  </tbody>\n",
       "</table>\n",
       "</div>"
      ],
      "text/plain": [
       "          na_sales\n",
       "platform          \n",
       "X360        140.05\n",
       "PS4         108.74\n",
       "PS3         103.38\n",
       "XOne         93.12\n",
       "3DS          55.31"
      ]
     },
     "execution_count": 46,
     "metadata": {},
     "output_type": "execute_result"
    }
   ],
   "source": [
    "data.pivot_table(index='platform',values='na_sales', aggfunc='sum').sort_values(by='na_sales',ascending=False).head(5)"
   ]
  },
  {
   "cell_type": "markdown",
   "metadata": {},
   "source": [
    "Продажи игр (млн. копий) по разным платформам для Европы:"
   ]
  },
  {
   "cell_type": "code",
   "execution_count": 47,
   "metadata": {},
   "outputs": [
    {
     "data": {
      "text/html": [
       "<div>\n",
       "<style scoped>\n",
       "    .dataframe tbody tr th:only-of-type {\n",
       "        vertical-align: middle;\n",
       "    }\n",
       "\n",
       "    .dataframe tbody tr th {\n",
       "        vertical-align: top;\n",
       "    }\n",
       "\n",
       "    .dataframe thead th {\n",
       "        text-align: right;\n",
       "    }\n",
       "</style>\n",
       "<table border=\"1\" class=\"dataframe\">\n",
       "  <thead>\n",
       "    <tr style=\"text-align: right;\">\n",
       "      <th></th>\n",
       "      <th>eu_sales</th>\n",
       "    </tr>\n",
       "    <tr>\n",
       "      <th>platform</th>\n",
       "      <th></th>\n",
       "    </tr>\n",
       "  </thead>\n",
       "  <tbody>\n",
       "    <tr>\n",
       "      <th>PS4</th>\n",
       "      <td>141.09</td>\n",
       "    </tr>\n",
       "    <tr>\n",
       "      <th>PS3</th>\n",
       "      <td>106.86</td>\n",
       "    </tr>\n",
       "    <tr>\n",
       "      <th>X360</th>\n",
       "      <td>74.52</td>\n",
       "    </tr>\n",
       "    <tr>\n",
       "      <th>XOne</th>\n",
       "      <td>51.59</td>\n",
       "    </tr>\n",
       "    <tr>\n",
       "      <th>3DS</th>\n",
       "      <td>42.64</td>\n",
       "    </tr>\n",
       "  </tbody>\n",
       "</table>\n",
       "</div>"
      ],
      "text/plain": [
       "          eu_sales\n",
       "platform          \n",
       "PS4         141.09\n",
       "PS3         106.86\n",
       "X360         74.52\n",
       "XOne         51.59\n",
       "3DS          42.64"
      ]
     },
     "execution_count": 47,
     "metadata": {},
     "output_type": "execute_result"
    }
   ],
   "source": [
    "data.pivot_table(index='platform',values='eu_sales', aggfunc='sum').sort_values(by='eu_sales',ascending=False).head(5)"
   ]
  },
  {
   "cell_type": "markdown",
   "metadata": {},
   "source": [
    "Продажи игр (млн. копий) по разным платформам для Японии:"
   ]
  },
  {
   "cell_type": "code",
   "execution_count": 48,
   "metadata": {},
   "outputs": [
    {
     "data": {
      "text/html": [
       "<div>\n",
       "<style scoped>\n",
       "    .dataframe tbody tr th:only-of-type {\n",
       "        vertical-align: middle;\n",
       "    }\n",
       "\n",
       "    .dataframe tbody tr th {\n",
       "        vertical-align: top;\n",
       "    }\n",
       "\n",
       "    .dataframe thead th {\n",
       "        text-align: right;\n",
       "    }\n",
       "</style>\n",
       "<table border=\"1\" class=\"dataframe\">\n",
       "  <thead>\n",
       "    <tr style=\"text-align: right;\">\n",
       "      <th></th>\n",
       "      <th>jp_sales</th>\n",
       "    </tr>\n",
       "    <tr>\n",
       "      <th>platform</th>\n",
       "      <th></th>\n",
       "    </tr>\n",
       "  </thead>\n",
       "  <tbody>\n",
       "    <tr>\n",
       "      <th>3DS</th>\n",
       "      <td>87.79</td>\n",
       "    </tr>\n",
       "    <tr>\n",
       "      <th>PS3</th>\n",
       "      <td>35.29</td>\n",
       "    </tr>\n",
       "    <tr>\n",
       "      <th>PSV</th>\n",
       "      <td>21.04</td>\n",
       "    </tr>\n",
       "    <tr>\n",
       "      <th>PS4</th>\n",
       "      <td>15.96</td>\n",
       "    </tr>\n",
       "    <tr>\n",
       "      <th>WiiU</th>\n",
       "      <td>13.01</td>\n",
       "    </tr>\n",
       "  </tbody>\n",
       "</table>\n",
       "</div>"
      ],
      "text/plain": [
       "          jp_sales\n",
       "platform          \n",
       "3DS          87.79\n",
       "PS3          35.29\n",
       "PSV          21.04\n",
       "PS4          15.96\n",
       "WiiU         13.01"
      ]
     },
     "execution_count": 48,
     "metadata": {},
     "output_type": "execute_result"
    }
   ],
   "source": [
    "data.pivot_table(index='platform',values='jp_sales', aggfunc='sum').sort_values(by='jp_sales',ascending=False).head(5)"
   ]
  },
  {
   "cell_type": "markdown",
   "metadata": {},
   "source": [
    "Построим столбчатую диаграмму для продаж игр для разных платформ по трем регионам:"
   ]
  },
  {
   "cell_type": "code",
   "execution_count": 49,
   "metadata": {
    "scrolled": false
   },
   "outputs": [
    {
     "data": {
      "image/png": "[encoded data removed]",
      "text/plain": [
       "<Figure size 864x432 with 1 Axes>"
      ]
     },
     "metadata": {
      "needs_background": "light"
     },
     "output_type": "display_data"
    }
   ],
   "source": [
    "data_df=data[['na_sales']+['eu_sales']+['jp_sales']+['platform']]\n",
    "data_df.groupby('platform').sum().plot(kind='bar',figsize=(12,6))\n",
    "plt.xlabel('платформа') \n",
    "plt.ylabel('количество проданных игр, млн.копий') \n",
    "plt.title(' Распределение  количества проданных игр по платформам в разных регионах ')\n",
    "plt.show()"
   ]
  },
  {
   "cell_type": "markdown",
   "metadata": {},
   "source": [
    "Для Северной Америки и Европы самые популярные платформы одинаковые: PS4,PS3,X360,XOne и 3DS, только отличаются порядком в рейтинге: лидером  в Америке является  X360, в Европе -  PS4 ."
   ]
  },
  {
   "cell_type": "markdown",
   "metadata": {},
   "source": [
    "В Японии только три из этих платформ вошли в их рейтинг, а лидером стала 3DS, которая в Америке и Европе находится только на 5 месте в рейтинге. "
   ]
  },
  {
   "cell_type": "markdown",
   "metadata": {},
   "source": [
    "По всей видимости, разница в рейтингах обусловлена производителем игры:  X360 - игровая приставка американской компании Microsoft,  3DS - портативная игровая система японской компании Nintendo, поэтому в своих странах этим играм было проще завоевать рынок."
   ]
  },
  {
   "cell_type": "markdown",
   "metadata": {},
   "source": [
    "4.2 Найдем теперь самые популярные жанры в этих регионах."
   ]
  },
  {
   "cell_type": "markdown",
   "metadata": {},
   "source": [
    "Продажи игр (млн. копий) по разным жанрам для Северной Америки:"
   ]
  },
  {
   "cell_type": "code",
   "execution_count": 50,
   "metadata": {},
   "outputs": [
    {
     "data": {
      "text/html": [
       "<div>\n",
       "<style scoped>\n",
       "    .dataframe tbody tr th:only-of-type {\n",
       "        vertical-align: middle;\n",
       "    }\n",
       "\n",
       "    .dataframe tbody tr th {\n",
       "        vertical-align: top;\n",
       "    }\n",
       "\n",
       "    .dataframe thead th {\n",
       "        text-align: right;\n",
       "    }\n",
       "</style>\n",
       "<table border=\"1\" class=\"dataframe\">\n",
       "  <thead>\n",
       "    <tr style=\"text-align: right;\">\n",
       "      <th></th>\n",
       "      <th>na_sales</th>\n",
       "    </tr>\n",
       "    <tr>\n",
       "      <th>genre</th>\n",
       "      <th></th>\n",
       "    </tr>\n",
       "  </thead>\n",
       "  <tbody>\n",
       "    <tr>\n",
       "      <th>Action</th>\n",
       "      <td>177.84</td>\n",
       "    </tr>\n",
       "    <tr>\n",
       "      <th>Shooter</th>\n",
       "      <td>144.77</td>\n",
       "    </tr>\n",
       "    <tr>\n",
       "      <th>Sports</th>\n",
       "      <td>81.53</td>\n",
       "    </tr>\n",
       "    <tr>\n",
       "      <th>Role-Playing</th>\n",
       "      <td>64.00</td>\n",
       "    </tr>\n",
       "    <tr>\n",
       "      <th>Misc</th>\n",
       "      <td>38.19</td>\n",
       "    </tr>\n",
       "  </tbody>\n",
       "</table>\n",
       "</div>"
      ],
      "text/plain": [
       "              na_sales\n",
       "genre                 \n",
       "Action          177.84\n",
       "Shooter         144.77\n",
       "Sports           81.53\n",
       "Role-Playing     64.00\n",
       "Misc             38.19"
      ]
     },
     "execution_count": 50,
     "metadata": {},
     "output_type": "execute_result"
    }
   ],
   "source": [
    "data.pivot_table(index='genre',values='na_sales', aggfunc='sum').sort_values(by='na_sales',ascending=False).head(5)"
   ]
  },
  {
   "cell_type": "markdown",
   "metadata": {},
   "source": [
    "Построим круговую диаграмму для продаж игр по жанрам в Северной Америке."
   ]
  },
  {
   "cell_type": "code",
   "execution_count": 51,
   "metadata": {},
   "outputs": [
    {
     "data": {
      "image/png": "[encoded data removed]",
      "text/plain": [
       "<Figure size 432x432 with 1 Axes>"
      ]
     },
     "metadata": {},
     "output_type": "display_data"
    }
   ],
   "source": [
    "data.pivot_table(index='genre',values='na_sales', aggfunc='sum').\\\n",
    "sort_values(by='na_sales',ascending=False).head(5).plot(kind='pie',y='na_sales',figsize=(6,6),label='',autopct='%1.0f%%')\n",
    "plt.title('Продажи игр по жанрам в Северной Америке')\n",
    "plt.show()"
   ]
  },
  {
   "cell_type": "code",
   "execution_count": 52,
   "metadata": {},
   "outputs": [
    {
     "data": {
      "text/html": [
       "<div>\n",
       "<style scoped>\n",
       "    .dataframe tbody tr th:only-of-type {\n",
       "        vertical-align: middle;\n",
       "    }\n",
       "\n",
       "    .dataframe tbody tr th {\n",
       "        vertical-align: top;\n",
       "    }\n",
       "\n",
       "    .dataframe thead th {\n",
       "        text-align: right;\n",
       "    }\n",
       "</style>\n",
       "<table border=\"1\" class=\"dataframe\">\n",
       "  <thead>\n",
       "    <tr style=\"text-align: right;\">\n",
       "      <th></th>\n",
       "      <th>na_sales</th>\n",
       "    </tr>\n",
       "    <tr>\n",
       "      <th>genre</th>\n",
       "      <th></th>\n",
       "    </tr>\n",
       "  </thead>\n",
       "  <tbody>\n",
       "    <tr>\n",
       "      <th>Action</th>\n",
       "      <td>177.84</td>\n",
       "    </tr>\n",
       "    <tr>\n",
       "      <th>Shooter</th>\n",
       "      <td>144.77</td>\n",
       "    </tr>\n",
       "    <tr>\n",
       "      <th>Sports</th>\n",
       "      <td>81.53</td>\n",
       "    </tr>\n",
       "    <tr>\n",
       "      <th>Role-Playing</th>\n",
       "      <td>64.00</td>\n",
       "    </tr>\n",
       "    <tr>\n",
       "      <th>Misc</th>\n",
       "      <td>38.19</td>\n",
       "    </tr>\n",
       "  </tbody>\n",
       "</table>\n",
       "</div>"
      ],
      "text/plain": [
       "              na_sales\n",
       "genre                 \n",
       "Action          177.84\n",
       "Shooter         144.77\n",
       "Sports           81.53\n",
       "Role-Playing     64.00\n",
       "Misc             38.19"
      ]
     },
     "execution_count": 52,
     "metadata": {},
     "output_type": "execute_result"
    }
   ],
   "source": [
    "data.pivot_table(index='genre',values='na_sales', aggfunc='sum').\\\n",
    "sort_values(by='na_sales',ascending=False).head(5)"
   ]
  },
  {
   "cell_type": "markdown",
   "metadata": {},
   "source": [
    "Продажи игр (млн. копий) по разным жанрам для Европы:"
   ]
  },
  {
   "cell_type": "code",
   "execution_count": 53,
   "metadata": {},
   "outputs": [
    {
     "data": {
      "text/html": [
       "<div>\n",
       "<style scoped>\n",
       "    .dataframe tbody tr th:only-of-type {\n",
       "        vertical-align: middle;\n",
       "    }\n",
       "\n",
       "    .dataframe tbody tr th {\n",
       "        vertical-align: top;\n",
       "    }\n",
       "\n",
       "    .dataframe thead th {\n",
       "        text-align: right;\n",
       "    }\n",
       "</style>\n",
       "<table border=\"1\" class=\"dataframe\">\n",
       "  <thead>\n",
       "    <tr style=\"text-align: right;\">\n",
       "      <th></th>\n",
       "      <th>eu_sales</th>\n",
       "    </tr>\n",
       "    <tr>\n",
       "      <th>genre</th>\n",
       "      <th></th>\n",
       "    </tr>\n",
       "  </thead>\n",
       "  <tbody>\n",
       "    <tr>\n",
       "      <th>Action</th>\n",
       "      <td>159.34</td>\n",
       "    </tr>\n",
       "    <tr>\n",
       "      <th>Shooter</th>\n",
       "      <td>113.47</td>\n",
       "    </tr>\n",
       "    <tr>\n",
       "      <th>Sports</th>\n",
       "      <td>69.09</td>\n",
       "    </tr>\n",
       "    <tr>\n",
       "      <th>Role-Playing</th>\n",
       "      <td>48.53</td>\n",
       "    </tr>\n",
       "    <tr>\n",
       "      <th>Racing</th>\n",
       "      <td>27.29</td>\n",
       "    </tr>\n",
       "  </tbody>\n",
       "</table>\n",
       "</div>"
      ],
      "text/plain": [
       "              eu_sales\n",
       "genre                 \n",
       "Action          159.34\n",
       "Shooter         113.47\n",
       "Sports           69.09\n",
       "Role-Playing     48.53\n",
       "Racing           27.29"
      ]
     },
     "execution_count": 53,
     "metadata": {},
     "output_type": "execute_result"
    }
   ],
   "source": [
    "data.pivot_table(index='genre',values='eu_sales', aggfunc='sum').sort_values(by='eu_sales',ascending=False).head(5)"
   ]
  },
  {
   "cell_type": "markdown",
   "metadata": {},
   "source": [
    "Для Европы круговая диаграмма продаж игр по жанрам будет выглядеть так:"
   ]
  },
  {
   "cell_type": "code",
   "execution_count": 54,
   "metadata": {},
   "outputs": [
    {
     "data": {
      "image/png": "[encoded data removed]",
      "text/plain": [
       "<Figure size 432x432 with 1 Axes>"
      ]
     },
     "metadata": {},
     "output_type": "display_data"
    }
   ],
   "source": [
    "data.pivot_table(index='genre',values='eu_sales', aggfunc='sum').\\\n",
    "sort_values(by='eu_sales',ascending=False).head(5).plot(kind='pie',y='eu_sales',figsize=(6,6),label='',autopct='%1.0f%%')\n",
    "plt.title('Продажи игр по жанрам в Европе')\n",
    "plt.show()"
   ]
  },
  {
   "cell_type": "markdown",
   "metadata": {},
   "source": [
    "Продажи игр (млн. копий) по разным жанрам для Японии:"
   ]
  },
  {
   "cell_type": "code",
   "execution_count": 55,
   "metadata": {},
   "outputs": [
    {
     "data": {
      "text/html": [
       "<div>\n",
       "<style scoped>\n",
       "    .dataframe tbody tr th:only-of-type {\n",
       "        vertical-align: middle;\n",
       "    }\n",
       "\n",
       "    .dataframe tbody tr th {\n",
       "        vertical-align: top;\n",
       "    }\n",
       "\n",
       "    .dataframe thead th {\n",
       "        text-align: right;\n",
       "    }\n",
       "</style>\n",
       "<table border=\"1\" class=\"dataframe\">\n",
       "  <thead>\n",
       "    <tr style=\"text-align: right;\">\n",
       "      <th></th>\n",
       "      <th>jp_sales</th>\n",
       "    </tr>\n",
       "    <tr>\n",
       "      <th>genre</th>\n",
       "      <th></th>\n",
       "    </tr>\n",
       "  </thead>\n",
       "  <tbody>\n",
       "    <tr>\n",
       "      <th>Role-Playing</th>\n",
       "      <td>65.44</td>\n",
       "    </tr>\n",
       "    <tr>\n",
       "      <th>Action</th>\n",
       "      <td>52.80</td>\n",
       "    </tr>\n",
       "    <tr>\n",
       "      <th>Misc</th>\n",
       "      <td>12.86</td>\n",
       "    </tr>\n",
       "    <tr>\n",
       "      <th>Simulation</th>\n",
       "      <td>10.41</td>\n",
       "    </tr>\n",
       "    <tr>\n",
       "      <th>Fighting</th>\n",
       "      <td>9.44</td>\n",
       "    </tr>\n",
       "  </tbody>\n",
       "</table>\n",
       "</div>"
      ],
      "text/plain": [
       "              jp_sales\n",
       "genre                 \n",
       "Role-Playing     65.44\n",
       "Action           52.80\n",
       "Misc             12.86\n",
       "Simulation       10.41\n",
       "Fighting          9.44"
      ]
     },
     "execution_count": 55,
     "metadata": {},
     "output_type": "execute_result"
    }
   ],
   "source": [
    "data.pivot_table(index='genre',values='jp_sales', aggfunc='sum').sort_values(by='jp_sales',ascending=False).head(5)"
   ]
  },
  {
   "cell_type": "markdown",
   "metadata": {},
   "source": [
    "Посмотрим теперь на круговую диаграмму для Японии."
   ]
  },
  {
   "cell_type": "code",
   "execution_count": 56,
   "metadata": {},
   "outputs": [
    {
     "data": {
      "image/png": "[encoded data removed]",
      "text/plain": [
       "<Figure size 432x432 with 1 Axes>"
      ]
     },
     "metadata": {},
     "output_type": "display_data"
    }
   ],
   "source": [
    "data.pivot_table(index='genre',values='jp_sales', aggfunc='sum').\\\n",
    "sort_values(by='jp_sales',ascending=False).head(5).plot(kind='pie',y='jp_sales',figsize=(6,6),label='',autopct='%1.0f%%')\n",
    "plt.title('Продажи игр по жанрам в Японии')\n",
    "plt.show()"
   ]
  },
  {
   "cell_type": "markdown",
   "metadata": {},
   "source": [
    "Построим круговые диаграммы для трех регионов на одном графике для наглядности."
   ]
  },
  {
   "cell_type": "code",
   "execution_count": 57,
   "metadata": {},
   "outputs": [
    {
     "data": {
      "image/png": "[encoded data removed]",
      "text/plain": [
       "<Figure size 1296x432 with 3 Axes>"
      ]
     },
     "metadata": {},
     "output_type": "display_data"
    }
   ],
   "source": [
    "fig, axs = plt.subplots(1, 3, figsize=(18, 6), sharey=True)\n",
    "\n",
    "\n",
    "data1=data.pivot_table(index='genre',values='na_sales', aggfunc='sum').\\\n",
    "sort_values(by='na_sales',ascending=False).head(5)\n",
    "data1 = data1.reset_index().rename_axis(None, axis=1)\n",
    "labels1=data1['genre']\n",
    "\n",
    "\n",
    "data2=data.pivot_table(index='genre',values='eu_sales', aggfunc='sum').\\\n",
    "sort_values(by='eu_sales',ascending=False).head(5)\n",
    "data2 = data2.reset_index().rename_axis(None, axis=1)\n",
    "labels2=data2['genre']\n",
    "\n",
    "data3=data.pivot_table(index='genre',values='jp_sales', aggfunc='sum').\\\n",
    "sort_values(by='jp_sales',ascending=False).head(5)\n",
    "data3 = data3.reset_index().rename_axis(None, axis=1)\n",
    "labels3=data3['genre']\n",
    "\n",
    "values1=data1['na_sales']\n",
    "values2=data2['eu_sales']\n",
    "values3=data3['jp_sales']\n",
    "\n",
    "\n",
    "\n",
    "axs[0].pie(values1,labels=labels1,autopct='%1.1f%%')\n",
    "axs[1].pie(values2,labels=labels2,autopct='%1.1f%%')\n",
    "axs[2].pie(values3,labels=labels3,autopct='%1.1f%%')\n",
    "\n",
    "axs[0].legend()\n",
    "axs[1].legend()\n",
    "axs[2].legend()\n",
    "\n",
    "axs[0].set_xlabel('North America')\n",
    "axs[1].set_xlabel('Europe')\n",
    "axs[2].set_xlabel('Japan')\n",
    "\n",
    "\n",
    "fig.suptitle('Продажи по жанрам в разных регионах')\n",
    "plt.show()"
   ]
  },
  {
   "cell_type": "markdown",
   "metadata": {},
   "source": [
    "В Америке и Европе рейтинги жанров оказались практически одинаковыми: самые популярные оказались экшн, шутер, спорт, ролевые игры, и только на пятой позиции предпочтения разделились: в Европе гонки, в Америке \"разное\"."
   ]
  },
  {
   "cell_type": "markdown",
   "metadata": {},
   "source": [
    "В Японии самыми популярными оказались ролевые игры и экшн, шутеры вообще не вошли в рейтинг, зато на пятом месте оказался файтинг - жанр компьютерных игр, посвященный боевым искусствам. "
   ]
  },
  {
   "cell_type": "markdown",
   "metadata": {},
   "source": [
    "Можно сказать, что сравнение самых популярных платформ  и жанров в очередной раз подтвердило  схожесть культур Европы и Америки  и отличие от них культуры Японии."
   ]
  },
  {
   "cell_type": "markdown",
   "metadata": {},
   "source": [
    "4.3 Исследование влияния рейтинга ESRB на продажи в каждом регионе"
   ]
  },
  {
   "cell_type": "markdown",
   "metadata": {},
   "source": [
    "Посчитаем число игр (млн.копий), купленных в Северной Америке, с разным рейтингом ESRB (М - для взрослых, Е - для всех, в том числе детей 6+, Е10+ - для детей 10+, Т - для подростков)."
   ]
  },
  {
   "cell_type": "code",
   "execution_count": 58,
   "metadata": {},
   "outputs": [
    {
     "data": {
      "text/html": [
       "<div>\n",
       "<style scoped>\n",
       "    .dataframe tbody tr th:only-of-type {\n",
       "        vertical-align: middle;\n",
       "    }\n",
       "\n",
       "    .dataframe tbody tr th {\n",
       "        vertical-align: top;\n",
       "    }\n",
       "\n",
       "    .dataframe thead th {\n",
       "        text-align: right;\n",
       "    }\n",
       "</style>\n",
       "<table border=\"1\" class=\"dataframe\">\n",
       "  <thead>\n",
       "    <tr style=\"text-align: right;\">\n",
       "      <th></th>\n",
       "      <th>na_sales</th>\n",
       "    </tr>\n",
       "    <tr>\n",
       "      <th>rating</th>\n",
       "      <th></th>\n",
       "    </tr>\n",
       "  </thead>\n",
       "  <tbody>\n",
       "    <tr>\n",
       "      <th>M</th>\n",
       "      <td>231.57</td>\n",
       "    </tr>\n",
       "    <tr>\n",
       "      <th>E</th>\n",
       "      <td>114.37</td>\n",
       "    </tr>\n",
       "    <tr>\n",
       "      <th>E10+</th>\n",
       "      <td>75.70</td>\n",
       "    </tr>\n",
       "    <tr>\n",
       "      <th>T</th>\n",
       "      <td>66.02</td>\n",
       "    </tr>\n",
       "  </tbody>\n",
       "</table>\n",
       "</div>"
      ],
      "text/plain": [
       "        na_sales\n",
       "rating          \n",
       "M         231.57\n",
       "E         114.37\n",
       "E10+       75.70\n",
       "T          66.02"
      ]
     },
     "execution_count": 58,
     "metadata": {},
     "output_type": "execute_result"
    }
   ],
   "source": [
    "data.pivot_table(index='rating',values='na_sales', aggfunc='sum').sort_values(by='na_sales',ascending=False)"
   ]
  },
  {
   "cell_type": "markdown",
   "metadata": {},
   "source": [
    "То же самое посчитаем для Европы."
   ]
  },
  {
   "cell_type": "code",
   "execution_count": 59,
   "metadata": {},
   "outputs": [
    {
     "data": {
      "text/html": [
       "<div>\n",
       "<style scoped>\n",
       "    .dataframe tbody tr th:only-of-type {\n",
       "        vertical-align: middle;\n",
       "    }\n",
       "\n",
       "    .dataframe tbody tr th {\n",
       "        vertical-align: top;\n",
       "    }\n",
       "\n",
       "    .dataframe thead th {\n",
       "        text-align: right;\n",
       "    }\n",
       "</style>\n",
       "<table border=\"1\" class=\"dataframe\">\n",
       "  <thead>\n",
       "    <tr style=\"text-align: right;\">\n",
       "      <th></th>\n",
       "      <th>eu_sales</th>\n",
       "    </tr>\n",
       "    <tr>\n",
       "      <th>rating</th>\n",
       "      <th></th>\n",
       "    </tr>\n",
       "  </thead>\n",
       "  <tbody>\n",
       "    <tr>\n",
       "      <th>M</th>\n",
       "      <td>193.96</td>\n",
       "    </tr>\n",
       "    <tr>\n",
       "      <th>E</th>\n",
       "      <td>113.03</td>\n",
       "    </tr>\n",
       "    <tr>\n",
       "      <th>E10+</th>\n",
       "      <td>55.37</td>\n",
       "    </tr>\n",
       "    <tr>\n",
       "      <th>T</th>\n",
       "      <td>52.96</td>\n",
       "    </tr>\n",
       "  </tbody>\n",
       "</table>\n",
       "</div>"
      ],
      "text/plain": [
       "        eu_sales\n",
       "rating          \n",
       "M         193.96\n",
       "E         113.03\n",
       "E10+       55.37\n",
       "T          52.96"
      ]
     },
     "execution_count": 59,
     "metadata": {},
     "output_type": "execute_result"
    }
   ],
   "source": [
    "data.pivot_table(index='rating',values='eu_sales', aggfunc='sum').sort_values(by='eu_sales',ascending=False)"
   ]
  },
  {
   "cell_type": "markdown",
   "metadata": {},
   "source": [
    "И для Японии."
   ]
  },
  {
   "cell_type": "code",
   "execution_count": 60,
   "metadata": {},
   "outputs": [
    {
     "data": {
      "text/html": [
       "<div>\n",
       "<style scoped>\n",
       "    .dataframe tbody tr th:only-of-type {\n",
       "        vertical-align: middle;\n",
       "    }\n",
       "\n",
       "    .dataframe tbody tr th {\n",
       "        vertical-align: top;\n",
       "    }\n",
       "\n",
       "    .dataframe thead th {\n",
       "        text-align: right;\n",
       "    }\n",
       "</style>\n",
       "<table border=\"1\" class=\"dataframe\">\n",
       "  <thead>\n",
       "    <tr style=\"text-align: right;\">\n",
       "      <th></th>\n",
       "      <th>jp_sales</th>\n",
       "    </tr>\n",
       "    <tr>\n",
       "      <th>rating</th>\n",
       "      <th></th>\n",
       "    </tr>\n",
       "  </thead>\n",
       "  <tbody>\n",
       "    <tr>\n",
       "      <th>E</th>\n",
       "      <td>28.33</td>\n",
       "    </tr>\n",
       "    <tr>\n",
       "      <th>T</th>\n",
       "      <td>26.02</td>\n",
       "    </tr>\n",
       "    <tr>\n",
       "      <th>M</th>\n",
       "      <td>21.20</td>\n",
       "    </tr>\n",
       "    <tr>\n",
       "      <th>E10+</th>\n",
       "      <td>8.19</td>\n",
       "    </tr>\n",
       "  </tbody>\n",
       "</table>\n",
       "</div>"
      ],
      "text/plain": [
       "        jp_sales\n",
       "rating          \n",
       "E          28.33\n",
       "T          26.02\n",
       "M          21.20\n",
       "E10+        8.19"
      ]
     },
     "execution_count": 60,
     "metadata": {},
     "output_type": "execute_result"
    }
   ],
   "source": [
    "data.pivot_table(index='rating',values='jp_sales', aggfunc='sum').sort_values(by='jp_sales',ascending=False)"
   ]
  },
  {
   "cell_type": "markdown",
   "metadata": {},
   "source": [
    "Для  визуализации построим столбчатую диагрмамму для всех регионов."
   ]
  },
  {
   "cell_type": "code",
   "execution_count": 61,
   "metadata": {},
   "outputs": [
    {
     "data": {
      "image/png": "[encoded data removed]",
      "text/plain": [
       "<Figure size 720x432 with 1 Axes>"
      ]
     },
     "metadata": {
      "needs_background": "light"
     },
     "output_type": "display_data"
    }
   ],
   "source": [
    "data_df=data[['na_sales']+['eu_sales']+['jp_sales']+['rating']]\n",
    "data_df.groupby('rating').sum().plot(kind='bar',figsize=(10,6))\n",
    "\n",
    "plt.xlabel('рейтинг ESRB') \n",
    "plt.ylabel('количество проданных игр, млн.копий') \n",
    "plt.title(' Распределение  количества проданных игр по рейтингу в разных регионах ')\n",
    "plt.show()"
   ]
  },
  {
   "cell_type": "markdown",
   "metadata": {},
   "source": [
    "Как видим, в Америке и Европе лучше всего продаются игры для взрослых, хуже всего - для подростков.\n",
    "\n",
    "В Японии наоборот, игры для 6+ и для подростков продаются лучше, чем игры для взрослых, но игры 10+ продаются хуже всего."
   ]
  },
  {
   "cell_type": "markdown",
   "metadata": {},
   "source": [
    "Портрет пользователя каждого региона.\n",
    "    \n",
    "В Америке и Европе средние пользователи выглядят одинаково:\n",
    "взрослые, играющие в экшн, шутер или спорт, только в Америке больше всего играют на  X360, в Европе - PS4.\n",
    "    \n",
    "В Японии средний пользователь - ребенок или подросток, играющий в ролевые игры и экшн на 3DS."
   ]
  },
  {
   "cell_type": "markdown",
   "metadata": {},
   "source": [
    "<a id='section5'></a>\n",
    "5. Проверка гипотез"
   ]
  },
  {
   "cell_type": "markdown",
   "metadata": {},
   "source": [
    "5.1 Проверим гипотезу о том, что средние пользовательские рейтинги платформ Xbox One и  PC одинаковые."
   ]
  },
  {
   "cell_type": "markdown",
   "metadata": {},
   "source": [
    "Сначала выделим в исходных данных 2 набора, относящиеся  к этим платформам."
   ]
  },
  {
   "cell_type": "code",
   "execution_count": 62,
   "metadata": {},
   "outputs": [],
   "source": [
    "data1=data[data['platform']=='XOne']"
   ]
  },
  {
   "cell_type": "code",
   "execution_count": 63,
   "metadata": {},
   "outputs": [],
   "source": [
    "data2=data[data['platform']=='PC']"
   ]
  },
  {
   "cell_type": "markdown",
   "metadata": {},
   "source": [
    "На всякий случай проверим, сколько данных в этих наборах."
   ]
  },
  {
   "cell_type": "code",
   "execution_count": 64,
   "metadata": {},
   "outputs": [
    {
     "data": {
      "text/plain": [
       "182"
      ]
     },
     "execution_count": 64,
     "metadata": {},
     "output_type": "execute_result"
    }
   ],
   "source": [
    "data1['user_score'].count()"
   ]
  },
  {
   "cell_type": "code",
   "execution_count": 65,
   "metadata": {},
   "outputs": [
    {
     "data": {
      "text/plain": [
       "206"
      ]
     },
     "execution_count": 65,
     "metadata": {},
     "output_type": "execute_result"
    }
   ],
   "source": [
    "data2['user_score'].count()"
   ]
  },
  {
   "cell_type": "markdown",
   "metadata": {},
   "source": [
    "Итого, в столбце с пользовательским рейтингом  182 и 206 значения соответственно, то есть размер выборок примерно одинаковый. Но нужно будет учесть, что в столбцах с рейтингом есть пропуски."
   ]
  },
  {
   "cell_type": "markdown",
   "metadata": {},
   "source": [
    "Пусть m_1 - средний рейтинг по платформе XOne,  m_2 - средний рейтинг по платформе PC."
   ]
  },
  {
   "cell_type": "markdown",
   "metadata": {},
   "source": [
    "Нам нужно проверить гипотезу о равенстве средних двух независимых выборок, альтернативная гипотеза о том, что они не равны (двустороняя гипотеза)."
   ]
  },
  {
   "cell_type": "markdown",
   "metadata": {},
   "source": [
    "Тогда нулевая и альтернативная гипотеза имеют вид:"
   ]
  },
  {
   "cell_type": "markdown",
   "metadata": {},
   "source": [
    "H_0:  m_1 = m_2"
   ]
  },
  {
   "cell_type": "markdown",
   "metadata": {},
   "source": [
    "H_1: m_1! = m_2"
   ]
  },
  {
   "cell_type": "markdown",
   "metadata": {},
   "source": [
    "Для проверки гипотезы используем двухвыборочный t-test для независимых выборок."
   ]
  },
  {
   "cell_type": "markdown",
   "metadata": {},
   "source": [
    "Уровень значимости примем 5%."
   ]
  },
  {
   "cell_type": "code",
   "execution_count": 66,
   "metadata": {},
   "outputs": [
    {
     "name": "stdout",
     "output_type": "stream",
     "text": [
      "средний рейтинг по платформе XOne: 6.52142857142857\n",
      "средний рейтинг по платформе PC: 6.428640776699027\n",
      "p-значение: 0.5535080500642724\n",
      "Не получилось отвергнуть нулевую гипотезу\n"
     ]
    }
   ],
   "source": [
    "alpha = 0.05 # уровень статистической значимости\n",
    "# если p-value окажется меньше него, отвергнем гипотезу\n",
    "\n",
    "results = st.ttest_ind(data1['user_score'], data2['user_score'],alternative='two-sided',nan_policy='omit')\n",
    "\n",
    "print('средний рейтинг по платформе XOne:',data1['user_score'].mean())\n",
    "print('средний рейтинг по платформе PC:',data2['user_score'].mean())\n",
    "\n",
    "print('p-значение:', results.pvalue)\n",
    "\n",
    "if results.pvalue < alpha:\n",
    "    print('Отвергаем нулевую гипотезу')\n",
    "else:\n",
    "    print('Не получилось отвергнуть нулевую гипотезу') "
   ]
  },
  {
   "cell_type": "markdown",
   "metadata": {},
   "source": [
    "p-значение получилось очень маленькое, значит вероятность получить наблюдаемые средние при выбранной нулевой гипотезе близка к 0. Отвергаем нулевую гипотезу в пользу альтернативной, значит гипотеза о равенстве средних пользовательских рейтингов по платформам XOne и PC неверна."
   ]
  },
  {
   "cell_type": "markdown",
   "metadata": {},
   "source": [
    "5.2 Проверим гипотезу о том, что средние пользовательские рейтинги жанров экшн и спорт разные."
   ]
  },
  {
   "cell_type": "markdown",
   "metadata": {},
   "source": [
    "Выделим из исходного датафрейма 2 выборки с жанром экшн и спорт соответственно."
   ]
  },
  {
   "cell_type": "code",
   "execution_count": 67,
   "metadata": {},
   "outputs": [],
   "source": [
    "data1=data[data['genre']=='Action']"
   ]
  },
  {
   "cell_type": "code",
   "execution_count": 68,
   "metadata": {},
   "outputs": [],
   "source": [
    "data2=data[data['genre']=='Sports']"
   ]
  },
  {
   "cell_type": "markdown",
   "metadata": {},
   "source": [
    "Проверим, сколько данных в этих двух наборах."
   ]
  },
  {
   "cell_type": "code",
   "execution_count": 69,
   "metadata": {},
   "outputs": [
    {
     "data": {
      "text/plain": [
       "523"
      ]
     },
     "execution_count": 69,
     "metadata": {},
     "output_type": "execute_result"
    }
   ],
   "source": [
    "data1['user_score'].count()"
   ]
  },
  {
   "cell_type": "code",
   "execution_count": 70,
   "metadata": {},
   "outputs": [
    {
     "data": {
      "text/plain": [
       "195"
      ]
     },
     "execution_count": 70,
     "metadata": {},
     "output_type": "execute_result"
    }
   ],
   "source": [
    "data2['user_score'].count()"
   ]
  },
  {
   "cell_type": "markdown",
   "metadata": {},
   "source": [
    "В первом наборе 523 значения рейтинга, во втором 195, размер выборок достаточен для проверки гипотезы."
   ]
  },
  {
   "cell_type": "markdown",
   "metadata": {},
   "source": [
    "Обозначим m_1 - средний рейтинг по жанру экшн,  m_2 - средний рейтинг по жанру спрорт."
   ]
  },
  {
   "cell_type": "markdown",
   "metadata": {},
   "source": [
    "Нам нужно проверить гипотезу о равенстве средних двух независимых выборок, альтернативная гипотеза о том, что они не равны (двустороняя гипотеза). В данном случае нас интересует альтернативная гипотеза."
   ]
  },
  {
   "cell_type": "markdown",
   "metadata": {},
   "source": [
    "H_0: m_1 = m_2"
   ]
  },
  {
   "cell_type": "markdown",
   "metadata": {},
   "source": [
    "H_1: m_1! = m_2"
   ]
  },
  {
   "cell_type": "markdown",
   "metadata": {},
   "source": [
    "Используем двухвыборочный t-test для независимых выборок с двусторонней альтернативой."
   ]
  },
  {
   "cell_type": "code",
   "execution_count": 71,
   "metadata": {},
   "outputs": [
    {
     "name": "stdout",
     "output_type": "stream",
     "text": [
      "средний рейтинг по жанру экшн: 6.83\n",
      "средний рейтинг по жанру спорт: 5.46\n",
      "p-значение: 3.716308946093586e-26\n",
      "Отвергаем нулевую гипотезу\n"
     ]
    }
   ],
   "source": [
    "alpha = 0.05 # уровень статистической значимости\n",
    "# если p-value окажется меньше него, отвергнем гипотезу\n",
    "\n",
    "results = st.ttest_ind(data1['user_score'], data2['user_score'],alternative='two-sided',nan_policy='omit')\n",
    "\n",
    "print('средний рейтинг по жанру экшн:',round(data1['user_score'].mean(),2))\n",
    "print('средний рейтинг по жанру спорт:',round(data2['user_score'].mean(),2))\n",
    "\n",
    "print('p-значение:', results.pvalue)\n",
    "\n",
    "if results.pvalue < alpha:\n",
    "    print('Отвергаем нулевую гипотезу')\n",
    "else:\n",
    "    print('Не получилось отвергнуть нулевую гипотезу') "
   ]
  },
  {
   "cell_type": "markdown",
   "metadata": {},
   "source": [
    "Итак, p-значение снова получилось очень маленькое, отвергаем нулевую гипотезу в пользу альтернативной, значит средние рейтинги по жанру экшн и спорт не равны."
   ]
  },
  {
   "cell_type": "markdown",
   "metadata": {},
   "source": [
    "<a id='section6'></a>\n",
    "<b>Заключение</b>"
   ]
  },
  {
   "cell_type": "markdown",
   "metadata": {},
   "source": [
    "Проведен анализ данных о продажах компьютерных игр за актуальный период  2012-2016 год.    \n",
    "\n",
    "1.   Предобработка выявила большое количество пропусков (> 40%)   в столбцах с рейтингами и оценками критиков и пользователей. \n",
    "В связи с их большим количеством решено не заполнять пропуски никаким другими величинами, чтобы не искажать исходное распределение.\n",
    "Аббревиатура ‘tbd’ в столбце с оценкой пользователей заменена на пропуски.\n",
    "В двух столбцах тип значений изменен для того, чтобы была возможность провести анализ данных.\n",
    "\n",
    "\n",
    "2. Проведен Исследовательский анализ\n",
    "\n",
    "Рассчитано, сколько игр выпускалось в разные годы и как менялись продажи по платформам.\n",
    "Выбраны платформы с наибольшими суммарными продажами, с ростом и падением продаж за актуальный период.\n",
    "Выявлен средний срок жизни платформы – 10 лет.\n",
    "Показано, что между отзывами пользователей и продажами нет никакой связи, между отзывами критиков и продажами есть положительная корреляция, но не очень большая, чтобы можно было говорить о линейной зависимости.\n",
    "Выявлены самые прибыльные жанры, а также жанры с  самыми низкими продажами.\n",
    "\n",
    "3. Для каждого региона (Северная Америка, Европа, Япония) выявлены самые популярные платформы и жанры.\n",
    "\n",
    "Исследовано, как рейтинг ESRB влияет на продажи в каждом регионе.\n",
    "\n",
    "4. Проверены статистические гипотезы.\n",
    "\n",
    "Выявлено, что  гипотеза о равенстве средних пользовательских рейтингов по платформам XOne и PC неверна,\n",
    "а гипотеза о том, что средние рейтинги по жанру экшн и спорт разные, верна.\n",
    "\n",
    "Таким образом, если планировать продажи на 2017 год в Европе/Америке, то можно выделить наиболее потенциально популярный продукт:\n",
    "это игра в жанре экшн/ шутер/ спорт или ролевые игры, на платформе PS4 и XOne, с рейтингом М (для взрослых)  по ESRB.\n"
   ]
  },
  {
   "cell_type": "code",
   "execution_count": null,
   "metadata": {},
   "outputs": [],
   "source": []
  }
 ],
 "metadata": {
  "ExecuteTimeLog": [
   {
    "duration": 1230,
    "start_time": "2024-10-15T14:33:51.224Z"
   },
   {
    "duration": 318,
    "start_time": "2024-10-15T14:33:53.588Z"
   },
   {
    "duration": 62,
    "start_time": "2024-10-15T14:34:02.999Z"
   },
   {
    "duration": 23,
    "start_time": "2024-10-15T14:34:22.195Z"
   },
   {
    "duration": 19,
    "start_time": "2024-10-15T14:34:34.818Z"
   },
   {
    "duration": 1253,
    "start_time": "2024-10-16T07:24:57.904Z"
   },
   {
    "duration": 187,
    "start_time": "2024-10-16T07:24:59.159Z"
   },
   {
    "duration": 18,
    "start_time": "2024-10-16T07:25:54.584Z"
   },
   {
    "duration": 3,
    "start_time": "2024-10-16T07:50:19.929Z"
   },
   {
    "duration": 57,
    "start_time": "2024-10-16T07:50:20.919Z"
   },
   {
    "duration": 29,
    "start_time": "2024-10-16T07:50:21.760Z"
   },
   {
    "duration": 11,
    "start_time": "2024-10-16T08:02:11.935Z"
   },
   {
    "duration": 102,
    "start_time": "2024-10-16T08:03:13.528Z"
   },
   {
    "duration": 16,
    "start_time": "2024-10-16T08:03:29.784Z"
   },
   {
    "duration": 14,
    "start_time": "2024-10-16T08:03:51.692Z"
   },
   {
    "duration": 13,
    "start_time": "2024-10-16T08:03:57.948Z"
   },
   {
    "duration": 14,
    "start_time": "2024-10-16T08:05:45.917Z"
   },
   {
    "duration": 16,
    "start_time": "2024-10-16T08:06:05.625Z"
   },
   {
    "duration": 9,
    "start_time": "2024-10-16T08:07:48.003Z"
   },
   {
    "duration": 8,
    "start_time": "2024-10-16T08:15:49.536Z"
   },
   {
    "duration": 5,
    "start_time": "2024-10-16T08:16:16.124Z"
   },
   {
    "duration": 3,
    "start_time": "2024-10-16T08:18:53.994Z"
   },
   {
    "duration": 4,
    "start_time": "2024-10-16T08:18:56.596Z"
   },
   {
    "duration": 15,
    "start_time": "2024-10-16T08:23:50.199Z"
   },
   {
    "duration": 8,
    "start_time": "2024-10-16T08:25:23.283Z"
   },
   {
    "duration": 13,
    "start_time": "2024-10-16T08:27:16.568Z"
   },
   {
    "duration": 7,
    "start_time": "2024-10-16T08:31:27.828Z"
   },
   {
    "duration": 2,
    "start_time": "2024-10-16T08:33:48.083Z"
   },
   {
    "duration": 2,
    "start_time": "2024-10-16T08:33:53.657Z"
   },
   {
    "duration": 803,
    "start_time": "2024-10-16T08:38:12.315Z"
   },
   {
    "duration": 12,
    "start_time": "2024-10-16T08:45:37.904Z"
   },
   {
    "duration": 3,
    "start_time": "2024-10-16T08:45:53.360Z"
   },
   {
    "duration": 5,
    "start_time": "2024-10-16T08:46:08.527Z"
   },
   {
    "duration": 10,
    "start_time": "2024-10-16T08:47:07.424Z"
   },
   {
    "duration": 12,
    "start_time": "2024-10-16T08:47:24.357Z"
   },
   {
    "duration": 24,
    "start_time": "2024-10-16T08:47:42.741Z"
   },
   {
    "duration": 9,
    "start_time": "2024-10-16T08:48:34.078Z"
   },
   {
    "duration": 8,
    "start_time": "2024-10-16T08:48:41.517Z"
   },
   {
    "duration": 8,
    "start_time": "2024-10-16T08:49:29.123Z"
   },
   {
    "duration": 8,
    "start_time": "2024-10-16T08:49:51.282Z"
   },
   {
    "duration": 25,
    "start_time": "2024-10-16T08:52:29.785Z"
   },
   {
    "duration": 14,
    "start_time": "2024-10-16T08:57:03.619Z"
   },
   {
    "duration": 5,
    "start_time": "2024-10-16T08:58:59.871Z"
   },
   {
    "duration": 6,
    "start_time": "2024-10-16T08:59:49.017Z"
   },
   {
    "duration": 4,
    "start_time": "2024-10-16T11:59:38.104Z"
   },
   {
    "duration": 76,
    "start_time": "2024-10-16T11:59:38.110Z"
   },
   {
    "duration": 18,
    "start_time": "2024-10-16T11:59:38.188Z"
   },
   {
    "duration": 17,
    "start_time": "2024-10-16T11:59:38.208Z"
   },
   {
    "duration": 3,
    "start_time": "2024-10-16T11:59:38.227Z"
   },
   {
    "duration": 8,
    "start_time": "2024-10-16T11:59:38.232Z"
   },
   {
    "duration": 10,
    "start_time": "2024-10-16T11:59:41.033Z"
   },
   {
    "duration": 9,
    "start_time": "2024-10-16T12:00:48.067Z"
   },
   {
    "duration": 11,
    "start_time": "2024-10-16T12:00:56.071Z"
   },
   {
    "duration": 5,
    "start_time": "2024-10-16T12:03:02.440Z"
   },
   {
    "duration": 5,
    "start_time": "2024-10-16T12:03:24.724Z"
   },
   {
    "duration": 4,
    "start_time": "2024-10-16T12:03:44.291Z"
   },
   {
    "duration": 5,
    "start_time": "2024-10-16T12:03:45.131Z"
   },
   {
    "duration": 16,
    "start_time": "2024-10-16T12:06:36.762Z"
   },
   {
    "duration": 8,
    "start_time": "2024-10-16T12:06:54.210Z"
   },
   {
    "duration": 9,
    "start_time": "2024-10-16T12:08:48.632Z"
   },
   {
    "duration": 11,
    "start_time": "2024-10-16T12:09:58.297Z"
   },
   {
    "duration": 5,
    "start_time": "2024-10-16T12:10:23.523Z"
   },
   {
    "duration": 12,
    "start_time": "2024-10-16T12:10:31.338Z"
   },
   {
    "duration": 14,
    "start_time": "2024-10-16T12:10:54.605Z"
   },
   {
    "duration": 10,
    "start_time": "2024-10-16T12:10:59.765Z"
   },
   {
    "duration": 10,
    "start_time": "2024-10-16T12:11:08.669Z"
   },
   {
    "duration": 9,
    "start_time": "2024-10-16T12:11:14.733Z"
   },
   {
    "duration": 11,
    "start_time": "2024-10-16T12:11:21.709Z"
   },
   {
    "duration": 11,
    "start_time": "2024-10-16T12:11:38.306Z"
   },
   {
    "duration": 7,
    "start_time": "2024-10-16T12:36:54.651Z"
   },
   {
    "duration": 5,
    "start_time": "2024-10-16T12:37:58.411Z"
   },
   {
    "duration": 5,
    "start_time": "2024-10-16T12:38:23.709Z"
   },
   {
    "duration": 69,
    "start_time": "2024-10-16T12:38:23.716Z"
   },
   {
    "duration": 18,
    "start_time": "2024-10-16T12:38:23.786Z"
   },
   {
    "duration": 21,
    "start_time": "2024-10-16T12:38:23.806Z"
   },
   {
    "duration": 3,
    "start_time": "2024-10-16T12:38:23.828Z"
   },
   {
    "duration": 11,
    "start_time": "2024-10-16T12:38:23.833Z"
   },
   {
    "duration": 23,
    "start_time": "2024-10-16T12:38:23.846Z"
   },
   {
    "duration": 12,
    "start_time": "2024-10-16T12:38:23.870Z"
   },
   {
    "duration": 5,
    "start_time": "2024-10-16T12:38:23.884Z"
   },
   {
    "duration": 7,
    "start_time": "2024-10-16T12:38:26.585Z"
   },
   {
    "duration": 4,
    "start_time": "2024-10-16T12:38:27.965Z"
   },
   {
    "duration": 6,
    "start_time": "2024-10-16T12:38:43.687Z"
   },
   {
    "duration": 4,
    "start_time": "2024-10-16T12:40:32.827Z"
   },
   {
    "duration": 6,
    "start_time": "2024-10-16T12:41:59.572Z"
   },
   {
    "duration": 3,
    "start_time": "2024-10-16T12:43:55.509Z"
   },
   {
    "duration": 74,
    "start_time": "2024-10-16T12:43:55.514Z"
   },
   {
    "duration": 16,
    "start_time": "2024-10-16T12:43:55.590Z"
   },
   {
    "duration": 24,
    "start_time": "2024-10-16T12:43:55.608Z"
   },
   {
    "duration": 2,
    "start_time": "2024-10-16T12:43:55.634Z"
   },
   {
    "duration": 10,
    "start_time": "2024-10-16T12:43:55.638Z"
   },
   {
    "duration": 21,
    "start_time": "2024-10-16T12:43:55.649Z"
   },
   {
    "duration": 8,
    "start_time": "2024-10-16T12:43:55.672Z"
   },
   {
    "duration": 15,
    "start_time": "2024-10-16T12:43:55.682Z"
   },
   {
    "duration": 6,
    "start_time": "2024-10-16T12:43:55.699Z"
   },
   {
    "duration": 4,
    "start_time": "2024-10-16T12:43:55.708Z"
   },
   {
    "duration": 7,
    "start_time": "2024-10-16T12:43:55.713Z"
   },
   {
    "duration": 6,
    "start_time": "2024-10-16T12:45:27.853Z"
   },
   {
    "duration": 3,
    "start_time": "2024-10-16T12:51:07.687Z"
   },
   {
    "duration": 13,
    "start_time": "2024-10-16T12:53:06.601Z"
   },
   {
    "duration": 17,
    "start_time": "2024-10-16T13:00:01.613Z"
   },
   {
    "duration": 13,
    "start_time": "2024-10-16T13:00:20.420Z"
   },
   {
    "duration": 4,
    "start_time": "2024-10-16T13:01:20.507Z"
   },
   {
    "duration": 83,
    "start_time": "2024-10-16T13:01:20.513Z"
   },
   {
    "duration": 20,
    "start_time": "2024-10-16T13:01:20.598Z"
   },
   {
    "duration": 14,
    "start_time": "2024-10-16T13:01:20.620Z"
   },
   {
    "duration": 3,
    "start_time": "2024-10-16T13:01:20.636Z"
   },
   {
    "duration": 5,
    "start_time": "2024-10-16T13:01:20.640Z"
   },
   {
    "duration": 23,
    "start_time": "2024-10-16T13:01:23.758Z"
   },
   {
    "duration": 11,
    "start_time": "2024-10-16T13:03:07.299Z"
   },
   {
    "duration": 10,
    "start_time": "2024-10-16T13:03:20.936Z"
   },
   {
    "duration": 7,
    "start_time": "2024-10-16T13:04:41.999Z"
   },
   {
    "duration": 6,
    "start_time": "2024-10-16T13:04:46.360Z"
   },
   {
    "duration": 7,
    "start_time": "2024-10-16T13:04:54.480Z"
   },
   {
    "duration": 19,
    "start_time": "2024-10-16T13:06:33.871Z"
   },
   {
    "duration": 18,
    "start_time": "2024-10-16T13:06:41.868Z"
   },
   {
    "duration": 12,
    "start_time": "2024-10-16T13:28:27.718Z"
   },
   {
    "duration": 5,
    "start_time": "2024-10-16T13:32:58.122Z"
   },
   {
    "duration": 5,
    "start_time": "2024-10-16T13:36:11.343Z"
   },
   {
    "duration": 7,
    "start_time": "2024-10-16T13:36:12.163Z"
   },
   {
    "duration": 1294,
    "start_time": "2024-10-16T13:41:23.735Z"
   },
   {
    "duration": 1209,
    "start_time": "2024-10-16T13:41:36.472Z"
   },
   {
    "duration": 1341,
    "start_time": "2024-10-16T13:42:34.900Z"
   },
   {
    "duration": 35,
    "start_time": "2024-10-16T13:48:31.968Z"
   },
   {
    "duration": 12,
    "start_time": "2024-10-16T13:51:57.042Z"
   },
   {
    "duration": 4,
    "start_time": "2024-10-16T13:52:03.070Z"
   },
   {
    "duration": 77,
    "start_time": "2024-10-16T13:52:03.076Z"
   },
   {
    "duration": 40,
    "start_time": "2024-10-16T13:52:03.154Z"
   },
   {
    "duration": 14,
    "start_time": "2024-10-16T13:52:03.199Z"
   },
   {
    "duration": 16,
    "start_time": "2024-10-16T13:52:03.214Z"
   },
   {
    "duration": 53,
    "start_time": "2024-10-16T13:52:03.231Z"
   },
   {
    "duration": 32,
    "start_time": "2024-10-16T13:52:03.286Z"
   },
   {
    "duration": 28,
    "start_time": "2024-10-16T13:52:03.320Z"
   },
   {
    "duration": 13,
    "start_time": "2024-10-16T13:52:03.350Z"
   },
   {
    "duration": 19,
    "start_time": "2024-10-16T13:52:03.370Z"
   },
   {
    "duration": 4,
    "start_time": "2024-10-16T13:52:03.396Z"
   },
   {
    "duration": 36,
    "start_time": "2024-10-16T13:52:03.403Z"
   },
   {
    "duration": 57,
    "start_time": "2024-10-16T13:52:03.441Z"
   },
   {
    "duration": 17,
    "start_time": "2024-10-16T13:52:03.500Z"
   },
   {
    "duration": 19,
    "start_time": "2024-10-16T13:52:03.519Z"
   },
   {
    "duration": 46,
    "start_time": "2024-10-16T13:52:03.539Z"
   },
   {
    "duration": 18,
    "start_time": "2024-10-16T13:52:05.982Z"
   },
   {
    "duration": 9,
    "start_time": "2024-10-16T13:56:09.669Z"
   },
   {
    "duration": 16,
    "start_time": "2024-10-16T13:56:17.682Z"
   },
   {
    "duration": 32,
    "start_time": "2024-10-16T13:57:20.768Z"
   },
   {
    "duration": 8,
    "start_time": "2024-10-16T13:57:27.800Z"
   },
   {
    "duration": 19,
    "start_time": "2024-10-16T13:57:30.377Z"
   },
   {
    "duration": 10,
    "start_time": "2024-10-16T13:57:42.993Z"
   },
   {
    "duration": 6,
    "start_time": "2024-10-16T13:58:55.700Z"
   },
   {
    "duration": 15,
    "start_time": "2024-10-16T13:59:04.281Z"
   },
   {
    "duration": 3,
    "start_time": "2024-10-16T13:59:09.791Z"
   },
   {
    "duration": 96,
    "start_time": "2024-10-16T13:59:09.796Z"
   },
   {
    "duration": 15,
    "start_time": "2024-10-16T13:59:09.896Z"
   },
   {
    "duration": 14,
    "start_time": "2024-10-16T13:59:09.914Z"
   },
   {
    "duration": 3,
    "start_time": "2024-10-16T13:59:09.930Z"
   },
   {
    "duration": 7,
    "start_time": "2024-10-16T13:59:09.935Z"
   },
   {
    "duration": 41,
    "start_time": "2024-10-16T13:59:09.944Z"
   },
   {
    "duration": 10,
    "start_time": "2024-10-16T13:59:09.993Z"
   },
   {
    "duration": 32,
    "start_time": "2024-10-16T13:59:10.005Z"
   },
   {
    "duration": 45,
    "start_time": "2024-10-16T13:59:10.040Z"
   },
   {
    "duration": 31,
    "start_time": "2024-10-16T13:59:10.087Z"
   },
   {
    "duration": 15,
    "start_time": "2024-10-16T13:59:10.119Z"
   },
   {
    "duration": 21,
    "start_time": "2024-10-16T13:59:10.136Z"
   },
   {
    "duration": 39,
    "start_time": "2024-10-16T13:59:10.159Z"
   },
   {
    "duration": 13,
    "start_time": "2024-10-16T13:59:10.200Z"
   },
   {
    "duration": 18,
    "start_time": "2024-10-16T13:59:10.214Z"
   },
   {
    "duration": 12,
    "start_time": "2024-10-16T13:59:19.445Z"
   },
   {
    "duration": 5,
    "start_time": "2024-10-16T13:59:39.735Z"
   },
   {
    "duration": 24,
    "start_time": "2024-10-16T14:01:15.816Z"
   },
   {
    "duration": 7,
    "start_time": "2024-10-16T14:01:24.339Z"
   },
   {
    "duration": 12,
    "start_time": "2024-10-16T14:01:34.507Z"
   },
   {
    "duration": 6,
    "start_time": "2024-10-16T14:02:13.356Z"
   },
   {
    "duration": 6,
    "start_time": "2024-10-16T14:02:15.716Z"
   },
   {
    "duration": 12,
    "start_time": "2024-10-16T14:02:29.764Z"
   },
   {
    "duration": 6,
    "start_time": "2024-10-16T14:02:31.588Z"
   },
   {
    "duration": 3,
    "start_time": "2024-10-16T14:02:37.352Z"
   },
   {
    "duration": 60,
    "start_time": "2024-10-16T14:02:37.357Z"
   },
   {
    "duration": 15,
    "start_time": "2024-10-16T14:02:37.419Z"
   },
   {
    "duration": 14,
    "start_time": "2024-10-16T14:02:37.436Z"
   },
   {
    "duration": 3,
    "start_time": "2024-10-16T14:02:37.451Z"
   },
   {
    "duration": 15,
    "start_time": "2024-10-16T14:02:37.455Z"
   },
   {
    "duration": 26,
    "start_time": "2024-10-16T14:02:37.472Z"
   },
   {
    "duration": 11,
    "start_time": "2024-10-16T14:02:37.500Z"
   },
   {
    "duration": 17,
    "start_time": "2024-10-16T14:02:37.513Z"
   },
   {
    "duration": 6,
    "start_time": "2024-10-16T14:02:37.531Z"
   },
   {
    "duration": 4,
    "start_time": "2024-10-16T14:02:37.539Z"
   },
   {
    "duration": 6,
    "start_time": "2024-10-16T14:02:37.545Z"
   },
   {
    "duration": 16,
    "start_time": "2024-10-16T14:02:37.552Z"
   },
   {
    "duration": 19,
    "start_time": "2024-10-16T14:02:37.574Z"
   },
   {
    "duration": 36,
    "start_time": "2024-10-16T14:02:37.595Z"
   },
   {
    "duration": 10,
    "start_time": "2024-10-16T14:02:37.632Z"
   },
   {
    "duration": 8,
    "start_time": "2024-10-16T14:02:39.688Z"
   },
   {
    "duration": 5,
    "start_time": "2024-10-16T14:02:41.203Z"
   },
   {
    "duration": 8,
    "start_time": "2024-10-16T14:03:44.188Z"
   },
   {
    "duration": 5,
    "start_time": "2024-10-16T14:03:45.589Z"
   },
   {
    "duration": 10,
    "start_time": "2024-10-16T14:03:47.448Z"
   },
   {
    "duration": 13,
    "start_time": "2024-10-16T14:06:02.783Z"
   },
   {
    "duration": 24,
    "start_time": "2024-10-16T14:06:41.903Z"
   },
   {
    "duration": 11,
    "start_time": "2024-10-16T14:11:47.583Z"
   },
   {
    "duration": 15,
    "start_time": "2024-10-16T14:11:49.846Z"
   },
   {
    "duration": 21,
    "start_time": "2024-10-16T14:12:04.398Z"
   },
   {
    "duration": 3,
    "start_time": "2024-10-16T14:12:32.821Z"
   },
   {
    "duration": 15,
    "start_time": "2024-10-16T14:12:33.437Z"
   },
   {
    "duration": 17,
    "start_time": "2024-10-16T14:13:39.388Z"
   },
   {
    "duration": 32,
    "start_time": "2024-10-16T14:14:50.763Z"
   },
   {
    "duration": 6,
    "start_time": "2024-10-16T14:17:00.193Z"
   },
   {
    "duration": 18,
    "start_time": "2024-10-16T14:17:16.225Z"
   },
   {
    "duration": 23,
    "start_time": "2024-10-16T14:18:16.950Z"
   },
   {
    "duration": 9,
    "start_time": "2024-10-16T14:20:14.650Z"
   },
   {
    "duration": 4,
    "start_time": "2024-10-16T14:21:31.636Z"
   },
   {
    "duration": 6,
    "start_time": "2024-10-16T14:21:33.356Z"
   },
   {
    "duration": 5,
    "start_time": "2024-10-16T14:22:23.553Z"
   },
   {
    "duration": 1519,
    "start_time": "2024-10-16T18:02:26.273Z"
   },
   {
    "duration": 251,
    "start_time": "2024-10-16T18:02:27.794Z"
   },
   {
    "duration": 21,
    "start_time": "2024-10-16T18:02:28.047Z"
   },
   {
    "duration": 14,
    "start_time": "2024-10-16T18:02:28.069Z"
   },
   {
    "duration": 2,
    "start_time": "2024-10-16T18:02:28.086Z"
   },
   {
    "duration": 15,
    "start_time": "2024-10-16T18:02:28.090Z"
   },
   {
    "duration": 16,
    "start_time": "2024-10-16T18:02:28.107Z"
   },
   {
    "duration": 13,
    "start_time": "2024-10-16T18:02:28.125Z"
   },
   {
    "duration": 8,
    "start_time": "2024-10-16T18:02:28.139Z"
   },
   {
    "duration": 41,
    "start_time": "2024-10-16T18:02:28.149Z"
   },
   {
    "duration": 6,
    "start_time": "2024-10-16T18:02:28.191Z"
   },
   {
    "duration": 7,
    "start_time": "2024-10-16T18:02:28.198Z"
   },
   {
    "duration": 8,
    "start_time": "2024-10-16T18:02:28.207Z"
   },
   {
    "duration": 12,
    "start_time": "2024-10-16T18:02:28.218Z"
   },
   {
    "duration": 5,
    "start_time": "2024-10-16T18:02:28.231Z"
   },
   {
    "duration": 9,
    "start_time": "2024-10-16T18:02:28.238Z"
   },
   {
    "duration": 7,
    "start_time": "2024-10-16T18:02:28.248Z"
   },
   {
    "duration": 42,
    "start_time": "2024-10-16T18:02:28.257Z"
   },
   {
    "duration": 6,
    "start_time": "2024-10-16T18:02:28.301Z"
   },
   {
    "duration": 21,
    "start_time": "2024-10-16T18:02:28.309Z"
   },
   {
    "duration": 13,
    "start_time": "2024-10-16T18:02:28.332Z"
   },
   {
    "duration": 4,
    "start_time": "2024-10-16T18:02:28.347Z"
   },
   {
    "duration": 33,
    "start_time": "2024-10-16T18:02:28.352Z"
   },
   {
    "duration": 35,
    "start_time": "2024-10-16T18:15:44.880Z"
   },
   {
    "duration": 17,
    "start_time": "2024-10-16T18:48:45.362Z"
   },
   {
    "duration": 107,
    "start_time": "2024-10-16T18:49:00.953Z"
   },
   {
    "duration": 17,
    "start_time": "2024-10-16T18:49:06.618Z"
   },
   {
    "duration": 16,
    "start_time": "2024-10-16T18:49:15.657Z"
   },
   {
    "duration": 16,
    "start_time": "2024-10-16T18:49:34.529Z"
   },
   {
    "duration": 16,
    "start_time": "2024-10-16T18:49:54.447Z"
   },
   {
    "duration": 17,
    "start_time": "2024-10-16T18:50:18.491Z"
   },
   {
    "duration": 17,
    "start_time": "2024-10-16T18:50:37.303Z"
   },
   {
    "duration": 17,
    "start_time": "2024-10-16T18:50:51.849Z"
   },
   {
    "duration": 1179,
    "start_time": "2024-10-17T05:47:48.256Z"
   },
   {
    "duration": 179,
    "start_time": "2024-10-17T05:47:49.436Z"
   },
   {
    "duration": 19,
    "start_time": "2024-10-17T05:47:49.616Z"
   },
   {
    "duration": 13,
    "start_time": "2024-10-17T05:47:49.637Z"
   },
   {
    "duration": 3,
    "start_time": "2024-10-17T05:47:49.653Z"
   },
   {
    "duration": 5,
    "start_time": "2024-10-17T05:47:49.657Z"
   },
   {
    "duration": 11,
    "start_time": "2024-10-17T05:47:49.663Z"
   },
   {
    "duration": 36,
    "start_time": "2024-10-17T05:47:49.676Z"
   },
   {
    "duration": 8,
    "start_time": "2024-10-17T05:47:49.713Z"
   },
   {
    "duration": 9,
    "start_time": "2024-10-17T05:47:49.722Z"
   },
   {
    "duration": 6,
    "start_time": "2024-10-17T05:47:49.732Z"
   },
   {
    "duration": 7,
    "start_time": "2024-10-17T05:47:49.740Z"
   },
   {
    "duration": 7,
    "start_time": "2024-10-17T05:47:49.748Z"
   },
   {
    "duration": 10,
    "start_time": "2024-10-17T05:47:49.759Z"
   },
   {
    "duration": 4,
    "start_time": "2024-10-17T05:47:49.771Z"
   },
   {
    "duration": 35,
    "start_time": "2024-10-17T05:47:49.777Z"
   },
   {
    "duration": 6,
    "start_time": "2024-10-17T05:47:49.814Z"
   },
   {
    "duration": 12,
    "start_time": "2024-10-17T05:47:49.822Z"
   },
   {
    "duration": 8,
    "start_time": "2024-10-17T05:47:49.835Z"
   },
   {
    "duration": 13,
    "start_time": "2024-10-17T05:47:49.844Z"
   },
   {
    "duration": 21,
    "start_time": "2024-10-17T05:47:49.858Z"
   },
   {
    "duration": 3,
    "start_time": "2024-10-17T05:47:49.880Z"
   },
   {
    "duration": 37,
    "start_time": "2024-10-17T05:47:49.884Z"
   },
   {
    "duration": 16,
    "start_time": "2024-10-17T05:47:49.923Z"
   },
   {
    "duration": 12,
    "start_time": "2024-10-17T05:47:49.941Z"
   },
   {
    "duration": 16,
    "start_time": "2024-10-17T05:53:54.641Z"
   },
   {
    "duration": 253,
    "start_time": "2024-10-17T05:58:33.768Z"
   },
   {
    "duration": 240,
    "start_time": "2024-10-17T05:58:49.478Z"
   },
   {
    "duration": 287,
    "start_time": "2024-10-17T05:59:33.782Z"
   },
   {
    "duration": 16,
    "start_time": "2024-10-17T06:01:31.518Z"
   },
   {
    "duration": 254,
    "start_time": "2024-10-17T06:01:39.532Z"
   },
   {
    "duration": 358,
    "start_time": "2024-10-17T06:03:49.076Z"
   },
   {
    "duration": 264,
    "start_time": "2024-10-17T06:04:03.383Z"
   },
   {
    "duration": 139,
    "start_time": "2024-10-17T06:17:50.144Z"
   },
   {
    "duration": 90,
    "start_time": "2024-10-17T06:17:59.271Z"
   },
   {
    "duration": 11,
    "start_time": "2024-10-17T06:18:13.375Z"
   },
   {
    "duration": 9,
    "start_time": "2024-10-17T06:18:32.280Z"
   },
   {
    "duration": 138,
    "start_time": "2024-10-17T06:18:38.711Z"
   },
   {
    "duration": 10,
    "start_time": "2024-10-17T06:18:46.112Z"
   },
   {
    "duration": 5,
    "start_time": "2024-10-17T06:20:10.084Z"
   },
   {
    "duration": 13,
    "start_time": "2024-10-17T06:20:53.134Z"
   },
   {
    "duration": 16,
    "start_time": "2024-10-17T06:21:54.473Z"
   },
   {
    "duration": 16,
    "start_time": "2024-10-17T06:22:14.315Z"
   },
   {
    "duration": 6,
    "start_time": "2024-10-17T06:23:34.054Z"
   },
   {
    "duration": 11,
    "start_time": "2024-10-17T06:25:01.361Z"
   },
   {
    "duration": 17,
    "start_time": "2024-10-17T06:25:11.436Z"
   },
   {
    "duration": 126,
    "start_time": "2024-10-17T06:27:46.721Z"
   },
   {
    "duration": 16,
    "start_time": "2024-10-17T06:28:04.442Z"
   },
   {
    "duration": 13,
    "start_time": "2024-10-17T06:31:09.521Z"
   },
   {
    "duration": 1099,
    "start_time": "2024-10-17T06:31:19.816Z"
   },
   {
    "duration": 22,
    "start_time": "2024-10-17T06:31:42.268Z"
   },
   {
    "duration": 8,
    "start_time": "2024-10-17T06:32:27.565Z"
   },
   {
    "duration": 1077,
    "start_time": "2024-10-17T06:32:34.516Z"
   },
   {
    "duration": 18,
    "start_time": "2024-10-17T06:32:50.637Z"
   },
   {
    "duration": 117,
    "start_time": "2024-10-17T06:33:34.978Z"
   },
   {
    "duration": 152,
    "start_time": "2024-10-17T06:35:52.016Z"
   },
   {
    "duration": 888,
    "start_time": "2024-10-17T06:36:26.190Z"
   },
   {
    "duration": 8,
    "start_time": "2024-10-17T06:37:48.421Z"
   },
   {
    "duration": 65,
    "start_time": "2024-10-17T06:38:14.707Z"
   },
   {
    "duration": 5,
    "start_time": "2024-10-17T06:39:09.197Z"
   },
   {
    "duration": 153,
    "start_time": "2024-10-17T06:39:27.480Z"
   },
   {
    "duration": 986,
    "start_time": "2024-10-17T06:42:19.920Z"
   },
   {
    "duration": 896,
    "start_time": "2024-10-17T06:45:34.077Z"
   },
   {
    "duration": 59,
    "start_time": "2024-10-17T06:47:27.099Z"
   },
   {
    "duration": 80,
    "start_time": "2024-10-17T06:47:52.730Z"
   },
   {
    "duration": 92,
    "start_time": "2024-10-17T06:48:09.439Z"
   },
   {
    "duration": 178,
    "start_time": "2024-10-17T06:48:37.870Z"
   },
   {
    "duration": 1001,
    "start_time": "2024-10-17T06:48:50.022Z"
   },
   {
    "duration": 51,
    "start_time": "2024-10-17T06:51:09.924Z"
   },
   {
    "duration": 141,
    "start_time": "2024-10-17T06:52:37.385Z"
   },
   {
    "duration": 125,
    "start_time": "2024-10-17T06:53:50.075Z"
   },
   {
    "duration": 123,
    "start_time": "2024-10-17T06:56:52.827Z"
   },
   {
    "duration": 128,
    "start_time": "2024-10-17T06:57:14.308Z"
   },
   {
    "duration": 199,
    "start_time": "2024-10-17T07:01:08.128Z"
   },
   {
    "duration": 168,
    "start_time": "2024-10-17T07:01:15.104Z"
   },
   {
    "duration": 126,
    "start_time": "2024-10-17T07:01:26.630Z"
   },
   {
    "duration": 18,
    "start_time": "2024-10-17T07:03:57.183Z"
   },
   {
    "duration": 953,
    "start_time": "2024-10-17T07:11:49.539Z"
   },
   {
    "duration": 161,
    "start_time": "2024-10-17T07:12:13.761Z"
   },
   {
    "duration": 99,
    "start_time": "2024-10-17T07:13:07.879Z"
   },
   {
    "duration": 133,
    "start_time": "2024-10-17T07:14:12.721Z"
   },
   {
    "duration": 134,
    "start_time": "2024-10-17T07:14:47.919Z"
   },
   {
    "duration": 139,
    "start_time": "2024-10-17T07:15:03.892Z"
   },
   {
    "duration": 155,
    "start_time": "2024-10-17T07:15:48.019Z"
   },
   {
    "duration": 179,
    "start_time": "2024-10-17T07:16:41.036Z"
   },
   {
    "duration": 12,
    "start_time": "2024-10-17T07:22:41.492Z"
   },
   {
    "duration": 171,
    "start_time": "2024-10-17T07:22:59.109Z"
   },
   {
    "duration": 168,
    "start_time": "2024-10-17T07:23:15.824Z"
   },
   {
    "duration": 2,
    "start_time": "2024-10-17T07:40:45.388Z"
   },
   {
    "duration": 6,
    "start_time": "2024-10-17T07:46:47.418Z"
   },
   {
    "duration": 8,
    "start_time": "2024-10-17T07:47:50.049Z"
   },
   {
    "duration": 4,
    "start_time": "2024-10-17T07:48:45.288Z"
   },
   {
    "duration": 4,
    "start_time": "2024-10-17T07:48:54.802Z"
   },
   {
    "duration": 23,
    "start_time": "2024-10-17T07:49:02.929Z"
   },
   {
    "duration": 13,
    "start_time": "2024-10-17T07:49:35.865Z"
   },
   {
    "duration": 11,
    "start_time": "2024-10-17T07:50:03.522Z"
   },
   {
    "duration": 14,
    "start_time": "2024-10-17T07:50:17.494Z"
   },
   {
    "duration": 19,
    "start_time": "2024-10-17T07:50:33.830Z"
   },
   {
    "duration": 8,
    "start_time": "2024-10-17T07:52:03.308Z"
   },
   {
    "duration": 12,
    "start_time": "2024-10-17T07:52:08.858Z"
   },
   {
    "duration": 10,
    "start_time": "2024-10-17T07:52:56.971Z"
   },
   {
    "duration": 11,
    "start_time": "2024-10-17T07:53:15.771Z"
   },
   {
    "duration": 3,
    "start_time": "2024-10-17T07:57:35.933Z"
   },
   {
    "duration": 19,
    "start_time": "2024-10-17T07:59:48.971Z"
   },
   {
    "duration": 13,
    "start_time": "2024-10-17T08:02:43.574Z"
   },
   {
    "duration": 23,
    "start_time": "2024-10-17T08:02:57.638Z"
   },
   {
    "duration": 2,
    "start_time": "2024-10-17T08:04:01.773Z"
   },
   {
    "duration": 5,
    "start_time": "2024-10-17T08:04:02.614Z"
   },
   {
    "duration": 13,
    "start_time": "2024-10-17T08:05:18.756Z"
   },
   {
    "duration": 16,
    "start_time": "2024-10-17T08:07:15.423Z"
   },
   {
    "duration": 25,
    "start_time": "2024-10-17T08:08:58.086Z"
   },
   {
    "duration": 12,
    "start_time": "2024-10-17T08:10:37.431Z"
   },
   {
    "duration": 35,
    "start_time": "2024-10-17T08:10:56.513Z"
   },
   {
    "duration": 2,
    "start_time": "2024-10-17T08:11:36.109Z"
   },
   {
    "duration": 966,
    "start_time": "2024-10-17T08:13:36.952Z"
   },
   {
    "duration": 309,
    "start_time": "2024-10-17T08:14:23.665Z"
   },
   {
    "duration": 261,
    "start_time": "2024-10-17T08:15:05.020Z"
   },
   {
    "duration": 256,
    "start_time": "2024-10-17T08:17:32.667Z"
   },
   {
    "duration": 4,
    "start_time": "2024-10-17T08:21:43.445Z"
   },
   {
    "duration": 12,
    "start_time": "2024-10-17T08:21:47.581Z"
   },
   {
    "duration": 2,
    "start_time": "2024-10-17T08:21:49.870Z"
   },
   {
    "duration": 5,
    "start_time": "2024-10-17T08:21:50.317Z"
   },
   {
    "duration": 17,
    "start_time": "2024-10-17T08:21:52.142Z"
   },
   {
    "duration": 246,
    "start_time": "2024-10-17T08:21:57.261Z"
   },
   {
    "duration": 242,
    "start_time": "2024-10-17T08:22:01.765Z"
   },
   {
    "duration": 255,
    "start_time": "2024-10-17T08:22:37.053Z"
   },
   {
    "duration": 257,
    "start_time": "2024-10-17T08:24:38.234Z"
   },
   {
    "duration": 375,
    "start_time": "2024-10-17T08:26:37.375Z"
   },
   {
    "duration": 5,
    "start_time": "2024-10-17T08:52:27.357Z"
   },
   {
    "duration": 12,
    "start_time": "2024-10-17T08:54:09.754Z"
   },
   {
    "duration": 3,
    "start_time": "2024-10-17T08:56:11.399Z"
   },
   {
    "duration": 3,
    "start_time": "2024-10-17T08:56:25.119Z"
   },
   {
    "duration": 263,
    "start_time": "2024-10-17T08:57:56.830Z"
   },
   {
    "duration": 254,
    "start_time": "2024-10-17T08:58:41.500Z"
   },
   {
    "duration": 244,
    "start_time": "2024-10-17T08:58:56.180Z"
   },
   {
    "duration": 121,
    "start_time": "2024-10-17T09:07:06.122Z"
   },
   {
    "duration": 1315,
    "start_time": "2024-10-17T15:39:17.402Z"
   },
   {
    "duration": 168,
    "start_time": "2024-10-17T15:39:18.719Z"
   },
   {
    "duration": 21,
    "start_time": "2024-10-17T15:39:18.888Z"
   },
   {
    "duration": 14,
    "start_time": "2024-10-17T15:39:18.910Z"
   },
   {
    "duration": 3,
    "start_time": "2024-10-17T15:39:18.926Z"
   },
   {
    "duration": 9,
    "start_time": "2024-10-17T15:39:18.930Z"
   },
   {
    "duration": 10,
    "start_time": "2024-10-17T15:39:18.940Z"
   },
   {
    "duration": 11,
    "start_time": "2024-10-17T15:39:18.951Z"
   },
   {
    "duration": 8,
    "start_time": "2024-10-17T15:39:18.964Z"
   },
   {
    "duration": 6,
    "start_time": "2024-10-17T15:39:18.974Z"
   },
   {
    "duration": 10,
    "start_time": "2024-10-17T15:39:18.981Z"
   },
   {
    "duration": 14,
    "start_time": "2024-10-17T15:39:18.993Z"
   },
   {
    "duration": 8,
    "start_time": "2024-10-17T15:39:19.009Z"
   },
   {
    "duration": 12,
    "start_time": "2024-10-17T15:39:19.042Z"
   },
   {
    "duration": 6,
    "start_time": "2024-10-17T15:39:19.056Z"
   },
   {
    "duration": 5,
    "start_time": "2024-10-17T15:39:19.064Z"
   },
   {
    "duration": 12,
    "start_time": "2024-10-17T15:39:19.070Z"
   },
   {
    "duration": 15,
    "start_time": "2024-10-17T15:39:19.083Z"
   },
   {
    "duration": 17,
    "start_time": "2024-10-17T15:39:19.100Z"
   },
   {
    "duration": 29,
    "start_time": "2024-10-17T15:39:19.119Z"
   },
   {
    "duration": 22,
    "start_time": "2024-10-17T15:39:19.150Z"
   },
   {
    "duration": 6,
    "start_time": "2024-10-17T15:39:19.174Z"
   },
   {
    "duration": 29,
    "start_time": "2024-10-17T15:39:19.181Z"
   },
   {
    "duration": 46,
    "start_time": "2024-10-17T15:39:19.212Z"
   },
   {
    "duration": 358,
    "start_time": "2024-10-17T15:39:19.259Z"
   },
   {
    "duration": 5,
    "start_time": "2024-10-17T15:39:19.619Z"
   },
   {
    "duration": 25,
    "start_time": "2024-10-17T15:39:19.625Z"
   },
   {
    "duration": 3,
    "start_time": "2024-10-17T15:39:19.651Z"
   },
   {
    "duration": 6,
    "start_time": "2024-10-17T15:39:19.655Z"
   },
   {
    "duration": 32,
    "start_time": "2024-10-17T15:39:19.662Z"
   },
   {
    "duration": 363,
    "start_time": "2024-10-17T15:39:19.696Z"
   },
   {
    "duration": 4,
    "start_time": "2024-10-17T15:39:20.061Z"
   },
   {
    "duration": 55,
    "start_time": "2024-10-17T15:39:20.067Z"
   },
   {
    "duration": 4,
    "start_time": "2024-10-17T15:39:20.123Z"
   },
   {
    "duration": 278,
    "start_time": "2024-10-17T15:39:20.128Z"
   },
   {
    "duration": 245,
    "start_time": "2024-10-17T15:39:20.408Z"
   },
   {
    "duration": 0,
    "start_time": "2024-10-17T15:39:20.655Z"
   },
   {
    "duration": 301,
    "start_time": "2024-10-17T15:46:14.134Z"
   },
   {
    "duration": 3,
    "start_time": "2024-10-17T15:46:41.145Z"
   },
   {
    "duration": 73,
    "start_time": "2024-10-17T15:46:41.150Z"
   },
   {
    "duration": 16,
    "start_time": "2024-10-17T15:46:41.225Z"
   },
   {
    "duration": 15,
    "start_time": "2024-10-17T15:46:41.242Z"
   },
   {
    "duration": 6,
    "start_time": "2024-10-17T15:46:41.260Z"
   },
   {
    "duration": 7,
    "start_time": "2024-10-17T15:46:41.268Z"
   },
   {
    "duration": 14,
    "start_time": "2024-10-17T15:46:41.277Z"
   },
   {
    "duration": 12,
    "start_time": "2024-10-17T15:46:41.292Z"
   },
   {
    "duration": 8,
    "start_time": "2024-10-17T15:46:41.305Z"
   },
   {
    "duration": 32,
    "start_time": "2024-10-17T15:46:41.315Z"
   },
   {
    "duration": 5,
    "start_time": "2024-10-17T15:46:41.349Z"
   },
   {
    "duration": 10,
    "start_time": "2024-10-17T15:46:41.355Z"
   },
   {
    "duration": 7,
    "start_time": "2024-10-17T15:46:41.369Z"
   },
   {
    "duration": 12,
    "start_time": "2024-10-17T15:46:41.378Z"
   },
   {
    "duration": 6,
    "start_time": "2024-10-17T15:46:41.391Z"
   },
   {
    "duration": 16,
    "start_time": "2024-10-17T15:46:41.399Z"
   },
   {
    "duration": 31,
    "start_time": "2024-10-17T15:46:41.416Z"
   },
   {
    "duration": 11,
    "start_time": "2024-10-17T15:46:41.449Z"
   },
   {
    "duration": 12,
    "start_time": "2024-10-17T15:46:41.461Z"
   },
   {
    "duration": 15,
    "start_time": "2024-10-17T15:46:41.474Z"
   },
   {
    "duration": 13,
    "start_time": "2024-10-17T15:46:41.490Z"
   },
   {
    "duration": 4,
    "start_time": "2024-10-17T15:46:41.504Z"
   },
   {
    "duration": 45,
    "start_time": "2024-10-17T15:46:41.509Z"
   },
   {
    "duration": 95,
    "start_time": "2024-10-17T15:46:41.556Z"
   },
   {
    "duration": 399,
    "start_time": "2024-10-17T15:46:41.653Z"
   },
   {
    "duration": 5,
    "start_time": "2024-10-17T15:46:42.055Z"
   },
   {
    "duration": 86,
    "start_time": "2024-10-17T15:46:42.061Z"
   },
   {
    "duration": 25,
    "start_time": "2024-10-17T15:46:42.148Z"
   },
   {
    "duration": 8,
    "start_time": "2024-10-17T15:46:42.175Z"
   },
   {
    "duration": 21,
    "start_time": "2024-10-17T15:46:42.185Z"
   },
   {
    "duration": 320,
    "start_time": "2024-10-17T15:46:42.207Z"
   },
   {
    "duration": 4,
    "start_time": "2024-10-17T15:46:42.529Z"
   },
   {
    "duration": 29,
    "start_time": "2024-10-17T15:46:42.534Z"
   },
   {
    "duration": 5,
    "start_time": "2024-10-17T15:46:42.564Z"
   },
   {
    "duration": 300,
    "start_time": "2024-10-17T15:46:42.570Z"
   },
   {
    "duration": 139,
    "start_time": "2024-10-17T15:46:42.872Z"
   },
   {
    "duration": 0,
    "start_time": "2024-10-17T15:46:43.012Z"
   },
   {
    "duration": 1000,
    "start_time": "2024-10-17T15:49:29.168Z"
   },
   {
    "duration": 122,
    "start_time": "2024-10-17T15:51:02.967Z"
   },
   {
    "duration": 203,
    "start_time": "2024-10-17T15:51:35.224Z"
   },
   {
    "duration": 89,
    "start_time": "2024-10-17T15:53:40.625Z"
   },
   {
    "duration": 131,
    "start_time": "2024-10-17T15:58:48.276Z"
   },
   {
    "duration": 271,
    "start_time": "2024-10-17T17:21:20.998Z"
   },
   {
    "duration": 278,
    "start_time": "2024-10-17T17:21:42.635Z"
   },
   {
    "duration": 97,
    "start_time": "2024-10-17T17:29:09.073Z"
   },
   {
    "duration": 119,
    "start_time": "2024-10-17T17:29:41.864Z"
   },
   {
    "duration": 102,
    "start_time": "2024-10-17T17:30:00.317Z"
   },
   {
    "duration": 113,
    "start_time": "2024-10-17T17:31:17.496Z"
   },
   {
    "duration": 234,
    "start_time": "2024-10-17T17:39:54.525Z"
   },
   {
    "duration": 25,
    "start_time": "2024-10-17T17:42:22.041Z"
   },
   {
    "duration": 350,
    "start_time": "2024-10-17T17:43:32.928Z"
   },
   {
    "duration": 255,
    "start_time": "2024-10-17T17:44:12.934Z"
   },
   {
    "duration": 259,
    "start_time": "2024-10-17T17:44:28.862Z"
   },
   {
    "duration": 183,
    "start_time": "2024-10-17T17:46:35.314Z"
   },
   {
    "duration": 19,
    "start_time": "2024-10-17T17:47:55.568Z"
   },
   {
    "duration": 194,
    "start_time": "2024-10-17T17:48:24.492Z"
   },
   {
    "duration": 183,
    "start_time": "2024-10-17T17:49:37.282Z"
   },
   {
    "duration": 25,
    "start_time": "2024-10-17T17:50:00.322Z"
   },
   {
    "duration": 18,
    "start_time": "2024-10-17T17:50:12.085Z"
   },
   {
    "duration": 293,
    "start_time": "2024-10-17T17:52:27.632Z"
   },
   {
    "duration": 196,
    "start_time": "2024-10-17T17:54:03.409Z"
   },
   {
    "duration": 215,
    "start_time": "2024-10-17T17:57:17.549Z"
   },
   {
    "duration": 209,
    "start_time": "2024-10-17T17:59:45.722Z"
   },
   {
    "duration": 208,
    "start_time": "2024-10-17T18:00:16.643Z"
   },
   {
    "duration": 142,
    "start_time": "2024-10-17T18:07:32.122Z"
   },
   {
    "duration": 139,
    "start_time": "2024-10-17T18:07:50.208Z"
   },
   {
    "duration": 14,
    "start_time": "2024-10-17T18:08:24.107Z"
   },
   {
    "duration": 144,
    "start_time": "2024-10-17T18:08:32.408Z"
   },
   {
    "duration": 165,
    "start_time": "2024-10-17T18:12:21.359Z"
   },
   {
    "duration": 175,
    "start_time": "2024-10-17T18:12:35.351Z"
   },
   {
    "duration": 6,
    "start_time": "2024-10-17T18:15:21.564Z"
   },
   {
    "duration": 4,
    "start_time": "2024-10-17T18:15:43.577Z"
   },
   {
    "duration": 3,
    "start_time": "2024-10-17T18:18:14.503Z"
   },
   {
    "duration": 143,
    "start_time": "2024-10-17T18:18:14.509Z"
   },
   {
    "duration": 50,
    "start_time": "2024-10-17T18:18:14.654Z"
   },
   {
    "duration": 29,
    "start_time": "2024-10-17T18:18:14.706Z"
   },
   {
    "duration": 11,
    "start_time": "2024-10-17T18:18:14.738Z"
   },
   {
    "duration": 23,
    "start_time": "2024-10-17T18:18:14.751Z"
   },
   {
    "duration": 23,
    "start_time": "2024-10-17T18:18:14.775Z"
   },
   {
    "duration": 27,
    "start_time": "2024-10-17T18:18:14.799Z"
   },
   {
    "duration": 37,
    "start_time": "2024-10-17T18:18:14.828Z"
   },
   {
    "duration": 22,
    "start_time": "2024-10-17T18:18:14.867Z"
   },
   {
    "duration": 12,
    "start_time": "2024-10-17T18:18:14.890Z"
   },
   {
    "duration": 30,
    "start_time": "2024-10-17T18:18:14.904Z"
   },
   {
    "duration": 19,
    "start_time": "2024-10-17T18:18:14.937Z"
   },
   {
    "duration": 13,
    "start_time": "2024-10-17T18:18:14.957Z"
   },
   {
    "duration": 12,
    "start_time": "2024-10-17T18:18:14.972Z"
   },
   {
    "duration": 22,
    "start_time": "2024-10-17T18:18:14.986Z"
   },
   {
    "duration": 27,
    "start_time": "2024-10-17T18:18:15.010Z"
   },
   {
    "duration": 31,
    "start_time": "2024-10-17T18:18:15.039Z"
   },
   {
    "duration": 29,
    "start_time": "2024-10-17T18:18:15.071Z"
   },
   {
    "duration": 90,
    "start_time": "2024-10-17T18:18:15.102Z"
   },
   {
    "duration": 18,
    "start_time": "2024-10-17T18:18:15.194Z"
   },
   {
    "duration": 10,
    "start_time": "2024-10-17T18:18:15.214Z"
   },
   {
    "duration": 23,
    "start_time": "2024-10-17T18:18:15.227Z"
   },
   {
    "duration": 21,
    "start_time": "2024-10-17T18:18:15.253Z"
   },
   {
    "duration": 374,
    "start_time": "2024-10-17T18:18:15.276Z"
   },
   {
    "duration": 7,
    "start_time": "2024-10-17T18:18:15.652Z"
   },
   {
    "duration": 28,
    "start_time": "2024-10-17T18:18:15.660Z"
   },
   {
    "duration": 3,
    "start_time": "2024-10-17T18:18:15.690Z"
   },
   {
    "duration": 7,
    "start_time": "2024-10-17T18:18:15.695Z"
   },
   {
    "duration": 42,
    "start_time": "2024-10-17T18:18:15.703Z"
   },
   {
    "duration": 431,
    "start_time": "2024-10-17T18:18:15.747Z"
   },
   {
    "duration": 5,
    "start_time": "2024-10-17T18:18:16.180Z"
   },
   {
    "duration": 44,
    "start_time": "2024-10-17T18:18:16.187Z"
   },
   {
    "duration": 10,
    "start_time": "2024-10-17T18:18:16.233Z"
   },
   {
    "duration": 287,
    "start_time": "2024-10-17T18:18:16.244Z"
   },
   {
    "duration": 224,
    "start_time": "2024-10-17T18:18:16.534Z"
   },
   {
    "duration": 215,
    "start_time": "2024-10-17T18:18:16.763Z"
   },
   {
    "duration": 216,
    "start_time": "2024-10-17T18:18:16.980Z"
   },
   {
    "duration": 6,
    "start_time": "2024-10-17T18:18:17.198Z"
   },
   {
    "duration": 4,
    "start_time": "2024-10-17T18:18:17.206Z"
   },
   {
    "duration": 7,
    "start_time": "2024-10-17T18:19:15.664Z"
   },
   {
    "duration": 9,
    "start_time": "2024-10-17T18:20:02.487Z"
   },
   {
    "duration": 9,
    "start_time": "2024-10-17T18:20:46.134Z"
   },
   {
    "duration": 199,
    "start_time": "2024-10-17T18:29:39.107Z"
   },
   {
    "duration": 188,
    "start_time": "2024-10-17T18:30:14.222Z"
   },
   {
    "duration": 214,
    "start_time": "2024-10-17T18:30:54.776Z"
   },
   {
    "duration": 6,
    "start_time": "2024-10-17T18:33:27.368Z"
   },
   {
    "duration": 5,
    "start_time": "2024-10-17T18:34:04.567Z"
   },
   {
    "duration": 9,
    "start_time": "2024-10-17T18:40:15.140Z"
   },
   {
    "duration": 8,
    "start_time": "2024-10-17T18:40:39.401Z"
   },
   {
    "duration": 10,
    "start_time": "2024-10-17T18:40:50.987Z"
   },
   {
    "duration": 73,
    "start_time": "2024-10-17T18:41:12.929Z"
   },
   {
    "duration": 10,
    "start_time": "2024-10-17T18:41:22.017Z"
   },
   {
    "duration": 13,
    "start_time": "2024-10-17T18:41:34.115Z"
   },
   {
    "duration": 10,
    "start_time": "2024-10-17T18:42:13.927Z"
   },
   {
    "duration": 12,
    "start_time": "2024-10-17T18:43:08.894Z"
   },
   {
    "duration": 11,
    "start_time": "2024-10-17T18:43:40.374Z"
   },
   {
    "duration": 14,
    "start_time": "2024-10-17T18:44:38.605Z"
   },
   {
    "duration": 16,
    "start_time": "2024-10-17T18:51:11.475Z"
   },
   {
    "duration": 14,
    "start_time": "2024-10-17T18:51:40.484Z"
   },
   {
    "duration": 1345,
    "start_time": "2024-10-18T06:00:14.946Z"
   },
   {
    "duration": 210,
    "start_time": "2024-10-18T06:00:16.293Z"
   },
   {
    "duration": 20,
    "start_time": "2024-10-18T06:00:16.504Z"
   },
   {
    "duration": 15,
    "start_time": "2024-10-18T06:00:16.526Z"
   },
   {
    "duration": 3,
    "start_time": "2024-10-18T06:00:16.544Z"
   },
   {
    "duration": 6,
    "start_time": "2024-10-18T06:00:16.548Z"
   },
   {
    "duration": 11,
    "start_time": "2024-10-18T06:00:16.555Z"
   },
   {
    "duration": 11,
    "start_time": "2024-10-18T06:00:16.567Z"
   },
   {
    "duration": 14,
    "start_time": "2024-10-18T06:00:16.580Z"
   },
   {
    "duration": 45,
    "start_time": "2024-10-18T06:00:16.595Z"
   },
   {
    "duration": 10,
    "start_time": "2024-10-18T06:00:16.642Z"
   },
   {
    "duration": 7,
    "start_time": "2024-10-18T06:00:16.654Z"
   },
   {
    "duration": 8,
    "start_time": "2024-10-18T06:00:16.663Z"
   },
   {
    "duration": 11,
    "start_time": "2024-10-18T06:00:16.674Z"
   },
   {
    "duration": 5,
    "start_time": "2024-10-18T06:00:16.687Z"
   },
   {
    "duration": 5,
    "start_time": "2024-10-18T06:00:16.694Z"
   },
   {
    "duration": 15,
    "start_time": "2024-10-18T06:00:16.701Z"
   },
   {
    "duration": 11,
    "start_time": "2024-10-18T06:00:16.717Z"
   },
   {
    "duration": 31,
    "start_time": "2024-10-18T06:00:16.730Z"
   },
   {
    "duration": 17,
    "start_time": "2024-10-18T06:00:16.762Z"
   },
   {
    "duration": 14,
    "start_time": "2024-10-18T06:00:16.780Z"
   },
   {
    "duration": 5,
    "start_time": "2024-10-18T06:00:16.795Z"
   },
   {
    "duration": 20,
    "start_time": "2024-10-18T06:00:16.801Z"
   },
   {
    "duration": 43,
    "start_time": "2024-10-18T06:00:16.822Z"
   },
   {
    "duration": 342,
    "start_time": "2024-10-18T06:00:16.867Z"
   },
   {
    "duration": 5,
    "start_time": "2024-10-18T06:00:17.211Z"
   },
   {
    "duration": 16,
    "start_time": "2024-10-18T06:00:17.218Z"
   },
   {
    "duration": 18,
    "start_time": "2024-10-18T06:00:17.235Z"
   },
   {
    "duration": 9,
    "start_time": "2024-10-18T06:00:17.254Z"
   },
   {
    "duration": 29,
    "start_time": "2024-10-18T06:00:17.264Z"
   },
   {
    "duration": 326,
    "start_time": "2024-10-18T06:00:17.294Z"
   },
   {
    "duration": 4,
    "start_time": "2024-10-18T06:00:17.622Z"
   },
   {
    "duration": 24,
    "start_time": "2024-10-18T06:00:17.627Z"
   },
   {
    "duration": 3,
    "start_time": "2024-10-18T06:00:17.653Z"
   },
   {
    "duration": 286,
    "start_time": "2024-10-18T06:00:17.657Z"
   },
   {
    "duration": 225,
    "start_time": "2024-10-18T06:00:17.951Z"
   },
   {
    "duration": 233,
    "start_time": "2024-10-18T06:00:18.178Z"
   },
   {
    "duration": 272,
    "start_time": "2024-10-18T06:00:18.413Z"
   },
   {
    "duration": 12,
    "start_time": "2024-10-18T06:00:18.687Z"
   },
   {
    "duration": 11,
    "start_time": "2024-10-18T06:00:18.701Z"
   },
   {
    "duration": 41,
    "start_time": "2024-10-18T06:00:18.715Z"
   },
   {
    "duration": 14,
    "start_time": "2024-10-18T06:00:18.757Z"
   },
   {
    "duration": 41,
    "start_time": "2024-10-18T06:05:58.782Z"
   },
   {
    "duration": 16,
    "start_time": "2024-10-18T06:08:20.124Z"
   },
   {
    "duration": 13,
    "start_time": "2024-10-18T06:10:16.248Z"
   },
   {
    "duration": 4,
    "start_time": "2024-10-18T06:13:12.235Z"
   },
   {
    "duration": 1011,
    "start_time": "2024-10-18T06:22:08.057Z"
   },
   {
    "duration": 50,
    "start_time": "2024-10-18T06:23:02.384Z"
   },
   {
    "duration": 12,
    "start_time": "2024-10-18T06:23:16.334Z"
   },
   {
    "duration": 4,
    "start_time": "2024-10-18T06:24:27.660Z"
   },
   {
    "duration": 8,
    "start_time": "2024-10-18T06:24:56.586Z"
   },
   {
    "duration": 14,
    "start_time": "2024-10-18T06:25:22.866Z"
   },
   {
    "duration": 13,
    "start_time": "2024-10-18T06:27:32.982Z"
   },
   {
    "duration": 4,
    "start_time": "2024-10-18T06:28:07.783Z"
   },
   {
    "duration": 3,
    "start_time": "2024-10-18T06:34:20.632Z"
   },
   {
    "duration": 4,
    "start_time": "2024-10-18T06:34:22.056Z"
   },
   {
    "duration": 5,
    "start_time": "2024-10-18T06:35:13.962Z"
   },
   {
    "duration": 3,
    "start_time": "2024-10-18T06:35:16.826Z"
   },
   {
    "duration": 183,
    "start_time": "2024-10-18T06:39:47.120Z"
   },
   {
    "duration": 175,
    "start_time": "2024-10-18T06:39:57.279Z"
   },
   {
    "duration": 175,
    "start_time": "2024-10-18T06:40:18.081Z"
   },
   {
    "duration": 202,
    "start_time": "2024-10-18T06:45:47.218Z"
   },
   {
    "duration": 317,
    "start_time": "2024-10-18T06:50:13.658Z"
   },
   {
    "duration": 269,
    "start_time": "2024-10-18T06:50:35.821Z"
   },
   {
    "duration": 277,
    "start_time": "2024-10-18T06:50:49.499Z"
   },
   {
    "duration": 201,
    "start_time": "2024-10-18T07:24:00.038Z"
   },
   {
    "duration": 202,
    "start_time": "2024-10-18T07:24:44.273Z"
   },
   {
    "duration": 213,
    "start_time": "2024-10-18T07:24:54.333Z"
   },
   {
    "duration": 15,
    "start_time": "2024-10-18T07:42:46.889Z"
   },
   {
    "duration": 19,
    "start_time": "2024-10-18T07:43:02.305Z"
   },
   {
    "duration": 15,
    "start_time": "2024-10-18T07:43:06.921Z"
   },
   {
    "duration": 15,
    "start_time": "2024-10-18T07:43:23.023Z"
   },
   {
    "duration": 173,
    "start_time": "2024-10-18T07:43:58.079Z"
   },
   {
    "duration": 16,
    "start_time": "2024-10-18T07:44:03.277Z"
   },
   {
    "duration": 16,
    "start_time": "2024-10-18T07:45:07.087Z"
   },
   {
    "duration": 13,
    "start_time": "2024-10-18T07:45:17.500Z"
   },
   {
    "duration": 16,
    "start_time": "2024-10-18T07:45:40.779Z"
   },
   {
    "duration": 14,
    "start_time": "2024-10-18T07:46:05.446Z"
   },
   {
    "duration": 104,
    "start_time": "2024-10-18T07:46:22.732Z"
   },
   {
    "duration": 14,
    "start_time": "2024-10-18T07:46:31.410Z"
   },
   {
    "duration": 53,
    "start_time": "2024-10-18T07:47:15.353Z"
   },
   {
    "duration": 48,
    "start_time": "2024-10-18T07:47:18.693Z"
   },
   {
    "duration": 49,
    "start_time": "2024-10-18T07:47:21.521Z"
   },
   {
    "duration": 50,
    "start_time": "2024-10-18T07:47:24.036Z"
   },
   {
    "duration": 49,
    "start_time": "2024-10-18T07:47:28.052Z"
   },
   {
    "duration": 54,
    "start_time": "2024-10-18T07:47:30.729Z"
   },
   {
    "duration": 214,
    "start_time": "2024-10-18T07:47:41.549Z"
   },
   {
    "duration": 219,
    "start_time": "2024-10-18T07:48:00.033Z"
   },
   {
    "duration": 13,
    "start_time": "2024-10-18T07:50:36.694Z"
   },
   {
    "duration": 4,
    "start_time": "2024-10-18T07:51:39.558Z"
   },
   {
    "duration": 63,
    "start_time": "2024-10-18T07:51:39.564Z"
   },
   {
    "duration": 16,
    "start_time": "2024-10-18T07:51:39.629Z"
   },
   {
    "duration": 15,
    "start_time": "2024-10-18T07:51:39.647Z"
   },
   {
    "duration": 4,
    "start_time": "2024-10-18T07:51:39.664Z"
   },
   {
    "duration": 4,
    "start_time": "2024-10-18T07:51:39.670Z"
   },
   {
    "duration": 11,
    "start_time": "2024-10-18T07:51:39.676Z"
   },
   {
    "duration": 12,
    "start_time": "2024-10-18T07:51:39.688Z"
   },
   {
    "duration": 9,
    "start_time": "2024-10-18T07:51:39.701Z"
   },
   {
    "duration": 45,
    "start_time": "2024-10-18T07:51:39.711Z"
   },
   {
    "duration": 4,
    "start_time": "2024-10-18T07:51:39.759Z"
   },
   {
    "duration": 6,
    "start_time": "2024-10-18T07:51:39.764Z"
   },
   {
    "duration": 8,
    "start_time": "2024-10-18T07:51:39.772Z"
   },
   {
    "duration": 11,
    "start_time": "2024-10-18T07:51:39.782Z"
   },
   {
    "duration": 5,
    "start_time": "2024-10-18T07:51:39.795Z"
   },
   {
    "duration": 9,
    "start_time": "2024-10-18T07:51:39.802Z"
   },
   {
    "duration": 6,
    "start_time": "2024-10-18T07:51:39.852Z"
   },
   {
    "duration": 12,
    "start_time": "2024-10-18T07:51:39.859Z"
   },
   {
    "duration": 6,
    "start_time": "2024-10-18T07:51:39.873Z"
   },
   {
    "duration": 15,
    "start_time": "2024-10-18T07:51:39.881Z"
   },
   {
    "duration": 14,
    "start_time": "2024-10-18T07:51:39.898Z"
   },
   {
    "duration": 41,
    "start_time": "2024-10-18T07:51:39.914Z"
   },
   {
    "duration": 18,
    "start_time": "2024-10-18T07:51:39.957Z"
   },
   {
    "duration": 21,
    "start_time": "2024-10-18T07:51:39.977Z"
   },
   {
    "duration": 353,
    "start_time": "2024-10-18T07:51:40.000Z"
   },
   {
    "duration": 5,
    "start_time": "2024-10-18T07:51:40.355Z"
   },
   {
    "duration": 15,
    "start_time": "2024-10-18T07:51:40.361Z"
   },
   {
    "duration": 3,
    "start_time": "2024-10-18T07:51:40.377Z"
   },
   {
    "duration": 7,
    "start_time": "2024-10-18T07:51:40.383Z"
   },
   {
    "duration": 23,
    "start_time": "2024-10-18T07:51:40.391Z"
   },
   {
    "duration": 342,
    "start_time": "2024-10-18T07:51:40.415Z"
   },
   {
    "duration": 6,
    "start_time": "2024-10-18T07:51:40.758Z"
   },
   {
    "duration": 14,
    "start_time": "2024-10-18T07:51:40.765Z"
   },
   {
    "duration": 3,
    "start_time": "2024-10-18T07:51:40.781Z"
   },
   {
    "duration": 309,
    "start_time": "2024-10-18T07:51:40.785Z"
   },
   {
    "duration": 220,
    "start_time": "2024-10-18T07:51:41.096Z"
   },
   {
    "duration": 185,
    "start_time": "2024-10-18T07:51:41.318Z"
   },
   {
    "duration": 192,
    "start_time": "2024-10-18T07:51:41.504Z"
   },
   {
    "duration": 9,
    "start_time": "2024-10-18T07:51:41.698Z"
   },
   {
    "duration": 13,
    "start_time": "2024-10-18T07:51:41.709Z"
   },
   {
    "duration": 4,
    "start_time": "2024-10-18T07:51:41.723Z"
   },
   {
    "duration": 8,
    "start_time": "2024-10-18T07:51:41.753Z"
   },
   {
    "duration": 17,
    "start_time": "2024-10-18T07:51:41.763Z"
   },
   {
    "duration": 228,
    "start_time": "2024-10-18T07:51:41.782Z"
   },
   {
    "duration": 15,
    "start_time": "2024-10-18T07:51:42.012Z"
   },
   {
    "duration": 27,
    "start_time": "2024-10-18T07:51:42.028Z"
   },
   {
    "duration": 14,
    "start_time": "2024-10-18T07:51:42.056Z"
   },
   {
    "duration": 15,
    "start_time": "2024-10-18T08:06:54.120Z"
   },
   {
    "duration": 14,
    "start_time": "2024-10-18T08:14:32.446Z"
   },
   {
    "duration": 14,
    "start_time": "2024-10-18T08:15:34.662Z"
   },
   {
    "duration": 14,
    "start_time": "2024-10-18T08:16:16.053Z"
   },
   {
    "duration": 13,
    "start_time": "2024-10-18T08:16:28.017Z"
   },
   {
    "duration": 360,
    "start_time": "2024-10-18T08:40:10.982Z"
   },
   {
    "duration": 305,
    "start_time": "2024-10-18T08:40:51.342Z"
   },
   {
    "duration": 206,
    "start_time": "2024-10-18T08:41:18.748Z"
   },
   {
    "duration": 195,
    "start_time": "2024-10-18T08:41:45.336Z"
   },
   {
    "duration": 269,
    "start_time": "2024-10-18T08:50:31.010Z"
   },
   {
    "duration": 578,
    "start_time": "2024-10-18T08:52:11.404Z"
   },
   {
    "duration": 13,
    "start_time": "2024-10-18T08:56:55.601Z"
   },
   {
    "duration": 13,
    "start_time": "2024-10-18T08:57:13.585Z"
   },
   {
    "duration": 14,
    "start_time": "2024-10-18T08:57:17.817Z"
   },
   {
    "duration": 14,
    "start_time": "2024-10-18T08:57:33.855Z"
   },
   {
    "duration": 13,
    "start_time": "2024-10-18T08:57:48.173Z"
   },
   {
    "duration": 18,
    "start_time": "2024-10-18T12:17:27.098Z"
   },
   {
    "duration": 13,
    "start_time": "2024-10-18T12:17:31.858Z"
   },
   {
    "duration": 14,
    "start_time": "2024-10-18T12:17:35.564Z"
   },
   {
    "duration": 4,
    "start_time": "2024-10-18T12:45:12.749Z"
   },
   {
    "duration": 3,
    "start_time": "2024-10-18T12:45:29.204Z"
   },
   {
    "duration": 11,
    "start_time": "2024-10-18T12:45:48.612Z"
   },
   {
    "duration": 11,
    "start_time": "2024-10-18T12:46:04.437Z"
   },
   {
    "duration": 9,
    "start_time": "2024-10-18T12:46:56.879Z"
   },
   {
    "duration": 5,
    "start_time": "2024-10-18T12:47:31.414Z"
   },
   {
    "duration": 3,
    "start_time": "2024-10-18T12:47:31.953Z"
   },
   {
    "duration": 15,
    "start_time": "2024-10-18T12:47:32.448Z"
   },
   {
    "duration": 10,
    "start_time": "2024-10-18T12:48:20.273Z"
   },
   {
    "duration": 12,
    "start_time": "2024-10-18T12:48:34.475Z"
   },
   {
    "duration": 12,
    "start_time": "2024-10-18T12:59:51.712Z"
   },
   {
    "duration": 8,
    "start_time": "2024-10-18T12:59:52.263Z"
   },
   {
    "duration": 8,
    "start_time": "2024-10-18T13:03:09.434Z"
   },
   {
    "duration": 8,
    "start_time": "2024-10-18T13:12:04.567Z"
   },
   {
    "duration": 4,
    "start_time": "2024-10-18T13:13:23.479Z"
   },
   {
    "duration": 3,
    "start_time": "2024-10-18T13:13:24.022Z"
   },
   {
    "duration": 12,
    "start_time": "2024-10-18T13:13:34.800Z"
   },
   {
    "duration": 5,
    "start_time": "2024-10-18T13:14:06.366Z"
   },
   {
    "duration": 4,
    "start_time": "2024-10-18T13:14:06.830Z"
   },
   {
    "duration": 11,
    "start_time": "2024-10-18T13:14:07.478Z"
   },
   {
    "duration": 12,
    "start_time": "2024-10-18T13:14:19.638Z"
   },
   {
    "duration": 7,
    "start_time": "2024-10-18T13:15:17.841Z"
   },
   {
    "duration": 8,
    "start_time": "2024-10-18T13:17:40.913Z"
   },
   {
    "duration": 7,
    "start_time": "2024-10-18T13:18:02.049Z"
   },
   {
    "duration": 6,
    "start_time": "2024-10-18T13:19:22.131Z"
   },
   {
    "duration": 10,
    "start_time": "2024-10-18T13:19:40.139Z"
   },
   {
    "duration": 9,
    "start_time": "2024-10-18T13:19:49.198Z"
   },
   {
    "duration": 8,
    "start_time": "2024-10-18T13:19:55.158Z"
   },
   {
    "duration": 4,
    "start_time": "2024-10-18T13:20:26.205Z"
   },
   {
    "duration": 65,
    "start_time": "2024-10-18T13:20:26.210Z"
   },
   {
    "duration": 17,
    "start_time": "2024-10-18T13:20:26.277Z"
   },
   {
    "duration": 16,
    "start_time": "2024-10-18T13:20:26.295Z"
   },
   {
    "duration": 3,
    "start_time": "2024-10-18T13:20:26.313Z"
   },
   {
    "duration": 35,
    "start_time": "2024-10-18T13:20:26.318Z"
   },
   {
    "duration": 11,
    "start_time": "2024-10-18T13:20:26.354Z"
   },
   {
    "duration": 11,
    "start_time": "2024-10-18T13:20:26.367Z"
   },
   {
    "duration": 8,
    "start_time": "2024-10-18T13:20:26.379Z"
   },
   {
    "duration": 6,
    "start_time": "2024-10-18T13:20:26.389Z"
   },
   {
    "duration": 4,
    "start_time": "2024-10-18T13:20:26.398Z"
   },
   {
    "duration": 51,
    "start_time": "2024-10-18T13:20:26.404Z"
   },
   {
    "duration": 9,
    "start_time": "2024-10-18T13:20:26.457Z"
   },
   {
    "duration": 13,
    "start_time": "2024-10-18T13:20:26.467Z"
   },
   {
    "duration": 5,
    "start_time": "2024-10-18T13:20:26.482Z"
   },
   {
    "duration": 25,
    "start_time": "2024-10-18T13:20:26.488Z"
   },
   {
    "duration": 29,
    "start_time": "2024-10-18T13:20:26.516Z"
   },
   {
    "duration": 23,
    "start_time": "2024-10-18T13:20:26.546Z"
   },
   {
    "duration": 7,
    "start_time": "2024-10-18T13:20:26.571Z"
   },
   {
    "duration": 15,
    "start_time": "2024-10-18T13:20:26.579Z"
   },
   {
    "duration": 14,
    "start_time": "2024-10-18T13:20:26.596Z"
   },
   {
    "duration": 5,
    "start_time": "2024-10-18T13:20:26.611Z"
   },
   {
    "duration": 37,
    "start_time": "2024-10-18T13:20:26.617Z"
   },
   {
    "duration": 97,
    "start_time": "2024-10-18T13:20:26.655Z"
   },
   {
    "duration": 352,
    "start_time": "2024-10-18T13:20:26.754Z"
   },
   {
    "duration": 5,
    "start_time": "2024-10-18T13:20:27.108Z"
   },
   {
    "duration": 23,
    "start_time": "2024-10-18T13:20:27.115Z"
   },
   {
    "duration": 3,
    "start_time": "2024-10-18T13:20:27.140Z"
   },
   {
    "duration": 6,
    "start_time": "2024-10-18T13:20:27.152Z"
   },
   {
    "duration": 32,
    "start_time": "2024-10-18T13:20:27.160Z"
   },
   {
    "duration": 331,
    "start_time": "2024-10-18T13:20:27.194Z"
   },
   {
    "duration": 4,
    "start_time": "2024-10-18T13:20:27.527Z"
   },
   {
    "duration": 86,
    "start_time": "2024-10-18T13:20:27.533Z"
   },
   {
    "duration": 3,
    "start_time": "2024-10-18T13:20:27.620Z"
   },
   {
    "duration": 273,
    "start_time": "2024-10-18T13:20:27.625Z"
   },
   {
    "duration": 352,
    "start_time": "2024-10-18T13:20:27.900Z"
   },
   {
    "duration": 187,
    "start_time": "2024-10-18T13:20:28.253Z"
   },
   {
    "duration": 189,
    "start_time": "2024-10-18T13:20:28.441Z"
   },
   {
    "duration": 23,
    "start_time": "2024-10-18T13:20:28.632Z"
   },
   {
    "duration": 53,
    "start_time": "2024-10-18T13:20:28.657Z"
   },
   {
    "duration": 13,
    "start_time": "2024-10-18T13:20:28.711Z"
   },
   {
    "duration": 5,
    "start_time": "2024-10-18T13:20:28.726Z"
   },
   {
    "duration": 15,
    "start_time": "2024-10-18T13:20:28.732Z"
   },
   {
    "duration": 225,
    "start_time": "2024-10-18T13:20:28.748Z"
   },
   {
    "duration": 14,
    "start_time": "2024-10-18T13:20:28.975Z"
   },
   {
    "duration": 13,
    "start_time": "2024-10-18T13:20:28.990Z"
   },
   {
    "duration": 14,
    "start_time": "2024-10-18T13:20:29.005Z"
   },
   {
    "duration": 41,
    "start_time": "2024-10-18T13:20:29.021Z"
   },
   {
    "duration": 209,
    "start_time": "2024-10-18T13:20:29.064Z"
   },
   {
    "duration": 552,
    "start_time": "2024-10-18T13:20:29.275Z"
   },
   {
    "duration": 23,
    "start_time": "2024-10-18T13:20:29.829Z"
   },
   {
    "duration": 15,
    "start_time": "2024-10-18T13:20:29.853Z"
   },
   {
    "duration": 13,
    "start_time": "2024-10-18T13:20:29.869Z"
   },
   {
    "duration": 13,
    "start_time": "2024-10-18T13:20:29.883Z"
   },
   {
    "duration": 12,
    "start_time": "2024-10-18T13:20:29.898Z"
   },
   {
    "duration": 13,
    "start_time": "2024-10-18T13:20:29.912Z"
   },
   {
    "duration": 29,
    "start_time": "2024-10-18T13:20:29.926Z"
   },
   {
    "duration": 15,
    "start_time": "2024-10-18T13:20:29.957Z"
   },
   {
    "duration": 22,
    "start_time": "2024-10-18T13:20:29.973Z"
   },
   {
    "duration": 22,
    "start_time": "2024-10-18T13:20:29.997Z"
   },
   {
    "duration": 45,
    "start_time": "2024-10-18T13:20:30.021Z"
   },
   {
    "duration": 18,
    "start_time": "2024-10-18T13:20:30.068Z"
   },
   {
    "duration": 112,
    "start_time": "2024-10-18T13:20:30.088Z"
   },
   {
    "duration": 82,
    "start_time": "2024-10-18T13:20:30.202Z"
   },
   {
    "duration": 42,
    "start_time": "2024-10-18T13:20:30.286Z"
   },
   {
    "duration": 8,
    "start_time": "2024-10-18T13:22:47.579Z"
   },
   {
    "duration": 5,
    "start_time": "2024-10-18T13:28:04.699Z"
   },
   {
    "duration": 4,
    "start_time": "2024-10-18T13:28:05.122Z"
   },
   {
    "duration": 12,
    "start_time": "2024-10-18T13:28:29.170Z"
   },
   {
    "duration": 10,
    "start_time": "2024-10-18T13:33:54.343Z"
   },
   {
    "duration": 3,
    "start_time": "2024-10-18T13:35:38.333Z"
   },
   {
    "duration": 98,
    "start_time": "2024-10-18T13:35:38.338Z"
   },
   {
    "duration": 16,
    "start_time": "2024-10-18T13:35:38.438Z"
   },
   {
    "duration": 24,
    "start_time": "2024-10-18T13:35:38.456Z"
   },
   {
    "duration": 3,
    "start_time": "2024-10-18T13:35:38.482Z"
   },
   {
    "duration": 6,
    "start_time": "2024-10-18T13:35:38.487Z"
   },
   {
    "duration": 12,
    "start_time": "2024-10-18T13:35:38.494Z"
   },
   {
    "duration": 20,
    "start_time": "2024-10-18T13:35:38.507Z"
   },
   {
    "duration": 27,
    "start_time": "2024-10-18T13:35:38.529Z"
   },
   {
    "duration": 13,
    "start_time": "2024-10-18T13:35:38.558Z"
   },
   {
    "duration": 17,
    "start_time": "2024-10-18T13:35:38.575Z"
   },
   {
    "duration": 13,
    "start_time": "2024-10-18T13:35:38.594Z"
   },
   {
    "duration": 11,
    "start_time": "2024-10-18T13:35:38.609Z"
   },
   {
    "duration": 30,
    "start_time": "2024-10-18T13:35:38.622Z"
   },
   {
    "duration": 5,
    "start_time": "2024-10-18T13:35:38.654Z"
   },
   {
    "duration": 6,
    "start_time": "2024-10-18T13:35:38.661Z"
   },
   {
    "duration": 8,
    "start_time": "2024-10-18T13:35:38.668Z"
   },
   {
    "duration": 23,
    "start_time": "2024-10-18T13:35:38.677Z"
   },
   {
    "duration": 64,
    "start_time": "2024-10-18T13:35:38.702Z"
   },
   {
    "duration": 15,
    "start_time": "2024-10-18T13:35:38.768Z"
   },
   {
    "duration": 15,
    "start_time": "2024-10-18T13:35:38.785Z"
   },
   {
    "duration": 9,
    "start_time": "2024-10-18T13:35:38.801Z"
   },
   {
    "duration": 30,
    "start_time": "2024-10-18T13:35:38.811Z"
   },
   {
    "duration": 25,
    "start_time": "2024-10-18T13:35:38.843Z"
   },
   {
    "duration": 340,
    "start_time": "2024-10-18T13:35:38.870Z"
   },
   {
    "duration": 6,
    "start_time": "2024-10-18T13:35:39.212Z"
   },
   {
    "duration": 32,
    "start_time": "2024-10-18T13:35:39.220Z"
   },
   {
    "duration": 3,
    "start_time": "2024-10-18T13:35:39.253Z"
   },
   {
    "duration": 22,
    "start_time": "2024-10-18T13:35:39.260Z"
   },
   {
    "duration": 68,
    "start_time": "2024-10-18T13:35:39.284Z"
   },
   {
    "duration": 310,
    "start_time": "2024-10-18T13:35:39.354Z"
   },
   {
    "duration": 4,
    "start_time": "2024-10-18T13:35:39.665Z"
   },
   {
    "duration": 14,
    "start_time": "2024-10-18T13:35:39.671Z"
   },
   {
    "duration": 8,
    "start_time": "2024-10-18T13:35:39.687Z"
   },
   {
    "duration": 282,
    "start_time": "2024-10-18T13:35:39.697Z"
   },
   {
    "duration": 341,
    "start_time": "2024-10-18T13:35:39.980Z"
   },
   {
    "duration": 207,
    "start_time": "2024-10-18T13:35:40.322Z"
   },
   {
    "duration": 192,
    "start_time": "2024-10-18T13:35:40.531Z"
   },
   {
    "duration": 10,
    "start_time": "2024-10-18T13:35:40.724Z"
   },
   {
    "duration": 42,
    "start_time": "2024-10-18T13:35:40.735Z"
   },
   {
    "duration": 4,
    "start_time": "2024-10-18T13:35:40.778Z"
   },
   {
    "duration": 22,
    "start_time": "2024-10-18T13:35:40.783Z"
   },
   {
    "duration": 22,
    "start_time": "2024-10-18T13:35:40.807Z"
   },
   {
    "duration": 214,
    "start_time": "2024-10-18T13:35:40.831Z"
   },
   {
    "duration": 14,
    "start_time": "2024-10-18T13:35:41.047Z"
   },
   {
    "duration": 14,
    "start_time": "2024-10-18T13:35:41.062Z"
   },
   {
    "duration": 16,
    "start_time": "2024-10-18T13:35:41.078Z"
   },
   {
    "duration": 14,
    "start_time": "2024-10-18T13:35:41.096Z"
   },
   {
    "duration": 222,
    "start_time": "2024-10-18T13:35:41.111Z"
   },
   {
    "duration": 519,
    "start_time": "2024-10-18T13:35:41.334Z"
   },
   {
    "duration": 13,
    "start_time": "2024-10-18T13:35:41.855Z"
   },
   {
    "duration": 14,
    "start_time": "2024-10-18T13:35:41.870Z"
   },
   {
    "duration": 12,
    "start_time": "2024-10-18T13:35:41.886Z"
   },
   {
    "duration": 12,
    "start_time": "2024-10-18T13:35:41.899Z"
   },
   {
    "duration": 41,
    "start_time": "2024-10-18T13:35:41.913Z"
   },
   {
    "duration": 7,
    "start_time": "2024-10-18T13:35:41.956Z"
   },
   {
    "duration": 24,
    "start_time": "2024-10-18T13:35:41.964Z"
   },
   {
    "duration": 11,
    "start_time": "2024-10-18T13:35:41.990Z"
   },
   {
    "duration": 13,
    "start_time": "2024-10-18T13:35:42.003Z"
   },
   {
    "duration": 12,
    "start_time": "2024-10-18T13:35:42.018Z"
   },
   {
    "duration": 5,
    "start_time": "2024-10-18T13:35:42.032Z"
   },
   {
    "duration": 14,
    "start_time": "2024-10-18T13:35:42.039Z"
   },
   {
    "duration": 13,
    "start_time": "2024-10-18T13:35:42.054Z"
   },
   {
    "duration": 13,
    "start_time": "2024-10-18T13:35:42.069Z"
   },
   {
    "duration": 10,
    "start_time": "2024-10-18T13:35:42.083Z"
   },
   {
    "duration": 1285,
    "start_time": "2024-10-19T07:19:12.710Z"
   },
   {
    "duration": 179,
    "start_time": "2024-10-19T07:19:13.997Z"
   },
   {
    "duration": 18,
    "start_time": "2024-10-19T07:19:14.177Z"
   },
   {
    "duration": 13,
    "start_time": "2024-10-19T07:19:14.196Z"
   },
   {
    "duration": 3,
    "start_time": "2024-10-19T07:19:14.211Z"
   },
   {
    "duration": 6,
    "start_time": "2024-10-19T07:19:14.215Z"
   },
   {
    "duration": 16,
    "start_time": "2024-10-19T07:19:14.222Z"
   },
   {
    "duration": 9,
    "start_time": "2024-10-19T07:19:14.239Z"
   },
   {
    "duration": 10,
    "start_time": "2024-10-19T07:19:14.249Z"
   },
   {
    "duration": 4,
    "start_time": "2024-10-19T07:19:14.261Z"
   },
   {
    "duration": 8,
    "start_time": "2024-10-19T07:19:14.267Z"
   },
   {
    "duration": 17,
    "start_time": "2024-10-19T07:19:14.277Z"
   },
   {
    "duration": 16,
    "start_time": "2024-10-19T07:19:14.296Z"
   },
   {
    "duration": 9,
    "start_time": "2024-10-19T07:19:14.315Z"
   },
   {
    "duration": 5,
    "start_time": "2024-10-19T07:19:14.326Z"
   },
   {
    "duration": 5,
    "start_time": "2024-10-19T07:19:14.332Z"
   },
   {
    "duration": 6,
    "start_time": "2024-10-19T07:19:14.339Z"
   },
   {
    "duration": 12,
    "start_time": "2024-10-19T07:19:14.347Z"
   },
   {
    "duration": 8,
    "start_time": "2024-10-19T07:19:14.361Z"
   },
   {
    "duration": 50,
    "start_time": "2024-10-19T07:19:14.370Z"
   },
   {
    "duration": 18,
    "start_time": "2024-10-19T07:19:14.422Z"
   },
   {
    "duration": 4,
    "start_time": "2024-10-19T07:19:14.442Z"
   },
   {
    "duration": 27,
    "start_time": "2024-10-19T07:19:14.448Z"
   },
   {
    "duration": 41,
    "start_time": "2024-10-19T07:19:14.477Z"
   },
   {
    "duration": 294,
    "start_time": "2024-10-19T07:19:14.520Z"
   },
   {
    "duration": 5,
    "start_time": "2024-10-19T07:19:14.815Z"
   },
   {
    "duration": 18,
    "start_time": "2024-10-19T07:19:14.821Z"
   },
   {
    "duration": 3,
    "start_time": "2024-10-19T07:19:14.840Z"
   },
   {
    "duration": 5,
    "start_time": "2024-10-19T07:19:14.844Z"
   },
   {
    "duration": 23,
    "start_time": "2024-10-19T07:19:14.851Z"
   },
   {
    "duration": 315,
    "start_time": "2024-10-19T07:19:14.875Z"
   },
   {
    "duration": 4,
    "start_time": "2024-10-19T07:19:15.192Z"
   },
   {
    "duration": 44,
    "start_time": "2024-10-19T07:19:15.198Z"
   },
   {
    "duration": 35,
    "start_time": "2024-10-19T07:19:15.244Z"
   },
   {
    "duration": 260,
    "start_time": "2024-10-19T07:19:15.280Z"
   },
   {
    "duration": 193,
    "start_time": "2024-10-19T07:19:15.542Z"
   },
   {
    "duration": 192,
    "start_time": "2024-10-19T07:19:15.737Z"
   },
   {
    "duration": 162,
    "start_time": "2024-10-19T07:19:15.931Z"
   },
   {
    "duration": 19,
    "start_time": "2024-10-19T07:19:16.095Z"
   },
   {
    "duration": 10,
    "start_time": "2024-10-19T07:19:16.116Z"
   },
   {
    "duration": 4,
    "start_time": "2024-10-19T07:19:16.129Z"
   },
   {
    "duration": 8,
    "start_time": "2024-10-19T07:19:16.134Z"
   },
   {
    "duration": 12,
    "start_time": "2024-10-19T07:19:16.143Z"
   },
   {
    "duration": 258,
    "start_time": "2024-10-19T07:19:16.156Z"
   },
   {
    "duration": 12,
    "start_time": "2024-10-19T07:19:16.415Z"
   },
   {
    "duration": 26,
    "start_time": "2024-10-19T07:19:16.428Z"
   },
   {
    "duration": 12,
    "start_time": "2024-10-19T07:19:16.455Z"
   },
   {
    "duration": 12,
    "start_time": "2024-10-19T07:19:16.469Z"
   },
   {
    "duration": 180,
    "start_time": "2024-10-19T07:19:16.482Z"
   },
   {
    "duration": 531,
    "start_time": "2024-10-19T07:19:16.664Z"
   },
   {
    "duration": 20,
    "start_time": "2024-10-19T07:19:17.197Z"
   },
   {
    "duration": 11,
    "start_time": "2024-10-19T07:19:17.218Z"
   },
   {
    "duration": 14,
    "start_time": "2024-10-19T07:19:17.230Z"
   },
   {
    "duration": 11,
    "start_time": "2024-10-19T07:19:17.245Z"
   },
   {
    "duration": 15,
    "start_time": "2024-10-19T07:19:17.257Z"
   },
   {
    "duration": 3,
    "start_time": "2024-10-19T07:19:17.274Z"
   },
   {
    "duration": 33,
    "start_time": "2024-10-19T07:19:17.279Z"
   },
   {
    "duration": 18,
    "start_time": "2024-10-19T07:19:17.313Z"
   },
   {
    "duration": 14,
    "start_time": "2024-10-19T07:19:17.332Z"
   },
   {
    "duration": 7,
    "start_time": "2024-10-19T07:19:17.347Z"
   },
   {
    "duration": 5,
    "start_time": "2024-10-19T07:19:17.355Z"
   },
   {
    "duration": 4,
    "start_time": "2024-10-19T07:19:17.361Z"
   },
   {
    "duration": 13,
    "start_time": "2024-10-19T07:19:17.366Z"
   },
   {
    "duration": 8,
    "start_time": "2024-10-19T07:19:17.381Z"
   },
   {
    "duration": 25,
    "start_time": "2024-10-19T07:19:17.390Z"
   },
   {
    "duration": 242,
    "start_time": "2024-10-19T07:45:10.962Z"
   },
   {
    "duration": 164,
    "start_time": "2024-10-19T08:01:01.307Z"
   },
   {
    "duration": 159,
    "start_time": "2024-10-19T08:01:48.408Z"
   },
   {
    "duration": 9,
    "start_time": "2024-10-19T08:05:49.517Z"
   },
   {
    "duration": 1252,
    "start_time": "2024-10-19T13:13:47.187Z"
   },
   {
    "duration": 239,
    "start_time": "2024-10-19T13:13:48.441Z"
   },
   {
    "duration": 20,
    "start_time": "2024-10-19T13:13:48.681Z"
   },
   {
    "duration": 14,
    "start_time": "2024-10-19T13:13:48.702Z"
   },
   {
    "duration": 3,
    "start_time": "2024-10-19T13:13:48.718Z"
   },
   {
    "duration": 4,
    "start_time": "2024-10-19T13:13:48.723Z"
   },
   {
    "duration": 22,
    "start_time": "2024-10-19T13:13:48.729Z"
   },
   {
    "duration": 11,
    "start_time": "2024-10-19T13:13:48.753Z"
   },
   {
    "duration": 7,
    "start_time": "2024-10-19T13:13:48.766Z"
   },
   {
    "duration": 5,
    "start_time": "2024-10-19T13:13:48.775Z"
   },
   {
    "duration": 18,
    "start_time": "2024-10-19T13:13:48.781Z"
   },
   {
    "duration": 16,
    "start_time": "2024-10-19T13:13:48.801Z"
   },
   {
    "duration": 15,
    "start_time": "2024-10-19T13:13:48.818Z"
   },
   {
    "duration": 11,
    "start_time": "2024-10-19T13:13:48.836Z"
   },
   {
    "duration": 4,
    "start_time": "2024-10-19T13:13:48.848Z"
   },
   {
    "duration": 39,
    "start_time": "2024-10-19T13:13:48.853Z"
   },
   {
    "duration": 9,
    "start_time": "2024-10-19T13:13:48.893Z"
   },
   {
    "duration": 13,
    "start_time": "2024-10-19T13:13:48.903Z"
   },
   {
    "duration": 6,
    "start_time": "2024-10-19T13:13:48.917Z"
   },
   {
    "duration": 14,
    "start_time": "2024-10-19T13:13:48.924Z"
   },
   {
    "duration": 14,
    "start_time": "2024-10-19T13:13:48.939Z"
   },
   {
    "duration": 15,
    "start_time": "2024-10-19T13:13:48.954Z"
   },
   {
    "duration": 17,
    "start_time": "2024-10-19T13:13:48.971Z"
   },
   {
    "duration": 37,
    "start_time": "2024-10-19T13:13:48.989Z"
   },
   {
    "duration": 315,
    "start_time": "2024-10-19T13:13:49.028Z"
   },
   {
    "duration": 5,
    "start_time": "2024-10-19T13:13:49.345Z"
   },
   {
    "duration": 22,
    "start_time": "2024-10-19T13:13:49.351Z"
   },
   {
    "duration": 2,
    "start_time": "2024-10-19T13:13:49.375Z"
   },
   {
    "duration": 19,
    "start_time": "2024-10-19T13:13:49.378Z"
   },
   {
    "duration": 17,
    "start_time": "2024-10-19T13:13:49.398Z"
   },
   {
    "duration": 297,
    "start_time": "2024-10-19T13:13:49.420Z"
   },
   {
    "duration": 4,
    "start_time": "2024-10-19T13:13:49.719Z"
   },
   {
    "duration": 12,
    "start_time": "2024-10-19T13:13:49.724Z"
   },
   {
    "duration": 2,
    "start_time": "2024-10-19T13:13:49.738Z"
   },
   {
    "duration": 271,
    "start_time": "2024-10-19T13:13:49.741Z"
   },
   {
    "duration": 196,
    "start_time": "2024-10-19T13:13:50.013Z"
   },
   {
    "duration": 172,
    "start_time": "2024-10-19T13:13:50.210Z"
   },
   {
    "duration": 166,
    "start_time": "2024-10-19T13:13:50.383Z"
   },
   {
    "duration": 9,
    "start_time": "2024-10-19T13:13:50.551Z"
   },
   {
    "duration": 34,
    "start_time": "2024-10-19T13:13:50.561Z"
   },
   {
    "duration": 23,
    "start_time": "2024-10-19T13:13:50.599Z"
   },
   {
    "duration": 59,
    "start_time": "2024-10-19T13:13:50.623Z"
   },
   {
    "duration": 34,
    "start_time": "2024-10-19T13:13:50.684Z"
   },
   {
    "duration": 262,
    "start_time": "2024-10-19T13:13:50.719Z"
   },
   {
    "duration": 14,
    "start_time": "2024-10-19T13:13:50.983Z"
   },
   {
    "duration": 27,
    "start_time": "2024-10-19T13:13:50.998Z"
   },
   {
    "duration": 13,
    "start_time": "2024-10-19T13:13:51.026Z"
   },
   {
    "duration": 12,
    "start_time": "2024-10-19T13:13:51.041Z"
   },
   {
    "duration": 211,
    "start_time": "2024-10-19T13:13:51.055Z"
   },
   {
    "duration": 14,
    "start_time": "2024-10-19T13:13:51.267Z"
   },
   {
    "duration": 195,
    "start_time": "2024-10-19T13:13:51.283Z"
   },
   {
    "duration": 14,
    "start_time": "2024-10-19T13:13:51.479Z"
   },
   {
    "duration": 196,
    "start_time": "2024-10-19T13:13:51.494Z"
   },
   {
    "duration": 13,
    "start_time": "2024-10-19T13:13:51.692Z"
   },
   {
    "duration": 24,
    "start_time": "2024-10-19T13:13:51.706Z"
   },
   {
    "duration": 17,
    "start_time": "2024-10-19T13:13:51.732Z"
   },
   {
    "duration": 7,
    "start_time": "2024-10-19T13:13:51.750Z"
   },
   {
    "duration": 5,
    "start_time": "2024-10-19T13:13:51.758Z"
   },
   {
    "duration": 13,
    "start_time": "2024-10-19T13:13:51.764Z"
   },
   {
    "duration": 36,
    "start_time": "2024-10-19T13:13:51.778Z"
   },
   {
    "duration": 9,
    "start_time": "2024-10-19T13:13:51.816Z"
   },
   {
    "duration": 3,
    "start_time": "2024-10-19T13:13:51.827Z"
   },
   {
    "duration": 9,
    "start_time": "2024-10-19T13:13:51.832Z"
   },
   {
    "duration": 11,
    "start_time": "2024-10-19T13:13:51.842Z"
   },
   {
    "duration": 10,
    "start_time": "2024-10-19T13:13:51.854Z"
   },
   {
    "duration": 10,
    "start_time": "2024-10-19T13:13:51.866Z"
   },
   {
    "duration": 154,
    "start_time": "2024-10-19T13:14:17.305Z"
   },
   {
    "duration": 163,
    "start_time": "2024-10-19T13:16:02.907Z"
   },
   {
    "duration": 7,
    "start_time": "2024-10-19T13:31:54.369Z"
   },
   {
    "duration": 8,
    "start_time": "2024-10-19T13:32:11.194Z"
   },
   {
    "duration": 1241,
    "start_time": "2024-10-19T15:01:27.192Z"
   },
   {
    "duration": 202,
    "start_time": "2024-10-19T15:01:28.435Z"
   },
   {
    "duration": 22,
    "start_time": "2024-10-19T15:01:28.638Z"
   },
   {
    "duration": 16,
    "start_time": "2024-10-19T15:01:28.661Z"
   },
   {
    "duration": 6,
    "start_time": "2024-10-19T15:01:28.679Z"
   },
   {
    "duration": 6,
    "start_time": "2024-10-19T15:01:28.687Z"
   },
   {
    "duration": 16,
    "start_time": "2024-10-19T15:01:28.695Z"
   },
   {
    "duration": 14,
    "start_time": "2024-10-19T15:01:28.713Z"
   },
   {
    "duration": 9,
    "start_time": "2024-10-19T15:01:28.729Z"
   },
   {
    "duration": 7,
    "start_time": "2024-10-19T15:01:28.740Z"
   },
   {
    "duration": 4,
    "start_time": "2024-10-19T15:01:28.775Z"
   },
   {
    "duration": 7,
    "start_time": "2024-10-19T15:01:28.781Z"
   },
   {
    "duration": 10,
    "start_time": "2024-10-19T15:01:28.789Z"
   },
   {
    "duration": 71,
    "start_time": "2024-10-19T15:01:28.802Z"
   },
   {
    "duration": 5,
    "start_time": "2024-10-19T15:01:28.875Z"
   },
   {
    "duration": 6,
    "start_time": "2024-10-19T15:01:28.882Z"
   },
   {
    "duration": 11,
    "start_time": "2024-10-19T15:01:28.889Z"
   },
   {
    "duration": 13,
    "start_time": "2024-10-19T15:01:28.901Z"
   },
   {
    "duration": 7,
    "start_time": "2024-10-19T15:01:28.916Z"
   },
   {
    "duration": 15,
    "start_time": "2024-10-19T15:01:28.924Z"
   },
   {
    "duration": 48,
    "start_time": "2024-10-19T15:01:28.941Z"
   },
   {
    "duration": 5,
    "start_time": "2024-10-19T15:01:28.991Z"
   },
   {
    "duration": 26,
    "start_time": "2024-10-19T15:01:28.998Z"
   },
   {
    "duration": 24,
    "start_time": "2024-10-19T15:01:29.025Z"
   },
   {
    "duration": 372,
    "start_time": "2024-10-19T15:01:29.050Z"
   },
   {
    "duration": 5,
    "start_time": "2024-10-19T15:01:29.424Z"
   },
   {
    "duration": 18,
    "start_time": "2024-10-19T15:01:29.431Z"
   },
   {
    "duration": 7,
    "start_time": "2024-10-19T15:01:29.450Z"
   },
   {
    "duration": 19,
    "start_time": "2024-10-19T15:01:29.458Z"
   },
   {
    "duration": 23,
    "start_time": "2024-10-19T15:01:29.480Z"
   },
   {
    "duration": 317,
    "start_time": "2024-10-19T15:01:29.505Z"
   },
   {
    "duration": 5,
    "start_time": "2024-10-19T15:01:29.824Z"
   },
   {
    "duration": 14,
    "start_time": "2024-10-19T15:01:29.830Z"
   },
   {
    "duration": 2,
    "start_time": "2024-10-19T15:01:29.846Z"
   },
   {
    "duration": 296,
    "start_time": "2024-10-19T15:01:29.849Z"
   },
   {
    "duration": 225,
    "start_time": "2024-10-19T15:01:30.147Z"
   },
   {
    "duration": 192,
    "start_time": "2024-10-19T15:01:30.374Z"
   },
   {
    "duration": 210,
    "start_time": "2024-10-19T15:01:30.568Z"
   },
   {
    "duration": 11,
    "start_time": "2024-10-19T15:01:30.779Z"
   },
   {
    "duration": 17,
    "start_time": "2024-10-19T15:01:30.792Z"
   },
   {
    "duration": 72,
    "start_time": "2024-10-19T15:01:30.814Z"
   },
   {
    "duration": 33,
    "start_time": "2024-10-19T15:01:30.888Z"
   },
   {
    "duration": 34,
    "start_time": "2024-10-19T15:01:30.922Z"
   },
   {
    "duration": 277,
    "start_time": "2024-10-19T15:01:30.958Z"
   },
   {
    "duration": 14,
    "start_time": "2024-10-19T15:01:31.237Z"
   },
   {
    "duration": 28,
    "start_time": "2024-10-19T15:01:31.252Z"
   },
   {
    "duration": 103,
    "start_time": "2024-10-19T15:01:31.282Z"
   },
   {
    "duration": 21,
    "start_time": "2024-10-19T15:01:31.387Z"
   },
   {
    "duration": 211,
    "start_time": "2024-10-19T15:01:31.410Z"
   },
   {
    "duration": 14,
    "start_time": "2024-10-19T15:01:31.623Z"
   },
   {
    "duration": 210,
    "start_time": "2024-10-19T15:01:31.639Z"
   },
   {
    "duration": 14,
    "start_time": "2024-10-19T15:01:31.851Z"
   },
   {
    "duration": 209,
    "start_time": "2024-10-19T15:01:31.876Z"
   },
   {
    "duration": 14,
    "start_time": "2024-10-19T15:01:32.087Z"
   },
   {
    "duration": 28,
    "start_time": "2024-10-19T15:01:32.102Z"
   },
   {
    "duration": 46,
    "start_time": "2024-10-19T15:01:32.131Z"
   },
   {
    "duration": 161,
    "start_time": "2024-10-19T15:01:32.180Z"
   },
   {
    "duration": 5,
    "start_time": "2024-10-19T15:01:32.343Z"
   },
   {
    "duration": 7,
    "start_time": "2024-10-19T15:01:32.350Z"
   },
   {
    "duration": 27,
    "start_time": "2024-10-19T15:01:32.358Z"
   },
   {
    "duration": 18,
    "start_time": "2024-10-19T15:01:32.387Z"
   },
   {
    "duration": 15,
    "start_time": "2024-10-19T15:01:32.407Z"
   },
   {
    "duration": 9,
    "start_time": "2024-10-19T15:01:32.424Z"
   },
   {
    "duration": 5,
    "start_time": "2024-10-19T15:01:32.435Z"
   },
   {
    "duration": 12,
    "start_time": "2024-10-19T15:01:32.441Z"
   },
   {
    "duration": 29,
    "start_time": "2024-10-19T15:01:32.455Z"
   },
   {
    "duration": 26,
    "start_time": "2024-10-19T15:01:32.485Z"
   },
   {
    "duration": 49,
    "start_time": "2024-10-19T19:19:20.141Z"
   },
   {
    "duration": 1301,
    "start_time": "2024-10-19T19:19:25.054Z"
   },
   {
    "duration": 175,
    "start_time": "2024-10-19T19:19:26.358Z"
   },
   {
    "duration": 19,
    "start_time": "2024-10-19T19:19:26.534Z"
   },
   {
    "duration": 16,
    "start_time": "2024-10-19T19:19:26.555Z"
   },
   {
    "duration": 3,
    "start_time": "2024-10-19T19:19:26.573Z"
   },
   {
    "duration": 34,
    "start_time": "2024-10-19T19:19:26.578Z"
   },
   {
    "duration": 10,
    "start_time": "2024-10-19T19:19:26.613Z"
   },
   {
    "duration": 11,
    "start_time": "2024-10-19T19:19:26.625Z"
   },
   {
    "duration": 18,
    "start_time": "2024-10-19T19:19:26.638Z"
   },
   {
    "duration": 20,
    "start_time": "2024-10-19T19:19:26.658Z"
   },
   {
    "duration": 6,
    "start_time": "2024-10-19T19:19:26.679Z"
   },
   {
    "duration": 14,
    "start_time": "2024-10-19T19:19:26.687Z"
   },
   {
    "duration": 10,
    "start_time": "2024-10-19T19:19:26.703Z"
   },
   {
    "duration": 11,
    "start_time": "2024-10-19T19:19:26.716Z"
   },
   {
    "duration": 9,
    "start_time": "2024-10-19T19:19:26.728Z"
   },
   {
    "duration": 19,
    "start_time": "2024-10-19T19:19:26.739Z"
   },
   {
    "duration": 21,
    "start_time": "2024-10-19T19:19:26.760Z"
   },
   {
    "duration": 15,
    "start_time": "2024-10-19T19:19:26.782Z"
   },
   {
    "duration": 11,
    "start_time": "2024-10-19T19:19:26.799Z"
   },
   {
    "duration": 21,
    "start_time": "2024-10-19T19:19:26.812Z"
   },
   {
    "duration": 14,
    "start_time": "2024-10-19T19:19:26.835Z"
   },
   {
    "duration": 4,
    "start_time": "2024-10-19T19:19:26.851Z"
   },
   {
    "duration": 23,
    "start_time": "2024-10-19T19:19:26.856Z"
   },
   {
    "duration": 29,
    "start_time": "2024-10-19T19:19:26.880Z"
   },
   {
    "duration": 323,
    "start_time": "2024-10-19T19:19:26.911Z"
   },
   {
    "duration": 11,
    "start_time": "2024-10-19T19:19:27.236Z"
   },
   {
    "duration": 32,
    "start_time": "2024-10-19T19:19:27.248Z"
   },
   {
    "duration": 5,
    "start_time": "2024-10-19T19:19:27.282Z"
   },
   {
    "duration": 83,
    "start_time": "2024-10-19T19:19:27.288Z"
   },
   {
    "duration": 31,
    "start_time": "2024-10-19T19:19:27.373Z"
   },
   {
    "duration": 349,
    "start_time": "2024-10-19T19:19:27.406Z"
   },
   {
    "duration": 5,
    "start_time": "2024-10-19T19:19:27.756Z"
   },
   {
    "duration": 28,
    "start_time": "2024-10-19T19:19:27.763Z"
   },
   {
    "duration": 16,
    "start_time": "2024-10-19T19:19:27.793Z"
   },
   {
    "duration": 286,
    "start_time": "2024-10-19T19:19:27.810Z"
   },
   {
    "duration": 211,
    "start_time": "2024-10-19T19:19:28.097Z"
   },
   {
    "duration": 185,
    "start_time": "2024-10-19T19:19:28.309Z"
   },
   {
    "duration": 235,
    "start_time": "2024-10-19T19:19:28.495Z"
   },
   {
    "duration": 18,
    "start_time": "2024-10-19T19:19:28.732Z"
   },
   {
    "duration": 19,
    "start_time": "2024-10-19T19:19:28.751Z"
   },
   {
    "duration": 4,
    "start_time": "2024-10-19T19:19:28.775Z"
   },
   {
    "duration": 7,
    "start_time": "2024-10-19T19:19:28.781Z"
   },
   {
    "duration": 27,
    "start_time": "2024-10-19T19:19:28.790Z"
   },
   {
    "duration": 209,
    "start_time": "2024-10-19T19:19:28.843Z"
   },
   {
    "duration": 13,
    "start_time": "2024-10-19T19:19:34.430Z"
   },
   {
    "duration": 3,
    "start_time": "2024-10-19T19:27:55.385Z"
   },
   {
    "duration": 56,
    "start_time": "2024-10-19T19:27:55.390Z"
   },
   {
    "duration": 16,
    "start_time": "2024-10-19T19:27:55.448Z"
   },
   {
    "duration": 16,
    "start_time": "2024-10-19T19:27:55.465Z"
   },
   {
    "duration": 2,
    "start_time": "2024-10-19T19:27:55.482Z"
   },
   {
    "duration": 6,
    "start_time": "2024-10-19T19:27:55.486Z"
   },
   {
    "duration": 9,
    "start_time": "2024-10-19T19:27:55.493Z"
   },
   {
    "duration": 40,
    "start_time": "2024-10-19T19:27:55.504Z"
   },
   {
    "duration": 9,
    "start_time": "2024-10-19T19:27:55.547Z"
   },
   {
    "duration": 6,
    "start_time": "2024-10-19T19:27:55.557Z"
   },
   {
    "duration": 18,
    "start_time": "2024-10-19T19:27:55.565Z"
   },
   {
    "duration": 13,
    "start_time": "2024-10-19T19:27:55.584Z"
   },
   {
    "duration": 10,
    "start_time": "2024-10-19T19:27:55.599Z"
   },
   {
    "duration": 38,
    "start_time": "2024-10-19T19:27:55.611Z"
   },
   {
    "duration": 5,
    "start_time": "2024-10-19T19:27:55.650Z"
   },
   {
    "duration": 5,
    "start_time": "2024-10-19T19:27:55.657Z"
   },
   {
    "duration": 8,
    "start_time": "2024-10-19T19:27:55.663Z"
   },
   {
    "duration": 14,
    "start_time": "2024-10-19T19:27:55.672Z"
   },
   {
    "duration": 6,
    "start_time": "2024-10-19T19:27:55.687Z"
   },
   {
    "duration": 28,
    "start_time": "2024-10-19T19:27:55.695Z"
   },
   {
    "duration": 25,
    "start_time": "2024-10-19T19:27:55.725Z"
   },
   {
    "duration": 4,
    "start_time": "2024-10-19T19:27:55.752Z"
   },
   {
    "duration": 20,
    "start_time": "2024-10-19T19:27:55.757Z"
   },
   {
    "duration": 21,
    "start_time": "2024-10-19T19:27:55.780Z"
   },
   {
    "duration": 329,
    "start_time": "2024-10-19T19:27:55.803Z"
   },
   {
    "duration": 9,
    "start_time": "2024-10-19T19:27:56.133Z"
   },
   {
    "duration": 26,
    "start_time": "2024-10-19T19:27:56.144Z"
   },
   {
    "duration": 10,
    "start_time": "2024-10-19T19:27:56.171Z"
   },
   {
    "duration": 8,
    "start_time": "2024-10-19T19:27:56.182Z"
   },
   {
    "duration": 32,
    "start_time": "2024-10-19T19:27:56.191Z"
   },
   {
    "duration": 421,
    "start_time": "2024-10-19T19:27:56.224Z"
   },
   {
    "duration": 4,
    "start_time": "2024-10-19T19:27:56.647Z"
   },
   {
    "duration": 23,
    "start_time": "2024-10-19T19:27:56.652Z"
   },
   {
    "duration": 23,
    "start_time": "2024-10-19T19:27:56.676Z"
   },
   {
    "duration": 243,
    "start_time": "2024-10-19T19:27:56.700Z"
   },
   {
    "duration": 195,
    "start_time": "2024-10-19T19:27:56.944Z"
   },
   {
    "duration": 164,
    "start_time": "2024-10-19T19:27:57.140Z"
   },
   {
    "duration": 167,
    "start_time": "2024-10-19T19:27:57.305Z"
   },
   {
    "duration": 9,
    "start_time": "2024-10-19T19:27:57.474Z"
   },
   {
    "duration": 20,
    "start_time": "2024-10-19T19:27:57.484Z"
   },
   {
    "duration": 3,
    "start_time": "2024-10-19T19:27:57.506Z"
   },
   {
    "duration": 25,
    "start_time": "2024-10-19T19:27:57.511Z"
   },
   {
    "duration": 33,
    "start_time": "2024-10-19T19:27:57.542Z"
   },
   {
    "duration": 191,
    "start_time": "2024-10-19T19:27:57.577Z"
   },
   {
    "duration": 12,
    "start_time": "2024-10-19T19:27:57.770Z"
   },
   {
    "duration": 20,
    "start_time": "2024-10-19T19:27:57.783Z"
   },
   {
    "duration": 12,
    "start_time": "2024-10-19T19:27:57.805Z"
   },
   {
    "duration": 25,
    "start_time": "2024-10-19T19:27:57.818Z"
   },
   {
    "duration": 219,
    "start_time": "2024-10-19T19:28:00.937Z"
   },
   {
    "duration": 301,
    "start_time": "2024-10-19T19:28:32.075Z"
   },
   {
    "duration": 50,
    "start_time": "2024-10-20T16:17:03.555Z"
   },
   {
    "duration": 1435,
    "start_time": "2024-10-20T16:17:11.529Z"
   },
   {
    "duration": 183,
    "start_time": "2024-10-20T16:17:12.966Z"
   },
   {
    "duration": 20,
    "start_time": "2024-10-20T16:17:13.151Z"
   },
   {
    "duration": 14,
    "start_time": "2024-10-20T16:17:13.173Z"
   },
   {
    "duration": 13,
    "start_time": "2024-10-20T16:17:13.189Z"
   },
   {
    "duration": 5,
    "start_time": "2024-10-20T16:17:13.203Z"
   },
   {
    "duration": 9,
    "start_time": "2024-10-20T16:17:13.209Z"
   },
   {
    "duration": 34,
    "start_time": "2024-10-20T16:17:13.220Z"
   },
   {
    "duration": 9,
    "start_time": "2024-10-20T16:17:13.255Z"
   },
   {
    "duration": 6,
    "start_time": "2024-10-20T16:17:13.265Z"
   },
   {
    "duration": 4,
    "start_time": "2024-10-20T16:17:13.272Z"
   },
   {
    "duration": 5,
    "start_time": "2024-10-20T16:17:13.278Z"
   },
   {
    "duration": 7,
    "start_time": "2024-10-20T16:17:13.285Z"
   },
   {
    "duration": 11,
    "start_time": "2024-10-20T16:17:13.295Z"
   },
   {
    "duration": 5,
    "start_time": "2024-10-20T16:17:13.307Z"
   },
   {
    "duration": 40,
    "start_time": "2024-10-20T16:17:13.314Z"
   },
   {
    "duration": 13,
    "start_time": "2024-10-20T16:17:13.356Z"
   },
   {
    "duration": 13,
    "start_time": "2024-10-20T16:17:13.370Z"
   },
   {
    "duration": 6,
    "start_time": "2024-10-20T16:17:13.384Z"
   },
   {
    "duration": 13,
    "start_time": "2024-10-20T16:17:13.392Z"
   },
   {
    "duration": 13,
    "start_time": "2024-10-20T16:17:13.406Z"
   },
   {
    "duration": 4,
    "start_time": "2024-10-20T16:17:13.420Z"
   },
   {
    "duration": 41,
    "start_time": "2024-10-20T16:17:13.426Z"
   },
   {
    "duration": 19,
    "start_time": "2024-10-20T16:17:13.469Z"
   },
   {
    "duration": 355,
    "start_time": "2024-10-20T16:17:13.489Z"
   },
   {
    "duration": 10,
    "start_time": "2024-10-20T16:17:13.845Z"
   },
   {
    "duration": 54,
    "start_time": "2024-10-20T16:17:13.856Z"
   },
   {
    "duration": 10,
    "start_time": "2024-10-20T16:17:13.911Z"
   },
   {
    "duration": 37,
    "start_time": "2024-10-20T16:17:13.923Z"
   },
   {
    "duration": 30,
    "start_time": "2024-10-20T16:17:13.961Z"
   },
   {
    "duration": 360,
    "start_time": "2024-10-20T16:17:13.992Z"
   },
   {
    "duration": 5,
    "start_time": "2024-10-20T16:17:14.353Z"
   },
   {
    "duration": 15,
    "start_time": "2024-10-20T16:17:14.360Z"
   },
   {
    "duration": 2,
    "start_time": "2024-10-20T16:17:14.377Z"
   },
   {
    "duration": 288,
    "start_time": "2024-10-20T16:17:14.381Z"
   },
   {
    "duration": 214,
    "start_time": "2024-10-20T16:17:14.671Z"
   },
   {
    "duration": 192,
    "start_time": "2024-10-20T16:17:14.886Z"
   },
   {
    "duration": 189,
    "start_time": "2024-10-20T16:17:15.079Z"
   },
   {
    "duration": 11,
    "start_time": "2024-10-20T16:17:15.270Z"
   },
   {
    "duration": 30,
    "start_time": "2024-10-20T16:17:15.283Z"
   },
   {
    "duration": 21,
    "start_time": "2024-10-20T16:17:15.317Z"
   },
   {
    "duration": 8,
    "start_time": "2024-10-20T16:17:15.340Z"
   },
   {
    "duration": 15,
    "start_time": "2024-10-20T16:17:15.350Z"
   },
   {
    "duration": 273,
    "start_time": "2024-10-20T16:17:15.366Z"
   },
   {
    "duration": 20,
    "start_time": "2024-10-20T16:17:15.640Z"
   },
   {
    "duration": 13,
    "start_time": "2024-10-20T16:17:15.662Z"
   },
   {
    "duration": 15,
    "start_time": "2024-10-20T16:17:15.677Z"
   },
   {
    "duration": 20,
    "start_time": "2024-10-20T16:17:15.693Z"
   },
   {
    "duration": 245,
    "start_time": "2024-10-20T16:17:15.714Z"
   },
   {
    "duration": 12,
    "start_time": "2024-10-20T16:17:15.961Z"
   },
   {
    "duration": 203,
    "start_time": "2024-10-20T16:17:15.975Z"
   },
   {
    "duration": 472,
    "start_time": "2024-10-20T16:17:20.181Z"
   },
   {
    "duration": 233,
    "start_time": "2024-10-20T16:17:46.610Z"
   },
   {
    "duration": 72,
    "start_time": "2024-10-20T16:20:20.035Z"
   },
   {
    "duration": 235,
    "start_time": "2024-10-20T16:20:41.955Z"
   },
   {
    "duration": 267,
    "start_time": "2024-10-20T16:20:52.519Z"
   },
   {
    "duration": 454,
    "start_time": "2024-10-20T16:28:06.332Z"
   },
   {
    "duration": 367,
    "start_time": "2024-10-20T16:37:25.303Z"
   },
   {
    "duration": 16,
    "start_time": "2024-10-20T16:54:53.474Z"
   },
   {
    "duration": 1242,
    "start_time": "2024-10-20T16:57:14.219Z"
   },
   {
    "duration": 207,
    "start_time": "2024-10-20T16:57:32.797Z"
   },
   {
    "duration": 229,
    "start_time": "2024-10-20T16:57:46.685Z"
   },
   {
    "duration": 171,
    "start_time": "2024-10-20T16:58:28.670Z"
   },
   {
    "duration": 186,
    "start_time": "2024-10-20T16:59:32.202Z"
   },
   {
    "duration": 183,
    "start_time": "2024-10-20T17:02:10.113Z"
   },
   {
    "duration": 208,
    "start_time": "2024-10-20T17:02:39.348Z"
   },
   {
    "duration": 259,
    "start_time": "2024-10-20T17:02:58.117Z"
   },
   {
    "duration": 208,
    "start_time": "2024-10-20T17:03:13.258Z"
   },
   {
    "duration": 306,
    "start_time": "2024-10-20T17:03:34.470Z"
   },
   {
    "duration": 233,
    "start_time": "2024-10-20T17:03:50.680Z"
   },
   {
    "duration": 186,
    "start_time": "2024-10-20T17:04:23.627Z"
   },
   {
    "duration": 268,
    "start_time": "2024-10-20T17:09:12.905Z"
   },
   {
    "duration": 257,
    "start_time": "2024-10-20T17:11:11.858Z"
   },
   {
    "duration": 241,
    "start_time": "2024-10-20T17:20:48.876Z"
   },
   {
    "duration": 1204,
    "start_time": "2024-10-20T17:21:35.343Z"
   },
   {
    "duration": 260,
    "start_time": "2024-10-20T17:31:11.703Z"
   },
   {
    "duration": 62,
    "start_time": "2024-10-20T17:31:23.734Z"
   },
   {
    "duration": 387,
    "start_time": "2024-10-20T17:31:35.270Z"
   },
   {
    "duration": 259,
    "start_time": "2024-10-20T17:33:36.286Z"
   },
   {
    "duration": 246,
    "start_time": "2024-10-20T17:33:56.535Z"
   },
   {
    "duration": 290,
    "start_time": "2024-10-20T17:34:32.078Z"
   },
   {
    "duration": 241,
    "start_time": "2024-10-20T17:34:43.934Z"
   },
   {
    "duration": 293,
    "start_time": "2024-10-20T17:37:55.722Z"
   },
   {
    "duration": 301,
    "start_time": "2024-10-20T17:38:31.155Z"
   },
   {
    "duration": 285,
    "start_time": "2024-10-20T17:39:38.255Z"
   },
   {
    "duration": 486,
    "start_time": "2024-10-20T17:39:59.823Z"
   },
   {
    "duration": 492,
    "start_time": "2024-10-20T17:40:30.006Z"
   },
   {
    "duration": 477,
    "start_time": "2024-10-20T17:41:27.463Z"
   },
   {
    "duration": 456,
    "start_time": "2024-10-20T17:41:50.838Z"
   },
   {
    "duration": 474,
    "start_time": "2024-10-20T17:42:03.415Z"
   },
   {
    "duration": 481,
    "start_time": "2024-10-20T17:42:17.655Z"
   },
   {
    "duration": 519,
    "start_time": "2024-10-20T17:43:33.854Z"
   },
   {
    "duration": 499,
    "start_time": "2024-10-20T17:44:01.420Z"
   },
   {
    "duration": 684,
    "start_time": "2024-10-20T17:44:21.051Z"
   },
   {
    "duration": 523,
    "start_time": "2024-10-20T17:44:31.196Z"
   },
   {
    "duration": 562,
    "start_time": "2024-10-20T17:48:06.167Z"
   },
   {
    "duration": 532,
    "start_time": "2024-10-20T17:49:00.406Z"
   },
   {
    "duration": 571,
    "start_time": "2024-10-20T17:51:02.366Z"
   },
   {
    "duration": 271,
    "start_time": "2024-10-20T18:01:34.091Z"
   },
   {
    "duration": 202,
    "start_time": "2024-10-20T18:01:50.627Z"
   },
   {
    "duration": 271,
    "start_time": "2024-10-20T18:02:42.817Z"
   },
   {
    "duration": 1214,
    "start_time": "2024-10-21T08:10:45.576Z"
   },
   {
    "duration": 198,
    "start_time": "2024-10-21T08:10:46.792Z"
   },
   {
    "duration": 26,
    "start_time": "2024-10-21T08:10:46.993Z"
   },
   {
    "duration": 15,
    "start_time": "2024-10-21T08:10:47.022Z"
   },
   {
    "duration": 3,
    "start_time": "2024-10-21T08:10:47.039Z"
   },
   {
    "duration": 5,
    "start_time": "2024-10-21T08:10:47.044Z"
   },
   {
    "duration": 32,
    "start_time": "2024-10-21T08:10:47.050Z"
   },
   {
    "duration": 12,
    "start_time": "2024-10-21T08:10:47.083Z"
   },
   {
    "duration": 8,
    "start_time": "2024-10-21T08:10:47.096Z"
   },
   {
    "duration": 6,
    "start_time": "2024-10-21T08:10:47.107Z"
   },
   {
    "duration": 5,
    "start_time": "2024-10-21T08:10:47.114Z"
   },
   {
    "duration": 6,
    "start_time": "2024-10-21T08:10:47.120Z"
   },
   {
    "duration": 54,
    "start_time": "2024-10-21T08:10:47.128Z"
   },
   {
    "duration": 11,
    "start_time": "2024-10-21T08:10:47.184Z"
   },
   {
    "duration": 6,
    "start_time": "2024-10-21T08:10:47.196Z"
   },
   {
    "duration": 5,
    "start_time": "2024-10-21T08:10:47.204Z"
   },
   {
    "duration": 7,
    "start_time": "2024-10-21T08:10:47.211Z"
   },
   {
    "duration": 57,
    "start_time": "2024-10-21T08:10:47.220Z"
   },
   {
    "duration": 11,
    "start_time": "2024-10-21T08:10:47.279Z"
   },
   {
    "duration": 22,
    "start_time": "2024-10-21T08:10:47.292Z"
   },
   {
    "duration": 13,
    "start_time": "2024-10-21T08:10:47.316Z"
   },
   {
    "duration": 4,
    "start_time": "2024-10-21T08:10:47.331Z"
   },
   {
    "duration": 44,
    "start_time": "2024-10-21T08:10:47.337Z"
   },
   {
    "duration": 24,
    "start_time": "2024-10-21T08:10:47.382Z"
   },
   {
    "duration": 346,
    "start_time": "2024-10-21T08:10:47.407Z"
   },
   {
    "duration": 5,
    "start_time": "2024-10-21T08:10:47.754Z"
   },
   {
    "duration": 27,
    "start_time": "2024-10-21T08:10:47.761Z"
   },
   {
    "duration": 3,
    "start_time": "2024-10-21T08:10:47.792Z"
   },
   {
    "duration": 6,
    "start_time": "2024-10-21T08:10:47.797Z"
   },
   {
    "duration": 19,
    "start_time": "2024-10-21T08:10:47.805Z"
   },
   {
    "duration": 391,
    "start_time": "2024-10-21T08:10:47.826Z"
   },
   {
    "duration": 8,
    "start_time": "2024-10-21T08:10:48.219Z"
   },
   {
    "duration": 18,
    "start_time": "2024-10-21T08:10:48.230Z"
   },
   {
    "duration": 10,
    "start_time": "2024-10-21T08:10:48.250Z"
   },
   {
    "duration": 300,
    "start_time": "2024-10-21T08:10:48.277Z"
   },
   {
    "duration": 214,
    "start_time": "2024-10-21T08:10:48.579Z"
   },
   {
    "duration": 181,
    "start_time": "2024-10-21T08:10:48.795Z"
   },
   {
    "duration": 181,
    "start_time": "2024-10-21T08:10:48.977Z"
   },
   {
    "duration": 24,
    "start_time": "2024-10-21T08:10:49.159Z"
   },
   {
    "duration": 13,
    "start_time": "2024-10-21T08:10:49.184Z"
   },
   {
    "duration": 4,
    "start_time": "2024-10-21T08:10:49.198Z"
   },
   {
    "duration": 5,
    "start_time": "2024-10-21T08:10:49.203Z"
   },
   {
    "duration": 14,
    "start_time": "2024-10-21T08:10:49.210Z"
   },
   {
    "duration": 316,
    "start_time": "2024-10-21T08:10:49.226Z"
   },
   {
    "duration": 12,
    "start_time": "2024-10-21T08:10:49.544Z"
   },
   {
    "duration": 34,
    "start_time": "2024-10-21T08:10:49.558Z"
   },
   {
    "duration": 15,
    "start_time": "2024-10-21T08:10:49.593Z"
   },
   {
    "duration": 18,
    "start_time": "2024-10-21T08:10:49.610Z"
   },
   {
    "duration": 269,
    "start_time": "2024-10-21T08:10:49.630Z"
   },
   {
    "duration": 13,
    "start_time": "2024-10-21T08:10:49.901Z"
   },
   {
    "duration": 210,
    "start_time": "2024-10-21T08:10:49.915Z"
   },
   {
    "duration": 86,
    "start_time": "2024-10-21T08:10:50.127Z"
   },
   {
    "duration": 19,
    "start_time": "2024-10-21T08:10:50.215Z"
   },
   {
    "duration": 17,
    "start_time": "2024-10-21T08:10:50.236Z"
   },
   {
    "duration": 229,
    "start_time": "2024-10-21T08:10:50.275Z"
   },
   {
    "duration": 13,
    "start_time": "2024-10-21T08:10:50.506Z"
   },
   {
    "duration": 255,
    "start_time": "2024-10-21T08:10:50.521Z"
   },
   {
    "duration": 557,
    "start_time": "2024-10-21T08:10:50.777Z"
   },
   {
    "duration": 14,
    "start_time": "2024-10-21T08:10:51.335Z"
   },
   {
    "duration": 30,
    "start_time": "2024-10-21T08:10:51.351Z"
   },
   {
    "duration": 13,
    "start_time": "2024-10-21T08:10:51.383Z"
   },
   {
    "duration": 197,
    "start_time": "2024-10-21T08:10:51.397Z"
   },
   {
    "duration": 5,
    "start_time": "2024-10-21T08:10:51.596Z"
   },
   {
    "duration": 5,
    "start_time": "2024-10-21T08:10:51.603Z"
   },
   {
    "duration": 15,
    "start_time": "2024-10-21T08:10:51.610Z"
   },
   {
    "duration": 15,
    "start_time": "2024-10-21T08:10:51.628Z"
   },
   {
    "duration": 39,
    "start_time": "2024-10-21T08:10:51.645Z"
   },
   {
    "duration": 14,
    "start_time": "2024-10-21T08:10:51.686Z"
   },
   {
    "duration": 5,
    "start_time": "2024-10-21T08:10:51.702Z"
   },
   {
    "duration": 16,
    "start_time": "2024-10-21T08:10:51.708Z"
   },
   {
    "duration": 13,
    "start_time": "2024-10-21T08:10:51.726Z"
   },
   {
    "duration": 35,
    "start_time": "2024-10-21T08:10:51.741Z"
   },
   {
    "duration": 1232,
    "start_time": "2024-10-21T08:11:40.160Z"
   },
   {
    "duration": 56,
    "start_time": "2024-10-21T08:11:41.393Z"
   },
   {
    "duration": 19,
    "start_time": "2024-10-21T08:11:41.450Z"
   },
   {
    "duration": 15,
    "start_time": "2024-10-21T08:11:41.471Z"
   },
   {
    "duration": 7,
    "start_time": "2024-10-21T08:11:41.488Z"
   },
   {
    "duration": 9,
    "start_time": "2024-10-21T08:11:41.496Z"
   },
   {
    "duration": 31,
    "start_time": "2024-10-21T08:11:41.506Z"
   },
   {
    "duration": 11,
    "start_time": "2024-10-21T08:11:41.539Z"
   },
   {
    "duration": 8,
    "start_time": "2024-10-21T08:11:41.551Z"
   },
   {
    "duration": 5,
    "start_time": "2024-10-21T08:11:41.560Z"
   },
   {
    "duration": 10,
    "start_time": "2024-10-21T08:11:41.567Z"
   },
   {
    "duration": 5,
    "start_time": "2024-10-21T08:11:41.579Z"
   },
   {
    "duration": 8,
    "start_time": "2024-10-21T08:11:41.586Z"
   },
   {
    "duration": 12,
    "start_time": "2024-10-21T08:11:41.596Z"
   },
   {
    "duration": 6,
    "start_time": "2024-10-21T08:11:41.609Z"
   },
   {
    "duration": 10,
    "start_time": "2024-10-21T08:11:41.616Z"
   },
   {
    "duration": 6,
    "start_time": "2024-10-21T08:11:41.627Z"
   },
   {
    "duration": 47,
    "start_time": "2024-10-21T08:11:41.634Z"
   },
   {
    "duration": 7,
    "start_time": "2024-10-21T08:11:41.682Z"
   },
   {
    "duration": 15,
    "start_time": "2024-10-21T08:11:41.690Z"
   },
   {
    "duration": 14,
    "start_time": "2024-10-21T08:11:41.706Z"
   },
   {
    "duration": 5,
    "start_time": "2024-10-21T08:11:41.721Z"
   },
   {
    "duration": 16,
    "start_time": "2024-10-21T08:11:41.727Z"
   },
   {
    "duration": 50,
    "start_time": "2024-10-21T08:11:41.745Z"
   },
   {
    "duration": 333,
    "start_time": "2024-10-21T08:11:41.796Z"
   },
   {
    "duration": 6,
    "start_time": "2024-10-21T08:11:42.131Z"
   },
   {
    "duration": 14,
    "start_time": "2024-10-21T08:11:42.139Z"
   },
   {
    "duration": 21,
    "start_time": "2024-10-21T08:11:42.155Z"
   },
   {
    "duration": 6,
    "start_time": "2024-10-21T08:11:42.178Z"
   },
   {
    "duration": 26,
    "start_time": "2024-10-21T08:11:42.186Z"
   },
   {
    "duration": 315,
    "start_time": "2024-10-21T08:11:42.214Z"
   },
   {
    "duration": 4,
    "start_time": "2024-10-21T08:11:42.531Z"
   },
   {
    "duration": 21,
    "start_time": "2024-10-21T08:11:42.537Z"
   },
   {
    "duration": 2,
    "start_time": "2024-10-21T08:11:42.560Z"
   },
   {
    "duration": 275,
    "start_time": "2024-10-21T08:11:42.576Z"
   },
   {
    "duration": 205,
    "start_time": "2024-10-21T08:11:42.853Z"
   },
   {
    "duration": 177,
    "start_time": "2024-10-21T08:11:43.060Z"
   },
   {
    "duration": 180,
    "start_time": "2024-10-21T08:11:43.239Z"
   },
   {
    "duration": 11,
    "start_time": "2024-10-21T08:11:43.421Z"
   },
   {
    "duration": 12,
    "start_time": "2024-10-21T08:11:43.434Z"
   },
   {
    "duration": 27,
    "start_time": "2024-10-21T08:11:43.451Z"
   },
   {
    "duration": 4,
    "start_time": "2024-10-21T08:11:43.485Z"
   },
   {
    "duration": 22,
    "start_time": "2024-10-21T08:11:43.491Z"
   },
   {
    "duration": 271,
    "start_time": "2024-10-21T08:11:43.514Z"
   },
   {
    "duration": 13,
    "start_time": "2024-10-21T08:11:43.786Z"
   },
   {
    "duration": 12,
    "start_time": "2024-10-21T08:11:43.801Z"
   },
   {
    "duration": 15,
    "start_time": "2024-10-21T08:11:43.815Z"
   },
   {
    "duration": 86,
    "start_time": "2024-10-21T08:11:43.831Z"
   },
   {
    "duration": 346,
    "start_time": "2024-10-21T08:11:43.918Z"
   },
   {
    "duration": 17,
    "start_time": "2024-10-21T08:11:44.266Z"
   },
   {
    "duration": 203,
    "start_time": "2024-10-21T08:11:44.285Z"
   },
   {
    "duration": 68,
    "start_time": "2024-10-21T08:11:44.490Z"
   },
   {
    "duration": 13,
    "start_time": "2024-10-21T08:11:44.575Z"
   },
   {
    "duration": 13,
    "start_time": "2024-10-21T08:11:44.589Z"
   },
   {
    "duration": 209,
    "start_time": "2024-10-21T08:11:44.603Z"
   },
   {
    "duration": 14,
    "start_time": "2024-10-21T08:11:44.814Z"
   },
   {
    "duration": 198,
    "start_time": "2024-10-21T08:11:44.829Z"
   },
   {
    "duration": 549,
    "start_time": "2024-10-21T08:11:45.029Z"
   },
   {
    "duration": 13,
    "start_time": "2024-10-21T08:11:45.579Z"
   },
   {
    "duration": 26,
    "start_time": "2024-10-21T08:11:45.593Z"
   },
   {
    "duration": 12,
    "start_time": "2024-10-21T08:11:45.620Z"
   },
   {
    "duration": 156,
    "start_time": "2024-10-21T08:11:45.634Z"
   },
   {
    "duration": 3,
    "start_time": "2024-10-21T08:11:45.792Z"
   },
   {
    "duration": 6,
    "start_time": "2024-10-21T08:11:45.797Z"
   },
   {
    "duration": 17,
    "start_time": "2024-10-21T08:11:45.804Z"
   },
   {
    "duration": 89,
    "start_time": "2024-10-21T08:11:45.822Z"
   },
   {
    "duration": 7,
    "start_time": "2024-10-21T08:11:45.913Z"
   },
   {
    "duration": 95,
    "start_time": "2024-10-21T08:11:45.922Z"
   },
   {
    "duration": 7,
    "start_time": "2024-10-21T08:11:46.019Z"
   },
   {
    "duration": 10,
    "start_time": "2024-10-21T08:11:46.028Z"
   },
   {
    "duration": 9,
    "start_time": "2024-10-21T08:11:46.040Z"
   },
   {
    "duration": 7,
    "start_time": "2024-10-21T08:11:46.051Z"
   },
   {
    "duration": 1256,
    "start_time": "2024-10-21T08:18:07.342Z"
   },
   {
    "duration": 56,
    "start_time": "2024-10-21T08:18:08.600Z"
   },
   {
    "duration": 21,
    "start_time": "2024-10-21T08:18:08.658Z"
   },
   {
    "duration": 26,
    "start_time": "2024-10-21T08:18:08.681Z"
   },
   {
    "duration": 3,
    "start_time": "2024-10-21T08:18:08.708Z"
   },
   {
    "duration": 5,
    "start_time": "2024-10-21T08:18:08.713Z"
   },
   {
    "duration": 14,
    "start_time": "2024-10-21T08:18:08.720Z"
   },
   {
    "duration": 11,
    "start_time": "2024-10-21T08:18:08.735Z"
   },
   {
    "duration": 29,
    "start_time": "2024-10-21T08:18:08.748Z"
   },
   {
    "duration": 6,
    "start_time": "2024-10-21T08:18:08.779Z"
   },
   {
    "duration": 12,
    "start_time": "2024-10-21T08:18:08.787Z"
   },
   {
    "duration": 14,
    "start_time": "2024-10-21T08:18:08.801Z"
   },
   {
    "duration": 11,
    "start_time": "2024-10-21T08:18:08.816Z"
   },
   {
    "duration": 12,
    "start_time": "2024-10-21T08:18:08.828Z"
   },
   {
    "duration": 5,
    "start_time": "2024-10-21T08:18:08.842Z"
   },
   {
    "duration": 4,
    "start_time": "2024-10-21T08:18:08.849Z"
   },
   {
    "duration": 24,
    "start_time": "2024-10-21T08:18:08.854Z"
   },
   {
    "duration": 13,
    "start_time": "2024-10-21T08:18:08.879Z"
   },
   {
    "duration": 6,
    "start_time": "2024-10-21T08:18:08.893Z"
   },
   {
    "duration": 22,
    "start_time": "2024-10-21T08:18:08.901Z"
   },
   {
    "duration": 13,
    "start_time": "2024-10-21T08:18:08.925Z"
   },
   {
    "duration": 5,
    "start_time": "2024-10-21T08:18:08.939Z"
   },
   {
    "duration": 43,
    "start_time": "2024-10-21T08:18:08.946Z"
   },
   {
    "duration": 21,
    "start_time": "2024-10-21T08:18:08.991Z"
   },
   {
    "duration": 348,
    "start_time": "2024-10-21T08:18:09.014Z"
   },
   {
    "duration": 12,
    "start_time": "2024-10-21T08:18:09.364Z"
   },
   {
    "duration": 15,
    "start_time": "2024-10-21T08:18:09.377Z"
   },
   {
    "duration": 2,
    "start_time": "2024-10-21T08:18:09.396Z"
   },
   {
    "duration": 16,
    "start_time": "2024-10-21T08:18:09.400Z"
   },
   {
    "duration": 25,
    "start_time": "2024-10-21T08:18:09.418Z"
   },
   {
    "duration": 330,
    "start_time": "2024-10-21T08:18:09.445Z"
   },
   {
    "duration": 5,
    "start_time": "2024-10-21T08:18:09.777Z"
   },
   {
    "duration": 38,
    "start_time": "2024-10-21T08:18:09.784Z"
   },
   {
    "duration": 3,
    "start_time": "2024-10-21T08:18:09.823Z"
   },
   {
    "duration": 278,
    "start_time": "2024-10-21T08:18:09.828Z"
   },
   {
    "duration": 206,
    "start_time": "2024-10-21T08:18:10.108Z"
   },
   {
    "duration": 184,
    "start_time": "2024-10-21T08:18:10.315Z"
   },
   {
    "duration": 220,
    "start_time": "2024-10-21T08:18:10.501Z"
   },
   {
    "duration": 10,
    "start_time": "2024-10-21T08:18:10.722Z"
   },
   {
    "duration": 13,
    "start_time": "2024-10-21T08:18:10.733Z"
   },
   {
    "duration": 3,
    "start_time": "2024-10-21T08:18:10.747Z"
   },
   {
    "duration": 27,
    "start_time": "2024-10-21T08:18:10.752Z"
   },
   {
    "duration": 16,
    "start_time": "2024-10-21T08:18:10.780Z"
   },
   {
    "duration": 283,
    "start_time": "2024-10-21T08:18:10.797Z"
   },
   {
    "duration": 13,
    "start_time": "2024-10-21T08:18:11.081Z"
   },
   {
    "duration": 12,
    "start_time": "2024-10-21T08:18:11.095Z"
   },
   {
    "duration": 26,
    "start_time": "2024-10-21T08:18:11.109Z"
   },
   {
    "duration": 15,
    "start_time": "2024-10-21T08:18:11.136Z"
   },
   {
    "duration": 260,
    "start_time": "2024-10-21T08:18:11.152Z"
   },
   {
    "duration": 13,
    "start_time": "2024-10-21T08:18:11.414Z"
   },
   {
    "duration": 195,
    "start_time": "2024-10-21T08:18:11.428Z"
   },
   {
    "duration": 78,
    "start_time": "2024-10-21T08:18:11.624Z"
   },
   {
    "duration": 15,
    "start_time": "2024-10-21T08:18:11.704Z"
   },
   {
    "duration": 13,
    "start_time": "2024-10-21T08:18:11.720Z"
   },
   {
    "duration": 217,
    "start_time": "2024-10-21T08:18:11.734Z"
   },
   {
    "duration": 14,
    "start_time": "2024-10-21T08:18:11.953Z"
   },
   {
    "duration": 245,
    "start_time": "2024-10-21T08:18:11.976Z"
   },
   {
    "duration": 562,
    "start_time": "2024-10-21T08:18:12.223Z"
   },
   {
    "duration": 13,
    "start_time": "2024-10-21T08:18:12.787Z"
   },
   {
    "duration": 15,
    "start_time": "2024-10-21T08:18:12.801Z"
   },
   {
    "duration": 13,
    "start_time": "2024-10-21T08:18:12.817Z"
   },
   {
    "duration": 176,
    "start_time": "2024-10-21T08:18:12.831Z"
   },
   {
    "duration": 4,
    "start_time": "2024-10-21T08:18:13.009Z"
   },
   {
    "duration": 5,
    "start_time": "2024-10-21T08:18:13.015Z"
   },
   {
    "duration": 14,
    "start_time": "2024-10-21T08:18:13.022Z"
   },
   {
    "duration": 10,
    "start_time": "2024-10-21T08:18:13.037Z"
   },
   {
    "duration": 32,
    "start_time": "2024-10-21T08:18:13.048Z"
   },
   {
    "duration": 3,
    "start_time": "2024-10-21T08:18:13.082Z"
   },
   {
    "duration": 3,
    "start_time": "2024-10-21T08:18:13.087Z"
   },
   {
    "duration": 10,
    "start_time": "2024-10-21T08:18:13.092Z"
   },
   {
    "duration": 10,
    "start_time": "2024-10-21T08:18:13.103Z"
   },
   {
    "duration": 7,
    "start_time": "2024-10-21T08:18:13.115Z"
   },
   {
    "duration": 1226,
    "start_time": "2024-10-21T08:30:38.170Z"
   },
   {
    "duration": 56,
    "start_time": "2024-10-21T08:30:39.398Z"
   },
   {
    "duration": 23,
    "start_time": "2024-10-21T08:30:39.456Z"
   },
   {
    "duration": 21,
    "start_time": "2024-10-21T08:30:39.481Z"
   },
   {
    "duration": 3,
    "start_time": "2024-10-21T08:30:39.504Z"
   },
   {
    "duration": 5,
    "start_time": "2024-10-21T08:30:39.509Z"
   },
   {
    "duration": 10,
    "start_time": "2024-10-21T08:30:39.515Z"
   },
   {
    "duration": 11,
    "start_time": "2024-10-21T08:30:39.527Z"
   },
   {
    "duration": 36,
    "start_time": "2024-10-21T08:30:39.540Z"
   },
   {
    "duration": 6,
    "start_time": "2024-10-21T08:30:39.578Z"
   },
   {
    "duration": 3,
    "start_time": "2024-10-21T08:30:39.586Z"
   },
   {
    "duration": 6,
    "start_time": "2024-10-21T08:30:39.590Z"
   },
   {
    "duration": 7,
    "start_time": "2024-10-21T08:30:39.598Z"
   },
   {
    "duration": 12,
    "start_time": "2024-10-21T08:30:39.608Z"
   },
   {
    "duration": 5,
    "start_time": "2024-10-21T08:30:39.621Z"
   },
   {
    "duration": 5,
    "start_time": "2024-10-21T08:30:39.627Z"
   },
   {
    "duration": 43,
    "start_time": "2024-10-21T08:30:39.633Z"
   },
   {
    "duration": 11,
    "start_time": "2024-10-21T08:30:39.677Z"
   },
   {
    "duration": 6,
    "start_time": "2024-10-21T08:30:39.689Z"
   },
   {
    "duration": 20,
    "start_time": "2024-10-21T08:30:39.697Z"
   },
   {
    "duration": 13,
    "start_time": "2024-10-21T08:30:39.719Z"
   },
   {
    "duration": 4,
    "start_time": "2024-10-21T08:30:39.734Z"
   },
   {
    "duration": 39,
    "start_time": "2024-10-21T08:30:39.739Z"
   },
   {
    "duration": 22,
    "start_time": "2024-10-21T08:30:39.780Z"
   },
   {
    "duration": 329,
    "start_time": "2024-10-21T08:30:39.804Z"
   },
   {
    "duration": 5,
    "start_time": "2024-10-21T08:30:40.135Z"
   },
   {
    "duration": 27,
    "start_time": "2024-10-21T08:30:40.142Z"
   },
   {
    "duration": 10,
    "start_time": "2024-10-21T08:30:40.171Z"
   },
   {
    "duration": 10,
    "start_time": "2024-10-21T08:30:40.182Z"
   },
   {
    "duration": 21,
    "start_time": "2024-10-21T08:30:40.193Z"
   },
   {
    "duration": 329,
    "start_time": "2024-10-21T08:30:40.216Z"
   },
   {
    "duration": 4,
    "start_time": "2024-10-21T08:30:40.546Z"
   },
   {
    "duration": 82,
    "start_time": "2024-10-21T08:30:40.552Z"
   },
   {
    "duration": 4,
    "start_time": "2024-10-21T08:30:40.636Z"
   },
   {
    "duration": 262,
    "start_time": "2024-10-21T08:30:40.642Z"
   },
   {
    "duration": 206,
    "start_time": "2024-10-21T08:30:40.906Z"
   },
   {
    "duration": 175,
    "start_time": "2024-10-21T08:30:41.113Z"
   },
   {
    "duration": 177,
    "start_time": "2024-10-21T08:30:41.290Z"
   },
   {
    "duration": 15,
    "start_time": "2024-10-21T08:30:41.468Z"
   },
   {
    "duration": 12,
    "start_time": "2024-10-21T08:30:41.484Z"
   },
   {
    "duration": 4,
    "start_time": "2024-10-21T08:30:41.500Z"
   },
   {
    "duration": 21,
    "start_time": "2024-10-21T08:30:41.505Z"
   },
   {
    "duration": 29,
    "start_time": "2024-10-21T08:30:41.527Z"
   },
   {
    "duration": 266,
    "start_time": "2024-10-21T08:30:41.557Z"
   },
   {
    "duration": 13,
    "start_time": "2024-10-21T08:30:41.825Z"
   },
   {
    "duration": 24,
    "start_time": "2024-10-21T08:30:41.840Z"
   },
   {
    "duration": 16,
    "start_time": "2024-10-21T08:30:41.866Z"
   },
   {
    "duration": 68,
    "start_time": "2024-10-21T08:30:41.883Z"
   },
   {
    "duration": 361,
    "start_time": "2024-10-21T08:30:41.952Z"
   },
   {
    "duration": 13,
    "start_time": "2024-10-21T08:30:42.315Z"
   },
   {
    "duration": 204,
    "start_time": "2024-10-21T08:30:42.330Z"
   },
   {
    "duration": 75,
    "start_time": "2024-10-21T08:30:42.535Z"
   },
   {
    "duration": 15,
    "start_time": "2024-10-21T08:30:42.611Z"
   },
   {
    "duration": 24,
    "start_time": "2024-10-21T08:30:42.628Z"
   },
   {
    "duration": 194,
    "start_time": "2024-10-21T08:30:42.654Z"
   },
   {
    "duration": 13,
    "start_time": "2024-10-21T08:30:42.849Z"
   },
   {
    "duration": 191,
    "start_time": "2024-10-21T08:30:42.863Z"
   },
   {
    "duration": 542,
    "start_time": "2024-10-21T08:30:43.056Z"
   },
   {
    "duration": 13,
    "start_time": "2024-10-21T08:30:43.600Z"
   },
   {
    "duration": 13,
    "start_time": "2024-10-21T08:30:43.614Z"
   },
   {
    "duration": 12,
    "start_time": "2024-10-21T08:30:43.629Z"
   },
   {
    "duration": 169,
    "start_time": "2024-10-21T08:30:43.643Z"
   },
   {
    "duration": 4,
    "start_time": "2024-10-21T08:30:43.814Z"
   },
   {
    "duration": 8,
    "start_time": "2024-10-21T08:30:43.819Z"
   },
   {
    "duration": 13,
    "start_time": "2024-10-21T08:30:43.829Z"
   },
   {
    "duration": 21,
    "start_time": "2024-10-21T08:30:43.844Z"
   },
   {
    "duration": 8,
    "start_time": "2024-10-21T08:30:43.875Z"
   },
   {
    "duration": 7,
    "start_time": "2024-10-21T08:30:43.885Z"
   },
   {
    "duration": 102,
    "start_time": "2024-10-21T08:30:43.894Z"
   },
   {
    "duration": 87,
    "start_time": "2024-10-21T08:30:43.997Z"
   },
   {
    "duration": 10,
    "start_time": "2024-10-21T08:30:44.086Z"
   },
   {
    "duration": 8,
    "start_time": "2024-10-21T08:30:44.097Z"
   }
  ],
  "kernelspec": {
   "display_name": "Python 3",
   "language": "python",
   "name": "python3"
  },
  "language_info": {
   "codemirror_mode": {
    "name": "ipython",
    "version": 3
   },
   "file_extension": ".py",
   "mimetype": "text/x-python",
   "name": "python",
   "nbconvert_exporter": "python",
   "pygments_lexer": "ipython3",
   "version": "3.7.0"
  },
  "toc": {
   "base_numbering": 1,
   "nav_menu": {},
   "number_sections": true,
   "sideBar": true,
   "skip_h1_title": true,
   "title_cell": "Table of Contents",
   "title_sidebar": "Contents",
   "toc_cell": false,
   "toc_position": {},
   "toc_section_display": true,
   "toc_window_display": false
  }
 },
 "nbformat": 4,
 "nbformat_minor": 2
}
