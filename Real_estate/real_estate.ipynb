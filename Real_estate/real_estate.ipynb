{
 "cells": [
  {
   "cell_type": "markdown",
   "metadata": {
    "id": "-VFbjcb3Awb7"
   },
   "source": [
    "# Исследование объявлений о продаже квартир"
   ]
  },
  {
   "cell_type": "markdown",
   "metadata": {},
   "source": [
    "Введение\n",
    "    \n",
    "Цель работы - определять рыночную стоимость объектов недвижимости для построения автоматизированной системы отслеживания аномалий и мошеннической деятельности.\n",
    "\n",
    " Данные представляют собой архив объявлений о продаже квартир в Санкт-Петербурге и соседних населённых пунктах за несколько лет. По каждой квартире на продажу доступны два вида данных. Первые вписаны пользователем, вторые — получены автоматически на основе картографических данных. Например, расстояние до центра, аэропорта и других объектов — эти данные автоматически получены из геосервисов. Количество парков и водоёмов также заполняется без участия пользователя.\n",
    " \n",
    "План работы: \n",
    "1. проверка данных (исследование пропусков, дублей, проверка типов данных) \n",
    "2. анализ (построение гистограмм, графиков, подсчет описательных статистик)\n",
    "3. исследование длительности продажи квартир\n",
    "4. исследование факторов, влияющих на стоимость квартир\n",
    "5. исследование зависимости цены квартиры от расстояния от центра города."
   ]
  },
  {
   "cell_type": "markdown",
   "metadata": {},
   "source": [
    "1.1 Загружаем файл с данными из csv-файла"
   ]
  },
  {
   "cell_type": "code",
   "execution_count": 1,
   "metadata": {},
   "outputs": [],
   "source": [
    "import pandas as pd"
   ]
  },
  {
   "cell_type": "code",
   "execution_count": 2,
   "metadata": {},
   "outputs": [],
   "source": [
    "import matplotlib.pyplot as plt "
   ]
  },
  {
   "cell_type": "code",
   "execution_count": 3,
   "metadata": {},
   "outputs": [],
   "source": [
    "import seaborn as sns"
   ]
  },
  {
   "cell_type": "code",
   "execution_count": 4,
   "metadata": {},
   "outputs": [
    {
     "data": {
      "text/html": [
       "<div>\n",
       "<style scoped>\n",
       "    .dataframe tbody tr th:only-of-type {\n",
       "        vertical-align: middle;\n",
       "    }\n",
       "\n",
       "    .dataframe tbody tr th {\n",
       "        vertical-align: top;\n",
       "    }\n",
       "\n",
       "    .dataframe thead th {\n",
       "        text-align: right;\n",
       "    }\n",
       "</style>\n",
       "<table border=\"1\" class=\"dataframe\">\n",
       "  <thead>\n",
       "    <tr style=\"text-align: right;\">\n",
       "      <th></th>\n",
       "      <th>total_images</th>\n",
       "      <th>last_price</th>\n",
       "      <th>total_area</th>\n",
       "      <th>first_day_exposition</th>\n",
       "      <th>rooms</th>\n",
       "      <th>ceiling_height</th>\n",
       "      <th>floors_total</th>\n",
       "      <th>living_area</th>\n",
       "      <th>floor</th>\n",
       "      <th>is_apartment</th>\n",
       "      <th>...</th>\n",
       "      <th>kitchen_area</th>\n",
       "      <th>balcony</th>\n",
       "      <th>locality_name</th>\n",
       "      <th>airports_nearest</th>\n",
       "      <th>cityCenters_nearest</th>\n",
       "      <th>parks_around3000</th>\n",
       "      <th>parks_nearest</th>\n",
       "      <th>ponds_around3000</th>\n",
       "      <th>ponds_nearest</th>\n",
       "      <th>days_exposition</th>\n",
       "    </tr>\n",
       "  </thead>\n",
       "  <tbody>\n",
       "    <tr>\n",
       "      <th>0</th>\n",
       "      <td>20</td>\n",
       "      <td>13000000.0</td>\n",
       "      <td>108.00</td>\n",
       "      <td>2019-03-07T00:00:00</td>\n",
       "      <td>3</td>\n",
       "      <td>2.70</td>\n",
       "      <td>16.0</td>\n",
       "      <td>51.00</td>\n",
       "      <td>8</td>\n",
       "      <td>NaN</td>\n",
       "      <td>...</td>\n",
       "      <td>25.00</td>\n",
       "      <td>NaN</td>\n",
       "      <td>Санкт-Петербург</td>\n",
       "      <td>18863.0</td>\n",
       "      <td>16028.0</td>\n",
       "      <td>1.0</td>\n",
       "      <td>482.0</td>\n",
       "      <td>2.0</td>\n",
       "      <td>755.0</td>\n",
       "      <td>NaN</td>\n",
       "    </tr>\n",
       "    <tr>\n",
       "      <th>1</th>\n",
       "      <td>7</td>\n",
       "      <td>3350000.0</td>\n",
       "      <td>40.40</td>\n",
       "      <td>2018-12-04T00:00:00</td>\n",
       "      <td>1</td>\n",
       "      <td>NaN</td>\n",
       "      <td>11.0</td>\n",
       "      <td>18.60</td>\n",
       "      <td>1</td>\n",
       "      <td>NaN</td>\n",
       "      <td>...</td>\n",
       "      <td>11.00</td>\n",
       "      <td>2.0</td>\n",
       "      <td>посёлок Шушары</td>\n",
       "      <td>12817.0</td>\n",
       "      <td>18603.0</td>\n",
       "      <td>0.0</td>\n",
       "      <td>NaN</td>\n",
       "      <td>0.0</td>\n",
       "      <td>NaN</td>\n",
       "      <td>81.0</td>\n",
       "    </tr>\n",
       "    <tr>\n",
       "      <th>2</th>\n",
       "      <td>10</td>\n",
       "      <td>5196000.0</td>\n",
       "      <td>56.00</td>\n",
       "      <td>2015-08-20T00:00:00</td>\n",
       "      <td>2</td>\n",
       "      <td>NaN</td>\n",
       "      <td>5.0</td>\n",
       "      <td>34.30</td>\n",
       "      <td>4</td>\n",
       "      <td>NaN</td>\n",
       "      <td>...</td>\n",
       "      <td>8.30</td>\n",
       "      <td>0.0</td>\n",
       "      <td>Санкт-Петербург</td>\n",
       "      <td>21741.0</td>\n",
       "      <td>13933.0</td>\n",
       "      <td>1.0</td>\n",
       "      <td>90.0</td>\n",
       "      <td>2.0</td>\n",
       "      <td>574.0</td>\n",
       "      <td>558.0</td>\n",
       "    </tr>\n",
       "    <tr>\n",
       "      <th>3</th>\n",
       "      <td>0</td>\n",
       "      <td>64900000.0</td>\n",
       "      <td>159.00</td>\n",
       "      <td>2015-07-24T00:00:00</td>\n",
       "      <td>3</td>\n",
       "      <td>NaN</td>\n",
       "      <td>14.0</td>\n",
       "      <td>NaN</td>\n",
       "      <td>9</td>\n",
       "      <td>NaN</td>\n",
       "      <td>...</td>\n",
       "      <td>NaN</td>\n",
       "      <td>0.0</td>\n",
       "      <td>Санкт-Петербург</td>\n",
       "      <td>28098.0</td>\n",
       "      <td>6800.0</td>\n",
       "      <td>2.0</td>\n",
       "      <td>84.0</td>\n",
       "      <td>3.0</td>\n",
       "      <td>234.0</td>\n",
       "      <td>424.0</td>\n",
       "    </tr>\n",
       "    <tr>\n",
       "      <th>4</th>\n",
       "      <td>2</td>\n",
       "      <td>10000000.0</td>\n",
       "      <td>100.00</td>\n",
       "      <td>2018-06-19T00:00:00</td>\n",
       "      <td>2</td>\n",
       "      <td>3.03</td>\n",
       "      <td>14.0</td>\n",
       "      <td>32.00</td>\n",
       "      <td>13</td>\n",
       "      <td>NaN</td>\n",
       "      <td>...</td>\n",
       "      <td>41.00</td>\n",
       "      <td>NaN</td>\n",
       "      <td>Санкт-Петербург</td>\n",
       "      <td>31856.0</td>\n",
       "      <td>8098.0</td>\n",
       "      <td>2.0</td>\n",
       "      <td>112.0</td>\n",
       "      <td>1.0</td>\n",
       "      <td>48.0</td>\n",
       "      <td>121.0</td>\n",
       "    </tr>\n",
       "    <tr>\n",
       "      <th>5</th>\n",
       "      <td>10</td>\n",
       "      <td>2890000.0</td>\n",
       "      <td>30.40</td>\n",
       "      <td>2018-09-10T00:00:00</td>\n",
       "      <td>1</td>\n",
       "      <td>NaN</td>\n",
       "      <td>12.0</td>\n",
       "      <td>14.40</td>\n",
       "      <td>5</td>\n",
       "      <td>NaN</td>\n",
       "      <td>...</td>\n",
       "      <td>9.10</td>\n",
       "      <td>NaN</td>\n",
       "      <td>городской посёлок Янино-1</td>\n",
       "      <td>NaN</td>\n",
       "      <td>NaN</td>\n",
       "      <td>NaN</td>\n",
       "      <td>NaN</td>\n",
       "      <td>NaN</td>\n",
       "      <td>NaN</td>\n",
       "      <td>55.0</td>\n",
       "    </tr>\n",
       "    <tr>\n",
       "      <th>6</th>\n",
       "      <td>6</td>\n",
       "      <td>3700000.0</td>\n",
       "      <td>37.30</td>\n",
       "      <td>2017-11-02T00:00:00</td>\n",
       "      <td>1</td>\n",
       "      <td>NaN</td>\n",
       "      <td>26.0</td>\n",
       "      <td>10.60</td>\n",
       "      <td>6</td>\n",
       "      <td>NaN</td>\n",
       "      <td>...</td>\n",
       "      <td>14.40</td>\n",
       "      <td>1.0</td>\n",
       "      <td>посёлок Парголово</td>\n",
       "      <td>52996.0</td>\n",
       "      <td>19143.0</td>\n",
       "      <td>0.0</td>\n",
       "      <td>NaN</td>\n",
       "      <td>0.0</td>\n",
       "      <td>NaN</td>\n",
       "      <td>155.0</td>\n",
       "    </tr>\n",
       "    <tr>\n",
       "      <th>7</th>\n",
       "      <td>5</td>\n",
       "      <td>7915000.0</td>\n",
       "      <td>71.60</td>\n",
       "      <td>2019-04-18T00:00:00</td>\n",
       "      <td>2</td>\n",
       "      <td>NaN</td>\n",
       "      <td>24.0</td>\n",
       "      <td>NaN</td>\n",
       "      <td>22</td>\n",
       "      <td>NaN</td>\n",
       "      <td>...</td>\n",
       "      <td>18.90</td>\n",
       "      <td>2.0</td>\n",
       "      <td>Санкт-Петербург</td>\n",
       "      <td>23982.0</td>\n",
       "      <td>11634.0</td>\n",
       "      <td>0.0</td>\n",
       "      <td>NaN</td>\n",
       "      <td>0.0</td>\n",
       "      <td>NaN</td>\n",
       "      <td>NaN</td>\n",
       "    </tr>\n",
       "    <tr>\n",
       "      <th>8</th>\n",
       "      <td>20</td>\n",
       "      <td>2900000.0</td>\n",
       "      <td>33.16</td>\n",
       "      <td>2018-05-23T00:00:00</td>\n",
       "      <td>1</td>\n",
       "      <td>NaN</td>\n",
       "      <td>27.0</td>\n",
       "      <td>15.43</td>\n",
       "      <td>26</td>\n",
       "      <td>NaN</td>\n",
       "      <td>...</td>\n",
       "      <td>8.81</td>\n",
       "      <td>NaN</td>\n",
       "      <td>посёлок Мурино</td>\n",
       "      <td>NaN</td>\n",
       "      <td>NaN</td>\n",
       "      <td>NaN</td>\n",
       "      <td>NaN</td>\n",
       "      <td>NaN</td>\n",
       "      <td>NaN</td>\n",
       "      <td>189.0</td>\n",
       "    </tr>\n",
       "    <tr>\n",
       "      <th>9</th>\n",
       "      <td>18</td>\n",
       "      <td>5400000.0</td>\n",
       "      <td>61.00</td>\n",
       "      <td>2017-02-26T00:00:00</td>\n",
       "      <td>3</td>\n",
       "      <td>2.50</td>\n",
       "      <td>9.0</td>\n",
       "      <td>43.60</td>\n",
       "      <td>7</td>\n",
       "      <td>NaN</td>\n",
       "      <td>...</td>\n",
       "      <td>6.50</td>\n",
       "      <td>2.0</td>\n",
       "      <td>Санкт-Петербург</td>\n",
       "      <td>50898.0</td>\n",
       "      <td>15008.0</td>\n",
       "      <td>0.0</td>\n",
       "      <td>NaN</td>\n",
       "      <td>0.0</td>\n",
       "      <td>NaN</td>\n",
       "      <td>289.0</td>\n",
       "    </tr>\n",
       "  </tbody>\n",
       "</table>\n",
       "<p>10 rows × 22 columns</p>\n",
       "</div>"
      ],
      "text/plain": [
       "   total_images  last_price  total_area first_day_exposition  rooms  \\\n",
       "0            20  13000000.0      108.00  2019-03-07T00:00:00      3   \n",
       "1             7   3350000.0       40.40  2018-12-04T00:00:00      1   \n",
       "2            10   5196000.0       56.00  2015-08-20T00:00:00      2   \n",
       "3             0  64900000.0      159.00  2015-07-24T00:00:00      3   \n",
       "4             2  10000000.0      100.00  2018-06-19T00:00:00      2   \n",
       "5            10   2890000.0       30.40  2018-09-10T00:00:00      1   \n",
       "6             6   3700000.0       37.30  2017-11-02T00:00:00      1   \n",
       "7             5   7915000.0       71.60  2019-04-18T00:00:00      2   \n",
       "8            20   2900000.0       33.16  2018-05-23T00:00:00      1   \n",
       "9            18   5400000.0       61.00  2017-02-26T00:00:00      3   \n",
       "\n",
       "   ceiling_height  floors_total  living_area  floor is_apartment  ...  \\\n",
       "0            2.70          16.0        51.00      8          NaN  ...   \n",
       "1             NaN          11.0        18.60      1          NaN  ...   \n",
       "2             NaN           5.0        34.30      4          NaN  ...   \n",
       "3             NaN          14.0          NaN      9          NaN  ...   \n",
       "4            3.03          14.0        32.00     13          NaN  ...   \n",
       "5             NaN          12.0        14.40      5          NaN  ...   \n",
       "6             NaN          26.0        10.60      6          NaN  ...   \n",
       "7             NaN          24.0          NaN     22          NaN  ...   \n",
       "8             NaN          27.0        15.43     26          NaN  ...   \n",
       "9            2.50           9.0        43.60      7          NaN  ...   \n",
       "\n",
       "   kitchen_area  balcony              locality_name  airports_nearest  \\\n",
       "0         25.00      NaN            Санкт-Петербург           18863.0   \n",
       "1         11.00      2.0             посёлок Шушары           12817.0   \n",
       "2          8.30      0.0            Санкт-Петербург           21741.0   \n",
       "3           NaN      0.0            Санкт-Петербург           28098.0   \n",
       "4         41.00      NaN            Санкт-Петербург           31856.0   \n",
       "5          9.10      NaN  городской посёлок Янино-1               NaN   \n",
       "6         14.40      1.0          посёлок Парголово           52996.0   \n",
       "7         18.90      2.0            Санкт-Петербург           23982.0   \n",
       "8          8.81      NaN             посёлок Мурино               NaN   \n",
       "9          6.50      2.0            Санкт-Петербург           50898.0   \n",
       "\n",
       "  cityCenters_nearest  parks_around3000  parks_nearest  ponds_around3000  \\\n",
       "0             16028.0               1.0          482.0               2.0   \n",
       "1             18603.0               0.0            NaN               0.0   \n",
       "2             13933.0               1.0           90.0               2.0   \n",
       "3              6800.0               2.0           84.0               3.0   \n",
       "4              8098.0               2.0          112.0               1.0   \n",
       "5                 NaN               NaN            NaN               NaN   \n",
       "6             19143.0               0.0            NaN               0.0   \n",
       "7             11634.0               0.0            NaN               0.0   \n",
       "8                 NaN               NaN            NaN               NaN   \n",
       "9             15008.0               0.0            NaN               0.0   \n",
       "\n",
       "   ponds_nearest  days_exposition  \n",
       "0          755.0              NaN  \n",
       "1            NaN             81.0  \n",
       "2          574.0            558.0  \n",
       "3          234.0            424.0  \n",
       "4           48.0            121.0  \n",
       "5            NaN             55.0  \n",
       "6            NaN            155.0  \n",
       "7            NaN              NaN  \n",
       "8            NaN            189.0  \n",
       "9            NaN            289.0  \n",
       "\n",
       "[10 rows x 22 columns]"
      ]
     },
     "metadata": {},
     "output_type": "display_data"
    }
   ],
   "source": [
    "#считываем данные из файла, в параметрах функции read_csv указаны разделители \\t\n",
    "data = pd.read_csv('https://code.s3.yandex.net/datasets/real_estate_data.csv', sep='\\t')\n",
    "display(data.head(10))  "
   ]
  },
  {
   "cell_type": "markdown",
   "metadata": {},
   "source": [
    "1.2 Изучим общую информацию о датафрейме"
   ]
  },
  {
   "cell_type": "code",
   "execution_count": 5,
   "metadata": {},
   "outputs": [
    {
     "name": "stdout",
     "output_type": "stream",
     "text": [
      "<class 'pandas.core.frame.DataFrame'>\n",
      "RangeIndex: 23699 entries, 0 to 23698\n",
      "Data columns (total 22 columns):\n",
      " #   Column                Non-Null Count  Dtype  \n",
      "---  ------                --------------  -----  \n",
      " 0   total_images          23699 non-null  int64  \n",
      " 1   last_price            23699 non-null  float64\n",
      " 2   total_area            23699 non-null  float64\n",
      " 3   first_day_exposition  23699 non-null  object \n",
      " 4   rooms                 23699 non-null  int64  \n",
      " 5   ceiling_height        14504 non-null  float64\n",
      " 6   floors_total          23613 non-null  float64\n",
      " 7   living_area           21796 non-null  float64\n",
      " 8   floor                 23699 non-null  int64  \n",
      " 9   is_apartment          2775 non-null   object \n",
      " 10  studio                23699 non-null  bool   \n",
      " 11  open_plan             23699 non-null  bool   \n",
      " 12  kitchen_area          21421 non-null  float64\n",
      " 13  balcony               12180 non-null  float64\n",
      " 14  locality_name         23650 non-null  object \n",
      " 15  airports_nearest      18157 non-null  float64\n",
      " 16  cityCenters_nearest   18180 non-null  float64\n",
      " 17  parks_around3000      18181 non-null  float64\n",
      " 18  parks_nearest         8079 non-null   float64\n",
      " 19  ponds_around3000      18181 non-null  float64\n",
      " 20  ponds_nearest         9110 non-null   float64\n",
      " 21  days_exposition       20518 non-null  float64\n",
      "dtypes: bool(2), float64(14), int64(3), object(3)\n",
      "memory usage: 3.4+ MB\n"
     ]
    }
   ],
   "source": [
    "data.info()"
   ]
  },
  {
   "cell_type": "markdown",
   "metadata": {},
   "source": [
    "Сначала посмотрим, есть ли в наборе явные дубликаты."
   ]
  },
  {
   "cell_type": "code",
   "execution_count": 6,
   "metadata": {},
   "outputs": [
    {
     "data": {
      "text/plain": [
       "0"
      ]
     },
     "execution_count": 6,
     "metadata": {},
     "output_type": "execute_result"
    }
   ],
   "source": [
    "data.duplicated().sum()"
   ]
  },
  {
   "cell_type": "markdown",
   "metadata": {},
   "source": [
    "Явных дубликатов не оказалось. Неявные подобно изучим в следующем разделе."
   ]
  },
  {
   "cell_type": "markdown",
   "metadata": {
    "id": "-O5NtivEAwb9"
   },
   "source": [
    "### Предобработка данных"
   ]
  },
  {
   "cell_type": "markdown",
   "metadata": {},
   "source": [
    "2.1 Выведем количество пропусков в каждом столбце:"
   ]
  },
  {
   "cell_type": "code",
   "execution_count": 7,
   "metadata": {},
   "outputs": [
    {
     "data": {
      "text/plain": [
       "total_images                0\n",
       "last_price                  0\n",
       "total_area                  0\n",
       "first_day_exposition        0\n",
       "rooms                       0\n",
       "ceiling_height           9195\n",
       "floors_total               86\n",
       "living_area              1903\n",
       "floor                       0\n",
       "is_apartment            20924\n",
       "studio                      0\n",
       "open_plan                   0\n",
       "kitchen_area             2278\n",
       "balcony                 11519\n",
       "locality_name              49\n",
       "airports_nearest         5542\n",
       "cityCenters_nearest      5519\n",
       "parks_around3000         5518\n",
       "parks_nearest           15620\n",
       "ponds_around3000         5518\n",
       "ponds_nearest           14589\n",
       "days_exposition          3181\n",
       "dtype: int64"
      ]
     },
     "execution_count": 7,
     "metadata": {},
     "output_type": "execute_result"
    }
   ],
   "source": [
    "data.isna().sum()"
   ]
  },
  {
   "cell_type": "markdown",
   "metadata": {},
   "source": [
    "Выведем количество пропусков в каждом столбце в процентах от общего числа записей."
   ]
  },
  {
   "cell_type": "code",
   "execution_count": 8,
   "metadata": {},
   "outputs": [
    {
     "data": {
      "text/plain": [
       "total_images             0.000000\n",
       "last_price               0.000000\n",
       "total_area               0.000000\n",
       "first_day_exposition     0.000000\n",
       "rooms                    0.000000\n",
       "ceiling_height          38.799105\n",
       "floors_total             0.362885\n",
       "living_area              8.029875\n",
       "floor                    0.000000\n",
       "is_apartment            88.290645\n",
       "studio                   0.000000\n",
       "open_plan                0.000000\n",
       "kitchen_area             9.612220\n",
       "balcony                 48.605426\n",
       "locality_name            0.206760\n",
       "airports_nearest        23.384953\n",
       "cityCenters_nearest     23.287902\n",
       "parks_around3000        23.283683\n",
       "parks_nearest           65.909954\n",
       "ponds_around3000        23.283683\n",
       "ponds_nearest           61.559559\n",
       "days_exposition         13.422507\n",
       "dtype: float64"
      ]
     },
     "execution_count": 8,
     "metadata": {},
     "output_type": "execute_result"
    }
   ],
   "source": [
    "data.isna().mean()*100"
   ]
  },
  {
   "cell_type": "markdown",
   "metadata": {},
   "source": [
    "Пропуски встречаются в столбцах: высота потолков (м), всего этажей в доме, жилая площадь (м²), площадь кухни  (м²),число балконов, название населённого пункта, расстояние до ближайшего аэропорта (м), расстояние до центра города (м), число парков в радиусе 3 км,  расстояние до ближайшего парка (м), число водоёмов в радиусе 3 км, расстояние до ближайшего водоёма (м), сколько дней было размещено объявление, а так же является ли квартира апартаментами. \n",
    "\n",
    "Из этих столбцов мы не можем заполнить пропуски в названии населенного пункта и количестве этажей в доме (точного адреса нет).\n",
    "Число таких пропусков невелико: 0,2% и 0,4% от числа всех записей, поэтому мы можем удалить их без ущерба для исходных данных. "
   ]
  },
  {
   "cell_type": "code",
   "execution_count": 9,
   "metadata": {},
   "outputs": [],
   "source": [
    "#удаляем строки с пропусками в стобцах floors_total и locality_name\n",
    "data=data.dropna(subset=['floors_total','locality_name'])"
   ]
  },
  {
   "cell_type": "markdown",
   "metadata": {},
   "source": [
    "Пропусков в столбцах с жилой площадью и площадью кухни довольно много: 8% и 10% соответственно. Их лучше заполнить средним или медианой, в зависимости от наличия сильно отклоняющихся значений в данных. Посмотрим, какие в принципе принимают значения жилая площадь и площадь кухни."
   ]
  },
  {
   "cell_type": "code",
   "execution_count": 10,
   "metadata": {},
   "outputs": [
    {
     "data": {
      "image/png": "[encoded data removed]",
      "text/plain": [
       "<Figure size 720x432 with 1 Axes>"
      ]
     },
     "metadata": {
      "needs_background": "light"
     },
     "output_type": "display_data"
    }
   ],
   "source": [
    "#строим график значений жилой площади\n",
    "data['living_area'].plot(style='o',figsize=(10,6))\n",
    "\n",
    "plt.title('living_area') \n",
    "plt.ylabel('living_area') \n",
    "  \n",
    "plt.show() "
   ]
  },
  {
   "cell_type": "code",
   "execution_count": 11,
   "metadata": {},
   "outputs": [
    {
     "data": {
      "image/png": "[encoded data removed]",
      "text/plain": [
       "<Figure size 720x432 with 1 Axes>"
      ]
     },
     "metadata": {
      "needs_background": "light"
     },
     "output_type": "display_data"
    }
   ],
   "source": [
    "#строим график значений площади кухни\n",
    "data['kitchen_area'].plot(style='o',figsize=(10,6))\n",
    "\n",
    "plt.title('kitchen_area') \n",
    "plt.ylabel('kitchen_area') \n",
    "  \n",
    "plt.show() "
   ]
  },
  {
   "cell_type": "markdown",
   "metadata": {},
   "source": [
    "Из графиков видно, что в обоих случаях есть сильно отклоняющиеся значения, которые могут влиять на среднее, поэтому лучше заменить пропуски в этих столбцах медианой, взятой по группе с тем же количеством комнат.\n",
    "\n",
    "Выведем медианное значение жилой площади и площади кухни для квартир с разным числом комнат."
   ]
  },
  {
   "cell_type": "code",
   "execution_count": 12,
   "metadata": {},
   "outputs": [
    {
     "data": {
      "text/html": [
       "<div>\n",
       "<style scoped>\n",
       "    .dataframe tbody tr th:only-of-type {\n",
       "        vertical-align: middle;\n",
       "    }\n",
       "\n",
       "    .dataframe tbody tr th {\n",
       "        vertical-align: top;\n",
       "    }\n",
       "\n",
       "    .dataframe thead tr th {\n",
       "        text-align: left;\n",
       "    }\n",
       "\n",
       "    .dataframe thead tr:last-of-type th {\n",
       "        text-align: right;\n",
       "    }\n",
       "</style>\n",
       "<table border=\"1\" class=\"dataframe\">\n",
       "  <thead>\n",
       "    <tr>\n",
       "      <th></th>\n",
       "      <th>count</th>\n",
       "      <th>median</th>\n",
       "    </tr>\n",
       "    <tr>\n",
       "      <th></th>\n",
       "      <th>living_area</th>\n",
       "      <th>living_area</th>\n",
       "    </tr>\n",
       "    <tr>\n",
       "      <th>rooms</th>\n",
       "      <th></th>\n",
       "      <th></th>\n",
       "    </tr>\n",
       "  </thead>\n",
       "  <tbody>\n",
       "    <tr>\n",
       "      <th>0</th>\n",
       "      <td>183</td>\n",
       "      <td>18.000</td>\n",
       "    </tr>\n",
       "    <tr>\n",
       "      <th>1</th>\n",
       "      <td>7358</td>\n",
       "      <td>17.600</td>\n",
       "    </tr>\n",
       "    <tr>\n",
       "      <th>2</th>\n",
       "      <td>7265</td>\n",
       "      <td>30.500</td>\n",
       "    </tr>\n",
       "    <tr>\n",
       "      <th>3</th>\n",
       "      <td>5339</td>\n",
       "      <td>45.000</td>\n",
       "    </tr>\n",
       "    <tr>\n",
       "      <th>4</th>\n",
       "      <td>1082</td>\n",
       "      <td>63.650</td>\n",
       "    </tr>\n",
       "    <tr>\n",
       "      <th>5</th>\n",
       "      <td>292</td>\n",
       "      <td>91.785</td>\n",
       "    </tr>\n",
       "    <tr>\n",
       "      <th>6</th>\n",
       "      <td>98</td>\n",
       "      <td>124.400</td>\n",
       "    </tr>\n",
       "    <tr>\n",
       "      <th>7</th>\n",
       "      <td>53</td>\n",
       "      <td>145.000</td>\n",
       "    </tr>\n",
       "    <tr>\n",
       "      <th>8</th>\n",
       "      <td>12</td>\n",
       "      <td>161.000</td>\n",
       "    </tr>\n",
       "    <tr>\n",
       "      <th>9</th>\n",
       "      <td>7</td>\n",
       "      <td>179.200</td>\n",
       "    </tr>\n",
       "    <tr>\n",
       "      <th>10</th>\n",
       "      <td>3</td>\n",
       "      <td>161.400</td>\n",
       "    </tr>\n",
       "    <tr>\n",
       "      <th>11</th>\n",
       "      <td>2</td>\n",
       "      <td>133.900</td>\n",
       "    </tr>\n",
       "    <tr>\n",
       "      <th>12</th>\n",
       "      <td>1</td>\n",
       "      <td>409.700</td>\n",
       "    </tr>\n",
       "    <tr>\n",
       "      <th>14</th>\n",
       "      <td>2</td>\n",
       "      <td>195.150</td>\n",
       "    </tr>\n",
       "    <tr>\n",
       "      <th>15</th>\n",
       "      <td>1</td>\n",
       "      <td>409.000</td>\n",
       "    </tr>\n",
       "    <tr>\n",
       "      <th>16</th>\n",
       "      <td>1</td>\n",
       "      <td>180.000</td>\n",
       "    </tr>\n",
       "    <tr>\n",
       "      <th>19</th>\n",
       "      <td>1</td>\n",
       "      <td>264.500</td>\n",
       "    </tr>\n",
       "  </tbody>\n",
       "</table>\n",
       "</div>"
      ],
      "text/plain": [
       "            count      median\n",
       "      living_area living_area\n",
       "rooms                        \n",
       "0             183      18.000\n",
       "1            7358      17.600\n",
       "2            7265      30.500\n",
       "3            5339      45.000\n",
       "4            1082      63.650\n",
       "5             292      91.785\n",
       "6              98     124.400\n",
       "7              53     145.000\n",
       "8              12     161.000\n",
       "9               7     179.200\n",
       "10              3     161.400\n",
       "11              2     133.900\n",
       "12              1     409.700\n",
       "14              2     195.150\n",
       "15              1     409.000\n",
       "16              1     180.000\n",
       "19              1     264.500"
      ]
     },
     "metadata": {},
     "output_type": "display_data"
    }
   ],
   "source": [
    "#считаем медианное значение жилой площади для разного числа комнат\n",
    "data_tmp=data.pivot_table(index=['rooms'],values='living_area',aggfunc=['count','median'])\n",
    "display(data_tmp)"
   ]
  },
  {
   "cell_type": "markdown",
   "metadata": {},
   "source": [
    "Квартиры с 0 комнат - это по всей видимости студии, которые мы можем причислить к однокомнатным квартирам. Для квартир с большим числом комнат (от 10)  данные по жилой площади выглядят сомнительно: площадь не возрастает с числом комнат, но поскольку таких квартир всего 11  (либо это ошибка в заполнении), можно удалить строки с числом комнат больше 10, а в остальных заменить пропуски жилой площади на медианные в зависимости от числа комнат."
   ]
  },
  {
   "cell_type": "code",
   "execution_count": 13,
   "metadata": {},
   "outputs": [],
   "source": [
    "#удаляем строки с числом комнат больше или равно 10\n",
    "data=data[data['rooms']<10]"
   ]
  },
  {
   "cell_type": "code",
   "execution_count": 14,
   "metadata": {},
   "outputs": [],
   "source": [
    "#заменяем пропуски жилой площади на медианные в зависимости от числа комнат\n",
    "for t in data['rooms'].unique():\n",
    "    data.loc[(data['rooms']==t)&(data['living_area'].isna()),'living_area']=\\\n",
    "    data.loc[(data['rooms']==t),'living_area'].median()"
   ]
  },
  {
   "cell_type": "markdown",
   "metadata": {},
   "source": [
    "Для площади кухни выведем медианные значения в зависимости от числа комнат."
   ]
  },
  {
   "cell_type": "code",
   "execution_count": 15,
   "metadata": {},
   "outputs": [
    {
     "name": "stdout",
     "output_type": "stream",
     "text": [
      "             count       median\n",
      "      kitchen_area kitchen_area\n",
      "rooms                          \n",
      "0                0          NaN\n",
      "1             7195         9.00\n",
      "2             7257         8.70\n",
      "3             5356         9.50\n",
      "4             1075        11.00\n",
      "5              285        15.10\n",
      "6               96        19.75\n",
      "7               52        20.00\n",
      "8                9        25.00\n",
      "9                7        14.30\n"
     ]
    }
   ],
   "source": [
    "#считаем медианное значение площади кухни\n",
    "data_tmp=data.pivot_table(index=['rooms'],values='kitchen_area',aggfunc=['count','median'])\n",
    "print(data_tmp)"
   ]
  },
  {
   "cell_type": "markdown",
   "metadata": {},
   "source": [
    "Для квартир с 0 комнат площадь кухни не указана, по всей видимости, если это действительно студии, площадь кухни оценить невозможно, у нее нет границ. Эти пропуски оставляем. Для 9-комнатных квартир площадь кухни подозрительно маленькая, скорее всего ошибка заполнения, 7 строк можно удалить без ущерба для исходных данных. Для остальных квартир заменим пропуски медианой."
   ]
  },
  {
   "cell_type": "code",
   "execution_count": 16,
   "metadata": {},
   "outputs": [],
   "source": [
    "#удаляем строки с числом комнат равно 9\n",
    "data=data[data['rooms']<9]"
   ]
  },
  {
   "cell_type": "code",
   "execution_count": 17,
   "metadata": {},
   "outputs": [],
   "source": [
    "#заменяем пропуски площади кухни на медианные в зависимости от числа комнат\n",
    "for t in data['rooms'].unique():\n",
    "    data.loc[(data['rooms']==t)&(t>0)&(data['kitchen_area'].isna()),'kitchen_area']=\\\n",
    "    data.loc[(data['rooms']==t)&(t>0),'kitchen_area'].median()"
   ]
  },
  {
   "cell_type": "markdown",
   "metadata": {},
   "source": [
    "Посмотрим теперь, нет ли данных, в которых общая площадь оказалась меньше суммы жилой площади и кухни."
   ]
  },
  {
   "cell_type": "code",
   "execution_count": 18,
   "metadata": {},
   "outputs": [
    {
     "data": {
      "text/plain": [
       "282"
      ]
     },
     "metadata": {},
     "output_type": "display_data"
    }
   ],
   "source": [
    "#находим число строк, в которых total_area меньше суммы kitchen_area и living_area\n",
    "display(data['total_area'][data['living_area']+data['kitchen_area']>data['total_area']].count())"
   ]
  },
  {
   "cell_type": "markdown",
   "metadata": {},
   "source": [
    "282 - это порядка 1,2% от всех записей. Поскольку эти данные явно ошибочные, а их число невелико, лучше их удалить."
   ]
  },
  {
   "cell_type": "code",
   "execution_count": 19,
   "metadata": {},
   "outputs": [],
   "source": [
    "#удаляем строки, в которых living_area + kitchen_area > total_area\n",
    "data=data[data['living_area']+data['kitchen_area']<=data['total_area']]"
   ]
  },
  {
   "cell_type": "code",
   "execution_count": 20,
   "metadata": {},
   "outputs": [
    {
     "data": {
      "text/plain": [
       "0"
      ]
     },
     "metadata": {},
     "output_type": "display_data"
    }
   ],
   "source": [
    "#проверяем еще раз, чтобы везде общая площадь была больше суммы жилой и кухни\n",
    "display(data['total_area'][data['living_area']+data['kitchen_area']>data['total_area']].count())"
   ]
  },
  {
   "cell_type": "markdown",
   "metadata": {},
   "source": [
    "В столбце с высотой потолков пропусков около 40%, поэтому удалять строки с такими пропусками нельзя.\n",
    "\n",
    "Посмотрим, какие значения принимает высота потолков (исключая явно ошибочные значения меньше 2 м и больше 5 м)."
   ]
  },
  {
   "cell_type": "code",
   "execution_count": 21,
   "metadata": {},
   "outputs": [
    {
     "data": {
      "image/png": "[encoded data removed]",
      "text/plain": [
       "<Figure size 720x432 with 1 Axes>"
      ]
     },
     "metadata": {
      "needs_background": "light"
     },
     "output_type": "display_data"
    }
   ],
   "source": [
    "#строим гистограмму значений ceiling_height\n",
    "data['ceiling_height'].hist(bins=30,range=(2,5),figsize=(10,6),legend=True)\n",
    "\n",
    "plt.xlabel('ceiling_height') \n",
    "plt.ylabel('number of cases') \n",
    "  \n",
    "plt.show() "
   ]
  },
  {
   "cell_type": "markdown",
   "metadata": {},
   "source": [
    "Из гистограммы видно, что в основном полоки имеют высоту от 2,5 до 3 м.\n",
    "Среднее значение высоты потолков 2.77 м. Предлагается пропуски в этом столбце заменить этим значением."
   ]
  },
  {
   "cell_type": "code",
   "execution_count": 22,
   "metadata": {},
   "outputs": [
    {
     "data": {
      "text/plain": [
       "2.765933904013418"
      ]
     },
     "metadata": {},
     "output_type": "display_data"
    }
   ],
   "source": [
    "#считаем среднюю высоту потолков\n",
    "display(data['ceiling_height'].mean())"
   ]
  },
  {
   "cell_type": "markdown",
   "metadata": {},
   "source": [
    "Заменяем пропуски в столбце с высотой потолков на среднее значение."
   ]
  },
  {
   "cell_type": "code",
   "execution_count": 23,
   "metadata": {},
   "outputs": [],
   "source": [
    "data['ceiling_height']=data['ceiling_height'].fillna(data['ceiling_height'].mean())"
   ]
  },
  {
   "cell_type": "markdown",
   "metadata": {},
   "source": [
    "Пропуски в столбце с числом балконов предлагаем заменить нулем, считая что если не указано число балконов, значит их нет."
   ]
  },
  {
   "cell_type": "code",
   "execution_count": 24,
   "metadata": {},
   "outputs": [],
   "source": [
    "#заменяем пропуски в столбце с числом балконов нулем\n",
    "data['balcony']=data['balcony'].fillna(0)"
   ]
  },
  {
   "cell_type": "markdown",
   "metadata": {},
   "source": [
    "Пропуски в столбце \"апартаменты\" оставляем нетронутыми, этот столбец в анализе не участвует.\n",
    "Число дней от публикации до снятия объявления также нечем заменить, эти пропуски тоже не трогаем."
   ]
  },
  {
   "cell_type": "markdown",
   "metadata": {},
   "source": [
    "Очень много пропусков в столбцах, связанных с расстоянием до центра, аэропорта, парков и прудов. В частности расстояние до центра и аэропорта не указано в 23% строк, до ближайшего парка в 66% строк, до ближайшего пруда в 61% строк. Эти значения без точного адреса квартиры указать невозможно.  "
   ]
  },
  {
   "cell_type": "markdown",
   "metadata": {},
   "source": [
    "Можно попробовать для пригородов Санкт-Петербурга заменить расстояние до аэропорта на среднее по расстоянию в одном городе/ поселке."
   ]
  },
  {
   "cell_type": "code",
   "execution_count": 25,
   "metadata": {},
   "outputs": [],
   "source": [
    "#заменяем пропуски расстояния до аэропорта средним значением по расстоянию от заданного пригорода до аэропорта\n",
    "for t in data['locality_name'].unique():\n",
    "    if (t!='Санкт-Петербург'):\n",
    "        data.loc[(data['locality_name']==t)&(data['airports_nearest'].isna()),'airports_nearest']=\\\n",
    "        data.loc[(data['locality_name']==t),'airports_nearest'].mean()\n",
    "    "
   ]
  },
  {
   "cell_type": "code",
   "execution_count": 26,
   "metadata": {},
   "outputs": [],
   "source": [
    "for t in data['locality_name'].unique():\n",
    "    if (t!='Санкт-Петербург'):\n",
    "        data.loc[(data['locality_name']==t)&(data['cityCenters_nearest'].isna()),'cityCenters_nearest']=\\\n",
    "        data.loc[(data['locality_name']==t),'cityCenters_nearest'].mean()\n",
    "    "
   ]
  },
  {
   "cell_type": "markdown",
   "metadata": {},
   "source": [
    "Проверим теперь число пропусков."
   ]
  },
  {
   "cell_type": "code",
   "execution_count": 27,
   "metadata": {},
   "outputs": [
    {
     "data": {
      "text/plain": [
       "total_images                0\n",
       "last_price                  0\n",
       "total_area                  0\n",
       "first_day_exposition        0\n",
       "rooms                       0\n",
       "ceiling_height              0\n",
       "floors_total                0\n",
       "living_area                 0\n",
       "floor                       0\n",
       "is_apartment            20366\n",
       "studio                      0\n",
       "open_plan                   0\n",
       "kitchen_area                0\n",
       "balcony                     0\n",
       "locality_name               0\n",
       "airports_nearest         5323\n",
       "cityCenters_nearest      5299\n",
       "parks_around3000         5305\n",
       "parks_nearest           15141\n",
       "ponds_around3000         5305\n",
       "ponds_nearest           14202\n",
       "days_exposition          3130\n",
       "dtype: int64"
      ]
     },
     "execution_count": 27,
     "metadata": {},
     "output_type": "execute_result"
    }
   ],
   "source": [
    "data.isna().sum()"
   ]
  },
  {
   "cell_type": "markdown",
   "metadata": {},
   "source": [
    "Пропусков в столбце с расстоянием до аэропорта стало 5516, а было 5542, с расстоянием до центра было 5519, стало 5492 пропуска, значит наша замена не сильно улучшила ситуацию.\n",
    "С парками и прудами ситуация еще хуже, потому что в городах/ поселках могут быть свои пруды и парки, поэтому в этих столбцах нельзя заменять значения ни средними, ни медианными.\n",
    "\n",
    "Предлагается оставить пропуски в этих столбцах как есть."
   ]
  },
  {
   "cell_type": "markdown",
   "metadata": {},
   "source": [
    "Таким образом, в результате работы с пропусками удалены строки:\n",
    "\n",
    "* с пропусками в названии населенного пункта и количестве этажей \n",
    "* с числом комнат больше 9 \n",
    "* в которых общая площадь оказалась меньше суммы жилой площади и кухни\n",
    "\n",
    "Пропуски в столбцах с жилой площадью и площадью кухни  заменены  на медианные в зависимости от числа комнат. \n",
    "\n",
    "Пропуски в  столбце с высотой потолков заменены средним значением, в столбце с числом балконов -  нулем.\n",
    "\n",
    "Пропуски в столбце «апартаменты» , а также «число дней от публикации до снятия объявления» оставлены нетронутыми. \n",
    "\n",
    "Для пригородов Санкт-Петербурга  расстояние до аэропорта и до центра заменено на среднее по расстоянию в одном городе/ поселке.\n",
    "\n",
    "Пропуски в столбцах с расстоянием до центра (в Санкт-Петербурге), парка и пруда не изменены.\n"
   ]
  },
  {
   "cell_type": "markdown",
   "metadata": {},
   "source": [
    "2.2 Теперь рассмотрим типы данных в каждом столбце.\n",
    "Выведем еще раз общую информацию о датафрейме."
   ]
  },
  {
   "cell_type": "code",
   "execution_count": 28,
   "metadata": {},
   "outputs": [
    {
     "name": "stdout",
     "output_type": "stream",
     "text": [
      "<class 'pandas.core.frame.DataFrame'>\n",
      "Int64Index: 23070 entries, 0 to 23698\n",
      "Data columns (total 22 columns):\n",
      " #   Column                Non-Null Count  Dtype  \n",
      "---  ------                --------------  -----  \n",
      " 0   total_images          23070 non-null  int64  \n",
      " 1   last_price            23070 non-null  float64\n",
      " 2   total_area            23070 non-null  float64\n",
      " 3   first_day_exposition  23070 non-null  object \n",
      " 4   rooms                 23070 non-null  int64  \n",
      " 5   ceiling_height        23070 non-null  float64\n",
      " 6   floors_total          23070 non-null  float64\n",
      " 7   living_area           23070 non-null  float64\n",
      " 8   floor                 23070 non-null  int64  \n",
      " 9   is_apartment          2704 non-null   object \n",
      " 10  studio                23070 non-null  bool   \n",
      " 11  open_plan             23070 non-null  bool   \n",
      " 12  kitchen_area          23070 non-null  float64\n",
      " 13  balcony               23070 non-null  float64\n",
      " 14  locality_name         23070 non-null  object \n",
      " 15  airports_nearest      17747 non-null  float64\n",
      " 16  cityCenters_nearest   17771 non-null  float64\n",
      " 17  parks_around3000      17765 non-null  float64\n",
      " 18  parks_nearest         7929 non-null   float64\n",
      " 19  ponds_around3000      17765 non-null  float64\n",
      " 20  ponds_nearest         8868 non-null   float64\n",
      " 21  days_exposition       19940 non-null  float64\n",
      "dtypes: bool(2), float64(14), int64(3), object(3)\n",
      "memory usage: 3.5+ MB\n"
     ]
    }
   ],
   "source": [
    "data.info()"
   ]
  },
  {
   "cell_type": "markdown",
   "metadata": {},
   "source": [
    "Дату публикации лучше сохранить в формате даты и времени, поскольку нам нужно будет вынуть из этих значений день/ месяц/ год публикации."
   ]
  },
  {
   "cell_type": "code",
   "execution_count": 29,
   "metadata": {},
   "outputs": [],
   "source": [
    "#переводим дату публикации из строки в дату и время\n",
    "data['first_day_exposition']=pd.to_datetime(data['first_day_exposition'],format='%Y-%m-%dT%H:%M:%S')"
   ]
  },
  {
   "cell_type": "markdown",
   "metadata": {},
   "source": [
    "Заменим вещественный тип данных в \"числе этажей\" на целочисленный, поскольку мы будем сравнивать этот параметр с номером этажа."
   ]
  },
  {
   "cell_type": "code",
   "execution_count": 30,
   "metadata": {},
   "outputs": [],
   "source": [
    "data['floors_total']=data['floors_total'].astype(int)"
   ]
  },
  {
   "cell_type": "markdown",
   "metadata": {},
   "source": [
    "Итак, в двух столбцах изменен тип данных: дате публикации и числе этажей."
   ]
  },
  {
   "cell_type": "markdown",
   "metadata": {},
   "source": [
    "2.3 Проверим данные на наличие дубликатов."
   ]
  },
  {
   "cell_type": "markdown",
   "metadata": {},
   "source": [
    "Сначала посмотрим, есть ли в наборе явные дубликаты."
   ]
  },
  {
   "cell_type": "code",
   "execution_count": 31,
   "metadata": {},
   "outputs": [
    {
     "data": {
      "text/plain": [
       "0"
      ]
     },
     "execution_count": 31,
     "metadata": {},
     "output_type": "execute_result"
    }
   ],
   "source": [
    "#считаем число дубликатов\n",
    "data.duplicated().sum()"
   ]
  },
  {
   "cell_type": "markdown",
   "metadata": {},
   "source": [
    "Явных дубликатов не оказалось. \n",
    "Посмотрим, есть ли неявные в названии населенного пункта. \n",
    "Выведем все уникальные значения в столбце с названиями городов и их количество."
   ]
  },
  {
   "cell_type": "code",
   "execution_count": 32,
   "metadata": {},
   "outputs": [
    {
     "data": {
      "text/plain": [
       "array(['Санкт-Петербург', 'посёлок Шушары', 'городской посёлок Янино-1',\n",
       "       'посёлок Парголово', 'посёлок Мурино', 'Ломоносов', 'Сертолово',\n",
       "       'Петергоф', 'Пушкин', 'деревня Кудрово', 'Коммунар', 'Колпино',\n",
       "       'поселок городского типа Красный Бор', 'Гатчина', 'поселок Мурино',\n",
       "       'деревня Фёдоровское', 'Выборг', 'Кронштадт', 'Кировск',\n",
       "       'деревня Новое Девяткино', 'посёлок Металлострой',\n",
       "       'посёлок городского типа Лебяжье',\n",
       "       'посёлок городского типа Сиверский', 'поселок Молодцово',\n",
       "       'поселок городского типа Кузьмоловский',\n",
       "       'садовое товарищество Новая Ропша', 'Павловск',\n",
       "       'деревня Пикколово', 'Всеволожск', 'Волхов', 'Кингисепп',\n",
       "       'Приозерск', 'Сестрорецк', 'деревня Куттузи', 'посёлок Аннино',\n",
       "       'поселок городского типа Ефимовский', 'посёлок Плодовое',\n",
       "       'деревня Заклинье', 'поселок Торковичи', 'поселок Первомайское',\n",
       "       'Красное Село', 'посёлок Понтонный', 'Сясьстрой', 'деревня Старая',\n",
       "       'деревня Лесколово', 'Сланцы', 'село Путилово', 'Ивангород',\n",
       "       'Мурино', 'Шлиссельбург', 'Никольское', 'Зеленогорск',\n",
       "       'Сосновый Бор', 'поселок Новый Свет', 'деревня Оржицы',\n",
       "       'деревня Кальтино', 'Кудрово', 'поселок Романовка',\n",
       "       'посёлок Бугры', 'поселок Бугры', 'поселок городского типа Рощино',\n",
       "       'Кириши', 'Луга', 'Волосово', 'Отрадное', 'село Павлово',\n",
       "       'поселок Оредеж', 'село Копорье',\n",
       "       'посёлок городского типа Красный Бор', 'посёлок Молодёжное',\n",
       "       'посёлок Победа', 'деревня Нурма',\n",
       "       'поселок городского типа Синявино', 'Тосно', 'посёлок Новый Свет',\n",
       "       'посёлок городского типа Кузьмоловский', 'посёлок Стрельна',\n",
       "       'Бокситогорск', 'посёлок Александровская', 'деревня Лопухинка',\n",
       "       'Пикалёво', 'поселок Терволово',\n",
       "       'поселок городского типа Советский', 'Подпорожье',\n",
       "       'посёлок Петровское', 'посёлок городского типа Токсово',\n",
       "       'поселок Сельцо', 'посёлок городского типа Вырица',\n",
       "       'деревня Кипень', 'деревня Келози', 'деревня Вартемяги',\n",
       "       'посёлок Тельмана', 'поселок Севастьяново',\n",
       "       'городской поселок Большая Ижора', 'Тихвин',\n",
       "       'городской посёлок Павлово', 'деревня Агалатово',\n",
       "       'посёлок Новогорелово', 'городской посёлок Лесогорский',\n",
       "       'деревня Лаголово', 'поселок Цвелодубово',\n",
       "       'поселок городского типа Рахья', 'поселок городского типа Вырица',\n",
       "       'деревня Белогорка', 'поселок Заводской',\n",
       "       'городской посёлок Новоселье', 'деревня Большие Колпаны',\n",
       "       'деревня Горбунки', 'деревня Батово', 'деревня Заневка',\n",
       "       'деревня Иссад', 'Приморск', 'городской посёлок Фёдоровское',\n",
       "       'деревня Мистолово', 'Новая Ладога', 'поселок Зимитицы',\n",
       "       'поселок Барышево', 'деревня Разметелево',\n",
       "       'поселок городского типа имени Свердлова', 'деревня Пеники',\n",
       "       'поселок Рябово', 'деревня Пудомяги', 'деревня Бегуницы',\n",
       "       'посёлок Поляны', 'городской посёлок Мга', 'поселок Елизаветино',\n",
       "       'посёлок городского типа Кузнечное', 'деревня Колтуши',\n",
       "       'поселок Запорожское', 'посёлок городского типа Рощино',\n",
       "       'деревня Низино', 'деревня Гостилицы', 'деревня Малое Карлино',\n",
       "       'посёлок Мичуринское', 'посёлок городского типа имени Морозова',\n",
       "       'посёлок Песочный', 'посёлок Сосново', 'деревня Аро',\n",
       "       'поселок Ильичёво', 'посёлок городского типа Тайцы',\n",
       "       'деревня Малое Верево', 'деревня Извара', 'поселок станции Вещево',\n",
       "       'село Паша', 'деревня Калитино',\n",
       "       'посёлок городского типа Ульяновка', 'деревня Чудской Бор',\n",
       "       'поселок городского типа Дубровка', 'деревня Мины',\n",
       "       'поселок Войсковицы', 'посёлок городского типа имени Свердлова',\n",
       "       'деревня Коркино', 'посёлок Ропша',\n",
       "       'поселок городского типа Приладожский', 'посёлок Щеглово',\n",
       "       'посёлок Гаврилово', 'Лодейное Поле', 'деревня Рабитицы',\n",
       "       'поселок городского типа Никольский', 'деревня Кузьмолово',\n",
       "       'деревня Малые Колпаны', 'поселок Тельмана',\n",
       "       'городской посёлок Назия', 'посёлок Репино', 'посёлок Ильичёво',\n",
       "       'поселок Углово', 'поселок Старая Малукса',\n",
       "       'садовое товарищество Рахья', 'поселок Аннино', 'поселок Победа',\n",
       "       'деревня Меньково', 'деревня Старые Бегуницы', 'посёлок Сапёрный',\n",
       "       'поселок Семрино', 'поселок Гаврилово', 'поселок Глажево',\n",
       "       'поселок Кобринское', 'деревня Гарболово', 'деревня Юкки',\n",
       "       'поселок станции Приветнинское', 'деревня Мануйлово',\n",
       "       'деревня Пчева', 'поселок Поляны', 'поселок Цвылёво',\n",
       "       'поселок Мельниково', 'посёлок Пудость', 'посёлок Усть-Луга',\n",
       "       'Светогорск', 'поселок Селезнёво',\n",
       "       'поселок городского типа Рябово', 'Каменногорск', 'деревня Кривко',\n",
       "       'поселок Глебычево', 'деревня Парицы', 'поселок Жилпосёлок',\n",
       "       'посёлок городского типа Мга', 'городской поселок Янино-1',\n",
       "       'посёлок Войскорово', 'село Никольское', 'посёлок Терволово',\n",
       "       'поселок Стеклянный', 'посёлок городского типа Важины',\n",
       "       'посёлок Мыза-Ивановка', 'село Русско-Высоцкое',\n",
       "       'поселок городского типа Лебяжье',\n",
       "       'поселок городского типа Форносово', 'село Старая Ладога',\n",
       "       'поселок Житково', 'городской посёлок Виллози', 'деревня Лампово',\n",
       "       'деревня Шпаньково', 'деревня Лаврики', 'посёлок Сумино',\n",
       "       'посёлок Возрождение', 'деревня Старосиверская',\n",
       "       'посёлок Кикерино', 'поселок Возрождение',\n",
       "       'деревня Старое Хинколово', 'посёлок Пригородный',\n",
       "       'посёлок Торфяное', 'Любань', 'городской посёлок Будогощь',\n",
       "       'поселок Суходолье', 'поселок Красная Долина', 'деревня Хапо-Ое',\n",
       "       'поселок городского типа Дружная Горка', 'поселок Лисий Нос',\n",
       "       'деревня Яльгелево', 'посёлок Стеклянный', 'село Рождествено',\n",
       "       'деревня Старополье', 'посёлок Левашово', 'деревня Сяськелево',\n",
       "       'деревня Камышовка',\n",
       "       'садоводческое некоммерческое товарищество Лесная Поляна',\n",
       "       'деревня Хязельки', 'поселок Жилгородок',\n",
       "       'посёлок городского типа Павлово', 'деревня Ялгино',\n",
       "       'поселок Новый Учхоз', 'городской посёлок Рощино',\n",
       "       'поселок Гончарово', 'поселок Почап', 'посёлок Сапёрное',\n",
       "       'посёлок Платформа 69-й километр', 'поселок Каложицы',\n",
       "       'деревня Фалилеево', 'деревня Пельгора',\n",
       "       'поселок городского типа Лесогорский', 'деревня Торошковичи',\n",
       "       'посёлок Белоостров', 'посёлок Алексеевка', 'поселок Серебрянский',\n",
       "       'поселок Лукаши', 'поселок Петровское', 'деревня Щеглово',\n",
       "       'поселок Мичуринское', 'деревня Тарасово', 'поселок Кингисеппский',\n",
       "       'посёлок при железнодорожной станции Вещево', 'поселок Ушаки',\n",
       "       'деревня Котлы', 'деревня Сижно', 'деревня Торосово',\n",
       "       'посёлок Форт Красная Горка', 'деревня Новолисино',\n",
       "       'посёлок станции Громово', 'деревня Глинка', 'посёлок Мельниково',\n",
       "       'поселок городского типа Назия', 'деревня Старая Пустошь',\n",
       "       'поселок Коммунары', 'поселок Починок',\n",
       "       'посёлок городского типа Вознесенье', 'деревня Разбегаево',\n",
       "       'посёлок городского типа Рябово', 'поселок Гладкое',\n",
       "       'посёлок при железнодорожной станции Приветнинское',\n",
       "       'поселок Тёсово-4', 'посёлок Жилгородок', 'деревня Бор',\n",
       "       'посёлок Коробицыно', 'деревня Большая Вруда', 'деревня Курковицы',\n",
       "       'посёлок Лисий Нос', 'городской посёлок Советский',\n",
       "       'посёлок Кобралово', 'деревня Суоранда', 'поселок Кобралово',\n",
       "       'поселок городского типа Кондратьево',\n",
       "       'коттеджный поселок Счастье', 'поселок Любань', 'деревня Реброво',\n",
       "       'деревня Зимитицы', 'деревня Тойворово', 'поселок Семиозерье',\n",
       "       'поселок Лесное', 'поселок Совхозный', 'поселок Усть-Луга',\n",
       "       'посёлок Ленинское', 'посёлок Суйда',\n",
       "       'посёлок городского типа Форносово', 'деревня Нижние Осельки',\n",
       "       'посёлок станции Свирь', 'поселок Перово', 'Высоцк',\n",
       "       'поселок Гарболово', 'село Шум', 'поселок Котельский',\n",
       "       'поселок станции Лужайка', 'деревня Большая Пустомержа',\n",
       "       'поселок Красносельское', 'деревня Пижма',\n",
       "       'коттеджный поселок Кивеннапа Север', 'поселок Коробицыно',\n",
       "       'поселок Ромашки', 'посёлок Перово', 'деревня Каськово',\n",
       "       'деревня Куровицы', 'посёлок Плоское', 'поселок Сумино',\n",
       "       'поселок городского типа Большая Ижора', 'поселок Кирпичное',\n",
       "       'деревня Ям-Тесово', 'деревня Раздолье', 'деревня Терпилицы',\n",
       "       'поселок городского типа Токсово', 'посёлок Шугозеро',\n",
       "       'деревня Ваганово', 'поселок Пушное', 'садовое товарищество Садко',\n",
       "       'посёлок Усть-Ижора', 'деревня Выскатка',\n",
       "       'городской посёлок Свирьстрой', 'поселок Громово',\n",
       "       'деревня Кисельня', 'посёлок Старая Малукса',\n",
       "       'деревня Трубников Бор', 'поселок Калитино',\n",
       "       'посёлок Высокоключевой', 'садовое товарищество Приладожский',\n",
       "       'посёлок Пансионат Зелёный Бор', 'деревня Ненимяки',\n",
       "       'поселок Пансионат Зелёный Бор', 'деревня Снегирёвка',\n",
       "       'деревня Рапполово', 'деревня Пустынка', 'поселок Рабитицы',\n",
       "       'деревня Большой Сабск', 'деревня Русско', 'деревня Лупполово',\n",
       "       'деревня Большое Рейзино', 'деревня Малая Романовка',\n",
       "       'поселок Дружноселье', 'поселок Пчевжа', 'поселок Володарское',\n",
       "       'деревня Нижняя', 'коттеджный посёлок Лесное', 'деревня Тихковицы',\n",
       "       'деревня Борисова Грива', 'посёлок Дзержинского'], dtype=object)"
      ]
     },
     "execution_count": 32,
     "metadata": {},
     "output_type": "execute_result"
    }
   ],
   "source": [
    "data['locality_name'].unique()"
   ]
  },
  {
   "cell_type": "code",
   "execution_count": 33,
   "metadata": {},
   "outputs": [
    {
     "data": {
      "text/plain": [
       "361"
      ]
     },
     "execution_count": 33,
     "metadata": {},
     "output_type": "execute_result"
    }
   ],
   "source": [
    "#число уникальных значений в столбце с названиями городов\n",
    "data['locality_name'].nunique()"
   ]
  },
  {
   "cell_type": "markdown",
   "metadata": {},
   "source": [
    "Во-первых, заменим во всех названиях букву Ё на е."
   ]
  },
  {
   "cell_type": "code",
   "execution_count": 34,
   "metadata": {},
   "outputs": [],
   "source": [
    "data['locality_name'] = data['locality_name'].replace('ё','е', regex=True)"
   ]
  },
  {
   "cell_type": "code",
   "execution_count": 35,
   "metadata": {},
   "outputs": [
    {
     "name": "stdout",
     "output_type": "stream",
     "text": [
      "['Санкт-Петербург' 'поселок Шушары' 'городской поселок Янино-1'\n",
      " 'поселок Парголово' 'поселок Мурино' 'Ломоносов' 'Сертолово' 'Петергоф'\n",
      " 'Пушкин' 'деревня Кудрово' 'Коммунар' 'Колпино'\n",
      " 'поселок городского типа Красный Бор' 'Гатчина' 'деревня Федоровское'\n",
      " 'Выборг' 'Кронштадт' 'Кировск' 'деревня Новое Девяткино'\n",
      " 'поселок Металлострой' 'поселок городского типа Лебяжье'\n",
      " 'поселок городского типа Сиверский' 'поселок Молодцово'\n",
      " 'поселок городского типа Кузьмоловский'\n",
      " 'садовое товарищество Новая Ропша' 'Павловск' 'деревня Пикколово'\n",
      " 'Всеволожск' 'Волхов' 'Кингисепп' 'Приозерск' 'Сестрорецк'\n",
      " 'деревня Куттузи' 'поселок Аннино' 'поселок городского типа Ефимовский'\n",
      " 'поселок Плодовое' 'деревня Заклинье' 'поселок Торковичи'\n",
      " 'поселок Первомайское' 'Красное Село' 'поселок Понтонный' 'Сясьстрой'\n",
      " 'деревня Старая' 'деревня Лесколово' 'Сланцы' 'село Путилово' 'Ивангород'\n",
      " 'Мурино' 'Шлиссельбург' 'Никольское' 'Зеленогорск' 'Сосновый Бор'\n",
      " 'поселок Новый Свет' 'деревня Оржицы' 'деревня Кальтино' 'Кудрово'\n",
      " 'поселок Романовка' 'поселок Бугры' 'поселок городского типа Рощино'\n",
      " 'Кириши' 'Луга' 'Волосово' 'Отрадное' 'село Павлово' 'поселок Оредеж'\n",
      " 'село Копорье' 'поселок Молодежное' 'поселок Победа' 'деревня Нурма'\n",
      " 'поселок городского типа Синявино' 'Тосно' 'поселок Стрельна'\n",
      " 'Бокситогорск' 'поселок Александровская' 'деревня Лопухинка' 'Пикалево'\n",
      " 'поселок Терволово' 'поселок городского типа Советский' 'Подпорожье'\n",
      " 'поселок Петровское' 'поселок городского типа Токсово' 'поселок Сельцо'\n",
      " 'поселок городского типа Вырица' 'деревня Кипень' 'деревня Келози'\n",
      " 'деревня Вартемяги' 'поселок Тельмана' 'поселок Севастьяново'\n",
      " 'городской поселок Большая Ижора' 'Тихвин' 'городской поселок Павлово'\n",
      " 'деревня Агалатово' 'поселок Новогорелово'\n",
      " 'городской поселок Лесогорский' 'деревня Лаголово' 'поселок Цвелодубово'\n",
      " 'поселок городского типа Рахья' 'деревня Белогорка' 'поселок Заводской'\n",
      " 'городской поселок Новоселье' 'деревня Большие Колпаны'\n",
      " 'деревня Горбунки' 'деревня Батово' 'деревня Заневка' 'деревня Иссад'\n",
      " 'Приморск' 'городской поселок Федоровское' 'деревня Мистолово'\n",
      " 'Новая Ладога' 'поселок Зимитицы' 'поселок Барышево'\n",
      " 'деревня Разметелево' 'поселок городского типа имени Свердлова'\n",
      " 'деревня Пеники' 'поселок Рябово' 'деревня Пудомяги' 'деревня Бегуницы'\n",
      " 'поселок Поляны' 'городской поселок Мга' 'поселок Елизаветино'\n",
      " 'поселок городского типа Кузнечное' 'деревня Колтуши'\n",
      " 'поселок Запорожское' 'деревня Низино' 'деревня Гостилицы'\n",
      " 'деревня Малое Карлино' 'поселок Мичуринское'\n",
      " 'поселок городского типа имени Морозова' 'поселок Песочный'\n",
      " 'поселок Сосново' 'деревня Аро' 'поселок Ильичево'\n",
      " 'поселок городского типа Тайцы' 'деревня Малое Верево' 'деревня Извара'\n",
      " 'поселок станции Вещево' 'село Паша' 'деревня Калитино'\n",
      " 'поселок городского типа Ульяновка' 'деревня Чудской Бор'\n",
      " 'поселок городского типа Дубровка' 'деревня Мины' 'поселок Войсковицы'\n",
      " 'деревня Коркино' 'поселок Ропша' 'поселок городского типа Приладожский'\n",
      " 'поселок Щеглово' 'поселок Гаврилово' 'Лодейное Поле' 'деревня Рабитицы'\n",
      " 'поселок городского типа Никольский' 'деревня Кузьмолово'\n",
      " 'деревня Малые Колпаны' 'городской поселок Назия' 'поселок Репино'\n",
      " 'поселок Углово' 'поселок Старая Малукса' 'садовое товарищество Рахья'\n",
      " 'деревня Меньково' 'деревня Старые Бегуницы' 'поселок Саперный'\n",
      " 'поселок Семрино' 'поселок Глажево' 'поселок Кобринское'\n",
      " 'деревня Гарболово' 'деревня Юкки' 'поселок станции Приветнинское'\n",
      " 'деревня Мануйлово' 'деревня Пчева' 'поселок Цвылево'\n",
      " 'поселок Мельниково' 'поселок Пудость' 'поселок Усть-Луга' 'Светогорск'\n",
      " 'поселок Селезнево' 'поселок городского типа Рябово' 'Каменногорск'\n",
      " 'деревня Кривко' 'поселок Глебычево' 'деревня Парицы'\n",
      " 'поселок Жилпоселок' 'поселок городского типа Мга' 'поселок Войскорово'\n",
      " 'село Никольское' 'поселок Стеклянный' 'поселок городского типа Важины'\n",
      " 'поселок Мыза-Ивановка' 'село Русско-Высоцкое'\n",
      " 'поселок городского типа Форносово' 'село Старая Ладога'\n",
      " 'поселок Житково' 'городской поселок Виллози' 'деревня Лампово'\n",
      " 'деревня Шпаньково' 'деревня Лаврики' 'поселок Сумино'\n",
      " 'поселок Возрождение' 'деревня Старосиверская' 'поселок Кикерино'\n",
      " 'деревня Старое Хинколово' 'поселок Пригородный' 'поселок Торфяное'\n",
      " 'Любань' 'городской поселок Будогощь' 'поселок Суходолье'\n",
      " 'поселок Красная Долина' 'деревня Хапо-Ое'\n",
      " 'поселок городского типа Дружная Горка' 'поселок Лисий Нос'\n",
      " 'деревня Яльгелево' 'село Рождествено' 'деревня Старополье'\n",
      " 'поселок Левашово' 'деревня Сяськелево' 'деревня Камышовка'\n",
      " 'садоводческое некоммерческое товарищество Лесная Поляна'\n",
      " 'деревня Хязельки' 'поселок Жилгородок' 'поселок городского типа Павлово'\n",
      " 'деревня Ялгино' 'поселок Новый Учхоз' 'городской поселок Рощино'\n",
      " 'поселок Гончарово' 'поселок Почап' 'поселок Саперное'\n",
      " 'поселок Платформа 69-й километр' 'поселок Каложицы' 'деревня Фалилеево'\n",
      " 'деревня Пельгора' 'поселок городского типа Лесогорский'\n",
      " 'деревня Торошковичи' 'поселок Белоостров' 'поселок Алексеевка'\n",
      " 'поселок Серебрянский' 'поселок Лукаши' 'деревня Щеглово'\n",
      " 'деревня Тарасово' 'поселок Кингисеппский'\n",
      " 'поселок при железнодорожной станции Вещево' 'поселок Ушаки'\n",
      " 'деревня Котлы' 'деревня Сижно' 'деревня Торосово'\n",
      " 'поселок Форт Красная Горка' 'деревня Новолисино'\n",
      " 'поселок станции Громово' 'деревня Глинка'\n",
      " 'поселок городского типа Назия' 'деревня Старая Пустошь'\n",
      " 'поселок Коммунары' 'поселок Починок'\n",
      " 'поселок городского типа Вознесенье' 'деревня Разбегаево'\n",
      " 'поселок Гладкое' 'поселок при железнодорожной станции Приветнинское'\n",
      " 'поселок Тесово-4' 'деревня Бор' 'поселок Коробицыно'\n",
      " 'деревня Большая Вруда' 'деревня Курковицы' 'городской поселок Советский'\n",
      " 'поселок Кобралово' 'деревня Суоранда'\n",
      " 'поселок городского типа Кондратьево' 'коттеджный поселок Счастье'\n",
      " 'поселок Любань' 'деревня Реброво' 'деревня Зимитицы' 'деревня Тойворово'\n",
      " 'поселок Семиозерье' 'поселок Лесное' 'поселок Совхозный'\n",
      " 'поселок Ленинское' 'поселок Суйда' 'деревня Нижние Осельки'\n",
      " 'поселок станции Свирь' 'поселок Перово' 'Высоцк' 'поселок Гарболово'\n",
      " 'село Шум' 'поселок Котельский' 'поселок станции Лужайка'\n",
      " 'деревня Большая Пустомержа' 'поселок Красносельское' 'деревня Пижма'\n",
      " 'коттеджный поселок Кивеннапа Север' 'поселок Ромашки' 'деревня Каськово'\n",
      " 'деревня Куровицы' 'поселок Плоское'\n",
      " 'поселок городского типа Большая Ижора' 'поселок Кирпичное'\n",
      " 'деревня Ям-Тесово' 'деревня Раздолье' 'деревня Терпилицы'\n",
      " 'поселок Шугозеро' 'деревня Ваганово' 'поселок Пушное'\n",
      " 'садовое товарищество Садко' 'поселок Усть-Ижора' 'деревня Выскатка'\n",
      " 'городской поселок Свирьстрой' 'поселок Громово' 'деревня Кисельня'\n",
      " 'деревня Трубников Бор' 'поселок Калитино' 'поселок Высокоключевой'\n",
      " 'садовое товарищество Приладожский' 'поселок Пансионат Зеленый Бор'\n",
      " 'деревня Ненимяки' 'деревня Снегиревка' 'деревня Рапполово'\n",
      " 'деревня Пустынка' 'поселок Рабитицы' 'деревня Большой Сабск'\n",
      " 'деревня Русско' 'деревня Лупполово' 'деревня Большое Рейзино'\n",
      " 'деревня Малая Романовка' 'поселок Дружноселье' 'поселок Пчевжа'\n",
      " 'поселок Володарское' 'деревня Нижняя' 'коттеджный поселок Лесное'\n",
      " 'деревня Тихковицы' 'деревня Борисова Грива' 'поселок Дзержинского']\n"
     ]
    }
   ],
   "source": [
    "print(data['locality_name'].unique())"
   ]
  },
  {
   "cell_type": "code",
   "execution_count": 36,
   "metadata": {},
   "outputs": [
    {
     "data": {
      "text/plain": [
       "327"
      ]
     },
     "execution_count": 36,
     "metadata": {},
     "output_type": "execute_result"
    }
   ],
   "source": [
    "#число уникальных значений в столбце с названиями городов\n",
    "data['locality_name'].nunique()"
   ]
  },
  {
   "cell_type": "markdown",
   "metadata": {},
   "source": [
    "Мы видим, что 34 дубля в названиях пропали.\n",
    "\n",
    "Теперь проверим, есть ли в названиях неявные дубли.\n",
    "Выведем все названия, начинающиеся с \"поселок\" и с \"поселок городского типа\", \n",
    "посмотрим, может быть там есть совпадения."
   ]
  },
  {
   "cell_type": "code",
   "execution_count": 37,
   "metadata": {},
   "outputs": [
    {
     "data": {
      "text/plain": [
       "['Шушары',\n",
       " 'Парголово',\n",
       " 'Мурино',\n",
       " 'Металлострой',\n",
       " 'Молодцово',\n",
       " 'Аннино',\n",
       " 'Плодовое',\n",
       " 'Торковичи',\n",
       " 'Первомайское',\n",
       " 'Понтонный',\n",
       " 'Новый Свет',\n",
       " 'Романовка',\n",
       " 'Бугры',\n",
       " 'Оредеж',\n",
       " 'Молодежное',\n",
       " 'Победа',\n",
       " 'Стрельна',\n",
       " 'Александровская',\n",
       " 'Терволово',\n",
       " 'Петровское',\n",
       " 'Сельцо',\n",
       " 'Тельмана',\n",
       " 'Севастьяново',\n",
       " 'Новогорелово',\n",
       " 'Цвелодубово',\n",
       " 'Заводской',\n",
       " 'Зимитицы',\n",
       " 'Барышево',\n",
       " 'Рябово',\n",
       " 'Поляны',\n",
       " 'Елизаветино',\n",
       " 'Запорожское',\n",
       " 'Мичуринское',\n",
       " 'Песочный',\n",
       " 'Сосново',\n",
       " 'Ильичево',\n",
       " 'станции Вещево',\n",
       " 'Войсковицы',\n",
       " 'Ропша',\n",
       " 'Щеглово',\n",
       " 'Гаврилово',\n",
       " 'Репино',\n",
       " 'Углово',\n",
       " 'Старая Малукса',\n",
       " 'Саперный',\n",
       " 'Семрино',\n",
       " 'Глажево',\n",
       " 'Кобринское',\n",
       " 'станции Приветнинское',\n",
       " 'Цвылево',\n",
       " 'Мельниково',\n",
       " 'Пудость',\n",
       " 'Усть-Луга',\n",
       " 'Селезнево',\n",
       " 'Глебычево',\n",
       " 'Жилпоселок',\n",
       " 'Войскорово',\n",
       " 'Стеклянный',\n",
       " 'Мыза-Ивановка',\n",
       " 'Житково',\n",
       " 'Сумино',\n",
       " 'Возрождение',\n",
       " 'Кикерино',\n",
       " 'Пригородный',\n",
       " 'Торфяное',\n",
       " 'Суходолье',\n",
       " 'Красная Долина',\n",
       " 'Лисий Нос',\n",
       " 'Левашово',\n",
       " 'Жилгородок',\n",
       " 'Новый Учхоз',\n",
       " 'Гончарово',\n",
       " 'Почап',\n",
       " 'Саперное',\n",
       " 'Платформа 69-й километр',\n",
       " 'Каложицы',\n",
       " 'Белоостров',\n",
       " 'Алексеевка',\n",
       " 'Серебрянский',\n",
       " 'Лукаши',\n",
       " 'Кингисеппский',\n",
       " 'при железнодорожной станции Вещево',\n",
       " 'Ушаки',\n",
       " 'Форт Красная Горка',\n",
       " 'станции Громово',\n",
       " 'Коммунары',\n",
       " 'Починок',\n",
       " 'Гладкое',\n",
       " 'при железнодорожной станции Приветнинское',\n",
       " 'Тесово-4',\n",
       " 'Коробицыно',\n",
       " 'Кобралово',\n",
       " 'Любань',\n",
       " 'Семиозерье',\n",
       " 'Лесное',\n",
       " 'Совхозный',\n",
       " 'Ленинское',\n",
       " 'Суйда',\n",
       " 'станции Свирь',\n",
       " 'Перово',\n",
       " 'Гарболово',\n",
       " 'Котельский',\n",
       " 'станции Лужайка',\n",
       " 'Красносельское',\n",
       " 'Ромашки',\n",
       " 'Плоское',\n",
       " 'Кирпичное',\n",
       " 'Шугозеро',\n",
       " 'Пушное',\n",
       " 'Усть-Ижора',\n",
       " 'Громово',\n",
       " 'Калитино',\n",
       " 'Высокоключевой',\n",
       " 'Пансионат Зеленый Бор',\n",
       " 'Рабитицы',\n",
       " 'Дружноселье',\n",
       " 'Пчевжа',\n",
       " 'Володарское',\n",
       " 'Дзержинского']"
      ]
     },
     "metadata": {},
     "output_type": "display_data"
    }
   ],
   "source": [
    "#создаем список с названиями поселков\n",
    "poselok=[]\n",
    "for i in data['locality_name'].unique():\n",
    "    if (i[:7]=='поселок') & (i[:23]!='поселок городского типа'):\n",
    "        poselok.append(i[8:])\n",
    "display(poselok)"
   ]
  },
  {
   "cell_type": "code",
   "execution_count": 38,
   "metadata": {},
   "outputs": [
    {
     "data": {
      "text/plain": [
       "['Красный Бор',\n",
       " 'Лебяжье',\n",
       " 'Сиверский',\n",
       " 'Кузьмоловский',\n",
       " 'Ефимовский',\n",
       " 'Рощино',\n",
       " 'Синявино',\n",
       " 'Советский',\n",
       " 'Токсово',\n",
       " 'Вырица',\n",
       " 'Рахья',\n",
       " 'имени Свердлова',\n",
       " 'Кузнечное',\n",
       " 'имени Морозова',\n",
       " 'Тайцы',\n",
       " 'Ульяновка',\n",
       " 'Дубровка',\n",
       " 'Приладожский',\n",
       " 'Никольский',\n",
       " 'Рябово',\n",
       " 'Мга',\n",
       " 'Важины',\n",
       " 'Форносово',\n",
       " 'Дружная Горка',\n",
       " 'Павлово',\n",
       " 'Лесогорский',\n",
       " 'Назия',\n",
       " 'Вознесенье',\n",
       " 'Кондратьево',\n",
       " 'Большая Ижора']"
      ]
     },
     "metadata": {},
     "output_type": "display_data"
    }
   ],
   "source": [
    "#создаем список с названиями поселков городского типа\n",
    "poselok_gor=[]\n",
    "for i in data['locality_name'].unique():\n",
    "    if 'поселок городского типа' in i:\n",
    "        poselok_gor.append(i[24:])\n",
    "display(poselok_gor)"
   ]
  },
  {
   "cell_type": "markdown",
   "metadata": {},
   "source": [
    "Найдем совпадения в двух списках."
   ]
  },
  {
   "cell_type": "code",
   "execution_count": 39,
   "metadata": {},
   "outputs": [
    {
     "data": {
      "text/plain": [
       "['Рябово']"
      ]
     },
     "execution_count": 39,
     "metadata": {},
     "output_type": "execute_result"
    }
   ],
   "source": [
    "#функция, находящая совпадения в двух списках\n",
    "def returnMatches(a, b): \n",
    "    return list(set(a) & set(b))\n",
    "returnMatches(poselok, poselok_gor)"
   ]
  },
  {
   "cell_type": "markdown",
   "metadata": {},
   "source": [
    "Мы видим, что совпадение только в поселке Рябово. \n",
    "Заменим \"поселок городского типа Рябово\" на \"поселок Рябово\"."
   ]
  },
  {
   "cell_type": "code",
   "execution_count": 40,
   "metadata": {},
   "outputs": [
    {
     "data": {
      "text/plain": [
       "326"
      ]
     },
     "execution_count": 40,
     "metadata": {},
     "output_type": "execute_result"
    }
   ],
   "source": [
    "data['locality_name']=data['locality_name'].replace('поселок городского типа Рябово','поселок Рябово')\n",
    "data['locality_name'].nunique()"
   ]
  },
  {
   "cell_type": "markdown",
   "metadata": {},
   "source": [
    "Таким образом, все 35 неявных дубликата в названиях населенных пунктов заменены."
   ]
  },
  {
   "cell_type": "markdown",
   "metadata": {
    "id": "QCcvyY6YAwb-"
   },
   "source": [
    "### Добавление в таблицу новых столбцов"
   ]
  },
  {
   "cell_type": "markdown",
   "metadata": {
    "id": "Z8eJek3IAwb-"
   },
   "source": [
    "Добавим в таблицу столбец с ценой за квадратный метр, равный стоимости объекта, деленной на общую площадь.\n",
    "Округлим полученное значение до двух знаков после запятой."
   ]
  },
  {
   "cell_type": "code",
   "execution_count": 41,
   "metadata": {},
   "outputs": [],
   "source": [
    "data['price_meter']=round(data['last_price']/data['total_area'],2)"
   ]
  },
  {
   "cell_type": "markdown",
   "metadata": {},
   "source": [
    "Создадим столбец \"день недели публикации\" (0-понедельник, 1- вторник и т.д.)"
   ]
  },
  {
   "cell_type": "code",
   "execution_count": 42,
   "metadata": {},
   "outputs": [],
   "source": [
    "data['day_of_week']=data['first_day_exposition'].dt.weekday"
   ]
  },
  {
   "cell_type": "markdown",
   "metadata": {},
   "source": [
    "Месяц публикации объявления:"
   ]
  },
  {
   "cell_type": "code",
   "execution_count": 43,
   "metadata": {},
   "outputs": [],
   "source": [
    "data['month']=data['first_day_exposition'].dt.month"
   ]
  },
  {
   "cell_type": "markdown",
   "metadata": {},
   "source": [
    "Аналогично год публикации объявления:"
   ]
  },
  {
   "cell_type": "code",
   "execution_count": 44,
   "metadata": {},
   "outputs": [],
   "source": [
    "data['year']=data['first_day_exposition'].dt.year"
   ]
  },
  {
   "cell_type": "markdown",
   "metadata": {},
   "source": [
    "Для типа этажа квартиры напишем функцию, задающую категорию этажа, и применим ее к столбцам с номером этажа и общим числом этажей. "
   ]
  },
  {
   "cell_type": "code",
   "execution_count": 45,
   "metadata": {},
   "outputs": [],
   "source": [
    "#функция, определяющая категорию этажа\n",
    "def floor_category(floor,floors_total):\n",
    "    try:\n",
    "        if floor==1:\n",
    "            return 'первый'\n",
    "        elif floor==floors_total:\n",
    "            return 'последний'\n",
    "        else:\n",
    "            return 'другой'\n",
    "    except:\n",
    "        return 0\n",
    "#применяем функцию к столбцам floor и floors_total\n",
    "data['floor_category'] = data.apply(lambda x: floor_category(x['floor'], x['floors_total']), axis=1)\n",
    "#print(data.head(20))"
   ]
  },
  {
   "cell_type": "markdown",
   "metadata": {},
   "source": [
    "Расстояние до центра города переведем из метров в километры и округлим до ближайщих целых значений. \n",
    "Запишем полученные значения в новый столбец 'cityCenters_nearest_km'."
   ]
  },
  {
   "cell_type": "code",
   "execution_count": 46,
   "metadata": {},
   "outputs": [],
   "source": [
    "data['cityCenters_nearest_km']=round(data['cityCenters_nearest']/1000)\n",
    "#print(data.head(20))"
   ]
  },
  {
   "cell_type": "markdown",
   "metadata": {},
   "source": [
    "Все новые добавленные столбцы мы будем использовать дальше при анализе данных."
   ]
  },
  {
   "cell_type": "markdown",
   "metadata": {
    "id": "pPyxrKWTAwb-"
   },
   "source": [
    "### Исследовательский анализ данных"
   ]
  },
  {
   "cell_type": "markdown",
   "metadata": {},
   "source": [
    "4.1 Построим гистограмму для общей площади."
   ]
  },
  {
   "cell_type": "code",
   "execution_count": 47,
   "metadata": {
    "id": "V2f0D3kLAwb-"
   },
   "outputs": [
    {
     "data": {
      "image/png": "[encoded data removed]",
      "text/plain": [
       "<Figure size 864x288 with 1 Axes>"
      ]
     },
     "metadata": {
      "needs_background": "light"
     },
     "output_type": "display_data"
    }
   ],
   "source": [
    "#строим гистограмму для столбца total_area на 50 корзин\n",
    "data['total_area'].hist(bins=50,legend=True,figsize=(12,4))\n",
    "\n",
    "plt.title('total_area') \n",
    "plt.xlabel('total_area') \n",
    "plt.ylabel('number of cases') \n",
    "\n",
    "plt.show() "
   ]
  },
  {
   "cell_type": "markdown",
   "metadata": {},
   "source": [
    "Выведем описательные статистики переменной общей площади."
   ]
  },
  {
   "cell_type": "code",
   "execution_count": 48,
   "metadata": {},
   "outputs": [
    {
     "data": {
      "text/plain": [
       "count    23070.000000\n",
       "mean        60.622391\n",
       "std         34.494083\n",
       "min         14.000000\n",
       "25%         40.500000\n",
       "50%         52.300000\n",
       "75%         70.000000\n",
       "max        631.200000\n",
       "Name: total_area, dtype: float64"
      ]
     },
     "metadata": {},
     "output_type": "display_data"
    }
   ],
   "source": [
    "display(data['total_area'].describe()) "
   ]
  },
  {
   "cell_type": "markdown",
   "metadata": {},
   "source": [
    "Видно, что есть значения больше 300. Посчитаем, сколько таких значений."
   ]
  },
  {
   "cell_type": "code",
   "execution_count": 49,
   "metadata": {},
   "outputs": [
    {
     "name": "stdout",
     "output_type": "stream",
     "text": [
      "52\n"
     ]
    }
   ],
   "source": [
    "print(data['total_area'][data['total_area']>300].count())"
   ]
  },
  {
   "cell_type": "markdown",
   "metadata": {},
   "source": [
    "Всего 53 из 23546, то есть 0,2%. Возможно, это ошибки в данных.\n",
    "По идее, площадь должна коррелировать с ценой.\n",
    "Попробуем вывести цену квартиры для площади больше 300 м.кв."
   ]
  },
  {
   "cell_type": "code",
   "execution_count": 50,
   "metadata": {},
   "outputs": [
    {
     "data": {
      "text/plain": [
       "155       96000000.0\n",
       "581       65000000.0\n",
       "660       49950000.0\n",
       "793      135000000.0\n",
       "1026     155000000.0\n",
       "1085      75000000.0\n",
       "1388      59800000.0\n",
       "1494      65000000.0\n",
       "2243     130278280.0\n",
       "2580      30900000.0\n",
       "3117     140000000.0\n",
       "3676      28789000.0\n",
       "4237      50000000.0\n",
       "5042      35000000.0\n",
       "5873      38000000.0\n",
       "5893     230000000.0\n",
       "6183      84382000.0\n",
       "6221      34000000.0\n",
       "6621      99000000.0\n",
       "7543     130000000.0\n",
       "7664      40000000.0\n",
       "7674     131000000.0\n",
       "7939      39000000.0\n",
       "8018      84000000.0\n",
       "9561      24900000.0\n",
       "9826      43185328.0\n",
       "10569     36900000.0\n",
       "10684     32894076.0\n",
       "11087     14000000.0\n",
       "11436     24000000.0\n",
       "12401     91500000.0\n",
       "12859    140000000.0\n",
       "12971    763000000.0\n",
       "13749    240000000.0\n",
       "14088     51000000.0\n",
       "14591     29000000.0\n",
       "14706    401300000.0\n",
       "14991     45000000.0\n",
       "15016    150000000.0\n",
       "15607     34000000.0\n",
       "15651    300000000.0\n",
       "16179     28000000.0\n",
       "19221     30000000.0\n",
       "19865    180000000.0\n",
       "19961     32350000.0\n",
       "20273     20000000.0\n",
       "20314     42000000.0\n",
       "20820     73900000.0\n",
       "21955    130000000.0\n",
       "21990     68000000.0\n",
       "22131     27000000.0\n",
       "22494     91075000.0\n",
       "Name: last_price, dtype: float64"
      ]
     },
     "metadata": {},
     "output_type": "display_data"
    }
   ],
   "source": [
    "display(data['last_price'][data['total_area']>300])"
   ]
  },
  {
   "cell_type": "markdown",
   "metadata": {},
   "source": [
    "Все цены оказались высокими, поэтому эти данные не похожи на ошибочные, не будем удалять."
   ]
  },
  {
   "cell_type": "markdown",
   "metadata": {},
   "source": [
    "Для наглядности построим гистограмму для площадей меньше 300 кв.м."
   ]
  },
  {
   "cell_type": "code",
   "execution_count": 51,
   "metadata": {},
   "outputs": [
    {
     "data": {
      "image/png": "[encoded data removed]",
      "text/plain": [
       "<Figure size 720x432 with 1 Axes>"
      ]
     },
     "metadata": {
      "needs_background": "light"
     },
     "output_type": "display_data"
    }
   ],
   "source": [
    "data['total_area'].hist(range=(0,300),bins=40,legend=True,figsize=(10,6))\n",
    "\n",
    "plt.title('total_area') \n",
    "plt.xlabel('total_area m^2') \n",
    "plt.ylabel('number of cases') \n",
    "  \n",
    "plt.show() "
   ]
  },
  {
   "cell_type": "markdown",
   "metadata": {},
   "source": [
    "Видно, что абсолютное большинство квартир - площадью до 100 кв.м.\n",
    "Наиболее популярные - небольшие площадью до 50 кв.м."
   ]
  },
  {
   "cell_type": "markdown",
   "metadata": {},
   "source": [
    "По жилой площади построим гистограмму."
   ]
  },
  {
   "cell_type": "code",
   "execution_count": 52,
   "metadata": {},
   "outputs": [
    {
     "data": {
      "image/png": "[encoded data removed]",
      "text/plain": [
       "<Figure size 720x432 with 1 Axes>"
      ]
     },
     "metadata": {
      "needs_background": "light"
     },
     "output_type": "display_data"
    }
   ],
   "source": [
    "#строим гистограмму для столбца living_area на 30 корзин\n",
    "data['living_area'].hist(bins=30,legend=True,figsize=(10,6))\n",
    "\n",
    "plt.title('living_area') \n",
    "plt.xlabel('living_area m^2') \n",
    "plt.ylabel('number of cases') \n",
    "  \n",
    "plt.show() "
   ]
  },
  {
   "cell_type": "markdown",
   "metadata": {},
   "source": [
    "Выведем описательные статистики переменной жилой площади."
   ]
  },
  {
   "cell_type": "code",
   "execution_count": 53,
   "metadata": {},
   "outputs": [
    {
     "data": {
      "text/plain": [
       "count    23070.000000\n",
       "mean        34.326110\n",
       "std         21.059426\n",
       "min          2.000000\n",
       "25%         18.500000\n",
       "50%         30.500000\n",
       "75%         42.800000\n",
       "max        347.500000\n",
       "Name: living_area, dtype: float64"
      ]
     },
     "metadata": {},
     "output_type": "display_data"
    }
   ],
   "source": [
    "display(data['living_area'].describe()) "
   ]
  },
  {
   "cell_type": "markdown",
   "metadata": {},
   "source": [
    "Проверим, сколько больших значений в этом столбце (больше 200)."
   ]
  },
  {
   "cell_type": "code",
   "execution_count": 54,
   "metadata": {},
   "outputs": [
    {
     "name": "stdout",
     "output_type": "stream",
     "text": [
      "24\n"
     ]
    }
   ],
   "source": [
    "print(data['living_area'][data['living_area']>200].count())"
   ]
  },
  {
   "cell_type": "markdown",
   "metadata": {},
   "source": [
    "Проверим, сколько маленьких значений в этом столбце (меньше 20)."
   ]
  },
  {
   "cell_type": "code",
   "execution_count": 55,
   "metadata": {},
   "outputs": [
    {
     "name": "stdout",
     "output_type": "stream",
     "text": [
      "6598\n"
     ]
    }
   ],
   "source": [
    "print(data['living_area'][data['living_area']<20].count())"
   ]
  },
  {
   "cell_type": "markdown",
   "metadata": {},
   "source": [
    "Итого, очень много маленьких квартир, с жилой площадью меньше 20 кв.м., почти 30%."
   ]
  },
  {
   "cell_type": "markdown",
   "metadata": {},
   "source": [
    "Строим гистограмму для площади кухни."
   ]
  },
  {
   "cell_type": "code",
   "execution_count": 56,
   "metadata": {},
   "outputs": [
    {
     "data": {
      "image/png": "[encoded data removed]",
      "text/plain": [
       "<Figure size 720x432 with 1 Axes>"
      ]
     },
     "metadata": {
      "needs_background": "light"
     },
     "output_type": "display_data"
    }
   ],
   "source": [
    "#строим гистограмму для столбца kitchen_area на 30 корзин\n",
    "data['kitchen_area'].hist(bins=30,legend=True,figsize=(10,6))\n",
    "\n",
    "plt.title('kitchen_area') \n",
    "plt.xlabel('kitchen_area m^2') \n",
    "plt.ylabel('number of cases') \n",
    "  \n",
    "plt.show() "
   ]
  },
  {
   "cell_type": "markdown",
   "metadata": {},
   "source": [
    "Выведем описательные статистики переменной площади кухни."
   ]
  },
  {
   "cell_type": "code",
   "execution_count": 57,
   "metadata": {},
   "outputs": [
    {
     "data": {
      "text/plain": [
       "count    23070.000000\n",
       "mean        10.431059\n",
       "std          5.586060\n",
       "min          1.300000\n",
       "25%          7.200000\n",
       "50%          9.000000\n",
       "75%         11.500000\n",
       "max        107.000000\n",
       "Name: kitchen_area, dtype: float64"
      ]
     },
     "metadata": {},
     "output_type": "display_data"
    }
   ],
   "source": [
    "display(data['kitchen_area'].describe()) "
   ]
  },
  {
   "cell_type": "markdown",
   "metadata": {},
   "source": [
    "Посмотрим, сколько больших кухонь (больше 50 м.кв.)"
   ]
  },
  {
   "cell_type": "code",
   "execution_count": 58,
   "metadata": {},
   "outputs": [
    {
     "name": "stdout",
     "output_type": "stream",
     "text": [
      "44\n"
     ]
    }
   ],
   "source": [
    "print(data['kitchen_area'][data['kitchen_area']>50].count())"
   ]
  },
  {
   "cell_type": "markdown",
   "metadata": {},
   "source": [
    "Больших кухонь очень мало, поэтому можно построить гистограмму только по кухням меньше 50 кв.м."
   ]
  },
  {
   "cell_type": "code",
   "execution_count": 59,
   "metadata": {},
   "outputs": [
    {
     "data": {
      "image/png": "[encoded data removed]",
      "text/plain": [
       "<Figure size 720x432 with 1 Axes>"
      ]
     },
     "metadata": {
      "needs_background": "light"
     },
     "output_type": "display_data"
    }
   ],
   "source": [
    "data['kitchen_area'].hist(bins=30,range=(0,50),legend=True,figsize=(10,6))\n",
    "\n",
    "plt.title('kitchen_area') \n",
    "plt.xlabel('kitchen_area m^2') \n",
    "plt.ylabel('number of cases') \n",
    "  \n",
    "plt.show() "
   ]
  },
  {
   "cell_type": "markdown",
   "metadata": {},
   "source": [
    "На этой гистограмме видно, что чаще всего кухни в квартирах имеют площадь около 10 кв.м."
   ]
  },
  {
   "cell_type": "markdown",
   "metadata": {},
   "source": [
    "По цене объекта гистограмма выглядит следующим образом:"
   ]
  },
  {
   "cell_type": "code",
   "execution_count": 60,
   "metadata": {},
   "outputs": [
    {
     "data": {
      "image/png": "[encoded data removed]",
      "text/plain": [
       "<Figure size 720x432 with 1 Axes>"
      ]
     },
     "metadata": {
      "needs_background": "light"
     },
     "output_type": "display_data"
    }
   ],
   "source": [
    "data['last_price'].hist(bins=10,legend=True,figsize=(10,6))\n",
    "\n",
    "plt.title('last_price') \n",
    "plt.xlabel('last_price')\n",
    "plt.ylabel('number of cases') \n",
    "  \n",
    "plt.show() "
   ]
  },
  {
   "cell_type": "markdown",
   "metadata": {},
   "source": [
    "Очевидно, есть объекты с очень большой ценой, которые \"портят\" гистограмму, поэтому установим границы цены до 35 млн (в этот диапазон попадает 99% записей)."
   ]
  },
  {
   "cell_type": "code",
   "execution_count": 61,
   "metadata": {},
   "outputs": [
    {
     "data": {
      "text/plain": [
       "1.035977459904638"
      ]
     },
     "metadata": {},
     "output_type": "display_data"
    }
   ],
   "source": [
    "#число записей, в которых цена больше 35 млн, % от всего числа записей \n",
    "display(data['last_price'][data['last_price']>35000000].count()/230.70)"
   ]
  },
  {
   "cell_type": "code",
   "execution_count": 62,
   "metadata": {},
   "outputs": [
    {
     "data": {
      "image/png": "[encoded data removed]",
      "text/plain": [
       "<Figure size 720x432 with 1 Axes>"
      ]
     },
     "metadata": {
      "needs_background": "light"
     },
     "output_type": "display_data"
    }
   ],
   "source": [
    "#гистограмма для квартир стоимостью меньше 35 млн\n",
    "data['last_price'].hist(bins=20,range=(0,35000000),legend=True,figsize=(10,6))\n",
    "plt.title('last_price') \n",
    "plt.xlabel('last_price, 10*mln') \n",
    "plt.ylabel('number of cases') \n",
    "  \n",
    "plt.show() "
   ]
  },
  {
   "cell_type": "markdown",
   "metadata": {},
   "source": [
    "Большинство квартир имеют стоимость около 5 млн."
   ]
  },
  {
   "cell_type": "markdown",
   "metadata": {},
   "source": [
    "Выведем описательные статистики переменной стоимости квартиры."
   ]
  },
  {
   "cell_type": "code",
   "execution_count": 63,
   "metadata": {},
   "outputs": [
    {
     "data": {
      "text/plain": [
       "count    2.307000e+04\n",
       "mean     6.557095e+06\n",
       "std      1.058601e+07\n",
       "min      1.219000e+04\n",
       "25%      3.480000e+06\n",
       "50%      4.682500e+06\n",
       "75%      6.800000e+06\n",
       "max      7.630000e+08\n",
       "Name: last_price, dtype: float64"
      ]
     },
     "metadata": {},
     "output_type": "display_data"
    }
   ],
   "source": [
    "display(data['last_price'].describe()) "
   ]
  },
  {
   "cell_type": "markdown",
   "metadata": {},
   "source": [
    "По количеству комнат гистограмма выглядит следующим образом:"
   ]
  },
  {
   "cell_type": "code",
   "execution_count": 64,
   "metadata": {},
   "outputs": [
    {
     "data": {
      "image/png": "[encoded data removed]",
      "text/plain": [
       "<Figure size 720x432 with 1 Axes>"
      ]
     },
     "metadata": {
      "needs_background": "light"
     },
     "output_type": "display_data"
    }
   ],
   "source": [
    "data['rooms'].hist(bins=18,legend=True,figsize=(10,6))\n",
    "\n",
    "plt.title('rooms') \n",
    "plt.xlabel('rooms') \n",
    "plt.ylabel('number of cases') \n",
    "  \n",
    "plt.show() "
   ]
  },
  {
   "cell_type": "markdown",
   "metadata": {},
   "source": [
    "Как и следовало ожидать, наиболее популярные квартиры - одно- и двухкомнатные, затем трехкомнатные (их меньше, чем однокомнатных на 30%). Четырехкомнатных меньше, чем однокомнатных, почти в 8 раз. Пяти- и вышекомнатные квартиры составляют абсолютное меньшинство - их всего около 2% записей.  "
   ]
  },
  {
   "cell_type": "markdown",
   "metadata": {},
   "source": [
    "Выведем описательные статистики переменной числа комнат."
   ]
  },
  {
   "cell_type": "code",
   "execution_count": 65,
   "metadata": {},
   "outputs": [
    {
     "data": {
      "text/plain": [
       "count    23070.000000\n",
       "mean         2.084092\n",
       "std          1.027661\n",
       "min          1.000000\n",
       "25%          1.000000\n",
       "50%          2.000000\n",
       "75%          3.000000\n",
       "max          8.000000\n",
       "Name: rooms, dtype: float64"
      ]
     },
     "metadata": {},
     "output_type": "display_data"
    }
   ],
   "source": [
    "display(data['rooms'].describe()) "
   ]
  },
  {
   "cell_type": "markdown",
   "metadata": {},
   "source": [
    "Выведем описательные статистики высоты потолков."
   ]
  },
  {
   "cell_type": "code",
   "execution_count": 66,
   "metadata": {},
   "outputs": [
    {
     "data": {
      "text/plain": [
       "count    23070.000000\n",
       "mean         2.765934\n",
       "std          0.959754\n",
       "min          1.000000\n",
       "25%          2.600000\n",
       "50%          2.765934\n",
       "75%          2.765934\n",
       "max        100.000000\n",
       "Name: ceiling_height, dtype: float64"
      ]
     },
     "metadata": {},
     "output_type": "display_data"
    }
   ],
   "source": [
    "display(data['ceiling_height'].describe()) "
   ]
  },
  {
   "cell_type": "markdown",
   "metadata": {},
   "source": [
    "Гистограмма по высоте потолков:"
   ]
  },
  {
   "cell_type": "code",
   "execution_count": 67,
   "metadata": {},
   "outputs": [
    {
     "data": {
      "image/png": "[encoded data removed]",
      "text/plain": [
       "<Figure size 720x432 with 1 Axes>"
      ]
     },
     "metadata": {
      "needs_background": "light"
     },
     "output_type": "display_data"
    }
   ],
   "source": [
    "data['ceiling_height'].hist(legend=True,figsize=(10,6))\n",
    "\n",
    "plt.title('ceiling_height') \n",
    "plt.xlabel('ceiling_height, m') \n",
    "plt.ylabel('number of cases') \n",
    "  \n",
    "plt.show() "
   ]
  },
  {
   "cell_type": "markdown",
   "metadata": {},
   "source": [
    "Очевидно, в данных попались аномальные значения. Построим гистограмму в границах (2,4.5)."
   ]
  },
  {
   "cell_type": "code",
   "execution_count": 68,
   "metadata": {},
   "outputs": [
    {
     "data": {
      "image/png": "[encoded data removed]",
      "text/plain": [
       "<Figure size 720x432 with 1 Axes>"
      ]
     },
     "metadata": {
      "needs_background": "light"
     },
     "output_type": "display_data"
    }
   ],
   "source": [
    "data['ceiling_height'].hist(range=(2,4.5),legend=True,figsize=(10,6))\n",
    "plt.title('ceiling_height') \n",
    "plt.xlabel('ceiling_height, m')\n",
    "plt.ylabel('number of cases') \n",
    "  \n",
    "plt.show() "
   ]
  },
  {
   "cell_type": "markdown",
   "metadata": {},
   "source": [
    "Найдем, сколько значений попали в диапазон больше 4,5 м."
   ]
  },
  {
   "cell_type": "code",
   "execution_count": 69,
   "metadata": {},
   "outputs": [
    {
     "data": {
      "text/plain": [
       "38"
      ]
     },
     "metadata": {},
     "output_type": "display_data"
    }
   ],
   "source": [
    "display(data['ceiling_height'][data['ceiling_height']>4.5].count())"
   ]
  },
  {
   "cell_type": "markdown",
   "metadata": {},
   "source": [
    "Выведем эти значения в явном виде."
   ]
  },
  {
   "cell_type": "code",
   "execution_count": 70,
   "metadata": {},
   "outputs": [
    {
     "data": {
      "text/plain": [
       "355       25.00\n",
       "464        5.20\n",
       "1026       5.30\n",
       "1053       5.00\n",
       "1300       4.70\n",
       "1388       5.60\n",
       "2802       4.80\n",
       "3148      32.00\n",
       "3474       8.00\n",
       "4643      25.00\n",
       "5076      24.00\n",
       "5246      27.00\n",
       "5669      26.00\n",
       "5807      27.00\n",
       "5863       8.30\n",
       "6246      25.00\n",
       "7578       5.50\n",
       "9379      25.00\n",
       "10773     27.00\n",
       "11285     25.00\n",
       "12401      4.65\n",
       "12628      5.30\n",
       "14382     25.00\n",
       "15061     14.00\n",
       "15743      8.00\n",
       "17442      8.00\n",
       "17496     20.00\n",
       "17857     27.00\n",
       "18545     25.00\n",
       "19142      4.70\n",
       "20264      6.00\n",
       "20478     27.00\n",
       "20507     22.60\n",
       "21923      4.90\n",
       "22309     10.30\n",
       "22336     32.00\n",
       "22869    100.00\n",
       "22938     27.00\n",
       "Name: ceiling_height, dtype: float64"
      ]
     },
     "metadata": {},
     "output_type": "display_data"
    }
   ],
   "source": [
    "display(data['ceiling_height'][data['ceiling_height']>4.5])"
   ]
  },
  {
   "cell_type": "markdown",
   "metadata": {},
   "source": [
    "Поскольку абсолютное большинство значений высоты потолка попадает в диапазон от 2 до 4 метров, логично предположить, что значения от 20 до 40 - ошибочно умноженные на 10, поэтому эти данные можно поделить на 10. Остальные (их всего 19 записей) можно удалить без потери важной информации."
   ]
  },
  {
   "cell_type": "code",
   "execution_count": 71,
   "metadata": {},
   "outputs": [],
   "source": [
    "#функция, которая делит значения в промежутке [20,40] на 10\n",
    "def ceiling(x):\n",
    "    if (20<=x<=40):\n",
    "        return x/10\n",
    "    else:\n",
    "        return x\n",
    "#применяем эту функцию к столбцу с высотами потолков\n",
    "data['ceiling_height']=data['ceiling_height'].apply(ceiling)"
   ]
  },
  {
   "cell_type": "code",
   "execution_count": 72,
   "metadata": {},
   "outputs": [],
   "source": [
    "#удаляем строки, в которых ceiling_height > 4.5\n",
    "data=data[data['ceiling_height']<4.5]"
   ]
  },
  {
   "cell_type": "markdown",
   "metadata": {},
   "source": [
    "Построим гистограмму по типу этажа квартиры. "
   ]
  },
  {
   "cell_type": "code",
   "execution_count": 73,
   "metadata": {},
   "outputs": [
    {
     "data": {
      "image/png": "[encoded data removed]",
      "text/plain": [
       "<Figure size 432x288 with 1 Axes>"
      ]
     },
     "metadata": {
      "needs_background": "light"
     },
     "output_type": "display_data"
    }
   ],
   "source": [
    "sns.countplot(data=data, x='floor_category',order=data['floor_category'].value_counts(ascending=False).index)\n",
    "\n",
    "plt.title('floor_category')\n",
    "plt.ylabel('number of cases')\n",
    "plt.show()"
   ]
  },
  {
   "cell_type": "markdown",
   "metadata": {},
   "source": [
    "Видно, что квартир на первом и последнем этаже примерно поровну, в то время как  на других этажах примерно в 5 раз больше, чем на первом или последнем."
   ]
  },
  {
   "cell_type": "markdown",
   "metadata": {},
   "source": [
    "Выведем описательные статистики числа этажей в доме."
   ]
  },
  {
   "cell_type": "code",
   "execution_count": 74,
   "metadata": {},
   "outputs": [
    {
     "data": {
      "text/plain": [
       "count    23045.000000\n",
       "mean        10.604643\n",
       "std          6.546414\n",
       "min          1.000000\n",
       "25%          5.000000\n",
       "50%          9.000000\n",
       "75%         15.000000\n",
       "max         60.000000\n",
       "Name: floors_total, dtype: float64"
      ]
     },
     "metadata": {},
     "output_type": "display_data"
    }
   ],
   "source": [
    "display(data['floors_total'].describe()) "
   ]
  },
  {
   "cell_type": "markdown",
   "metadata": {},
   "source": [
    "Гистограмма по общему числу этажей в доме:"
   ]
  },
  {
   "cell_type": "code",
   "execution_count": 75,
   "metadata": {},
   "outputs": [
    {
     "data": {
      "image/png": "[encoded data removed]",
      "text/plain": [
       "<Figure size 720x432 with 1 Axes>"
      ]
     },
     "metadata": {
      "needs_background": "light"
     },
     "output_type": "display_data"
    }
   ],
   "source": [
    "data['floors_total'].hist(legend=True,figsize=(10,6))\n",
    "plt.title('floors_total') \n",
    "plt.xlabel('floors_total')\n",
    "plt.ylabel('number of cases') \n",
    "  \n",
    "plt.show()"
   ]
  },
  {
   "cell_type": "markdown",
   "metadata": {},
   "source": [
    "Здесь очевидно тоже есть выбивающиеся значения.\n",
    "Посмотрим, какие значения принимает столбец с числом этажей."
   ]
  },
  {
   "cell_type": "code",
   "execution_count": 76,
   "metadata": {},
   "outputs": [
    {
     "data": {
      "text/plain": [
       "array([16, 11,  5, 14, 12, 26, 24, 27,  9,  6, 17, 25,  3, 23, 19, 18,  4,\n",
       "       22,  8,  2, 10,  7, 13, 15, 20, 28, 36, 21, 35, 34, 60,  1, 29, 33,\n",
       "       52, 37])"
      ]
     },
     "execution_count": 76,
     "metadata": {},
     "output_type": "execute_result"
    }
   ],
   "source": [
    "#выводим уникальные значения столбца floors_total\n",
    "data['floors_total'].unique()"
   ]
  },
  {
   "cell_type": "markdown",
   "metadata": {},
   "source": [
    "Без точного адреса установить этажность дома невозможно.\n",
    "Но просмотр по базе cian.ru выявил самый высокий жилой дом в 35 этажей в Санкт-Петербурге.\n",
    "Посмотрим, сколько записей содержит число этажей больше 35."
   ]
  },
  {
   "cell_type": "code",
   "execution_count": 77,
   "metadata": {},
   "outputs": [
    {
     "data": {
      "text/plain": [
       "6"
      ]
     },
     "metadata": {},
     "output_type": "display_data"
    }
   ],
   "source": [
    "display(data['floors_total'][data['floors_total']>35].count())"
   ]
  },
  {
   "cell_type": "markdown",
   "metadata": {},
   "source": [
    "Таких записей оказалось всего 6, их можно удалить без ущерба основной информации."
   ]
  },
  {
   "cell_type": "code",
   "execution_count": 78,
   "metadata": {},
   "outputs": [],
   "source": [
    "#удаляем строки, в которых floors_total > 35\n",
    "data=data[data['floors_total']<36]"
   ]
  },
  {
   "cell_type": "markdown",
   "metadata": {},
   "source": [
    "Еще раз построим гистограмму для числа этажей."
   ]
  },
  {
   "cell_type": "code",
   "execution_count": 79,
   "metadata": {},
   "outputs": [
    {
     "data": {
      "image/png": "[encoded data removed]",
      "text/plain": [
       "<Figure size 720x432 with 1 Axes>"
      ]
     },
     "metadata": {
      "needs_background": "light"
     },
     "output_type": "display_data"
    }
   ],
   "source": [
    "data['floors_total'].hist(bins=20,legend=True,figsize=(10,6))\n",
    "plt.title('floors_total') \n",
    "plt.xlabel('floors_total') \n",
    "plt.ylabel('number of cases') \n",
    "  \n",
    "plt.show()"
   ]
  },
  {
   "cell_type": "markdown",
   "metadata": {},
   "source": [
    "Больше всего предложений среди пятиэтажек, затем девятиэтажек, видимо еще советской постройки."
   ]
  },
  {
   "cell_type": "markdown",
   "metadata": {},
   "source": [
    "Расстояние до центра города указано только в 77% строк. Построим по имеющимся данным гистограмму."
   ]
  },
  {
   "cell_type": "code",
   "execution_count": 80,
   "metadata": {},
   "outputs": [
    {
     "data": {
      "image/png": "[encoded data removed]",
      "text/plain": [
       "<Figure size 720x432 with 1 Axes>"
      ]
     },
     "metadata": {
      "needs_background": "light"
     },
     "output_type": "display_data"
    }
   ],
   "source": [
    "#строим гистограмму по столбцу cityCenters_nearest_km\n",
    "data['cityCenters_nearest_km'].hist(legend=True,figsize=(10,6))\n",
    "plt.title('cityCenters_nearest_km') \n",
    "plt.xlabel('cityCenters_nearest_km') \n",
    "plt.ylabel('number of cases') \n",
    "  \n",
    "plt.show()"
   ]
  },
  {
   "cell_type": "markdown",
   "metadata": {},
   "source": [
    "Абсолютное большинство квартир, у которых указано расстояние, находятся в пределах 20 км от центра города.\n",
    "Есть очень большие значения, около 60 км, но они соответствуют действительности, это квартиры в пригородах, поэтому в данном случае удалять данные не будем. "
   ]
  },
  {
   "cell_type": "markdown",
   "metadata": {},
   "source": [
    "Выведем описательные статистики расстояния до центра города."
   ]
  },
  {
   "cell_type": "code",
   "execution_count": 81,
   "metadata": {},
   "outputs": [
    {
     "data": {
      "text/plain": [
       "count    17744.000000\n",
       "mean        14.223061\n",
       "std          8.663801\n",
       "min          0.000000\n",
       "25%          9.000000\n",
       "50%         13.000000\n",
       "75%         16.000000\n",
       "max         66.000000\n",
       "Name: cityCenters_nearest_km, dtype: float64"
      ]
     },
     "metadata": {},
     "output_type": "display_data"
    }
   ],
   "source": [
    "display(data['cityCenters_nearest_km'].describe())"
   ]
  },
  {
   "cell_type": "markdown",
   "metadata": {},
   "source": [
    "Расстояние до ближайшего парка указано только в 33% строк, информация по этому параметру явно неполная, но построим гистограмму по тем данным, что есть."
   ]
  },
  {
   "cell_type": "code",
   "execution_count": 82,
   "metadata": {},
   "outputs": [
    {
     "data": {
      "image/png": "[encoded data removed]",
      "text/plain": [
       "<Figure size 720x432 with 1 Axes>"
      ]
     },
     "metadata": {
      "needs_background": "light"
     },
     "output_type": "display_data"
    }
   ],
   "source": [
    "data['parks_nearest'].hist(legend=True,figsize=(10,6))\n",
    "plt.title('parks_nearest') \n",
    "plt.xlabel('parks_nearest, m') \n",
    "plt.ylabel('number of cases') \n",
    "  \n",
    "plt.show()"
   ]
  },
  {
   "cell_type": "markdown",
   "metadata": {},
   "source": [
    "На этой гистограмме расстояние указано в метрах.\n",
    "Видно, что большинство значений меньше 1000, то есть квартиры расположены рядом с парками.\n",
    "По всей видимости, только для этих квартир указано расстояние, поэтому так много пропусков в этом столбце.\n",
    "То есть если парк далеко, нет смысла указывать расстояние до него."
   ]
  },
  {
   "cell_type": "markdown",
   "metadata": {},
   "source": [
    "Выведем описательные статистики расстояния до ближайшего парка."
   ]
  },
  {
   "cell_type": "code",
   "execution_count": 83,
   "metadata": {},
   "outputs": [
    {
     "data": {
      "text/plain": [
       "count    7913.000000\n",
       "mean      490.405662\n",
       "std       341.671474\n",
       "min         1.000000\n",
       "25%       288.000000\n",
       "50%       454.000000\n",
       "75%       612.000000\n",
       "max      3190.000000\n",
       "Name: parks_nearest, dtype: float64"
      ]
     },
     "metadata": {},
     "output_type": "display_data"
    }
   ],
   "source": [
    "display(data['parks_nearest'].describe())"
   ]
  },
  {
   "cell_type": "markdown",
   "metadata": {},
   "source": [
    "Таким образом, по результатам построения гистограмм заменены и частично удалены данные в столбце с высотой потолка, а также удалены записи с  числом этажей больше 35, как явно ошибочные."
   ]
  },
  {
   "cell_type": "markdown",
   "metadata": {},
   "source": [
    "4.2 Теперь изучим, как быстро продавались квартиры.\n",
    "Построим гистограмму для столбца с количеством дней от публикации до снятия."
   ]
  },
  {
   "cell_type": "code",
   "execution_count": 84,
   "metadata": {},
   "outputs": [
    {
     "data": {
      "image/png": "[encoded data removed]",
      "text/plain": [
       "<Figure size 720x432 with 1 Axes>"
      ]
     },
     "metadata": {
      "needs_background": "light"
     },
     "output_type": "display_data"
    }
   ],
   "source": [
    "data['days_exposition'].hist(legend=True,figsize=(10,6))\n",
    "plt.title('days_exposition') \n",
    "plt.xlabel('days_exposition') \n",
    "plt.ylabel('number of cases') \n",
    "  \n",
    "plt.show()"
   ]
  },
  {
   "cell_type": "markdown",
   "metadata": {},
   "source": [
    "Выведем основные характеристики переменной."
   ]
  },
  {
   "cell_type": "code",
   "execution_count": 85,
   "metadata": {},
   "outputs": [
    {
     "data": {
      "text/plain": [
       "count    19915.000000\n",
       "mean       181.998494\n",
       "std        220.468787\n",
       "min          1.000000\n",
       "25%         45.000000\n",
       "50%         97.000000\n",
       "75%        233.000000\n",
       "max       1580.000000\n",
       "Name: days_exposition, dtype: float64"
      ]
     },
     "metadata": {},
     "output_type": "display_data"
    }
   ],
   "source": [
    "display(data['days_exposition'].describe()) "
   ]
  },
  {
   "cell_type": "markdown",
   "metadata": {},
   "source": [
    "В среднем, квартиры продавались 182 дня, примерно полгода, медиана составила 97 дней, около трех месяцев. \n",
    "Видимо, некоторые висели в базе очень долго, по несколько лет (1580 дней максимум), поэтому среднее так сильно отличается от медианы.\n",
    "Значит, большинство квартир продавалось за три месяца, но часть квартир продавалась очень долго.\n",
    "Оценим, сколько квартир продавались больше года, полутора, двух, трех лет."
   ]
  },
  {
   "cell_type": "code",
   "execution_count": 86,
   "metadata": {},
   "outputs": [
    {
     "data": {
      "text/plain": [
       "0.15030090270812438"
      ]
     },
     "metadata": {},
     "output_type": "display_data"
    },
    {
     "data": {
      "text/plain": [
       "0.07311935807422267"
      ]
     },
     "metadata": {},
     "output_type": "display_data"
    },
    {
     "data": {
      "text/plain": [
       "0.038665997993981946"
      ]
     },
     "metadata": {},
     "output_type": "display_data"
    },
    {
     "data": {
      "text/plain": [
       "0.008174523570712137"
      ]
     },
     "metadata": {},
     "output_type": "display_data"
    }
   ],
   "source": [
    "display(data['days_exposition'][data['days_exposition']>365].count()/19940)\n",
    "display(data['days_exposition'][data['days_exposition']>547].count()/19940)\n",
    "display(data['days_exposition'][data['days_exposition']>720].count()/19940)\n",
    "display(data['days_exposition'][data['days_exposition']>1095].count()/19940)"
   ]
  },
  {
   "cell_type": "markdown",
   "metadata": {},
   "source": [
    "Итого, 15% квартир продавалось больше года, 7% продавались больше полутора лет, 4% квартир продавались дольше двух лет, 1% квартир продавался дольше трех лет."
   ]
  },
  {
   "cell_type": "markdown",
   "metadata": {},
   "source": [
    "Таким образом, продажи быстрее трех месяцев можно назвать быстрыми, продажи дольше трех лет можно назвать необычно долгими."
   ]
  },
  {
   "cell_type": "markdown",
   "metadata": {},
   "source": [
    "4.3 Теперь изучим факторы, влияющие на стоимость квартир."
   ]
  },
  {
   "cell_type": "markdown",
   "metadata": {},
   "source": [
    "Исследуем зависимость цены от общей площади."
   ]
  },
  {
   "cell_type": "markdown",
   "metadata": {},
   "source": [
    "Значений площади очень много, поэтому нужно группировать данные и исследовать среднюю цену по группе."
   ]
  },
  {
   "cell_type": "markdown",
   "metadata": {},
   "source": [
    "Разобьем все квартиры на категории по общей площади:\n",
    "\n",
    "0-10 кв.м. - 0 категория\n",
    "\n",
    "10-20 кв.м. - 1 категория \n",
    "\n",
    "20-30 кв.м - 2 категория и т.д."
   ]
  },
  {
   "cell_type": "code",
   "execution_count": 87,
   "metadata": {},
   "outputs": [],
   "source": [
    "#создаем столбец категорий по общей площади, категория - это целая часть от деления на 10\n",
    "data['total_area_category']=data['total_area']//10"
   ]
  },
  {
   "cell_type": "markdown",
   "metadata": {},
   "source": [
    "Теперь построим график зависимости цены от категории общей площади."
   ]
  },
  {
   "cell_type": "code",
   "execution_count": 88,
   "metadata": {},
   "outputs": [
    {
     "data": {
      "image/png": "[encoded data removed]",
      "text/plain": [
       "<Figure size 720x432 with 1 Axes>"
      ]
     },
     "metadata": {
      "needs_background": "light"
     },
     "output_type": "display_data"
    }
   ],
   "source": [
    "#формируем сводную таблицу по категориям общей площади, считаем среднюю цену квартиры по категориям \n",
    "#рисуем график зависимости цены от категории\n",
    "data.pivot_table(index='total_area_category', values='last_price').plot(style='o',figsize=(10,6),legend=True)\n",
    "\n",
    "plt.title('price from total_area_category') \n",
    "plt.xlabel('total_area_category')\n",
    "plt.ylabel('price_mean, 100*mln')\n",
    "  \n",
    "plt.show()"
   ]
  },
  {
   "cell_type": "markdown",
   "metadata": {},
   "source": [
    "Из графика видно, что для квартир до категории 20, то есть общей площадью до 200 м.кв. зависимость цены от площади почти линейная. Для больших категорий никакой зависимости цены от площади не наблюдается."
   ]
  },
  {
   "cell_type": "markdown",
   "metadata": {},
   "source": [
    "Посмотрим, сколько в базе квартир с площадью больше 200 кв.м."
   ]
  },
  {
   "cell_type": "code",
   "execution_count": 89,
   "metadata": {},
   "outputs": [
    {
     "data": {
      "text/plain": [
       "200"
      ]
     },
     "metadata": {},
     "output_type": "display_data"
    }
   ],
   "source": [
    "display(data['total_area'][data['total_area']>200].count())"
   ]
  },
  {
   "cell_type": "markdown",
   "metadata": {},
   "source": [
    "Таких квартир всего 200, то есть меньше 1% от общего числа, поэтому их влиянием можно пренебречь и считать зависимость цены квартиры от площади линейной."
   ]
  },
  {
   "cell_type": "markdown",
   "metadata": {},
   "source": [
    "Посчитаем корреляцию общей площади и цены квартиры."
   ]
  },
  {
   "cell_type": "code",
   "execution_count": 90,
   "metadata": {},
   "outputs": [
    {
     "data": {
      "text/plain": [
       "0.6381698819023234"
      ]
     },
     "metadata": {},
     "output_type": "display_data"
    }
   ],
   "source": [
    "display(data['total_area'].corr(data['last_price']))"
   ]
  },
  {
   "cell_type": "markdown",
   "metadata": {},
   "source": [
    "0.64 - довольно большой коэффициент, говорящий о наличии линейной взаимосвязи между двумя величинами."
   ]
  },
  {
   "cell_type": "markdown",
   "metadata": {},
   "source": [
    "То же самое можно проделать с жилой площадью, разбить все данные на категории, как в случае с общей площадью."
   ]
  },
  {
   "cell_type": "code",
   "execution_count": 91,
   "metadata": {},
   "outputs": [],
   "source": [
    "#создаем столбец категорий по жилой площади, категория - это целая часть от деления на 10\n",
    "data['living_area_category']=data['living_area']//10"
   ]
  },
  {
   "cell_type": "code",
   "execution_count": 92,
   "metadata": {},
   "outputs": [
    {
     "data": {
      "image/png": "[encoded data removed]",
      "text/plain": [
       "<Figure size 720x432 with 1 Axes>"
      ]
     },
     "metadata": {
      "needs_background": "light"
     },
     "output_type": "display_data"
    }
   ],
   "source": [
    "#формируем сводную таблицу по категориям жилой площади, считаем среднюю цену квартиры по категориям \n",
    "#рисуем график зависимости цены от категории\n",
    "data.pivot_table(index='living_area_category', values='last_price').plot(style='o',figsize=(10,6),legend=True)\n",
    "plt.title('price from living_area_category') \n",
    "plt.xlabel('living_area_category')\n",
    "plt.ylabel('price_mean, 100*mln')\n",
    "  \n",
    "plt.show()"
   ]
  },
  {
   "cell_type": "markdown",
   "metadata": {},
   "source": [
    "На этом графике тоже прослеживается линейная зависимость цены от жилой площади, по крайней мере для квартир с жилой площадью до 170 кв.м. "
   ]
  },
  {
   "cell_type": "markdown",
   "metadata": {},
   "source": [
    "Посчитаем число квартир с жилой площадью больше 170 м."
   ]
  },
  {
   "cell_type": "code",
   "execution_count": 93,
   "metadata": {},
   "outputs": [
    {
     "data": {
      "text/plain": [
       "57"
      ]
     },
     "metadata": {},
     "output_type": "display_data"
    }
   ],
   "source": [
    "display(data['living_area'][data['living_area']>170].count())"
   ]
  },
  {
   "cell_type": "markdown",
   "metadata": {},
   "source": [
    "Таких квартир всего 57, поэтому их влиянием можно пренебречь. Считаем зависимость цены от жилой площади линейной."
   ]
  },
  {
   "cell_type": "markdown",
   "metadata": {},
   "source": [
    "Посчитаем корреляцию жилой площади и цены квартиры."
   ]
  },
  {
   "cell_type": "code",
   "execution_count": 94,
   "metadata": {},
   "outputs": [
    {
     "data": {
      "text/plain": [
       "0.5403495648957498"
      ]
     },
     "metadata": {},
     "output_type": "display_data"
    }
   ],
   "source": [
    "display(data['living_area'].corr(data['last_price']))"
   ]
  },
  {
   "cell_type": "markdown",
   "metadata": {},
   "source": [
    "0.54 - не очень большой коэффициент, но про линейную связь двух величин говорить можно."
   ]
  },
  {
   "cell_type": "markdown",
   "metadata": {},
   "source": [
    "Площадь кухни обычно сильно меньше общей, поэтому разобьем данные на более мелкие категории:\n",
    "\n",
    "0-5 м,\n",
    "\n",
    "5-10 м  и т.д."
   ]
  },
  {
   "cell_type": "code",
   "execution_count": 95,
   "metadata": {},
   "outputs": [],
   "source": [
    "#создаем столбец категорий по площади кухни, категория - это целая часть от деления на 5\n",
    "data['kitchen_area_category']=data['kitchen_area']//5"
   ]
  },
  {
   "cell_type": "code",
   "execution_count": 96,
   "metadata": {},
   "outputs": [
    {
     "data": {
      "image/png": "[encoded data removed]",
      "text/plain": [
       "<Figure size 720x432 with 1 Axes>"
      ]
     },
     "metadata": {
      "needs_background": "light"
     },
     "output_type": "display_data"
    }
   ],
   "source": [
    "#формируем сводную таблицу по категориям площади кухни, считаем среднюю цену квартиры по категориям \n",
    "#рисуем график зависимости цены от категории\n",
    "data.pivot_table(index='kitchen_area_category', values='last_price').plot(style='o',figsize=(10,6),legend=True)\n",
    "plt.title('price from kitchen_area_category') \n",
    "plt.xlabel('kitchen_area_category')\n",
    "plt.ylabel('price_mean, 100*mln')\n",
    "  \n",
    "plt.show()"
   ]
  },
  {
   "cell_type": "markdown",
   "metadata": {},
   "source": [
    "На графике зависимость тоже выглядит линейной, как и в случае с общей и жилой площадью, за исключением пары выбивающихся значений (14 и 20 категории). Но поскольку в категориях выше 13 находится всего 12 записей, эти выбросы не меняют характер исходной линейной зависимости."
   ]
  },
  {
   "cell_type": "code",
   "execution_count": 97,
   "metadata": {},
   "outputs": [
    {
     "data": {
      "text/plain": [
       "12"
      ]
     },
     "metadata": {},
     "output_type": "display_data"
    }
   ],
   "source": [
    "#число записей в категориях выше 13\n",
    "display(data['kitchen_area'][data['kitchen_area']>13*5].count())"
   ]
  },
  {
   "cell_type": "markdown",
   "metadata": {},
   "source": [
    "Посчитаем корреляцию площади кухни и цены квартиры."
   ]
  },
  {
   "cell_type": "code",
   "execution_count": 98,
   "metadata": {},
   "outputs": [
    {
     "data": {
      "text/plain": [
       "0.43491602224380066"
      ]
     },
     "metadata": {},
     "output_type": "display_data"
    }
   ],
   "source": [
    "display(data['kitchen_area'].corr(data['last_price']))"
   ]
  },
  {
   "cell_type": "markdown",
   "metadata": {},
   "source": [
    "0.43 - небольшой коэффициент, говорит о несильной линейной связи между величинами."
   ]
  },
  {
   "cell_type": "markdown",
   "metadata": {},
   "source": [
    "По числу комнат категорий создавать не нужно, достаточно посчитать среднюю цену квартиры для каждого числа комнат и построить график."
   ]
  },
  {
   "cell_type": "code",
   "execution_count": 99,
   "metadata": {},
   "outputs": [
    {
     "data": {
      "image/png": "[encoded data removed]",
      "text/plain": [
       "<Figure size 720x432 with 1 Axes>"
      ]
     },
     "metadata": {
      "needs_background": "light"
     },
     "output_type": "display_data"
    }
   ],
   "source": [
    "#формируем сводную таблицу по количеству комнат, считаем среднюю цену квартиры по каждому числу комнат\n",
    "#рисуем график зависимости цены от количества комнат\n",
    "data.pivot_table(index='rooms', values='last_price').plot(style='o',figsize=(10,6),legend=True)\n",
    "plt.title('price from rooms') \n",
    "plt.xlabel('rooms')\n",
    "plt.ylabel('price_mean, 10*mln')\n",
    "  \n",
    "plt.show()"
   ]
  },
  {
   "cell_type": "markdown",
   "metadata": {},
   "source": [
    "Как и следовало ожидать, с количеством комнат цена квартир увеличивается. Однако зависимость не выглядит линейной,  больше похожа на степенную функцию. 8-комнатные квартиры выбиваются из общей картины, но их количество снова невелико."
   ]
  },
  {
   "cell_type": "code",
   "execution_count": 100,
   "metadata": {},
   "outputs": [
    {
     "data": {
      "text/plain": [
       "11"
      ]
     },
     "metadata": {},
     "output_type": "display_data"
    }
   ],
   "source": [
    "#число 8-комнатных квартир\n",
    "display(data['rooms'][data['rooms']==8].count())"
   ]
  },
  {
   "cell_type": "markdown",
   "metadata": {},
   "source": [
    "Посчитаем корреляцию числа комнат и цены квартиры."
   ]
  },
  {
   "cell_type": "code",
   "execution_count": 101,
   "metadata": {},
   "outputs": [
    {
     "data": {
      "text/plain": [
       "0.3534071641571838"
      ]
     },
     "metadata": {},
     "output_type": "display_data"
    }
   ],
   "source": [
    "display(data['rooms'].corr(data['last_price']))"
   ]
  },
  {
   "cell_type": "markdown",
   "metadata": {},
   "source": [
    "0.35 - небольшое значение, зависимость нелинейная."
   ]
  },
  {
   "cell_type": "markdown",
   "metadata": {},
   "source": [
    "Исследуем зависимость стоимости квартиры от категории этажа.  "
   ]
  },
  {
   "cell_type": "code",
   "execution_count": 102,
   "metadata": {},
   "outputs": [
    {
     "data": {
      "image/png": "[encoded data removed]",
      "text/plain": [
       "<Figure size 720x432 with 1 Axes>"
      ]
     },
     "metadata": {
      "needs_background": "light"
     },
     "output_type": "display_data"
    }
   ],
   "source": [
    "#формируем сводную таблицу по категории этажа, считаем среднюю цену квартиры для каждой категории\n",
    "#рисуем график зависимости цены от категории этажа\n",
    "data.pivot_table(index='floor_category', values='last_price').plot(style='o',figsize=(10,6),legend=True)\n",
    "plt.title('price from floor_category') \n",
    "plt.xlabel('floor_category')\n",
    "plt.ylabel('price_mean, mln')\n",
    "  \n",
    "plt.show()"
   ]
  },
  {
   "cell_type": "markdown",
   "metadata": {},
   "source": [
    "Квартиры на первом этаже почти в полтора раза дешевле квртир на других этажах. Интересно, что квартиры на последних этажах оказались дороже остальных. Видимо, это квартиры в новостройках, в которых не заливает крышу, или дорогие пентхаусы."
   ]
  },
  {
   "cell_type": "markdown",
   "metadata": {},
   "source": [
    "Посмотрим, сколько всего квартир на последнем этаже."
   ]
  },
  {
   "cell_type": "code",
   "execution_count": 103,
   "metadata": {},
   "outputs": [
    {
     "data": {
      "text/plain": [
       "14.130905938448201"
      ]
     },
     "metadata": {},
     "output_type": "display_data"
    }
   ],
   "source": [
    "display(data['floor_category'][data['floor_category']=='последний'].count()/230.70)"
   ]
  },
  {
   "cell_type": "markdown",
   "metadata": {},
   "source": [
    "Больше 14%, довольно много,  поэтому это не случайное отклонение. Квартиры на последнем этаже оказались самыми дорогими."
   ]
  },
  {
   "cell_type": "markdown",
   "metadata": {},
   "source": [
    "Посмотрим, как зависит цена от дня недели, в который было размещено объявление. "
   ]
  },
  {
   "cell_type": "code",
   "execution_count": 104,
   "metadata": {},
   "outputs": [
    {
     "data": {
      "image/png": "[encoded data removed]",
      "text/plain": [
       "<Figure size 720x432 with 1 Axes>"
      ]
     },
     "metadata": {
      "needs_background": "light"
     },
     "output_type": "display_data"
    }
   ],
   "source": [
    "#формируем сводную таблицу по дню недели, считаем среднюю цену квартиры для каждого дня\n",
    "#рисуем график зависимости цены от дня недели\n",
    "data.pivot_table(index='day_of_week', values='last_price').plot(style='o',figsize=(10,6),legend=True)\n",
    "plt.title('price from day_of_week') \n",
    "plt.xlabel('day_of_week')\n",
    "plt.ylabel('price_mean, mln')\n",
    "  \n",
    "plt.show()"
   ]
  },
  {
   "cell_type": "markdown",
   "metadata": {},
   "source": [
    "Явной зависимости на этом графике не прослеживается. "
   ]
  },
  {
   "cell_type": "markdown",
   "metadata": {},
   "source": [
    "Можно посмотреть, сколько объявлений размещалось в разные дни."
   ]
  },
  {
   "cell_type": "code",
   "execution_count": 105,
   "metadata": {},
   "outputs": [
    {
     "data": {
      "text/html": [
       "<div>\n",
       "<style scoped>\n",
       "    .dataframe tbody tr th:only-of-type {\n",
       "        vertical-align: middle;\n",
       "    }\n",
       "\n",
       "    .dataframe tbody tr th {\n",
       "        vertical-align: top;\n",
       "    }\n",
       "\n",
       "    .dataframe thead th {\n",
       "        text-align: right;\n",
       "    }\n",
       "</style>\n",
       "<table border=\"1\" class=\"dataframe\">\n",
       "  <thead>\n",
       "    <tr style=\"text-align: right;\">\n",
       "      <th></th>\n",
       "      <th>last_price</th>\n",
       "    </tr>\n",
       "    <tr>\n",
       "      <th>day_of_week</th>\n",
       "      <th></th>\n",
       "    </tr>\n",
       "  </thead>\n",
       "  <tbody>\n",
       "    <tr>\n",
       "      <th>0</th>\n",
       "      <td>3525</td>\n",
       "    </tr>\n",
       "    <tr>\n",
       "      <th>1</th>\n",
       "      <td>4055</td>\n",
       "    </tr>\n",
       "    <tr>\n",
       "      <th>2</th>\n",
       "      <td>3866</td>\n",
       "    </tr>\n",
       "    <tr>\n",
       "      <th>3</th>\n",
       "      <td>4176</td>\n",
       "    </tr>\n",
       "    <tr>\n",
       "      <th>4</th>\n",
       "      <td>3893</td>\n",
       "    </tr>\n",
       "    <tr>\n",
       "      <th>5</th>\n",
       "      <td>1884</td>\n",
       "    </tr>\n",
       "    <tr>\n",
       "      <th>6</th>\n",
       "      <td>1640</td>\n",
       "    </tr>\n",
       "  </tbody>\n",
       "</table>\n",
       "</div>"
      ],
      "text/plain": [
       "             last_price\n",
       "day_of_week            \n",
       "0                  3525\n",
       "1                  4055\n",
       "2                  3866\n",
       "3                  4176\n",
       "4                  3893\n",
       "5                  1884\n",
       "6                  1640"
      ]
     },
     "execution_count": 105,
     "metadata": {},
     "output_type": "execute_result"
    }
   ],
   "source": [
    "data.pivot_table(index='day_of_week', values='last_price',aggfunc='count')"
   ]
  },
  {
   "cell_type": "markdown",
   "metadata": {},
   "source": [
    "Видно, что основная масса объявлений выкладывалась в будние дни, в выходные публиковалось в среднем в два раза меньше объявлений, чем в любой будний день. Возможно, поэтому такой размах в цене на выходных - там меньше данных, поэтому выбросы сильнее смещают среднее значение цены."
   ]
  },
  {
   "cell_type": "markdown",
   "metadata": {},
   "source": [
    "Посчитаем корреляцию дня размещения и цены квартиры."
   ]
  },
  {
   "cell_type": "code",
   "execution_count": 106,
   "metadata": {},
   "outputs": [
    {
     "data": {
      "text/plain": [
       "0.002573589191553992"
      ]
     },
     "metadata": {},
     "output_type": "display_data"
    }
   ],
   "source": [
    "display(data['day_of_week'].corr(data['last_price']))"
   ]
  },
  {
   "cell_type": "markdown",
   "metadata": {},
   "source": [
    "Очень маленький коэффициент, связи между величинами нет."
   ]
  },
  {
   "cell_type": "markdown",
   "metadata": {},
   "source": [
    "Построим график зависимости цены от месяца размещения."
   ]
  },
  {
   "cell_type": "code",
   "execution_count": 107,
   "metadata": {},
   "outputs": [
    {
     "data": {
      "image/png": "[encoded data removed]",
      "text/plain": [
       "<Figure size 720x432 with 1 Axes>"
      ]
     },
     "metadata": {
      "needs_background": "light"
     },
     "output_type": "display_data"
    }
   ],
   "source": [
    "#формируем сводную таблицу по месяцу, считаем среднюю цену квартиры для каждого месяца\n",
    "#рисуем график зависимости цены от дня недели\n",
    "data.pivot_table(index='month', values='last_price').plot(style='o',figsize=(10,6),legend=True)\n",
    "plt.title('price from month') \n",
    "plt.xlabel('month')\n",
    "plt.ylabel('price_mean, mln')\n",
    "  \n",
    "plt.show()"
   ]
  },
  {
   "cell_type": "markdown",
   "metadata": {},
   "source": [
    "Здесь тоже не видно никакой зависимости.\n",
    "\n",
    "Можно посчитать коэффициент корреляции месяца и цены квартиры."
   ]
  },
  {
   "cell_type": "code",
   "execution_count": 108,
   "metadata": {},
   "outputs": [
    {
     "data": {
      "text/plain": [
       "0.0007468752065557684"
      ]
     },
     "metadata": {},
     "output_type": "display_data"
    }
   ],
   "source": [
    "display(data['month'].corr(data['last_price']))"
   ]
  },
  {
   "cell_type": "markdown",
   "metadata": {},
   "source": [
    "С таким коэффициентом корреляции ни о какой зависимости говорить не приходится."
   ]
  },
  {
   "cell_type": "markdown",
   "metadata": {},
   "source": [
    "Построим график зависимости цены квартиры от года размещения объявления."
   ]
  },
  {
   "cell_type": "code",
   "execution_count": 109,
   "metadata": {},
   "outputs": [
    {
     "data": {
      "image/png": "[encoded data removed]",
      "text/plain": [
       "<Figure size 720x432 with 1 Axes>"
      ]
     },
     "metadata": {
      "needs_background": "light"
     },
     "output_type": "display_data"
    }
   ],
   "source": [
    "data.pivot_table(index='year', values='last_price').plot(style='o',figsize=(10,6),legend=True)\n",
    "plt.title('price from year') \n",
    "plt.xlabel('year')\n",
    "plt.ylabel('price_mean, 10*mln')\n",
    "  \n",
    "plt.show()"
   ]
  },
  {
   "cell_type": "markdown",
   "metadata": {},
   "source": [
    "Посчитаем корреляцию года размещения объявления и цены квартиры."
   ]
  },
  {
   "cell_type": "code",
   "execution_count": 110,
   "metadata": {},
   "outputs": [
    {
     "data": {
      "text/plain": [
       "-0.043942462160309385"
      ]
     },
     "metadata": {},
     "output_type": "display_data"
    }
   ],
   "source": [
    "display(data['year'].corr(data['last_price']))"
   ]
  },
  {
   "cell_type": "markdown",
   "metadata": {},
   "source": [
    "Коэффициент очень маленький и отрицательный, говорит о небольшой обратной связи между переменными, но она явно не линейная."
   ]
  },
  {
   "cell_type": "markdown",
   "metadata": {},
   "source": [
    "Таким образом, влияют на стоимость квартиры общая, жилая площадь, площадь кухни, количество комнат, этаж и год размещения объявления. День и месяц размещения на цену квартиры не влияют."
   ]
  },
  {
   "cell_type": "markdown",
   "metadata": {},
   "source": [
    "По графику видно, что с 2014 года средняя стоимость квартиры уменьшалась, и только в 2019 году обозначился небольшой рост стоимости."
   ]
  },
  {
   "cell_type": "markdown",
   "metadata": {},
   "source": [
    "4.4 Посчитаем среднюю цену за кв.м. в 10 населенных пунктах с наибольшим числом объявлений."
   ]
  },
  {
   "cell_type": "code",
   "execution_count": 111,
   "metadata": {},
   "outputs": [
    {
     "data": {
      "text/html": [
       "<div>\n",
       "<style scoped>\n",
       "    .dataframe tbody tr th:only-of-type {\n",
       "        vertical-align: middle;\n",
       "    }\n",
       "\n",
       "    .dataframe tbody tr th {\n",
       "        vertical-align: top;\n",
       "    }\n",
       "\n",
       "    .dataframe thead th {\n",
       "        text-align: right;\n",
       "    }\n",
       "</style>\n",
       "<table border=\"1\" class=\"dataframe\">\n",
       "  <thead>\n",
       "    <tr style=\"text-align: right;\">\n",
       "      <th></th>\n",
       "      <th>Число записей</th>\n",
       "      <th>Средняя цена за кв.м.</th>\n",
       "    </tr>\n",
       "    <tr>\n",
       "      <th>locality_name</th>\n",
       "      <th></th>\n",
       "      <th></th>\n",
       "    </tr>\n",
       "  </thead>\n",
       "  <tbody>\n",
       "    <tr>\n",
       "      <th>Санкт-Петербург</th>\n",
       "      <td>15345</td>\n",
       "      <td>114538</td>\n",
       "    </tr>\n",
       "    <tr>\n",
       "      <th>поселок Мурино</th>\n",
       "      <td>500</td>\n",
       "      <td>84665</td>\n",
       "    </tr>\n",
       "    <tr>\n",
       "      <th>поселок Шушары</th>\n",
       "      <td>430</td>\n",
       "      <td>78017</td>\n",
       "    </tr>\n",
       "    <tr>\n",
       "      <th>Всеволожск</th>\n",
       "      <td>385</td>\n",
       "      <td>68668</td>\n",
       "    </tr>\n",
       "    <tr>\n",
       "      <th>Пушкин</th>\n",
       "      <td>369</td>\n",
       "      <td>103125</td>\n",
       "    </tr>\n",
       "    <tr>\n",
       "      <th>Колпино</th>\n",
       "      <td>335</td>\n",
       "      <td>75396</td>\n",
       "    </tr>\n",
       "    <tr>\n",
       "      <th>поселок Парголово</th>\n",
       "      <td>321</td>\n",
       "      <td>90293</td>\n",
       "    </tr>\n",
       "    <tr>\n",
       "      <th>Гатчина</th>\n",
       "      <td>302</td>\n",
       "      <td>68699</td>\n",
       "    </tr>\n",
       "    <tr>\n",
       "      <th>деревня Кудрово</th>\n",
       "      <td>267</td>\n",
       "      <td>91987</td>\n",
       "    </tr>\n",
       "    <tr>\n",
       "      <th>Выборг</th>\n",
       "      <td>232</td>\n",
       "      <td>57826</td>\n",
       "    </tr>\n",
       "  </tbody>\n",
       "</table>\n",
       "</div>"
      ],
      "text/plain": [
       "                   Число записей  Средняя цена за кв.м.\n",
       "locality_name                                          \n",
       "Санкт-Петербург            15345                 114538\n",
       "поселок Мурино               500                  84665\n",
       "поселок Шушары               430                  78017\n",
       "Всеволожск                   385                  68668\n",
       "Пушкин                       369                 103125\n",
       "Колпино                      335                  75396\n",
       "поселок Парголово            321                  90293\n",
       "Гатчина                      302                  68699\n",
       "деревня Кудрово              267                  91987\n",
       "Выборг                       232                  57826"
      ]
     },
     "metadata": {},
     "output_type": "display_data"
    }
   ],
   "source": [
    "#Создаем сводную таблицу, группируем по названию нас.пункта, выводим число записей и среднее по цене за кв.м.\n",
    "#сортируем по числу записей\n",
    "data_average=data.pivot_table(index='locality_name', values='price_meter',aggfunc={'count','mean'}).sort_values(by='count', ascending=False)\n",
    "#для удобства отображения меняем тип средней цены на целочисленный\n",
    "data_average['mean']=data_average['mean'].astype('int',errors='raise')\n",
    "#меняем названия столбцов\n",
    "data_average=data_average.rename(columns={'count':'Число записей','mean':'Средняя цена за кв.м.'})\n",
    "display(data_average.head(10))"
   ]
  },
  {
   "cell_type": "markdown",
   "metadata": {},
   "source": [
    "Самая высокая стоимость квадратного метра оказалась в Санкт-Петербурге и в Пушкине, самая низкая стоимость - в Выборге."
   ]
  },
  {
   "cell_type": "markdown",
   "metadata": {},
   "source": [
    "4.5 Исследуем зависимость стоимости квартиры в Санкт-Петербурге в зависимости от растояния до центра."
   ]
  },
  {
   "cell_type": "markdown",
   "metadata": {},
   "source": [
    "Построим сводную таблицу, чтобы вывести количество квартир и среднюю цену в зависимости от расстояния от центра (км)."
   ]
  },
  {
   "cell_type": "code",
   "execution_count": 112,
   "metadata": {},
   "outputs": [
    {
     "data": {
      "text/html": [
       "<div>\n",
       "<style scoped>\n",
       "    .dataframe tbody tr th:only-of-type {\n",
       "        vertical-align: middle;\n",
       "    }\n",
       "\n",
       "    .dataframe tbody tr th {\n",
       "        vertical-align: top;\n",
       "    }\n",
       "\n",
       "    .dataframe thead th {\n",
       "        text-align: right;\n",
       "    }\n",
       "</style>\n",
       "<table border=\"1\" class=\"dataframe\">\n",
       "  <thead>\n",
       "    <tr style=\"text-align: right;\">\n",
       "      <th></th>\n",
       "      <th>Всего квартир</th>\n",
       "      <th>Средняя цена</th>\n",
       "    </tr>\n",
       "    <tr>\n",
       "      <th>cityCenters_nearest_km</th>\n",
       "      <th></th>\n",
       "      <th></th>\n",
       "    </tr>\n",
       "  </thead>\n",
       "  <tbody>\n",
       "    <tr>\n",
       "      <th>0.0</th>\n",
       "      <td>27</td>\n",
       "      <td>31449115</td>\n",
       "    </tr>\n",
       "    <tr>\n",
       "      <th>1.0</th>\n",
       "      <td>187</td>\n",
       "      <td>20902675</td>\n",
       "    </tr>\n",
       "    <tr>\n",
       "      <th>2.0</th>\n",
       "      <td>301</td>\n",
       "      <td>18011528</td>\n",
       "    </tr>\n",
       "    <tr>\n",
       "      <th>3.0</th>\n",
       "      <td>342</td>\n",
       "      <td>10978606</td>\n",
       "    </tr>\n",
       "    <tr>\n",
       "      <th>4.0</th>\n",
       "      <td>673</td>\n",
       "      <td>13208740</td>\n",
       "    </tr>\n",
       "    <tr>\n",
       "      <th>5.0</th>\n",
       "      <td>897</td>\n",
       "      <td>14265852</td>\n",
       "    </tr>\n",
       "    <tr>\n",
       "      <th>6.0</th>\n",
       "      <td>604</td>\n",
       "      <td>14799691</td>\n",
       "    </tr>\n",
       "    <tr>\n",
       "      <th>7.0</th>\n",
       "      <td>414</td>\n",
       "      <td>14622495</td>\n",
       "    </tr>\n",
       "    <tr>\n",
       "      <th>8.0</th>\n",
       "      <td>581</td>\n",
       "      <td>9305881</td>\n",
       "    </tr>\n",
       "    <tr>\n",
       "      <th>9.0</th>\n",
       "      <td>584</td>\n",
       "      <td>7000086</td>\n",
       "    </tr>\n",
       "    <tr>\n",
       "      <th>10.0</th>\n",
       "      <td>702</td>\n",
       "      <td>6430577</td>\n",
       "    </tr>\n",
       "    <tr>\n",
       "      <th>11.0</th>\n",
       "      <td>1162</td>\n",
       "      <td>6237303</td>\n",
       "    </tr>\n",
       "    <tr>\n",
       "      <th>12.0</th>\n",
       "      <td>1566</td>\n",
       "      <td>5865864</td>\n",
       "    </tr>\n",
       "    <tr>\n",
       "      <th>13.0</th>\n",
       "      <td>1415</td>\n",
       "      <td>6127457</td>\n",
       "    </tr>\n",
       "    <tr>\n",
       "      <th>14.0</th>\n",
       "      <td>1246</td>\n",
       "      <td>5667472</td>\n",
       "    </tr>\n",
       "    <tr>\n",
       "      <th>15.0</th>\n",
       "      <td>1541</td>\n",
       "      <td>5896653</td>\n",
       "    </tr>\n",
       "    <tr>\n",
       "      <th>16.0</th>\n",
       "      <td>1243</td>\n",
       "      <td>5396608</td>\n",
       "    </tr>\n",
       "    <tr>\n",
       "      <th>17.0</th>\n",
       "      <td>848</td>\n",
       "      <td>5298643</td>\n",
       "    </tr>\n",
       "    <tr>\n",
       "      <th>18.0</th>\n",
       "      <td>255</td>\n",
       "      <td>5139762</td>\n",
       "    </tr>\n",
       "    <tr>\n",
       "      <th>19.0</th>\n",
       "      <td>152</td>\n",
       "      <td>5115262</td>\n",
       "    </tr>\n",
       "    <tr>\n",
       "      <th>20.0</th>\n",
       "      <td>42</td>\n",
       "      <td>5998613</td>\n",
       "    </tr>\n",
       "    <tr>\n",
       "      <th>21.0</th>\n",
       "      <td>115</td>\n",
       "      <td>5535300</td>\n",
       "    </tr>\n",
       "    <tr>\n",
       "      <th>22.0</th>\n",
       "      <td>201</td>\n",
       "      <td>5422566</td>\n",
       "    </tr>\n",
       "    <tr>\n",
       "      <th>23.0</th>\n",
       "      <td>82</td>\n",
       "      <td>5078756</td>\n",
       "    </tr>\n",
       "    <tr>\n",
       "      <th>24.0</th>\n",
       "      <td>25</td>\n",
       "      <td>3890686</td>\n",
       "    </tr>\n",
       "    <tr>\n",
       "      <th>25.0</th>\n",
       "      <td>23</td>\n",
       "      <td>4229079</td>\n",
       "    </tr>\n",
       "    <tr>\n",
       "      <th>26.0</th>\n",
       "      <td>43</td>\n",
       "      <td>4014287</td>\n",
       "    </tr>\n",
       "    <tr>\n",
       "      <th>27.0</th>\n",
       "      <td>2</td>\n",
       "      <td>8300000</td>\n",
       "    </tr>\n",
       "    <tr>\n",
       "      <th>28.0</th>\n",
       "      <td>7</td>\n",
       "      <td>5026428</td>\n",
       "    </tr>\n",
       "    <tr>\n",
       "      <th>29.0</th>\n",
       "      <td>6</td>\n",
       "      <td>4236666</td>\n",
       "    </tr>\n",
       "  </tbody>\n",
       "</table>\n",
       "</div>"
      ],
      "text/plain": [
       "                        Всего квартир  Средняя цена\n",
       "cityCenters_nearest_km                             \n",
       "0.0                                27      31449115\n",
       "1.0                               187      20902675\n",
       "2.0                               301      18011528\n",
       "3.0                               342      10978606\n",
       "4.0                               673      13208740\n",
       "5.0                               897      14265852\n",
       "6.0                               604      14799691\n",
       "7.0                               414      14622495\n",
       "8.0                               581       9305881\n",
       "9.0                               584       7000086\n",
       "10.0                              702       6430577\n",
       "11.0                             1162       6237303\n",
       "12.0                             1566       5865864\n",
       "13.0                             1415       6127457\n",
       "14.0                             1246       5667472\n",
       "15.0                             1541       5896653\n",
       "16.0                             1243       5396608\n",
       "17.0                              848       5298643\n",
       "18.0                              255       5139762\n",
       "19.0                              152       5115262\n",
       "20.0                               42       5998613\n",
       "21.0                              115       5535300\n",
       "22.0                              201       5422566\n",
       "23.0                               82       5078756\n",
       "24.0                               25       3890686\n",
       "25.0                               23       4229079\n",
       "26.0                               43       4014287\n",
       "27.0                                2       8300000\n",
       "28.0                                7       5026428\n",
       "29.0                                6       4236666"
      ]
     },
     "metadata": {},
     "output_type": "display_data"
    }
   ],
   "source": [
    "#строим сводную таблицу по расстоянию до центра, выводим кол-во записей и среднюю цену для каждой категории \n",
    "data_peter=data[data['locality_name'] == 'Санкт-Петербург']\\\n",
    ".pivot_table(index='cityCenters_nearest_km',values='last_price',aggfunc={'mean','count'})\n",
    "#меняем тип данных на целочисленный для удобства отображения\n",
    "data_peter['mean']=data_peter['mean'].astype('int',errors='raise')\n",
    "#переименовываем столбцы для удобства\n",
    "data_peter=data_peter.rename(columns={'mean':'Средняя цена','count':'Всего квартир'})\n",
    "display(data_peter)"
   ]
  },
  {
   "cell_type": "markdown",
   "metadata": {},
   "source": [
    "Построим график зависимости стоимости квартиры от расстояния до центра."
   ]
  },
  {
   "cell_type": "code",
   "execution_count": 113,
   "metadata": {},
   "outputs": [
    {
     "data": {
      "text/plain": [
       "<matplotlib.axes._subplots.AxesSubplot at 0x13d0dff0>"
      ]
     },
     "execution_count": 113,
     "metadata": {},
     "output_type": "execute_result"
    },
    {
     "data": {
      "image/png": "[encoded data removed]",
      "text/plain": [
       "<Figure size 720x432 with 1 Axes>"
      ]
     },
     "metadata": {
      "needs_background": "light"
     },
     "output_type": "display_data"
    }
   ],
   "source": [
    "data_peter['Средняя цена'].plot(style='o',figsize=(10,6),legend=True)"
   ]
  },
  {
   "cell_type": "markdown",
   "metadata": {},
   "source": [
    "Удивительно выбиваются из графика квартиры с расстоянием 4-7 км до центра. Возможно, это квартиры в очень престижном районе города или дорогой новостройке, большие по площади. Без точной информации по адресам более детальный анализ провести невозможно.\n",
    "\n",
    "Также выбивается из графика значение 27 км до центра, но таких всего две квартиры, поэтому их можно не принимать во внимание.\n",
    "\n",
    "В целом, зависимость выглядит вполне адекватно: чем ближе к центру, тем стоимость квартиры больше."
   ]
  },
  {
   "cell_type": "markdown",
   "metadata": {
    "id": "h7VpzkIDAwb-"
   },
   "source": [
    "### Вывод"
   ]
  },
  {
   "cell_type": "markdown",
   "metadata": {},
   "source": [
    "Проведен  исследовательский анализ данных по продаже квартир в Санкт-Петербурге и соседних населенных пунктах за несколько лет,  установлены параметры, влияющие на цену объектов. \n",
    "\n",
    "1. Проведена Предобработка данных\n",
    "\n",
    "1.1\tРабота с пропусками\n",
    "\n",
    "Строки с пропусками в названии населенного пункта и количестве этажей в доме удалены. Также удалены строки с числом комнат больше 9 как сомнительные.\n",
    "\n",
    "Пропуски в столбцах с жилой площадью и площадью кухни  заменены  на медианные в зависимости от числа комнат. \n",
    "\n",
    "Данные, в которых общая площадь оказалась меньше суммы жилой площади и кухни, удалены как явно ошибочные.\n",
    "\n",
    "Пропуски в  столбце с высотой потолков заменены средним значением, в столбце с числом балконов -  нулем.\n",
    "\n",
    "Пропуски в столбце «апартаменты» , а также «число дней от публикации до снятия объявления» оставлены нетронутыми. \n",
    "\n",
    "Для пригородов Санкт-Петербурга  расстояние до аэропорта и до центра  заменено на среднее по расстоянию в одном городе/ поселке.\n",
    "\n",
    "Для Санкт-Петербурга эти пропуски оставлены как есть.\n",
    "\n",
    "В столбцах, связанных с расстоянием до парков и прудов, пропуски также остались нетронутыми.\n",
    "\n",
    "\n",
    "1.2\tИзменение типа данных.\n",
    "\n",
    "Дату публикации  сохранена в формате даты и времени.\n",
    "\n",
    "Вещественный тип данных в «числе этажей» заменен на целочисленный.\n",
    "\n",
    "1.3\tОбработка дубликатов\n",
    "\n",
    "Явных дубликатов в датафрейме  не оказалось.\n",
    "\n",
    "Неявные дубликаты в названиях населенных пунктов устранены:\n",
    "во всех названиях буква «ё» заменена на «е»,  и «поселок городского типа Рябово» заменен на «поселок Рябово».\n",
    "\n",
    "1.4  Новые столбцы\n",
    "\n",
    "В таблицу для упрощения анализа данных добавлены столбцы  с ценой за квадратный метр, днем  недели, месяцем и годом публикации объявления, типом этажа квартиры  (первый, последний, другой), а так же расстояние до центра города в км.\n",
    "\n",
    "2.  Исследовательский анализ данных\n",
    "\n",
    "Из построенных гистограмм можно сделать следующие выводы:\n",
    "* \tабсолютное большинство квартир - площадью до 100 кв.м. Наиболее популярные - небольшие площадью до 50 кв.м.\n",
    "* \tочень много квартир с маленькой жилой площадью (меньше 20 кв.м.), почти 30%.\n",
    "* \tчаще всего кухни в квартирах имеют площадь около 10 кв.м.\n",
    "* \tбольшинство квартир имеют стоимость около 5 млн.\n",
    "* \tнаиболее популярные квартиры - одно- и двухкомнатные, затем трехкомнатные \n",
    "* \tв большинстве квартир высота потолка от 2 до 4 метров\n",
    "* \tквартир на первом и последнем этаже примерно поровну, в то время как на других этажах примерно в 5 раз больше, чем на первом или последнем\n",
    "* \tбольше всего предложений среди пятиэтажек, затем девятиэтажек\n",
    "* \tбольшинство квартир, у которых указано расстояние, находятся в пределах 20 км от центра города\n",
    "* \tбольшинство квартир, у которых указано расстояние до парка, находятся в пределах 1 км до него, но таких квартир всего треть от общего числа.\n",
    "\n",
    "По результатам анализа гистограмм заменены данные в столбце с высотой потолка: значения от 20 до 40  поделены на 10, затем строки со значением высоты потолка больше 4,5 м удалены как ошибочные.\n",
    "\n",
    "Также удалены записи с  числом этажей больше 35.\n",
    "\n",
    "3. Длительность продажи квартир\n",
    "\n",
    " Большинство квартир продавалось за три месяца, но часть квартир продавалась очень долго: 1% квартир продавался дольше трех лет.\n",
    "Поэтому продажи быстрее трех месяцев можно назвать быстрыми, продажи дольше трех лет можно назвать необычно долгими.\n",
    "\n",
    "4. Факторы, влияющие на стоимость квартир\n",
    "\n",
    "По результатам анализа выявлена прямая линейная  зависимость стоимости квартиры от общей  и жилой площади. \n",
    "\n",
    "Аналогично с  площадью кухни:  чем больше кухня – тем выше цена квартиры .\n",
    "\n",
    "Стоимость квартиры с количеством комнат увеличивается, однако зависимость не выглядит линейной.\n",
    "\n",
    "Квартиры на первом этаже почти в полтора раза дешевле квартир на других этажах. Квартиры на последних этажах оказались дороже остальных. \n",
    "\n",
    "Зависимости стоимости квартиры от дня и месяца размещения объявления не выявлено, но по годам прослеживается явная тенденция.\n",
    "С 2014 года средняя стоимость квартиры уменьшалась, и только в 2019 году обозначился небольшой рост.\n",
    "\n",
    "5. Средняя цена за кв.м. в 10 населенных пунктах с наибольшим числом объявлений.\n",
    "\n",
    "Самая высокая стоимость квадратного метра оказалась в Санкт-Петербурге и в Пушкине, самая низкая стоимость - в Выборге.\n",
    "\n",
    "6. Зависимость стоимости квартиры в Санкт-Петербурге от растояния до центра.\n",
    "\n",
    "Вполне логично выявлена зависимость: чем ближе к центру, тем стоимость квартиры больше.\n",
    "Но из общей последовательности выбиваются значения 4-7 км до центра: квартиры с таким расстоянием до центра стоят больше ожидаемого. По всей видимости, это квартиры в очень престижном районе или современной новостройке. \n",
    "\n",
    "Таким образом, главными параметрами, влияющими на стоимость объекта, оказались:\n",
    "\n",
    "\n",
    "* \tобщая площадь;ать для \n",
    "* \tжилая площадь;\n",
    "* \tплощадь кухни;\n",
    "* \tколичество комнат;\n",
    "* \tтип этажа квартиры («первый», «последний», «другой»);\n",
    "* \tрасстояние до центра города.\n",
    "\n",
    "По площади (и общей, и жилой, и кухни) и количеству комнат зависимость оказалась прямая, \n",
    "\n",
    "по расстоянию от центра города - обратная, \n",
    "\n",
    "по типу этажа: первый этаж самый дешевый, последний - самый дорогой.\n",
    "\n",
    "Полученные выводы можно использовпостроения автоматизированной системы по поиску аномальных объявлений с целью пресечения мошеннической деятельности.\n",
    "\n",
    "\n"
   ]
  }
 ],
 "metadata": {
  "ExecuteTimeLog": [
   {
    "duration": 73,
    "start_time": "2024-09-21T07:04:21.632Z"
   },
   {
    "duration": 89,
    "start_time": "2024-09-21T07:04:45.181Z"
   },
   {
    "duration": 69,
    "start_time": "2024-09-21T07:05:43.192Z"
   },
   {
    "duration": 107,
    "start_time": "2024-09-21T07:05:54.139Z"
   },
   {
    "duration": 64,
    "start_time": "2024-09-21T07:10:41.821Z"
   },
   {
    "duration": 614,
    "start_time": "2024-09-21T07:12:13.468Z"
   },
   {
    "duration": 99,
    "start_time": "2024-09-21T07:12:34.213Z"
   },
   {
    "duration": 100,
    "start_time": "2024-09-21T07:36:58.876Z"
   },
   {
    "duration": 59,
    "start_time": "2024-09-21T07:37:16.042Z"
   },
   {
    "duration": 94,
    "start_time": "2024-09-21T07:38:35.011Z"
   },
   {
    "duration": 92,
    "start_time": "2024-09-21T07:38:48.691Z"
   },
   {
    "duration": 111,
    "start_time": "2024-09-21T07:39:23.060Z"
   },
   {
    "duration": 699,
    "start_time": "2024-09-22T13:46:16.185Z"
   },
   {
    "duration": 90,
    "start_time": "2024-09-22T13:46:16.886Z"
   },
   {
    "duration": 14,
    "start_time": "2024-09-22T13:46:16.977Z"
   },
   {
    "duration": 16,
    "start_time": "2024-09-22T13:48:25.948Z"
   },
   {
    "duration": 2372,
    "start_time": "2024-09-22T13:50:44.065Z"
   },
   {
    "duration": 557,
    "start_time": "2024-09-23T06:40:04.591Z"
   },
   {
    "duration": 99,
    "start_time": "2024-09-23T06:40:05.150Z"
   },
   {
    "duration": 2490,
    "start_time": "2024-09-23T06:40:05.251Z"
   },
   {
    "duration": 16,
    "start_time": "2024-09-23T06:40:07.743Z"
   },
   {
    "duration": 13,
    "start_time": "2024-09-23T06:40:07.761Z"
   },
   {
    "duration": 12,
    "start_time": "2024-09-23T06:40:07.776Z"
   },
   {
    "duration": 20,
    "start_time": "2024-09-23T06:40:23.866Z"
   },
   {
    "duration": 10,
    "start_time": "2024-09-23T06:41:28.331Z"
   },
   {
    "duration": 173,
    "start_time": "2024-09-23T07:18:16.219Z"
   },
   {
    "duration": 162,
    "start_time": "2024-09-23T07:18:57.926Z"
   },
   {
    "duration": 15,
    "start_time": "2024-09-23T07:40:56.822Z"
   },
   {
    "duration": 98,
    "start_time": "2024-09-23T07:41:31.670Z"
   },
   {
    "duration": 8,
    "start_time": "2024-09-23T07:41:53.288Z"
   },
   {
    "duration": 11,
    "start_time": "2024-09-23T07:42:51.918Z"
   },
   {
    "duration": 9,
    "start_time": "2024-09-23T07:44:18.102Z"
   },
   {
    "duration": 9,
    "start_time": "2024-09-23T07:52:03.419Z"
   },
   {
    "duration": 17,
    "start_time": "2024-09-23T07:52:12.627Z"
   },
   {
    "duration": 19,
    "start_time": "2024-09-23T07:52:26.884Z"
   },
   {
    "duration": 10,
    "start_time": "2024-09-23T08:03:30.886Z"
   },
   {
    "duration": 21,
    "start_time": "2024-09-23T08:04:00.483Z"
   },
   {
    "duration": 17,
    "start_time": "2024-09-23T08:05:33.339Z"
   },
   {
    "duration": 96,
    "start_time": "2024-09-23T08:06:49.621Z"
   },
   {
    "duration": 108,
    "start_time": "2024-09-23T08:06:49.719Z"
   },
   {
    "duration": 2192,
    "start_time": "2024-09-23T08:06:49.829Z"
   },
   {
    "duration": 25,
    "start_time": "2024-09-23T08:06:52.023Z"
   },
   {
    "duration": 19,
    "start_time": "2024-09-23T08:06:52.050Z"
   },
   {
    "duration": 9,
    "start_time": "2024-09-23T08:06:52.070Z"
   },
   {
    "duration": 175,
    "start_time": "2024-09-23T08:06:52.081Z"
   },
   {
    "duration": 169,
    "start_time": "2024-09-23T08:06:52.259Z"
   },
   {
    "duration": 28,
    "start_time": "2024-09-23T08:06:52.429Z"
   },
   {
    "duration": 18,
    "start_time": "2024-09-23T08:06:52.459Z"
   },
   {
    "duration": 2,
    "start_time": "2024-09-23T08:06:52.479Z"
   },
   {
    "duration": 23,
    "start_time": "2024-09-23T08:06:52.483Z"
   },
   {
    "duration": 8,
    "start_time": "2024-09-23T08:06:52.508Z"
   },
   {
    "duration": 6,
    "start_time": "2024-09-23T08:08:13.125Z"
   },
   {
    "duration": 22,
    "start_time": "2024-09-23T08:12:32.280Z"
   },
   {
    "duration": 19,
    "start_time": "2024-09-23T08:12:51.624Z"
   },
   {
    "duration": 10,
    "start_time": "2024-09-23T08:15:46.407Z"
   },
   {
    "duration": 26,
    "start_time": "2024-09-23T08:16:40.659Z"
   },
   {
    "duration": 28,
    "start_time": "2024-09-23T08:20:35.718Z"
   },
   {
    "duration": 5,
    "start_time": "2024-09-23T08:29:40.235Z"
   },
   {
    "duration": 7,
    "start_time": "2024-09-23T08:30:58.089Z"
   },
   {
    "duration": 17,
    "start_time": "2024-09-23T08:31:14.936Z"
   },
   {
    "duration": 4,
    "start_time": "2024-09-23T08:31:33.856Z"
   },
   {
    "duration": 5,
    "start_time": "2024-09-23T08:31:35.352Z"
   },
   {
    "duration": 13,
    "start_time": "2024-09-23T08:31:36.328Z"
   },
   {
    "duration": 94,
    "start_time": "2024-09-23T08:31:42.283Z"
   },
   {
    "duration": 151,
    "start_time": "2024-09-23T08:31:42.379Z"
   },
   {
    "duration": 2610,
    "start_time": "2024-09-23T08:31:42.532Z"
   },
   {
    "duration": 21,
    "start_time": "2024-09-23T08:31:45.147Z"
   },
   {
    "duration": 24,
    "start_time": "2024-09-23T08:31:45.170Z"
   },
   {
    "duration": 25,
    "start_time": "2024-09-23T08:31:45.196Z"
   },
   {
    "duration": 297,
    "start_time": "2024-09-23T08:31:45.223Z"
   },
   {
    "duration": 191,
    "start_time": "2024-09-23T08:31:45.522Z"
   },
   {
    "duration": 31,
    "start_time": "2024-09-23T08:31:45.715Z"
   },
   {
    "duration": 7,
    "start_time": "2024-09-23T08:31:45.749Z"
   },
   {
    "duration": 39,
    "start_time": "2024-09-23T08:31:45.758Z"
   },
   {
    "duration": 22,
    "start_time": "2024-09-23T08:31:45.800Z"
   },
   {
    "duration": 7,
    "start_time": "2024-09-23T08:31:45.824Z"
   },
   {
    "duration": 51,
    "start_time": "2024-09-23T08:31:45.832Z"
   },
   {
    "duration": 19,
    "start_time": "2024-09-23T08:31:45.885Z"
   },
   {
    "duration": 125,
    "start_time": "2024-09-23T08:32:31.148Z"
   },
   {
    "duration": 113,
    "start_time": "2024-09-23T08:32:35.709Z"
   },
   {
    "duration": 2439,
    "start_time": "2024-09-23T08:32:40.389Z"
   },
   {
    "duration": 25,
    "start_time": "2024-09-23T08:32:47.837Z"
   },
   {
    "duration": 11,
    "start_time": "2024-09-23T08:32:53.124Z"
   },
   {
    "duration": 15,
    "start_time": "2024-09-23T08:32:58.765Z"
   },
   {
    "duration": 180,
    "start_time": "2024-09-23T08:33:04.317Z"
   },
   {
    "duration": 188,
    "start_time": "2024-09-23T08:33:07.741Z"
   },
   {
    "duration": 9,
    "start_time": "2024-09-23T08:34:01.525Z"
   },
   {
    "duration": 23,
    "start_time": "2024-09-23T08:34:03.037Z"
   },
   {
    "duration": 18,
    "start_time": "2024-09-23T08:34:05.541Z"
   },
   {
    "duration": 9,
    "start_time": "2024-09-23T08:34:10.573Z"
   },
   {
    "duration": 22,
    "start_time": "2024-09-23T08:34:12.461Z"
   },
   {
    "duration": 18,
    "start_time": "2024-09-23T08:34:43.681Z"
   },
   {
    "duration": 22,
    "start_time": "2024-09-23T08:36:09.954Z"
   },
   {
    "duration": 21,
    "start_time": "2024-09-23T08:36:43.255Z"
   },
   {
    "duration": 19,
    "start_time": "2024-09-23T08:36:45.967Z"
   },
   {
    "duration": 10,
    "start_time": "2024-09-23T08:37:48.000Z"
   },
   {
    "duration": 141,
    "start_time": "2024-09-23T12:22:48.021Z"
   },
   {
    "duration": 131,
    "start_time": "2024-09-23T12:25:29.689Z"
   },
   {
    "duration": 137,
    "start_time": "2024-09-23T12:25:41.705Z"
   },
   {
    "duration": 237,
    "start_time": "2024-09-23T12:25:45.824Z"
   },
   {
    "duration": 6,
    "start_time": "2024-09-23T12:26:39.238Z"
   },
   {
    "duration": 414,
    "start_time": "2024-09-23T12:29:44.598Z"
   },
   {
    "duration": 182,
    "start_time": "2024-09-23T12:29:53.877Z"
   },
   {
    "duration": 193,
    "start_time": "2024-09-23T12:30:08.421Z"
   },
   {
    "duration": 11,
    "start_time": "2024-09-23T12:36:51.441Z"
   },
   {
    "duration": 5,
    "start_time": "2024-09-23T12:37:03.169Z"
   },
   {
    "duration": 4,
    "start_time": "2024-09-23T12:39:28.998Z"
   },
   {
    "duration": 11,
    "start_time": "2024-09-23T12:39:39.261Z"
   },
   {
    "duration": 4,
    "start_time": "2024-09-23T12:43:28.257Z"
   },
   {
    "duration": 11,
    "start_time": "2024-09-23T12:43:30.424Z"
   },
   {
    "duration": 26,
    "start_time": "2024-09-23T12:59:00.159Z"
   },
   {
    "duration": 8,
    "start_time": "2024-09-23T13:03:08.185Z"
   },
   {
    "duration": 7,
    "start_time": "2024-09-23T13:03:55.333Z"
   },
   {
    "duration": 7,
    "start_time": "2024-09-23T13:04:09.853Z"
   },
   {
    "duration": 2333,
    "start_time": "2024-09-23T13:14:52.385Z"
   },
   {
    "duration": 2854,
    "start_time": "2024-09-23T13:17:19.910Z"
   },
   {
    "duration": 1690,
    "start_time": "2024-09-23T13:18:13.001Z"
   },
   {
    "duration": 1690,
    "start_time": "2024-09-23T13:20:13.927Z"
   },
   {
    "duration": 1681,
    "start_time": "2024-09-23T13:20:58.039Z"
   },
   {
    "duration": 1421,
    "start_time": "2024-09-23T13:21:10.552Z"
   },
   {
    "duration": 11,
    "start_time": "2024-09-23T13:21:39.505Z"
   },
   {
    "duration": 70,
    "start_time": "2024-09-23T13:25:17.372Z"
   },
   {
    "duration": 12,
    "start_time": "2024-09-23T13:25:25.777Z"
   },
   {
    "duration": 1381,
    "start_time": "2024-09-23T13:27:51.577Z"
   },
   {
    "duration": 11,
    "start_time": "2024-09-23T13:27:56.152Z"
   },
   {
    "duration": 18,
    "start_time": "2024-09-23T13:44:04.460Z"
   },
   {
    "duration": 49,
    "start_time": "2024-09-24T08:25:59.065Z"
   },
   {
    "duration": 747,
    "start_time": "2024-09-24T08:26:04.426Z"
   },
   {
    "duration": 93,
    "start_time": "2024-09-24T08:26:05.175Z"
   },
   {
    "duration": 2395,
    "start_time": "2024-09-24T08:26:05.270Z"
   },
   {
    "duration": 17,
    "start_time": "2024-09-24T08:26:07.667Z"
   },
   {
    "duration": 23,
    "start_time": "2024-09-24T08:26:07.686Z"
   },
   {
    "duration": 11,
    "start_time": "2024-09-24T08:26:07.711Z"
   },
   {
    "duration": 165,
    "start_time": "2024-09-24T08:26:07.724Z"
   },
   {
    "duration": 150,
    "start_time": "2024-09-24T08:26:07.891Z"
   },
   {
    "duration": 23,
    "start_time": "2024-09-24T08:26:08.042Z"
   },
   {
    "duration": 7,
    "start_time": "2024-09-24T08:26:08.067Z"
   },
   {
    "duration": 19,
    "start_time": "2024-09-24T08:26:08.077Z"
   },
   {
    "duration": 17,
    "start_time": "2024-09-24T08:26:08.097Z"
   },
   {
    "duration": 6,
    "start_time": "2024-09-24T08:26:08.115Z"
   },
   {
    "duration": 48,
    "start_time": "2024-09-24T08:26:08.122Z"
   },
   {
    "duration": 186,
    "start_time": "2024-09-24T08:26:08.171Z"
   },
   {
    "duration": 4,
    "start_time": "2024-09-24T08:26:08.359Z"
   },
   {
    "duration": 4,
    "start_time": "2024-09-24T08:26:08.364Z"
   },
   {
    "duration": 3,
    "start_time": "2024-09-24T08:26:08.370Z"
   },
   {
    "duration": 1333,
    "start_time": "2024-09-24T08:26:08.375Z"
   },
   {
    "duration": 1323,
    "start_time": "2024-09-24T08:26:09.709Z"
   },
   {
    "duration": 20,
    "start_time": "2024-09-24T08:26:11.033Z"
   },
   {
    "duration": 13,
    "start_time": "2024-09-24T08:26:11.070Z"
   },
   {
    "duration": 8,
    "start_time": "2024-09-24T08:26:15.930Z"
   },
   {
    "duration": 21,
    "start_time": "2024-09-24T08:26:35.272Z"
   },
   {
    "duration": 77,
    "start_time": "2024-09-24T08:27:48.673Z"
   },
   {
    "duration": 23,
    "start_time": "2024-09-24T08:29:05.893Z"
   },
   {
    "duration": 6,
    "start_time": "2024-09-24T08:31:47.777Z"
   },
   {
    "duration": 5,
    "start_time": "2024-09-24T08:34:50.477Z"
   },
   {
    "duration": 8,
    "start_time": "2024-09-24T08:35:37.917Z"
   },
   {
    "duration": 9,
    "start_time": "2024-09-24T08:35:42.989Z"
   },
   {
    "duration": 6,
    "start_time": "2024-09-24T08:35:58.277Z"
   },
   {
    "duration": 6,
    "start_time": "2024-09-24T08:36:00.262Z"
   },
   {
    "duration": 7,
    "start_time": "2024-09-24T08:36:17.678Z"
   },
   {
    "duration": 10,
    "start_time": "2024-09-24T08:37:03.963Z"
   },
   {
    "duration": 4,
    "start_time": "2024-09-24T08:37:35.450Z"
   },
   {
    "duration": 7,
    "start_time": "2024-09-24T08:37:36.690Z"
   },
   {
    "duration": 7,
    "start_time": "2024-09-24T08:37:38.377Z"
   },
   {
    "duration": 88,
    "start_time": "2024-09-24T08:39:12.793Z"
   },
   {
    "duration": 100,
    "start_time": "2024-09-24T08:39:12.883Z"
   },
   {
    "duration": 1857,
    "start_time": "2024-09-24T08:39:12.985Z"
   },
   {
    "duration": 20,
    "start_time": "2024-09-24T08:39:14.844Z"
   },
   {
    "duration": 10,
    "start_time": "2024-09-24T08:39:14.865Z"
   },
   {
    "duration": 10,
    "start_time": "2024-09-24T08:39:14.876Z"
   },
   {
    "duration": 177,
    "start_time": "2024-09-24T08:39:14.887Z"
   },
   {
    "duration": 233,
    "start_time": "2024-09-24T08:39:15.065Z"
   },
   {
    "duration": 15,
    "start_time": "2024-09-24T08:39:15.300Z"
   },
   {
    "duration": 58,
    "start_time": "2024-09-24T08:39:15.317Z"
   },
   {
    "duration": 28,
    "start_time": "2024-09-24T08:39:15.376Z"
   },
   {
    "duration": 28,
    "start_time": "2024-09-24T08:39:15.406Z"
   },
   {
    "duration": 5,
    "start_time": "2024-09-24T08:39:15.435Z"
   },
   {
    "duration": 19,
    "start_time": "2024-09-24T08:39:15.442Z"
   },
   {
    "duration": 174,
    "start_time": "2024-09-24T08:39:15.462Z"
   },
   {
    "duration": 4,
    "start_time": "2024-09-24T08:39:15.638Z"
   },
   {
    "duration": 3,
    "start_time": "2024-09-24T08:39:15.651Z"
   },
   {
    "duration": 14,
    "start_time": "2024-09-24T08:39:15.656Z"
   },
   {
    "duration": 1265,
    "start_time": "2024-09-24T08:39:15.672Z"
   },
   {
    "duration": 1272,
    "start_time": "2024-09-24T08:39:16.939Z"
   },
   {
    "duration": 9,
    "start_time": "2024-09-24T08:39:18.212Z"
   },
   {
    "duration": 13,
    "start_time": "2024-09-24T08:39:18.223Z"
   },
   {
    "duration": 8,
    "start_time": "2024-09-24T08:39:18.252Z"
   },
   {
    "duration": 23,
    "start_time": "2024-09-24T08:39:18.261Z"
   },
   {
    "duration": 6,
    "start_time": "2024-09-24T08:39:18.285Z"
   },
   {
    "duration": 7,
    "start_time": "2024-09-24T08:39:18.293Z"
   },
   {
    "duration": 13,
    "start_time": "2024-09-24T08:39:18.301Z"
   },
   {
    "duration": 10,
    "start_time": "2024-09-24T08:39:18.317Z"
   },
   {
    "duration": 26,
    "start_time": "2024-09-24T08:39:18.329Z"
   },
   {
    "duration": 4,
    "start_time": "2024-09-24T08:39:42.600Z"
   },
   {
    "duration": 10,
    "start_time": "2024-09-24T08:39:43.920Z"
   },
   {
    "duration": 6,
    "start_time": "2024-09-24T08:39:45.960Z"
   },
   {
    "duration": 4,
    "start_time": "2024-09-24T08:51:50.241Z"
   },
   {
    "duration": 4,
    "start_time": "2024-09-24T08:52:10.200Z"
   },
   {
    "duration": 8,
    "start_time": "2024-09-24T08:52:12.207Z"
   },
   {
    "duration": 8,
    "start_time": "2024-09-24T08:52:14.071Z"
   },
   {
    "duration": 4,
    "start_time": "2024-09-24T08:53:46.693Z"
   },
   {
    "duration": 7,
    "start_time": "2024-09-24T08:53:48.420Z"
   },
   {
    "duration": 6,
    "start_time": "2024-09-24T08:53:52.124Z"
   },
   {
    "duration": 4,
    "start_time": "2024-09-24T08:55:54.602Z"
   },
   {
    "duration": 7,
    "start_time": "2024-09-24T08:55:56.364Z"
   },
   {
    "duration": 7,
    "start_time": "2024-09-24T08:55:58.361Z"
   },
   {
    "duration": 5,
    "start_time": "2024-09-24T11:53:59.373Z"
   },
   {
    "duration": 4,
    "start_time": "2024-09-24T12:04:54.415Z"
   },
   {
    "duration": 7,
    "start_time": "2024-09-24T12:04:55.847Z"
   },
   {
    "duration": 7,
    "start_time": "2024-09-24T12:04:56.887Z"
   },
   {
    "duration": 4,
    "start_time": "2024-09-24T12:07:39.149Z"
   },
   {
    "duration": 8,
    "start_time": "2024-09-24T12:07:41.596Z"
   },
   {
    "duration": 6,
    "start_time": "2024-09-24T12:07:43.828Z"
   },
   {
    "duration": 4,
    "start_time": "2024-09-24T12:12:47.436Z"
   },
   {
    "duration": 5,
    "start_time": "2024-09-24T12:12:48.340Z"
   },
   {
    "duration": 94,
    "start_time": "2024-09-24T12:35:12.773Z"
   },
   {
    "duration": 98,
    "start_time": "2024-09-24T12:35:12.869Z"
   },
   {
    "duration": 1984,
    "start_time": "2024-09-24T12:35:12.968Z"
   },
   {
    "duration": 15,
    "start_time": "2024-09-24T12:35:14.954Z"
   },
   {
    "duration": 9,
    "start_time": "2024-09-24T12:35:14.971Z"
   },
   {
    "duration": 9,
    "start_time": "2024-09-24T12:35:14.981Z"
   },
   {
    "duration": 308,
    "start_time": "2024-09-24T12:35:14.992Z"
   },
   {
    "duration": 155,
    "start_time": "2024-09-24T12:35:15.301Z"
   },
   {
    "duration": 18,
    "start_time": "2024-09-24T12:35:15.457Z"
   },
   {
    "duration": 5,
    "start_time": "2024-09-24T12:35:15.477Z"
   },
   {
    "duration": 45,
    "start_time": "2024-09-24T12:35:15.484Z"
   },
   {
    "duration": 21,
    "start_time": "2024-09-24T12:35:15.531Z"
   },
   {
    "duration": 5,
    "start_time": "2024-09-24T12:35:15.554Z"
   },
   {
    "duration": 19,
    "start_time": "2024-09-24T12:35:15.561Z"
   },
   {
    "duration": 255,
    "start_time": "2024-09-24T12:35:15.582Z"
   },
   {
    "duration": 4,
    "start_time": "2024-09-24T12:35:15.839Z"
   },
   {
    "duration": 10,
    "start_time": "2024-09-24T12:35:15.845Z"
   },
   {
    "duration": 8,
    "start_time": "2024-09-24T12:35:15.856Z"
   },
   {
    "duration": 1353,
    "start_time": "2024-09-24T12:35:15.866Z"
   },
   {
    "duration": 1340,
    "start_time": "2024-09-24T12:35:17.220Z"
   },
   {
    "duration": 10,
    "start_time": "2024-09-24T12:35:18.561Z"
   },
   {
    "duration": 14,
    "start_time": "2024-09-24T12:35:18.573Z"
   },
   {
    "duration": 8,
    "start_time": "2024-09-24T12:35:18.588Z"
   },
   {
    "duration": 27,
    "start_time": "2024-09-24T12:35:18.597Z"
   },
   {
    "duration": 28,
    "start_time": "2024-09-24T12:35:18.625Z"
   },
   {
    "duration": 7,
    "start_time": "2024-09-24T12:35:18.655Z"
   },
   {
    "duration": 4,
    "start_time": "2024-09-24T12:35:18.664Z"
   },
   {
    "duration": 7,
    "start_time": "2024-09-24T12:35:18.671Z"
   },
   {
    "duration": 3,
    "start_time": "2024-09-24T12:35:18.679Z"
   },
   {
    "duration": 24,
    "start_time": "2024-09-24T12:46:05.865Z"
   },
   {
    "duration": 4,
    "start_time": "2024-09-24T12:46:39.254Z"
   },
   {
    "duration": 44,
    "start_time": "2024-09-24T12:51:32.416Z"
   },
   {
    "duration": 23,
    "start_time": "2024-09-24T12:51:49.580Z"
   },
   {
    "duration": 1077,
    "start_time": "2024-09-24T12:56:07.675Z"
   },
   {
    "duration": 8,
    "start_time": "2024-09-24T12:57:19.703Z"
   },
   {
    "duration": 5,
    "start_time": "2024-09-24T12:57:31.862Z"
   },
   {
    "duration": 22,
    "start_time": "2024-09-24T12:57:43.743Z"
   },
   {
    "duration": 150,
    "start_time": "2024-09-24T13:11:02.255Z"
   },
   {
    "duration": 133,
    "start_time": "2024-09-24T13:11:44.968Z"
   },
   {
    "duration": 1803,
    "start_time": "2024-09-24T13:12:05.684Z"
   },
   {
    "duration": 289,
    "start_time": "2024-09-24T13:48:26.736Z"
   },
   {
    "duration": 302,
    "start_time": "2024-09-24T13:48:46.075Z"
   },
   {
    "duration": 32,
    "start_time": "2024-09-24T13:54:19.439Z"
   },
   {
    "duration": 4,
    "start_time": "2024-09-24T13:54:34.598Z"
   },
   {
    "duration": 93,
    "start_time": "2024-09-24T13:54:41.357Z"
   },
   {
    "duration": 111,
    "start_time": "2024-09-24T13:54:41.452Z"
   },
   {
    "duration": 2087,
    "start_time": "2024-09-24T13:54:41.565Z"
   },
   {
    "duration": 14,
    "start_time": "2024-09-24T13:54:43.654Z"
   },
   {
    "duration": 15,
    "start_time": "2024-09-24T13:54:43.670Z"
   },
   {
    "duration": 9,
    "start_time": "2024-09-24T13:54:43.686Z"
   },
   {
    "duration": 187,
    "start_time": "2024-09-24T13:54:43.697Z"
   },
   {
    "duration": 196,
    "start_time": "2024-09-24T13:54:43.886Z"
   },
   {
    "duration": 18,
    "start_time": "2024-09-24T13:54:44.084Z"
   },
   {
    "duration": 15,
    "start_time": "2024-09-24T13:54:44.105Z"
   },
   {
    "duration": 33,
    "start_time": "2024-09-24T13:54:44.122Z"
   },
   {
    "duration": 18,
    "start_time": "2024-09-24T13:54:44.157Z"
   },
   {
    "duration": 5,
    "start_time": "2024-09-24T13:54:44.176Z"
   },
   {
    "duration": 20,
    "start_time": "2024-09-24T13:54:44.183Z"
   },
   {
    "duration": 205,
    "start_time": "2024-09-24T13:54:44.204Z"
   },
   {
    "duration": 4,
    "start_time": "2024-09-24T13:54:44.411Z"
   },
   {
    "duration": 17,
    "start_time": "2024-09-24T13:54:44.417Z"
   },
   {
    "duration": 10,
    "start_time": "2024-09-24T13:54:44.436Z"
   },
   {
    "duration": 1468,
    "start_time": "2024-09-24T13:54:44.447Z"
   },
   {
    "duration": 1406,
    "start_time": "2024-09-24T13:54:45.917Z"
   },
   {
    "duration": 10,
    "start_time": "2024-09-24T13:54:47.324Z"
   },
   {
    "duration": 41,
    "start_time": "2024-09-24T13:54:47.335Z"
   },
   {
    "duration": 8,
    "start_time": "2024-09-24T13:54:47.377Z"
   },
   {
    "duration": 6,
    "start_time": "2024-09-24T13:54:47.387Z"
   },
   {
    "duration": 30,
    "start_time": "2024-09-24T13:54:47.395Z"
   },
   {
    "duration": 7,
    "start_time": "2024-09-24T13:54:47.427Z"
   },
   {
    "duration": 12,
    "start_time": "2024-09-24T13:54:47.435Z"
   },
   {
    "duration": 4,
    "start_time": "2024-09-24T13:54:47.454Z"
   },
   {
    "duration": 17,
    "start_time": "2024-09-24T13:54:47.459Z"
   },
   {
    "duration": 5,
    "start_time": "2024-09-24T13:54:47.478Z"
   },
   {
    "duration": 5,
    "start_time": "2024-09-24T13:54:47.484Z"
   },
   {
    "duration": 6,
    "start_time": "2024-09-24T13:54:47.491Z"
   },
   {
    "duration": 5,
    "start_time": "2024-09-24T13:54:47.498Z"
   },
   {
    "duration": 333,
    "start_time": "2024-09-24T13:54:47.504Z"
   },
   {
    "duration": 438,
    "start_time": "2024-09-24T13:57:32.586Z"
   },
   {
    "duration": 281,
    "start_time": "2024-09-24T13:57:50.524Z"
   },
   {
    "duration": 19,
    "start_time": "2024-09-24T13:59:58.545Z"
   },
   {
    "duration": 19,
    "start_time": "2024-09-24T14:00:13.646Z"
   },
   {
    "duration": 20,
    "start_time": "2024-09-24T14:01:23.356Z"
   },
   {
    "duration": 490,
    "start_time": "2024-09-24T14:01:52.112Z"
   },
   {
    "duration": 106,
    "start_time": "2024-09-24T14:01:52.604Z"
   },
   {
    "duration": 2321,
    "start_time": "2024-09-24T14:01:52.711Z"
   },
   {
    "duration": 16,
    "start_time": "2024-09-24T14:01:55.034Z"
   },
   {
    "duration": 10,
    "start_time": "2024-09-24T14:01:55.052Z"
   },
   {
    "duration": 19,
    "start_time": "2024-09-24T14:01:55.064Z"
   },
   {
    "duration": 185,
    "start_time": "2024-09-24T14:01:55.085Z"
   },
   {
    "duration": 158,
    "start_time": "2024-09-24T14:01:55.272Z"
   },
   {
    "duration": 26,
    "start_time": "2024-09-24T14:01:55.432Z"
   },
   {
    "duration": 7,
    "start_time": "2024-09-24T14:01:55.459Z"
   },
   {
    "duration": 20,
    "start_time": "2024-09-24T14:01:55.467Z"
   },
   {
    "duration": 17,
    "start_time": "2024-09-24T14:01:55.489Z"
   },
   {
    "duration": 6,
    "start_time": "2024-09-24T14:01:55.508Z"
   },
   {
    "duration": 47,
    "start_time": "2024-09-24T14:01:55.517Z"
   },
   {
    "duration": 196,
    "start_time": "2024-09-24T14:01:55.566Z"
   },
   {
    "duration": 3,
    "start_time": "2024-09-24T14:01:55.764Z"
   },
   {
    "duration": 6,
    "start_time": "2024-09-24T14:01:55.769Z"
   },
   {
    "duration": 7,
    "start_time": "2024-09-24T14:01:55.776Z"
   },
   {
    "duration": 1435,
    "start_time": "2024-09-24T14:01:55.784Z"
   },
   {
    "duration": 1408,
    "start_time": "2024-09-24T14:01:57.220Z"
   },
   {
    "duration": 10,
    "start_time": "2024-09-24T14:01:58.629Z"
   },
   {
    "duration": 23,
    "start_time": "2024-09-24T14:01:58.640Z"
   },
   {
    "duration": 8,
    "start_time": "2024-09-24T14:01:58.665Z"
   },
   {
    "duration": 4,
    "start_time": "2024-09-24T14:01:58.675Z"
   },
   {
    "duration": 27,
    "start_time": "2024-09-24T14:01:58.681Z"
   },
   {
    "duration": 50,
    "start_time": "2024-09-24T14:01:58.709Z"
   },
   {
    "duration": 13,
    "start_time": "2024-09-24T14:01:58.761Z"
   },
   {
    "duration": 4,
    "start_time": "2024-09-24T14:01:58.775Z"
   },
   {
    "duration": 13,
    "start_time": "2024-09-24T14:01:58.781Z"
   },
   {
    "duration": 16,
    "start_time": "2024-09-24T14:01:58.795Z"
   },
   {
    "duration": 4,
    "start_time": "2024-09-24T14:01:58.813Z"
   },
   {
    "duration": 7,
    "start_time": "2024-09-24T14:01:58.819Z"
   },
   {
    "duration": 6,
    "start_time": "2024-09-24T14:01:58.828Z"
   },
   {
    "duration": 387,
    "start_time": "2024-09-24T14:01:58.836Z"
   },
   {
    "duration": 29,
    "start_time": "2024-09-24T14:01:59.224Z"
   },
   {
    "duration": 22,
    "start_time": "2024-09-24T14:02:25.972Z"
   },
   {
    "duration": 4,
    "start_time": "2024-09-24T14:03:39.364Z"
   },
   {
    "duration": 186,
    "start_time": "2024-09-24T14:09:50.566Z"
   },
   {
    "duration": 140,
    "start_time": "2024-09-24T14:09:57.064Z"
   },
   {
    "duration": 137,
    "start_time": "2024-09-24T14:10:04.072Z"
   },
   {
    "duration": 140,
    "start_time": "2024-09-24T14:10:41.717Z"
   },
   {
    "duration": 559,
    "start_time": "2024-09-24T17:28:49.441Z"
   },
   {
    "duration": 94,
    "start_time": "2024-09-24T17:28:50.002Z"
   },
   {
    "duration": 2435,
    "start_time": "2024-09-24T17:28:50.098Z"
   },
   {
    "duration": 17,
    "start_time": "2024-09-24T17:28:52.536Z"
   },
   {
    "duration": 12,
    "start_time": "2024-09-24T17:28:52.555Z"
   },
   {
    "duration": 13,
    "start_time": "2024-09-24T17:28:52.568Z"
   },
   {
    "duration": 170,
    "start_time": "2024-09-24T17:28:52.583Z"
   },
   {
    "duration": 158,
    "start_time": "2024-09-24T17:28:52.756Z"
   },
   {
    "duration": 18,
    "start_time": "2024-09-24T17:28:52.917Z"
   },
   {
    "duration": 7,
    "start_time": "2024-09-24T17:28:52.939Z"
   },
   {
    "duration": 21,
    "start_time": "2024-09-24T17:28:52.948Z"
   },
   {
    "duration": 48,
    "start_time": "2024-09-24T17:28:52.971Z"
   },
   {
    "duration": 7,
    "start_time": "2024-09-24T17:28:53.021Z"
   },
   {
    "duration": 21,
    "start_time": "2024-09-24T17:28:53.030Z"
   },
   {
    "duration": 204,
    "start_time": "2024-09-24T17:28:53.052Z"
   },
   {
    "duration": 3,
    "start_time": "2024-09-24T17:28:53.258Z"
   },
   {
    "duration": 11,
    "start_time": "2024-09-24T17:28:53.263Z"
   },
   {
    "duration": 8,
    "start_time": "2024-09-24T17:28:53.276Z"
   },
   {
    "duration": 1383,
    "start_time": "2024-09-24T17:28:53.285Z"
   },
   {
    "duration": 1434,
    "start_time": "2024-09-24T17:28:54.670Z"
   },
   {
    "duration": 10,
    "start_time": "2024-09-24T17:28:56.106Z"
   },
   {
    "duration": 15,
    "start_time": "2024-09-24T17:28:56.118Z"
   },
   {
    "duration": 8,
    "start_time": "2024-09-24T17:28:56.135Z"
   },
   {
    "duration": 5,
    "start_time": "2024-09-24T17:28:56.145Z"
   },
   {
    "duration": 55,
    "start_time": "2024-09-24T17:28:56.152Z"
   },
   {
    "duration": 8,
    "start_time": "2024-09-24T17:28:56.208Z"
   },
   {
    "duration": 7,
    "start_time": "2024-09-24T17:28:56.218Z"
   },
   {
    "duration": 25,
    "start_time": "2024-09-24T17:29:07.107Z"
   },
   {
    "duration": 7,
    "start_time": "2024-09-24T17:29:11.303Z"
   },
   {
    "duration": 7,
    "start_time": "2024-09-24T17:29:36.227Z"
   },
   {
    "duration": 55,
    "start_time": "2024-09-25T08:49:22.554Z"
   },
   {
    "duration": 783,
    "start_time": "2024-09-25T08:49:28.581Z"
   },
   {
    "duration": 104,
    "start_time": "2024-09-25T08:49:29.367Z"
   },
   {
    "duration": 2649,
    "start_time": "2024-09-25T08:49:29.475Z"
   },
   {
    "duration": 17,
    "start_time": "2024-09-25T08:49:32.126Z"
   },
   {
    "duration": 19,
    "start_time": "2024-09-25T08:49:32.145Z"
   },
   {
    "duration": 16,
    "start_time": "2024-09-25T08:49:32.166Z"
   },
   {
    "duration": 181,
    "start_time": "2024-09-25T08:49:32.184Z"
   },
   {
    "duration": 177,
    "start_time": "2024-09-25T08:49:32.367Z"
   },
   {
    "duration": 19,
    "start_time": "2024-09-25T08:49:32.545Z"
   },
   {
    "duration": 8,
    "start_time": "2024-09-25T08:49:32.575Z"
   },
   {
    "duration": 23,
    "start_time": "2024-09-25T08:49:32.585Z"
   },
   {
    "duration": 19,
    "start_time": "2024-09-25T08:49:32.610Z"
   },
   {
    "duration": 18,
    "start_time": "2024-09-25T08:49:32.630Z"
   },
   {
    "duration": 47,
    "start_time": "2024-09-25T08:49:32.650Z"
   },
   {
    "duration": 198,
    "start_time": "2024-09-25T08:49:32.698Z"
   },
   {
    "duration": 4,
    "start_time": "2024-09-25T08:49:32.897Z"
   },
   {
    "duration": 15,
    "start_time": "2024-09-25T08:49:32.903Z"
   },
   {
    "duration": 21,
    "start_time": "2024-09-25T08:49:32.920Z"
   },
   {
    "duration": 1478,
    "start_time": "2024-09-25T08:49:32.942Z"
   },
   {
    "duration": 1486,
    "start_time": "2024-09-25T08:49:34.422Z"
   },
   {
    "duration": 10,
    "start_time": "2024-09-25T08:49:35.910Z"
   },
   {
    "duration": 24,
    "start_time": "2024-09-25T08:49:35.921Z"
   },
   {
    "duration": 10,
    "start_time": "2024-09-25T08:49:35.947Z"
   },
   {
    "duration": 10,
    "start_time": "2024-09-25T08:49:35.975Z"
   },
   {
    "duration": 43,
    "start_time": "2024-09-25T08:49:35.987Z"
   },
   {
    "duration": 9,
    "start_time": "2024-09-25T08:49:36.032Z"
   },
   {
    "duration": 10,
    "start_time": "2024-09-25T08:49:36.043Z"
   },
   {
    "duration": 40,
    "start_time": "2024-09-25T08:49:36.056Z"
   },
   {
    "duration": 11,
    "start_time": "2024-09-25T08:49:36.097Z"
   },
   {
    "duration": 7,
    "start_time": "2024-09-25T08:49:36.110Z"
   },
   {
    "duration": 6,
    "start_time": "2024-09-25T08:49:43.358Z"
   },
   {
    "duration": 6,
    "start_time": "2024-09-25T08:50:50.530Z"
   },
   {
    "duration": 5,
    "start_time": "2024-09-25T08:51:17.595Z"
   },
   {
    "duration": 5,
    "start_time": "2024-09-25T08:54:15.020Z"
   },
   {
    "duration": 6,
    "start_time": "2024-09-25T09:02:52.546Z"
   },
   {
    "duration": 6,
    "start_time": "2024-09-25T09:03:00.187Z"
   },
   {
    "duration": 43,
    "start_time": "2024-09-25T09:04:45.792Z"
   },
   {
    "duration": 7,
    "start_time": "2024-09-25T09:05:06.193Z"
   },
   {
    "duration": 6,
    "start_time": "2024-09-25T09:05:13.368Z"
   },
   {
    "duration": 5,
    "start_time": "2024-09-25T09:05:16.064Z"
   },
   {
    "duration": 11,
    "start_time": "2024-09-25T09:08:20.738Z"
   },
   {
    "duration": 92,
    "start_time": "2024-09-25T12:16:41.214Z"
   },
   {
    "duration": 108,
    "start_time": "2024-09-25T12:16:41.308Z"
   },
   {
    "duration": 1987,
    "start_time": "2024-09-25T12:16:41.417Z"
   },
   {
    "duration": 16,
    "start_time": "2024-09-25T12:16:43.406Z"
   },
   {
    "duration": 10,
    "start_time": "2024-09-25T12:16:43.424Z"
   },
   {
    "duration": 12,
    "start_time": "2024-09-25T12:16:43.435Z"
   },
   {
    "duration": 192,
    "start_time": "2024-09-25T12:16:43.448Z"
   },
   {
    "duration": 157,
    "start_time": "2024-09-25T12:16:43.641Z"
   },
   {
    "duration": 16,
    "start_time": "2024-09-25T12:16:43.800Z"
   },
   {
    "duration": 22,
    "start_time": "2024-09-25T12:16:43.819Z"
   },
   {
    "duration": 20,
    "start_time": "2024-09-25T12:16:43.843Z"
   },
   {
    "duration": 43,
    "start_time": "2024-09-25T12:16:43.864Z"
   },
   {
    "duration": 5,
    "start_time": "2024-09-25T12:16:43.908Z"
   },
   {
    "duration": 26,
    "start_time": "2024-09-25T12:16:43.915Z"
   },
   {
    "duration": 177,
    "start_time": "2024-09-25T12:16:43.942Z"
   },
   {
    "duration": 3,
    "start_time": "2024-09-25T12:16:44.121Z"
   },
   {
    "duration": 4,
    "start_time": "2024-09-25T12:16:44.126Z"
   },
   {
    "duration": 5,
    "start_time": "2024-09-25T12:16:44.131Z"
   },
   {
    "duration": 1424,
    "start_time": "2024-09-25T12:16:44.138Z"
   },
   {
    "duration": 1397,
    "start_time": "2024-09-25T12:16:45.564Z"
   },
   {
    "duration": 17,
    "start_time": "2024-09-25T12:16:46.963Z"
   },
   {
    "duration": 16,
    "start_time": "2024-09-25T12:16:46.982Z"
   },
   {
    "duration": 9,
    "start_time": "2024-09-25T12:16:47.000Z"
   },
   {
    "duration": 10,
    "start_time": "2024-09-25T12:16:47.010Z"
   },
   {
    "duration": 25,
    "start_time": "2024-09-25T12:16:47.021Z"
   },
   {
    "duration": 31,
    "start_time": "2024-09-25T12:16:47.048Z"
   },
   {
    "duration": 11,
    "start_time": "2024-09-25T12:16:47.080Z"
   },
   {
    "duration": 26,
    "start_time": "2024-09-25T12:16:47.094Z"
   },
   {
    "duration": 7,
    "start_time": "2024-09-25T12:16:47.122Z"
   },
   {
    "duration": 7,
    "start_time": "2024-09-25T12:16:47.130Z"
   },
   {
    "duration": 5,
    "start_time": "2024-09-25T12:16:47.139Z"
   },
   {
    "duration": 5,
    "start_time": "2024-09-25T12:16:47.176Z"
   },
   {
    "duration": 9,
    "start_time": "2024-09-25T12:16:47.183Z"
   },
   {
    "duration": 63,
    "start_time": "2024-09-25T12:16:47.193Z"
   },
   {
    "duration": 4,
    "start_time": "2024-09-25T12:16:47.258Z"
   },
   {
    "duration": 10,
    "start_time": "2024-09-25T12:16:47.264Z"
   },
   {
    "duration": 5,
    "start_time": "2024-09-25T12:16:47.275Z"
   },
   {
    "duration": 399,
    "start_time": "2024-09-25T12:16:47.282Z"
   },
   {
    "duration": 4,
    "start_time": "2024-09-25T12:16:47.683Z"
   },
   {
    "duration": 140,
    "start_time": "2024-09-25T12:16:50.372Z"
   },
   {
    "duration": 155,
    "start_time": "2024-09-25T12:17:26.737Z"
   },
   {
    "duration": 173,
    "start_time": "2024-09-25T12:17:44.313Z"
   },
   {
    "duration": 175,
    "start_time": "2024-09-25T12:17:57.825Z"
   },
   {
    "duration": 181,
    "start_time": "2024-09-25T12:18:09.024Z"
   },
   {
    "duration": 189,
    "start_time": "2024-09-25T12:18:32.369Z"
   },
   {
    "duration": 4,
    "start_time": "2024-09-25T12:20:50.935Z"
   },
   {
    "duration": 4,
    "start_time": "2024-09-25T12:21:01.935Z"
   },
   {
    "duration": 8,
    "start_time": "2024-09-25T12:21:41.436Z"
   },
   {
    "duration": 6,
    "start_time": "2024-09-25T12:24:21.617Z"
   },
   {
    "duration": 4,
    "start_time": "2024-09-25T12:24:56.527Z"
   },
   {
    "duration": 53,
    "start_time": "2024-09-25T12:29:09.388Z"
   },
   {
    "duration": 190,
    "start_time": "2024-09-25T12:29:15.582Z"
   },
   {
    "duration": 189,
    "start_time": "2024-09-25T12:29:46.375Z"
   },
   {
    "duration": 9,
    "start_time": "2024-09-25T12:42:14.212Z"
   },
   {
    "duration": 9,
    "start_time": "2024-09-25T12:44:21.331Z"
   },
   {
    "duration": 7,
    "start_time": "2024-09-25T12:45:04.757Z"
   },
   {
    "duration": 191,
    "start_time": "2024-09-25T12:48:44.520Z"
   },
   {
    "duration": 324,
    "start_time": "2024-09-25T12:49:18.552Z"
   },
   {
    "duration": 185,
    "start_time": "2024-09-25T12:49:28.905Z"
   },
   {
    "duration": 222,
    "start_time": "2024-09-25T13:00:30.564Z"
   },
   {
    "duration": 202,
    "start_time": "2024-09-25T13:01:02.209Z"
   },
   {
    "duration": 7,
    "start_time": "2024-09-25T13:01:39.238Z"
   },
   {
    "duration": 5,
    "start_time": "2024-09-25T13:02:18.209Z"
   },
   {
    "duration": 5,
    "start_time": "2024-09-25T13:03:57.061Z"
   },
   {
    "duration": 14,
    "start_time": "2024-09-25T13:10:33.202Z"
   },
   {
    "duration": 5,
    "start_time": "2024-09-25T13:10:57.768Z"
   },
   {
    "duration": 5,
    "start_time": "2024-09-25T13:12:34.667Z"
   },
   {
    "duration": 5,
    "start_time": "2024-09-25T13:12:57.382Z"
   },
   {
    "duration": 5,
    "start_time": "2024-09-25T13:19:41.593Z"
   },
   {
    "duration": 9,
    "start_time": "2024-09-25T13:24:06.794Z"
   },
   {
    "duration": 6,
    "start_time": "2024-09-25T13:24:20.002Z"
   },
   {
    "duration": 4,
    "start_time": "2024-09-25T13:26:55.703Z"
   },
   {
    "duration": 93,
    "start_time": "2024-09-25T13:28:01.048Z"
   },
   {
    "duration": 100,
    "start_time": "2024-09-25T13:28:01.143Z"
   },
   {
    "duration": 2109,
    "start_time": "2024-09-25T13:28:01.244Z"
   },
   {
    "duration": 27,
    "start_time": "2024-09-25T13:28:03.356Z"
   },
   {
    "duration": 9,
    "start_time": "2024-09-25T13:28:03.385Z"
   },
   {
    "duration": 42,
    "start_time": "2024-09-25T13:28:03.396Z"
   },
   {
    "duration": 166,
    "start_time": "2024-09-25T13:28:03.439Z"
   },
   {
    "duration": 162,
    "start_time": "2024-09-25T13:28:03.607Z"
   },
   {
    "duration": 17,
    "start_time": "2024-09-25T13:28:03.775Z"
   },
   {
    "duration": 11,
    "start_time": "2024-09-25T13:28:03.795Z"
   },
   {
    "duration": 26,
    "start_time": "2024-09-25T13:28:03.808Z"
   },
   {
    "duration": 16,
    "start_time": "2024-09-25T13:28:03.836Z"
   },
   {
    "duration": 45,
    "start_time": "2024-09-25T13:28:03.854Z"
   },
   {
    "duration": 21,
    "start_time": "2024-09-25T13:28:03.901Z"
   },
   {
    "duration": 5,
    "start_time": "2024-09-25T13:28:06.181Z"
   },
   {
    "duration": 6,
    "start_time": "2024-09-25T13:28:09.670Z"
   },
   {
    "duration": 5,
    "start_time": "2024-09-25T13:28:25.813Z"
   },
   {
    "duration": 5,
    "start_time": "2024-09-25T13:29:41.387Z"
   },
   {
    "duration": 260,
    "start_time": "2024-09-25T13:29:41.395Z"
   },
   {
    "duration": 3,
    "start_time": "2024-09-25T13:29:41.657Z"
   },
   {
    "duration": 4,
    "start_time": "2024-09-25T13:29:41.675Z"
   },
   {
    "duration": 6,
    "start_time": "2024-09-25T13:29:41.681Z"
   },
   {
    "duration": 1390,
    "start_time": "2024-09-25T13:29:41.688Z"
   },
   {
    "duration": 1376,
    "start_time": "2024-09-25T13:29:43.080Z"
   },
   {
    "duration": 18,
    "start_time": "2024-09-25T13:29:44.458Z"
   },
   {
    "duration": 16,
    "start_time": "2024-09-25T13:29:44.478Z"
   },
   {
    "duration": 8,
    "start_time": "2024-09-25T13:29:44.496Z"
   },
   {
    "duration": 4,
    "start_time": "2024-09-25T13:29:44.507Z"
   },
   {
    "duration": 24,
    "start_time": "2024-09-25T13:29:44.513Z"
   },
   {
    "duration": 40,
    "start_time": "2024-09-25T13:29:44.539Z"
   },
   {
    "duration": 7,
    "start_time": "2024-09-25T13:29:44.580Z"
   },
   {
    "duration": 27,
    "start_time": "2024-09-25T13:29:44.589Z"
   },
   {
    "duration": 6,
    "start_time": "2024-09-25T13:29:44.617Z"
   },
   {
    "duration": 15,
    "start_time": "2024-09-25T13:29:44.625Z"
   },
   {
    "duration": 11,
    "start_time": "2024-09-25T13:29:44.641Z"
   },
   {
    "duration": 26,
    "start_time": "2024-09-25T13:29:44.654Z"
   },
   {
    "duration": 11,
    "start_time": "2024-09-25T13:29:44.681Z"
   },
   {
    "duration": 9,
    "start_time": "2024-09-25T13:29:44.694Z"
   },
   {
    "duration": 5,
    "start_time": "2024-09-25T13:29:44.704Z"
   },
   {
    "duration": 8,
    "start_time": "2024-09-25T13:29:44.710Z"
   },
   {
    "duration": 6,
    "start_time": "2024-09-25T13:29:44.719Z"
   },
   {
    "duration": 328,
    "start_time": "2024-09-25T13:29:44.726Z"
   },
   {
    "duration": 4,
    "start_time": "2024-09-25T13:29:45.056Z"
   },
   {
    "duration": 205,
    "start_time": "2024-09-25T13:29:45.062Z"
   },
   {
    "duration": 8,
    "start_time": "2024-09-25T13:29:45.269Z"
   },
   {
    "duration": 32,
    "start_time": "2024-09-25T13:29:45.281Z"
   },
   {
    "duration": 194,
    "start_time": "2024-09-25T13:29:45.315Z"
   },
   {
    "duration": 205,
    "start_time": "2024-09-25T13:29:45.510Z"
   },
   {
    "duration": 5,
    "start_time": "2024-09-25T13:29:45.716Z"
   },
   {
    "duration": 16,
    "start_time": "2024-09-25T13:29:45.722Z"
   },
   {
    "duration": 14,
    "start_time": "2024-09-25T13:29:45.740Z"
   },
   {
    "duration": 145,
    "start_time": "2024-09-25T13:31:24.414Z"
   },
   {
    "duration": 5,
    "start_time": "2024-09-25T13:32:07.280Z"
   },
   {
    "duration": 157,
    "start_time": "2024-09-25T13:38:47.361Z"
   },
   {
    "duration": 151,
    "start_time": "2024-09-25T13:40:21.765Z"
   },
   {
    "duration": 190,
    "start_time": "2024-09-25T13:40:28.196Z"
   },
   {
    "duration": 158,
    "start_time": "2024-09-25T13:40:37.933Z"
   },
   {
    "duration": 334,
    "start_time": "2024-09-25T13:44:01.094Z"
   },
   {
    "duration": 149,
    "start_time": "2024-09-25T13:44:14.191Z"
   },
   {
    "duration": 145,
    "start_time": "2024-09-25T13:44:30.072Z"
   },
   {
    "duration": 126,
    "start_time": "2024-09-25T13:47:05.350Z"
   },
   {
    "duration": 133,
    "start_time": "2024-09-25T13:47:18.702Z"
   },
   {
    "duration": 144,
    "start_time": "2024-09-25T13:47:44.382Z"
   },
   {
    "duration": 160,
    "start_time": "2024-09-25T13:48:47.099Z"
   },
   {
    "duration": 138,
    "start_time": "2024-09-25T13:49:09.193Z"
   },
   {
    "duration": 144,
    "start_time": "2024-09-25T13:49:18.035Z"
   },
   {
    "duration": 166,
    "start_time": "2024-09-25T13:49:27.858Z"
   },
   {
    "duration": 4,
    "start_time": "2024-09-25T13:50:53.295Z"
   },
   {
    "duration": 5,
    "start_time": "2024-09-25T13:51:21.360Z"
   },
   {
    "duration": 4,
    "start_time": "2024-09-25T13:51:43.368Z"
   },
   {
    "duration": 4,
    "start_time": "2024-09-25T13:52:07.445Z"
   },
   {
    "duration": 172,
    "start_time": "2024-09-25T13:52:19.141Z"
   },
   {
    "duration": 5,
    "start_time": "2024-09-25T13:53:44.252Z"
   },
   {
    "duration": 4,
    "start_time": "2024-09-25T13:54:55.859Z"
   },
   {
    "duration": 167,
    "start_time": "2024-09-25T13:55:03.497Z"
   },
   {
    "duration": 4,
    "start_time": "2024-09-25T13:55:39.667Z"
   },
   {
    "duration": 170,
    "start_time": "2024-09-25T13:55:42.123Z"
   },
   {
    "duration": 146,
    "start_time": "2024-09-25T13:59:10.135Z"
   },
   {
    "duration": 161,
    "start_time": "2024-09-25T14:00:00.862Z"
   },
   {
    "duration": 161,
    "start_time": "2024-09-25T14:00:21.714Z"
   },
   {
    "duration": 155,
    "start_time": "2024-09-25T14:00:44.907Z"
   },
   {
    "duration": 160,
    "start_time": "2024-09-25T14:00:52.202Z"
   },
   {
    "duration": 160,
    "start_time": "2024-09-25T14:01:33.795Z"
   },
   {
    "duration": 187,
    "start_time": "2024-09-25T14:01:40.601Z"
   },
   {
    "duration": 5,
    "start_time": "2024-09-25T14:07:03.177Z"
   },
   {
    "duration": 125,
    "start_time": "2024-09-25T14:08:50.937Z"
   },
   {
    "duration": 146,
    "start_time": "2024-09-25T14:09:24.495Z"
   },
   {
    "duration": 153,
    "start_time": "2024-09-25T14:09:41.025Z"
   },
   {
    "duration": 155,
    "start_time": "2024-09-25T14:09:48.777Z"
   },
   {
    "duration": 132,
    "start_time": "2024-09-25T14:10:05.968Z"
   },
   {
    "duration": 129,
    "start_time": "2024-09-25T14:10:31.447Z"
   },
   {
    "duration": 127,
    "start_time": "2024-09-25T14:11:49.616Z"
   },
   {
    "duration": 5,
    "start_time": "2024-09-25T14:12:40.007Z"
   },
   {
    "duration": 5,
    "start_time": "2024-09-25T14:12:46.467Z"
   },
   {
    "duration": 5,
    "start_time": "2024-09-25T14:12:59.515Z"
   },
   {
    "duration": 5,
    "start_time": "2024-09-25T14:14:12.549Z"
   },
   {
    "duration": 8,
    "start_time": "2024-09-25T14:23:46.302Z"
   },
   {
    "duration": 7,
    "start_time": "2024-09-25T14:24:00.751Z"
   },
   {
    "duration": 753,
    "start_time": "2024-09-25T18:15:28.482Z"
   },
   {
    "duration": 93,
    "start_time": "2024-09-25T18:15:29.237Z"
   },
   {
    "duration": 2337,
    "start_time": "2024-09-25T18:15:29.331Z"
   },
   {
    "duration": 17,
    "start_time": "2024-09-25T18:15:31.670Z"
   },
   {
    "duration": 15,
    "start_time": "2024-09-25T18:15:31.689Z"
   },
   {
    "duration": 30,
    "start_time": "2024-09-25T18:15:31.707Z"
   },
   {
    "duration": 162,
    "start_time": "2024-09-25T18:15:31.739Z"
   },
   {
    "duration": 146,
    "start_time": "2024-09-25T18:15:31.903Z"
   },
   {
    "duration": 19,
    "start_time": "2024-09-25T18:15:32.052Z"
   },
   {
    "duration": 13,
    "start_time": "2024-09-25T18:15:32.074Z"
   },
   {
    "duration": 37,
    "start_time": "2024-09-25T18:15:32.089Z"
   },
   {
    "duration": 15,
    "start_time": "2024-09-25T18:15:32.128Z"
   },
   {
    "duration": 24,
    "start_time": "2024-09-25T18:15:32.145Z"
   },
   {
    "duration": 21,
    "start_time": "2024-09-25T18:15:32.171Z"
   },
   {
    "duration": 5,
    "start_time": "2024-09-25T18:15:32.193Z"
   },
   {
    "duration": 18,
    "start_time": "2024-09-25T18:15:32.199Z"
   },
   {
    "duration": 39,
    "start_time": "2024-09-25T18:15:32.219Z"
   },
   {
    "duration": 197,
    "start_time": "2024-09-25T18:15:32.260Z"
   },
   {
    "duration": 4,
    "start_time": "2024-09-25T18:15:32.458Z"
   },
   {
    "duration": 11,
    "start_time": "2024-09-25T18:15:32.463Z"
   },
   {
    "duration": 4,
    "start_time": "2024-09-25T18:15:32.476Z"
   },
   {
    "duration": 1334,
    "start_time": "2024-09-25T18:15:32.481Z"
   },
   {
    "duration": 1288,
    "start_time": "2024-09-25T18:15:33.816Z"
   },
   {
    "duration": 14,
    "start_time": "2024-09-25T18:15:35.106Z"
   },
   {
    "duration": 37,
    "start_time": "2024-09-25T18:15:35.121Z"
   },
   {
    "duration": 9,
    "start_time": "2024-09-25T18:15:35.160Z"
   },
   {
    "duration": 6,
    "start_time": "2024-09-25T18:15:35.171Z"
   },
   {
    "duration": 25,
    "start_time": "2024-09-25T18:15:35.182Z"
   },
   {
    "duration": 10,
    "start_time": "2024-09-25T18:15:35.208Z"
   },
   {
    "duration": 49,
    "start_time": "2024-09-25T18:15:35.219Z"
   },
   {
    "duration": 26,
    "start_time": "2024-09-25T18:15:35.269Z"
   },
   {
    "duration": 5,
    "start_time": "2024-09-25T18:15:35.297Z"
   },
   {
    "duration": 45,
    "start_time": "2024-09-25T18:15:35.304Z"
   },
   {
    "duration": 30,
    "start_time": "2024-09-25T18:15:35.350Z"
   },
   {
    "duration": 6,
    "start_time": "2024-09-25T18:15:35.381Z"
   },
   {
    "duration": 27,
    "start_time": "2024-09-25T18:15:35.388Z"
   },
   {
    "duration": 26,
    "start_time": "2024-09-25T18:15:35.417Z"
   },
   {
    "duration": 20,
    "start_time": "2024-09-25T18:15:35.444Z"
   },
   {
    "duration": 27,
    "start_time": "2024-09-25T18:15:35.465Z"
   },
   {
    "duration": 29,
    "start_time": "2024-09-25T18:15:35.494Z"
   },
   {
    "duration": 372,
    "start_time": "2024-09-25T18:15:35.524Z"
   },
   {
    "duration": 4,
    "start_time": "2024-09-25T18:15:35.897Z"
   },
   {
    "duration": 194,
    "start_time": "2024-09-25T18:15:35.902Z"
   },
   {
    "duration": 4,
    "start_time": "2024-09-25T18:15:36.098Z"
   },
   {
    "duration": 11,
    "start_time": "2024-09-25T18:15:36.104Z"
   },
   {
    "duration": 180,
    "start_time": "2024-09-25T18:15:36.116Z"
   },
   {
    "duration": 170,
    "start_time": "2024-09-25T18:15:36.297Z"
   },
   {
    "duration": 4,
    "start_time": "2024-09-25T18:15:36.468Z"
   },
   {
    "duration": 6,
    "start_time": "2024-09-25T18:15:36.474Z"
   },
   {
    "duration": 160,
    "start_time": "2024-09-25T18:15:36.481Z"
   },
   {
    "duration": 4,
    "start_time": "2024-09-25T18:15:36.643Z"
   },
   {
    "duration": 159,
    "start_time": "2024-09-25T18:15:36.648Z"
   },
   {
    "duration": 139,
    "start_time": "2024-09-25T18:15:36.814Z"
   },
   {
    "duration": 4,
    "start_time": "2024-09-25T18:15:36.955Z"
   },
   {
    "duration": 172,
    "start_time": "2024-09-25T18:15:36.960Z"
   },
   {
    "duration": 191,
    "start_time": "2024-09-25T18:15:37.134Z"
   },
   {
    "duration": 135,
    "start_time": "2024-09-25T18:15:37.327Z"
   },
   {
    "duration": 132,
    "start_time": "2024-09-25T18:15:37.464Z"
   },
   {
    "duration": 4,
    "start_time": "2024-09-25T18:15:37.598Z"
   },
   {
    "duration": 4,
    "start_time": "2024-09-25T18:15:37.616Z"
   },
   {
    "duration": 24,
    "start_time": "2024-09-25T18:15:37.622Z"
   },
   {
    "duration": 55,
    "start_time": "2024-09-25T18:15:48.208Z"
   },
   {
    "duration": 10,
    "start_time": "2024-09-25T18:15:58.904Z"
   },
   {
    "duration": 6,
    "start_time": "2024-09-25T18:16:04.668Z"
   },
   {
    "duration": 10,
    "start_time": "2024-09-25T18:17:14.859Z"
   },
   {
    "duration": 5,
    "start_time": "2024-09-25T18:17:18.547Z"
   },
   {
    "duration": 10,
    "start_time": "2024-09-25T18:19:32.628Z"
   },
   {
    "duration": 6,
    "start_time": "2024-09-25T18:20:23.353Z"
   },
   {
    "duration": 9,
    "start_time": "2024-09-25T18:23:41.863Z"
   },
   {
    "duration": 5,
    "start_time": "2024-09-25T18:24:53.421Z"
   },
   {
    "duration": 3,
    "start_time": "2024-09-25T18:24:55.496Z"
   },
   {
    "duration": 94,
    "start_time": "2024-09-25T18:25:02.541Z"
   },
   {
    "duration": 107,
    "start_time": "2024-09-25T18:25:02.636Z"
   },
   {
    "duration": 1926,
    "start_time": "2024-09-25T18:25:02.744Z"
   },
   {
    "duration": 16,
    "start_time": "2024-09-25T18:25:04.672Z"
   },
   {
    "duration": 26,
    "start_time": "2024-09-25T18:25:04.690Z"
   },
   {
    "duration": 8,
    "start_time": "2024-09-25T18:25:04.717Z"
   },
   {
    "duration": 160,
    "start_time": "2024-09-25T18:25:04.727Z"
   },
   {
    "duration": 152,
    "start_time": "2024-09-25T18:25:04.888Z"
   },
   {
    "duration": 21,
    "start_time": "2024-09-25T18:25:05.041Z"
   },
   {
    "duration": 7,
    "start_time": "2024-09-25T18:25:05.064Z"
   },
   {
    "duration": 42,
    "start_time": "2024-09-25T18:25:05.073Z"
   },
   {
    "duration": 15,
    "start_time": "2024-09-25T18:25:05.117Z"
   },
   {
    "duration": 12,
    "start_time": "2024-09-25T18:25:05.133Z"
   },
   {
    "duration": 132,
    "start_time": "2024-09-25T18:25:05.148Z"
   },
   {
    "duration": 5,
    "start_time": "2024-09-25T18:25:05.282Z"
   },
   {
    "duration": 14,
    "start_time": "2024-09-25T18:25:05.288Z"
   },
   {
    "duration": 14,
    "start_time": "2024-09-25T18:25:05.304Z"
   },
   {
    "duration": 181,
    "start_time": "2024-09-25T18:25:05.320Z"
   },
   {
    "duration": 12,
    "start_time": "2024-09-25T18:25:05.503Z"
   },
   {
    "duration": 3,
    "start_time": "2024-09-25T18:25:05.516Z"
   },
   {
    "duration": 58,
    "start_time": "2024-09-25T18:25:05.521Z"
   },
   {
    "duration": 1322,
    "start_time": "2024-09-25T18:25:05.581Z"
   },
   {
    "duration": 1361,
    "start_time": "2024-09-25T18:25:06.905Z"
   },
   {
    "duration": 9,
    "start_time": "2024-09-25T18:25:08.267Z"
   },
   {
    "duration": 31,
    "start_time": "2024-09-25T18:25:08.277Z"
   },
   {
    "duration": 23,
    "start_time": "2024-09-25T18:25:08.309Z"
   },
   {
    "duration": 112,
    "start_time": "2024-09-25T18:25:08.334Z"
   },
   {
    "duration": 44,
    "start_time": "2024-09-25T18:25:08.448Z"
   },
   {
    "duration": 9,
    "start_time": "2024-09-25T18:25:08.493Z"
   },
   {
    "duration": 28,
    "start_time": "2024-09-25T18:25:08.503Z"
   },
   {
    "duration": 33,
    "start_time": "2024-09-25T18:25:08.533Z"
   },
   {
    "duration": 6,
    "start_time": "2024-09-25T18:25:08.568Z"
   },
   {
    "duration": 26,
    "start_time": "2024-09-25T18:25:08.575Z"
   },
   {
    "duration": 13,
    "start_time": "2024-09-25T18:25:08.603Z"
   },
   {
    "duration": 29,
    "start_time": "2024-09-25T18:25:08.617Z"
   },
   {
    "duration": 15,
    "start_time": "2024-09-25T18:25:08.647Z"
   },
   {
    "duration": 29,
    "start_time": "2024-09-25T18:25:08.664Z"
   },
   {
    "duration": 11,
    "start_time": "2024-09-25T18:25:08.695Z"
   },
   {
    "duration": 28,
    "start_time": "2024-09-25T18:25:08.707Z"
   },
   {
    "duration": 10,
    "start_time": "2024-09-25T18:25:08.737Z"
   },
   {
    "duration": 314,
    "start_time": "2024-09-25T18:25:08.751Z"
   },
   {
    "duration": 4,
    "start_time": "2024-09-25T18:25:09.067Z"
   },
   {
    "duration": 191,
    "start_time": "2024-09-25T18:25:09.072Z"
   },
   {
    "duration": 4,
    "start_time": "2024-09-25T18:25:09.265Z"
   },
   {
    "duration": 18,
    "start_time": "2024-09-25T18:25:09.270Z"
   },
   {
    "duration": 173,
    "start_time": "2024-09-25T18:25:09.289Z"
   },
   {
    "duration": 166,
    "start_time": "2024-09-25T18:25:09.464Z"
   },
   {
    "duration": 4,
    "start_time": "2024-09-25T18:25:09.632Z"
   },
   {
    "duration": 12,
    "start_time": "2024-09-25T18:25:09.637Z"
   },
   {
    "duration": 142,
    "start_time": "2024-09-25T18:25:09.651Z"
   },
   {
    "duration": 4,
    "start_time": "2024-09-25T18:25:09.794Z"
   },
   {
    "duration": 171,
    "start_time": "2024-09-25T18:25:09.799Z"
   },
   {
    "duration": 132,
    "start_time": "2024-09-25T18:25:09.971Z"
   },
   {
    "duration": 12,
    "start_time": "2024-09-25T18:25:10.104Z"
   },
   {
    "duration": 173,
    "start_time": "2024-09-25T18:25:10.117Z"
   },
   {
    "duration": 159,
    "start_time": "2024-09-25T18:25:10.292Z"
   },
   {
    "duration": 125,
    "start_time": "2024-09-25T18:25:10.452Z"
   },
   {
    "duration": 255,
    "start_time": "2024-09-25T18:25:10.579Z"
   },
   {
    "duration": 4,
    "start_time": "2024-09-25T18:25:10.835Z"
   },
   {
    "duration": 13,
    "start_time": "2024-09-25T18:25:10.841Z"
   },
   {
    "duration": 9,
    "start_time": "2024-09-25T18:25:10.856Z"
   },
   {
    "duration": 10,
    "start_time": "2024-09-25T18:25:10.867Z"
   },
   {
    "duration": 4,
    "start_time": "2024-09-25T18:25:10.878Z"
   },
   {
    "duration": 4,
    "start_time": "2024-09-25T18:26:12.752Z"
   },
   {
    "duration": 6,
    "start_time": "2024-09-25T18:26:30.781Z"
   },
   {
    "duration": 129,
    "start_time": "2024-09-25T18:28:42.147Z"
   },
   {
    "duration": 115,
    "start_time": "2024-09-25T18:38:09.901Z"
   },
   {
    "duration": 4,
    "start_time": "2024-09-25T18:38:36.219Z"
   },
   {
    "duration": 3,
    "start_time": "2024-09-25T18:41:14.608Z"
   },
   {
    "duration": 74,
    "start_time": "2024-09-25T18:41:32.141Z"
   },
   {
    "duration": 4,
    "start_time": "2024-09-25T18:41:47.441Z"
   },
   {
    "duration": 52,
    "start_time": "2024-09-26T06:47:27.393Z"
   },
   {
    "duration": 773,
    "start_time": "2024-09-26T06:47:33.294Z"
   },
   {
    "duration": 103,
    "start_time": "2024-09-26T06:47:34.070Z"
   },
   {
    "duration": 2719,
    "start_time": "2024-09-26T06:47:34.175Z"
   },
   {
    "duration": 17,
    "start_time": "2024-09-26T06:47:36.896Z"
   },
   {
    "duration": 22,
    "start_time": "2024-09-26T06:47:36.914Z"
   },
   {
    "duration": 13,
    "start_time": "2024-09-26T06:47:36.938Z"
   },
   {
    "duration": 178,
    "start_time": "2024-09-26T06:47:36.952Z"
   },
   {
    "duration": 158,
    "start_time": "2024-09-26T06:47:37.131Z"
   },
   {
    "duration": 19,
    "start_time": "2024-09-26T06:47:37.291Z"
   },
   {
    "duration": 8,
    "start_time": "2024-09-26T06:47:37.327Z"
   },
   {
    "duration": 21,
    "start_time": "2024-09-26T06:47:37.337Z"
   },
   {
    "duration": 109,
    "start_time": "2024-09-26T06:47:37.360Z"
   },
   {
    "duration": 7,
    "start_time": "2024-09-26T06:47:37.471Z"
   },
   {
    "duration": 22,
    "start_time": "2024-09-26T06:47:37.480Z"
   },
   {
    "duration": 4,
    "start_time": "2024-09-26T06:47:37.504Z"
   },
   {
    "duration": 17,
    "start_time": "2024-09-26T06:47:37.510Z"
   },
   {
    "duration": 12,
    "start_time": "2024-09-26T06:47:37.529Z"
   },
   {
    "duration": 191,
    "start_time": "2024-09-26T06:47:37.543Z"
   },
   {
    "duration": 4,
    "start_time": "2024-09-26T06:47:37.736Z"
   },
   {
    "duration": 4,
    "start_time": "2024-09-26T06:47:37.742Z"
   },
   {
    "duration": 3,
    "start_time": "2024-09-26T06:47:37.748Z"
   },
   {
    "duration": 1434,
    "start_time": "2024-09-26T06:47:37.753Z"
   },
   {
    "duration": 1452,
    "start_time": "2024-09-26T06:47:39.189Z"
   },
   {
    "duration": 12,
    "start_time": "2024-09-26T06:47:40.643Z"
   },
   {
    "duration": 25,
    "start_time": "2024-09-26T06:47:40.657Z"
   },
   {
    "duration": 9,
    "start_time": "2024-09-26T06:47:40.684Z"
   },
   {
    "duration": 6,
    "start_time": "2024-09-26T06:47:40.695Z"
   },
   {
    "duration": 26,
    "start_time": "2024-09-26T06:47:40.726Z"
   },
   {
    "duration": 9,
    "start_time": "2024-09-26T06:47:40.754Z"
   },
   {
    "duration": 8,
    "start_time": "2024-09-26T06:47:40.765Z"
   },
   {
    "duration": 55,
    "start_time": "2024-09-26T06:47:40.774Z"
   },
   {
    "duration": 8,
    "start_time": "2024-09-26T06:47:40.831Z"
   },
   {
    "duration": 8,
    "start_time": "2024-09-26T06:47:40.841Z"
   },
   {
    "duration": 7,
    "start_time": "2024-09-26T06:47:40.851Z"
   },
   {
    "duration": 10,
    "start_time": "2024-09-26T06:47:40.860Z"
   },
   {
    "duration": 4,
    "start_time": "2024-09-26T06:47:40.872Z"
   },
   {
    "duration": 53,
    "start_time": "2024-09-26T06:47:40.877Z"
   },
   {
    "duration": 4,
    "start_time": "2024-09-26T06:47:40.932Z"
   },
   {
    "duration": 9,
    "start_time": "2024-09-26T06:47:40.937Z"
   },
   {
    "duration": 5,
    "start_time": "2024-09-26T06:47:40.948Z"
   },
   {
    "duration": 382,
    "start_time": "2024-09-26T06:47:40.955Z"
   },
   {
    "duration": 4,
    "start_time": "2024-09-26T06:47:41.339Z"
   },
   {
    "duration": 290,
    "start_time": "2024-09-26T06:47:41.344Z"
   },
   {
    "duration": 4,
    "start_time": "2024-09-26T06:47:41.636Z"
   },
   {
    "duration": 18,
    "start_time": "2024-09-26T06:47:41.642Z"
   },
   {
    "duration": 187,
    "start_time": "2024-09-26T06:47:41.662Z"
   },
   {
    "duration": 181,
    "start_time": "2024-09-26T06:47:41.851Z"
   },
   {
    "duration": 4,
    "start_time": "2024-09-26T06:47:42.034Z"
   },
   {
    "duration": 4,
    "start_time": "2024-09-26T06:47:42.040Z"
   },
   {
    "duration": 179,
    "start_time": "2024-09-26T06:47:42.046Z"
   },
   {
    "duration": 4,
    "start_time": "2024-09-26T06:47:42.227Z"
   },
   {
    "duration": 162,
    "start_time": "2024-09-26T06:47:42.232Z"
   },
   {
    "duration": 146,
    "start_time": "2024-09-26T06:47:42.396Z"
   },
   {
    "duration": 4,
    "start_time": "2024-09-26T06:47:42.544Z"
   },
   {
    "duration": 179,
    "start_time": "2024-09-26T06:47:42.549Z"
   },
   {
    "duration": 179,
    "start_time": "2024-09-26T06:47:42.730Z"
   },
   {
    "duration": 131,
    "start_time": "2024-09-26T06:47:42.910Z"
   },
   {
    "duration": 149,
    "start_time": "2024-09-26T06:47:43.042Z"
   },
   {
    "duration": 5,
    "start_time": "2024-09-26T06:47:43.192Z"
   },
   {
    "duration": 66,
    "start_time": "2024-09-26T06:47:43.198Z"
   },
   {
    "duration": 15,
    "start_time": "2024-09-26T06:47:43.265Z"
   },
   {
    "duration": 10,
    "start_time": "2024-09-26T06:47:43.282Z"
   },
   {
    "duration": 220,
    "start_time": "2024-09-26T06:47:43.294Z"
   },
   {
    "duration": 142,
    "start_time": "2024-09-26T06:47:43.516Z"
   },
   {
    "duration": 4,
    "start_time": "2024-09-26T06:47:47.727Z"
   },
   {
    "duration": 5,
    "start_time": "2024-09-26T06:47:50.030Z"
   },
   {
    "duration": 7,
    "start_time": "2024-09-26T06:52:23.576Z"
   },
   {
    "duration": 5,
    "start_time": "2024-09-26T06:52:36.122Z"
   },
   {
    "duration": 153,
    "start_time": "2024-09-26T06:53:17.913Z"
   },
   {
    "duration": 158,
    "start_time": "2024-09-26T06:54:26.640Z"
   },
   {
    "duration": 179,
    "start_time": "2024-09-26T06:54:45.424Z"
   },
   {
    "duration": 157,
    "start_time": "2024-09-26T06:55:21.308Z"
   },
   {
    "duration": 155,
    "start_time": "2024-09-26T07:01:35.917Z"
   },
   {
    "duration": 140,
    "start_time": "2024-09-26T07:02:40.253Z"
   },
   {
    "duration": 4,
    "start_time": "2024-09-26T07:04:40.026Z"
   },
   {
    "duration": 4,
    "start_time": "2024-09-26T07:04:48.578Z"
   },
   {
    "duration": 146,
    "start_time": "2024-09-26T07:13:54.292Z"
   },
   {
    "duration": 136,
    "start_time": "2024-09-26T07:14:05.468Z"
   },
   {
    "duration": 133,
    "start_time": "2024-09-26T07:18:31.010Z"
   },
   {
    "duration": 160,
    "start_time": "2024-09-26T07:19:06.926Z"
   },
   {
    "duration": 150,
    "start_time": "2024-09-26T07:24:07.771Z"
   },
   {
    "duration": 8,
    "start_time": "2024-09-26T07:25:34.752Z"
   },
   {
    "duration": 5,
    "start_time": "2024-09-26T07:36:29.417Z"
   },
   {
    "duration": 8,
    "start_time": "2024-09-26T07:40:11.178Z"
   },
   {
    "duration": 8,
    "start_time": "2024-09-26T07:40:36.534Z"
   },
   {
    "duration": 209,
    "start_time": "2024-09-26T07:50:51.691Z"
   },
   {
    "duration": 280,
    "start_time": "2024-09-26T07:51:54.619Z"
   },
   {
    "duration": 319,
    "start_time": "2024-09-26T07:52:13.508Z"
   },
   {
    "duration": 186,
    "start_time": "2024-09-26T07:52:59.119Z"
   },
   {
    "duration": 8,
    "start_time": "2024-09-26T07:56:10.997Z"
   },
   {
    "duration": 944,
    "start_time": "2024-09-26T07:58:50.829Z"
   },
   {
    "duration": 5,
    "start_time": "2024-09-26T07:59:01.328Z"
   },
   {
    "duration": 8,
    "start_time": "2024-09-26T08:00:04.735Z"
   },
   {
    "duration": 248,
    "start_time": "2024-09-26T08:00:11.816Z"
   },
   {
    "duration": 248,
    "start_time": "2024-09-26T08:00:22.247Z"
   },
   {
    "duration": 306,
    "start_time": "2024-09-26T08:00:43.561Z"
   },
   {
    "duration": 229,
    "start_time": "2024-09-26T08:00:57.436Z"
   },
   {
    "duration": 315,
    "start_time": "2024-09-26T08:01:06.957Z"
   },
   {
    "duration": 37,
    "start_time": "2024-09-26T08:21:13.120Z"
   },
   {
    "duration": 12,
    "start_time": "2024-09-26T08:22:33.816Z"
   },
   {
    "duration": 8,
    "start_time": "2024-09-26T08:23:29.372Z"
   },
   {
    "duration": 14,
    "start_time": "2024-09-26T08:24:35.262Z"
   },
   {
    "duration": 23,
    "start_time": "2024-09-26T08:25:06.439Z"
   },
   {
    "duration": 30,
    "start_time": "2024-09-26T08:26:12.276Z"
   },
   {
    "duration": 27,
    "start_time": "2024-09-26T08:27:04.403Z"
   },
   {
    "duration": 51,
    "start_time": "2024-09-26T08:28:13.881Z"
   },
   {
    "duration": 29,
    "start_time": "2024-09-26T08:28:22.458Z"
   },
   {
    "duration": 30,
    "start_time": "2024-09-26T08:28:47.475Z"
   },
   {
    "duration": 21,
    "start_time": "2024-09-26T08:31:11.934Z"
   },
   {
    "duration": 20,
    "start_time": "2024-09-26T08:32:57.596Z"
   },
   {
    "duration": 22,
    "start_time": "2024-09-26T08:39:19.350Z"
   },
   {
    "duration": 10,
    "start_time": "2024-09-26T08:55:51.320Z"
   },
   {
    "duration": 10,
    "start_time": "2024-09-26T08:56:36.313Z"
   },
   {
    "duration": 21,
    "start_time": "2024-09-26T08:56:56.834Z"
   },
   {
    "duration": 8,
    "start_time": "2024-09-26T08:57:39.277Z"
   },
   {
    "duration": 23,
    "start_time": "2024-09-26T09:01:00.559Z"
   },
   {
    "duration": 958,
    "start_time": "2024-09-26T09:01:47.864Z"
   },
   {
    "duration": 947,
    "start_time": "2024-09-26T09:02:28.056Z"
   },
   {
    "duration": 976,
    "start_time": "2024-09-26T09:02:45.265Z"
   },
   {
    "duration": 14,
    "start_time": "2024-09-26T09:03:15.713Z"
   },
   {
    "duration": 13,
    "start_time": "2024-09-26T09:03:39.812Z"
   },
   {
    "duration": 20,
    "start_time": "2024-09-26T09:03:48.580Z"
   },
   {
    "duration": 18,
    "start_time": "2024-09-26T09:04:36.354Z"
   },
   {
    "duration": 22,
    "start_time": "2024-09-26T09:04:44.932Z"
   },
   {
    "duration": 50,
    "start_time": "2024-09-26T09:05:55.673Z"
   },
   {
    "duration": 68,
    "start_time": "2024-09-26T09:06:44.986Z"
   },
   {
    "duration": 52,
    "start_time": "2024-09-26T09:06:55.566Z"
   },
   {
    "duration": 48,
    "start_time": "2024-09-26T09:07:02.712Z"
   },
   {
    "duration": 49,
    "start_time": "2024-09-26T09:07:29.758Z"
   },
   {
    "duration": 16,
    "start_time": "2024-09-26T09:07:39.516Z"
   },
   {
    "duration": 950,
    "start_time": "2024-09-26T09:08:05.174Z"
   },
   {
    "duration": 1004,
    "start_time": "2024-09-26T09:10:24.242Z"
   },
   {
    "duration": 14,
    "start_time": "2024-09-26T09:11:34.714Z"
   },
   {
    "duration": 17,
    "start_time": "2024-09-26T09:11:41.641Z"
   },
   {
    "duration": 17,
    "start_time": "2024-09-26T09:12:17.697Z"
   },
   {
    "duration": 17,
    "start_time": "2024-09-26T09:12:47.441Z"
   },
   {
    "duration": 18,
    "start_time": "2024-09-26T09:13:25.822Z"
   },
   {
    "duration": 941,
    "start_time": "2024-09-26T09:13:53.887Z"
   },
   {
    "duration": 981,
    "start_time": "2024-09-26T09:14:47.645Z"
   },
   {
    "duration": 964,
    "start_time": "2024-09-26T09:15:07.553Z"
   },
   {
    "duration": 16,
    "start_time": "2024-09-26T09:15:31.420Z"
   },
   {
    "duration": 31,
    "start_time": "2024-09-26T11:08:09.580Z"
   },
   {
    "duration": 17,
    "start_time": "2024-09-26T11:08:27.162Z"
   },
   {
    "duration": 15,
    "start_time": "2024-09-26T11:08:48.047Z"
   },
   {
    "duration": 26,
    "start_time": "2024-09-26T11:10:11.976Z"
   },
   {
    "duration": 18,
    "start_time": "2024-09-26T11:11:01.724Z"
   },
   {
    "duration": 150,
    "start_time": "2024-09-26T11:11:29.649Z"
   },
   {
    "duration": 162,
    "start_time": "2024-09-26T11:12:27.660Z"
   },
   {
    "duration": 155,
    "start_time": "2024-09-26T11:12:33.716Z"
   },
   {
    "duration": 953,
    "start_time": "2024-09-26T11:13:14.015Z"
   },
   {
    "duration": 23,
    "start_time": "2024-09-26T11:13:52.206Z"
   },
   {
    "duration": 23,
    "start_time": "2024-09-26T11:14:23.209Z"
   },
   {
    "duration": 23,
    "start_time": "2024-09-26T11:14:37.447Z"
   },
   {
    "duration": 23,
    "start_time": "2024-09-26T11:16:56.973Z"
   },
   {
    "duration": 23,
    "start_time": "2024-09-26T11:20:26.802Z"
   },
   {
    "duration": 25,
    "start_time": "2024-09-26T11:22:45.682Z"
   },
   {
    "duration": 59,
    "start_time": "2024-09-26T11:22:52.120Z"
   },
   {
    "duration": 25,
    "start_time": "2024-09-26T11:23:06.912Z"
   },
   {
    "duration": 184,
    "start_time": "2024-09-26T11:23:15.881Z"
   },
   {
    "duration": 7,
    "start_time": "2024-09-26T11:23:59.540Z"
   },
   {
    "duration": 146,
    "start_time": "2024-09-26T11:24:10.193Z"
   },
   {
    "duration": 22,
    "start_time": "2024-09-26T11:26:29.769Z"
   },
   {
    "duration": 17,
    "start_time": "2024-09-26T11:37:36.617Z"
   },
   {
    "duration": 166,
    "start_time": "2024-09-26T11:39:37.583Z"
   },
   {
    "duration": 26,
    "start_time": "2024-09-26T11:42:41.755Z"
   },
   {
    "duration": 244,
    "start_time": "2024-09-26T12:03:59.791Z"
   },
   {
    "duration": 250,
    "start_time": "2024-09-26T12:04:09.177Z"
   },
   {
    "duration": 223,
    "start_time": "2024-09-26T12:04:31.640Z"
   },
   {
    "duration": 282,
    "start_time": "2024-09-26T12:04:37.021Z"
   },
   {
    "duration": 7,
    "start_time": "2024-09-26T12:21:51.364Z"
   },
   {
    "duration": 301,
    "start_time": "2024-09-26T12:22:19.741Z"
   },
   {
    "duration": 152,
    "start_time": "2024-09-26T12:22:42.682Z"
   },
   {
    "duration": 255,
    "start_time": "2024-09-26T12:23:41.267Z"
   },
   {
    "duration": 275,
    "start_time": "2024-09-26T12:24:00.086Z"
   },
   {
    "duration": 8,
    "start_time": "2024-09-26T12:25:46.239Z"
   },
   {
    "duration": 152,
    "start_time": "2024-09-26T12:25:52.867Z"
   },
   {
    "duration": 202,
    "start_time": "2024-09-26T12:26:23.925Z"
   },
   {
    "duration": 19,
    "start_time": "2024-09-26T12:28:34.048Z"
   },
   {
    "duration": 159,
    "start_time": "2024-09-26T12:28:57.031Z"
   },
   {
    "duration": 20,
    "start_time": "2024-09-26T12:29:20.243Z"
   },
   {
    "duration": 1035,
    "start_time": "2024-09-26T12:29:47.547Z"
   },
   {
    "duration": 186,
    "start_time": "2024-09-26T12:30:39.548Z"
   },
   {
    "duration": 20,
    "start_time": "2024-09-26T12:31:19.384Z"
   },
   {
    "duration": 1056,
    "start_time": "2024-09-26T12:32:31.539Z"
   },
   {
    "duration": 19,
    "start_time": "2024-09-26T12:32:50.619Z"
   },
   {
    "duration": 9,
    "start_time": "2024-09-26T12:33:07.248Z"
   },
   {
    "duration": 19,
    "start_time": "2024-09-26T12:33:13.207Z"
   },
   {
    "duration": 153,
    "start_time": "2024-09-26T12:34:14.205Z"
   },
   {
    "duration": 7,
    "start_time": "2024-09-26T12:39:52.134Z"
   },
   {
    "duration": 172,
    "start_time": "2024-09-26T12:40:41.711Z"
   },
   {
    "duration": 5,
    "start_time": "2024-09-26T12:43:23.779Z"
   },
   {
    "duration": 5,
    "start_time": "2024-09-26T12:49:59.239Z"
   },
   {
    "duration": 153,
    "start_time": "2024-09-26T12:50:31.490Z"
   },
   {
    "duration": 4,
    "start_time": "2024-09-26T12:55:08.653Z"
   },
   {
    "duration": 172,
    "start_time": "2024-09-26T12:55:21.913Z"
   },
   {
    "duration": 154,
    "start_time": "2024-09-26T12:56:55.762Z"
   },
   {
    "duration": 178,
    "start_time": "2024-09-26T12:57:49.723Z"
   },
   {
    "duration": 139,
    "start_time": "2024-09-26T12:58:29.092Z"
   },
   {
    "duration": 6,
    "start_time": "2024-09-26T13:00:51.998Z"
   },
   {
    "duration": 159,
    "start_time": "2024-09-26T13:01:24.470Z"
   },
   {
    "duration": 176,
    "start_time": "2024-09-26T13:01:42.011Z"
   },
   {
    "duration": 152,
    "start_time": "2024-09-26T13:01:56.059Z"
   },
   {
    "duration": 50,
    "start_time": "2024-09-27T06:14:43.722Z"
   },
   {
    "duration": 615,
    "start_time": "2024-09-27T06:14:48.079Z"
   },
   {
    "duration": 100,
    "start_time": "2024-09-27T06:14:48.696Z"
   },
   {
    "duration": 16,
    "start_time": "2024-09-27T06:14:48.798Z"
   },
   {
    "duration": 2634,
    "start_time": "2024-09-27T06:14:48.822Z"
   },
   {
    "duration": 12,
    "start_time": "2024-09-27T06:14:51.457Z"
   },
   {
    "duration": 35,
    "start_time": "2024-09-27T06:14:51.470Z"
   },
   {
    "duration": 253,
    "start_time": "2024-09-27T06:14:51.507Z"
   },
   {
    "duration": 171,
    "start_time": "2024-09-27T06:14:51.762Z"
   },
   {
    "duration": 18,
    "start_time": "2024-09-27T06:14:51.934Z"
   },
   {
    "duration": 8,
    "start_time": "2024-09-27T06:14:51.955Z"
   },
   {
    "duration": 46,
    "start_time": "2024-09-27T06:14:51.965Z"
   },
   {
    "duration": 16,
    "start_time": "2024-09-27T06:14:52.020Z"
   },
   {
    "duration": 9,
    "start_time": "2024-09-27T06:14:52.038Z"
   },
   {
    "duration": 35,
    "start_time": "2024-09-27T06:14:52.049Z"
   },
   {
    "duration": 5,
    "start_time": "2024-09-27T06:14:52.086Z"
   },
   {
    "duration": 34,
    "start_time": "2024-09-27T06:14:52.093Z"
   },
   {
    "duration": 11,
    "start_time": "2024-09-27T06:14:52.129Z"
   },
   {
    "duration": 197,
    "start_time": "2024-09-27T06:14:52.142Z"
   },
   {
    "duration": 6,
    "start_time": "2024-09-27T06:14:52.341Z"
   },
   {
    "duration": 34,
    "start_time": "2024-09-27T06:14:52.349Z"
   },
   {
    "duration": 23,
    "start_time": "2024-09-27T06:14:52.384Z"
   },
   {
    "duration": 1383,
    "start_time": "2024-09-27T06:14:52.409Z"
   },
   {
    "duration": 1414,
    "start_time": "2024-09-27T06:14:53.794Z"
   },
   {
    "duration": 11,
    "start_time": "2024-09-27T06:14:55.210Z"
   },
   {
    "duration": 23,
    "start_time": "2024-09-27T06:14:55.223Z"
   },
   {
    "duration": 9,
    "start_time": "2024-09-27T06:14:55.248Z"
   },
   {
    "duration": 9,
    "start_time": "2024-09-27T06:14:55.259Z"
   },
   {
    "duration": 27,
    "start_time": "2024-09-27T06:14:55.272Z"
   },
   {
    "duration": 8,
    "start_time": "2024-09-27T06:14:55.320Z"
   },
   {
    "duration": 9,
    "start_time": "2024-09-27T06:14:55.330Z"
   },
   {
    "duration": 31,
    "start_time": "2024-09-27T06:14:55.341Z"
   },
   {
    "duration": 7,
    "start_time": "2024-09-27T06:14:55.374Z"
   },
   {
    "duration": 39,
    "start_time": "2024-09-27T06:14:55.383Z"
   },
   {
    "duration": 7,
    "start_time": "2024-09-27T06:14:55.423Z"
   },
   {
    "duration": 72,
    "start_time": "2024-09-27T06:14:55.432Z"
   },
   {
    "duration": 91,
    "start_time": "2024-09-27T06:14:55.506Z"
   },
   {
    "duration": 14,
    "start_time": "2024-09-27T06:14:55.598Z"
   },
   {
    "duration": 12,
    "start_time": "2024-09-27T06:14:55.613Z"
   },
   {
    "duration": 21,
    "start_time": "2024-09-27T06:14:55.626Z"
   },
   {
    "duration": 6,
    "start_time": "2024-09-27T06:14:55.649Z"
   },
   {
    "duration": 6,
    "start_time": "2024-09-27T06:14:55.656Z"
   },
   {
    "duration": 391,
    "start_time": "2024-09-27T06:14:55.663Z"
   },
   {
    "duration": 4,
    "start_time": "2024-09-27T06:14:56.056Z"
   },
   {
    "duration": 213,
    "start_time": "2024-09-27T06:14:56.062Z"
   },
   {
    "duration": 5,
    "start_time": "2024-09-27T06:14:56.276Z"
   },
   {
    "duration": 7,
    "start_time": "2024-09-27T06:14:56.282Z"
   },
   {
    "duration": 209,
    "start_time": "2024-09-27T06:14:56.290Z"
   },
   {
    "duration": 190,
    "start_time": "2024-09-27T06:14:56.500Z"
   },
   {
    "duration": 5,
    "start_time": "2024-09-27T06:14:56.691Z"
   },
   {
    "duration": 23,
    "start_time": "2024-09-27T06:14:56.698Z"
   },
   {
    "duration": 167,
    "start_time": "2024-09-27T06:14:56.723Z"
   },
   {
    "duration": 5,
    "start_time": "2024-09-27T06:14:56.892Z"
   },
   {
    "duration": 174,
    "start_time": "2024-09-27T06:14:56.899Z"
   },
   {
    "duration": 154,
    "start_time": "2024-09-27T06:14:57.075Z"
   },
   {
    "duration": 4,
    "start_time": "2024-09-27T06:14:57.230Z"
   },
   {
    "duration": 180,
    "start_time": "2024-09-27T06:14:57.236Z"
   },
   {
    "duration": 196,
    "start_time": "2024-09-27T06:14:57.417Z"
   },
   {
    "duration": 142,
    "start_time": "2024-09-27T06:14:57.614Z"
   },
   {
    "duration": 233,
    "start_time": "2024-09-27T06:14:57.758Z"
   },
   {
    "duration": 4,
    "start_time": "2024-09-27T06:14:57.993Z"
   },
   {
    "duration": 21,
    "start_time": "2024-09-27T06:14:57.999Z"
   },
   {
    "duration": 16,
    "start_time": "2024-09-27T06:14:58.022Z"
   },
   {
    "duration": 25,
    "start_time": "2024-09-27T06:14:58.040Z"
   },
   {
    "duration": 147,
    "start_time": "2024-09-27T06:14:58.067Z"
   },
   {
    "duration": 147,
    "start_time": "2024-09-27T06:14:58.216Z"
   },
   {
    "duration": 5,
    "start_time": "2024-09-27T06:14:58.365Z"
   },
   {
    "duration": 14,
    "start_time": "2024-09-27T06:14:58.372Z"
   },
   {
    "duration": 11,
    "start_time": "2024-09-27T06:14:58.388Z"
   },
   {
    "duration": 167,
    "start_time": "2024-09-27T06:14:58.400Z"
   },
   {
    "duration": 156,
    "start_time": "2024-09-27T06:14:58.569Z"
   },
   {
    "duration": 163,
    "start_time": "2024-09-27T06:14:58.727Z"
   },
   {
    "duration": 163,
    "start_time": "2024-09-27T06:14:58.892Z"
   },
   {
    "duration": 8,
    "start_time": "2024-09-27T06:14:59.057Z"
   },
   {
    "duration": 11,
    "start_time": "2024-09-27T06:14:59.067Z"
   },
   {
    "duration": 4,
    "start_time": "2024-09-27T06:14:59.079Z"
   },
   {
    "duration": 189,
    "start_time": "2024-09-27T06:14:59.085Z"
   },
   {
    "duration": 4,
    "start_time": "2024-09-27T06:14:59.276Z"
   },
   {
    "duration": 5,
    "start_time": "2024-09-27T06:14:59.282Z"
   },
   {
    "duration": 161,
    "start_time": "2024-09-27T06:14:59.288Z"
   },
   {
    "duration": 5,
    "start_time": "2024-09-27T06:15:02.932Z"
   },
   {
    "duration": 6,
    "start_time": "2024-09-27T06:22:32.207Z"
   },
   {
    "duration": 4,
    "start_time": "2024-09-27T06:25:42.520Z"
   },
   {
    "duration": 4,
    "start_time": "2024-09-27T06:28:22.149Z"
   },
   {
    "duration": 5,
    "start_time": "2024-09-27T06:33:41.957Z"
   },
   {
    "duration": 7,
    "start_time": "2024-09-27T06:44:41.448Z"
   },
   {
    "duration": 6,
    "start_time": "2024-09-27T06:46:56.070Z"
   },
   {
    "duration": 5,
    "start_time": "2024-09-27T06:52:48.820Z"
   },
   {
    "duration": 4,
    "start_time": "2024-09-27T06:53:04.060Z"
   },
   {
    "duration": 16,
    "start_time": "2024-09-27T06:53:34.223Z"
   },
   {
    "duration": 12,
    "start_time": "2024-09-27T06:53:56.765Z"
   },
   {
    "duration": 14,
    "start_time": "2024-09-27T07:02:51.401Z"
   },
   {
    "duration": 13,
    "start_time": "2024-09-27T07:03:08.575Z"
   },
   {
    "duration": 5,
    "start_time": "2024-09-27T07:14:58.458Z"
   },
   {
    "duration": 7,
    "start_time": "2024-09-27T08:52:56.443Z"
   },
   {
    "duration": 97,
    "start_time": "2024-09-27T08:53:04.424Z"
   },
   {
    "duration": 114,
    "start_time": "2024-09-27T08:53:04.523Z"
   },
   {
    "duration": 19,
    "start_time": "2024-09-27T08:53:04.639Z"
   },
   {
    "duration": 2199,
    "start_time": "2024-09-27T08:53:04.661Z"
   },
   {
    "duration": 10,
    "start_time": "2024-09-27T08:53:06.862Z"
   },
   {
    "duration": 43,
    "start_time": "2024-09-27T08:53:06.873Z"
   },
   {
    "duration": 166,
    "start_time": "2024-09-27T08:53:06.918Z"
   },
   {
    "duration": 159,
    "start_time": "2024-09-27T08:53:07.086Z"
   },
   {
    "duration": 18,
    "start_time": "2024-09-27T08:53:07.247Z"
   },
   {
    "duration": 20,
    "start_time": "2024-09-27T08:53:07.268Z"
   },
   {
    "duration": 32,
    "start_time": "2024-09-27T08:53:07.290Z"
   },
   {
    "duration": 18,
    "start_time": "2024-09-27T08:53:07.324Z"
   },
   {
    "duration": 6,
    "start_time": "2024-09-27T08:53:07.343Z"
   },
   {
    "duration": 23,
    "start_time": "2024-09-27T08:53:07.350Z"
   },
   {
    "duration": 11,
    "start_time": "2024-09-27T08:53:07.375Z"
   },
   {
    "duration": 17,
    "start_time": "2024-09-27T08:53:07.388Z"
   },
   {
    "duration": 14,
    "start_time": "2024-09-27T08:53:07.407Z"
   },
   {
    "duration": 187,
    "start_time": "2024-09-27T08:53:07.423Z"
   },
   {
    "duration": 4,
    "start_time": "2024-09-27T08:53:07.612Z"
   },
   {
    "duration": 17,
    "start_time": "2024-09-27T08:53:07.619Z"
   },
   {
    "duration": 7,
    "start_time": "2024-09-27T08:53:07.638Z"
   },
   {
    "duration": 1411,
    "start_time": "2024-09-27T08:53:07.647Z"
   },
   {
    "duration": 1363,
    "start_time": "2024-09-27T08:53:09.060Z"
   },
   {
    "duration": 10,
    "start_time": "2024-09-27T08:53:10.424Z"
   },
   {
    "duration": 15,
    "start_time": "2024-09-27T08:53:10.435Z"
   },
   {
    "duration": 16,
    "start_time": "2024-09-27T08:53:10.452Z"
   },
   {
    "duration": 4,
    "start_time": "2024-09-27T08:53:10.470Z"
   },
   {
    "duration": 45,
    "start_time": "2024-09-27T08:53:10.478Z"
   },
   {
    "duration": 8,
    "start_time": "2024-09-27T08:53:10.525Z"
   },
   {
    "duration": 10,
    "start_time": "2024-09-27T08:53:10.541Z"
   },
   {
    "duration": 47,
    "start_time": "2024-09-27T08:53:10.553Z"
   },
   {
    "duration": 14,
    "start_time": "2024-09-27T08:53:10.602Z"
   },
   {
    "duration": 23,
    "start_time": "2024-09-27T08:53:10.617Z"
   },
   {
    "duration": 10,
    "start_time": "2024-09-27T08:53:10.642Z"
   },
   {
    "duration": 8,
    "start_time": "2024-09-27T08:53:10.654Z"
   },
   {
    "duration": 12,
    "start_time": "2024-09-27T08:53:10.664Z"
   },
   {
    "duration": 9,
    "start_time": "2024-09-27T08:53:10.678Z"
   },
   {
    "duration": 6,
    "start_time": "2024-09-27T08:53:10.689Z"
   },
   {
    "duration": 22,
    "start_time": "2024-09-27T08:53:10.696Z"
   },
   {
    "duration": 5,
    "start_time": "2024-09-27T08:53:10.720Z"
   },
   {
    "duration": 6,
    "start_time": "2024-09-27T08:53:10.726Z"
   },
   {
    "duration": 437,
    "start_time": "2024-09-27T08:53:10.734Z"
   },
   {
    "duration": 4,
    "start_time": "2024-09-27T08:53:11.173Z"
   },
   {
    "duration": 198,
    "start_time": "2024-09-27T08:53:11.179Z"
   },
   {
    "duration": 5,
    "start_time": "2024-09-27T08:53:11.379Z"
   },
   {
    "duration": 21,
    "start_time": "2024-09-27T08:53:11.385Z"
   },
   {
    "duration": 198,
    "start_time": "2024-09-27T08:53:11.407Z"
   },
   {
    "duration": 213,
    "start_time": "2024-09-27T08:53:11.607Z"
   },
   {
    "duration": 5,
    "start_time": "2024-09-27T08:53:11.822Z"
   },
   {
    "duration": 24,
    "start_time": "2024-09-27T08:53:11.829Z"
   },
   {
    "duration": 170,
    "start_time": "2024-09-27T08:53:11.854Z"
   },
   {
    "duration": 5,
    "start_time": "2024-09-27T08:53:12.026Z"
   },
   {
    "duration": 214,
    "start_time": "2024-09-27T08:53:12.033Z"
   },
   {
    "duration": 180,
    "start_time": "2024-09-27T08:53:12.250Z"
   },
   {
    "duration": 5,
    "start_time": "2024-09-27T08:53:12.432Z"
   },
   {
    "duration": 226,
    "start_time": "2024-09-27T08:53:12.438Z"
   },
   {
    "duration": 194,
    "start_time": "2024-09-27T08:53:12.666Z"
   },
   {
    "duration": 140,
    "start_time": "2024-09-27T08:53:12.862Z"
   },
   {
    "duration": 157,
    "start_time": "2024-09-27T08:53:13.004Z"
   },
   {
    "duration": 5,
    "start_time": "2024-09-27T08:53:13.163Z"
   },
   {
    "duration": 8,
    "start_time": "2024-09-27T08:53:13.170Z"
   },
   {
    "duration": 37,
    "start_time": "2024-09-27T08:53:13.180Z"
   },
   {
    "duration": 5,
    "start_time": "2024-09-27T08:53:17.737Z"
   },
   {
    "duration": 10,
    "start_time": "2024-09-27T08:53:39.445Z"
   },
   {
    "duration": 95,
    "start_time": "2024-09-29T05:45:20.723Z"
   },
   {
    "duration": 420,
    "start_time": "2024-09-29T05:47:58.484Z"
   },
   {
    "duration": 160,
    "start_time": "2024-09-29T05:48:00.229Z"
   },
   {
    "duration": 7,
    "start_time": "2024-09-29T05:48:02.228Z"
   },
   {
    "duration": 22,
    "start_time": "2024-09-29T05:48:24.381Z"
   },
   {
    "duration": 3,
    "start_time": "2024-09-29T05:48:48.363Z"
   },
   {
    "duration": 142,
    "start_time": "2024-09-29T05:49:02.042Z"
   },
   {
    "duration": 62,
    "start_time": "2024-09-29T05:54:39.761Z"
   },
   {
    "duration": 30,
    "start_time": "2024-09-29T05:56:13.344Z"
   },
   {
    "duration": 2,
    "start_time": "2024-09-29T05:59:24.323Z"
   },
   {
    "duration": 101,
    "start_time": "2024-09-29T05:59:24.327Z"
   },
   {
    "duration": 7,
    "start_time": "2024-09-29T05:59:24.430Z"
   },
   {
    "duration": 3,
    "start_time": "2024-09-29T05:59:24.439Z"
   },
   {
    "duration": 108,
    "start_time": "2024-09-29T05:59:24.443Z"
   },
   {
    "duration": 17,
    "start_time": "2024-09-29T05:59:24.553Z"
   },
   {
    "duration": 24,
    "start_time": "2024-09-29T05:59:24.572Z"
   },
   {
    "duration": 2699,
    "start_time": "2024-09-29T05:59:24.598Z"
   },
   {
    "duration": 21,
    "start_time": "2024-09-29T05:59:27.299Z"
   },
   {
    "duration": 13,
    "start_time": "2024-09-29T05:59:39.183Z"
   },
   {
    "duration": 15,
    "start_time": "2024-09-29T06:02:48.236Z"
   },
   {
    "duration": 32,
    "start_time": "2024-09-29T06:04:02.573Z"
   },
   {
    "duration": 16,
    "start_time": "2024-09-29T06:04:41.276Z"
   },
   {
    "duration": 15,
    "start_time": "2024-09-29T06:04:54.120Z"
   },
   {
    "duration": 3,
    "start_time": "2024-09-29T06:06:34.360Z"
   },
   {
    "duration": 134,
    "start_time": "2024-09-29T06:06:34.366Z"
   },
   {
    "duration": 9,
    "start_time": "2024-09-29T06:06:34.501Z"
   },
   {
    "duration": 38,
    "start_time": "2024-09-29T06:06:34.512Z"
   },
   {
    "duration": 169,
    "start_time": "2024-09-29T06:06:34.553Z"
   },
   {
    "duration": 25,
    "start_time": "2024-09-29T06:06:34.724Z"
   },
   {
    "duration": 32,
    "start_time": "2024-09-29T06:06:34.751Z"
   },
   {
    "duration": 2088,
    "start_time": "2024-09-29T06:06:34.785Z"
   },
   {
    "duration": 11,
    "start_time": "2024-09-29T06:06:36.874Z"
   },
   {
    "duration": 18,
    "start_time": "2024-09-29T06:06:36.886Z"
   },
   {
    "duration": 9,
    "start_time": "2024-09-29T06:06:36.905Z"
   },
   {
    "duration": 178,
    "start_time": "2024-09-29T06:06:36.916Z"
   },
   {
    "duration": 180,
    "start_time": "2024-09-29T06:06:37.097Z"
   },
   {
    "duration": 20,
    "start_time": "2024-09-29T06:06:37.279Z"
   },
   {
    "duration": 6,
    "start_time": "2024-09-29T06:06:37.301Z"
   },
   {
    "duration": 51,
    "start_time": "2024-09-29T06:06:37.309Z"
   },
   {
    "duration": 18,
    "start_time": "2024-09-29T06:06:37.362Z"
   },
   {
    "duration": 6,
    "start_time": "2024-09-29T06:06:37.382Z"
   },
   {
    "duration": 28,
    "start_time": "2024-09-29T06:06:37.389Z"
   },
   {
    "duration": 5,
    "start_time": "2024-09-29T06:06:37.418Z"
   },
   {
    "duration": 6,
    "start_time": "2024-09-29T06:06:37.446Z"
   },
   {
    "duration": 18,
    "start_time": "2024-09-29T06:06:37.453Z"
   },
   {
    "duration": 177,
    "start_time": "2024-09-29T06:06:37.473Z"
   },
   {
    "duration": 4,
    "start_time": "2024-09-29T06:06:37.652Z"
   },
   {
    "duration": 5,
    "start_time": "2024-09-29T06:06:37.658Z"
   },
   {
    "duration": 3,
    "start_time": "2024-09-29T06:06:41.344Z"
   },
   {
    "duration": 4,
    "start_time": "2024-09-29T06:06:42.212Z"
   },
   {
    "duration": 4,
    "start_time": "2024-09-29T06:08:01.331Z"
   },
   {
    "duration": 3,
    "start_time": "2024-09-29T06:12:40.473Z"
   },
   {
    "duration": 105,
    "start_time": "2024-09-29T06:12:40.478Z"
   },
   {
    "duration": 8,
    "start_time": "2024-09-29T06:12:40.585Z"
   },
   {
    "duration": 2,
    "start_time": "2024-09-29T06:12:40.596Z"
   },
   {
    "duration": 147,
    "start_time": "2024-09-29T06:12:40.600Z"
   },
   {
    "duration": 16,
    "start_time": "2024-09-29T06:12:40.748Z"
   },
   {
    "duration": 23,
    "start_time": "2024-09-29T06:12:40.765Z"
   },
   {
    "duration": 2099,
    "start_time": "2024-09-29T06:12:40.790Z"
   },
   {
    "duration": 9,
    "start_time": "2024-09-29T06:12:42.892Z"
   },
   {
    "duration": 15,
    "start_time": "2024-09-29T06:12:42.903Z"
   },
   {
    "duration": 27,
    "start_time": "2024-09-29T06:12:42.920Z"
   },
   {
    "duration": 172,
    "start_time": "2024-09-29T06:12:42.949Z"
   },
   {
    "duration": 165,
    "start_time": "2024-09-29T06:12:43.123Z"
   },
   {
    "duration": 18,
    "start_time": "2024-09-29T06:12:43.289Z"
   },
   {
    "duration": 15,
    "start_time": "2024-09-29T06:12:43.309Z"
   },
   {
    "duration": 35,
    "start_time": "2024-09-29T06:12:43.326Z"
   },
   {
    "duration": 18,
    "start_time": "2024-09-29T06:12:43.363Z"
   },
   {
    "duration": 6,
    "start_time": "2024-09-29T06:12:43.382Z"
   },
   {
    "duration": 34,
    "start_time": "2024-09-29T06:12:43.390Z"
   },
   {
    "duration": 24,
    "start_time": "2024-09-29T06:12:43.426Z"
   },
   {
    "duration": 21,
    "start_time": "2024-09-29T06:12:43.451Z"
   },
   {
    "duration": 11,
    "start_time": "2024-09-29T06:12:43.474Z"
   },
   {
    "duration": 180,
    "start_time": "2024-09-29T06:12:43.487Z"
   },
   {
    "duration": 4,
    "start_time": "2024-09-29T06:12:43.671Z"
   },
   {
    "duration": 3,
    "start_time": "2024-09-29T06:12:43.677Z"
   },
   {
    "duration": 5,
    "start_time": "2024-09-29T06:12:43.681Z"
   },
   {
    "duration": 8,
    "start_time": "2024-09-29T06:12:43.688Z"
   },
   {
    "duration": 1424,
    "start_time": "2024-09-29T06:12:43.698Z"
   },
   {
    "duration": 1464,
    "start_time": "2024-09-29T06:12:45.124Z"
   },
   {
    "duration": 10,
    "start_time": "2024-09-29T06:12:46.589Z"
   },
   {
    "duration": 32,
    "start_time": "2024-09-29T06:12:46.601Z"
   },
   {
    "duration": 13,
    "start_time": "2024-09-29T06:12:46.635Z"
   },
   {
    "duration": 5,
    "start_time": "2024-09-29T06:12:46.649Z"
   },
   {
    "duration": 21,
    "start_time": "2024-09-29T06:12:46.656Z"
   },
   {
    "duration": 8,
    "start_time": "2024-09-29T06:12:46.679Z"
   },
   {
    "duration": 9,
    "start_time": "2024-09-29T06:12:46.689Z"
   },
   {
    "duration": 80,
    "start_time": "2024-09-29T06:12:46.700Z"
   },
   {
    "duration": 7,
    "start_time": "2024-09-29T06:12:46.782Z"
   },
   {
    "duration": 8,
    "start_time": "2024-09-29T06:12:46.791Z"
   },
   {
    "duration": 8,
    "start_time": "2024-09-29T06:12:46.801Z"
   },
   {
    "duration": 35,
    "start_time": "2024-09-29T06:12:46.811Z"
   },
   {
    "duration": 6,
    "start_time": "2024-09-29T06:12:46.848Z"
   },
   {
    "duration": 14,
    "start_time": "2024-09-29T06:12:46.855Z"
   },
   {
    "duration": 11,
    "start_time": "2024-09-29T06:12:46.871Z"
   },
   {
    "duration": 11,
    "start_time": "2024-09-29T06:12:46.885Z"
   },
   {
    "duration": 17,
    "start_time": "2024-09-29T06:12:46.898Z"
   },
   {
    "duration": 12,
    "start_time": "2024-09-29T06:12:46.917Z"
   },
   {
    "duration": 443,
    "start_time": "2024-09-29T06:12:46.931Z"
   },
   {
    "duration": 4,
    "start_time": "2024-09-29T06:12:47.376Z"
   },
   {
    "duration": 80,
    "start_time": "2024-09-29T06:12:51.892Z"
   },
   {
    "duration": 233,
    "start_time": "2024-09-29T06:13:08.524Z"
   },
   {
    "duration": 103,
    "start_time": "2024-09-29T06:13:51.502Z"
   },
   {
    "duration": 188,
    "start_time": "2024-09-29T06:14:02.357Z"
   },
   {
    "duration": 206,
    "start_time": "2024-09-29T06:14:30.994Z"
   },
   {
    "duration": 221,
    "start_time": "2024-09-29T06:14:39.441Z"
   },
   {
    "duration": 12,
    "start_time": "2024-09-29T06:22:18.932Z"
   },
   {
    "duration": 11,
    "start_time": "2024-09-29T06:22:38.071Z"
   },
   {
    "duration": 188,
    "start_time": "2024-09-29T06:22:49.227Z"
   },
   {
    "duration": 219,
    "start_time": "2024-09-29T06:45:59.328Z"
   },
   {
    "duration": 233,
    "start_time": "2024-09-29T06:46:41.705Z"
   },
   {
    "duration": 243,
    "start_time": "2024-09-29T06:46:52.745Z"
   },
   {
    "duration": 255,
    "start_time": "2024-09-29T06:47:14.609Z"
   },
   {
    "duration": 2,
    "start_time": "2024-09-29T06:48:05.912Z"
   },
   {
    "duration": 129,
    "start_time": "2024-09-29T06:48:05.916Z"
   },
   {
    "duration": 7,
    "start_time": "2024-09-29T06:48:06.047Z"
   },
   {
    "duration": 31,
    "start_time": "2024-09-29T06:48:06.056Z"
   },
   {
    "duration": 126,
    "start_time": "2024-09-29T06:48:06.089Z"
   },
   {
    "duration": 17,
    "start_time": "2024-09-29T06:48:06.216Z"
   },
   {
    "duration": 36,
    "start_time": "2024-09-29T06:48:06.235Z"
   },
   {
    "duration": 2212,
    "start_time": "2024-09-29T06:48:06.272Z"
   },
   {
    "duration": 12,
    "start_time": "2024-09-29T06:48:08.485Z"
   },
   {
    "duration": 14,
    "start_time": "2024-09-29T06:48:08.499Z"
   },
   {
    "duration": 29,
    "start_time": "2024-09-29T06:48:08.517Z"
   },
   {
    "duration": 217,
    "start_time": "2024-09-29T06:48:08.548Z"
   },
   {
    "duration": 159,
    "start_time": "2024-09-29T06:48:08.767Z"
   },
   {
    "duration": 28,
    "start_time": "2024-09-29T06:48:08.927Z"
   },
   {
    "duration": 6,
    "start_time": "2024-09-29T06:48:08.957Z"
   },
   {
    "duration": 23,
    "start_time": "2024-09-29T06:48:08.965Z"
   },
   {
    "duration": 25,
    "start_time": "2024-09-29T06:48:08.990Z"
   },
   {
    "duration": 9,
    "start_time": "2024-09-29T06:48:09.017Z"
   },
   {
    "duration": 37,
    "start_time": "2024-09-29T06:48:09.028Z"
   },
   {
    "duration": 6,
    "start_time": "2024-09-29T06:48:09.066Z"
   },
   {
    "duration": 21,
    "start_time": "2024-09-29T06:48:09.073Z"
   },
   {
    "duration": 10,
    "start_time": "2024-09-29T06:48:09.095Z"
   },
   {
    "duration": 192,
    "start_time": "2024-09-29T06:48:09.106Z"
   },
   {
    "duration": 4,
    "start_time": "2024-09-29T06:48:09.300Z"
   },
   {
    "duration": 6,
    "start_time": "2024-09-29T06:48:09.306Z"
   },
   {
    "duration": 6,
    "start_time": "2024-09-29T06:48:09.314Z"
   },
   {
    "duration": 16,
    "start_time": "2024-09-29T06:48:09.321Z"
   },
   {
    "duration": 1422,
    "start_time": "2024-09-29T06:48:09.339Z"
   },
   {
    "duration": 1356,
    "start_time": "2024-09-29T06:48:10.765Z"
   },
   {
    "duration": 11,
    "start_time": "2024-09-29T06:48:12.122Z"
   },
   {
    "duration": 23,
    "start_time": "2024-09-29T06:48:12.134Z"
   },
   {
    "duration": 9,
    "start_time": "2024-09-29T06:48:12.158Z"
   },
   {
    "duration": 6,
    "start_time": "2024-09-29T06:48:12.169Z"
   },
   {
    "duration": 31,
    "start_time": "2024-09-29T06:48:12.177Z"
   },
   {
    "duration": 7,
    "start_time": "2024-09-29T06:48:12.210Z"
   },
   {
    "duration": 31,
    "start_time": "2024-09-29T06:48:12.219Z"
   },
   {
    "duration": 27,
    "start_time": "2024-09-29T06:48:12.251Z"
   },
   {
    "duration": 9,
    "start_time": "2024-09-29T06:48:12.280Z"
   },
   {
    "duration": 11,
    "start_time": "2024-09-29T06:48:12.291Z"
   },
   {
    "duration": 5,
    "start_time": "2024-09-29T06:48:12.304Z"
   },
   {
    "duration": 35,
    "start_time": "2024-09-29T06:48:12.311Z"
   },
   {
    "duration": 5,
    "start_time": "2024-09-29T06:48:12.347Z"
   },
   {
    "duration": 10,
    "start_time": "2024-09-29T06:48:12.354Z"
   },
   {
    "duration": 4,
    "start_time": "2024-09-29T06:48:12.365Z"
   },
   {
    "duration": 7,
    "start_time": "2024-09-29T06:48:12.371Z"
   },
   {
    "duration": 6,
    "start_time": "2024-09-29T06:48:12.379Z"
   },
   {
    "duration": 6,
    "start_time": "2024-09-29T06:48:12.386Z"
   },
   {
    "duration": 392,
    "start_time": "2024-09-29T06:48:12.394Z"
   },
   {
    "duration": 4,
    "start_time": "2024-09-29T06:48:12.788Z"
   },
   {
    "duration": 252,
    "start_time": "2024-09-29T06:48:12.794Z"
   },
   {
    "duration": 5,
    "start_time": "2024-09-29T06:48:13.048Z"
   },
   {
    "duration": 19,
    "start_time": "2024-09-29T06:48:13.055Z"
   },
   {
    "duration": 376,
    "start_time": "2024-09-29T06:48:18.654Z"
   },
   {
    "duration": 226,
    "start_time": "2024-09-29T06:48:37.431Z"
   },
   {
    "duration": 191,
    "start_time": "2024-09-29T06:48:52.255Z"
   },
   {
    "duration": 192,
    "start_time": "2024-09-29T06:49:04.981Z"
   },
   {
    "duration": 161,
    "start_time": "2024-09-29T06:49:14.191Z"
   },
   {
    "duration": 201,
    "start_time": "2024-09-29T06:49:23.635Z"
   },
   {
    "duration": 223,
    "start_time": "2024-09-29T06:49:32.766Z"
   },
   {
    "duration": 167,
    "start_time": "2024-09-29T06:49:42.292Z"
   },
   {
    "duration": 157,
    "start_time": "2024-09-29T06:49:49.482Z"
   },
   {
    "duration": 161,
    "start_time": "2024-09-29T06:49:58.247Z"
   },
   {
    "duration": 179,
    "start_time": "2024-09-29T06:50:08.300Z"
   },
   {
    "duration": 190,
    "start_time": "2024-09-29T06:50:19.181Z"
   },
   {
    "duration": 167,
    "start_time": "2024-09-29T06:50:27.059Z"
   },
   {
    "duration": 229,
    "start_time": "2024-09-29T06:50:33.396Z"
   },
   {
    "duration": 199,
    "start_time": "2024-09-29T06:50:40.591Z"
   },
   {
    "duration": 19,
    "start_time": "2024-09-29T06:50:51.745Z"
   },
   {
    "duration": 18,
    "start_time": "2024-09-29T06:51:25.562Z"
   },
   {
    "duration": 14,
    "start_time": "2024-09-29T06:51:44.371Z"
   },
   {
    "duration": 2,
    "start_time": "2024-09-29T06:51:49.134Z"
   },
   {
    "duration": 123,
    "start_time": "2024-09-29T06:51:49.141Z"
   },
   {
    "duration": 8,
    "start_time": "2024-09-29T06:51:49.265Z"
   },
   {
    "duration": 20,
    "start_time": "2024-09-29T06:51:49.274Z"
   },
   {
    "duration": 117,
    "start_time": "2024-09-29T06:51:49.296Z"
   },
   {
    "duration": 34,
    "start_time": "2024-09-29T06:51:49.415Z"
   },
   {
    "duration": 23,
    "start_time": "2024-09-29T06:51:49.451Z"
   },
   {
    "duration": 2256,
    "start_time": "2024-09-29T06:51:49.475Z"
   },
   {
    "duration": 17,
    "start_time": "2024-09-29T06:51:51.733Z"
   },
   {
    "duration": 17,
    "start_time": "2024-09-29T06:51:51.752Z"
   },
   {
    "duration": 13,
    "start_time": "2024-09-29T06:51:51.773Z"
   },
   {
    "duration": 189,
    "start_time": "2024-09-29T06:51:51.788Z"
   },
   {
    "duration": 161,
    "start_time": "2024-09-29T06:51:51.979Z"
   },
   {
    "duration": 18,
    "start_time": "2024-09-29T06:51:52.145Z"
   },
   {
    "duration": 5,
    "start_time": "2024-09-29T06:51:52.165Z"
   },
   {
    "duration": 25,
    "start_time": "2024-09-29T06:51:52.172Z"
   },
   {
    "duration": 18,
    "start_time": "2024-09-29T06:51:52.199Z"
   },
   {
    "duration": 6,
    "start_time": "2024-09-29T06:51:52.245Z"
   },
   {
    "duration": 29,
    "start_time": "2024-09-29T06:51:52.253Z"
   },
   {
    "duration": 5,
    "start_time": "2024-09-29T06:51:52.283Z"
   },
   {
    "duration": 9,
    "start_time": "2024-09-29T06:51:52.290Z"
   },
   {
    "duration": 7,
    "start_time": "2024-09-29T06:51:52.301Z"
   },
   {
    "duration": 236,
    "start_time": "2024-09-29T06:51:52.309Z"
   },
   {
    "duration": 5,
    "start_time": "2024-09-29T06:51:52.547Z"
   },
   {
    "duration": 3,
    "start_time": "2024-09-29T06:51:52.553Z"
   },
   {
    "duration": 7,
    "start_time": "2024-09-29T06:51:52.558Z"
   },
   {
    "duration": 6,
    "start_time": "2024-09-29T06:51:52.567Z"
   },
   {
    "duration": 1403,
    "start_time": "2024-09-29T06:51:52.575Z"
   },
   {
    "duration": 1360,
    "start_time": "2024-09-29T06:51:53.982Z"
   },
   {
    "duration": 9,
    "start_time": "2024-09-29T06:51:55.343Z"
   },
   {
    "duration": 14,
    "start_time": "2024-09-29T06:51:55.354Z"
   },
   {
    "duration": 33,
    "start_time": "2024-09-29T06:51:55.370Z"
   },
   {
    "duration": 4,
    "start_time": "2024-09-29T06:51:55.405Z"
   },
   {
    "duration": 35,
    "start_time": "2024-09-29T06:51:55.411Z"
   },
   {
    "duration": 7,
    "start_time": "2024-09-29T06:51:55.448Z"
   },
   {
    "duration": 13,
    "start_time": "2024-09-29T06:51:55.457Z"
   },
   {
    "duration": 30,
    "start_time": "2024-09-29T06:51:55.471Z"
   },
   {
    "duration": 9,
    "start_time": "2024-09-29T06:51:55.504Z"
   },
   {
    "duration": 37,
    "start_time": "2024-09-29T06:51:55.515Z"
   },
   {
    "duration": 7,
    "start_time": "2024-09-29T06:51:55.554Z"
   },
   {
    "duration": 12,
    "start_time": "2024-09-29T06:51:55.563Z"
   },
   {
    "duration": 7,
    "start_time": "2024-09-29T06:51:55.577Z"
   },
   {
    "duration": 32,
    "start_time": "2024-09-29T06:51:55.586Z"
   },
   {
    "duration": 8,
    "start_time": "2024-09-29T06:51:55.620Z"
   },
   {
    "duration": 31,
    "start_time": "2024-09-29T06:51:55.630Z"
   },
   {
    "duration": 29,
    "start_time": "2024-09-29T06:51:55.663Z"
   },
   {
    "duration": 20,
    "start_time": "2024-09-29T06:51:55.694Z"
   },
   {
    "duration": 325,
    "start_time": "2024-09-29T06:51:55.716Z"
   },
   {
    "duration": 4,
    "start_time": "2024-09-29T06:51:56.045Z"
   },
   {
    "duration": 267,
    "start_time": "2024-09-29T06:51:56.051Z"
   },
   {
    "duration": 4,
    "start_time": "2024-09-29T06:51:56.319Z"
   },
   {
    "duration": 23,
    "start_time": "2024-09-29T06:51:56.325Z"
   },
   {
    "duration": 236,
    "start_time": "2024-09-29T06:51:56.350Z"
   },
   {
    "duration": 224,
    "start_time": "2024-09-29T06:51:56.588Z"
   },
   {
    "duration": 4,
    "start_time": "2024-09-29T06:51:56.814Z"
   },
   {
    "duration": 23,
    "start_time": "2024-09-29T06:51:56.820Z"
   },
   {
    "duration": 192,
    "start_time": "2024-09-29T06:51:56.845Z"
   },
   {
    "duration": 8,
    "start_time": "2024-09-29T06:51:57.039Z"
   },
   {
    "duration": 204,
    "start_time": "2024-09-29T06:51:57.049Z"
   },
   {
    "duration": 210,
    "start_time": "2024-09-29T06:51:57.255Z"
   },
   {
    "duration": 6,
    "start_time": "2024-09-29T06:51:57.467Z"
   },
   {
    "duration": 219,
    "start_time": "2024-09-29T06:51:57.475Z"
   },
   {
    "duration": 210,
    "start_time": "2024-09-29T06:51:57.696Z"
   },
   {
    "duration": 198,
    "start_time": "2024-09-29T06:51:57.908Z"
   },
   {
    "duration": 181,
    "start_time": "2024-09-29T06:51:58.108Z"
   },
   {
    "duration": 4,
    "start_time": "2024-09-29T06:51:58.291Z"
   },
   {
    "duration": 9,
    "start_time": "2024-09-29T06:51:58.296Z"
   },
   {
    "duration": 10,
    "start_time": "2024-09-29T06:51:58.306Z"
   },
   {
    "duration": 28,
    "start_time": "2024-09-29T06:51:58.318Z"
   },
   {
    "duration": 173,
    "start_time": "2024-09-29T06:51:58.347Z"
   },
   {
    "duration": 206,
    "start_time": "2024-09-29T06:51:58.522Z"
   },
   {
    "duration": 4,
    "start_time": "2024-09-29T06:51:58.730Z"
   },
   {
    "duration": 6,
    "start_time": "2024-09-29T06:51:58.746Z"
   },
   {
    "duration": 16,
    "start_time": "2024-09-29T06:51:58.753Z"
   },
   {
    "duration": 196,
    "start_time": "2024-09-29T06:51:58.770Z"
   },
   {
    "duration": 179,
    "start_time": "2024-09-29T06:51:58.967Z"
   },
   {
    "duration": 213,
    "start_time": "2024-09-29T06:51:59.149Z"
   },
   {
    "duration": 193,
    "start_time": "2024-09-29T06:51:59.364Z"
   },
   {
    "duration": 9,
    "start_time": "2024-09-29T06:51:59.559Z"
   },
   {
    "duration": 17,
    "start_time": "2024-09-29T06:51:59.570Z"
   },
   {
    "duration": 5,
    "start_time": "2024-09-29T06:51:59.590Z"
   },
   {
    "duration": 164,
    "start_time": "2024-09-29T06:52:12.375Z"
   },
   {
    "duration": 5,
    "start_time": "2024-09-29T06:53:03.612Z"
   },
   {
    "duration": 6,
    "start_time": "2024-09-29T06:53:56.666Z"
   },
   {
    "duration": 6,
    "start_time": "2024-09-29T06:54:37.889Z"
   },
   {
    "duration": 6,
    "start_time": "2024-09-29T06:55:18.176Z"
   },
   {
    "duration": 5,
    "start_time": "2024-09-29T06:55:51.895Z"
   },
   {
    "duration": 345,
    "start_time": "2024-09-29T06:56:37.061Z"
   },
   {
    "duration": 6,
    "start_time": "2024-09-29T06:57:51.093Z"
   },
   {
    "duration": 6,
    "start_time": "2024-09-29T06:58:23.527Z"
   },
   {
    "duration": 54,
    "start_time": "2024-09-29T14:34:59.887Z"
   },
   {
    "duration": 367,
    "start_time": "2024-09-29T14:35:11.345Z"
   },
   {
    "duration": 318,
    "start_time": "2024-09-29T14:35:11.714Z"
   },
   {
    "duration": 13,
    "start_time": "2024-09-29T14:35:12.034Z"
   },
   {
    "duration": 4,
    "start_time": "2024-09-29T14:35:12.049Z"
   },
   {
    "duration": 105,
    "start_time": "2024-09-29T14:35:12.055Z"
   },
   {
    "duration": 13,
    "start_time": "2024-09-29T14:35:12.162Z"
   },
   {
    "duration": 33,
    "start_time": "2024-09-29T14:35:12.177Z"
   },
   {
    "duration": 2371,
    "start_time": "2024-09-29T14:35:12.211Z"
   },
   {
    "duration": 10,
    "start_time": "2024-09-29T14:35:14.584Z"
   },
   {
    "duration": 12,
    "start_time": "2024-09-29T14:35:14.596Z"
   },
   {
    "duration": 12,
    "start_time": "2024-09-29T14:35:14.609Z"
   },
   {
    "duration": 165,
    "start_time": "2024-09-29T14:35:17.684Z"
   },
   {
    "duration": 171,
    "start_time": "2024-09-29T14:35:27.171Z"
   },
   {
    "duration": 162,
    "start_time": "2024-09-29T14:35:55.379Z"
   },
   {
    "duration": 21,
    "start_time": "2024-09-29T14:36:32.225Z"
   },
   {
    "duration": 6,
    "start_time": "2024-09-29T14:36:58.750Z"
   },
   {
    "duration": 5,
    "start_time": "2024-09-29T14:37:14.161Z"
   },
   {
    "duration": 176,
    "start_time": "2024-09-29T14:37:29.788Z"
   },
   {
    "duration": 200,
    "start_time": "2024-09-29T14:37:49.655Z"
   },
   {
    "duration": 4,
    "start_time": "2024-09-29T14:38:03.744Z"
   },
   {
    "duration": 10,
    "start_time": "2024-09-29T14:39:15.217Z"
   },
   {
    "duration": 12,
    "start_time": "2024-09-29T14:39:38.800Z"
   },
   {
    "duration": 7,
    "start_time": "2024-09-29T14:40:22.375Z"
   },
   {
    "duration": 6,
    "start_time": "2024-09-29T14:40:39.360Z"
   },
   {
    "duration": 2,
    "start_time": "2024-09-29T14:40:50.329Z"
   },
   {
    "duration": 102,
    "start_time": "2024-09-29T14:40:50.332Z"
   },
   {
    "duration": 7,
    "start_time": "2024-09-29T14:40:50.435Z"
   },
   {
    "duration": 26,
    "start_time": "2024-09-29T14:40:50.443Z"
   },
   {
    "duration": 107,
    "start_time": "2024-09-29T14:40:50.470Z"
   },
   {
    "duration": 97,
    "start_time": "2024-09-29T14:40:50.578Z"
   },
   {
    "duration": 40,
    "start_time": "2024-09-29T14:40:50.677Z"
   },
   {
    "duration": 1810,
    "start_time": "2024-09-29T14:40:50.719Z"
   },
   {
    "duration": 9,
    "start_time": "2024-09-29T14:40:52.530Z"
   },
   {
    "duration": 20,
    "start_time": "2024-09-29T14:40:52.541Z"
   },
   {
    "duration": 9,
    "start_time": "2024-09-29T14:40:52.564Z"
   },
   {
    "duration": 189,
    "start_time": "2024-09-29T14:40:52.574Z"
   },
   {
    "duration": 171,
    "start_time": "2024-09-29T14:40:52.764Z"
   },
   {
    "duration": 18,
    "start_time": "2024-09-29T14:40:52.936Z"
   },
   {
    "duration": 38,
    "start_time": "2024-09-29T14:40:52.955Z"
   },
   {
    "duration": 25,
    "start_time": "2024-09-29T14:40:52.995Z"
   },
   {
    "duration": 14,
    "start_time": "2024-09-29T14:40:53.022Z"
   },
   {
    "duration": 4,
    "start_time": "2024-09-29T14:40:53.038Z"
   },
   {
    "duration": 135,
    "start_time": "2024-09-29T14:40:53.043Z"
   },
   {
    "duration": 13,
    "start_time": "2024-09-29T14:40:53.180Z"
   },
   {
    "duration": 6,
    "start_time": "2024-09-29T14:40:53.195Z"
   },
   {
    "duration": 6,
    "start_time": "2024-09-29T14:40:53.203Z"
   },
   {
    "duration": 210,
    "start_time": "2024-09-29T14:40:53.211Z"
   },
   {
    "duration": 4,
    "start_time": "2024-09-29T14:40:53.422Z"
   },
   {
    "duration": 6,
    "start_time": "2024-09-29T14:40:53.427Z"
   },
   {
    "duration": 8,
    "start_time": "2024-09-29T14:40:53.434Z"
   },
   {
    "duration": 6,
    "start_time": "2024-09-29T14:40:53.443Z"
   },
   {
    "duration": 1392,
    "start_time": "2024-09-29T14:40:53.450Z"
   },
   {
    "duration": 1332,
    "start_time": "2024-09-29T14:40:54.845Z"
   },
   {
    "duration": 16,
    "start_time": "2024-09-29T14:40:56.178Z"
   },
   {
    "duration": 17,
    "start_time": "2024-09-29T14:40:56.196Z"
   },
   {
    "duration": 10,
    "start_time": "2024-09-29T14:40:56.214Z"
   },
   {
    "duration": 4,
    "start_time": "2024-09-29T14:40:56.225Z"
   },
   {
    "duration": 22,
    "start_time": "2024-09-29T14:40:56.231Z"
   },
   {
    "duration": 40,
    "start_time": "2024-09-29T14:40:56.254Z"
   },
   {
    "duration": 9,
    "start_time": "2024-09-29T14:40:56.296Z"
   },
   {
    "duration": 28,
    "start_time": "2024-09-29T14:40:56.307Z"
   },
   {
    "duration": 5,
    "start_time": "2024-09-29T14:40:56.336Z"
   },
   {
    "duration": 7,
    "start_time": "2024-09-29T14:40:56.343Z"
   },
   {
    "duration": 6,
    "start_time": "2024-09-29T14:40:56.351Z"
   },
   {
    "duration": 35,
    "start_time": "2024-09-29T14:40:56.358Z"
   },
   {
    "duration": 58,
    "start_time": "2024-09-29T14:40:56.395Z"
   },
   {
    "duration": 9,
    "start_time": "2024-09-29T14:40:56.454Z"
   },
   {
    "duration": 4,
    "start_time": "2024-09-29T14:40:56.464Z"
   },
   {
    "duration": 21,
    "start_time": "2024-09-29T14:40:56.469Z"
   },
   {
    "duration": 10,
    "start_time": "2024-09-29T14:40:56.492Z"
   },
   {
    "duration": 6,
    "start_time": "2024-09-29T14:40:56.504Z"
   },
   {
    "duration": 282,
    "start_time": "2024-09-29T14:40:56.512Z"
   },
   {
    "duration": 5,
    "start_time": "2024-09-29T14:40:56.796Z"
   },
   {
    "duration": 227,
    "start_time": "2024-09-29T14:40:56.803Z"
   },
   {
    "duration": 4,
    "start_time": "2024-09-29T14:40:57.031Z"
   },
   {
    "duration": 6,
    "start_time": "2024-09-29T14:40:59.349Z"
   },
   {
    "duration": 6,
    "start_time": "2024-09-29T14:41:14.566Z"
   },
   {
    "duration": 45,
    "start_time": "2024-09-29T14:41:52.065Z"
   },
   {
    "duration": 5,
    "start_time": "2024-09-29T14:41:58.941Z"
   },
   {
    "duration": 3,
    "start_time": "2024-09-29T14:42:02.871Z"
   },
   {
    "duration": 92,
    "start_time": "2024-09-29T14:42:02.875Z"
   },
   {
    "duration": 6,
    "start_time": "2024-09-29T14:42:02.968Z"
   },
   {
    "duration": 5,
    "start_time": "2024-09-29T14:42:02.975Z"
   },
   {
    "duration": 116,
    "start_time": "2024-09-29T14:42:02.981Z"
   },
   {
    "duration": 20,
    "start_time": "2024-09-29T14:42:03.100Z"
   },
   {
    "duration": 36,
    "start_time": "2024-09-29T14:42:03.121Z"
   },
   {
    "duration": 2318,
    "start_time": "2024-09-29T14:42:03.158Z"
   },
   {
    "duration": 18,
    "start_time": "2024-09-29T14:42:05.477Z"
   },
   {
    "duration": 26,
    "start_time": "2024-09-29T14:42:05.496Z"
   },
   {
    "duration": 15,
    "start_time": "2024-09-29T14:42:05.524Z"
   },
   {
    "duration": 199,
    "start_time": "2024-09-29T14:42:05.540Z"
   },
   {
    "duration": 170,
    "start_time": "2024-09-29T14:42:05.741Z"
   },
   {
    "duration": 18,
    "start_time": "2024-09-29T14:42:05.913Z"
   },
   {
    "duration": 5,
    "start_time": "2024-09-29T14:42:05.933Z"
   },
   {
    "duration": 19,
    "start_time": "2024-09-29T14:42:05.940Z"
   },
   {
    "duration": 44,
    "start_time": "2024-09-29T14:42:05.960Z"
   },
   {
    "duration": 7,
    "start_time": "2024-09-29T14:42:06.006Z"
   },
   {
    "duration": 35,
    "start_time": "2024-09-29T14:42:06.015Z"
   },
   {
    "duration": 5,
    "start_time": "2024-09-29T14:42:06.052Z"
   },
   {
    "duration": 5,
    "start_time": "2024-09-29T14:42:06.058Z"
   },
   {
    "duration": 19,
    "start_time": "2024-09-29T14:42:06.064Z"
   },
   {
    "duration": 190,
    "start_time": "2024-09-29T14:42:06.084Z"
   },
   {
    "duration": 13,
    "start_time": "2024-09-29T14:42:06.276Z"
   },
   {
    "duration": 15,
    "start_time": "2024-09-29T14:42:06.291Z"
   },
   {
    "duration": 30,
    "start_time": "2024-09-29T14:42:06.308Z"
   },
   {
    "duration": 9,
    "start_time": "2024-09-29T14:42:06.339Z"
   },
   {
    "duration": 1356,
    "start_time": "2024-09-29T14:42:06.349Z"
   },
   {
    "duration": 1398,
    "start_time": "2024-09-29T14:42:07.707Z"
   },
   {
    "duration": 11,
    "start_time": "2024-09-29T14:42:09.107Z"
   },
   {
    "duration": 23,
    "start_time": "2024-09-29T14:42:09.119Z"
   },
   {
    "duration": 7,
    "start_time": "2024-09-29T14:42:09.145Z"
   },
   {
    "duration": 5,
    "start_time": "2024-09-29T14:42:09.154Z"
   },
   {
    "duration": 40,
    "start_time": "2024-09-29T14:42:09.160Z"
   },
   {
    "duration": 7,
    "start_time": "2024-09-29T14:42:09.202Z"
   },
   {
    "duration": 9,
    "start_time": "2024-09-29T14:42:09.211Z"
   },
   {
    "duration": 25,
    "start_time": "2024-09-29T14:42:09.221Z"
   },
   {
    "duration": 5,
    "start_time": "2024-09-29T14:42:09.247Z"
   },
   {
    "duration": 37,
    "start_time": "2024-09-29T14:42:09.254Z"
   },
   {
    "duration": 9,
    "start_time": "2024-09-29T14:42:09.292Z"
   },
   {
    "duration": 7,
    "start_time": "2024-09-29T14:42:09.303Z"
   },
   {
    "duration": 71,
    "start_time": "2024-09-29T14:42:09.312Z"
   },
   {
    "duration": 13,
    "start_time": "2024-09-29T14:42:09.385Z"
   },
   {
    "duration": 4,
    "start_time": "2024-09-29T14:42:09.399Z"
   },
   {
    "duration": 8,
    "start_time": "2024-09-29T14:42:09.405Z"
   },
   {
    "duration": 6,
    "start_time": "2024-09-29T14:42:09.414Z"
   },
   {
    "duration": 5,
    "start_time": "2024-09-29T14:42:09.421Z"
   },
   {
    "duration": 308,
    "start_time": "2024-09-29T14:42:09.427Z"
   },
   {
    "duration": 4,
    "start_time": "2024-09-29T14:42:09.736Z"
   },
   {
    "duration": 226,
    "start_time": "2024-09-29T14:42:09.741Z"
   },
   {
    "duration": 5,
    "start_time": "2024-09-29T14:42:09.968Z"
   },
   {
    "duration": 17,
    "start_time": "2024-09-29T14:42:09.974Z"
   },
   {
    "duration": 250,
    "start_time": "2024-09-29T14:42:09.993Z"
   },
   {
    "duration": 222,
    "start_time": "2024-09-29T14:42:10.246Z"
   },
   {
    "duration": 3,
    "start_time": "2024-09-29T14:42:10.470Z"
   },
   {
    "duration": 15,
    "start_time": "2024-09-29T14:42:10.474Z"
   },
   {
    "duration": 183,
    "start_time": "2024-09-29T14:42:10.491Z"
   },
   {
    "duration": 5,
    "start_time": "2024-09-29T14:42:10.675Z"
   },
   {
    "duration": 317,
    "start_time": "2024-09-29T14:42:10.681Z"
   },
   {
    "duration": 160,
    "start_time": "2024-09-29T14:42:11.000Z"
   },
   {
    "duration": 5,
    "start_time": "2024-09-29T14:42:16.053Z"
   },
   {
    "duration": 3,
    "start_time": "2024-09-29T14:42:44.681Z"
   },
   {
    "duration": 86,
    "start_time": "2024-09-29T14:42:44.686Z"
   },
   {
    "duration": 6,
    "start_time": "2024-09-29T14:42:44.773Z"
   },
   {
    "duration": 2,
    "start_time": "2024-09-29T14:42:44.781Z"
   },
   {
    "duration": 120,
    "start_time": "2024-09-29T14:42:44.789Z"
   },
   {
    "duration": 15,
    "start_time": "2024-09-29T14:42:44.910Z"
   },
   {
    "duration": 20,
    "start_time": "2024-09-29T14:42:44.927Z"
   },
   {
    "duration": 1891,
    "start_time": "2024-09-29T14:42:44.949Z"
   },
   {
    "duration": 9,
    "start_time": "2024-09-29T14:42:46.842Z"
   },
   {
    "duration": 18,
    "start_time": "2024-09-29T14:42:46.853Z"
   },
   {
    "duration": 27,
    "start_time": "2024-09-29T14:42:46.872Z"
   },
   {
    "duration": 163,
    "start_time": "2024-09-29T14:42:46.900Z"
   },
   {
    "duration": 160,
    "start_time": "2024-09-29T14:42:47.065Z"
   },
   {
    "duration": 20,
    "start_time": "2024-09-29T14:42:47.227Z"
   },
   {
    "duration": 5,
    "start_time": "2024-09-29T14:42:47.248Z"
   },
   {
    "duration": 36,
    "start_time": "2024-09-29T14:42:47.254Z"
   },
   {
    "duration": 22,
    "start_time": "2024-09-29T14:42:47.291Z"
   },
   {
    "duration": 5,
    "start_time": "2024-09-29T14:42:47.315Z"
   },
   {
    "duration": 88,
    "start_time": "2024-09-29T14:42:47.321Z"
   },
   {
    "duration": 5,
    "start_time": "2024-09-29T14:42:47.411Z"
   },
   {
    "duration": 7,
    "start_time": "2024-09-29T14:42:47.418Z"
   },
   {
    "duration": 5,
    "start_time": "2024-09-29T14:42:47.426Z"
   },
   {
    "duration": 195,
    "start_time": "2024-09-29T14:42:47.432Z"
   },
   {
    "duration": 5,
    "start_time": "2024-09-29T14:42:47.631Z"
   },
   {
    "duration": 3,
    "start_time": "2024-09-29T14:42:47.638Z"
   },
   {
    "duration": 4,
    "start_time": "2024-09-29T14:42:47.642Z"
   },
   {
    "duration": 4,
    "start_time": "2024-09-29T14:42:47.647Z"
   },
   {
    "duration": 1306,
    "start_time": "2024-09-29T14:42:47.652Z"
   },
   {
    "duration": 1386,
    "start_time": "2024-09-29T14:42:48.959Z"
   },
   {
    "duration": 9,
    "start_time": "2024-09-29T14:42:50.347Z"
   },
   {
    "duration": 28,
    "start_time": "2024-09-29T14:42:50.358Z"
   },
   {
    "duration": 8,
    "start_time": "2024-09-29T14:42:50.389Z"
   },
   {
    "duration": 54,
    "start_time": "2024-09-29T14:42:50.399Z"
   },
   {
    "duration": 21,
    "start_time": "2024-09-29T14:42:50.454Z"
   },
   {
    "duration": 6,
    "start_time": "2024-09-29T14:42:50.476Z"
   },
   {
    "duration": 16,
    "start_time": "2024-09-29T14:42:50.484Z"
   },
   {
    "duration": 27,
    "start_time": "2024-09-29T14:42:50.502Z"
   },
   {
    "duration": 8,
    "start_time": "2024-09-29T14:42:50.530Z"
   },
   {
    "duration": 10,
    "start_time": "2024-09-29T14:42:50.539Z"
   },
   {
    "duration": 8,
    "start_time": "2024-09-29T14:42:50.551Z"
   },
   {
    "duration": 9,
    "start_time": "2024-09-29T14:42:50.560Z"
   },
   {
    "duration": 12,
    "start_time": "2024-09-29T14:42:50.570Z"
   },
   {
    "duration": 17,
    "start_time": "2024-09-29T14:42:50.583Z"
   },
   {
    "duration": 12,
    "start_time": "2024-09-29T14:42:50.602Z"
   },
   {
    "duration": 14,
    "start_time": "2024-09-29T14:42:50.615Z"
   },
   {
    "duration": 28,
    "start_time": "2024-09-29T14:42:50.630Z"
   },
   {
    "duration": 16,
    "start_time": "2024-09-29T14:42:50.659Z"
   },
   {
    "duration": 407,
    "start_time": "2024-09-29T14:42:50.676Z"
   },
   {
    "duration": 8,
    "start_time": "2024-09-29T14:42:51.084Z"
   },
   {
    "duration": 244,
    "start_time": "2024-09-29T14:42:51.094Z"
   },
   {
    "duration": 4,
    "start_time": "2024-09-29T14:42:51.339Z"
   },
   {
    "duration": 41,
    "start_time": "2024-09-29T14:42:51.345Z"
   },
   {
    "duration": 201,
    "start_time": "2024-09-29T14:42:51.387Z"
   },
   {
    "duration": 225,
    "start_time": "2024-09-29T14:42:51.589Z"
   },
   {
    "duration": 4,
    "start_time": "2024-09-29T14:42:51.816Z"
   },
   {
    "duration": 6,
    "start_time": "2024-09-29T14:42:51.821Z"
   },
   {
    "duration": 208,
    "start_time": "2024-09-29T14:42:51.828Z"
   },
   {
    "duration": 5,
    "start_time": "2024-09-29T14:42:52.038Z"
   },
   {
    "duration": 248,
    "start_time": "2024-09-29T14:42:52.045Z"
   },
   {
    "duration": 180,
    "start_time": "2024-09-29T14:42:52.295Z"
   },
   {
    "duration": 14,
    "start_time": "2024-09-29T14:42:52.477Z"
   },
   {
    "duration": 201,
    "start_time": "2024-09-29T14:42:52.492Z"
   },
   {
    "duration": 182,
    "start_time": "2024-09-29T14:42:52.695Z"
   },
   {
    "duration": 150,
    "start_time": "2024-09-29T14:42:52.879Z"
   },
   {
    "duration": 152,
    "start_time": "2024-09-29T14:42:53.031Z"
   },
   {
    "duration": 6,
    "start_time": "2024-09-29T14:43:08.595Z"
   },
   {
    "duration": 7,
    "start_time": "2024-09-29T14:43:26.883Z"
   },
   {
    "duration": 3,
    "start_time": "2024-09-29T14:43:54.259Z"
   },
   {
    "duration": 97,
    "start_time": "2024-09-29T14:43:54.264Z"
   },
   {
    "duration": 6,
    "start_time": "2024-09-29T14:43:54.362Z"
   },
   {
    "duration": 6,
    "start_time": "2024-09-29T14:43:54.393Z"
   },
   {
    "duration": 145,
    "start_time": "2024-09-29T14:43:54.402Z"
   },
   {
    "duration": 13,
    "start_time": "2024-09-29T14:43:54.548Z"
   },
   {
    "duration": 45,
    "start_time": "2024-09-29T14:43:54.563Z"
   },
   {
    "duration": 2036,
    "start_time": "2024-09-29T14:43:54.610Z"
   },
   {
    "duration": 9,
    "start_time": "2024-09-29T14:43:56.648Z"
   },
   {
    "duration": 21,
    "start_time": "2024-09-29T14:43:56.659Z"
   },
   {
    "duration": 9,
    "start_time": "2024-09-29T14:43:56.703Z"
   },
   {
    "duration": 192,
    "start_time": "2024-09-29T14:43:56.713Z"
   },
   {
    "duration": 165,
    "start_time": "2024-09-29T14:43:56.907Z"
   },
   {
    "duration": 24,
    "start_time": "2024-09-29T14:43:57.073Z"
   },
   {
    "duration": 55,
    "start_time": "2024-09-29T14:43:57.099Z"
   },
   {
    "duration": 18,
    "start_time": "2024-09-29T14:43:57.155Z"
   },
   {
    "duration": 15,
    "start_time": "2024-09-29T14:43:57.174Z"
   },
   {
    "duration": 9,
    "start_time": "2024-09-29T14:43:57.191Z"
   },
   {
    "duration": 25,
    "start_time": "2024-09-29T14:43:57.203Z"
   },
   {
    "duration": 22,
    "start_time": "2024-09-29T14:43:57.229Z"
   },
   {
    "duration": 12,
    "start_time": "2024-09-29T14:43:57.252Z"
   },
   {
    "duration": 7,
    "start_time": "2024-09-29T14:43:57.265Z"
   },
   {
    "duration": 191,
    "start_time": "2024-09-29T14:43:57.274Z"
   },
   {
    "duration": 5,
    "start_time": "2024-09-29T14:43:57.466Z"
   },
   {
    "duration": 3,
    "start_time": "2024-09-29T14:43:57.472Z"
   },
   {
    "duration": 4,
    "start_time": "2024-09-29T14:43:57.489Z"
   },
   {
    "duration": 3,
    "start_time": "2024-09-29T14:43:57.494Z"
   },
   {
    "duration": 1403,
    "start_time": "2024-09-29T14:43:57.498Z"
   },
   {
    "duration": 1357,
    "start_time": "2024-09-29T14:43:58.906Z"
   },
   {
    "duration": 11,
    "start_time": "2024-09-29T14:44:00.266Z"
   },
   {
    "duration": 32,
    "start_time": "2024-09-29T14:44:00.290Z"
   },
   {
    "duration": 26,
    "start_time": "2024-09-29T14:44:00.324Z"
   },
   {
    "duration": 17,
    "start_time": "2024-09-29T14:44:00.352Z"
   },
   {
    "duration": 23,
    "start_time": "2024-09-29T14:44:00.371Z"
   },
   {
    "duration": 12,
    "start_time": "2024-09-29T14:44:00.395Z"
   },
   {
    "duration": 44,
    "start_time": "2024-09-29T14:44:00.409Z"
   },
   {
    "duration": 45,
    "start_time": "2024-09-29T14:44:00.455Z"
   },
   {
    "duration": 8,
    "start_time": "2024-09-29T14:44:00.502Z"
   },
   {
    "duration": 18,
    "start_time": "2024-09-29T14:44:00.512Z"
   },
   {
    "duration": 21,
    "start_time": "2024-09-29T14:44:00.532Z"
   },
   {
    "duration": 7,
    "start_time": "2024-09-29T14:44:00.555Z"
   },
   {
    "duration": 15,
    "start_time": "2024-09-29T14:44:00.564Z"
   },
   {
    "duration": 43,
    "start_time": "2024-09-29T14:44:00.580Z"
   },
   {
    "duration": 5,
    "start_time": "2024-09-29T14:44:00.624Z"
   },
   {
    "duration": 6,
    "start_time": "2024-09-29T14:44:00.631Z"
   },
   {
    "duration": 6,
    "start_time": "2024-09-29T14:44:00.639Z"
   },
   {
    "duration": 13,
    "start_time": "2024-09-29T14:44:00.647Z"
   },
   {
    "duration": 307,
    "start_time": "2024-09-29T14:44:00.662Z"
   },
   {
    "duration": 4,
    "start_time": "2024-09-29T14:44:00.970Z"
   },
   {
    "duration": 259,
    "start_time": "2024-09-29T14:44:00.975Z"
   },
   {
    "duration": 5,
    "start_time": "2024-09-29T14:44:01.235Z"
   },
   {
    "duration": 7,
    "start_time": "2024-09-29T14:44:01.241Z"
   },
   {
    "duration": 229,
    "start_time": "2024-09-29T14:44:01.250Z"
   },
   {
    "duration": 225,
    "start_time": "2024-09-29T14:44:01.480Z"
   },
   {
    "duration": 6,
    "start_time": "2024-09-29T14:44:01.707Z"
   },
   {
    "duration": 19,
    "start_time": "2024-09-29T14:44:01.716Z"
   },
   {
    "duration": 229,
    "start_time": "2024-09-29T14:44:01.737Z"
   },
   {
    "duration": 5,
    "start_time": "2024-09-29T14:44:01.968Z"
   },
   {
    "duration": 200,
    "start_time": "2024-09-29T14:44:01.974Z"
   },
   {
    "duration": 185,
    "start_time": "2024-09-29T14:44:02.175Z"
   },
   {
    "duration": 5,
    "start_time": "2024-09-29T14:44:02.362Z"
   },
   {
    "duration": 232,
    "start_time": "2024-09-29T14:44:02.369Z"
   },
   {
    "duration": 213,
    "start_time": "2024-09-29T14:44:02.603Z"
   },
   {
    "duration": 192,
    "start_time": "2024-09-29T14:44:02.818Z"
   },
   {
    "duration": 160,
    "start_time": "2024-09-29T14:44:03.012Z"
   },
   {
    "duration": 5,
    "start_time": "2024-09-29T14:44:03.174Z"
   },
   {
    "duration": 31,
    "start_time": "2024-09-29T14:44:03.181Z"
   },
   {
    "duration": 22,
    "start_time": "2024-09-29T14:44:03.213Z"
   },
   {
    "duration": 15,
    "start_time": "2024-09-29T14:44:03.236Z"
   },
   {
    "duration": 378,
    "start_time": "2024-09-29T14:44:03.252Z"
   },
   {
    "duration": 225,
    "start_time": "2024-09-29T14:44:03.632Z"
   },
   {
    "duration": 4,
    "start_time": "2024-09-29T14:44:03.859Z"
   },
   {
    "duration": 4,
    "start_time": "2024-09-29T14:44:07.162Z"
   },
   {
    "duration": 3,
    "start_time": "2024-09-29T14:44:39.571Z"
   },
   {
    "duration": 88,
    "start_time": "2024-09-29T14:44:39.576Z"
   },
   {
    "duration": 6,
    "start_time": "2024-09-29T14:44:39.666Z"
   },
   {
    "duration": 3,
    "start_time": "2024-09-29T14:44:39.674Z"
   },
   {
    "duration": 117,
    "start_time": "2024-09-29T14:44:39.679Z"
   },
   {
    "duration": 17,
    "start_time": "2024-09-29T14:44:39.797Z"
   },
   {
    "duration": 22,
    "start_time": "2024-09-29T14:44:39.816Z"
   },
   {
    "duration": 2196,
    "start_time": "2024-09-29T14:44:39.840Z"
   },
   {
    "duration": 9,
    "start_time": "2024-09-29T14:44:42.038Z"
   },
   {
    "duration": 15,
    "start_time": "2024-09-29T14:44:42.048Z"
   },
   {
    "duration": 31,
    "start_time": "2024-09-29T14:44:42.066Z"
   },
   {
    "duration": 175,
    "start_time": "2024-09-29T14:44:42.105Z"
   },
   {
    "duration": 177,
    "start_time": "2024-09-29T14:44:42.289Z"
   },
   {
    "duration": 41,
    "start_time": "2024-09-29T14:44:42.468Z"
   },
   {
    "duration": 7,
    "start_time": "2024-09-29T14:44:42.517Z"
   },
   {
    "duration": 24,
    "start_time": "2024-09-29T14:44:42.526Z"
   },
   {
    "duration": 21,
    "start_time": "2024-09-29T14:44:42.552Z"
   },
   {
    "duration": 17,
    "start_time": "2024-09-29T14:44:42.575Z"
   },
   {
    "duration": 26,
    "start_time": "2024-09-29T14:44:42.594Z"
   },
   {
    "duration": 5,
    "start_time": "2024-09-29T14:44:42.621Z"
   },
   {
    "duration": 7,
    "start_time": "2024-09-29T14:44:42.627Z"
   },
   {
    "duration": 6,
    "start_time": "2024-09-29T14:44:42.636Z"
   },
   {
    "duration": 219,
    "start_time": "2024-09-29T14:44:42.643Z"
   },
   {
    "duration": 5,
    "start_time": "2024-09-29T14:44:42.863Z"
   },
   {
    "duration": 4,
    "start_time": "2024-09-29T14:44:42.870Z"
   },
   {
    "duration": 17,
    "start_time": "2024-09-29T14:44:42.875Z"
   },
   {
    "duration": 4,
    "start_time": "2024-09-29T14:44:42.893Z"
   },
   {
    "duration": 1366,
    "start_time": "2024-09-29T14:44:42.899Z"
   },
   {
    "duration": 1378,
    "start_time": "2024-09-29T14:44:44.270Z"
   },
   {
    "duration": 14,
    "start_time": "2024-09-29T14:44:45.649Z"
   },
   {
    "duration": 33,
    "start_time": "2024-09-29T14:44:45.664Z"
   },
   {
    "duration": 15,
    "start_time": "2024-09-29T14:44:45.699Z"
   },
   {
    "duration": 61,
    "start_time": "2024-09-29T14:44:45.716Z"
   },
   {
    "duration": 34,
    "start_time": "2024-09-29T14:44:45.779Z"
   },
   {
    "duration": 9,
    "start_time": "2024-09-29T14:44:45.815Z"
   },
   {
    "duration": 18,
    "start_time": "2024-09-29T14:44:45.825Z"
   },
   {
    "duration": 32,
    "start_time": "2024-09-29T14:44:45.845Z"
   },
   {
    "duration": 16,
    "start_time": "2024-09-29T14:44:45.879Z"
   },
   {
    "duration": 10,
    "start_time": "2024-09-29T14:44:45.897Z"
   },
   {
    "duration": 9,
    "start_time": "2024-09-29T14:44:45.909Z"
   },
   {
    "duration": 5,
    "start_time": "2024-09-29T14:44:45.919Z"
   },
   {
    "duration": 3,
    "start_time": "2024-09-29T14:44:45.926Z"
   },
   {
    "duration": 8,
    "start_time": "2024-09-29T14:44:45.931Z"
   },
   {
    "duration": 5,
    "start_time": "2024-09-29T14:44:45.940Z"
   },
   {
    "duration": 44,
    "start_time": "2024-09-29T14:44:45.946Z"
   },
   {
    "duration": 8,
    "start_time": "2024-09-29T14:44:45.992Z"
   },
   {
    "duration": 10,
    "start_time": "2024-09-29T14:44:46.001Z"
   },
   {
    "duration": 304,
    "start_time": "2024-09-29T14:44:46.013Z"
   },
   {
    "duration": 4,
    "start_time": "2024-09-29T14:44:46.319Z"
   },
   {
    "duration": 239,
    "start_time": "2024-09-29T14:44:46.324Z"
   },
   {
    "duration": 4,
    "start_time": "2024-09-29T14:44:46.565Z"
   },
   {
    "duration": 7,
    "start_time": "2024-09-29T14:44:46.570Z"
   },
   {
    "duration": 230,
    "start_time": "2024-09-29T14:44:46.590Z"
   },
   {
    "duration": 225,
    "start_time": "2024-09-29T14:44:46.822Z"
   },
   {
    "duration": 4,
    "start_time": "2024-09-29T14:44:47.049Z"
   },
   {
    "duration": 5,
    "start_time": "2024-09-29T14:44:47.055Z"
   },
   {
    "duration": 197,
    "start_time": "2024-09-29T14:44:47.061Z"
   },
   {
    "duration": 5,
    "start_time": "2024-09-29T14:44:47.260Z"
   },
   {
    "duration": 204,
    "start_time": "2024-09-29T14:44:47.267Z"
   },
   {
    "duration": 181,
    "start_time": "2024-09-29T14:44:47.473Z"
   },
   {
    "duration": 5,
    "start_time": "2024-09-29T14:44:47.655Z"
   },
   {
    "duration": 203,
    "start_time": "2024-09-29T14:44:47.662Z"
   },
   {
    "duration": 199,
    "start_time": "2024-09-29T14:44:47.867Z"
   },
   {
    "duration": 168,
    "start_time": "2024-09-29T14:44:48.068Z"
   },
   {
    "duration": 176,
    "start_time": "2024-09-29T14:44:48.238Z"
   },
   {
    "duration": 6,
    "start_time": "2024-09-29T14:44:48.416Z"
   },
   {
    "duration": 33,
    "start_time": "2024-09-29T14:44:48.424Z"
   },
   {
    "duration": 15,
    "start_time": "2024-09-29T14:44:48.458Z"
   },
   {
    "duration": 16,
    "start_time": "2024-09-29T14:44:48.475Z"
   },
   {
    "duration": 157,
    "start_time": "2024-09-29T14:44:48.493Z"
   },
   {
    "duration": 179,
    "start_time": "2024-09-29T14:44:48.651Z"
   },
   {
    "duration": 5,
    "start_time": "2024-09-29T14:44:48.832Z"
   },
   {
    "duration": 5,
    "start_time": "2024-09-29T14:44:48.838Z"
   },
   {
    "duration": 7,
    "start_time": "2024-09-29T14:44:48.844Z"
   },
   {
    "duration": 211,
    "start_time": "2024-09-29T14:44:48.853Z"
   },
   {
    "duration": 171,
    "start_time": "2024-09-29T14:44:49.066Z"
   },
   {
    "duration": 442,
    "start_time": "2024-09-29T14:44:49.238Z"
   },
   {
    "duration": 201,
    "start_time": "2024-09-29T14:44:49.681Z"
   },
   {
    "duration": 10,
    "start_time": "2024-09-29T14:44:57.119Z"
   },
   {
    "duration": 24,
    "start_time": "2024-09-29T14:45:32.080Z"
   },
   {
    "duration": 3,
    "start_time": "2024-09-29T14:46:17.207Z"
   },
   {
    "duration": 93,
    "start_time": "2024-09-29T14:46:17.212Z"
   },
   {
    "duration": 8,
    "start_time": "2024-09-29T14:46:17.307Z"
   },
   {
    "duration": 2,
    "start_time": "2024-09-29T14:46:17.318Z"
   },
   {
    "duration": 136,
    "start_time": "2024-09-29T14:46:17.322Z"
   },
   {
    "duration": 41,
    "start_time": "2024-09-29T14:46:17.459Z"
   },
   {
    "duration": 30,
    "start_time": "2024-09-29T14:46:17.501Z"
   },
   {
    "duration": 1937,
    "start_time": "2024-09-29T14:46:17.532Z"
   },
   {
    "duration": 25,
    "start_time": "2024-09-29T14:46:19.471Z"
   },
   {
    "duration": 14,
    "start_time": "2024-09-29T14:46:19.497Z"
   },
   {
    "duration": 9,
    "start_time": "2024-09-29T14:46:19.513Z"
   },
   {
    "duration": 197,
    "start_time": "2024-09-29T14:46:19.523Z"
   },
   {
    "duration": 168,
    "start_time": "2024-09-29T14:46:19.722Z"
   },
   {
    "duration": 27,
    "start_time": "2024-09-29T14:46:19.891Z"
   },
   {
    "duration": 5,
    "start_time": "2024-09-29T14:46:19.920Z"
   },
   {
    "duration": 22,
    "start_time": "2024-09-29T14:46:19.927Z"
   },
   {
    "duration": 38,
    "start_time": "2024-09-29T14:46:19.952Z"
   },
   {
    "duration": 9,
    "start_time": "2024-09-29T14:46:19.992Z"
   },
   {
    "duration": 31,
    "start_time": "2024-09-29T14:46:20.003Z"
   },
   {
    "duration": 5,
    "start_time": "2024-09-29T14:46:20.035Z"
   },
   {
    "duration": 9,
    "start_time": "2024-09-29T14:46:20.042Z"
   },
   {
    "duration": 28,
    "start_time": "2024-09-29T14:46:20.052Z"
   },
   {
    "duration": 251,
    "start_time": "2024-09-29T14:46:20.081Z"
   },
   {
    "duration": 4,
    "start_time": "2024-09-29T14:46:20.335Z"
   },
   {
    "duration": 15,
    "start_time": "2024-09-29T14:46:20.341Z"
   },
   {
    "duration": 11,
    "start_time": "2024-09-29T14:46:20.357Z"
   },
   {
    "duration": 6,
    "start_time": "2024-09-29T14:46:20.369Z"
   },
   {
    "duration": 1386,
    "start_time": "2024-09-29T14:46:20.376Z"
   },
   {
    "duration": 1402,
    "start_time": "2024-09-29T14:46:21.763Z"
   },
   {
    "duration": 14,
    "start_time": "2024-09-29T14:46:23.167Z"
   },
   {
    "duration": 31,
    "start_time": "2024-09-29T14:46:23.190Z"
   },
   {
    "duration": 8,
    "start_time": "2024-09-29T14:46:23.223Z"
   },
   {
    "duration": 8,
    "start_time": "2024-09-29T14:46:23.232Z"
   },
   {
    "duration": 36,
    "start_time": "2024-09-29T14:46:23.241Z"
   },
   {
    "duration": 26,
    "start_time": "2024-09-29T14:46:23.279Z"
   },
   {
    "duration": 12,
    "start_time": "2024-09-29T14:46:23.307Z"
   },
   {
    "duration": 24,
    "start_time": "2024-09-29T14:46:23.320Z"
   },
   {
    "duration": 62,
    "start_time": "2024-09-29T14:46:23.346Z"
   },
   {
    "duration": 10,
    "start_time": "2024-09-29T14:46:23.410Z"
   },
   {
    "duration": 9,
    "start_time": "2024-09-29T14:46:23.422Z"
   },
   {
    "duration": 7,
    "start_time": "2024-09-29T14:46:23.433Z"
   },
   {
    "duration": 4,
    "start_time": "2024-09-29T14:46:23.441Z"
   },
   {
    "duration": 8,
    "start_time": "2024-09-29T14:46:23.447Z"
   },
   {
    "duration": 3,
    "start_time": "2024-09-29T14:46:23.456Z"
   },
   {
    "duration": 30,
    "start_time": "2024-09-29T14:46:23.460Z"
   },
   {
    "duration": 5,
    "start_time": "2024-09-29T14:46:23.491Z"
   },
   {
    "duration": 11,
    "start_time": "2024-09-29T14:46:23.498Z"
   },
   {
    "duration": 308,
    "start_time": "2024-09-29T14:46:23.510Z"
   },
   {
    "duration": 4,
    "start_time": "2024-09-29T14:46:23.820Z"
   },
   {
    "duration": 225,
    "start_time": "2024-09-29T14:46:23.826Z"
   },
   {
    "duration": 4,
    "start_time": "2024-09-29T14:46:24.053Z"
   },
   {
    "duration": 7,
    "start_time": "2024-09-29T14:46:24.059Z"
   },
   {
    "duration": 224,
    "start_time": "2024-09-29T14:46:24.068Z"
   },
   {
    "duration": 209,
    "start_time": "2024-09-29T14:46:24.293Z"
   },
   {
    "duration": 4,
    "start_time": "2024-09-29T14:46:24.504Z"
   },
   {
    "duration": 5,
    "start_time": "2024-09-29T14:46:24.514Z"
   },
   {
    "duration": 195,
    "start_time": "2024-09-29T14:46:24.520Z"
   },
   {
    "duration": 8,
    "start_time": "2024-09-29T14:46:24.722Z"
   },
   {
    "duration": 176,
    "start_time": "2024-09-29T14:46:24.731Z"
   },
   {
    "duration": 166,
    "start_time": "2024-09-29T14:46:24.909Z"
   },
   {
    "duration": 5,
    "start_time": "2024-09-29T14:46:25.076Z"
   },
   {
    "duration": 240,
    "start_time": "2024-09-29T14:46:25.089Z"
   },
   {
    "duration": 187,
    "start_time": "2024-09-29T14:46:25.331Z"
   },
   {
    "duration": 152,
    "start_time": "2024-09-29T14:46:25.520Z"
   },
   {
    "duration": 163,
    "start_time": "2024-09-29T14:46:25.674Z"
   },
   {
    "duration": 4,
    "start_time": "2024-09-29T14:46:25.839Z"
   },
   {
    "duration": 6,
    "start_time": "2024-09-29T14:46:25.845Z"
   },
   {
    "duration": 13,
    "start_time": "2024-09-29T14:46:25.852Z"
   },
   {
    "duration": 32,
    "start_time": "2024-09-29T14:46:25.869Z"
   },
   {
    "duration": 165,
    "start_time": "2024-09-29T14:46:25.903Z"
   },
   {
    "duration": 164,
    "start_time": "2024-09-29T14:46:26.070Z"
   },
   {
    "duration": 4,
    "start_time": "2024-09-29T14:46:26.236Z"
   },
   {
    "duration": 6,
    "start_time": "2024-09-29T14:46:26.241Z"
   },
   {
    "duration": 5,
    "start_time": "2024-09-29T14:46:26.248Z"
   },
   {
    "duration": 204,
    "start_time": "2024-09-29T14:46:26.255Z"
   },
   {
    "duration": 176,
    "start_time": "2024-09-29T14:46:26.460Z"
   },
   {
    "duration": 190,
    "start_time": "2024-09-29T14:46:26.637Z"
   },
   {
    "duration": 170,
    "start_time": "2024-09-29T14:46:26.829Z"
   },
   {
    "duration": 13,
    "start_time": "2024-09-29T14:46:27.000Z"
   },
   {
    "duration": 24,
    "start_time": "2024-09-29T14:46:27.014Z"
   },
   {
    "duration": 4,
    "start_time": "2024-09-29T14:46:27.040Z"
   },
   {
    "duration": 462,
    "start_time": "2024-09-29T14:46:30.882Z"
   },
   {
    "duration": 6,
    "start_time": "2024-09-29T14:46:53.153Z"
   },
   {
    "duration": 15,
    "start_time": "2024-09-29T14:47:37.437Z"
   },
   {
    "duration": 2,
    "start_time": "2024-09-29T14:47:41.947Z"
   },
   {
    "duration": 112,
    "start_time": "2024-09-29T14:47:41.951Z"
   },
   {
    "duration": 26,
    "start_time": "2024-09-29T14:47:42.065Z"
   },
   {
    "duration": 5,
    "start_time": "2024-09-29T14:47:42.092Z"
   },
   {
    "duration": 162,
    "start_time": "2024-09-29T14:47:42.098Z"
   },
   {
    "duration": 40,
    "start_time": "2024-09-29T14:47:42.262Z"
   },
   {
    "duration": 29,
    "start_time": "2024-09-29T14:47:42.304Z"
   },
   {
    "duration": 1988,
    "start_time": "2024-09-29T14:47:42.335Z"
   },
   {
    "duration": 9,
    "start_time": "2024-09-29T14:47:44.325Z"
   },
   {
    "duration": 9,
    "start_time": "2024-09-29T14:47:44.336Z"
   },
   {
    "duration": 8,
    "start_time": "2024-09-29T14:47:44.346Z"
   },
   {
    "duration": 240,
    "start_time": "2024-09-29T14:47:44.356Z"
   },
   {
    "duration": 170,
    "start_time": "2024-09-29T14:47:44.600Z"
   },
   {
    "duration": 21,
    "start_time": "2024-09-29T14:47:44.772Z"
   },
   {
    "duration": 8,
    "start_time": "2024-09-29T14:47:44.795Z"
   },
   {
    "duration": 20,
    "start_time": "2024-09-29T14:47:44.805Z"
   },
   {
    "duration": 16,
    "start_time": "2024-09-29T14:47:44.826Z"
   },
   {
    "duration": 5,
    "start_time": "2024-09-29T14:47:44.844Z"
   },
   {
    "duration": 52,
    "start_time": "2024-09-29T14:47:44.851Z"
   },
   {
    "duration": 5,
    "start_time": "2024-09-29T14:47:44.904Z"
   },
   {
    "duration": 5,
    "start_time": "2024-09-29T14:47:44.911Z"
   },
   {
    "duration": 6,
    "start_time": "2024-09-29T14:47:44.917Z"
   },
   {
    "duration": 206,
    "start_time": "2024-09-29T14:47:44.924Z"
   },
   {
    "duration": 5,
    "start_time": "2024-09-29T14:47:45.133Z"
   },
   {
    "duration": 33,
    "start_time": "2024-09-29T14:47:45.139Z"
   },
   {
    "duration": 12,
    "start_time": "2024-09-29T14:47:45.174Z"
   },
   {
    "duration": 68,
    "start_time": "2024-09-29T14:47:45.188Z"
   },
   {
    "duration": 1294,
    "start_time": "2024-09-29T14:47:45.258Z"
   },
   {
    "duration": 1375,
    "start_time": "2024-09-29T14:47:46.554Z"
   },
   {
    "duration": 8,
    "start_time": "2024-09-29T14:47:47.931Z"
   },
   {
    "duration": 15,
    "start_time": "2024-09-29T14:47:47.941Z"
   },
   {
    "duration": 7,
    "start_time": "2024-09-29T14:47:47.958Z"
   },
   {
    "duration": 27,
    "start_time": "2024-09-29T14:47:47.966Z"
   },
   {
    "duration": 21,
    "start_time": "2024-09-29T14:47:47.995Z"
   },
   {
    "duration": 6,
    "start_time": "2024-09-29T14:47:48.017Z"
   },
   {
    "duration": 23,
    "start_time": "2024-09-29T14:47:48.024Z"
   },
   {
    "duration": 25,
    "start_time": "2024-09-29T14:47:48.048Z"
   },
   {
    "duration": 18,
    "start_time": "2024-09-29T14:47:48.074Z"
   },
   {
    "duration": 9,
    "start_time": "2024-09-29T14:47:48.094Z"
   },
   {
    "duration": 7,
    "start_time": "2024-09-29T14:47:48.105Z"
   },
   {
    "duration": 8,
    "start_time": "2024-09-29T14:47:48.114Z"
   },
   {
    "duration": 5,
    "start_time": "2024-09-29T14:47:48.124Z"
   },
   {
    "duration": 11,
    "start_time": "2024-09-29T14:47:48.131Z"
   },
   {
    "duration": 8,
    "start_time": "2024-09-29T14:47:48.143Z"
   },
   {
    "duration": 6,
    "start_time": "2024-09-29T14:47:48.190Z"
   },
   {
    "duration": 7,
    "start_time": "2024-09-29T14:47:48.198Z"
   },
   {
    "duration": 6,
    "start_time": "2024-09-29T14:47:48.207Z"
   },
   {
    "duration": 330,
    "start_time": "2024-09-29T14:47:48.214Z"
   },
   {
    "duration": 3,
    "start_time": "2024-09-29T14:47:48.545Z"
   },
   {
    "duration": 229,
    "start_time": "2024-09-29T14:47:48.550Z"
   },
   {
    "duration": 13,
    "start_time": "2024-09-29T14:47:48.781Z"
   },
   {
    "duration": 10,
    "start_time": "2024-09-29T14:47:48.797Z"
   },
   {
    "duration": 237,
    "start_time": "2024-09-29T14:47:48.809Z"
   },
   {
    "duration": 212,
    "start_time": "2024-09-29T14:47:49.048Z"
   },
   {
    "duration": 4,
    "start_time": "2024-09-29T14:47:49.262Z"
   },
   {
    "duration": 7,
    "start_time": "2024-09-29T14:47:49.267Z"
   },
   {
    "duration": 192,
    "start_time": "2024-09-29T14:47:49.275Z"
   },
   {
    "duration": 4,
    "start_time": "2024-09-29T14:47:49.468Z"
   },
   {
    "duration": 202,
    "start_time": "2024-09-29T14:47:49.473Z"
   },
   {
    "duration": 174,
    "start_time": "2024-09-29T14:47:49.677Z"
   },
   {
    "duration": 5,
    "start_time": "2024-09-29T14:47:49.853Z"
   },
   {
    "duration": 215,
    "start_time": "2024-09-29T14:47:49.859Z"
   },
   {
    "duration": 226,
    "start_time": "2024-09-29T14:47:50.075Z"
   },
   {
    "duration": 150,
    "start_time": "2024-09-29T14:47:50.303Z"
   },
   {
    "duration": 153,
    "start_time": "2024-09-29T14:47:50.455Z"
   },
   {
    "duration": 5,
    "start_time": "2024-09-29T14:47:50.609Z"
   },
   {
    "duration": 7,
    "start_time": "2024-09-29T14:47:50.615Z"
   },
   {
    "duration": 17,
    "start_time": "2024-09-29T14:47:50.623Z"
   },
   {
    "duration": 10,
    "start_time": "2024-09-29T14:47:50.645Z"
   },
   {
    "duration": 183,
    "start_time": "2024-09-29T14:47:50.656Z"
   },
   {
    "duration": 158,
    "start_time": "2024-09-29T14:47:50.841Z"
   },
   {
    "duration": 7,
    "start_time": "2024-09-29T14:47:51.001Z"
   },
   {
    "duration": 11,
    "start_time": "2024-09-29T14:47:51.012Z"
   },
   {
    "duration": 25,
    "start_time": "2024-09-29T14:47:51.024Z"
   },
   {
    "duration": 182,
    "start_time": "2024-09-29T14:47:51.050Z"
   },
   {
    "duration": 177,
    "start_time": "2024-09-29T14:47:51.233Z"
   },
   {
    "duration": 182,
    "start_time": "2024-09-29T14:47:51.412Z"
   },
   {
    "duration": 180,
    "start_time": "2024-09-29T14:47:51.595Z"
   },
   {
    "duration": 19,
    "start_time": "2024-09-29T14:47:51.776Z"
   },
   {
    "duration": 13,
    "start_time": "2024-09-29T14:47:51.796Z"
   },
   {
    "duration": 20,
    "start_time": "2024-09-29T14:47:51.811Z"
   },
   {
    "duration": 191,
    "start_time": "2024-09-29T14:47:51.832Z"
   },
   {
    "duration": 5,
    "start_time": "2024-09-29T14:47:52.024Z"
   },
   {
    "duration": 26,
    "start_time": "2024-09-29T14:47:52.031Z"
   },
   {
    "duration": 26,
    "start_time": "2024-09-29T14:47:52.058Z"
   },
   {
    "duration": 185,
    "start_time": "2024-09-29T14:47:52.086Z"
   },
   {
    "duration": 5,
    "start_time": "2024-09-29T14:47:52.273Z"
   },
   {
    "duration": 15,
    "start_time": "2024-09-29T14:47:52.279Z"
   },
   {
    "duration": 32,
    "start_time": "2024-09-29T14:47:52.296Z"
   },
   {
    "duration": 153,
    "start_time": "2024-09-29T14:47:52.329Z"
   },
   {
    "duration": 7,
    "start_time": "2024-09-29T14:47:52.483Z"
   },
   {
    "duration": 10,
    "start_time": "2024-09-29T14:47:52.492Z"
   },
   {
    "duration": 151,
    "start_time": "2024-09-29T14:47:52.504Z"
   },
   {
    "duration": 4,
    "start_time": "2024-09-29T14:47:52.657Z"
   },
   {
    "duration": 5,
    "start_time": "2024-09-29T14:47:52.663Z"
   },
   {
    "duration": 145,
    "start_time": "2024-09-29T14:47:52.670Z"
   },
   {
    "duration": 6,
    "start_time": "2024-09-29T14:47:52.817Z"
   },
   {
    "duration": 169,
    "start_time": "2024-09-29T14:47:52.824Z"
   },
   {
    "duration": 13,
    "start_time": "2024-09-29T14:47:52.995Z"
   },
   {
    "duration": 27,
    "start_time": "2024-09-29T14:47:53.010Z"
   },
   {
    "duration": 148,
    "start_time": "2024-09-29T14:47:53.038Z"
   },
   {
    "duration": 6,
    "start_time": "2024-09-29T14:47:53.187Z"
   },
   {
    "duration": 166,
    "start_time": "2024-09-29T14:47:53.196Z"
   },
   {
    "duration": 5,
    "start_time": "2024-09-29T14:47:53.363Z"
   },
   {
    "duration": 66,
    "start_time": "2024-09-29T14:47:53.369Z"
   },
   {
    "duration": 19,
    "start_time": "2024-09-29T14:47:53.437Z"
   },
   {
    "duration": 114,
    "start_time": "2024-09-29T14:47:53.457Z"
   },
   {
    "duration": 145,
    "start_time": "2024-09-29T14:48:13.312Z"
   },
   {
    "duration": 5,
    "start_time": "2024-09-29T14:48:32.439Z"
   },
   {
    "duration": 4,
    "start_time": "2024-09-29T14:48:44.231Z"
   },
   {
    "duration": 157,
    "start_time": "2024-09-29T14:48:55.086Z"
   },
   {
    "duration": 4,
    "start_time": "2024-09-29T14:49:12.829Z"
   },
   {
    "duration": 169,
    "start_time": "2024-09-29T14:49:22.263Z"
   },
   {
    "duration": 9,
    "start_time": "2024-09-29T14:49:34.911Z"
   },
   {
    "duration": 504,
    "start_time": "2024-09-29T14:49:44.012Z"
   },
   {
    "duration": 169,
    "start_time": "2024-09-29T14:50:02.114Z"
   },
   {
    "duration": 149,
    "start_time": "2024-09-29T14:50:12.278Z"
   },
   {
    "duration": 20,
    "start_time": "2024-09-29T14:50:29.170Z"
   },
   {
    "duration": 32,
    "start_time": "2024-09-29T14:50:43.580Z"
   },
   {
    "duration": 135,
    "start_time": "2024-09-29T14:50:53.332Z"
   },
   {
    "duration": 9,
    "start_time": "2024-09-29T14:59:18.804Z"
   },
   {
    "duration": 54,
    "start_time": "2024-09-29T15:17:25.820Z"
   },
   {
    "duration": 119,
    "start_time": "2024-09-29T15:29:50.826Z"
   },
   {
    "duration": 129,
    "start_time": "2024-09-29T15:29:58.306Z"
   },
   {
    "duration": 3,
    "start_time": "2024-09-29T15:33:59.858Z"
   },
   {
    "duration": 216,
    "start_time": "2024-09-29T15:35:56.421Z"
   },
   {
    "duration": 185,
    "start_time": "2024-09-29T15:36:59.415Z"
   },
   {
    "duration": 176,
    "start_time": "2024-09-29T15:38:05.770Z"
   },
   {
    "duration": 198,
    "start_time": "2024-09-29T15:39:52.128Z"
   },
   {
    "duration": 199,
    "start_time": "2024-09-29T15:41:11.168Z"
   },
   {
    "duration": 243,
    "start_time": "2024-09-29T15:42:13.104Z"
   },
   {
    "duration": 205,
    "start_time": "2024-09-29T15:42:21.622Z"
   },
   {
    "duration": 202,
    "start_time": "2024-09-29T15:42:53.326Z"
   },
   {
    "duration": 201,
    "start_time": "2024-09-29T15:43:01.957Z"
   },
   {
    "duration": 182,
    "start_time": "2024-09-29T15:43:19.378Z"
   },
   {
    "duration": 210,
    "start_time": "2024-09-29T15:43:35.608Z"
   },
   {
    "duration": 152,
    "start_time": "2024-09-29T15:44:15.302Z"
   },
   {
    "duration": 199,
    "start_time": "2024-09-29T15:44:32.498Z"
   },
   {
    "duration": 210,
    "start_time": "2024-09-29T15:48:29.803Z"
   },
   {
    "duration": 180,
    "start_time": "2024-09-29T15:48:43.349Z"
   },
   {
    "duration": 205,
    "start_time": "2024-09-29T15:48:51.667Z"
   },
   {
    "duration": 197,
    "start_time": "2024-09-29T15:49:28.610Z"
   },
   {
    "duration": 200,
    "start_time": "2024-09-29T15:50:27.016Z"
   },
   {
    "duration": 207,
    "start_time": "2024-09-29T15:50:47.002Z"
   },
   {
    "duration": 196,
    "start_time": "2024-09-29T15:50:58.813Z"
   },
   {
    "duration": 235,
    "start_time": "2024-09-29T15:51:59.884Z"
   },
   {
    "duration": 181,
    "start_time": "2024-09-29T15:52:42.882Z"
   },
   {
    "duration": 191,
    "start_time": "2024-09-29T15:52:56.411Z"
   },
   {
    "duration": 224,
    "start_time": "2024-09-29T15:53:06.645Z"
   },
   {
    "duration": 183,
    "start_time": "2024-09-29T15:53:34.225Z"
   },
   {
    "duration": 181,
    "start_time": "2024-09-29T15:53:45.512Z"
   },
   {
    "duration": 191,
    "start_time": "2024-09-29T15:54:37.677Z"
   },
   {
    "duration": 181,
    "start_time": "2024-09-29T15:54:55.286Z"
   },
   {
    "duration": 180,
    "start_time": "2024-09-29T15:55:03.656Z"
   },
   {
    "duration": 150,
    "start_time": "2024-09-29T15:55:50.896Z"
   },
   {
    "duration": 163,
    "start_time": "2024-09-29T15:56:38.474Z"
   },
   {
    "duration": 152,
    "start_time": "2024-09-29T15:56:55.602Z"
   },
   {
    "duration": 1130,
    "start_time": "2024-09-29T15:57:34.352Z"
   },
   {
    "duration": 971,
    "start_time": "2024-09-29T15:58:01.962Z"
   },
   {
    "duration": 952,
    "start_time": "2024-09-29T15:58:23.455Z"
   },
   {
    "duration": 2,
    "start_time": "2024-09-29T15:58:50.801Z"
   },
   {
    "duration": 5,
    "start_time": "2024-09-29T15:58:50.805Z"
   },
   {
    "duration": 91,
    "start_time": "2024-09-29T15:58:50.812Z"
   },
   {
    "duration": 6,
    "start_time": "2024-09-29T15:58:50.905Z"
   },
   {
    "duration": 3,
    "start_time": "2024-09-29T15:58:50.912Z"
   },
   {
    "duration": 128,
    "start_time": "2024-09-29T15:58:50.917Z"
   },
   {
    "duration": 13,
    "start_time": "2024-09-29T15:58:51.046Z"
   },
   {
    "duration": 49,
    "start_time": "2024-09-29T15:58:51.061Z"
   },
   {
    "duration": 1826,
    "start_time": "2024-09-29T15:58:51.112Z"
   },
   {
    "duration": 9,
    "start_time": "2024-09-29T15:58:52.940Z"
   },
   {
    "duration": 20,
    "start_time": "2024-09-29T15:58:52.950Z"
   },
   {
    "duration": 27,
    "start_time": "2024-09-29T15:58:52.972Z"
   },
   {
    "duration": 169,
    "start_time": "2024-09-29T15:58:53.001Z"
   },
   {
    "duration": 184,
    "start_time": "2024-09-29T15:58:53.172Z"
   },
   {
    "duration": 18,
    "start_time": "2024-09-29T15:58:53.358Z"
   },
   {
    "duration": 23,
    "start_time": "2024-09-29T15:58:53.378Z"
   },
   {
    "duration": 17,
    "start_time": "2024-09-29T15:58:53.403Z"
   },
   {
    "duration": 14,
    "start_time": "2024-09-29T15:58:53.421Z"
   },
   {
    "duration": 62,
    "start_time": "2024-09-29T15:58:53.436Z"
   },
   {
    "duration": 19,
    "start_time": "2024-09-29T15:58:53.500Z"
   },
   {
    "duration": 4,
    "start_time": "2024-09-29T15:58:53.521Z"
   },
   {
    "duration": 4,
    "start_time": "2024-09-29T15:58:53.527Z"
   },
   {
    "duration": 4,
    "start_time": "2024-09-29T15:58:53.533Z"
   },
   {
    "duration": 202,
    "start_time": "2024-09-29T15:58:53.540Z"
   },
   {
    "duration": 4,
    "start_time": "2024-09-29T15:58:53.743Z"
   },
   {
    "duration": 8,
    "start_time": "2024-09-29T15:58:53.748Z"
   },
   {
    "duration": 4,
    "start_time": "2024-09-29T15:58:53.757Z"
   },
   {
    "duration": 3,
    "start_time": "2024-09-29T15:58:53.762Z"
   },
   {
    "duration": 1308,
    "start_time": "2024-09-29T15:58:53.766Z"
   },
   {
    "duration": 1308,
    "start_time": "2024-09-29T15:58:55.076Z"
   },
   {
    "duration": 24,
    "start_time": "2024-09-29T15:58:56.385Z"
   },
   {
    "duration": 15,
    "start_time": "2024-09-29T15:58:56.411Z"
   },
   {
    "duration": 7,
    "start_time": "2024-09-29T15:58:56.427Z"
   },
   {
    "duration": 5,
    "start_time": "2024-09-29T15:58:56.435Z"
   },
   {
    "duration": 22,
    "start_time": "2024-09-29T15:58:56.441Z"
   },
   {
    "duration": 6,
    "start_time": "2024-09-29T15:58:56.464Z"
   },
   {
    "duration": 21,
    "start_time": "2024-09-29T15:58:56.492Z"
   },
   {
    "duration": 24,
    "start_time": "2024-09-29T15:58:56.514Z"
   },
   {
    "duration": 6,
    "start_time": "2024-09-29T15:58:56.539Z"
   },
   {
    "duration": 6,
    "start_time": "2024-09-29T15:58:56.546Z"
   },
   {
    "duration": 6,
    "start_time": "2024-09-29T15:58:56.553Z"
   },
   {
    "duration": 5,
    "start_time": "2024-09-29T15:58:56.561Z"
   },
   {
    "duration": 8,
    "start_time": "2024-09-29T15:58:56.589Z"
   },
   {
    "duration": 18,
    "start_time": "2024-09-29T15:58:56.599Z"
   },
   {
    "duration": 35,
    "start_time": "2024-09-29T15:58:56.622Z"
   },
   {
    "duration": 7,
    "start_time": "2024-09-29T15:58:56.658Z"
   },
   {
    "duration": 5,
    "start_time": "2024-09-29T15:58:56.667Z"
   },
   {
    "duration": 6,
    "start_time": "2024-09-29T15:58:56.673Z"
   },
   {
    "duration": 887,
    "start_time": "2024-09-29T15:58:56.680Z"
   },
   {
    "duration": 3,
    "start_time": "2024-09-29T15:58:57.569Z"
   },
   {
    "duration": 249,
    "start_time": "2024-09-29T15:58:57.573Z"
   },
   {
    "duration": 5,
    "start_time": "2024-09-29T15:58:57.824Z"
   },
   {
    "duration": 12,
    "start_time": "2024-09-29T15:58:57.830Z"
   },
   {
    "duration": 236,
    "start_time": "2024-09-29T15:58:57.843Z"
   },
   {
    "duration": 238,
    "start_time": "2024-09-29T15:58:58.080Z"
   },
   {
    "duration": 4,
    "start_time": "2024-09-29T15:58:58.320Z"
   },
   {
    "duration": 5,
    "start_time": "2024-09-29T15:58:58.326Z"
   },
   {
    "duration": 219,
    "start_time": "2024-09-29T15:58:58.332Z"
   },
   {
    "duration": 4,
    "start_time": "2024-09-29T15:58:58.552Z"
   },
   {
    "duration": 218,
    "start_time": "2024-09-29T15:58:58.557Z"
   },
   {
    "duration": 172,
    "start_time": "2024-09-29T15:58:58.777Z"
   },
   {
    "duration": 5,
    "start_time": "2024-09-29T15:58:58.950Z"
   },
   {
    "duration": 214,
    "start_time": "2024-09-29T15:58:58.957Z"
   },
   {
    "duration": 191,
    "start_time": "2024-09-29T15:58:59.173Z"
   },
   {
    "duration": 166,
    "start_time": "2024-09-29T15:58:59.366Z"
   },
   {
    "duration": 164,
    "start_time": "2024-09-29T15:58:59.533Z"
   },
   {
    "duration": 5,
    "start_time": "2024-09-29T15:58:59.700Z"
   },
   {
    "duration": 8,
    "start_time": "2024-09-29T15:58:59.707Z"
   },
   {
    "duration": 8,
    "start_time": "2024-09-29T15:58:59.720Z"
   },
   {
    "duration": 11,
    "start_time": "2024-09-29T15:58:59.729Z"
   },
   {
    "duration": 150,
    "start_time": "2024-09-29T15:59:05.206Z"
   },
   {
    "duration": 161,
    "start_time": "2024-09-29T16:00:19.836Z"
   },
   {
    "duration": 228,
    "start_time": "2024-09-29T16:00:50.172Z"
   },
   {
    "duration": 171,
    "start_time": "2024-09-29T16:01:33.744Z"
   },
   {
    "duration": 170,
    "start_time": "2024-09-29T16:02:24.019Z"
   },
   {
    "duration": 179,
    "start_time": "2024-09-29T16:02:34.249Z"
   },
   {
    "duration": 163,
    "start_time": "2024-09-29T16:03:17.720Z"
   },
   {
    "duration": 13,
    "start_time": "2024-09-29T16:05:40.613Z"
   },
   {
    "duration": 13,
    "start_time": "2024-09-29T16:06:18.130Z"
   },
   {
    "duration": 3,
    "start_time": "2024-09-29T16:06:24.338Z"
   },
   {
    "duration": 7,
    "start_time": "2024-09-29T16:06:24.342Z"
   },
   {
    "duration": 80,
    "start_time": "2024-09-29T16:06:24.350Z"
   },
   {
    "duration": 7,
    "start_time": "2024-09-29T16:06:24.431Z"
   },
   {
    "duration": 2,
    "start_time": "2024-09-29T16:06:24.440Z"
   },
   {
    "duration": 115,
    "start_time": "2024-09-29T16:06:24.444Z"
   },
   {
    "duration": 40,
    "start_time": "2024-09-29T16:06:24.561Z"
   },
   {
    "duration": 22,
    "start_time": "2024-09-29T16:06:24.603Z"
   },
   {
    "duration": 1766,
    "start_time": "2024-09-29T16:06:24.627Z"
   },
   {
    "duration": 9,
    "start_time": "2024-09-29T16:06:26.394Z"
   },
   {
    "duration": 9,
    "start_time": "2024-09-29T16:06:26.405Z"
   },
   {
    "duration": 8,
    "start_time": "2024-09-29T16:06:26.416Z"
   },
   {
    "duration": 187,
    "start_time": "2024-09-29T16:06:26.426Z"
   },
   {
    "duration": 160,
    "start_time": "2024-09-29T16:06:26.615Z"
   },
   {
    "duration": 23,
    "start_time": "2024-09-29T16:06:26.777Z"
   },
   {
    "duration": 4,
    "start_time": "2024-09-29T16:06:26.802Z"
   },
   {
    "duration": 20,
    "start_time": "2024-09-29T16:06:26.807Z"
   },
   {
    "duration": 17,
    "start_time": "2024-09-29T16:06:26.828Z"
   },
   {
    "duration": 6,
    "start_time": "2024-09-29T16:06:26.847Z"
   },
   {
    "duration": 50,
    "start_time": "2024-09-29T16:06:26.854Z"
   },
   {
    "duration": 6,
    "start_time": "2024-09-29T16:06:26.905Z"
   },
   {
    "duration": 6,
    "start_time": "2024-09-29T16:06:26.913Z"
   },
   {
    "duration": 4,
    "start_time": "2024-09-29T16:06:26.920Z"
   },
   {
    "duration": 200,
    "start_time": "2024-09-29T16:06:26.926Z"
   },
   {
    "duration": 4,
    "start_time": "2024-09-29T16:06:27.127Z"
   },
   {
    "duration": 8,
    "start_time": "2024-09-29T16:06:27.133Z"
   },
   {
    "duration": 5,
    "start_time": "2024-09-29T16:06:27.142Z"
   },
   {
    "duration": 4,
    "start_time": "2024-09-29T16:06:27.148Z"
   },
   {
    "duration": 1272,
    "start_time": "2024-09-29T16:06:27.158Z"
   },
   {
    "duration": 1240,
    "start_time": "2024-09-29T16:06:28.431Z"
   },
   {
    "duration": 9,
    "start_time": "2024-09-29T16:06:29.672Z"
   },
   {
    "duration": 17,
    "start_time": "2024-09-29T16:06:29.690Z"
   },
   {
    "duration": 8,
    "start_time": "2024-09-29T16:06:29.709Z"
   },
   {
    "duration": 4,
    "start_time": "2024-09-29T16:06:29.719Z"
   },
   {
    "duration": 20,
    "start_time": "2024-09-29T16:06:29.725Z"
   },
   {
    "duration": 6,
    "start_time": "2024-09-29T16:06:29.747Z"
   },
   {
    "duration": 6,
    "start_time": "2024-09-29T16:06:29.754Z"
   },
   {
    "duration": 24,
    "start_time": "2024-09-29T16:06:29.790Z"
   },
   {
    "duration": 5,
    "start_time": "2024-09-29T16:06:29.816Z"
   },
   {
    "duration": 7,
    "start_time": "2024-09-29T16:06:29.822Z"
   },
   {
    "duration": 7,
    "start_time": "2024-09-29T16:06:29.830Z"
   },
   {
    "duration": 10,
    "start_time": "2024-09-29T16:06:29.838Z"
   },
   {
    "duration": 7,
    "start_time": "2024-09-29T16:06:29.850Z"
   },
   {
    "duration": 39,
    "start_time": "2024-09-29T16:06:29.858Z"
   },
   {
    "duration": 8,
    "start_time": "2024-09-29T16:06:29.898Z"
   },
   {
    "duration": 9,
    "start_time": "2024-09-29T16:06:29.907Z"
   },
   {
    "duration": 5,
    "start_time": "2024-09-29T16:06:29.918Z"
   },
   {
    "duration": 5,
    "start_time": "2024-09-29T16:06:29.924Z"
   },
   {
    "duration": 286,
    "start_time": "2024-09-29T16:06:29.930Z"
   },
   {
    "duration": 7,
    "start_time": "2024-09-29T16:06:30.218Z"
   },
   {
    "duration": 271,
    "start_time": "2024-09-29T16:06:30.227Z"
   },
   {
    "duration": 4,
    "start_time": "2024-09-29T16:06:30.499Z"
   },
   {
    "duration": 24,
    "start_time": "2024-09-29T16:06:30.505Z"
   },
   {
    "duration": 210,
    "start_time": "2024-09-29T16:06:30.531Z"
   },
   {
    "duration": 203,
    "start_time": "2024-09-29T16:06:30.743Z"
   },
   {
    "duration": 4,
    "start_time": "2024-09-29T16:06:30.947Z"
   },
   {
    "duration": 13,
    "start_time": "2024-09-29T16:06:30.952Z"
   },
   {
    "duration": 179,
    "start_time": "2024-09-29T16:06:30.967Z"
   },
   {
    "duration": 4,
    "start_time": "2024-09-29T16:06:31.147Z"
   },
   {
    "duration": 175,
    "start_time": "2024-09-29T16:06:31.152Z"
   },
   {
    "duration": 161,
    "start_time": "2024-09-29T16:06:31.329Z"
   },
   {
    "duration": 5,
    "start_time": "2024-09-29T16:06:31.492Z"
   },
   {
    "duration": 251,
    "start_time": "2024-09-29T16:06:31.499Z"
   },
   {
    "duration": 190,
    "start_time": "2024-09-29T16:06:31.752Z"
   },
   {
    "duration": 154,
    "start_time": "2024-09-29T16:06:31.944Z"
   },
   {
    "duration": 160,
    "start_time": "2024-09-29T16:06:32.100Z"
   },
   {
    "duration": 4,
    "start_time": "2024-09-29T16:06:32.262Z"
   },
   {
    "duration": 29,
    "start_time": "2024-09-29T16:06:32.267Z"
   },
   {
    "duration": 23,
    "start_time": "2024-09-29T16:06:32.298Z"
   },
   {
    "duration": 24,
    "start_time": "2024-09-29T16:06:32.323Z"
   },
   {
    "duration": 158,
    "start_time": "2024-09-29T16:06:32.349Z"
   },
   {
    "duration": 154,
    "start_time": "2024-09-29T16:06:32.509Z"
   },
   {
    "duration": 5,
    "start_time": "2024-09-29T16:06:32.664Z"
   },
   {
    "duration": 18,
    "start_time": "2024-09-29T16:06:32.670Z"
   },
   {
    "duration": 21,
    "start_time": "2024-09-29T16:06:32.690Z"
   },
   {
    "duration": 182,
    "start_time": "2024-09-29T16:06:32.713Z"
   },
   {
    "duration": 161,
    "start_time": "2024-09-29T16:06:32.897Z"
   },
   {
    "duration": 181,
    "start_time": "2024-09-29T16:06:33.060Z"
   },
   {
    "duration": 187,
    "start_time": "2024-09-29T16:06:33.244Z"
   },
   {
    "duration": 9,
    "start_time": "2024-09-29T16:06:33.433Z"
   },
   {
    "duration": 11,
    "start_time": "2024-09-29T16:06:33.444Z"
   },
   {
    "duration": 75,
    "start_time": "2024-09-29T16:06:33.456Z"
   },
   {
    "duration": 151,
    "start_time": "2024-09-29T16:06:33.538Z"
   },
   {
    "duration": 6,
    "start_time": "2024-09-29T16:06:33.691Z"
   },
   {
    "duration": 28,
    "start_time": "2024-09-29T16:06:33.698Z"
   },
   {
    "duration": 19,
    "start_time": "2024-09-29T16:06:33.727Z"
   },
   {
    "duration": 143,
    "start_time": "2024-09-29T16:06:33.747Z"
   },
   {
    "duration": 5,
    "start_time": "2024-09-29T16:06:33.891Z"
   },
   {
    "duration": 21,
    "start_time": "2024-09-29T16:06:33.898Z"
   },
   {
    "duration": 7,
    "start_time": "2024-09-29T16:06:33.920Z"
   },
   {
    "duration": 161,
    "start_time": "2024-09-29T16:06:33.928Z"
   },
   {
    "duration": 5,
    "start_time": "2024-09-29T16:06:34.091Z"
   },
   {
    "duration": 27,
    "start_time": "2024-09-29T16:06:34.097Z"
   },
   {
    "duration": 133,
    "start_time": "2024-09-29T16:06:34.126Z"
   },
   {
    "duration": 5,
    "start_time": "2024-09-29T16:06:34.260Z"
   },
   {
    "duration": 7,
    "start_time": "2024-09-29T16:06:34.266Z"
   },
   {
    "duration": 144,
    "start_time": "2024-09-29T16:06:34.275Z"
   },
   {
    "duration": 6,
    "start_time": "2024-09-29T16:06:34.420Z"
   },
   {
    "duration": 739,
    "start_time": "2024-09-29T16:06:34.428Z"
   },
   {
    "duration": 21,
    "start_time": "2024-09-29T16:06:35.169Z"
   },
   {
    "duration": 10,
    "start_time": "2024-09-29T16:06:35.192Z"
   },
   {
    "duration": 166,
    "start_time": "2024-09-29T16:06:35.203Z"
   },
   {
    "duration": 5,
    "start_time": "2024-09-29T16:06:35.371Z"
   },
   {
    "duration": 152,
    "start_time": "2024-09-29T16:06:35.377Z"
   },
   {
    "duration": 5,
    "start_time": "2024-09-29T16:06:35.531Z"
   },
   {
    "duration": 23,
    "start_time": "2024-09-29T16:06:35.537Z"
   },
   {
    "duration": 36,
    "start_time": "2024-09-29T16:06:35.562Z"
   },
   {
    "duration": 155,
    "start_time": "2024-09-29T16:06:35.600Z"
   },
   {
    "duration": 158,
    "start_time": "2024-09-29T16:07:08.024Z"
   },
   {
    "duration": 147,
    "start_time": "2024-09-29T16:07:24.935Z"
   },
   {
    "duration": 156,
    "start_time": "2024-09-29T16:08:04.053Z"
   },
   {
    "duration": 151,
    "start_time": "2024-09-29T16:08:47.162Z"
   },
   {
    "duration": 167,
    "start_time": "2024-09-29T16:09:29.577Z"
   },
   {
    "duration": 149,
    "start_time": "2024-09-29T16:10:02.554Z"
   },
   {
    "duration": 4,
    "start_time": "2024-09-29T16:17:35.571Z"
   },
   {
    "duration": 147,
    "start_time": "2024-09-29T16:17:56.421Z"
   },
   {
    "duration": 143,
    "start_time": "2024-09-29T16:18:08.388Z"
   },
   {
    "duration": 179,
    "start_time": "2024-09-29T16:18:30.210Z"
   },
   {
    "duration": 13,
    "start_time": "2024-09-29T16:19:21.209Z"
   },
   {
    "duration": 137,
    "start_time": "2024-09-29T16:21:24.254Z"
   },
   {
    "duration": 173,
    "start_time": "2024-09-29T16:22:20.915Z"
   },
   {
    "duration": 152,
    "start_time": "2024-09-29T16:23:05.694Z"
   },
   {
    "duration": 150,
    "start_time": "2024-09-29T16:23:42.800Z"
   },
   {
    "duration": 9,
    "start_time": "2024-09-29T16:55:07.018Z"
   },
   {
    "duration": 11,
    "start_time": "2024-09-29T17:05:46.590Z"
   },
   {
    "duration": 9,
    "start_time": "2024-09-29T17:06:20.165Z"
   },
   {
    "duration": 8,
    "start_time": "2024-09-29T17:07:09.342Z"
   },
   {
    "duration": 8,
    "start_time": "2024-09-29T17:07:42.636Z"
   },
   {
    "duration": 10,
    "start_time": "2024-09-29T17:08:20.100Z"
   },
   {
    "duration": 8,
    "start_time": "2024-09-29T17:09:21.192Z"
   },
   {
    "duration": 11,
    "start_time": "2024-09-29T17:10:10.668Z"
   },
   {
    "duration": 10,
    "start_time": "2024-09-29T17:10:46.010Z"
   },
   {
    "duration": 407,
    "start_time": "2024-09-29T17:11:19.112Z"
   },
   {
    "duration": 229,
    "start_time": "2024-09-29T17:11:19.520Z"
   },
   {
    "duration": 91,
    "start_time": "2024-09-29T17:11:19.750Z"
   },
   {
    "duration": 9,
    "start_time": "2024-09-29T17:11:19.843Z"
   },
   {
    "duration": 63,
    "start_time": "2024-09-29T17:11:19.854Z"
   },
   {
    "duration": 102,
    "start_time": "2024-09-29T17:11:19.918Z"
   },
   {
    "duration": 14,
    "start_time": "2024-09-29T17:11:20.022Z"
   },
   {
    "duration": 24,
    "start_time": "2024-09-29T17:11:20.037Z"
   },
   {
    "duration": 1888,
    "start_time": "2024-09-29T17:11:20.062Z"
   },
   {
    "duration": 9,
    "start_time": "2024-09-29T17:11:21.953Z"
   },
   {
    "duration": 12,
    "start_time": "2024-09-29T17:11:21.964Z"
   },
   {
    "duration": 10,
    "start_time": "2024-09-29T17:11:21.978Z"
   },
   {
    "duration": 182,
    "start_time": "2024-09-29T17:11:21.989Z"
   },
   {
    "duration": 172,
    "start_time": "2024-09-29T17:11:22.172Z"
   },
   {
    "duration": 26,
    "start_time": "2024-09-29T17:11:22.346Z"
   },
   {
    "duration": 21,
    "start_time": "2024-09-29T17:11:22.374Z"
   },
   {
    "duration": 19,
    "start_time": "2024-09-29T17:11:22.396Z"
   },
   {
    "duration": 17,
    "start_time": "2024-09-29T17:11:22.416Z"
   },
   {
    "duration": 7,
    "start_time": "2024-09-29T17:11:22.434Z"
   },
   {
    "duration": 48,
    "start_time": "2024-09-29T17:11:22.443Z"
   },
   {
    "duration": 5,
    "start_time": "2024-09-29T17:11:22.493Z"
   },
   {
    "duration": 6,
    "start_time": "2024-09-29T17:11:22.500Z"
   },
   {
    "duration": 5,
    "start_time": "2024-09-29T17:11:22.507Z"
   },
   {
    "duration": 194,
    "start_time": "2024-09-29T17:11:22.513Z"
   },
   {
    "duration": 4,
    "start_time": "2024-09-29T17:11:22.708Z"
   },
   {
    "duration": 2,
    "start_time": "2024-09-29T17:11:22.714Z"
   },
   {
    "duration": 6,
    "start_time": "2024-09-29T17:11:22.717Z"
   },
   {
    "duration": 4,
    "start_time": "2024-09-29T17:11:22.727Z"
   },
   {
    "duration": 1290,
    "start_time": "2024-09-29T17:11:22.732Z"
   },
   {
    "duration": 1231,
    "start_time": "2024-09-29T17:11:24.024Z"
   },
   {
    "duration": 9,
    "start_time": "2024-09-29T17:11:25.256Z"
   },
   {
    "duration": 24,
    "start_time": "2024-09-29T17:11:25.266Z"
   },
   {
    "duration": 7,
    "start_time": "2024-09-29T17:11:25.292Z"
   },
   {
    "duration": 10,
    "start_time": "2024-09-29T17:11:25.300Z"
   },
   {
    "duration": 22,
    "start_time": "2024-09-29T17:11:25.312Z"
   },
   {
    "duration": 7,
    "start_time": "2024-09-29T17:11:25.335Z"
   },
   {
    "duration": 8,
    "start_time": "2024-09-29T17:11:25.344Z"
   },
   {
    "duration": 56,
    "start_time": "2024-09-29T17:11:25.353Z"
   },
   {
    "duration": 7,
    "start_time": "2024-09-29T17:11:25.411Z"
   },
   {
    "duration": 6,
    "start_time": "2024-09-29T17:11:25.419Z"
   },
   {
    "duration": 12,
    "start_time": "2024-09-29T17:11:25.426Z"
   },
   {
    "duration": 6,
    "start_time": "2024-09-29T17:11:25.439Z"
   },
   {
    "duration": 8,
    "start_time": "2024-09-29T17:11:25.447Z"
   },
   {
    "duration": 14,
    "start_time": "2024-09-29T17:11:25.456Z"
   },
   {
    "duration": 67,
    "start_time": "2024-09-29T17:11:25.471Z"
   },
   {
    "duration": 57,
    "start_time": "2024-09-29T17:11:25.540Z"
   },
   {
    "duration": 18,
    "start_time": "2024-09-29T17:11:25.599Z"
   },
   {
    "duration": 13,
    "start_time": "2024-09-29T17:11:25.619Z"
   },
   {
    "duration": 341,
    "start_time": "2024-09-29T17:11:25.634Z"
   },
   {
    "duration": 3,
    "start_time": "2024-09-29T17:11:25.977Z"
   },
   {
    "duration": 209,
    "start_time": "2024-09-29T17:11:25.990Z"
   },
   {
    "duration": 8,
    "start_time": "2024-09-29T17:11:26.200Z"
   },
   {
    "duration": 4,
    "start_time": "2024-09-29T17:11:26.209Z"
   },
   {
    "duration": 10,
    "start_time": "2024-09-29T17:11:26.214Z"
   },
   {
    "duration": 222,
    "start_time": "2024-09-29T17:11:26.226Z"
   },
   {
    "duration": 195,
    "start_time": "2024-09-29T17:11:26.450Z"
   },
   {
    "duration": 8,
    "start_time": "2024-09-29T17:11:26.647Z"
   },
   {
    "duration": 4,
    "start_time": "2024-09-29T17:11:26.656Z"
   },
   {
    "duration": 28,
    "start_time": "2024-09-29T17:11:26.662Z"
   },
   {
    "duration": 182,
    "start_time": "2024-09-29T17:11:26.691Z"
   },
   {
    "duration": 18,
    "start_time": "2024-09-29T17:11:26.875Z"
   },
   {
    "duration": 4,
    "start_time": "2024-09-29T17:11:26.895Z"
   },
   {
    "duration": 190,
    "start_time": "2024-09-29T17:11:26.901Z"
   },
   {
    "duration": 165,
    "start_time": "2024-09-29T17:11:27.093Z"
   },
   {
    "duration": 5,
    "start_time": "2024-09-29T17:11:27.260Z"
   },
   {
    "duration": 196,
    "start_time": "2024-09-29T17:11:27.266Z"
   },
   {
    "duration": 9,
    "start_time": "2024-09-29T17:11:27.463Z"
   },
   {
    "duration": 247,
    "start_time": "2024-09-29T17:11:27.473Z"
   },
   {
    "duration": 7,
    "start_time": "2024-09-29T17:11:27.721Z"
   },
   {
    "duration": 7,
    "start_time": "2024-09-29T17:11:27.729Z"
   },
   {
    "duration": 161,
    "start_time": "2024-09-29T17:11:27.737Z"
   },
   {
    "duration": 154,
    "start_time": "2024-09-29T17:11:27.899Z"
   },
   {
    "duration": 5,
    "start_time": "2024-09-29T17:11:28.055Z"
   },
   {
    "duration": 6,
    "start_time": "2024-09-29T17:11:28.061Z"
   },
   {
    "duration": 22,
    "start_time": "2024-09-29T17:11:28.068Z"
   },
   {
    "duration": 8,
    "start_time": "2024-09-29T17:11:28.091Z"
   },
   {
    "duration": 263,
    "start_time": "2024-09-29T17:11:28.100Z"
   },
   {
    "duration": 8,
    "start_time": "2024-09-29T17:11:28.365Z"
   },
   {
    "duration": 152,
    "start_time": "2024-09-29T17:11:28.374Z"
   },
   {
    "duration": 4,
    "start_time": "2024-09-29T17:11:28.528Z"
   },
   {
    "duration": 11,
    "start_time": "2024-09-29T17:11:28.533Z"
   },
   {
    "duration": 6,
    "start_time": "2024-09-29T17:11:28.548Z"
   },
   {
    "duration": 197,
    "start_time": "2024-09-29T17:11:28.555Z"
   },
   {
    "duration": 171,
    "start_time": "2024-09-29T17:11:28.753Z"
   },
   {
    "duration": 8,
    "start_time": "2024-09-29T17:11:28.925Z"
   },
   {
    "duration": 170,
    "start_time": "2024-09-29T17:11:28.934Z"
   },
   {
    "duration": 9,
    "start_time": "2024-09-29T17:11:29.105Z"
   },
   {
    "duration": 174,
    "start_time": "2024-09-29T17:11:29.115Z"
   },
   {
    "duration": 8,
    "start_time": "2024-09-29T17:11:29.291Z"
   },
   {
    "duration": 10,
    "start_time": "2024-09-29T17:11:29.301Z"
   },
   {
    "duration": 3,
    "start_time": "2024-09-29T17:11:29.313Z"
   },
   {
    "duration": 173,
    "start_time": "2024-09-29T17:11:29.318Z"
   },
   {
    "duration": 5,
    "start_time": "2024-09-29T17:11:29.492Z"
   },
   {
    "duration": 58,
    "start_time": "2024-09-29T17:11:29.498Z"
   },
   {
    "duration": 4,
    "start_time": "2024-09-29T17:11:29.557Z"
   },
   {
    "duration": 143,
    "start_time": "2024-09-29T17:11:29.563Z"
   },
   {
    "duration": 5,
    "start_time": "2024-09-29T17:11:29.707Z"
   },
   {
    "duration": 8,
    "start_time": "2024-09-29T17:11:29.713Z"
   },
   {
    "duration": 5,
    "start_time": "2024-09-29T17:11:29.722Z"
   },
   {
    "duration": 175,
    "start_time": "2024-09-29T17:11:29.728Z"
   },
   {
    "duration": 4,
    "start_time": "2024-09-29T17:11:29.905Z"
   },
   {
    "duration": 24,
    "start_time": "2024-09-29T17:11:29.910Z"
   },
   {
    "duration": 145,
    "start_time": "2024-09-29T17:11:29.936Z"
   },
   {
    "duration": 4,
    "start_time": "2024-09-29T17:11:30.082Z"
   },
   {
    "duration": 7,
    "start_time": "2024-09-29T17:11:30.089Z"
   },
   {
    "duration": 170,
    "start_time": "2024-09-29T17:11:30.098Z"
   },
   {
    "duration": 7,
    "start_time": "2024-09-29T17:11:30.270Z"
   },
   {
    "duration": 186,
    "start_time": "2024-09-29T17:11:30.290Z"
   },
   {
    "duration": 20,
    "start_time": "2024-09-29T17:11:30.478Z"
   },
   {
    "duration": 13,
    "start_time": "2024-09-29T17:11:30.500Z"
   },
   {
    "duration": 280,
    "start_time": "2024-09-29T17:11:30.515Z"
   },
   {
    "duration": 6,
    "start_time": "2024-09-29T17:11:30.796Z"
   },
   {
    "duration": 234,
    "start_time": "2024-09-29T17:11:30.803Z"
   },
   {
    "duration": 4,
    "start_time": "2024-09-29T17:11:31.039Z"
   },
   {
    "duration": 60,
    "start_time": "2024-09-29T17:11:31.045Z"
   },
   {
    "duration": 22,
    "start_time": "2024-09-29T17:11:31.106Z"
   },
   {
    "duration": 148,
    "start_time": "2024-09-29T17:11:31.130Z"
   }
  ],
  "colab": {
   "provenance": []
  },
  "kernelspec": {
   "display_name": "Python 3",
   "language": "python",
   "name": "python3"
  },
  "language_info": {
   "codemirror_mode": {
    "name": "ipython",
    "version": 3
   },
   "file_extension": ".py",
   "mimetype": "text/x-python",
   "name": "python",
   "nbconvert_exporter": "python",
   "pygments_lexer": "ipython3",
   "version": "3.7.0"
  },
  "toc": {
   "base_numbering": 1,
   "nav_menu": {},
   "number_sections": true,
   "sideBar": true,
   "skip_h1_title": true,
   "title_cell": "Table of Contents",
   "title_sidebar": "Contents",
   "toc_cell": false,
   "toc_position": {},
   "toc_section_display": true,
   "toc_window_display": false
  }
 },
 "nbformat": 4,
 "nbformat_minor": 1
}
