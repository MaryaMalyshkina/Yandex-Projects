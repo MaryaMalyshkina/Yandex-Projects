{
 "cells": [
  {
   "cell_type": "markdown",
   "metadata": {},
   "source": [
    "Введение\n",
    "\n",
    "Цель работы - проанализировать данные сервиса аренды самокатов с целью увеличения количества пользователей с подпиской.\n",
    "\n",
    "Данные содержат в себе информацию о пользователях (город, возраст, тип подписки), информацию о поездках (расстояние, длительность и дата совершения поездки), а также стоимость поездки для пользователей с подпиской и без.\n",
    "\n",
    "План работы:\n",
    "\n",
    "1. [Загрузка данных](#section1) \n",
    "\n",
    "2. [Предобработка данных (исследование пропусков, дублей, проверка типов данных)](#section2) \n",
    "\n",
    "3. [Исследовательский анализ: общая информация о пользователях и поездках (построение гистограмм, графиков, подсчет описательных статистик)](#section3) \n",
    "\n",
    "4. [Объединение данных](#section4) \n",
    "\n",
    "5. [ Подсчет выручки](#section5)\n",
    "\n",
    "6. [Проверка гипотез о расстоянии, времени поездок и выручке от пользователей с подпиской по сравнению с пользователями без подписки](#section6) \n",
    "\n",
    "7. [Исследование эффективности промо-акций с раздачей промокодов и рассылкой push-уведомлений](#section7)\n",
    "\n",
    "8. [Заключение](#section8)"
   ]
  },
  {
   "cell_type": "markdown",
   "metadata": {},
   "source": [
    "<a id='section1'></a> \n",
    "####  1. Загрузка данных"
   ]
  },
  {
   "cell_type": "markdown",
   "metadata": {},
   "source": [
    "Импорт библиотек."
   ]
  },
  {
   "cell_type": "code",
   "execution_count": 1,
   "metadata": {},
   "outputs": [],
   "source": [
    "import pandas as pd\n",
    "import matplotlib.pyplot as plt\n",
    "import numpy as np\n",
    "import os\n",
    "from scipy import stats as st\n",
    "from math import sqrt\n",
    "from scipy.stats import binom, norm,  poisson"
   ]
  },
  {
   "cell_type": "markdown",
   "metadata": {},
   "source": [
    "1.1 Загружаем информацию о пользователях."
   ]
  },
  {
   "cell_type": "code",
   "execution_count": 2,
   "metadata": {},
   "outputs": [],
   "source": [
    "pth1 = '/datasets/users_go.csv'\n",
    "pth2 = 'https://code.s3.yandex.net/datasets/users_go.csv'"
   ]
  },
  {
   "cell_type": "code",
   "execution_count": 3,
   "metadata": {},
   "outputs": [],
   "source": [
    "try:\n",
    "     data_users = pd.read_csv(pth1)\n",
    "except:\n",
    "     data_users = pd.read_csv(pth2)    "
   ]
  },
  {
   "cell_type": "markdown",
   "metadata": {},
   "source": [
    "Загружаем информацию о поездках."
   ]
  },
  {
   "cell_type": "code",
   "execution_count": 4,
   "metadata": {},
   "outputs": [],
   "source": [
    "pth1 = '/datasets/rides_go.csv'\n",
    "pth2 = 'https://code.s3.yandex.net/datasets/rides_go.csv'"
   ]
  },
  {
   "cell_type": "code",
   "execution_count": 5,
   "metadata": {},
   "outputs": [],
   "source": [
    "try:\n",
    "     data_rides = pd.read_csv(pth1)\n",
    "except:\n",
    "     data_rides = pd.read_csv(pth2)   "
   ]
  },
  {
   "cell_type": "markdown",
   "metadata": {},
   "source": [
    "Загружаем информацию о подписках."
   ]
  },
  {
   "cell_type": "code",
   "execution_count": 6,
   "metadata": {},
   "outputs": [],
   "source": [
    "pth1 = '/datasets/subscriptions_go.csv'\n",
    "pth2 = 'https://code.s3.yandex.net/datasets/subscriptions_go.csv'"
   ]
  },
  {
   "cell_type": "code",
   "execution_count": 7,
   "metadata": {},
   "outputs": [],
   "source": [
    "try:\n",
    "     data_subscriptions = pd.read_csv(pth1)\n",
    "except:\n",
    "     data_subscriptions = pd.read_csv(pth2) "
   ]
  },
  {
   "cell_type": "markdown",
   "metadata": {},
   "source": [
    "1.2 Выводим первые строки набора данных о пользователях."
   ]
  },
  {
   "cell_type": "code",
   "execution_count": 8,
   "metadata": {},
   "outputs": [
    {
     "data": {
      "text/html": [
       "<div>\n",
       "<style scoped>\n",
       "    .dataframe tbody tr th:only-of-type {\n",
       "        vertical-align: middle;\n",
       "    }\n",
       "\n",
       "    .dataframe tbody tr th {\n",
       "        vertical-align: top;\n",
       "    }\n",
       "\n",
       "    .dataframe thead th {\n",
       "        text-align: right;\n",
       "    }\n",
       "</style>\n",
       "<table border=\"1\" class=\"dataframe\">\n",
       "  <thead>\n",
       "    <tr style=\"text-align: right;\">\n",
       "      <th></th>\n",
       "      <th>user_id</th>\n",
       "      <th>name</th>\n",
       "      <th>age</th>\n",
       "      <th>city</th>\n",
       "      <th>subscription_type</th>\n",
       "    </tr>\n",
       "  </thead>\n",
       "  <tbody>\n",
       "    <tr>\n",
       "      <th>0</th>\n",
       "      <td>1</td>\n",
       "      <td>Кира</td>\n",
       "      <td>22</td>\n",
       "      <td>Тюмень</td>\n",
       "      <td>ultra</td>\n",
       "    </tr>\n",
       "    <tr>\n",
       "      <th>1</th>\n",
       "      <td>2</td>\n",
       "      <td>Станислав</td>\n",
       "      <td>31</td>\n",
       "      <td>Омск</td>\n",
       "      <td>ultra</td>\n",
       "    </tr>\n",
       "    <tr>\n",
       "      <th>2</th>\n",
       "      <td>3</td>\n",
       "      <td>Алексей</td>\n",
       "      <td>20</td>\n",
       "      <td>Москва</td>\n",
       "      <td>ultra</td>\n",
       "    </tr>\n",
       "    <tr>\n",
       "      <th>3</th>\n",
       "      <td>4</td>\n",
       "      <td>Константин</td>\n",
       "      <td>26</td>\n",
       "      <td>Ростов-на-Дону</td>\n",
       "      <td>ultra</td>\n",
       "    </tr>\n",
       "    <tr>\n",
       "      <th>4</th>\n",
       "      <td>5</td>\n",
       "      <td>Адель</td>\n",
       "      <td>28</td>\n",
       "      <td>Омск</td>\n",
       "      <td>ultra</td>\n",
       "    </tr>\n",
       "    <tr>\n",
       "      <th>5</th>\n",
       "      <td>6</td>\n",
       "      <td>Регина</td>\n",
       "      <td>25</td>\n",
       "      <td>Краснодар</td>\n",
       "      <td>ultra</td>\n",
       "    </tr>\n",
       "    <tr>\n",
       "      <th>6</th>\n",
       "      <td>7</td>\n",
       "      <td>Игорь</td>\n",
       "      <td>23</td>\n",
       "      <td>Омск</td>\n",
       "      <td>ultra</td>\n",
       "    </tr>\n",
       "    <tr>\n",
       "      <th>7</th>\n",
       "      <td>8</td>\n",
       "      <td>Юрий</td>\n",
       "      <td>23</td>\n",
       "      <td>Краснодар</td>\n",
       "      <td>ultra</td>\n",
       "    </tr>\n",
       "    <tr>\n",
       "      <th>8</th>\n",
       "      <td>9</td>\n",
       "      <td>Ян</td>\n",
       "      <td>21</td>\n",
       "      <td>Пятигорск</td>\n",
       "      <td>ultra</td>\n",
       "    </tr>\n",
       "    <tr>\n",
       "      <th>9</th>\n",
       "      <td>10</td>\n",
       "      <td>Валерий</td>\n",
       "      <td>18</td>\n",
       "      <td>Екатеринбург</td>\n",
       "      <td>ultra</td>\n",
       "    </tr>\n",
       "  </tbody>\n",
       "</table>\n",
       "</div>"
      ],
      "text/plain": [
       "   user_id        name  age            city subscription_type\n",
       "0        1        Кира   22          Тюмень             ultra\n",
       "1        2   Станислав   31            Омск             ultra\n",
       "2        3     Алексей   20          Москва             ultra\n",
       "3        4  Константин   26  Ростов-на-Дону             ultra\n",
       "4        5       Адель   28            Омск             ultra\n",
       "5        6      Регина   25       Краснодар             ultra\n",
       "6        7       Игорь   23            Омск             ultra\n",
       "7        8        Юрий   23       Краснодар             ultra\n",
       "8        9          Ян   21       Пятигорск             ultra\n",
       "9       10     Валерий   18    Екатеринбург             ultra"
      ]
     },
     "metadata": {},
     "output_type": "display_data"
    }
   ],
   "source": [
    "display(data_users.head(10))"
   ]
  },
  {
   "cell_type": "markdown",
   "metadata": {},
   "source": [
    "Выведем общую информацию о датафрейме с пользователями."
   ]
  },
  {
   "cell_type": "code",
   "execution_count": 9,
   "metadata": {},
   "outputs": [
    {
     "name": "stdout",
     "output_type": "stream",
     "text": [
      "<class 'pandas.core.frame.DataFrame'>\n",
      "RangeIndex: 1565 entries, 0 to 1564\n",
      "Data columns (total 5 columns):\n",
      " #   Column             Non-Null Count  Dtype \n",
      "---  ------             --------------  ----- \n",
      " 0   user_id            1565 non-null   int64 \n",
      " 1   name               1565 non-null   object\n",
      " 2   age                1565 non-null   int64 \n",
      " 3   city               1565 non-null   object\n",
      " 4   subscription_type  1565 non-null   object\n",
      "dtypes: int64(2), object(3)\n",
      "memory usage: 42.9+ KB\n"
     ]
    }
   ],
   "source": [
    "data_users.info()"
   ]
  },
  {
   "cell_type": "markdown",
   "metadata": {},
   "source": [
    "В таблице 1565 строк, пропусков в данных нет."
   ]
  },
  {
   "cell_type": "markdown",
   "metadata": {},
   "source": [
    "Выводим первые строки набора данных о поездках."
   ]
  },
  {
   "cell_type": "code",
   "execution_count": 10,
   "metadata": {},
   "outputs": [
    {
     "data": {
      "text/html": [
       "<div>\n",
       "<style scoped>\n",
       "    .dataframe tbody tr th:only-of-type {\n",
       "        vertical-align: middle;\n",
       "    }\n",
       "\n",
       "    .dataframe tbody tr th {\n",
       "        vertical-align: top;\n",
       "    }\n",
       "\n",
       "    .dataframe thead th {\n",
       "        text-align: right;\n",
       "    }\n",
       "</style>\n",
       "<table border=\"1\" class=\"dataframe\">\n",
       "  <thead>\n",
       "    <tr style=\"text-align: right;\">\n",
       "      <th></th>\n",
       "      <th>user_id</th>\n",
       "      <th>distance</th>\n",
       "      <th>duration</th>\n",
       "      <th>date</th>\n",
       "    </tr>\n",
       "  </thead>\n",
       "  <tbody>\n",
       "    <tr>\n",
       "      <th>0</th>\n",
       "      <td>1</td>\n",
       "      <td>4409.919140</td>\n",
       "      <td>25.599769</td>\n",
       "      <td>2021-01-01</td>\n",
       "    </tr>\n",
       "    <tr>\n",
       "      <th>1</th>\n",
       "      <td>1</td>\n",
       "      <td>2617.592153</td>\n",
       "      <td>15.816871</td>\n",
       "      <td>2021-01-18</td>\n",
       "    </tr>\n",
       "    <tr>\n",
       "      <th>2</th>\n",
       "      <td>1</td>\n",
       "      <td>754.159807</td>\n",
       "      <td>6.232113</td>\n",
       "      <td>2021-04-20</td>\n",
       "    </tr>\n",
       "    <tr>\n",
       "      <th>3</th>\n",
       "      <td>1</td>\n",
       "      <td>2694.783254</td>\n",
       "      <td>18.511000</td>\n",
       "      <td>2021-08-11</td>\n",
       "    </tr>\n",
       "    <tr>\n",
       "      <th>4</th>\n",
       "      <td>1</td>\n",
       "      <td>4028.687306</td>\n",
       "      <td>26.265803</td>\n",
       "      <td>2021-08-28</td>\n",
       "    </tr>\n",
       "    <tr>\n",
       "      <th>5</th>\n",
       "      <td>1</td>\n",
       "      <td>2770.890808</td>\n",
       "      <td>16.650138</td>\n",
       "      <td>2021-10-09</td>\n",
       "    </tr>\n",
       "    <tr>\n",
       "      <th>6</th>\n",
       "      <td>1</td>\n",
       "      <td>3039.020292</td>\n",
       "      <td>14.927879</td>\n",
       "      <td>2021-10-19</td>\n",
       "    </tr>\n",
       "    <tr>\n",
       "      <th>7</th>\n",
       "      <td>1</td>\n",
       "      <td>2842.118050</td>\n",
       "      <td>23.117468</td>\n",
       "      <td>2021-11-06</td>\n",
       "    </tr>\n",
       "    <tr>\n",
       "      <th>8</th>\n",
       "      <td>1</td>\n",
       "      <td>3412.690668</td>\n",
       "      <td>15.238072</td>\n",
       "      <td>2021-11-14</td>\n",
       "    </tr>\n",
       "    <tr>\n",
       "      <th>9</th>\n",
       "      <td>1</td>\n",
       "      <td>748.690645</td>\n",
       "      <td>15.041884</td>\n",
       "      <td>2021-11-22</td>\n",
       "    </tr>\n",
       "  </tbody>\n",
       "</table>\n",
       "</div>"
      ],
      "text/plain": [
       "   user_id     distance   duration        date\n",
       "0        1  4409.919140  25.599769  2021-01-01\n",
       "1        1  2617.592153  15.816871  2021-01-18\n",
       "2        1   754.159807   6.232113  2021-04-20\n",
       "3        1  2694.783254  18.511000  2021-08-11\n",
       "4        1  4028.687306  26.265803  2021-08-28\n",
       "5        1  2770.890808  16.650138  2021-10-09\n",
       "6        1  3039.020292  14.927879  2021-10-19\n",
       "7        1  2842.118050  23.117468  2021-11-06\n",
       "8        1  3412.690668  15.238072  2021-11-14\n",
       "9        1   748.690645  15.041884  2021-11-22"
      ]
     },
     "metadata": {},
     "output_type": "display_data"
    }
   ],
   "source": [
    "display(data_rides.head(10))"
   ]
  },
  {
   "cell_type": "markdown",
   "metadata": {},
   "source": [
    "Выведем общую информацию о датафрейме с поездками."
   ]
  },
  {
   "cell_type": "code",
   "execution_count": 11,
   "metadata": {},
   "outputs": [
    {
     "name": "stdout",
     "output_type": "stream",
     "text": [
      "<class 'pandas.core.frame.DataFrame'>\n",
      "RangeIndex: 18068 entries, 0 to 18067\n",
      "Data columns (total 4 columns):\n",
      " #   Column    Non-Null Count  Dtype  \n",
      "---  ------    --------------  -----  \n",
      " 0   user_id   18068 non-null  int64  \n",
      " 1   distance  18068 non-null  float64\n",
      " 2   duration  18068 non-null  float64\n",
      " 3   date      18068 non-null  object \n",
      "dtypes: float64(2), int64(1), object(1)\n",
      "memory usage: 494.1+ KB\n"
     ]
    }
   ],
   "source": [
    "data_rides.info()"
   ]
  },
  {
   "cell_type": "markdown",
   "metadata": {},
   "source": [
    "В этой таблице гораздо больше данных: 18068 строк, пропусков нет."
   ]
  },
  {
   "cell_type": "markdown",
   "metadata": {},
   "source": [
    "Выводим первые строки набора данных о подписках."
   ]
  },
  {
   "cell_type": "code",
   "execution_count": 12,
   "metadata": {},
   "outputs": [
    {
     "data": {
      "text/html": [
       "<div>\n",
       "<style scoped>\n",
       "    .dataframe tbody tr th:only-of-type {\n",
       "        vertical-align: middle;\n",
       "    }\n",
       "\n",
       "    .dataframe tbody tr th {\n",
       "        vertical-align: top;\n",
       "    }\n",
       "\n",
       "    .dataframe thead th {\n",
       "        text-align: right;\n",
       "    }\n",
       "</style>\n",
       "<table border=\"1\" class=\"dataframe\">\n",
       "  <thead>\n",
       "    <tr style=\"text-align: right;\">\n",
       "      <th></th>\n",
       "      <th>subscription_type</th>\n",
       "      <th>minute_price</th>\n",
       "      <th>start_ride_price</th>\n",
       "      <th>subscription_fee</th>\n",
       "    </tr>\n",
       "  </thead>\n",
       "  <tbody>\n",
       "    <tr>\n",
       "      <th>0</th>\n",
       "      <td>free</td>\n",
       "      <td>8</td>\n",
       "      <td>50</td>\n",
       "      <td>0</td>\n",
       "    </tr>\n",
       "    <tr>\n",
       "      <th>1</th>\n",
       "      <td>ultra</td>\n",
       "      <td>6</td>\n",
       "      <td>0</td>\n",
       "      <td>199</td>\n",
       "    </tr>\n",
       "  </tbody>\n",
       "</table>\n",
       "</div>"
      ],
      "text/plain": [
       "  subscription_type  minute_price  start_ride_price  subscription_fee\n",
       "0              free             8                50                 0\n",
       "1             ultra             6                 0               199"
      ]
     },
     "metadata": {},
     "output_type": "display_data"
    }
   ],
   "source": [
    "display(data_subscriptions.head(10))"
   ]
  },
  {
   "cell_type": "markdown",
   "metadata": {},
   "source": [
    "В этой таблице всего 2 строки: информация о тарифах по подписке и без."
   ]
  },
  {
   "cell_type": "markdown",
   "metadata": {},
   "source": [
    "<a id='section2'></a> \n",
    "####  2. Предобработка данных"
   ]
  },
  {
   "cell_type": "markdown",
   "metadata": {},
   "source": [
    "2.1 Приведем столбец date в таблице с поездками к формату даты и времени."
   ]
  },
  {
   "cell_type": "code",
   "execution_count": 13,
   "metadata": {},
   "outputs": [],
   "source": [
    "data_rides['date']=pd.to_datetime(data_rides['date'],format='%Y-%m-%d')"
   ]
  },
  {
   "cell_type": "markdown",
   "metadata": {},
   "source": [
    "2.2 Создадим новый столбец с номером месяца."
   ]
  },
  {
   "cell_type": "code",
   "execution_count": 14,
   "metadata": {},
   "outputs": [],
   "source": [
    "data_rides['month']=data_rides['date'].dt.month"
   ]
  },
  {
   "cell_type": "markdown",
   "metadata": {},
   "source": [
    "Проверим правильность нашего нового столбца: выведем первые 10 строк таблицы."
   ]
  },
  {
   "cell_type": "code",
   "execution_count": 15,
   "metadata": {},
   "outputs": [
    {
     "data": {
      "text/html": [
       "<div>\n",
       "<style scoped>\n",
       "    .dataframe tbody tr th:only-of-type {\n",
       "        vertical-align: middle;\n",
       "    }\n",
       "\n",
       "    .dataframe tbody tr th {\n",
       "        vertical-align: top;\n",
       "    }\n",
       "\n",
       "    .dataframe thead th {\n",
       "        text-align: right;\n",
       "    }\n",
       "</style>\n",
       "<table border=\"1\" class=\"dataframe\">\n",
       "  <thead>\n",
       "    <tr style=\"text-align: right;\">\n",
       "      <th></th>\n",
       "      <th>user_id</th>\n",
       "      <th>distance</th>\n",
       "      <th>duration</th>\n",
       "      <th>date</th>\n",
       "      <th>month</th>\n",
       "    </tr>\n",
       "  </thead>\n",
       "  <tbody>\n",
       "    <tr>\n",
       "      <th>0</th>\n",
       "      <td>1</td>\n",
       "      <td>4409.919140</td>\n",
       "      <td>25.599769</td>\n",
       "      <td>2021-01-01</td>\n",
       "      <td>1</td>\n",
       "    </tr>\n",
       "    <tr>\n",
       "      <th>1</th>\n",
       "      <td>1</td>\n",
       "      <td>2617.592153</td>\n",
       "      <td>15.816871</td>\n",
       "      <td>2021-01-18</td>\n",
       "      <td>1</td>\n",
       "    </tr>\n",
       "    <tr>\n",
       "      <th>2</th>\n",
       "      <td>1</td>\n",
       "      <td>754.159807</td>\n",
       "      <td>6.232113</td>\n",
       "      <td>2021-04-20</td>\n",
       "      <td>4</td>\n",
       "    </tr>\n",
       "    <tr>\n",
       "      <th>3</th>\n",
       "      <td>1</td>\n",
       "      <td>2694.783254</td>\n",
       "      <td>18.511000</td>\n",
       "      <td>2021-08-11</td>\n",
       "      <td>8</td>\n",
       "    </tr>\n",
       "    <tr>\n",
       "      <th>4</th>\n",
       "      <td>1</td>\n",
       "      <td>4028.687306</td>\n",
       "      <td>26.265803</td>\n",
       "      <td>2021-08-28</td>\n",
       "      <td>8</td>\n",
       "    </tr>\n",
       "    <tr>\n",
       "      <th>5</th>\n",
       "      <td>1</td>\n",
       "      <td>2770.890808</td>\n",
       "      <td>16.650138</td>\n",
       "      <td>2021-10-09</td>\n",
       "      <td>10</td>\n",
       "    </tr>\n",
       "    <tr>\n",
       "      <th>6</th>\n",
       "      <td>1</td>\n",
       "      <td>3039.020292</td>\n",
       "      <td>14.927879</td>\n",
       "      <td>2021-10-19</td>\n",
       "      <td>10</td>\n",
       "    </tr>\n",
       "    <tr>\n",
       "      <th>7</th>\n",
       "      <td>1</td>\n",
       "      <td>2842.118050</td>\n",
       "      <td>23.117468</td>\n",
       "      <td>2021-11-06</td>\n",
       "      <td>11</td>\n",
       "    </tr>\n",
       "    <tr>\n",
       "      <th>8</th>\n",
       "      <td>1</td>\n",
       "      <td>3412.690668</td>\n",
       "      <td>15.238072</td>\n",
       "      <td>2021-11-14</td>\n",
       "      <td>11</td>\n",
       "    </tr>\n",
       "    <tr>\n",
       "      <th>9</th>\n",
       "      <td>1</td>\n",
       "      <td>748.690645</td>\n",
       "      <td>15.041884</td>\n",
       "      <td>2021-11-22</td>\n",
       "      <td>11</td>\n",
       "    </tr>\n",
       "  </tbody>\n",
       "</table>\n",
       "</div>"
      ],
      "text/plain": [
       "   user_id     distance   duration       date  month\n",
       "0        1  4409.919140  25.599769 2021-01-01      1\n",
       "1        1  2617.592153  15.816871 2021-01-18      1\n",
       "2        1   754.159807   6.232113 2021-04-20      4\n",
       "3        1  2694.783254  18.511000 2021-08-11      8\n",
       "4        1  4028.687306  26.265803 2021-08-28      8\n",
       "5        1  2770.890808  16.650138 2021-10-09     10\n",
       "6        1  3039.020292  14.927879 2021-10-19     10\n",
       "7        1  2842.118050  23.117468 2021-11-06     11\n",
       "8        1  3412.690668  15.238072 2021-11-14     11\n",
       "9        1   748.690645  15.041884 2021-11-22     11"
      ]
     },
     "metadata": {},
     "output_type": "display_data"
    }
   ],
   "source": [
    "display(data_rides.head(10))"
   ]
  },
  {
   "cell_type": "markdown",
   "metadata": {},
   "source": [
    "Столбец добавлен корректно."
   ]
  },
  {
   "cell_type": "markdown",
   "metadata": {},
   "source": [
    "2.3 Выведем количество пропусков в каждом столбце в первой таблице."
   ]
  },
  {
   "cell_type": "code",
   "execution_count": 16,
   "metadata": {},
   "outputs": [
    {
     "data": {
      "text/plain": [
       "user_id              0\n",
       "name                 0\n",
       "age                  0\n",
       "city                 0\n",
       "subscription_type    0\n",
       "dtype: int64"
      ]
     },
     "execution_count": 16,
     "metadata": {},
     "output_type": "execute_result"
    }
   ],
   "source": [
    "data_users.isna().sum()"
   ]
  },
  {
   "cell_type": "markdown",
   "metadata": {},
   "source": [
    "Аналогично во второй таблице."
   ]
  },
  {
   "cell_type": "code",
   "execution_count": 17,
   "metadata": {},
   "outputs": [
    {
     "data": {
      "text/plain": [
       "user_id     0\n",
       "distance    0\n",
       "duration    0\n",
       "date        0\n",
       "month       0\n",
       "dtype: int64"
      ]
     },
     "execution_count": 17,
     "metadata": {},
     "output_type": "execute_result"
    }
   ],
   "source": [
    "data_rides.isna().sum()"
   ]
  },
  {
   "cell_type": "markdown",
   "metadata": {},
   "source": [
    "Пропусков данных нет ни в таблице с пользователями, ни в таблице с поездками."
   ]
  },
  {
   "cell_type": "markdown",
   "metadata": {},
   "source": [
    "Проверим данные на наличие явных дубликатов."
   ]
  },
  {
   "cell_type": "code",
   "execution_count": 18,
   "metadata": {},
   "outputs": [
    {
     "data": {
      "text/plain": [
       "31"
      ]
     },
     "execution_count": 18,
     "metadata": {},
     "output_type": "execute_result"
    }
   ],
   "source": [
    "data_users.duplicated().sum()"
   ]
  },
  {
   "cell_type": "code",
   "execution_count": 19,
   "metadata": {},
   "outputs": [
    {
     "data": {
      "text/plain": [
       "0"
      ]
     },
     "execution_count": 19,
     "metadata": {},
     "output_type": "execute_result"
    }
   ],
   "source": [
    "data_rides.duplicated().sum()"
   ]
  },
  {
   "cell_type": "markdown",
   "metadata": {},
   "source": [
    "В таблице с пользователями обнаружилось 31 явный дубликат. Удалим эти строки с обновлением индексации."
   ]
  },
  {
   "cell_type": "code",
   "execution_count": 20,
   "metadata": {},
   "outputs": [],
   "source": [
    "data_users = data_users.drop_duplicates().reset_index(drop=True)"
   ]
  },
  {
   "cell_type": "markdown",
   "metadata": {},
   "source": [
    "Проверим теперь число дубликатов."
   ]
  },
  {
   "cell_type": "code",
   "execution_count": 21,
   "metadata": {},
   "outputs": [
    {
     "data": {
      "text/plain": [
       "0"
      ]
     },
     "execution_count": 21,
     "metadata": {},
     "output_type": "execute_result"
    }
   ],
   "source": [
    "data_users.duplicated().sum()"
   ]
  },
  {
   "cell_type": "markdown",
   "metadata": {},
   "source": [
    "Все пропуски в таблице с пользователями удалены."
   ]
  },
  {
   "cell_type": "markdown",
   "metadata": {},
   "source": [
    "Выведем еще раз общую информацию об этом датафрейме."
   ]
  },
  {
   "cell_type": "code",
   "execution_count": 22,
   "metadata": {},
   "outputs": [
    {
     "name": "stdout",
     "output_type": "stream",
     "text": [
      "<class 'pandas.core.frame.DataFrame'>\n",
      "RangeIndex: 1534 entries, 0 to 1533\n",
      "Data columns (total 5 columns):\n",
      " #   Column             Non-Null Count  Dtype \n",
      "---  ------             --------------  ----- \n",
      " 0   user_id            1534 non-null   int64 \n",
      " 1   name               1534 non-null   object\n",
      " 2   age                1534 non-null   int64 \n",
      " 3   city               1534 non-null   object\n",
      " 4   subscription_type  1534 non-null   object\n",
      "dtypes: int64(2), object(3)\n",
      "memory usage: 42.0+ KB\n"
     ]
    }
   ],
   "source": [
    "data_users.info()"
   ]
  },
  {
   "cell_type": "markdown",
   "metadata": {},
   "source": [
    "На всякий случай проверим, нет ли одинаковых значений в столбце user_id."
   ]
  },
  {
   "cell_type": "code",
   "execution_count": 23,
   "metadata": {},
   "outputs": [
    {
     "data": {
      "text/plain": [
       "1534"
      ]
     },
     "execution_count": 23,
     "metadata": {},
     "output_type": "execute_result"
    }
   ],
   "source": [
    "data_users['user_id'].nunique()"
   ]
  },
  {
   "cell_type": "markdown",
   "metadata": {},
   "source": [
    "1534 уникальных зачения - ровно столько, сколько строк в таблице. Значит, дубликатов в этом столбце нет."
   ]
  },
  {
   "cell_type": "markdown",
   "metadata": {},
   "source": [
    "Данные готовы к обработке."
   ]
  },
  {
   "cell_type": "markdown",
   "metadata": {},
   "source": [
    "<a id='section3'></a> \n",
    "####  3. Исследовательский анализ данных"
   ]
  },
  {
   "cell_type": "markdown",
   "metadata": {},
   "source": [
    "3.1 Проанализируем частоту встречаемости городов."
   ]
  },
  {
   "cell_type": "markdown",
   "metadata": {},
   "source": [
    "Посмотрим сначала, какие в принципе значения встречаются в столбце с названием города."
   ]
  },
  {
   "cell_type": "code",
   "execution_count": 24,
   "metadata": {},
   "outputs": [
    {
     "data": {
      "text/plain": [
       "array(['Тюмень', 'Омск', 'Москва', 'Ростов-на-Дону', 'Краснодар',\n",
       "       'Пятигорск', 'Екатеринбург', 'Сочи'], dtype=object)"
      ]
     },
     "execution_count": 24,
     "metadata": {},
     "output_type": "execute_result"
    }
   ],
   "source": [
    "data_users['city'].unique()"
   ]
  },
  {
   "cell_type": "markdown",
   "metadata": {},
   "source": [
    "Как видим, всего 8 городов. Посчитаем число пользователей в этих городах."
   ]
  },
  {
   "cell_type": "code",
   "execution_count": 25,
   "metadata": {},
   "outputs": [
    {
     "data": {
      "text/html": [
       "<div>\n",
       "<style scoped>\n",
       "    .dataframe tbody tr th:only-of-type {\n",
       "        vertical-align: middle;\n",
       "    }\n",
       "\n",
       "    .dataframe tbody tr th {\n",
       "        vertical-align: top;\n",
       "    }\n",
       "\n",
       "    .dataframe thead th {\n",
       "        text-align: right;\n",
       "    }\n",
       "</style>\n",
       "<table border=\"1\" class=\"dataframe\">\n",
       "  <thead>\n",
       "    <tr style=\"text-align: right;\">\n",
       "      <th></th>\n",
       "      <th>user_id</th>\n",
       "    </tr>\n",
       "    <tr>\n",
       "      <th>city</th>\n",
       "      <th></th>\n",
       "    </tr>\n",
       "  </thead>\n",
       "  <tbody>\n",
       "    <tr>\n",
       "      <th>Пятигорск</th>\n",
       "      <td>219</td>\n",
       "    </tr>\n",
       "    <tr>\n",
       "      <th>Екатеринбург</th>\n",
       "      <td>204</td>\n",
       "    </tr>\n",
       "    <tr>\n",
       "      <th>Ростов-на-Дону</th>\n",
       "      <td>198</td>\n",
       "    </tr>\n",
       "    <tr>\n",
       "      <th>Краснодар</th>\n",
       "      <td>193</td>\n",
       "    </tr>\n",
       "    <tr>\n",
       "      <th>Сочи</th>\n",
       "      <td>189</td>\n",
       "    </tr>\n",
       "    <tr>\n",
       "      <th>Омск</th>\n",
       "      <td>183</td>\n",
       "    </tr>\n",
       "    <tr>\n",
       "      <th>Тюмень</th>\n",
       "      <td>180</td>\n",
       "    </tr>\n",
       "    <tr>\n",
       "      <th>Москва</th>\n",
       "      <td>168</td>\n",
       "    </tr>\n",
       "  </tbody>\n",
       "</table>\n",
       "</div>"
      ],
      "text/plain": [
       "                user_id\n",
       "city                   \n",
       "Пятигорск           219\n",
       "Екатеринбург        204\n",
       "Ростов-на-Дону      198\n",
       "Краснодар           193\n",
       "Сочи                189\n",
       "Омск                183\n",
       "Тюмень              180\n",
       "Москва              168"
      ]
     },
     "execution_count": 25,
     "metadata": {},
     "output_type": "execute_result"
    }
   ],
   "source": [
    "#Строим сводную таблицу по названию города, выводим число значений user_id в каждом городе\n",
    "data_users.pivot_table(index='city', values='user_id',aggfunc='count').sort_values(by='user_id',ascending=False)"
   ]
  },
  {
   "cell_type": "markdown",
   "metadata": {},
   "source": [
    "Построим круговую диаграмму, на которой отобразим частоту встречаемости городов."
   ]
  },
  {
   "cell_type": "code",
   "execution_count": 26,
   "metadata": {},
   "outputs": [
    {
     "data": {
      "image/png": "[encoded data removed]",
      "text/plain": [
       "<Figure size 576x576 with 1 Axes>"
      ]
     },
     "metadata": {},
     "output_type": "display_data"
    }
   ],
   "source": [
    "data_users.pivot_table(index='city', values='user_id',aggfunc='count').plot(kind='pie',y='user_id',figsize=(8,8),label='',autopct='%1.0f%%')\n",
    "plt.title('Частота встречаемости городов') \n",
    "\n",
    "plt.show() "
   ]
  },
  {
   "cell_type": "code",
   "execution_count": 27,
   "metadata": {},
   "outputs": [
    {
     "data": {
      "image/png": "[encoded data removed]",
      "text/plain": [
       "<Figure size 720x432 with 1 Axes>"
      ]
     },
     "metadata": {
      "needs_background": "light"
     },
     "output_type": "display_data"
    }
   ],
   "source": [
    "data_users.pivot_table(index='city', values='user_id',aggfunc='count').sort_values(by='user_id').plot(kind='bar',figsize=(10,6))\n",
    "plt.title('Частота встречаемости городов') \n",
    "plt.xlabel('город') \n",
    "plt.ylabel('число пользователей') \n",
    "plt.show() "
   ]
  },
  {
   "cell_type": "markdown",
   "metadata": {},
   "source": [
    "Как видно, больше всего пользователей в Пятигорске,  меньше всего в Москве."
   ]
  },
  {
   "cell_type": "markdown",
   "metadata": {},
   "source": [
    "3.2 Соотношение пользователей с подпиской и без."
   ]
  },
  {
   "cell_type": "markdown",
   "metadata": {},
   "source": [
    "Посмотрим, сколько пользователей имеют подписку, сколько нет."
   ]
  },
  {
   "cell_type": "code",
   "execution_count": 28,
   "metadata": {},
   "outputs": [
    {
     "data": {
      "text/html": [
       "<div>\n",
       "<style scoped>\n",
       "    .dataframe tbody tr th:only-of-type {\n",
       "        vertical-align: middle;\n",
       "    }\n",
       "\n",
       "    .dataframe tbody tr th {\n",
       "        vertical-align: top;\n",
       "    }\n",
       "\n",
       "    .dataframe thead th {\n",
       "        text-align: right;\n",
       "    }\n",
       "</style>\n",
       "<table border=\"1\" class=\"dataframe\">\n",
       "  <thead>\n",
       "    <tr style=\"text-align: right;\">\n",
       "      <th></th>\n",
       "      <th>user_id</th>\n",
       "    </tr>\n",
       "    <tr>\n",
       "      <th>subscription_type</th>\n",
       "      <th></th>\n",
       "    </tr>\n",
       "  </thead>\n",
       "  <tbody>\n",
       "    <tr>\n",
       "      <th>free</th>\n",
       "      <td>835</td>\n",
       "    </tr>\n",
       "    <tr>\n",
       "      <th>ultra</th>\n",
       "      <td>699</td>\n",
       "    </tr>\n",
       "  </tbody>\n",
       "</table>\n",
       "</div>"
      ],
      "text/plain": [
       "                   user_id\n",
       "subscription_type         \n",
       "free                   835\n",
       "ultra                  699"
      ]
     },
     "execution_count": 28,
     "metadata": {},
     "output_type": "execute_result"
    }
   ],
   "source": [
    "#Строим сводную таблицу по типу подписки, выводим число значений user_id для каждого типа\n",
    "data_users.pivot_table(index='subscription_type', values='user_id',aggfunc='count')"
   ]
  },
  {
   "cell_type": "markdown",
   "metadata": {},
   "source": [
    "Построим круговую диаграмму для типа подписки."
   ]
  },
  {
   "cell_type": "code",
   "execution_count": 29,
   "metadata": {},
   "outputs": [
    {
     "data": {
      "image/png": "[encoded data removed]",
      "text/plain": [
       "<Figure size 432x432 with 1 Axes>"
      ]
     },
     "metadata": {},
     "output_type": "display_data"
    }
   ],
   "source": [
    "data_users.pivot_table(index='subscription_type', values='user_id',aggfunc='count').plot(kind='pie',y='user_id',figsize=(6,6),label='',autopct='%1.0f%%')\n",
    "plt.title('Тип подписки') \n",
    "\n",
    "plt.show() "
   ]
  },
  {
   "cell_type": "markdown",
   "metadata": {},
   "source": [
    "Итак, 46% имеют подписку, 54% пользователей не имеют."
   ]
  },
  {
   "cell_type": "markdown",
   "metadata": {},
   "source": [
    "3.3 Возраст пользователей"
   ]
  },
  {
   "cell_type": "markdown",
   "metadata": {},
   "source": [
    "Посмотрим на распределение пользователей по возрастам."
   ]
  },
  {
   "cell_type": "markdown",
   "metadata": {},
   "source": [
    "Построим столбчатую диаграмму для возраста пользователей."
   ]
  },
  {
   "cell_type": "code",
   "execution_count": 30,
   "metadata": {
    "scrolled": false
   },
   "outputs": [
    {
     "data": {
      "image/png": "[encoded data removed]",
      "text/plain": [
       "<Figure size 720x432 with 1 Axes>"
      ]
     },
     "metadata": {
      "needs_background": "light"
     },
     "output_type": "display_data"
    }
   ],
   "source": [
    "data_users.pivot_table(index='age', values='user_id',aggfunc='count').plot(kind='bar',figsize=(10,6))\n",
    "plt.title('Число пользователей в зависимости от возраста') \n",
    "plt.xlabel('возраст') \n",
    "plt.ylabel('число пользователей') \n",
    "plt.show() "
   ]
  },
  {
   "cell_type": "markdown",
   "metadata": {},
   "source": [
    "Таким образом, наиболее активная категория пользователей - молодежь в возрасте около 25 лет. Самому молодому пользователю 12 лет, самому возрастному 43 года."
   ]
  },
  {
   "cell_type": "markdown",
   "metadata": {},
   "source": [
    "3.4 Расстояние, которое пользователь преодолел за одну поездку"
   ]
  },
  {
   "cell_type": "markdown",
   "metadata": {},
   "source": [
    "Посмотрим, какие значения принимает переменная distance  в таблице с поездками."
   ]
  },
  {
   "cell_type": "code",
   "execution_count": 31,
   "metadata": {},
   "outputs": [
    {
     "data": {
      "text/plain": [
       "count    18068.000000\n",
       "mean      3070.659976\n",
       "std       1116.831209\n",
       "min          0.855683\n",
       "25%       2543.226360\n",
       "50%       3133.609994\n",
       "75%       3776.222735\n",
       "max       7211.007745\n",
       "Name: distance, dtype: float64"
      ]
     },
     "metadata": {},
     "output_type": "display_data"
    }
   ],
   "source": [
    "display(data_rides['distance'].describe()) "
   ]
  },
  {
   "cell_type": "markdown",
   "metadata": {},
   "source": [
    "Среднее расстояние, преодолеваемое пользователями, около 3 км, максимальное 7,2 км, минимальное 1 м. Медиана 3,1 км, что не сильно отличается от среднего, поэтому больших выбросов в данных нет. Стандартное отклонение 1,1 км, примерно треть от среднего,  разброс данных большой. "
   ]
  },
  {
   "cell_type": "markdown",
   "metadata": {},
   "source": [
    "Для визуализации можно посторить диаграмму размаха для переменной distance. "
   ]
  },
  {
   "cell_type": "code",
   "execution_count": 32,
   "metadata": {},
   "outputs": [
    {
     "data": {
      "image/png": "[encoded data removed]",
      "text/plain": [
       "<Figure size 720x432 with 1 Axes>"
      ]
     },
     "metadata": {
      "needs_background": "light"
     },
     "output_type": "display_data"
    }
   ],
   "source": [
    "ax = data_rides['distance'].plot.box(figsize=(10,6))\n",
    "plt.title('Диаграмма размаха для расстояния, пройденного за одну поездку') \n",
    "plt.xlabel('расстояние, пройденное за одну поездку ') \n",
    "plt.ylabel('расстояние в м') \n",
    "plt.show()"
   ]
  },
  {
   "cell_type": "markdown",
   "metadata": {},
   "source": [
    "Как видно из диаграммы, очень много коротких поездок (до 1 км), которые находятся ниже первого квартиля, а также длинных поездок (больше 5,5 км), которые больше третьего квартиля. "
   ]
  },
  {
   "cell_type": "markdown",
   "metadata": {},
   "source": [
    "Построим гистограмму значений пройденных расстяний."
   ]
  },
  {
   "cell_type": "code",
   "execution_count": 33,
   "metadata": {},
   "outputs": [
    {
     "data": {
      "image/png": "[encoded data removed]",
      "text/plain": [
       "<Figure size 720x432 with 1 Axes>"
      ]
     },
     "metadata": {
      "needs_background": "light"
     },
     "output_type": "display_data"
    }
   ],
   "source": [
    "data_rides['distance'].hist(bins=30,figsize=(10,6),legend=True)\n",
    "plt.title('Распределение поездок по расстоянию') \n",
    "plt.xlabel('расстояние в м') \n",
    "plt.ylabel('число поездок')  \n",
    "plt.show() "
   ]
  },
  {
   "cell_type": "markdown",
   "metadata": {},
   "source": [
    "Из гистограммы видно, что чаще всего пройденное расстояние составило около 3 км. \n",
    "Есть небольшой пик в районе 0,5 км. По всей видимости, это новые пользователи, которые впервые захотели попробовать использовать самокат. "
   ]
  },
  {
   "cell_type": "markdown",
   "metadata": {},
   "source": [
    "3.5 Продолжительность поездок"
   ]
  },
  {
   "cell_type": "markdown",
   "metadata": {},
   "source": [
    "Посмотрим, какие значения принимает переменная duration в таблице с поездками."
   ]
  },
  {
   "cell_type": "code",
   "execution_count": 34,
   "metadata": {},
   "outputs": [
    {
     "data": {
      "text/plain": [
       "count    18068.000000\n",
       "mean        17.805011\n",
       "std          6.091051\n",
       "min          0.500000\n",
       "25%         13.597563\n",
       "50%         17.678395\n",
       "75%         21.724800\n",
       "max         40.823963\n",
       "Name: duration, dtype: float64"
      ]
     },
     "metadata": {},
     "output_type": "display_data"
    }
   ],
   "source": [
    "display(data_rides['duration'].describe()) "
   ]
  },
  {
   "cell_type": "markdown",
   "metadata": {},
   "source": [
    "Средняя длительность поездки составила 17,8 минут, медиана 17,7 минут, значит выбросов в данных нет. Максимальное время поездки составило 41 минуту, минимальное 0,5 минуты. Стандартное отклонение 6 минут, примерно треть от среднего. "
   ]
  },
  {
   "cell_type": "markdown",
   "metadata": {},
   "source": [
    "Диаграмма размаха для переменной duration:"
   ]
  },
  {
   "cell_type": "code",
   "execution_count": 35,
   "metadata": {},
   "outputs": [
    {
     "data": {
      "image/png": "[encoded data removed]",
      "text/plain": [
       "<Figure size 720x432 with 1 Axes>"
      ]
     },
     "metadata": {
      "needs_background": "light"
     },
     "output_type": "display_data"
    }
   ],
   "source": [
    "ax = data_rides['duration'].plot.box(figsize=(10,6))\n",
    "plt.title('Диаграмма размаха для длительности одной поездки') \n",
    "plt.xlabel('длительность одной поездки ') \n",
    "plt.ylabel('время в минутах') \n",
    "plt.show()"
   ]
  },
  {
   "cell_type": "markdown",
   "metadata": {},
   "source": [
    "Из диаграммы видно, что есть близкие к 0 значения, а также большие (больше 33 минут) значения."
   ]
  },
  {
   "cell_type": "markdown",
   "metadata": {},
   "source": [
    "Попробуем построить гистограмму для переменной duration."
   ]
  },
  {
   "cell_type": "code",
   "execution_count": 36,
   "metadata": {},
   "outputs": [
    {
     "data": {
      "image/png": "[encoded data removed]",
      "text/plain": [
       "<Figure size 720x432 with 1 Axes>"
      ]
     },
     "metadata": {
      "needs_background": "light"
     },
     "output_type": "display_data"
    }
   ],
   "source": [
    "data_rides['duration'].hist(bins=30,figsize=(10,6),legend=True)\n",
    "plt.title('Распределение поездок по длительности') \n",
    "plt.xlabel('длительность в минутах') \n",
    "plt.ylabel('число поездок')  \n",
    "plt.show() "
   ]
  },
  {
   "cell_type": "markdown",
   "metadata": {},
   "source": [
    "Из гистограммы видно, что чаще всего поездки совершались за 18-19 минут. Вблизи 0 есть небольшой подъем, как и в случае с расстоянием, по всей видимости причины этих двух пиков одинаковые."
   ]
  },
  {
   "cell_type": "markdown",
   "metadata": {},
   "source": [
    "<a id='section4'></a> \n",
    "#### 4. Объединение данных"
   ]
  },
  {
   "cell_type": "markdown",
   "metadata": {},
   "source": [
    "4.1 Объединим данные о пользователях, поездках и подписках в один датафрейм."
   ]
  },
  {
   "cell_type": "code",
   "execution_count": 37,
   "metadata": {},
   "outputs": [],
   "source": [
    "data_tmp=data_rides.merge(data_users)"
   ]
  },
  {
   "cell_type": "markdown",
   "metadata": {},
   "source": [
    "Выведем первые 10 строк новой таблицы, чтобы проверить, что объединение прошло успешно."
   ]
  },
  {
   "cell_type": "code",
   "execution_count": 38,
   "metadata": {},
   "outputs": [
    {
     "data": {
      "text/html": [
       "<div>\n",
       "<style scoped>\n",
       "    .dataframe tbody tr th:only-of-type {\n",
       "        vertical-align: middle;\n",
       "    }\n",
       "\n",
       "    .dataframe tbody tr th {\n",
       "        vertical-align: top;\n",
       "    }\n",
       "\n",
       "    .dataframe thead th {\n",
       "        text-align: right;\n",
       "    }\n",
       "</style>\n",
       "<table border=\"1\" class=\"dataframe\">\n",
       "  <thead>\n",
       "    <tr style=\"text-align: right;\">\n",
       "      <th></th>\n",
       "      <th>user_id</th>\n",
       "      <th>distance</th>\n",
       "      <th>duration</th>\n",
       "      <th>date</th>\n",
       "      <th>month</th>\n",
       "      <th>name</th>\n",
       "      <th>age</th>\n",
       "      <th>city</th>\n",
       "      <th>subscription_type</th>\n",
       "    </tr>\n",
       "  </thead>\n",
       "  <tbody>\n",
       "    <tr>\n",
       "      <th>0</th>\n",
       "      <td>1</td>\n",
       "      <td>4409.919140</td>\n",
       "      <td>25.599769</td>\n",
       "      <td>2021-01-01</td>\n",
       "      <td>1</td>\n",
       "      <td>Кира</td>\n",
       "      <td>22</td>\n",
       "      <td>Тюмень</td>\n",
       "      <td>ultra</td>\n",
       "    </tr>\n",
       "    <tr>\n",
       "      <th>1</th>\n",
       "      <td>1</td>\n",
       "      <td>2617.592153</td>\n",
       "      <td>15.816871</td>\n",
       "      <td>2021-01-18</td>\n",
       "      <td>1</td>\n",
       "      <td>Кира</td>\n",
       "      <td>22</td>\n",
       "      <td>Тюмень</td>\n",
       "      <td>ultra</td>\n",
       "    </tr>\n",
       "    <tr>\n",
       "      <th>2</th>\n",
       "      <td>1</td>\n",
       "      <td>754.159807</td>\n",
       "      <td>6.232113</td>\n",
       "      <td>2021-04-20</td>\n",
       "      <td>4</td>\n",
       "      <td>Кира</td>\n",
       "      <td>22</td>\n",
       "      <td>Тюмень</td>\n",
       "      <td>ultra</td>\n",
       "    </tr>\n",
       "    <tr>\n",
       "      <th>3</th>\n",
       "      <td>1</td>\n",
       "      <td>2694.783254</td>\n",
       "      <td>18.511000</td>\n",
       "      <td>2021-08-11</td>\n",
       "      <td>8</td>\n",
       "      <td>Кира</td>\n",
       "      <td>22</td>\n",
       "      <td>Тюмень</td>\n",
       "      <td>ultra</td>\n",
       "    </tr>\n",
       "    <tr>\n",
       "      <th>4</th>\n",
       "      <td>1</td>\n",
       "      <td>4028.687306</td>\n",
       "      <td>26.265803</td>\n",
       "      <td>2021-08-28</td>\n",
       "      <td>8</td>\n",
       "      <td>Кира</td>\n",
       "      <td>22</td>\n",
       "      <td>Тюмень</td>\n",
       "      <td>ultra</td>\n",
       "    </tr>\n",
       "    <tr>\n",
       "      <th>5</th>\n",
       "      <td>1</td>\n",
       "      <td>2770.890808</td>\n",
       "      <td>16.650138</td>\n",
       "      <td>2021-10-09</td>\n",
       "      <td>10</td>\n",
       "      <td>Кира</td>\n",
       "      <td>22</td>\n",
       "      <td>Тюмень</td>\n",
       "      <td>ultra</td>\n",
       "    </tr>\n",
       "    <tr>\n",
       "      <th>6</th>\n",
       "      <td>1</td>\n",
       "      <td>3039.020292</td>\n",
       "      <td>14.927879</td>\n",
       "      <td>2021-10-19</td>\n",
       "      <td>10</td>\n",
       "      <td>Кира</td>\n",
       "      <td>22</td>\n",
       "      <td>Тюмень</td>\n",
       "      <td>ultra</td>\n",
       "    </tr>\n",
       "    <tr>\n",
       "      <th>7</th>\n",
       "      <td>1</td>\n",
       "      <td>2842.118050</td>\n",
       "      <td>23.117468</td>\n",
       "      <td>2021-11-06</td>\n",
       "      <td>11</td>\n",
       "      <td>Кира</td>\n",
       "      <td>22</td>\n",
       "      <td>Тюмень</td>\n",
       "      <td>ultra</td>\n",
       "    </tr>\n",
       "    <tr>\n",
       "      <th>8</th>\n",
       "      <td>1</td>\n",
       "      <td>3412.690668</td>\n",
       "      <td>15.238072</td>\n",
       "      <td>2021-11-14</td>\n",
       "      <td>11</td>\n",
       "      <td>Кира</td>\n",
       "      <td>22</td>\n",
       "      <td>Тюмень</td>\n",
       "      <td>ultra</td>\n",
       "    </tr>\n",
       "    <tr>\n",
       "      <th>9</th>\n",
       "      <td>1</td>\n",
       "      <td>748.690645</td>\n",
       "      <td>15.041884</td>\n",
       "      <td>2021-11-22</td>\n",
       "      <td>11</td>\n",
       "      <td>Кира</td>\n",
       "      <td>22</td>\n",
       "      <td>Тюмень</td>\n",
       "      <td>ultra</td>\n",
       "    </tr>\n",
       "  </tbody>\n",
       "</table>\n",
       "</div>"
      ],
      "text/plain": [
       "   user_id     distance   duration       date  month  name  age    city  \\\n",
       "0        1  4409.919140  25.599769 2021-01-01      1  Кира   22  Тюмень   \n",
       "1        1  2617.592153  15.816871 2021-01-18      1  Кира   22  Тюмень   \n",
       "2        1   754.159807   6.232113 2021-04-20      4  Кира   22  Тюмень   \n",
       "3        1  2694.783254  18.511000 2021-08-11      8  Кира   22  Тюмень   \n",
       "4        1  4028.687306  26.265803 2021-08-28      8  Кира   22  Тюмень   \n",
       "5        1  2770.890808  16.650138 2021-10-09     10  Кира   22  Тюмень   \n",
       "6        1  3039.020292  14.927879 2021-10-19     10  Кира   22  Тюмень   \n",
       "7        1  2842.118050  23.117468 2021-11-06     11  Кира   22  Тюмень   \n",
       "8        1  3412.690668  15.238072 2021-11-14     11  Кира   22  Тюмень   \n",
       "9        1   748.690645  15.041884 2021-11-22     11  Кира   22  Тюмень   \n",
       "\n",
       "  subscription_type  \n",
       "0             ultra  \n",
       "1             ultra  \n",
       "2             ultra  \n",
       "3             ultra  \n",
       "4             ultra  \n",
       "5             ultra  \n",
       "6             ultra  \n",
       "7             ultra  \n",
       "8             ultra  \n",
       "9             ultra  "
      ]
     },
     "metadata": {},
     "output_type": "display_data"
    }
   ],
   "source": [
    "display(data_tmp.head(10))"
   ]
  },
  {
   "cell_type": "markdown",
   "metadata": {},
   "source": [
    "4.2 Создадим два датафрейма: о пользователях с подпиской и без."
   ]
  },
  {
   "cell_type": "code",
   "execution_count": 39,
   "metadata": {},
   "outputs": [],
   "source": [
    "#создаем датафрейм пользователей без подписки\n",
    "data_free=data_tmp[data_tmp['subscription_type']=='free']"
   ]
  },
  {
   "cell_type": "code",
   "execution_count": 40,
   "metadata": {},
   "outputs": [],
   "source": [
    "#создаем датафрейм пользователей с подпиской\n",
    "data_ultra=data_tmp[data_tmp['subscription_type']=='ultra']"
   ]
  },
  {
   "cell_type": "markdown",
   "metadata": {},
   "source": [
    "Выведем сначала общую информацию об этих датафреймах."
   ]
  },
  {
   "cell_type": "code",
   "execution_count": 41,
   "metadata": {},
   "outputs": [
    {
     "name": "stdout",
     "output_type": "stream",
     "text": [
      "<class 'pandas.core.frame.DataFrame'>\n",
      "Int64Index: 11568 entries, 6500 to 18067\n",
      "Data columns (total 9 columns):\n",
      " #   Column             Non-Null Count  Dtype         \n",
      "---  ------             --------------  -----         \n",
      " 0   user_id            11568 non-null  int64         \n",
      " 1   distance           11568 non-null  float64       \n",
      " 2   duration           11568 non-null  float64       \n",
      " 3   date               11568 non-null  datetime64[ns]\n",
      " 4   month              11568 non-null  int64         \n",
      " 5   name               11568 non-null  object        \n",
      " 6   age                11568 non-null  int64         \n",
      " 7   city               11568 non-null  object        \n",
      " 8   subscription_type  11568 non-null  object        \n",
      "dtypes: datetime64[ns](1), float64(2), int64(3), object(3)\n",
      "memory usage: 768.2+ KB\n"
     ]
    }
   ],
   "source": [
    "data_free.info()"
   ]
  },
  {
   "cell_type": "code",
   "execution_count": 42,
   "metadata": {},
   "outputs": [
    {
     "name": "stdout",
     "output_type": "stream",
     "text": [
      "<class 'pandas.core.frame.DataFrame'>\n",
      "Int64Index: 6500 entries, 0 to 6499\n",
      "Data columns (total 9 columns):\n",
      " #   Column             Non-Null Count  Dtype         \n",
      "---  ------             --------------  -----         \n",
      " 0   user_id            6500 non-null   int64         \n",
      " 1   distance           6500 non-null   float64       \n",
      " 2   duration           6500 non-null   float64       \n",
      " 3   date               6500 non-null   datetime64[ns]\n",
      " 4   month              6500 non-null   int64         \n",
      " 5   name               6500 non-null   object        \n",
      " 6   age                6500 non-null   int64         \n",
      " 7   city               6500 non-null   object        \n",
      " 8   subscription_type  6500 non-null   object        \n",
      "dtypes: datetime64[ns](1), float64(2), int64(3), object(3)\n",
      "memory usage: 431.6+ KB\n"
     ]
    }
   ],
   "source": [
    "data_ultra.info()"
   ]
  },
  {
   "cell_type": "markdown",
   "metadata": {},
   "source": [
    "В таблице с подпиской 6500 записей, в таблице без подписки 11568, почти в два раза больше."
   ]
  },
  {
   "cell_type": "markdown",
   "metadata": {},
   "source": [
    "Теперь построим гистограммы для расстояния совершенных поездок для обоих датафреймов на одном графике."
   ]
  },
  {
   "cell_type": "code",
   "execution_count": 43,
   "metadata": {},
   "outputs": [
    {
     "data": {
      "image/png": "[encoded data removed]",
      "text/plain": [
       "<Figure size 1008x576 with 1 Axes>"
      ]
     },
     "metadata": {
      "needs_background": "light"
     },
     "output_type": "display_data"
    }
   ],
   "source": [
    "data_free['distance'].hist(bins=30,figsize=(14,8),label='без подписки')\n",
    "plt.title('Распределение поездок по расстоянию') \n",
    "plt.xlabel('расстояние в м') \n",
    "plt.ylabel('число поездок')  \n",
    "data_ultra['distance'].hist(bins=30,figsize=(14,8),label='с подпиской')\n",
    "plt.legend()\n",
    "  \n",
    "plt.show() "
   ]
  },
  {
   "cell_type": "markdown",
   "metadata": {},
   "source": [
    "Из гистограммы видно, что у пользователей без подписки более широкий разброс значений расстояний вокруг среднего (тут необходимо еще учесть, что в таблице без подписки в два раза больше записей, чем в таблице с подпиской). Небольшой пик вблизи 0 у пользователей без подписки сдвинут левее, то есть самые короткие (по длине) поездки совершаются больше пользователями без подписки. "
   ]
  },
  {
   "cell_type": "markdown",
   "metadata": {},
   "source": [
    "Построим гистограмму для значений длительности одной поездки для пользователей с подпиской и без на одном графике."
   ]
  },
  {
   "cell_type": "code",
   "execution_count": 44,
   "metadata": {},
   "outputs": [
    {
     "data": {
      "image/png": "[encoded data removed]",
      "text/plain": [
       "<Figure size 1008x576 with 1 Axes>"
      ]
     },
     "metadata": {
      "needs_background": "light"
     },
     "output_type": "display_data"
    }
   ],
   "source": [
    "data_free['duration'].hist(bins=30,figsize=(14,8),label='без подписки')\n",
    "plt.xlabel('длительность в минутах') \n",
    "plt.ylabel('число поездок')  \n",
    "plt.title('Распределение поездок по длительности') \n",
    "data_ultra['duration'].hist(bins=30,figsize=(14,8),label='c подпиской')\n",
    " \n",
    "plt.legend()\n",
    "  \n",
    "plt.show() "
   ]
  },
  {
   "cell_type": "markdown",
   "metadata": {},
   "source": [
    "Гистограммы в целом выглядят похоже (принимая во внимание, что в одном наборе данных почти в два раза больше). Но пик вблизи 0 приходится только на пользователей без подписки. "
   ]
  },
  {
   "cell_type": "markdown",
   "metadata": {},
   "source": [
    "<a id='section5'></a> \n",
    "####  5. Подсчёт выручки"
   ]
  },
  {
   "cell_type": "markdown",
   "metadata": {},
   "source": [
    "5.1 Создадим датафрейм с агрегированными данными о поездках, включим в него суммарное расстояние, количество поездок и суммарное время для каждого пользователя за каждый месяц (данные приведены за один год)."
   ]
  },
  {
   "cell_type": "markdown",
   "metadata": {},
   "source": [
    "Сначала добавим в объединенный датафрейм два столбца, которые нам будут необходимы для дальнейшей работы."
   ]
  },
  {
   "cell_type": "markdown",
   "metadata": {},
   "source": [
    "Поскольку для подсчета выручки нам понадобится округленная длительность поездки, то добавим в объединенный датафрейм столбец duration_round."
   ]
  },
  {
   "cell_type": "code",
   "execution_count": 45,
   "metadata": {},
   "outputs": [
    {
     "data": {
      "text/html": [
       "<div>\n",
       "<style scoped>\n",
       "    .dataframe tbody tr th:only-of-type {\n",
       "        vertical-align: middle;\n",
       "    }\n",
       "\n",
       "    .dataframe tbody tr th {\n",
       "        vertical-align: top;\n",
       "    }\n",
       "\n",
       "    .dataframe thead th {\n",
       "        text-align: right;\n",
       "    }\n",
       "</style>\n",
       "<table border=\"1\" class=\"dataframe\">\n",
       "  <thead>\n",
       "    <tr style=\"text-align: right;\">\n",
       "      <th></th>\n",
       "      <th>user_id</th>\n",
       "      <th>distance</th>\n",
       "      <th>duration</th>\n",
       "      <th>date</th>\n",
       "      <th>month</th>\n",
       "      <th>name</th>\n",
       "      <th>age</th>\n",
       "      <th>city</th>\n",
       "      <th>subscription_type</th>\n",
       "      <th>duration_round</th>\n",
       "    </tr>\n",
       "  </thead>\n",
       "  <tbody>\n",
       "    <tr>\n",
       "      <th>0</th>\n",
       "      <td>1</td>\n",
       "      <td>4409.919140</td>\n",
       "      <td>25.599769</td>\n",
       "      <td>2021-01-01</td>\n",
       "      <td>1</td>\n",
       "      <td>Кира</td>\n",
       "      <td>22</td>\n",
       "      <td>Тюмень</td>\n",
       "      <td>ultra</td>\n",
       "      <td>26.0</td>\n",
       "    </tr>\n",
       "    <tr>\n",
       "      <th>1</th>\n",
       "      <td>1</td>\n",
       "      <td>2617.592153</td>\n",
       "      <td>15.816871</td>\n",
       "      <td>2021-01-18</td>\n",
       "      <td>1</td>\n",
       "      <td>Кира</td>\n",
       "      <td>22</td>\n",
       "      <td>Тюмень</td>\n",
       "      <td>ultra</td>\n",
       "      <td>16.0</td>\n",
       "    </tr>\n",
       "    <tr>\n",
       "      <th>2</th>\n",
       "      <td>1</td>\n",
       "      <td>754.159807</td>\n",
       "      <td>6.232113</td>\n",
       "      <td>2021-04-20</td>\n",
       "      <td>4</td>\n",
       "      <td>Кира</td>\n",
       "      <td>22</td>\n",
       "      <td>Тюмень</td>\n",
       "      <td>ultra</td>\n",
       "      <td>7.0</td>\n",
       "    </tr>\n",
       "    <tr>\n",
       "      <th>3</th>\n",
       "      <td>1</td>\n",
       "      <td>2694.783254</td>\n",
       "      <td>18.511000</td>\n",
       "      <td>2021-08-11</td>\n",
       "      <td>8</td>\n",
       "      <td>Кира</td>\n",
       "      <td>22</td>\n",
       "      <td>Тюмень</td>\n",
       "      <td>ultra</td>\n",
       "      <td>19.0</td>\n",
       "    </tr>\n",
       "    <tr>\n",
       "      <th>4</th>\n",
       "      <td>1</td>\n",
       "      <td>4028.687306</td>\n",
       "      <td>26.265803</td>\n",
       "      <td>2021-08-28</td>\n",
       "      <td>8</td>\n",
       "      <td>Кира</td>\n",
       "      <td>22</td>\n",
       "      <td>Тюмень</td>\n",
       "      <td>ultra</td>\n",
       "      <td>27.0</td>\n",
       "    </tr>\n",
       "    <tr>\n",
       "      <th>5</th>\n",
       "      <td>1</td>\n",
       "      <td>2770.890808</td>\n",
       "      <td>16.650138</td>\n",
       "      <td>2021-10-09</td>\n",
       "      <td>10</td>\n",
       "      <td>Кира</td>\n",
       "      <td>22</td>\n",
       "      <td>Тюмень</td>\n",
       "      <td>ultra</td>\n",
       "      <td>17.0</td>\n",
       "    </tr>\n",
       "    <tr>\n",
       "      <th>6</th>\n",
       "      <td>1</td>\n",
       "      <td>3039.020292</td>\n",
       "      <td>14.927879</td>\n",
       "      <td>2021-10-19</td>\n",
       "      <td>10</td>\n",
       "      <td>Кира</td>\n",
       "      <td>22</td>\n",
       "      <td>Тюмень</td>\n",
       "      <td>ultra</td>\n",
       "      <td>15.0</td>\n",
       "    </tr>\n",
       "    <tr>\n",
       "      <th>7</th>\n",
       "      <td>1</td>\n",
       "      <td>2842.118050</td>\n",
       "      <td>23.117468</td>\n",
       "      <td>2021-11-06</td>\n",
       "      <td>11</td>\n",
       "      <td>Кира</td>\n",
       "      <td>22</td>\n",
       "      <td>Тюмень</td>\n",
       "      <td>ultra</td>\n",
       "      <td>24.0</td>\n",
       "    </tr>\n",
       "    <tr>\n",
       "      <th>8</th>\n",
       "      <td>1</td>\n",
       "      <td>3412.690668</td>\n",
       "      <td>15.238072</td>\n",
       "      <td>2021-11-14</td>\n",
       "      <td>11</td>\n",
       "      <td>Кира</td>\n",
       "      <td>22</td>\n",
       "      <td>Тюмень</td>\n",
       "      <td>ultra</td>\n",
       "      <td>16.0</td>\n",
       "    </tr>\n",
       "    <tr>\n",
       "      <th>9</th>\n",
       "      <td>1</td>\n",
       "      <td>748.690645</td>\n",
       "      <td>15.041884</td>\n",
       "      <td>2021-11-22</td>\n",
       "      <td>11</td>\n",
       "      <td>Кира</td>\n",
       "      <td>22</td>\n",
       "      <td>Тюмень</td>\n",
       "      <td>ultra</td>\n",
       "      <td>16.0</td>\n",
       "    </tr>\n",
       "  </tbody>\n",
       "</table>\n",
       "</div>"
      ],
      "text/plain": [
       "   user_id     distance   duration       date  month  name  age    city  \\\n",
       "0        1  4409.919140  25.599769 2021-01-01      1  Кира   22  Тюмень   \n",
       "1        1  2617.592153  15.816871 2021-01-18      1  Кира   22  Тюмень   \n",
       "2        1   754.159807   6.232113 2021-04-20      4  Кира   22  Тюмень   \n",
       "3        1  2694.783254  18.511000 2021-08-11      8  Кира   22  Тюмень   \n",
       "4        1  4028.687306  26.265803 2021-08-28      8  Кира   22  Тюмень   \n",
       "5        1  2770.890808  16.650138 2021-10-09     10  Кира   22  Тюмень   \n",
       "6        1  3039.020292  14.927879 2021-10-19     10  Кира   22  Тюмень   \n",
       "7        1  2842.118050  23.117468 2021-11-06     11  Кира   22  Тюмень   \n",
       "8        1  3412.690668  15.238072 2021-11-14     11  Кира   22  Тюмень   \n",
       "9        1   748.690645  15.041884 2021-11-22     11  Кира   22  Тюмень   \n",
       "\n",
       "  subscription_type  duration_round  \n",
       "0             ultra            26.0  \n",
       "1             ultra            16.0  \n",
       "2             ultra             7.0  \n",
       "3             ultra            19.0  \n",
       "4             ultra            27.0  \n",
       "5             ultra            17.0  \n",
       "6             ultra            15.0  \n",
       "7             ultra            24.0  \n",
       "8             ultra            16.0  \n",
       "9             ultra            16.0  "
      ]
     },
     "metadata": {},
     "output_type": "display_data"
    }
   ],
   "source": [
    "#округляем продолжительность каждой поездки\n",
    "data_tmp['duration_round']=np.ceil(data_tmp['duration'])\n",
    "display(data_tmp.head(10))"
   ]
  },
  {
   "cell_type": "markdown",
   "metadata": {},
   "source": [
    "Добавим в таблицу еще столбец-индикатор подписки subscription: равен 0, если нет подписки, и 1, если есть. Он понадобится нам для построения сводной таблицы и подсчета выручки."
   ]
  },
  {
   "cell_type": "code",
   "execution_count": 46,
   "metadata": {},
   "outputs": [
    {
     "data": {
      "text/html": [
       "<div>\n",
       "<style scoped>\n",
       "    .dataframe tbody tr th:only-of-type {\n",
       "        vertical-align: middle;\n",
       "    }\n",
       "\n",
       "    .dataframe tbody tr th {\n",
       "        vertical-align: top;\n",
       "    }\n",
       "\n",
       "    .dataframe thead th {\n",
       "        text-align: right;\n",
       "    }\n",
       "</style>\n",
       "<table border=\"1\" class=\"dataframe\">\n",
       "  <thead>\n",
       "    <tr style=\"text-align: right;\">\n",
       "      <th></th>\n",
       "      <th>user_id</th>\n",
       "      <th>distance</th>\n",
       "      <th>duration</th>\n",
       "      <th>date</th>\n",
       "      <th>month</th>\n",
       "      <th>name</th>\n",
       "      <th>age</th>\n",
       "      <th>city</th>\n",
       "      <th>subscription_type</th>\n",
       "      <th>duration_round</th>\n",
       "      <th>subscription</th>\n",
       "    </tr>\n",
       "  </thead>\n",
       "  <tbody>\n",
       "    <tr>\n",
       "      <th>0</th>\n",
       "      <td>1</td>\n",
       "      <td>4409.919140</td>\n",
       "      <td>25.599769</td>\n",
       "      <td>2021-01-01</td>\n",
       "      <td>1</td>\n",
       "      <td>Кира</td>\n",
       "      <td>22</td>\n",
       "      <td>Тюмень</td>\n",
       "      <td>ultra</td>\n",
       "      <td>26.0</td>\n",
       "      <td>1</td>\n",
       "    </tr>\n",
       "    <tr>\n",
       "      <th>1</th>\n",
       "      <td>1</td>\n",
       "      <td>2617.592153</td>\n",
       "      <td>15.816871</td>\n",
       "      <td>2021-01-18</td>\n",
       "      <td>1</td>\n",
       "      <td>Кира</td>\n",
       "      <td>22</td>\n",
       "      <td>Тюмень</td>\n",
       "      <td>ultra</td>\n",
       "      <td>16.0</td>\n",
       "      <td>1</td>\n",
       "    </tr>\n",
       "    <tr>\n",
       "      <th>2</th>\n",
       "      <td>1</td>\n",
       "      <td>754.159807</td>\n",
       "      <td>6.232113</td>\n",
       "      <td>2021-04-20</td>\n",
       "      <td>4</td>\n",
       "      <td>Кира</td>\n",
       "      <td>22</td>\n",
       "      <td>Тюмень</td>\n",
       "      <td>ultra</td>\n",
       "      <td>7.0</td>\n",
       "      <td>1</td>\n",
       "    </tr>\n",
       "    <tr>\n",
       "      <th>3</th>\n",
       "      <td>1</td>\n",
       "      <td>2694.783254</td>\n",
       "      <td>18.511000</td>\n",
       "      <td>2021-08-11</td>\n",
       "      <td>8</td>\n",
       "      <td>Кира</td>\n",
       "      <td>22</td>\n",
       "      <td>Тюмень</td>\n",
       "      <td>ultra</td>\n",
       "      <td>19.0</td>\n",
       "      <td>1</td>\n",
       "    </tr>\n",
       "    <tr>\n",
       "      <th>4</th>\n",
       "      <td>1</td>\n",
       "      <td>4028.687306</td>\n",
       "      <td>26.265803</td>\n",
       "      <td>2021-08-28</td>\n",
       "      <td>8</td>\n",
       "      <td>Кира</td>\n",
       "      <td>22</td>\n",
       "      <td>Тюмень</td>\n",
       "      <td>ultra</td>\n",
       "      <td>27.0</td>\n",
       "      <td>1</td>\n",
       "    </tr>\n",
       "    <tr>\n",
       "      <th>5</th>\n",
       "      <td>1</td>\n",
       "      <td>2770.890808</td>\n",
       "      <td>16.650138</td>\n",
       "      <td>2021-10-09</td>\n",
       "      <td>10</td>\n",
       "      <td>Кира</td>\n",
       "      <td>22</td>\n",
       "      <td>Тюмень</td>\n",
       "      <td>ultra</td>\n",
       "      <td>17.0</td>\n",
       "      <td>1</td>\n",
       "    </tr>\n",
       "    <tr>\n",
       "      <th>6</th>\n",
       "      <td>1</td>\n",
       "      <td>3039.020292</td>\n",
       "      <td>14.927879</td>\n",
       "      <td>2021-10-19</td>\n",
       "      <td>10</td>\n",
       "      <td>Кира</td>\n",
       "      <td>22</td>\n",
       "      <td>Тюмень</td>\n",
       "      <td>ultra</td>\n",
       "      <td>15.0</td>\n",
       "      <td>1</td>\n",
       "    </tr>\n",
       "    <tr>\n",
       "      <th>7</th>\n",
       "      <td>1</td>\n",
       "      <td>2842.118050</td>\n",
       "      <td>23.117468</td>\n",
       "      <td>2021-11-06</td>\n",
       "      <td>11</td>\n",
       "      <td>Кира</td>\n",
       "      <td>22</td>\n",
       "      <td>Тюмень</td>\n",
       "      <td>ultra</td>\n",
       "      <td>24.0</td>\n",
       "      <td>1</td>\n",
       "    </tr>\n",
       "    <tr>\n",
       "      <th>8</th>\n",
       "      <td>1</td>\n",
       "      <td>3412.690668</td>\n",
       "      <td>15.238072</td>\n",
       "      <td>2021-11-14</td>\n",
       "      <td>11</td>\n",
       "      <td>Кира</td>\n",
       "      <td>22</td>\n",
       "      <td>Тюмень</td>\n",
       "      <td>ultra</td>\n",
       "      <td>16.0</td>\n",
       "      <td>1</td>\n",
       "    </tr>\n",
       "    <tr>\n",
       "      <th>9</th>\n",
       "      <td>1</td>\n",
       "      <td>748.690645</td>\n",
       "      <td>15.041884</td>\n",
       "      <td>2021-11-22</td>\n",
       "      <td>11</td>\n",
       "      <td>Кира</td>\n",
       "      <td>22</td>\n",
       "      <td>Тюмень</td>\n",
       "      <td>ultra</td>\n",
       "      <td>16.0</td>\n",
       "      <td>1</td>\n",
       "    </tr>\n",
       "  </tbody>\n",
       "</table>\n",
       "</div>"
      ],
      "text/plain": [
       "   user_id     distance   duration       date  month  name  age    city  \\\n",
       "0        1  4409.919140  25.599769 2021-01-01      1  Кира   22  Тюмень   \n",
       "1        1  2617.592153  15.816871 2021-01-18      1  Кира   22  Тюмень   \n",
       "2        1   754.159807   6.232113 2021-04-20      4  Кира   22  Тюмень   \n",
       "3        1  2694.783254  18.511000 2021-08-11      8  Кира   22  Тюмень   \n",
       "4        1  4028.687306  26.265803 2021-08-28      8  Кира   22  Тюмень   \n",
       "5        1  2770.890808  16.650138 2021-10-09     10  Кира   22  Тюмень   \n",
       "6        1  3039.020292  14.927879 2021-10-19     10  Кира   22  Тюмень   \n",
       "7        1  2842.118050  23.117468 2021-11-06     11  Кира   22  Тюмень   \n",
       "8        1  3412.690668  15.238072 2021-11-14     11  Кира   22  Тюмень   \n",
       "9        1   748.690645  15.041884 2021-11-22     11  Кира   22  Тюмень   \n",
       "\n",
       "  subscription_type  duration_round  subscription  \n",
       "0             ultra            26.0             1  \n",
       "1             ultra            16.0             1  \n",
       "2             ultra             7.0             1  \n",
       "3             ultra            19.0             1  \n",
       "4             ultra            27.0             1  \n",
       "5             ultra            17.0             1  \n",
       "6             ultra            15.0             1  \n",
       "7             ultra            24.0             1  \n",
       "8             ultra            16.0             1  \n",
       "9             ultra            16.0             1  "
      ]
     },
     "metadata": {},
     "output_type": "display_data"
    }
   ],
   "source": [
    "#функция, возвращающая 0 для строки 'free' и 1 в другом случае\n",
    "def subscript (a):\n",
    "    if a=='free':\n",
    "        return 0\n",
    "    else:\n",
    "        return 1\n",
    "#применяем эту функцию к столбцу subscription_type, получаем столбец subscription из 0 и 1\n",
    "data_tmp['subscription']=data_tmp['subscription_type'].apply(subscript)\n",
    "display(data_tmp.head(10))"
   ]
  },
  {
   "cell_type": "markdown",
   "metadata": {},
   "source": [
    "Теперь создаем сводную таблицу, в которой:\n",
    "\n",
    "distance_count\t- количество поездок для каждого клиента за месяц,\n",
    "\n",
    "distance_sum - суммарное расстояние, пройденной каждым клиентом за месяц,\n",
    "\n",
    "duration_sum - суммарное время поездок для каждого клиента за месяц,\n",
    "\n",
    "duration_round_sum - суммарное округленное время поездок для каждого клиента за месяц,\n",
    "\n",
    "subscription_sum - индикатор наличия подписки (0 - нет подписки, другое число - есть подписка)."
   ]
  },
  {
   "cell_type": "code",
   "execution_count": 47,
   "metadata": {
    "scrolled": false
   },
   "outputs": [
    {
     "data": {
      "text/html": [
       "<div>\n",
       "<style scoped>\n",
       "    .dataframe tbody tr th:only-of-type {\n",
       "        vertical-align: middle;\n",
       "    }\n",
       "\n",
       "    .dataframe tbody tr th {\n",
       "        vertical-align: top;\n",
       "    }\n",
       "\n",
       "    .dataframe thead th {\n",
       "        text-align: right;\n",
       "    }\n",
       "</style>\n",
       "<table border=\"1\" class=\"dataframe\">\n",
       "  <thead>\n",
       "    <tr style=\"text-align: right;\">\n",
       "      <th></th>\n",
       "      <th></th>\n",
       "      <th>distance_count</th>\n",
       "      <th>distance_sum</th>\n",
       "      <th>duration_sum</th>\n",
       "      <th>duration_round_sum</th>\n",
       "      <th>subscription_sum</th>\n",
       "    </tr>\n",
       "    <tr>\n",
       "      <th>user_id</th>\n",
       "      <th>month</th>\n",
       "      <th></th>\n",
       "      <th></th>\n",
       "      <th></th>\n",
       "      <th></th>\n",
       "      <th></th>\n",
       "    </tr>\n",
       "  </thead>\n",
       "  <tbody>\n",
       "    <tr>\n",
       "      <th rowspan=\"6\" valign=\"top\">1</th>\n",
       "      <th>1</th>\n",
       "      <td>2</td>\n",
       "      <td>7027.511294</td>\n",
       "      <td>41.416640</td>\n",
       "      <td>42.0</td>\n",
       "      <td>2</td>\n",
       "    </tr>\n",
       "    <tr>\n",
       "      <th>4</th>\n",
       "      <td>1</td>\n",
       "      <td>754.159807</td>\n",
       "      <td>6.232113</td>\n",
       "      <td>7.0</td>\n",
       "      <td>1</td>\n",
       "    </tr>\n",
       "    <tr>\n",
       "      <th>8</th>\n",
       "      <td>2</td>\n",
       "      <td>6723.470560</td>\n",
       "      <td>44.776802</td>\n",
       "      <td>46.0</td>\n",
       "      <td>2</td>\n",
       "    </tr>\n",
       "    <tr>\n",
       "      <th>10</th>\n",
       "      <td>2</td>\n",
       "      <td>5809.911100</td>\n",
       "      <td>31.578017</td>\n",
       "      <td>32.0</td>\n",
       "      <td>2</td>\n",
       "    </tr>\n",
       "    <tr>\n",
       "      <th>11</th>\n",
       "      <td>3</td>\n",
       "      <td>7003.499363</td>\n",
       "      <td>53.397424</td>\n",
       "      <td>56.0</td>\n",
       "      <td>3</td>\n",
       "    </tr>\n",
       "    <tr>\n",
       "      <th>12</th>\n",
       "      <td>2</td>\n",
       "      <td>6751.629942</td>\n",
       "      <td>27.203912</td>\n",
       "      <td>28.0</td>\n",
       "      <td>2</td>\n",
       "    </tr>\n",
       "    <tr>\n",
       "      <th rowspan=\"4\" valign=\"top\">2</th>\n",
       "      <th>3</th>\n",
       "      <td>3</td>\n",
       "      <td>10187.723006</td>\n",
       "      <td>60.959959</td>\n",
       "      <td>63.0</td>\n",
       "      <td>3</td>\n",
       "    </tr>\n",
       "    <tr>\n",
       "      <th>4</th>\n",
       "      <td>2</td>\n",
       "      <td>6164.381824</td>\n",
       "      <td>39.048633</td>\n",
       "      <td>40.0</td>\n",
       "      <td>2</td>\n",
       "    </tr>\n",
       "    <tr>\n",
       "      <th>6</th>\n",
       "      <td>1</td>\n",
       "      <td>3255.338202</td>\n",
       "      <td>13.851127</td>\n",
       "      <td>14.0</td>\n",
       "      <td>1</td>\n",
       "    </tr>\n",
       "    <tr>\n",
       "      <th>7</th>\n",
       "      <td>2</td>\n",
       "      <td>6780.722964</td>\n",
       "      <td>46.170157</td>\n",
       "      <td>48.0</td>\n",
       "      <td>2</td>\n",
       "    </tr>\n",
       "  </tbody>\n",
       "</table>\n",
       "</div>"
      ],
      "text/plain": [
       "               distance_count  distance_sum  duration_sum  duration_round_sum  \\\n",
       "user_id month                                                                   \n",
       "1       1                   2   7027.511294     41.416640                42.0   \n",
       "        4                   1    754.159807      6.232113                 7.0   \n",
       "        8                   2   6723.470560     44.776802                46.0   \n",
       "        10                  2   5809.911100     31.578017                32.0   \n",
       "        11                  3   7003.499363     53.397424                56.0   \n",
       "        12                  2   6751.629942     27.203912                28.0   \n",
       "2       3                   3  10187.723006     60.959959                63.0   \n",
       "        4                   2   6164.381824     39.048633                40.0   \n",
       "        6                   1   3255.338202     13.851127                14.0   \n",
       "        7                   2   6780.722964     46.170157                48.0   \n",
       "\n",
       "               subscription_sum  \n",
       "user_id month                    \n",
       "1       1                     2  \n",
       "        4                     1  \n",
       "        8                     2  \n",
       "        10                    2  \n",
       "        11                    3  \n",
       "        12                    2  \n",
       "2       3                     3  \n",
       "        4                     2  \n",
       "        6                     1  \n",
       "        7                     2  "
      ]
     },
     "metadata": {},
     "output_type": "display_data"
    }
   ],
   "source": [
    "#Создаем сводную таблицу, группируем данные по user_id и month,к значениям distance, duration,duration_round,subscription применяем функции\n",
    "#'count','sum' к первому и 'sum' к остальным\n",
    "data_pivot = data_tmp.pivot_table(index=['user_id','month'],values=['distance','duration','duration_round','subscription'], \n",
    "                                  aggfunc={'distance':['count', 'sum'],'duration':['sum'],'duration_round':['sum'],'subscription':['sum']})\n",
    "#объединяем мультииндекс в однострочный индекс\n",
    "data_pivot.columns = list(map(\"_\".join, data_pivot.columns))\n",
    "display(data_pivot.head(10))"
   ]
  },
  {
   "cell_type": "markdown",
   "metadata": {},
   "source": [
    "5.2 В этой сводной таблице создаем столбец с помесячной выручкой revenue.\n",
    "\n",
    "Этот столбец создается из duration_round_sum и distance_count:\n",
    "\n",
    "если есть подписка, то есть значение столбца subscription_sum больше 0, то доход равен 6* duration_round_sum + 199,\n",
    "\n",
    "если нет подписки, то есть subscription_sum равно 0, то доход равен 50* distance_count+8* duration_round_sum."
   ]
  },
  {
   "cell_type": "code",
   "execution_count": 48,
   "metadata": {
    "scrolled": false
   },
   "outputs": [
    {
     "data": {
      "text/html": [
       "<div>\n",
       "<style scoped>\n",
       "    .dataframe tbody tr th:only-of-type {\n",
       "        vertical-align: middle;\n",
       "    }\n",
       "\n",
       "    .dataframe tbody tr th {\n",
       "        vertical-align: top;\n",
       "    }\n",
       "\n",
       "    .dataframe thead th {\n",
       "        text-align: right;\n",
       "    }\n",
       "</style>\n",
       "<table border=\"1\" class=\"dataframe\">\n",
       "  <thead>\n",
       "    <tr style=\"text-align: right;\">\n",
       "      <th></th>\n",
       "      <th></th>\n",
       "      <th>distance_count</th>\n",
       "      <th>distance_sum</th>\n",
       "      <th>duration_sum</th>\n",
       "      <th>duration_round_sum</th>\n",
       "      <th>subscription_sum</th>\n",
       "      <th>revenue</th>\n",
       "    </tr>\n",
       "    <tr>\n",
       "      <th>user_id</th>\n",
       "      <th>month</th>\n",
       "      <th></th>\n",
       "      <th></th>\n",
       "      <th></th>\n",
       "      <th></th>\n",
       "      <th></th>\n",
       "      <th></th>\n",
       "    </tr>\n",
       "  </thead>\n",
       "  <tbody>\n",
       "    <tr>\n",
       "      <th rowspan=\"5\" valign=\"top\">1</th>\n",
       "      <th>1</th>\n",
       "      <td>2</td>\n",
       "      <td>7027.511294</td>\n",
       "      <td>41.416640</td>\n",
       "      <td>42.0</td>\n",
       "      <td>2</td>\n",
       "      <td>451.0</td>\n",
       "    </tr>\n",
       "    <tr>\n",
       "      <th>4</th>\n",
       "      <td>1</td>\n",
       "      <td>754.159807</td>\n",
       "      <td>6.232113</td>\n",
       "      <td>7.0</td>\n",
       "      <td>1</td>\n",
       "      <td>241.0</td>\n",
       "    </tr>\n",
       "    <tr>\n",
       "      <th>8</th>\n",
       "      <td>2</td>\n",
       "      <td>6723.470560</td>\n",
       "      <td>44.776802</td>\n",
       "      <td>46.0</td>\n",
       "      <td>2</td>\n",
       "      <td>475.0</td>\n",
       "    </tr>\n",
       "    <tr>\n",
       "      <th>10</th>\n",
       "      <td>2</td>\n",
       "      <td>5809.911100</td>\n",
       "      <td>31.578017</td>\n",
       "      <td>32.0</td>\n",
       "      <td>2</td>\n",
       "      <td>391.0</td>\n",
       "    </tr>\n",
       "    <tr>\n",
       "      <th>11</th>\n",
       "      <td>3</td>\n",
       "      <td>7003.499363</td>\n",
       "      <td>53.397424</td>\n",
       "      <td>56.0</td>\n",
       "      <td>3</td>\n",
       "      <td>535.0</td>\n",
       "    </tr>\n",
       "    <tr>\n",
       "      <th>...</th>\n",
       "      <th>...</th>\n",
       "      <td>...</td>\n",
       "      <td>...</td>\n",
       "      <td>...</td>\n",
       "      <td>...</td>\n",
       "      <td>...</td>\n",
       "      <td>...</td>\n",
       "    </tr>\n",
       "    <tr>\n",
       "      <th rowspan=\"5\" valign=\"top\">1534</th>\n",
       "      <th>6</th>\n",
       "      <td>2</td>\n",
       "      <td>3409.468534</td>\n",
       "      <td>24.812678</td>\n",
       "      <td>26.0</td>\n",
       "      <td>0</td>\n",
       "      <td>308.0</td>\n",
       "    </tr>\n",
       "    <tr>\n",
       "      <th>8</th>\n",
       "      <td>2</td>\n",
       "      <td>7622.453034</td>\n",
       "      <td>47.205960</td>\n",
       "      <td>48.0</td>\n",
       "      <td>0</td>\n",
       "      <td>484.0</td>\n",
       "    </tr>\n",
       "    <tr>\n",
       "      <th>9</th>\n",
       "      <td>1</td>\n",
       "      <td>4928.173852</td>\n",
       "      <td>22.560373</td>\n",
       "      <td>23.0</td>\n",
       "      <td>0</td>\n",
       "      <td>234.0</td>\n",
       "    </tr>\n",
       "    <tr>\n",
       "      <th>11</th>\n",
       "      <td>4</td>\n",
       "      <td>13350.015305</td>\n",
       "      <td>76.342174</td>\n",
       "      <td>78.0</td>\n",
       "      <td>0</td>\n",
       "      <td>824.0</td>\n",
       "    </tr>\n",
       "    <tr>\n",
       "      <th>12</th>\n",
       "      <td>1</td>\n",
       "      <td>2371.711192</td>\n",
       "      <td>15.893917</td>\n",
       "      <td>16.0</td>\n",
       "      <td>0</td>\n",
       "      <td>178.0</td>\n",
       "    </tr>\n",
       "  </tbody>\n",
       "</table>\n",
       "<p>11331 rows × 6 columns</p>\n",
       "</div>"
      ],
      "text/plain": [
       "               distance_count  distance_sum  duration_sum  duration_round_sum  \\\n",
       "user_id month                                                                   \n",
       "1       1                   2   7027.511294     41.416640                42.0   \n",
       "        4                   1    754.159807      6.232113                 7.0   \n",
       "        8                   2   6723.470560     44.776802                46.0   \n",
       "        10                  2   5809.911100     31.578017                32.0   \n",
       "        11                  3   7003.499363     53.397424                56.0   \n",
       "...                       ...           ...           ...                 ...   \n",
       "1534    6                   2   3409.468534     24.812678                26.0   \n",
       "        8                   2   7622.453034     47.205960                48.0   \n",
       "        9                   1   4928.173852     22.560373                23.0   \n",
       "        11                  4  13350.015305     76.342174                78.0   \n",
       "        12                  1   2371.711192     15.893917                16.0   \n",
       "\n",
       "               subscription_sum  revenue  \n",
       "user_id month                             \n",
       "1       1                     2    451.0  \n",
       "        4                     1    241.0  \n",
       "        8                     2    475.0  \n",
       "        10                    2    391.0  \n",
       "        11                    3    535.0  \n",
       "...                         ...      ...  \n",
       "1534    6                     0    308.0  \n",
       "        8                     0    484.0  \n",
       "        9                     0    234.0  \n",
       "        11                    0    824.0  \n",
       "        12                    0    178.0  \n",
       "\n",
       "[11331 rows x 6 columns]"
      ]
     },
     "metadata": {},
     "output_type": "display_data"
    }
   ],
   "source": [
    "data_pivot['revenue']=(data_pivot['subscription_sum']>0)*(6*data_pivot['duration_round_sum']+199)+(data_pivot['subscription_sum']==0)*(50*data_pivot['distance_count']+8*data_pivot['duration_round_sum'])\n",
    "display(data_pivot)"
   ]
  },
  {
   "cell_type": "markdown",
   "metadata": {},
   "source": [
    "Таким образом, реализован подсчет выручки для каждого пользователя за каждый месяц."
   ]
  },
  {
   "cell_type": "markdown",
   "metadata": {},
   "source": [
    "<a id='section6'></a> \n",
    "####  6. Проверка гипотез"
   ]
  },
  {
   "cell_type": "markdown",
   "metadata": {},
   "source": [
    "6.1 Тратят ли пользователи с подпиской больше времени на поездки?"
   ]
  },
  {
   "cell_type": "markdown",
   "metadata": {},
   "source": [
    "Здесь нужно проверить гипотезу о равенстве средних двух независимых выборок: длительности поездки для пользователей с подпиской и без. "
   ]
  },
  {
   "cell_type": "markdown",
   "metadata": {},
   "source": [
    "Альтернативная гипотеза: среднее первой генеральной совокупности меньше, чем второй. "
   ]
  },
  {
   "cell_type": "markdown",
   "metadata": {},
   "source": [
    "Обозначим средние значения для длительности поездки без подписки m_1, с подпиской  m_2."
   ]
  },
  {
   "cell_type": "markdown",
   "metadata": {},
   "source": [
    "Первая выборка data_free['duration'], вторая data_ultra['duration']. "
   ]
  },
  {
   "cell_type": "markdown",
   "metadata": {},
   "source": [
    "Тогда нулевая и альтернативная гипотеза имеют вид:\n",
    "\n",
    "Н0: m_1 = m_2 \n",
    "\n",
    "Н1: m_1 < m_2 "
   ]
  },
  {
   "cell_type": "markdown",
   "metadata": {},
   "source": [
    "Применим t-тест для двух независимых выборок с аргументом alternative='less'."
   ]
  },
  {
   "cell_type": "code",
   "execution_count": 49,
   "metadata": {
    "scrolled": true
   },
   "outputs": [
    {
     "name": "stdout",
     "output_type": "stream",
     "text": [
      "среднее длительности поездки без подписки: 17.39090929866398\n",
      "среднее длительности поездки c подпиской: 18.541985162805805\n",
      "p-значение: 1.2804098316645613e-34\n",
      "Отвергаем нулевую гипотезу\n"
     ]
    }
   ],
   "source": [
    "alpha = 0.05 # уровень статистической значимости\n",
    "# если p-value окажется меньше него, отвергнем гипотезу\n",
    "\n",
    "results = st.ttest_ind(data_free['duration'], data_ultra['duration'],alternative='less')\n",
    "\n",
    "print('среднее длительности поездки без подписки:',data_free['duration'].mean())\n",
    "print('среднее длительности поездки c подпиской:',data_ultra['duration'].mean())\n",
    "\n",
    "print('p-значение:', results.pvalue)\n",
    "\n",
    "if results.pvalue < alpha:\n",
    "    print('Отвергаем нулевую гипотезу')\n",
    "else:\n",
    "    print('Не получилось отвергнуть нулевую гипотезу') "
   ]
  },
  {
   "cell_type": "markdown",
   "metadata": {},
   "source": [
    "Значит, пользователи с подпиской в целом тратят больше времени на поездки, чем пользователи без подписки."
   ]
  },
  {
   "cell_type": "markdown",
   "metadata": {},
   "source": [
    "6.2 Можно ли сказать, что расстояние, которое проезжают пользователи с подпиской за одну поездку, не превышает 3130 м?"
   ]
  },
  {
   "cell_type": "markdown",
   "metadata": {},
   "source": [
    "Здесь нужно проверить гипотезу о равентсве среднего генеральной совокупности расстояний, проезжаемых пользователями с подпиской, числу 3130, альтернативная гипотеза о том, что истинное среднее меньше 3130."
   ]
  },
  {
   "cell_type": "markdown",
   "metadata": {},
   "source": [
    "Обозначим среднее  расстояние, проезжаемое пользователями с подпиской, m ."
   ]
  },
  {
   "cell_type": "markdown",
   "metadata": {},
   "source": [
    "Применим одновыборочный t-тест с аргументом alternative='less'."
   ]
  },
  {
   "cell_type": "markdown",
   "metadata": {},
   "source": [
    "Нулевая и альтернативная гипотеза имеют вид:\n",
    "\n",
    "Н0: m = 3130\n",
    "\n",
    "Н1: m >3130"
   ]
  },
  {
   "cell_type": "code",
   "execution_count": 50,
   "metadata": {},
   "outputs": [
    {
     "name": "stdout",
     "output_type": "stream",
     "text": [
      "среднее расстояние, проезжаемое пользователями с подпиской: 3045.4952816718205\n",
      "p-значение: 0.9195368847849785\n",
      "Не отвергаем нулевую гипотезу\n"
     ]
    }
   ],
   "source": [
    "prev_distance = 3130\n",
    "\n",
    "alpha = 0.05 # уровень статистической значимости\n",
    "\n",
    "results = st.ttest_1samp(\n",
    "    data_ultra['distance'], \n",
    "    prev_distance,\n",
    "    alternative='greater'\n",
    "        )\n",
    "\n",
    "print('среднее расстояние, проезжаемое пользователями с подпиской:',data_free['distance'].mean())\n",
    "print('p-значение:', results.pvalue)\n",
    "\n",
    "if (results.pvalue < alpha):\n",
    "    print('Отвергаем нулевую гипотезу')\n",
    "else:\n",
    "    print('Не отвергаем нулевую гипотезу') "
   ]
  },
  {
   "cell_type": "markdown",
   "metadata": {},
   "source": [
    "p-значение получилось достаточно большое. Нет оснований отвергать нулевую гипотезу. Альтернативную гипотезу отвергаем, значит расстояние, которое проезжают пользователи с подпиской за одну поездку, не превышает 3130 м"
   ]
  },
  {
   "cell_type": "markdown",
   "metadata": {},
   "source": [
    "6.3 Будет ли помесячная выручка от пользователей с подпиской по месяцам выше, чем выручка от пользователей без подписки?"
   ]
  },
  {
   "cell_type": "markdown",
   "metadata": {},
   "source": [
    "Здесь нужно проверить гипотезу о равенстве средних двух независимых выборок: выручки от пользователей с подпиской и без. "
   ]
  },
  {
   "cell_type": "markdown",
   "metadata": {},
   "source": [
    "Альтернативная гипотеза: среднее первой генеральной совокупности меньше, чем второй."
   ]
  },
  {
   "cell_type": "markdown",
   "metadata": {},
   "source": [
    "Обозначим средние значения для выручки от пользователей без подписки  m_1, с подпиской m_2."
   ]
  },
  {
   "cell_type": "markdown",
   "metadata": {},
   "source": [
    "Тогда нулевая и альтернативная гипотеза имеют вид:\n",
    "\n",
    "Н0: m_1 = m_2 \n",
    "\n",
    "Н1: m_1 < m_2 "
   ]
  },
  {
   "cell_type": "markdown",
   "metadata": {},
   "source": [
    "Осталось только подготовить выборки."
   ]
  },
  {
   "cell_type": "markdown",
   "metadata": {},
   "source": [
    "Выделим из сводной таблицы data_pivot строки для пользователей без подписки."
   ]
  },
  {
   "cell_type": "code",
   "execution_count": 51,
   "metadata": {},
   "outputs": [],
   "source": [
    "data_1=data_pivot[data_pivot['subscription_sum']==0]"
   ]
  },
  {
   "cell_type": "code",
   "execution_count": 52,
   "metadata": {},
   "outputs": [
    {
     "data": {
      "text/html": [
       "<div>\n",
       "<style scoped>\n",
       "    .dataframe tbody tr th:only-of-type {\n",
       "        vertical-align: middle;\n",
       "    }\n",
       "\n",
       "    .dataframe tbody tr th {\n",
       "        vertical-align: top;\n",
       "    }\n",
       "\n",
       "    .dataframe thead th {\n",
       "        text-align: right;\n",
       "    }\n",
       "</style>\n",
       "<table border=\"1\" class=\"dataframe\">\n",
       "  <thead>\n",
       "    <tr style=\"text-align: right;\">\n",
       "      <th></th>\n",
       "      <th></th>\n",
       "      <th>distance_count</th>\n",
       "      <th>distance_sum</th>\n",
       "      <th>duration_sum</th>\n",
       "      <th>duration_round_sum</th>\n",
       "      <th>subscription_sum</th>\n",
       "      <th>revenue</th>\n",
       "    </tr>\n",
       "    <tr>\n",
       "      <th>user_id</th>\n",
       "      <th>month</th>\n",
       "      <th></th>\n",
       "      <th></th>\n",
       "      <th></th>\n",
       "      <th></th>\n",
       "      <th></th>\n",
       "      <th></th>\n",
       "    </tr>\n",
       "  </thead>\n",
       "  <tbody>\n",
       "    <tr>\n",
       "      <th rowspan=\"9\" valign=\"top\">700</th>\n",
       "      <th>1</th>\n",
       "      <td>1</td>\n",
       "      <td>2515.690719</td>\n",
       "      <td>14.944286</td>\n",
       "      <td>15.0</td>\n",
       "      <td>0</td>\n",
       "      <td>170.0</td>\n",
       "    </tr>\n",
       "    <tr>\n",
       "      <th>2</th>\n",
       "      <td>5</td>\n",
       "      <td>13446.659764</td>\n",
       "      <td>85.829845</td>\n",
       "      <td>89.0</td>\n",
       "      <td>0</td>\n",
       "      <td>962.0</td>\n",
       "    </tr>\n",
       "    <tr>\n",
       "      <th>3</th>\n",
       "      <td>1</td>\n",
       "      <td>3798.334905</td>\n",
       "      <td>18.243756</td>\n",
       "      <td>19.0</td>\n",
       "      <td>0</td>\n",
       "      <td>202.0</td>\n",
       "    </tr>\n",
       "    <tr>\n",
       "      <th>4</th>\n",
       "      <td>1</td>\n",
       "      <td>2984.551206</td>\n",
       "      <td>15.424899</td>\n",
       "      <td>16.0</td>\n",
       "      <td>0</td>\n",
       "      <td>178.0</td>\n",
       "    </tr>\n",
       "    <tr>\n",
       "      <th>6</th>\n",
       "      <td>2</td>\n",
       "      <td>5927.650988</td>\n",
       "      <td>28.077657</td>\n",
       "      <td>29.0</td>\n",
       "      <td>0</td>\n",
       "      <td>332.0</td>\n",
       "    </tr>\n",
       "    <tr>\n",
       "      <th>7</th>\n",
       "      <td>2</td>\n",
       "      <td>4399.206279</td>\n",
       "      <td>20.595752</td>\n",
       "      <td>21.0</td>\n",
       "      <td>0</td>\n",
       "      <td>268.0</td>\n",
       "    </tr>\n",
       "    <tr>\n",
       "      <th>8</th>\n",
       "      <td>1</td>\n",
       "      <td>4071.654669</td>\n",
       "      <td>16.370546</td>\n",
       "      <td>17.0</td>\n",
       "      <td>0</td>\n",
       "      <td>186.0</td>\n",
       "    </tr>\n",
       "    <tr>\n",
       "      <th>10</th>\n",
       "      <td>2</td>\n",
       "      <td>6322.578618</td>\n",
       "      <td>42.621488</td>\n",
       "      <td>44.0</td>\n",
       "      <td>0</td>\n",
       "      <td>452.0</td>\n",
       "    </tr>\n",
       "    <tr>\n",
       "      <th>11</th>\n",
       "      <td>3</td>\n",
       "      <td>8735.782625</td>\n",
       "      <td>31.116714</td>\n",
       "      <td>32.0</td>\n",
       "      <td>0</td>\n",
       "      <td>406.0</td>\n",
       "    </tr>\n",
       "    <tr>\n",
       "      <th>701</th>\n",
       "      <th>1</th>\n",
       "      <td>1</td>\n",
       "      <td>2676.472894</td>\n",
       "      <td>17.470598</td>\n",
       "      <td>18.0</td>\n",
       "      <td>0</td>\n",
       "      <td>194.0</td>\n",
       "    </tr>\n",
       "  </tbody>\n",
       "</table>\n",
       "</div>"
      ],
      "text/plain": [
       "               distance_count  distance_sum  duration_sum  duration_round_sum  \\\n",
       "user_id month                                                                   \n",
       "700     1                   1   2515.690719     14.944286                15.0   \n",
       "        2                   5  13446.659764     85.829845                89.0   \n",
       "        3                   1   3798.334905     18.243756                19.0   \n",
       "        4                   1   2984.551206     15.424899                16.0   \n",
       "        6                   2   5927.650988     28.077657                29.0   \n",
       "        7                   2   4399.206279     20.595752                21.0   \n",
       "        8                   1   4071.654669     16.370546                17.0   \n",
       "        10                  2   6322.578618     42.621488                44.0   \n",
       "        11                  3   8735.782625     31.116714                32.0   \n",
       "701     1                   1   2676.472894     17.470598                18.0   \n",
       "\n",
       "               subscription_sum  revenue  \n",
       "user_id month                             \n",
       "700     1                     0    170.0  \n",
       "        2                     0    962.0  \n",
       "        3                     0    202.0  \n",
       "        4                     0    178.0  \n",
       "        6                     0    332.0  \n",
       "        7                     0    268.0  \n",
       "        8                     0    186.0  \n",
       "        10                    0    452.0  \n",
       "        11                    0    406.0  \n",
       "701     1                     0    194.0  "
      ]
     },
     "metadata": {},
     "output_type": "display_data"
    }
   ],
   "source": [
    "display(data_1.head(10))"
   ]
  },
  {
   "cell_type": "markdown",
   "metadata": {},
   "source": [
    "Теперь выделим из сводной таблицы data_pivot строки для пользователей с подпиской."
   ]
  },
  {
   "cell_type": "code",
   "execution_count": 53,
   "metadata": {},
   "outputs": [],
   "source": [
    "data_2=data_pivot[data_pivot['subscription_sum']>0]"
   ]
  },
  {
   "cell_type": "code",
   "execution_count": 54,
   "metadata": {},
   "outputs": [
    {
     "data": {
      "text/html": [
       "<div>\n",
       "<style scoped>\n",
       "    .dataframe tbody tr th:only-of-type {\n",
       "        vertical-align: middle;\n",
       "    }\n",
       "\n",
       "    .dataframe tbody tr th {\n",
       "        vertical-align: top;\n",
       "    }\n",
       "\n",
       "    .dataframe thead th {\n",
       "        text-align: right;\n",
       "    }\n",
       "</style>\n",
       "<table border=\"1\" class=\"dataframe\">\n",
       "  <thead>\n",
       "    <tr style=\"text-align: right;\">\n",
       "      <th></th>\n",
       "      <th></th>\n",
       "      <th>distance_count</th>\n",
       "      <th>distance_sum</th>\n",
       "      <th>duration_sum</th>\n",
       "      <th>duration_round_sum</th>\n",
       "      <th>subscription_sum</th>\n",
       "      <th>revenue</th>\n",
       "    </tr>\n",
       "    <tr>\n",
       "      <th>user_id</th>\n",
       "      <th>month</th>\n",
       "      <th></th>\n",
       "      <th></th>\n",
       "      <th></th>\n",
       "      <th></th>\n",
       "      <th></th>\n",
       "      <th></th>\n",
       "    </tr>\n",
       "  </thead>\n",
       "  <tbody>\n",
       "    <tr>\n",
       "      <th rowspan=\"6\" valign=\"top\">1</th>\n",
       "      <th>1</th>\n",
       "      <td>2</td>\n",
       "      <td>7027.511294</td>\n",
       "      <td>41.416640</td>\n",
       "      <td>42.0</td>\n",
       "      <td>2</td>\n",
       "      <td>451.0</td>\n",
       "    </tr>\n",
       "    <tr>\n",
       "      <th>4</th>\n",
       "      <td>1</td>\n",
       "      <td>754.159807</td>\n",
       "      <td>6.232113</td>\n",
       "      <td>7.0</td>\n",
       "      <td>1</td>\n",
       "      <td>241.0</td>\n",
       "    </tr>\n",
       "    <tr>\n",
       "      <th>8</th>\n",
       "      <td>2</td>\n",
       "      <td>6723.470560</td>\n",
       "      <td>44.776802</td>\n",
       "      <td>46.0</td>\n",
       "      <td>2</td>\n",
       "      <td>475.0</td>\n",
       "    </tr>\n",
       "    <tr>\n",
       "      <th>10</th>\n",
       "      <td>2</td>\n",
       "      <td>5809.911100</td>\n",
       "      <td>31.578017</td>\n",
       "      <td>32.0</td>\n",
       "      <td>2</td>\n",
       "      <td>391.0</td>\n",
       "    </tr>\n",
       "    <tr>\n",
       "      <th>11</th>\n",
       "      <td>3</td>\n",
       "      <td>7003.499363</td>\n",
       "      <td>53.397424</td>\n",
       "      <td>56.0</td>\n",
       "      <td>3</td>\n",
       "      <td>535.0</td>\n",
       "    </tr>\n",
       "    <tr>\n",
       "      <th>12</th>\n",
       "      <td>2</td>\n",
       "      <td>6751.629942</td>\n",
       "      <td>27.203912</td>\n",
       "      <td>28.0</td>\n",
       "      <td>2</td>\n",
       "      <td>367.0</td>\n",
       "    </tr>\n",
       "    <tr>\n",
       "      <th rowspan=\"4\" valign=\"top\">2</th>\n",
       "      <th>3</th>\n",
       "      <td>3</td>\n",
       "      <td>10187.723006</td>\n",
       "      <td>60.959959</td>\n",
       "      <td>63.0</td>\n",
       "      <td>3</td>\n",
       "      <td>577.0</td>\n",
       "    </tr>\n",
       "    <tr>\n",
       "      <th>4</th>\n",
       "      <td>2</td>\n",
       "      <td>6164.381824</td>\n",
       "      <td>39.048633</td>\n",
       "      <td>40.0</td>\n",
       "      <td>2</td>\n",
       "      <td>439.0</td>\n",
       "    </tr>\n",
       "    <tr>\n",
       "      <th>6</th>\n",
       "      <td>1</td>\n",
       "      <td>3255.338202</td>\n",
       "      <td>13.851127</td>\n",
       "      <td>14.0</td>\n",
       "      <td>1</td>\n",
       "      <td>283.0</td>\n",
       "    </tr>\n",
       "    <tr>\n",
       "      <th>7</th>\n",
       "      <td>2</td>\n",
       "      <td>6780.722964</td>\n",
       "      <td>46.170157</td>\n",
       "      <td>48.0</td>\n",
       "      <td>2</td>\n",
       "      <td>487.0</td>\n",
       "    </tr>\n",
       "  </tbody>\n",
       "</table>\n",
       "</div>"
      ],
      "text/plain": [
       "               distance_count  distance_sum  duration_sum  duration_round_sum  \\\n",
       "user_id month                                                                   \n",
       "1       1                   2   7027.511294     41.416640                42.0   \n",
       "        4                   1    754.159807      6.232113                 7.0   \n",
       "        8                   2   6723.470560     44.776802                46.0   \n",
       "        10                  2   5809.911100     31.578017                32.0   \n",
       "        11                  3   7003.499363     53.397424                56.0   \n",
       "        12                  2   6751.629942     27.203912                28.0   \n",
       "2       3                   3  10187.723006     60.959959                63.0   \n",
       "        4                   2   6164.381824     39.048633                40.0   \n",
       "        6                   1   3255.338202     13.851127                14.0   \n",
       "        7                   2   6780.722964     46.170157                48.0   \n",
       "\n",
       "               subscription_sum  revenue  \n",
       "user_id month                             \n",
       "1       1                     2    451.0  \n",
       "        4                     1    241.0  \n",
       "        8                     2    475.0  \n",
       "        10                    2    391.0  \n",
       "        11                    3    535.0  \n",
       "        12                    2    367.0  \n",
       "2       3                     3    577.0  \n",
       "        4                     2    439.0  \n",
       "        6                     1    283.0  \n",
       "        7                     2    487.0  "
      ]
     },
     "metadata": {},
     "output_type": "display_data"
    }
   ],
   "source": [
    "display(data_2.head(10))"
   ]
  },
  {
   "cell_type": "markdown",
   "metadata": {},
   "source": [
    " Выборки для выручки, которые мы будем сравнивать: data_1['revenue'] и data_2['revenue']."
   ]
  },
  {
   "cell_type": "markdown",
   "metadata": {},
   "source": [
    "Применим t-тест для двух независимых выборок с аргументом alternative='less'."
   ]
  },
  {
   "cell_type": "code",
   "execution_count": 55,
   "metadata": {},
   "outputs": [
    {
     "name": "stdout",
     "output_type": "stream",
     "text": [
      "средний доход от пользователей без подписки: 328.6413651073845\n",
      "среднее доход от пользователей с подпиской: 362.7921906022502\n",
      "p-значение: 1.8850394384715216e-31\n",
      "Отвергаем нулевую гипотезу\n"
     ]
    }
   ],
   "source": [
    "alpha = 0.05 # уровень статистической значимости\n",
    "# если p-value окажется меньше него, отвергнем гипотезу\n",
    "\n",
    "results = st.ttest_ind(data_1['revenue'],data_2['revenue'],alternative='less')\n",
    "\n",
    "print('средний доход от пользователей без подписки:',data_1['revenue'].mean())\n",
    "print('среднее доход от пользователей с подпиской:',data_2['revenue'].mean())\n",
    "\n",
    "print('p-значение:', results.pvalue)\n",
    "\n",
    "if results.pvalue < alpha:\n",
    "    print('Отвергаем нулевую гипотезу')\n",
    "else:\n",
    "    print('Не получилось отвергнуть нулевую гипотезу') "
   ]
  },
  {
   "cell_type": "markdown",
   "metadata": {},
   "source": [
    "Таким образом, отвергаем нулевую гипотезу в пользу альтернативной. Пользователи с подпиской в целом приносят больший доход, чем пользователи без подписки."
   ]
  },
  {
   "cell_type": "markdown",
   "metadata": {},
   "source": [
    "6.4 Техническая команда сервиса обновила сервера, с которыми взаимодействует мобильное приложение. Она надеется, что из-за этого количество обращений в техподдержку значимо снизилось. Некоторый файл содержит для каждого пользователя данные о количестве обращений до обновления и после него. Какой тест вам понадобился бы для проверки этой гипотезы? "
   ]
  },
  {
   "cell_type": "markdown",
   "metadata": {},
   "source": [
    "Для проверки гипотезы о равенстве среднего значения генеральной совокупности до и после изменения можно применить t-тест для двух  зависимых выборок с аргументом alternative='greater', то есть альтернативная гипотеза состоит в том, что истинное среднее генеральной совокупности после изменения стало меньше, чем было до изменения."
   ]
  },
  {
   "cell_type": "markdown",
   "metadata": {},
   "source": [
    "<a id='section7'></a> \n",
    "####  7. Распределения"
   ]
  },
  {
   "cell_type": "markdown",
   "metadata": {},
   "source": [
    "7.1 Отделу маркетинга GoFast поставили задачу: нужно провести акцию с раздачей промокодов на один бесплатный месяц подписки, в рамках которой как минимум 100 существующих клиентов должны продлить эту подписку. То есть по завершении периода действия подписки пользователь может либо отказаться от неё, либо продлить, совершив соответствующий платёж. \n",
    "Эта акция уже проводилась ранее и по итогу выяснилось, что после бесплатного пробного периода подписку продлевают \n",
    "10 % пользователей. Выясните, какое минимальное количество промокодов нужно разослать, чтобы вероятность не выполнить план была примерно 5 %. Подберите параметры распределения, описывающего эту ситуацию, постройте график распределения и сформулируйте ответ на вопрос о количестве промокодов."
   ]
  },
  {
   "cell_type": "markdown",
   "metadata": {},
   "source": [
    "Продлевание подписки можно рассматривать как эксперимент Бернулли с вероятностью успеха p=0.1. Тогда сумма числа клиентов, продливших подписку, является случайной величиной, имеющей биномиальное распределение с параметрами  (N,p), где N - число всех клиентов, получивших промокоды."
   ]
  },
  {
   "cell_type": "markdown",
   "metadata": {},
   "source": [
    "При маленьком p и большом N биномиальное распределение может быть аппроксимировано распределением Пуассона с параметром p*N."
   ]
  },
  {
   "cell_type": "markdown",
   "metadata": {},
   "source": [
    "Возьмем для примера N=1000 и построим график распределения Пуассона с параметром p*N=100."
   ]
  },
  {
   "cell_type": "code",
   "execution_count": 56,
   "metadata": {
    "scrolled": true
   },
   "outputs": [
    {
     "data": {
      "image/png": "[encoded data removed]",
      "text/plain": [
       "<Figure size 432x288 with 1 Axes>"
      ]
     },
     "metadata": {
      "needs_background": "light"
     },
     "output_type": "display_data"
    }
   ],
   "source": [
    "# задаем параметры биномиального распределения\n",
    "n = 1000\n",
    "p = 0.1\n",
    " \n",
    "# считаем параметр распределения Пуассона для аппроксимации\n",
    "lmbd = n * p\n",
    " \n",
    "# задаем диапазон значений k для построения графика\n",
    "max_value = 150\n",
    " \n",
    "poisson_probs = []\n",
    "for k in range(max_value + 1):\n",
    "    # рассчитываем значения вероятности распределения Пуассона\n",
    "    poisson_prob = poisson.pmf(k, lmbd)\n",
    "    poisson_probs.append(poisson_prob)\n",
    " # рисуем графики\n",
    "plt.plot(range(max_value + 1), poisson_probs, 'rd',\n",
    "         label='Аппроксимация распределением Пуассона')\n",
    "plt.xlabel(f'k: количество событий для Pois({lmbd})')\n",
    "plt.ylabel('Вероятность k')\n",
    "plt.legend()\n",
    "plt.show()\n",
    " "
   ]
  },
  {
   "cell_type": "markdown",
   "metadata": {},
   "source": [
    "Обозначим X случайную величину с распределением Пуассона с параметром lambda=N*p."
   ]
  },
  {
   "cell_type": "markdown",
   "metadata": {},
   "source": [
    "Тогда, если не меньше 100 клиентов продлят подписку c вероятностью не выполнить план 5 %, \n",
    "\n",
    "то P{X>100}=1-0.05=0.95"
   ]
  },
  {
   "cell_type": "markdown",
   "metadata": {},
   "source": [
    "Найдем P{X>100} для lambda=100."
   ]
  },
  {
   "cell_type": "code",
   "execution_count": 57,
   "metadata": {},
   "outputs": [
    {
     "name": "stdout",
     "output_type": "stream",
     "text": [
      "Вероятность превысить 100: 0.5132987982791486\n"
     ]
    }
   ],
   "source": [
    "threshold = 100\n",
    "lmbd = 100\n",
    "\n",
    "print('Вероятность превысить 100:', 1 - poisson.cdf(threshold - 1, lmbd))"
   ]
  },
  {
   "cell_type": "code",
   "execution_count": 58,
   "metadata": {},
   "outputs": [
    {
     "name": "stdout",
     "output_type": "stream",
     "text": [
      "Lambda = 100 Вероятность превысить 100: 0.5132987982791486\n",
      "Lambda = 101 Вероятность превысить 100: 0.5528962934345112\n",
      "Lambda = 102 Вероятность превысить 100: 0.5917186345188439\n",
      "Lambda = 103 Вероятность превысить 100: 0.6294172344809976\n",
      "Lambda = 104 Вероятность превысить 100: 0.6656815159034444\n",
      "Lambda = 105 Вероятность превысить 100: 0.7002453423911563\n",
      "Lambda = 106 Вероятность превысить 100: 0.7328913242311706\n",
      "Lambda = 107 Вероятность превысить 100: 0.7634529863480465\n",
      "Lambda = 108 Вероятность превысить 100: 0.7918149036305031\n",
      "Lambda = 109 Вероятность превысить 100: 0.8179110061244925\n",
      "Lambda = 110 Вероятность превысить 100: 0.8417213299399129\n",
      "Lambda = 111 Вероятность превысить 100: 0.8632675370473796\n",
      "Lambda = 112 Вероятность превысить 100: 0.8826075487807755\n",
      "Lambda = 113 Вероятность превысить 100: 0.8998296360527963\n",
      "Lambda = 114 Вероятность превысить 100: 0.9150462876935704\n",
      "Lambda = 115 Вероятность превысить 100: 0.928388141475446\n",
      "Lambda = 116 Вероятность превысить 100: 0.9399982151869208\n",
      "Lambda = 117 Вероятность превысить 100: 0.950026622361561\n",
      "Lambda = 118 Вероятность превысить 100: 0.9586259032858412\n",
      "Lambda = 119 Вероятность превысить 100: 0.9659470503183876\n"
     ]
    }
   ],
   "source": [
    "for i in range(100,120):\n",
    "    print(f'Lambda = {i} Вероятность превысить 100: {1 - poisson.cdf(threshold - 1, i)}')"
   ]
  },
  {
   "cell_type": "markdown",
   "metadata": {},
   "source": [
    "Таким образом, для lambda=117 вероятность превысить 100 еще больше 95%,\n",
    "    \n",
    "а для lambda=116 вероятность превысить 100 уже меньше 95%.\n",
    "    \n",
    "Поэтому N =lambda/p=117/0.1=1170 - минимальное количество промокодов, которое нужно разослать."
   ]
  },
  {
   "cell_type": "markdown",
   "metadata": {},
   "source": [
    "Ответ: 1170 промокодов достаточно."
   ]
  },
  {
   "cell_type": "markdown",
   "metadata": {},
   "source": [
    "7.2 Отдел маркетинга рассылает клиентам push-уведомления в мобильном приложении. Клиенты могут открыть его или не открывать. Известно, что уведомления открывают около 40 % получивших клиентов. Отдел планирует разослать 1 млн уведомлений. С помощью аппроксимации постройте примерный график распределения и оцените вероятность того, что уведомление откроют не более 399,5 тыс. пользователей."
   ]
  },
  {
   "cell_type": "markdown",
   "metadata": {},
   "source": [
    "Открытие клиентом письма можно считать экспериментом Бернулли с вероятностью успеха p=0.4. Тогда сумма открытых писем из N разосланных подчиняется биномиальному распределению с параметрами (N, p). Обозначим эту случайную величину X."
   ]
  },
  {
   "cell_type": "markdown",
   "metadata": {},
   "source": [
    "N =1000000 большое число,  0.4*N+0.49*sqrt(N) < N, \n",
    "\n",
    "поэтому X можно аппроксимировать нормальным распределением с параметрами (p*N,sqrt(p*(1-p)*sqrt(N))."
   ]
  },
  {
   "cell_type": "markdown",
   "metadata": {},
   "source": [
    "Построим примерный график распределения."
   ]
  },
  {
   "cell_type": "code",
   "execution_count": 59,
   "metadata": {},
   "outputs": [
    {
     "data": {
      "image/png": "[encoded data removed]",
      "text/plain": [
       "<Figure size 432x288 with 1 Axes>"
      ]
     },
     "metadata": {
      "needs_background": "light"
     },
     "output_type": "display_data"
    }
   ],
   "source": [
    "# задаём параметры биномиального распределения\n",
    "n = 1000000\n",
    "p = 0.4\n",
    "\n",
    "# зададим мат.ожидание и ст.отклонение нормального распределения равными\n",
    "# мат.ожиданию и ст.отклонению биномиального распределения\n",
    "mu = n * p\n",
    "sigma = sqrt(n * p * (1 - p))\n",
    "\n",
    "# задаём нормальное распределение\n",
    "distr = st.norm(mu, sigma) \n",
    "\n",
    "#функция, которая выдаёт <num> чисел,\n",
    "# равномерно распределённых от <start> до <stop>\n",
    "def linspace(start, stop, num):\n",
    "    step = (stop - start) / (num - 1)\n",
    "    result = []\n",
    "    for i in range(num):\n",
    "        result.append(start + step * i)\n",
    "    return result\n",
    "\n",
    "# границы промежутка, в котором будем строить аппроксимацию\n",
    "left = int(n * p - 4 * sqrt(n * p * (1 - p)))\n",
    "right = int(n * p + 4 * sqrt(n * p * (1 - p)))\n",
    "\n",
    "#список из 100 чисел от left до right\n",
    "x = linspace(left, right, 100)\n",
    "\n",
    "ax = plt.subplot()\n",
    "\n",
    "# рисуем график нормального распределения:\n",
    "ax.plot(x, norm.pdf(x, mu, sigma), 'r-', lw=3, alpha=0.3)\n",
    "plt.axvline(x=399500)\n",
    "\n",
    "plt.show()"
   ]
  },
  {
   "cell_type": "markdown",
   "metadata": {},
   "source": [
    " Вероятность того, что уведомление откроют не более 399,5 тыс. пользователей равна P(X<=399500)."
   ]
  },
  {
   "cell_type": "code",
   "execution_count": 60,
   "metadata": {},
   "outputs": [
    {
     "name": "stdout",
     "output_type": "stream",
     "text": [
      "0.15371708296369768\n"
     ]
    }
   ],
   "source": [
    "y=399500\n",
    "result = distr.cdf(y)\n",
    "print(result)"
   ]
  },
  {
   "cell_type": "markdown",
   "metadata": {},
   "source": [
    "Итого, вероятность того, что уведомление откроют не более 399,5 тыс. пользователей равна 0.15."
   ]
  },
  {
   "cell_type": "markdown",
   "metadata": {},
   "source": [
    "<a id='section8'></a> \n",
    "#### Заключение"
   ]
  },
  {
   "cell_type": "markdown",
   "metadata": {},
   "source": [
    "Общий вывод\n",
    " \n",
    "Проведен анализ данных сервиса аренды самокатов.\n",
    "    \n",
    "Предобработка выявила в данных дубли, которые были удалены. Дата поездки  сохранена в формате даты и времени.    \n",
    "    \n",
    "Проведен исследовательский анализ данных, который выявил:\n",
    "    \n",
    "- больше всего пользователей в Пятигорске,  меньше всего в Москве,\n",
    "    \n",
    "- 46% имеют подписку, 54% пользователей не имеют,\n",
    "    \n",
    "- наиболее активная категория пользователей - молодежь в возрасте около 25 лет,\n",
    "    \n",
    "- среднее расстояние, преодолеваемое пользователями, около 3 км,\n",
    "    \n",
    "- средняя длительность поездки составила 17,8 минут,\n",
    "    \n",
    "- по расстоянию и длительности поездки наблюдается небольшой всплеск числа пользователей в районе нуля, по всей видимости связанный с пробными поездками новых пользователей.\n",
    "    \n",
    "  Проверка статистических гипотез показала:\n",
    "    \n",
    " - пользователи с подпиской в целом тратят больше времени на поездки, чем пользователи без подписки.\n",
    "    \n",
    " - расстояние, которое проезжают пользователи с подпиской за одну поездку, не превышает 3130 м\n",
    "    \n",
    " - пользователи с подпиской в целом приносят больший доход, чем пользователи без подписки.\n",
    "    \n",
    "Исследованы маркетинговые акции с раздачей промокодов и рассылкой  push-уведомлений в мобильном приложении.\n",
    "    \n",
    "Выявлено количество промокодов на один бесплатный месяц подписки, достаточное  для привлечения 100 клиентов, продляющих подписку после пробного периода.\n",
    "    \n",
    "С помощью аппроксимации установлено распределение числа пользователей мобильного приложения, которые открывают push-уведомления, и найдена вероятность того, что уведомление откроют не более 399,5 тыс. пользователей.\n",
    "\n",
    "    \n"
   ]
  },
  {
   "cell_type": "code",
   "execution_count": null,
   "metadata": {},
   "outputs": [],
   "source": []
  }
 ],
 "metadata": {
  "ExecuteTimeLog": [
   {
    "duration": 392,
    "start_time": "2024-10-10T07:14:12.320Z"
   },
   {
    "duration": 352,
    "start_time": "2024-10-10T07:14:13.664Z"
   },
   {
    "duration": 75,
    "start_time": "2024-10-10T07:14:19.500Z"
   },
   {
    "duration": 99,
    "start_time": "2024-10-10T07:14:22.086Z"
   },
   {
    "duration": 162,
    "start_time": "2024-10-10T07:14:39.175Z"
   },
   {
    "duration": 79,
    "start_time": "2024-10-10T07:14:42.758Z"
   },
   {
    "duration": 11,
    "start_time": "2024-10-10T07:14:44.719Z"
   },
   {
    "duration": 7,
    "start_time": "2024-10-10T07:15:04.505Z"
   },
   {
    "duration": 6,
    "start_time": "2024-10-10T07:15:20.632Z"
   },
   {
    "duration": 10,
    "start_time": "2024-10-10T07:17:17.382Z"
   },
   {
    "duration": 10,
    "start_time": "2024-10-10T07:21:21.968Z"
   },
   {
    "duration": 36,
    "start_time": "2024-10-10T07:26:29.493Z"
   },
   {
    "duration": 26,
    "start_time": "2024-10-10T07:26:30.715Z"
   },
   {
    "duration": 7,
    "start_time": "2024-10-10T07:26:31.632Z"
   },
   {
    "duration": 9,
    "start_time": "2024-10-10T07:26:35.443Z"
   },
   {
    "duration": 7,
    "start_time": "2024-10-10T07:26:41.428Z"
   },
   {
    "duration": 11,
    "start_time": "2024-10-10T07:26:47.079Z"
   },
   {
    "duration": 2,
    "start_time": "2024-10-10T07:28:48.215Z"
   },
   {
    "duration": 5,
    "start_time": "2024-10-10T07:28:48.218Z"
   },
   {
    "duration": 30,
    "start_time": "2024-10-10T07:28:48.224Z"
   },
   {
    "duration": 26,
    "start_time": "2024-10-10T07:28:48.255Z"
   },
   {
    "duration": 19,
    "start_time": "2024-10-10T07:28:48.282Z"
   },
   {
    "duration": 37,
    "start_time": "2024-10-10T07:28:48.303Z"
   },
   {
    "duration": 16,
    "start_time": "2024-10-10T07:28:48.341Z"
   },
   {
    "duration": 12,
    "start_time": "2024-10-10T07:28:48.359Z"
   },
   {
    "duration": 14,
    "start_time": "2024-10-10T07:28:48.373Z"
   },
   {
    "duration": 12,
    "start_time": "2024-10-10T07:28:48.393Z"
   },
   {
    "duration": 7,
    "start_time": "2024-10-10T07:28:57.989Z"
   },
   {
    "duration": 7,
    "start_time": "2024-10-10T07:29:39.454Z"
   },
   {
    "duration": 4,
    "start_time": "2024-10-10T07:31:55.283Z"
   },
   {
    "duration": 7,
    "start_time": "2024-10-10T07:32:25.171Z"
   },
   {
    "duration": 5,
    "start_time": "2024-10-10T07:36:57.366Z"
   },
   {
    "duration": 5,
    "start_time": "2024-10-10T07:37:16.987Z"
   },
   {
    "duration": 5,
    "start_time": "2024-10-10T07:39:59.296Z"
   },
   {
    "duration": 7,
    "start_time": "2024-10-10T07:40:18.671Z"
   },
   {
    "duration": 4,
    "start_time": "2024-10-10T07:43:20.723Z"
   },
   {
    "duration": 6,
    "start_time": "2024-10-10T07:46:52.655Z"
   },
   {
    "duration": 11,
    "start_time": "2024-10-10T07:47:21.453Z"
   },
   {
    "duration": 11,
    "start_time": "2024-10-10T07:47:55.366Z"
   },
   {
    "duration": 15,
    "start_time": "2024-10-10T07:48:17.838Z"
   },
   {
    "duration": 5,
    "start_time": "2024-10-10T07:49:43.316Z"
   },
   {
    "duration": 3,
    "start_time": "2024-10-10T07:52:09.521Z"
   },
   {
    "duration": 8,
    "start_time": "2024-10-10T07:56:49.099Z"
   },
   {
    "duration": 5,
    "start_time": "2024-10-10T07:56:54.906Z"
   },
   {
    "duration": 3,
    "start_time": "2024-10-10T08:11:38.265Z"
   },
   {
    "duration": 3,
    "start_time": "2024-10-10T08:12:47.301Z"
   },
   {
    "duration": 10,
    "start_time": "2024-10-10T08:15:34.644Z"
   },
   {
    "duration": 13,
    "start_time": "2024-10-10T08:16:23.431Z"
   },
   {
    "duration": 10,
    "start_time": "2024-10-10T08:16:49.241Z"
   },
   {
    "duration": 14,
    "start_time": "2024-10-10T08:17:25.097Z"
   },
   {
    "duration": 18,
    "start_time": "2024-10-10T08:17:31.456Z"
   },
   {
    "duration": 123,
    "start_time": "2024-10-10T08:18:31.147Z"
   },
   {
    "duration": 104,
    "start_time": "2024-10-10T08:18:46.542Z"
   },
   {
    "duration": 120,
    "start_time": "2024-10-10T08:18:52.085Z"
   },
   {
    "duration": 147,
    "start_time": "2024-10-10T08:19:13.597Z"
   },
   {
    "duration": 125,
    "start_time": "2024-10-10T08:19:20.774Z"
   },
   {
    "duration": 8,
    "start_time": "2024-10-10T08:23:44.034Z"
   },
   {
    "duration": 11,
    "start_time": "2024-10-10T08:24:27.782Z"
   },
   {
    "duration": 11,
    "start_time": "2024-10-10T08:27:47.563Z"
   },
   {
    "duration": 10,
    "start_time": "2024-10-10T08:30:11.241Z"
   },
   {
    "duration": 13,
    "start_time": "2024-10-10T08:30:29.333Z"
   },
   {
    "duration": 11,
    "start_time": "2024-10-10T08:32:37.909Z"
   },
   {
    "duration": 10,
    "start_time": "2024-10-10T08:32:53.938Z"
   },
   {
    "duration": 10,
    "start_time": "2024-10-10T08:33:02.058Z"
   },
   {
    "duration": 128,
    "start_time": "2024-10-10T08:34:35.572Z"
   },
   {
    "duration": 124,
    "start_time": "2024-10-10T08:34:51.427Z"
   },
   {
    "duration": 228,
    "start_time": "2024-10-10T08:38:23.054Z"
   },
   {
    "duration": 247,
    "start_time": "2024-10-10T08:38:39.461Z"
   },
   {
    "duration": 1228,
    "start_time": "2024-10-10T08:40:26.941Z"
   },
   {
    "duration": 875,
    "start_time": "2024-10-10T08:42:06.472Z"
   },
   {
    "duration": 9,
    "start_time": "2024-10-10T08:42:32.392Z"
   },
   {
    "duration": 445,
    "start_time": "2024-10-10T08:42:47.581Z"
   },
   {
    "duration": 10,
    "start_time": "2024-10-10T08:43:27.548Z"
   },
   {
    "duration": 10,
    "start_time": "2024-10-10T08:44:58.117Z"
   },
   {
    "duration": 13,
    "start_time": "2024-10-10T08:45:26.372Z"
   },
   {
    "duration": 925,
    "start_time": "2024-10-10T08:45:41.515Z"
   },
   {
    "duration": 188,
    "start_time": "2024-10-10T08:45:54.251Z"
   },
   {
    "duration": 186,
    "start_time": "2024-10-10T08:46:15.115Z"
   },
   {
    "duration": 181,
    "start_time": "2024-10-10T08:46:31.130Z"
   },
   {
    "duration": 201,
    "start_time": "2024-10-10T08:46:54.223Z"
   },
   {
    "duration": 208,
    "start_time": "2024-10-10T08:51:14.365Z"
   },
   {
    "duration": 234,
    "start_time": "2024-10-10T08:51:24.706Z"
   },
   {
    "duration": 199,
    "start_time": "2024-10-10T08:53:09.148Z"
   },
   {
    "duration": 199,
    "start_time": "2024-10-10T08:53:24.082Z"
   },
   {
    "duration": 11,
    "start_time": "2024-10-10T08:57:47.106Z"
   },
   {
    "duration": 10,
    "start_time": "2024-10-10T08:58:39.386Z"
   },
   {
    "duration": 109,
    "start_time": "2024-10-10T08:59:13.432Z"
   },
   {
    "duration": 75,
    "start_time": "2024-10-10T09:01:00.448Z"
   },
   {
    "duration": 164,
    "start_time": "2024-10-10T09:01:05.729Z"
   },
   {
    "duration": 137,
    "start_time": "2024-10-10T09:01:33.024Z"
   },
   {
    "duration": 131,
    "start_time": "2024-10-10T09:01:55.285Z"
   },
   {
    "duration": 17,
    "start_time": "2024-10-10T11:36:05.098Z"
   },
   {
    "duration": 12,
    "start_time": "2024-10-10T11:37:04.370Z"
   },
   {
    "duration": 10,
    "start_time": "2024-10-10T11:37:13.059Z"
   },
   {
    "duration": 9,
    "start_time": "2024-10-10T11:48:20.017Z"
   },
   {
    "duration": 107,
    "start_time": "2024-10-10T11:49:30.851Z"
   },
   {
    "duration": 118,
    "start_time": "2024-10-10T11:53:32.269Z"
   },
   {
    "duration": 163,
    "start_time": "2024-10-10T11:53:54.045Z"
   },
   {
    "duration": 130,
    "start_time": "2024-10-10T11:54:04.293Z"
   },
   {
    "duration": 192,
    "start_time": "2024-10-10T11:54:52.090Z"
   },
   {
    "duration": 130,
    "start_time": "2024-10-10T11:54:58.121Z"
   },
   {
    "duration": 131,
    "start_time": "2024-10-10T11:55:02.857Z"
   },
   {
    "duration": 134,
    "start_time": "2024-10-10T11:56:46.920Z"
   },
   {
    "duration": 136,
    "start_time": "2024-10-10T12:08:42.741Z"
   },
   {
    "duration": 146,
    "start_time": "2024-10-10T12:09:12.775Z"
   },
   {
    "duration": 145,
    "start_time": "2024-10-10T12:14:14.921Z"
   },
   {
    "duration": 13515,
    "start_time": "2024-10-10T12:22:49.113Z"
   },
   {
    "duration": 207,
    "start_time": "2024-10-10T12:23:44.115Z"
   },
   {
    "duration": 339,
    "start_time": "2024-10-10T12:24:05.748Z"
   },
   {
    "duration": 218,
    "start_time": "2024-10-10T12:27:56.086Z"
   },
   {
    "duration": 229,
    "start_time": "2024-10-10T12:29:01.950Z"
   },
   {
    "duration": 7,
    "start_time": "2024-10-10T12:39:21.635Z"
   },
   {
    "duration": 81,
    "start_time": "2024-10-10T12:44:44.266Z"
   },
   {
    "duration": 95,
    "start_time": "2024-10-10T12:45:40.639Z"
   },
   {
    "duration": 7,
    "start_time": "2024-10-10T13:06:57.149Z"
   },
   {
    "duration": 92,
    "start_time": "2024-10-10T13:07:42.596Z"
   },
   {
    "duration": 7,
    "start_time": "2024-10-10T13:09:33.360Z"
   },
   {
    "duration": 7,
    "start_time": "2024-10-10T13:18:06.951Z"
   },
   {
    "duration": 4,
    "start_time": "2024-10-10T13:18:26.831Z"
   },
   {
    "duration": 4,
    "start_time": "2024-10-10T13:19:07.466Z"
   },
   {
    "duration": 4,
    "start_time": "2024-10-10T13:19:54.533Z"
   },
   {
    "duration": 5,
    "start_time": "2024-10-10T13:20:12.124Z"
   },
   {
    "duration": 417,
    "start_time": "2024-10-10T15:34:40.059Z"
   },
   {
    "duration": 428,
    "start_time": "2024-10-10T15:34:40.478Z"
   },
   {
    "duration": 71,
    "start_time": "2024-10-10T15:34:40.908Z"
   },
   {
    "duration": 151,
    "start_time": "2024-10-10T15:34:40.981Z"
   },
   {
    "duration": 65,
    "start_time": "2024-10-10T15:34:41.134Z"
   },
   {
    "duration": 12,
    "start_time": "2024-10-10T15:34:41.201Z"
   },
   {
    "duration": 10,
    "start_time": "2024-10-10T15:34:41.215Z"
   },
   {
    "duration": 10,
    "start_time": "2024-10-10T15:34:41.227Z"
   },
   {
    "duration": 10,
    "start_time": "2024-10-10T15:34:41.239Z"
   },
   {
    "duration": 6,
    "start_time": "2024-10-10T15:34:41.251Z"
   },
   {
    "duration": 7,
    "start_time": "2024-10-10T15:34:41.258Z"
   },
   {
    "duration": 4,
    "start_time": "2024-10-10T15:34:41.267Z"
   },
   {
    "duration": 16,
    "start_time": "2024-10-10T15:34:41.273Z"
   },
   {
    "duration": 8,
    "start_time": "2024-10-10T15:34:41.292Z"
   },
   {
    "duration": 6,
    "start_time": "2024-10-10T15:34:41.302Z"
   },
   {
    "duration": 12,
    "start_time": "2024-10-10T15:34:41.309Z"
   },
   {
    "duration": 38,
    "start_time": "2024-10-10T15:34:41.322Z"
   },
   {
    "duration": 6,
    "start_time": "2024-10-10T15:34:41.362Z"
   },
   {
    "duration": 7,
    "start_time": "2024-10-10T15:34:41.369Z"
   },
   {
    "duration": 15,
    "start_time": "2024-10-10T15:34:41.378Z"
   },
   {
    "duration": 54,
    "start_time": "2024-10-10T15:34:41.395Z"
   },
   {
    "duration": 6,
    "start_time": "2024-10-10T15:34:41.451Z"
   },
   {
    "duration": 13,
    "start_time": "2024-10-10T15:34:41.459Z"
   },
   {
    "duration": 297,
    "start_time": "2024-10-10T15:34:41.474Z"
   },
   {
    "duration": 11,
    "start_time": "2024-10-10T15:34:41.772Z"
   },
   {
    "duration": 177,
    "start_time": "2024-10-10T15:34:41.785Z"
   },
   {
    "duration": 12,
    "start_time": "2024-10-10T15:34:41.964Z"
   },
   {
    "duration": 284,
    "start_time": "2024-10-10T15:34:47.432Z"
   },
   {
    "duration": 11,
    "start_time": "2024-10-10T15:34:59.414Z"
   },
   {
    "duration": 171,
    "start_time": "2024-10-10T15:35:04.016Z"
   },
   {
    "duration": 6,
    "start_time": "2024-10-10T15:35:12.725Z"
   },
   {
    "duration": 5,
    "start_time": "2024-10-10T15:35:13.479Z"
   },
   {
    "duration": 9,
    "start_time": "2024-10-10T15:35:15.198Z"
   },
   {
    "duration": 116,
    "start_time": "2024-10-10T15:35:17.046Z"
   },
   {
    "duration": 6,
    "start_time": "2024-10-10T15:35:18.308Z"
   },
   {
    "duration": 5,
    "start_time": "2024-10-10T15:35:18.785Z"
   },
   {
    "duration": 212,
    "start_time": "2024-10-10T15:37:50.741Z"
   },
   {
    "duration": 207,
    "start_time": "2024-10-10T15:42:51.492Z"
   },
   {
    "duration": 6,
    "start_time": "2024-10-10T15:57:05.004Z"
   },
   {
    "duration": 232,
    "start_time": "2024-10-10T15:59:09.906Z"
   },
   {
    "duration": 23,
    "start_time": "2024-10-10T16:18:47.034Z"
   },
   {
    "duration": 9,
    "start_time": "2024-10-10T16:20:27.923Z"
   },
   {
    "duration": 12,
    "start_time": "2024-10-10T16:21:45.210Z"
   },
   {
    "duration": 8,
    "start_time": "2024-10-10T16:26:16.077Z"
   },
   {
    "duration": 13,
    "start_time": "2024-10-10T16:26:49.900Z"
   },
   {
    "duration": 5,
    "start_time": "2024-10-10T16:27:31.633Z"
   },
   {
    "duration": 13,
    "start_time": "2024-10-10T16:27:52.848Z"
   },
   {
    "duration": 192,
    "start_time": "2024-10-10T16:29:36.392Z"
   },
   {
    "duration": 198,
    "start_time": "2024-10-10T16:30:26.303Z"
   },
   {
    "duration": 209,
    "start_time": "2024-10-10T16:34:00.004Z"
   },
   {
    "duration": 204,
    "start_time": "2024-10-10T16:34:06.404Z"
   },
   {
    "duration": 265,
    "start_time": "2024-10-10T16:35:29.928Z"
   },
   {
    "duration": 486,
    "start_time": "2024-10-10T16:37:00.364Z"
   },
   {
    "duration": 443,
    "start_time": "2024-10-10T16:37:15.993Z"
   },
   {
    "duration": 263,
    "start_time": "2024-10-10T16:37:24.703Z"
   },
   {
    "duration": 12,
    "start_time": "2024-10-10T16:39:19.349Z"
   },
   {
    "duration": 218,
    "start_time": "2024-10-10T16:39:36.940Z"
   },
   {
    "duration": 207,
    "start_time": "2024-10-10T16:39:54.518Z"
   },
   {
    "duration": 213,
    "start_time": "2024-10-10T16:40:04.675Z"
   },
   {
    "duration": 327,
    "start_time": "2024-10-10T16:40:53.182Z"
   },
   {
    "duration": 222,
    "start_time": "2024-10-10T16:44:16.690Z"
   },
   {
    "duration": 14,
    "start_time": "2024-10-10T16:45:07.584Z"
   },
   {
    "duration": 11,
    "start_time": "2024-10-10T16:45:30.507Z"
   },
   {
    "duration": 246,
    "start_time": "2024-10-10T16:50:07.976Z"
   },
   {
    "duration": 266,
    "start_time": "2024-10-10T16:50:53.671Z"
   },
   {
    "duration": 269,
    "start_time": "2024-10-10T16:51:13.363Z"
   },
   {
    "duration": 335,
    "start_time": "2024-10-10T16:51:26.005Z"
   },
   {
    "duration": 274,
    "start_time": "2024-10-10T16:54:04.256Z"
   },
   {
    "duration": 293,
    "start_time": "2024-10-10T16:54:27.359Z"
   },
   {
    "duration": 370,
    "start_time": "2024-10-11T06:04:47.906Z"
   },
   {
    "duration": 413,
    "start_time": "2024-10-11T06:04:48.278Z"
   },
   {
    "duration": 3,
    "start_time": "2024-10-11T06:04:48.693Z"
   },
   {
    "duration": 92,
    "start_time": "2024-10-11T06:04:48.698Z"
   },
   {
    "duration": 160,
    "start_time": "2024-10-11T06:04:48.792Z"
   },
   {
    "duration": 69,
    "start_time": "2024-10-11T06:04:48.953Z"
   },
   {
    "duration": 13,
    "start_time": "2024-10-11T06:04:49.024Z"
   },
   {
    "duration": 23,
    "start_time": "2024-10-11T06:04:49.038Z"
   },
   {
    "duration": 9,
    "start_time": "2024-10-11T06:04:49.063Z"
   },
   {
    "duration": 23,
    "start_time": "2024-10-11T06:04:49.073Z"
   },
   {
    "duration": 23,
    "start_time": "2024-10-11T06:04:49.097Z"
   },
   {
    "duration": 27,
    "start_time": "2024-10-11T06:04:49.122Z"
   },
   {
    "duration": 10,
    "start_time": "2024-10-11T06:04:49.151Z"
   },
   {
    "duration": 16,
    "start_time": "2024-10-11T06:04:49.164Z"
   },
   {
    "duration": 17,
    "start_time": "2024-10-11T06:04:49.181Z"
   },
   {
    "duration": 9,
    "start_time": "2024-10-11T06:04:49.200Z"
   },
   {
    "duration": 13,
    "start_time": "2024-10-11T06:04:49.210Z"
   },
   {
    "duration": 22,
    "start_time": "2024-10-11T06:04:49.225Z"
   },
   {
    "duration": 18,
    "start_time": "2024-10-11T06:04:49.248Z"
   },
   {
    "duration": 15,
    "start_time": "2024-10-11T06:04:49.268Z"
   },
   {
    "duration": 20,
    "start_time": "2024-10-11T06:04:49.284Z"
   },
   {
    "duration": 20,
    "start_time": "2024-10-11T06:04:49.306Z"
   },
   {
    "duration": 14,
    "start_time": "2024-10-11T06:04:49.328Z"
   },
   {
    "duration": 37,
    "start_time": "2024-10-11T06:04:49.344Z"
   },
   {
    "duration": 274,
    "start_time": "2024-10-11T06:04:49.382Z"
   },
   {
    "duration": 11,
    "start_time": "2024-10-11T06:04:49.657Z"
   },
   {
    "duration": 156,
    "start_time": "2024-10-11T06:04:49.670Z"
   },
   {
    "duration": 13,
    "start_time": "2024-10-11T06:04:49.828Z"
   },
   {
    "duration": 288,
    "start_time": "2024-10-11T06:04:49.853Z"
   },
   {
    "duration": 11,
    "start_time": "2024-10-11T06:04:50.143Z"
   },
   {
    "duration": 176,
    "start_time": "2024-10-11T06:04:50.156Z"
   },
   {
    "duration": 212,
    "start_time": "2024-10-11T06:04:50.334Z"
   },
   {
    "duration": 8,
    "start_time": "2024-10-11T06:04:50.548Z"
   },
   {
    "duration": 22,
    "start_time": "2024-10-11T06:04:50.558Z"
   },
   {
    "duration": 32,
    "start_time": "2024-10-11T06:04:50.581Z"
   },
   {
    "duration": 106,
    "start_time": "2024-10-11T06:04:50.614Z"
   },
   {
    "duration": 209,
    "start_time": "2024-10-11T06:04:50.722Z"
   },
   {
    "duration": 4,
    "start_time": "2024-10-11T06:04:50.932Z"
   },
   {
    "duration": 15,
    "start_time": "2024-10-11T06:04:50.938Z"
   },
   {
    "duration": 27,
    "start_time": "2024-10-11T06:04:50.955Z"
   },
   {
    "duration": 19,
    "start_time": "2024-10-11T06:04:50.986Z"
   },
   {
    "duration": 16,
    "start_time": "2024-10-11T06:04:51.008Z"
   },
   {
    "duration": 14,
    "start_time": "2024-10-11T06:04:51.025Z"
   },
   {
    "duration": 20,
    "start_time": "2024-10-11T06:04:51.040Z"
   },
   {
    "duration": 21,
    "start_time": "2024-10-11T06:04:51.062Z"
   },
   {
    "duration": 275,
    "start_time": "2024-10-11T06:04:51.084Z"
   },
   {
    "duration": 293,
    "start_time": "2024-10-11T06:04:51.360Z"
   },
   {
    "duration": 213,
    "start_time": "2024-10-11T06:10:23.886Z"
   },
   {
    "duration": 213,
    "start_time": "2024-10-11T06:10:49.822Z"
   },
   {
    "duration": 214,
    "start_time": "2024-10-11T06:11:58.138Z"
   },
   {
    "duration": 351,
    "start_time": "2024-10-11T06:13:10.749Z"
   },
   {
    "duration": 268,
    "start_time": "2024-10-11T06:13:21.828Z"
   },
   {
    "duration": 269,
    "start_time": "2024-10-11T06:13:44.723Z"
   },
   {
    "duration": 87,
    "start_time": "2024-10-11T06:28:25.181Z"
   },
   {
    "duration": 24,
    "start_time": "2024-10-11T06:28:53.707Z"
   },
   {
    "duration": 28,
    "start_time": "2024-10-11T06:29:10.493Z"
   },
   {
    "duration": 37,
    "start_time": "2024-10-11T06:37:35.394Z"
   },
   {
    "duration": 34,
    "start_time": "2024-10-11T06:39:35.639Z"
   },
   {
    "duration": 28,
    "start_time": "2024-10-11T06:42:07.629Z"
   },
   {
    "duration": 26,
    "start_time": "2024-10-11T06:42:18.488Z"
   },
   {
    "duration": 30,
    "start_time": "2024-10-11T06:42:30.306Z"
   },
   {
    "duration": 29,
    "start_time": "2024-10-11T06:48:22.838Z"
   },
   {
    "duration": 28,
    "start_time": "2024-10-11T06:56:02.749Z"
   },
   {
    "duration": 25,
    "start_time": "2024-10-11T06:56:59.254Z"
   },
   {
    "duration": 20,
    "start_time": "2024-10-11T06:59:53.934Z"
   },
   {
    "duration": 33,
    "start_time": "2024-10-11T07:25:39.199Z"
   },
   {
    "duration": 29,
    "start_time": "2024-10-11T07:25:51.421Z"
   },
   {
    "duration": 22,
    "start_time": "2024-10-11T07:43:04.168Z"
   },
   {
    "duration": 20,
    "start_time": "2024-10-11T07:47:54.760Z"
   },
   {
    "duration": 18,
    "start_time": "2024-10-11T07:48:24.883Z"
   },
   {
    "duration": 13,
    "start_time": "2024-10-11T07:49:32.115Z"
   },
   {
    "duration": 5,
    "start_time": "2024-10-11T08:06:06.640Z"
   },
   {
    "duration": 15,
    "start_time": "2024-10-11T08:06:58.124Z"
   },
   {
    "duration": 17,
    "start_time": "2024-10-11T08:10:32.274Z"
   },
   {
    "duration": 31,
    "start_time": "2024-10-11T08:11:27.276Z"
   },
   {
    "duration": 39,
    "start_time": "2024-10-11T08:11:41.318Z"
   },
   {
    "duration": 29,
    "start_time": "2024-10-11T08:12:57.096Z"
   },
   {
    "duration": 34,
    "start_time": "2024-10-11T08:13:04.862Z"
   },
   {
    "duration": 14,
    "start_time": "2024-10-11T08:13:09.395Z"
   },
   {
    "duration": 50,
    "start_time": "2024-10-11T08:13:28.620Z"
   },
   {
    "duration": 972,
    "start_time": "2024-10-11T08:13:32.290Z"
   },
   {
    "duration": 5,
    "start_time": "2024-10-11T08:18:02.408Z"
   },
   {
    "duration": 889,
    "start_time": "2024-10-11T08:21:26.428Z"
   },
   {
    "duration": 1130,
    "start_time": "2024-10-11T08:21:44.728Z"
   },
   {
    "duration": 2,
    "start_time": "2024-10-11T08:26:39.054Z"
   },
   {
    "duration": 1227,
    "start_time": "2024-10-11T08:26:47.467Z"
   },
   {
    "duration": 699,
    "start_time": "2024-10-11T08:27:35.640Z"
   },
   {
    "duration": 903,
    "start_time": "2024-10-11T08:30:26.846Z"
   },
   {
    "duration": 1126,
    "start_time": "2024-10-11T08:34:02.832Z"
   },
   {
    "duration": 930,
    "start_time": "2024-10-11T08:35:37.364Z"
   },
   {
    "duration": 7,
    "start_time": "2024-10-11T08:38:19.900Z"
   },
   {
    "duration": 26,
    "start_time": "2024-10-11T08:38:44.876Z"
   },
   {
    "duration": 944,
    "start_time": "2024-10-11T11:20:46.104Z"
   },
   {
    "duration": 11,
    "start_time": "2024-10-11T11:21:15.653Z"
   },
   {
    "duration": 13,
    "start_time": "2024-10-11T11:21:31.877Z"
   },
   {
    "duration": 15,
    "start_time": "2024-10-11T11:21:49.254Z"
   },
   {
    "duration": 21,
    "start_time": "2024-10-11T11:22:01.975Z"
   },
   {
    "duration": 18,
    "start_time": "2024-10-11T11:22:14.626Z"
   },
   {
    "duration": 4,
    "start_time": "2024-10-11T11:22:58.861Z"
   },
   {
    "duration": 15,
    "start_time": "2024-10-11T11:25:52.451Z"
   },
   {
    "duration": 9,
    "start_time": "2024-10-11T11:25:59.642Z"
   },
   {
    "duration": 35,
    "start_time": "2024-10-11T11:27:26.022Z"
   },
   {
    "duration": 1659,
    "start_time": "2024-10-11T11:28:50.097Z"
   },
   {
    "duration": 729,
    "start_time": "2024-10-11T11:29:24.083Z"
   },
   {
    "duration": 11,
    "start_time": "2024-10-11T11:30:21.189Z"
   },
   {
    "duration": 32,
    "start_time": "2024-10-11T11:30:23.445Z"
   },
   {
    "duration": 12,
    "start_time": "2024-10-11T11:30:33.084Z"
   },
   {
    "duration": 9,
    "start_time": "2024-10-11T11:30:56.493Z"
   },
   {
    "duration": 30,
    "start_time": "2024-10-11T11:31:21.946Z"
   },
   {
    "duration": 749,
    "start_time": "2024-10-11T11:32:18.289Z"
   },
   {
    "duration": 36,
    "start_time": "2024-10-11T11:33:57.301Z"
   },
   {
    "duration": 1270,
    "start_time": "2024-10-11T11:34:36.346Z"
   },
   {
    "duration": 769,
    "start_time": "2024-10-11T11:35:45.075Z"
   },
   {
    "duration": 5,
    "start_time": "2024-10-11T11:40:53.784Z"
   },
   {
    "duration": 4,
    "start_time": "2024-10-11T11:41:12.615Z"
   },
   {
    "duration": 4,
    "start_time": "2024-10-11T11:41:57.916Z"
   },
   {
    "duration": 8,
    "start_time": "2024-10-11T11:43:41.858Z"
   },
   {
    "duration": 8,
    "start_time": "2024-10-11T11:45:51.039Z"
   },
   {
    "duration": 36,
    "start_time": "2024-10-11T11:45:54.662Z"
   },
   {
    "duration": 9,
    "start_time": "2024-10-11T11:45:58.342Z"
   },
   {
    "duration": 11,
    "start_time": "2024-10-11T11:46:48.752Z"
   },
   {
    "duration": 36,
    "start_time": "2024-10-11T11:47:20.240Z"
   },
   {
    "duration": 737,
    "start_time": "2024-10-11T11:47:38.908Z"
   },
   {
    "duration": 891,
    "start_time": "2024-10-11T11:50:57.745Z"
   },
   {
    "duration": 4,
    "start_time": "2024-10-11T11:51:59.531Z"
   },
   {
    "duration": 16,
    "start_time": "2024-10-11T11:52:21.175Z"
   },
   {
    "duration": 19,
    "start_time": "2024-10-11T11:53:11.601Z"
   },
   {
    "duration": 19,
    "start_time": "2024-10-11T11:53:30.505Z"
   },
   {
    "duration": 17,
    "start_time": "2024-10-11T11:54:38.563Z"
   },
   {
    "duration": 17,
    "start_time": "2024-10-11T11:54:55.231Z"
   },
   {
    "duration": 20,
    "start_time": "2024-10-11T11:55:32.363Z"
   },
   {
    "duration": 65,
    "start_time": "2024-10-11T11:56:29.593Z"
   },
   {
    "duration": 30,
    "start_time": "2024-10-11T11:56:34.179Z"
   },
   {
    "duration": 29,
    "start_time": "2024-10-11T11:58:43.968Z"
   },
   {
    "duration": 23,
    "start_time": "2024-10-11T11:59:19.598Z"
   },
   {
    "duration": 4,
    "start_time": "2024-10-11T12:00:30.341Z"
   },
   {
    "duration": 34,
    "start_time": "2024-10-11T12:00:51.132Z"
   },
   {
    "duration": 931,
    "start_time": "2024-10-11T12:00:55.516Z"
   },
   {
    "duration": 4,
    "start_time": "2024-10-11T12:01:15.284Z"
   },
   {
    "duration": 962,
    "start_time": "2024-10-11T12:01:20.259Z"
   },
   {
    "duration": 966,
    "start_time": "2024-10-11T12:01:34.470Z"
   },
   {
    "duration": 3343,
    "start_time": "2024-10-11T12:01:45.154Z"
   },
   {
    "duration": 28,
    "start_time": "2024-10-11T12:02:21.477Z"
   },
   {
    "duration": 19,
    "start_time": "2024-10-11T12:03:11.089Z"
   },
   {
    "duration": 19,
    "start_time": "2024-10-11T12:03:20.513Z"
   },
   {
    "duration": 8,
    "start_time": "2024-10-11T12:03:27.624Z"
   },
   {
    "duration": 8,
    "start_time": "2024-10-11T12:03:30.058Z"
   },
   {
    "duration": 16,
    "start_time": "2024-10-11T12:11:59.568Z"
   },
   {
    "duration": 3,
    "start_time": "2024-10-11T12:12:14.289Z"
   },
   {
    "duration": 65,
    "start_time": "2024-10-11T12:12:14.294Z"
   },
   {
    "duration": 5,
    "start_time": "2024-10-11T12:12:14.360Z"
   },
   {
    "duration": 39,
    "start_time": "2024-10-11T12:12:14.366Z"
   },
   {
    "duration": 30,
    "start_time": "2024-10-11T12:12:14.407Z"
   },
   {
    "duration": 16,
    "start_time": "2024-10-11T12:12:14.439Z"
   },
   {
    "duration": 11,
    "start_time": "2024-10-11T12:12:14.457Z"
   },
   {
    "duration": 11,
    "start_time": "2024-10-11T12:12:14.470Z"
   },
   {
    "duration": 9,
    "start_time": "2024-10-11T12:12:14.483Z"
   },
   {
    "duration": 11,
    "start_time": "2024-10-11T12:12:14.494Z"
   },
   {
    "duration": 8,
    "start_time": "2024-10-11T12:12:14.507Z"
   },
   {
    "duration": 57,
    "start_time": "2024-10-11T12:12:14.517Z"
   },
   {
    "duration": 7,
    "start_time": "2024-10-11T12:12:14.575Z"
   },
   {
    "duration": 11,
    "start_time": "2024-10-11T12:12:14.583Z"
   },
   {
    "duration": 7,
    "start_time": "2024-10-11T12:12:14.596Z"
   },
   {
    "duration": 8,
    "start_time": "2024-10-11T12:12:14.604Z"
   },
   {
    "duration": 10,
    "start_time": "2024-10-11T12:12:14.613Z"
   },
   {
    "duration": 35,
    "start_time": "2024-10-11T12:12:14.624Z"
   },
   {
    "duration": 6,
    "start_time": "2024-10-11T12:12:14.660Z"
   },
   {
    "duration": 7,
    "start_time": "2024-10-11T12:12:14.667Z"
   },
   {
    "duration": 13,
    "start_time": "2024-10-11T12:12:14.675Z"
   },
   {
    "duration": 5,
    "start_time": "2024-10-11T12:12:14.690Z"
   },
   {
    "duration": 5,
    "start_time": "2024-10-11T12:12:14.696Z"
   },
   {
    "duration": 60,
    "start_time": "2024-10-11T12:12:14.703Z"
   },
   {
    "duration": 288,
    "start_time": "2024-10-11T12:12:14.765Z"
   },
   {
    "duration": 12,
    "start_time": "2024-10-11T12:12:15.054Z"
   },
   {
    "duration": 202,
    "start_time": "2024-10-11T12:12:15.068Z"
   },
   {
    "duration": 17,
    "start_time": "2024-10-11T12:12:15.272Z"
   },
   {
    "duration": 310,
    "start_time": "2024-10-11T12:12:15.295Z"
   },
   {
    "duration": 9,
    "start_time": "2024-10-11T12:12:15.606Z"
   },
   {
    "duration": 125,
    "start_time": "2024-10-11T12:12:15.617Z"
   },
   {
    "duration": 249,
    "start_time": "2024-10-11T12:12:15.743Z"
   },
   {
    "duration": 5,
    "start_time": "2024-10-11T12:12:15.994Z"
   },
   {
    "duration": 13,
    "start_time": "2024-10-11T12:12:16.000Z"
   },
   {
    "duration": 18,
    "start_time": "2024-10-11T12:12:16.015Z"
   },
   {
    "duration": 129,
    "start_time": "2024-10-11T12:12:16.035Z"
   },
   {
    "duration": 259,
    "start_time": "2024-10-11T12:12:16.165Z"
   },
   {
    "duration": 5,
    "start_time": "2024-10-11T12:12:16.426Z"
   },
   {
    "duration": 7,
    "start_time": "2024-10-11T12:12:16.432Z"
   },
   {
    "duration": 12,
    "start_time": "2024-10-11T12:12:16.460Z"
   },
   {
    "duration": 19,
    "start_time": "2024-10-11T12:12:16.474Z"
   },
   {
    "duration": 15,
    "start_time": "2024-10-11T12:12:16.495Z"
   },
   {
    "duration": 23,
    "start_time": "2024-10-11T12:12:16.511Z"
   },
   {
    "duration": 13,
    "start_time": "2024-10-11T12:12:16.536Z"
   },
   {
    "duration": 11,
    "start_time": "2024-10-11T12:12:16.551Z"
   },
   {
    "duration": 289,
    "start_time": "2024-10-11T12:12:16.564Z"
   },
   {
    "duration": 421,
    "start_time": "2024-10-11T12:12:16.854Z"
   },
   {
    "duration": 15,
    "start_time": "2024-10-11T12:12:36.898Z"
   },
   {
    "duration": 10,
    "start_time": "2024-10-11T12:15:20.138Z"
   },
   {
    "duration": 10,
    "start_time": "2024-10-11T12:16:29.541Z"
   },
   {
    "duration": 4,
    "start_time": "2024-10-11T12:19:45.112Z"
   },
   {
    "duration": 11,
    "start_time": "2024-10-11T12:24:17.231Z"
   },
   {
    "duration": 36,
    "start_time": "2024-10-11T12:24:19.653Z"
   },
   {
    "duration": 37,
    "start_time": "2024-10-11T12:32:45.709Z"
   },
   {
    "duration": 8,
    "start_time": "2024-10-11T12:34:13.569Z"
   },
   {
    "duration": 7,
    "start_time": "2024-10-11T12:34:14.193Z"
   },
   {
    "duration": 23,
    "start_time": "2024-10-11T12:38:42.755Z"
   },
   {
    "duration": 386,
    "start_time": "2024-10-11T12:55:47.575Z"
   },
   {
    "duration": 7,
    "start_time": "2024-10-11T13:10:43.720Z"
   },
   {
    "duration": 6,
    "start_time": "2024-10-11T13:11:39.679Z"
   },
   {
    "duration": 6,
    "start_time": "2024-10-11T13:14:47.035Z"
   },
   {
    "duration": 5,
    "start_time": "2024-10-11T13:14:53.235Z"
   },
   {
    "duration": 6,
    "start_time": "2024-10-11T13:16:06.780Z"
   },
   {
    "duration": 6,
    "start_time": "2024-10-11T13:16:47.824Z"
   },
   {
    "duration": 6,
    "start_time": "2024-10-11T13:22:12.556Z"
   },
   {
    "duration": 931,
    "start_time": "2024-10-11T13:25:12.830Z"
   },
   {
    "duration": 1080,
    "start_time": "2024-10-11T13:25:38.447Z"
   },
   {
    "duration": 1026,
    "start_time": "2024-10-11T13:26:30.303Z"
   },
   {
    "duration": 1160,
    "start_time": "2024-10-11T13:27:17.740Z"
   },
   {
    "duration": 5,
    "start_time": "2024-10-11T13:27:30.331Z"
   },
   {
    "duration": 4,
    "start_time": "2024-10-11T13:27:44.635Z"
   },
   {
    "duration": 4,
    "start_time": "2024-10-11T13:28:04.900Z"
   },
   {
    "duration": 912,
    "start_time": "2024-10-11T13:28:26.589Z"
   },
   {
    "duration": 12,
    "start_time": "2024-10-11T13:29:25.904Z"
   },
   {
    "duration": 3,
    "start_time": "2024-10-11T13:30:35.171Z"
   },
   {
    "duration": 15,
    "start_time": "2024-10-11T13:30:35.176Z"
   },
   {
    "duration": 6,
    "start_time": "2024-10-11T13:30:35.193Z"
   },
   {
    "duration": 2,
    "start_time": "2024-10-11T13:30:35.202Z"
   },
   {
    "duration": 30,
    "start_time": "2024-10-11T13:30:35.206Z"
   },
   {
    "duration": 29,
    "start_time": "2024-10-11T13:30:35.238Z"
   },
   {
    "duration": 15,
    "start_time": "2024-10-11T13:30:35.269Z"
   },
   {
    "duration": 19,
    "start_time": "2024-10-11T13:30:35.286Z"
   },
   {
    "duration": 12,
    "start_time": "2024-10-11T13:30:35.307Z"
   },
   {
    "duration": 18,
    "start_time": "2024-10-11T13:30:35.320Z"
   },
   {
    "duration": 25,
    "start_time": "2024-10-11T13:30:35.339Z"
   },
   {
    "duration": 13,
    "start_time": "2024-10-11T13:30:35.366Z"
   },
   {
    "duration": 30,
    "start_time": "2024-10-11T13:30:35.381Z"
   },
   {
    "duration": 5,
    "start_time": "2024-10-11T13:30:35.413Z"
   },
   {
    "duration": 17,
    "start_time": "2024-10-11T13:30:35.420Z"
   },
   {
    "duration": 66,
    "start_time": "2024-10-11T13:30:35.438Z"
   },
   {
    "duration": 39,
    "start_time": "2024-10-11T13:30:35.506Z"
   },
   {
    "duration": 36,
    "start_time": "2024-10-11T13:30:35.546Z"
   },
   {
    "duration": 10,
    "start_time": "2024-10-11T13:30:35.584Z"
   },
   {
    "duration": 6,
    "start_time": "2024-10-11T13:30:35.596Z"
   },
   {
    "duration": 29,
    "start_time": "2024-10-11T13:30:35.603Z"
   },
   {
    "duration": 34,
    "start_time": "2024-10-11T13:30:35.634Z"
   },
   {
    "duration": 18,
    "start_time": "2024-10-11T13:30:35.670Z"
   },
   {
    "duration": 45,
    "start_time": "2024-10-11T13:30:35.692Z"
   },
   {
    "duration": 14,
    "start_time": "2024-10-11T13:30:35.739Z"
   },
   {
    "duration": 259,
    "start_time": "2024-10-11T13:30:35.755Z"
   },
   {
    "duration": 12,
    "start_time": "2024-10-11T13:30:36.016Z"
   },
   {
    "duration": 146,
    "start_time": "2024-10-11T13:30:36.030Z"
   },
   {
    "duration": 12,
    "start_time": "2024-10-11T13:30:36.178Z"
   },
   {
    "duration": 362,
    "start_time": "2024-10-11T13:30:36.192Z"
   },
   {
    "duration": 9,
    "start_time": "2024-10-11T13:30:36.556Z"
   },
   {
    "duration": 201,
    "start_time": "2024-10-11T13:30:36.567Z"
   },
   {
    "duration": 224,
    "start_time": "2024-10-11T13:30:36.770Z"
   },
   {
    "duration": 9,
    "start_time": "2024-10-11T13:30:36.996Z"
   },
   {
    "duration": 133,
    "start_time": "2024-10-11T13:30:37.006Z"
   },
   {
    "duration": 249,
    "start_time": "2024-10-11T13:30:37.141Z"
   },
   {
    "duration": 12,
    "start_time": "2024-10-11T13:30:37.392Z"
   },
   {
    "duration": 13,
    "start_time": "2024-10-11T13:30:37.406Z"
   },
   {
    "duration": 37,
    "start_time": "2024-10-11T13:30:37.420Z"
   },
   {
    "duration": 43,
    "start_time": "2024-10-11T13:30:37.458Z"
   },
   {
    "duration": 14,
    "start_time": "2024-10-11T13:30:37.502Z"
   },
   {
    "duration": 10,
    "start_time": "2024-10-11T13:30:37.518Z"
   },
   {
    "duration": 290,
    "start_time": "2024-10-11T13:30:37.529Z"
   },
   {
    "duration": 335,
    "start_time": "2024-10-11T13:30:37.820Z"
   },
   {
    "duration": 15,
    "start_time": "2024-10-11T13:30:38.156Z"
   },
   {
    "duration": 83,
    "start_time": "2024-10-11T13:30:38.172Z"
   },
   {
    "duration": 50,
    "start_time": "2024-10-11T13:30:38.256Z"
   },
   {
    "duration": 20,
    "start_time": "2024-10-11T13:30:38.308Z"
   },
   {
    "duration": 7,
    "start_time": "2024-10-11T13:30:38.329Z"
   },
   {
    "duration": 18,
    "start_time": "2024-10-11T13:30:38.337Z"
   },
   {
    "duration": 4,
    "start_time": "2024-10-11T13:30:40.672Z"
   },
   {
    "duration": 12,
    "start_time": "2024-10-11T13:30:41.609Z"
   },
   {
    "duration": 4,
    "start_time": "2024-10-11T13:30:53.073Z"
   },
   {
    "duration": 11,
    "start_time": "2024-10-11T13:31:08.759Z"
   },
   {
    "duration": 5,
    "start_time": "2024-10-11T13:31:33.606Z"
   },
   {
    "duration": 69,
    "start_time": "2024-10-13T07:09:48.535Z"
   },
   {
    "duration": 61,
    "start_time": "2024-10-13T07:10:43.247Z"
   },
   {
    "duration": 52,
    "start_time": "2024-10-13T07:11:03.823Z"
   },
   {
    "duration": 341,
    "start_time": "2024-10-13T07:11:11.747Z"
   },
   {
    "duration": 364,
    "start_time": "2024-10-13T07:11:12.090Z"
   },
   {
    "duration": 2,
    "start_time": "2024-10-13T07:11:12.456Z"
   },
   {
    "duration": 476,
    "start_time": "2024-10-13T07:11:12.460Z"
   },
   {
    "duration": 75,
    "start_time": "2024-10-13T07:11:12.939Z"
   },
   {
    "duration": 140,
    "start_time": "2024-10-13T07:11:13.015Z"
   },
   {
    "duration": 66,
    "start_time": "2024-10-13T07:11:13.157Z"
   },
   {
    "duration": 15,
    "start_time": "2024-10-13T07:11:13.225Z"
   },
   {
    "duration": 19,
    "start_time": "2024-10-13T07:11:13.241Z"
   },
   {
    "duration": 86,
    "start_time": "2024-10-13T07:11:13.262Z"
   },
   {
    "duration": 54,
    "start_time": "2024-10-13T07:11:13.350Z"
   },
   {
    "duration": 30,
    "start_time": "2024-10-13T07:11:13.406Z"
   },
   {
    "duration": 27,
    "start_time": "2024-10-13T07:11:13.438Z"
   },
   {
    "duration": 25,
    "start_time": "2024-10-13T07:11:13.469Z"
   },
   {
    "duration": 30,
    "start_time": "2024-10-13T07:11:13.495Z"
   },
   {
    "duration": 16,
    "start_time": "2024-10-13T07:11:13.527Z"
   },
   {
    "duration": 14,
    "start_time": "2024-10-13T07:11:13.545Z"
   },
   {
    "duration": 22,
    "start_time": "2024-10-13T07:11:13.561Z"
   },
   {
    "duration": 200,
    "start_time": "2024-10-13T07:11:13.584Z"
   },
   {
    "duration": 29,
    "start_time": "2024-10-13T07:11:13.786Z"
   },
   {
    "duration": 21,
    "start_time": "2024-10-13T07:11:13.817Z"
   },
   {
    "duration": 22,
    "start_time": "2024-10-13T07:11:13.840Z"
   },
   {
    "duration": 16,
    "start_time": "2024-10-13T07:11:13.864Z"
   },
   {
    "duration": 19,
    "start_time": "2024-10-13T07:11:13.882Z"
   },
   {
    "duration": 47,
    "start_time": "2024-10-13T07:11:13.902Z"
   },
   {
    "duration": 241,
    "start_time": "2024-10-13T07:11:13.951Z"
   },
   {
    "duration": 13,
    "start_time": "2024-10-13T07:11:14.194Z"
   },
   {
    "duration": 129,
    "start_time": "2024-10-13T07:11:14.209Z"
   },
   {
    "duration": 11,
    "start_time": "2024-10-13T07:11:14.339Z"
   },
   {
    "duration": 294,
    "start_time": "2024-10-13T07:11:14.352Z"
   },
   {
    "duration": 8,
    "start_time": "2024-10-13T07:11:14.647Z"
   },
   {
    "duration": 121,
    "start_time": "2024-10-13T07:11:14.656Z"
   },
   {
    "duration": 206,
    "start_time": "2024-10-13T07:11:14.779Z"
   },
   {
    "duration": 10,
    "start_time": "2024-10-13T07:11:14.987Z"
   },
   {
    "duration": 174,
    "start_time": "2024-10-13T07:11:15.006Z"
   },
   {
    "duration": 210,
    "start_time": "2024-10-13T07:11:15.182Z"
   },
   {
    "duration": 15,
    "start_time": "2024-10-13T07:11:15.393Z"
   },
   {
    "duration": 54,
    "start_time": "2024-10-13T07:11:15.409Z"
   },
   {
    "duration": 17,
    "start_time": "2024-10-13T07:11:15.465Z"
   },
   {
    "duration": 29,
    "start_time": "2024-10-13T07:11:15.483Z"
   },
   {
    "duration": 36,
    "start_time": "2024-10-13T07:11:15.516Z"
   },
   {
    "duration": 20,
    "start_time": "2024-10-13T07:11:15.553Z"
   },
   {
    "duration": 522,
    "start_time": "2024-10-13T07:11:15.574Z"
   },
   {
    "duration": 257,
    "start_time": "2024-10-13T07:11:16.098Z"
   },
   {
    "duration": 11,
    "start_time": "2024-10-13T07:11:16.357Z"
   },
   {
    "duration": 31,
    "start_time": "2024-10-13T07:11:16.369Z"
   },
   {
    "duration": 50,
    "start_time": "2024-10-13T07:11:16.401Z"
   },
   {
    "duration": 28,
    "start_time": "2024-10-13T07:11:16.455Z"
   },
   {
    "duration": 5,
    "start_time": "2024-10-13T07:11:30.154Z"
   },
   {
    "duration": 60,
    "start_time": "2024-10-13T07:11:36.597Z"
   },
   {
    "duration": 4,
    "start_time": "2024-10-13T07:11:57.945Z"
   },
   {
    "duration": 8,
    "start_time": "2024-10-13T07:12:06.125Z"
   },
   {
    "duration": 12,
    "start_time": "2024-10-13T07:12:21.221Z"
   },
   {
    "duration": 5,
    "start_time": "2024-10-13T07:13:00.574Z"
   },
   {
    "duration": 6,
    "start_time": "2024-10-13T07:26:45.161Z"
   },
   {
    "duration": 6,
    "start_time": "2024-10-13T07:27:02.723Z"
   },
   {
    "duration": 6,
    "start_time": "2024-10-13T07:29:11.398Z"
   },
   {
    "duration": 11,
    "start_time": "2024-10-13T07:30:22.303Z"
   },
   {
    "duration": 4,
    "start_time": "2024-10-13T07:44:17.237Z"
   },
   {
    "duration": 11,
    "start_time": "2024-10-13T07:44:21.377Z"
   },
   {
    "duration": 4,
    "start_time": "2024-10-13T07:45:13.840Z"
   },
   {
    "duration": 13,
    "start_time": "2024-10-13T07:45:14.861Z"
   },
   {
    "duration": 85,
    "start_time": "2024-10-13T07:51:31.925Z"
   },
   {
    "duration": 65,
    "start_time": "2024-10-13T07:51:36.605Z"
   },
   {
    "duration": 15,
    "start_time": "2024-10-13T07:51:52.700Z"
   },
   {
    "duration": 3,
    "start_time": "2024-10-13T07:59:44.066Z"
   },
   {
    "duration": 10,
    "start_time": "2024-10-13T07:59:44.070Z"
   },
   {
    "duration": 10,
    "start_time": "2024-10-13T07:59:44.082Z"
   },
   {
    "duration": 11,
    "start_time": "2024-10-13T07:59:44.093Z"
   },
   {
    "duration": 31,
    "start_time": "2024-10-13T07:59:44.105Z"
   },
   {
    "duration": 30,
    "start_time": "2024-10-13T07:59:44.137Z"
   },
   {
    "duration": 14,
    "start_time": "2024-10-13T07:59:44.169Z"
   },
   {
    "duration": 8,
    "start_time": "2024-10-13T07:59:44.185Z"
   },
   {
    "duration": 23,
    "start_time": "2024-10-13T07:59:44.196Z"
   },
   {
    "duration": 11,
    "start_time": "2024-10-13T07:59:44.225Z"
   },
   {
    "duration": 11,
    "start_time": "2024-10-13T07:59:44.237Z"
   },
   {
    "duration": 6,
    "start_time": "2024-10-13T07:59:44.249Z"
   },
   {
    "duration": 17,
    "start_time": "2024-10-13T07:59:44.256Z"
   },
   {
    "duration": 14,
    "start_time": "2024-10-13T07:59:44.274Z"
   },
   {
    "duration": 24,
    "start_time": "2024-10-13T07:59:44.290Z"
   },
   {
    "duration": 13,
    "start_time": "2024-10-13T07:59:44.316Z"
   },
   {
    "duration": 8,
    "start_time": "2024-10-13T07:59:44.330Z"
   },
   {
    "duration": 9,
    "start_time": "2024-10-13T07:59:44.339Z"
   },
   {
    "duration": 20,
    "start_time": "2024-10-13T07:59:44.349Z"
   },
   {
    "duration": 12,
    "start_time": "2024-10-13T07:59:44.371Z"
   },
   {
    "duration": 15,
    "start_time": "2024-10-13T07:59:44.385Z"
   },
   {
    "duration": 97,
    "start_time": "2024-10-13T07:59:44.402Z"
   },
   {
    "duration": 160,
    "start_time": "2024-10-13T07:59:44.500Z"
   },
   {
    "duration": 121,
    "start_time": "2024-10-13T07:59:44.664Z"
   },
   {
    "duration": 39,
    "start_time": "2024-10-13T07:59:44.787Z"
   },
   {
    "duration": 225,
    "start_time": "2024-10-13T07:59:44.828Z"
   },
   {
    "duration": 10,
    "start_time": "2024-10-13T07:59:45.054Z"
   },
   {
    "duration": 176,
    "start_time": "2024-10-13T07:59:45.065Z"
   },
   {
    "duration": 11,
    "start_time": "2024-10-13T07:59:45.242Z"
   },
   {
    "duration": 270,
    "start_time": "2024-10-13T07:59:45.254Z"
   },
   {
    "duration": 7,
    "start_time": "2024-10-13T07:59:45.525Z"
   },
   {
    "duration": 115,
    "start_time": "2024-10-13T07:59:45.534Z"
   },
   {
    "duration": 203,
    "start_time": "2024-10-13T07:59:45.650Z"
   },
   {
    "duration": 7,
    "start_time": "2024-10-13T07:59:45.854Z"
   },
   {
    "duration": 281,
    "start_time": "2024-10-13T07:59:45.863Z"
   },
   {
    "duration": 206,
    "start_time": "2024-10-13T07:59:46.146Z"
   },
   {
    "duration": 8,
    "start_time": "2024-10-13T07:59:46.353Z"
   },
   {
    "duration": 40,
    "start_time": "2024-10-13T07:59:46.362Z"
   },
   {
    "duration": 27,
    "start_time": "2024-10-13T07:59:46.404Z"
   },
   {
    "duration": 20,
    "start_time": "2024-10-13T07:59:46.433Z"
   },
   {
    "duration": 66,
    "start_time": "2024-10-13T07:59:46.455Z"
   },
   {
    "duration": 65,
    "start_time": "2024-10-13T07:59:46.522Z"
   },
   {
    "duration": 367,
    "start_time": "2024-10-13T07:59:46.589Z"
   },
   {
    "duration": 270,
    "start_time": "2024-10-13T07:59:46.957Z"
   },
   {
    "duration": 15,
    "start_time": "2024-10-13T07:59:47.228Z"
   },
   {
    "duration": 18,
    "start_time": "2024-10-13T07:59:47.245Z"
   },
   {
    "duration": 59,
    "start_time": "2024-10-13T07:59:47.265Z"
   },
   {
    "duration": 19,
    "start_time": "2024-10-13T07:59:47.328Z"
   },
   {
    "duration": 5,
    "start_time": "2024-10-13T07:59:47.349Z"
   },
   {
    "duration": 37,
    "start_time": "2024-10-13T07:59:47.355Z"
   },
   {
    "duration": 107,
    "start_time": "2024-10-13T07:59:47.393Z"
   },
   {
    "duration": 21,
    "start_time": "2024-10-13T07:59:47.502Z"
   },
   {
    "duration": 18,
    "start_time": "2024-10-13T07:59:47.525Z"
   },
   {
    "duration": 16,
    "start_time": "2024-10-13T07:59:47.544Z"
   },
   {
    "duration": 9,
    "start_time": "2024-10-13T07:59:47.561Z"
   },
   {
    "duration": 59,
    "start_time": "2024-10-13T08:24:24.141Z"
   },
   {
    "duration": 2,
    "start_time": "2024-10-13T08:25:25.046Z"
   },
   {
    "duration": 45,
    "start_time": "2024-10-13T08:25:25.050Z"
   },
   {
    "duration": 15,
    "start_time": "2024-10-13T08:25:25.096Z"
   },
   {
    "duration": 15,
    "start_time": "2024-10-13T08:25:25.113Z"
   },
   {
    "duration": 13,
    "start_time": "2024-10-13T08:25:25.131Z"
   },
   {
    "duration": 38,
    "start_time": "2024-10-13T08:25:25.145Z"
   },
   {
    "duration": 31,
    "start_time": "2024-10-13T08:25:25.185Z"
   },
   {
    "duration": 18,
    "start_time": "2024-10-13T08:25:25.219Z"
   },
   {
    "duration": 19,
    "start_time": "2024-10-13T08:25:25.238Z"
   },
   {
    "duration": 23,
    "start_time": "2024-10-13T08:25:25.259Z"
   },
   {
    "duration": 67,
    "start_time": "2024-10-13T08:25:25.286Z"
   },
   {
    "duration": 74,
    "start_time": "2024-10-13T08:25:25.355Z"
   },
   {
    "duration": 14,
    "start_time": "2024-10-13T08:25:25.430Z"
   },
   {
    "duration": 39,
    "start_time": "2024-10-13T08:25:25.446Z"
   },
   {
    "duration": 4,
    "start_time": "2024-10-13T08:25:25.487Z"
   },
   {
    "duration": 75,
    "start_time": "2024-10-13T08:25:25.493Z"
   },
   {
    "duration": 24,
    "start_time": "2024-10-13T08:25:25.569Z"
   },
   {
    "duration": 28,
    "start_time": "2024-10-13T08:25:25.594Z"
   },
   {
    "duration": 6,
    "start_time": "2024-10-13T08:25:25.624Z"
   },
   {
    "duration": 8,
    "start_time": "2024-10-13T08:25:25.631Z"
   },
   {
    "duration": 4,
    "start_time": "2024-10-13T08:25:25.640Z"
   },
   {
    "duration": 7,
    "start_time": "2024-10-13T08:25:25.645Z"
   },
   {
    "duration": 11,
    "start_time": "2024-10-13T08:25:25.653Z"
   },
   {
    "duration": 9,
    "start_time": "2024-10-13T08:25:25.665Z"
   },
   {
    "duration": 9,
    "start_time": "2024-10-13T08:25:25.675Z"
   },
   {
    "duration": 16,
    "start_time": "2024-10-13T08:25:25.685Z"
   },
   {
    "duration": 250,
    "start_time": "2024-10-13T08:25:25.702Z"
   },
   {
    "duration": 10,
    "start_time": "2024-10-13T08:25:25.954Z"
   },
   {
    "duration": 261,
    "start_time": "2024-10-13T08:25:25.967Z"
   },
   {
    "duration": 11,
    "start_time": "2024-10-13T08:25:26.229Z"
   },
   {
    "duration": 253,
    "start_time": "2024-10-13T08:25:26.241Z"
   },
   {
    "duration": 13,
    "start_time": "2024-10-13T08:25:26.496Z"
   },
   {
    "duration": 111,
    "start_time": "2024-10-13T08:25:26.514Z"
   },
   {
    "duration": 192,
    "start_time": "2024-10-13T08:25:26.627Z"
   },
   {
    "duration": 9,
    "start_time": "2024-10-13T08:25:26.822Z"
   },
   {
    "duration": 119,
    "start_time": "2024-10-13T08:25:26.832Z"
   },
   {
    "duration": 261,
    "start_time": "2024-10-13T08:25:26.952Z"
   },
   {
    "duration": 11,
    "start_time": "2024-10-13T08:25:27.222Z"
   },
   {
    "duration": 23,
    "start_time": "2024-10-13T08:25:27.235Z"
   },
   {
    "duration": 23,
    "start_time": "2024-10-13T08:25:27.260Z"
   },
   {
    "duration": 19,
    "start_time": "2024-10-13T08:25:27.285Z"
   },
   {
    "duration": 29,
    "start_time": "2024-10-13T08:25:27.305Z"
   },
   {
    "duration": 10,
    "start_time": "2024-10-13T08:25:27.336Z"
   },
   {
    "duration": 273,
    "start_time": "2024-10-13T08:25:27.348Z"
   },
   {
    "duration": 263,
    "start_time": "2024-10-13T08:25:27.625Z"
   },
   {
    "duration": 20,
    "start_time": "2024-10-13T08:25:27.889Z"
   },
   {
    "duration": 25,
    "start_time": "2024-10-13T08:25:27.911Z"
   },
   {
    "duration": 32,
    "start_time": "2024-10-13T08:25:27.938Z"
   },
   {
    "duration": 164,
    "start_time": "2024-10-13T08:25:27.972Z"
   },
   {
    "duration": 6,
    "start_time": "2024-10-13T08:25:28.137Z"
   },
   {
    "duration": 11,
    "start_time": "2024-10-13T08:25:28.144Z"
   },
   {
    "duration": 12,
    "start_time": "2024-10-13T08:25:28.157Z"
   },
   {
    "duration": 30,
    "start_time": "2024-10-13T08:25:28.171Z"
   },
   {
    "duration": 15,
    "start_time": "2024-10-13T08:25:28.202Z"
   },
   {
    "duration": 13,
    "start_time": "2024-10-13T08:25:28.219Z"
   },
   {
    "duration": 22,
    "start_time": "2024-10-13T08:25:28.233Z"
   },
   {
    "duration": 9,
    "start_time": "2024-10-13T08:25:33.085Z"
   },
   {
    "duration": 16,
    "start_time": "2024-10-13T08:27:05.905Z"
   },
   {
    "duration": 3,
    "start_time": "2024-10-13T08:27:48.706Z"
   },
   {
    "duration": 15,
    "start_time": "2024-10-13T08:28:06.011Z"
   },
   {
    "duration": 8,
    "start_time": "2024-10-13T08:28:26.504Z"
   },
   {
    "duration": 9,
    "start_time": "2024-10-13T08:29:19.417Z"
   },
   {
    "duration": 10,
    "start_time": "2024-10-13T08:30:49.451Z"
   },
   {
    "duration": 10,
    "start_time": "2024-10-13T08:32:18.436Z"
   },
   {
    "duration": 150,
    "start_time": "2024-10-13T08:33:23.370Z"
   },
   {
    "duration": 164,
    "start_time": "2024-10-13T08:33:39.473Z"
   },
   {
    "duration": 125,
    "start_time": "2024-10-13T08:33:53.256Z"
   },
   {
    "duration": 3,
    "start_time": "2024-10-13T08:37:04.367Z"
   },
   {
    "duration": 10,
    "start_time": "2024-10-13T08:44:19.371Z"
   },
   {
    "duration": 126,
    "start_time": "2024-10-13T08:44:27.620Z"
   },
   {
    "duration": 10,
    "start_time": "2024-10-13T09:30:02.859Z"
   },
   {
    "duration": 3,
    "start_time": "2024-10-13T09:30:34.443Z"
   },
   {
    "duration": 151,
    "start_time": "2024-10-13T09:30:52.327Z"
   },
   {
    "duration": 1102,
    "start_time": "2024-10-13T09:33:50.924Z"
   },
   {
    "duration": 955,
    "start_time": "2024-10-13T09:35:45.725Z"
   },
   {
    "duration": 117,
    "start_time": "2024-10-13T09:36:49.615Z"
   },
   {
    "duration": 135,
    "start_time": "2024-10-13T09:37:12.885Z"
   },
   {
    "duration": 152,
    "start_time": "2024-10-13T09:37:48.224Z"
   },
   {
    "duration": 193,
    "start_time": "2024-10-13T09:38:26.697Z"
   },
   {
    "duration": 151,
    "start_time": "2024-10-13T09:38:40.434Z"
   },
   {
    "duration": 8,
    "start_time": "2024-10-13T09:57:54.821Z"
   },
   {
    "duration": 4,
    "start_time": "2024-10-13T09:59:13.840Z"
   },
   {
    "duration": 5,
    "start_time": "2024-10-13T09:59:35.421Z"
   },
   {
    "duration": 4,
    "start_time": "2024-10-13T09:59:48.389Z"
   },
   {
    "duration": 4,
    "start_time": "2024-10-13T10:00:01.197Z"
   },
   {
    "duration": 4,
    "start_time": "2024-10-13T10:00:14.988Z"
   },
   {
    "duration": 4,
    "start_time": "2024-10-13T10:00:25.262Z"
   },
   {
    "duration": 4,
    "start_time": "2024-10-13T10:00:32.940Z"
   },
   {
    "duration": 3,
    "start_time": "2024-10-13T10:00:40.388Z"
   },
   {
    "duration": 158,
    "start_time": "2024-10-13T10:18:24.324Z"
   },
   {
    "duration": 4,
    "start_time": "2024-10-13T10:18:29.393Z"
   },
   {
    "duration": 5,
    "start_time": "2024-10-13T10:18:31.407Z"
   },
   {
    "duration": 2,
    "start_time": "2024-10-13T10:26:07.657Z"
   },
   {
    "duration": 32,
    "start_time": "2024-10-13T10:26:07.661Z"
   },
   {
    "duration": 12,
    "start_time": "2024-10-13T10:26:07.695Z"
   },
   {
    "duration": 16,
    "start_time": "2024-10-13T10:26:07.709Z"
   },
   {
    "duration": 17,
    "start_time": "2024-10-13T10:26:07.727Z"
   },
   {
    "duration": 10,
    "start_time": "2024-10-13T10:26:07.745Z"
   },
   {
    "duration": 39,
    "start_time": "2024-10-13T10:26:07.756Z"
   },
   {
    "duration": 24,
    "start_time": "2024-10-13T10:26:07.797Z"
   },
   {
    "duration": 16,
    "start_time": "2024-10-13T10:26:07.823Z"
   },
   {
    "duration": 9,
    "start_time": "2024-10-13T10:26:07.841Z"
   },
   {
    "duration": 23,
    "start_time": "2024-10-13T10:26:07.852Z"
   },
   {
    "duration": 32,
    "start_time": "2024-10-13T10:26:07.876Z"
   },
   {
    "duration": 26,
    "start_time": "2024-10-13T10:26:07.910Z"
   },
   {
    "duration": 8,
    "start_time": "2024-10-13T10:26:07.937Z"
   },
   {
    "duration": 29,
    "start_time": "2024-10-13T10:26:07.947Z"
   },
   {
    "duration": 60,
    "start_time": "2024-10-13T10:26:07.978Z"
   },
   {
    "duration": 41,
    "start_time": "2024-10-13T10:26:08.039Z"
   },
   {
    "duration": 17,
    "start_time": "2024-10-13T10:26:08.082Z"
   },
   {
    "duration": 11,
    "start_time": "2024-10-13T10:26:08.100Z"
   },
   {
    "duration": 8,
    "start_time": "2024-10-13T10:26:08.112Z"
   },
   {
    "duration": 12,
    "start_time": "2024-10-13T10:26:08.121Z"
   },
   {
    "duration": 8,
    "start_time": "2024-10-13T10:26:08.135Z"
   },
   {
    "duration": 9,
    "start_time": "2024-10-13T10:26:08.145Z"
   },
   {
    "duration": 19,
    "start_time": "2024-10-13T10:26:08.159Z"
   },
   {
    "duration": 8,
    "start_time": "2024-10-13T10:26:08.179Z"
   },
   {
    "duration": 20,
    "start_time": "2024-10-13T10:26:08.188Z"
   },
   {
    "duration": 16,
    "start_time": "2024-10-13T10:26:08.210Z"
   },
   {
    "duration": 232,
    "start_time": "2024-10-13T10:26:08.228Z"
   },
   {
    "duration": 11,
    "start_time": "2024-10-13T10:26:08.461Z"
   },
   {
    "duration": 142,
    "start_time": "2024-10-13T10:26:08.473Z"
   },
   {
    "duration": 11,
    "start_time": "2024-10-13T10:26:08.616Z"
   },
   {
    "duration": 437,
    "start_time": "2024-10-13T10:26:08.629Z"
   },
   {
    "duration": 7,
    "start_time": "2024-10-13T10:26:09.067Z"
   },
   {
    "duration": 133,
    "start_time": "2024-10-13T10:26:09.075Z"
   },
   {
    "duration": 250,
    "start_time": "2024-10-13T10:26:09.209Z"
   },
   {
    "duration": 9,
    "start_time": "2024-10-13T10:26:09.461Z"
   },
   {
    "duration": 149,
    "start_time": "2024-10-13T10:26:09.472Z"
   },
   {
    "duration": 233,
    "start_time": "2024-10-13T10:26:09.622Z"
   },
   {
    "duration": 10,
    "start_time": "2024-10-13T10:26:09.857Z"
   },
   {
    "duration": 48,
    "start_time": "2024-10-13T10:26:09.868Z"
   },
   {
    "duration": 6,
    "start_time": "2024-10-13T10:26:09.919Z"
   },
   {
    "duration": 10,
    "start_time": "2024-10-13T10:26:09.926Z"
   },
   {
    "duration": 141,
    "start_time": "2024-10-13T10:26:09.938Z"
   },
   {
    "duration": 22,
    "start_time": "2024-10-13T10:26:10.080Z"
   },
   {
    "duration": 278,
    "start_time": "2024-10-13T10:26:10.103Z"
   },
   {
    "duration": 251,
    "start_time": "2024-10-13T10:26:10.383Z"
   },
   {
    "duration": 14,
    "start_time": "2024-10-13T10:26:10.635Z"
   },
   {
    "duration": 113,
    "start_time": "2024-10-13T10:26:10.652Z"
   },
   {
    "duration": 68,
    "start_time": "2024-10-13T10:26:10.766Z"
   },
   {
    "duration": 17,
    "start_time": "2024-10-13T10:26:10.835Z"
   },
   {
    "duration": 45,
    "start_time": "2024-10-13T10:26:10.853Z"
   },
   {
    "duration": 7,
    "start_time": "2024-10-13T10:26:10.900Z"
   },
   {
    "duration": 7,
    "start_time": "2024-10-13T10:26:10.909Z"
   },
   {
    "duration": 16,
    "start_time": "2024-10-13T10:26:10.918Z"
   },
   {
    "duration": 11,
    "start_time": "2024-10-13T10:26:10.936Z"
   },
   {
    "duration": 13,
    "start_time": "2024-10-13T10:26:10.948Z"
   },
   {
    "duration": 44,
    "start_time": "2024-10-13T10:26:10.963Z"
   },
   {
    "duration": 278,
    "start_time": "2024-10-13T10:26:11.008Z"
   },
   {
    "duration": 4,
    "start_time": "2024-10-13T10:26:11.288Z"
   },
   {
    "duration": 13,
    "start_time": "2024-10-13T10:26:11.294Z"
   },
   {
    "duration": 143,
    "start_time": "2024-10-13T10:26:11.308Z"
   },
   {
    "duration": 5,
    "start_time": "2024-10-13T10:26:11.452Z"
   },
   {
    "duration": 315,
    "start_time": "2024-10-13T10:35:41.345Z"
   },
   {
    "duration": 2,
    "start_time": "2024-10-13T10:35:41.662Z"
   },
   {
    "duration": 5,
    "start_time": "2024-10-13T10:35:41.665Z"
   },
   {
    "duration": 5,
    "start_time": "2024-10-13T10:35:41.671Z"
   },
   {
    "duration": 4,
    "start_time": "2024-10-13T10:35:41.677Z"
   },
   {
    "duration": 8,
    "start_time": "2024-10-13T10:35:41.682Z"
   },
   {
    "duration": 16,
    "start_time": "2024-10-13T10:35:41.691Z"
   },
   {
    "duration": 30,
    "start_time": "2024-10-13T10:35:41.708Z"
   },
   {
    "duration": 32,
    "start_time": "2024-10-13T10:35:41.740Z"
   },
   {
    "duration": 15,
    "start_time": "2024-10-13T10:35:41.774Z"
   },
   {
    "duration": 12,
    "start_time": "2024-10-13T10:35:41.791Z"
   },
   {
    "duration": 14,
    "start_time": "2024-10-13T10:35:41.805Z"
   },
   {
    "duration": 8,
    "start_time": "2024-10-13T10:35:41.820Z"
   },
   {
    "duration": 19,
    "start_time": "2024-10-13T10:35:41.832Z"
   },
   {
    "duration": 35,
    "start_time": "2024-10-13T10:35:41.852Z"
   },
   {
    "duration": 29,
    "start_time": "2024-10-13T10:35:41.889Z"
   },
   {
    "duration": 88,
    "start_time": "2024-10-13T10:35:41.920Z"
   },
   {
    "duration": 77,
    "start_time": "2024-10-13T10:35:42.010Z"
   },
   {
    "duration": 27,
    "start_time": "2024-10-13T10:35:42.089Z"
   },
   {
    "duration": 10,
    "start_time": "2024-10-13T10:35:42.117Z"
   },
   {
    "duration": 6,
    "start_time": "2024-10-13T10:35:42.129Z"
   },
   {
    "duration": 9,
    "start_time": "2024-10-13T10:35:42.137Z"
   },
   {
    "duration": 5,
    "start_time": "2024-10-13T10:35:42.148Z"
   },
   {
    "duration": 11,
    "start_time": "2024-10-13T10:35:42.155Z"
   },
   {
    "duration": 10,
    "start_time": "2024-10-13T10:35:42.167Z"
   },
   {
    "duration": 7,
    "start_time": "2024-10-13T10:35:42.178Z"
   },
   {
    "duration": 25,
    "start_time": "2024-10-13T10:35:42.186Z"
   },
   {
    "duration": 27,
    "start_time": "2024-10-13T10:35:42.213Z"
   },
   {
    "duration": 267,
    "start_time": "2024-10-13T10:35:42.242Z"
   },
   {
    "duration": 10,
    "start_time": "2024-10-13T10:35:42.510Z"
   },
   {
    "duration": 144,
    "start_time": "2024-10-13T10:35:42.521Z"
   },
   {
    "duration": 11,
    "start_time": "2024-10-13T10:35:42.668Z"
   },
   {
    "duration": 238,
    "start_time": "2024-10-13T10:36:00.334Z"
   },
   {
    "duration": 3,
    "start_time": "2024-10-13T10:37:35.956Z"
   },
   {
    "duration": 38,
    "start_time": "2024-10-13T10:37:35.962Z"
   },
   {
    "duration": 21,
    "start_time": "2024-10-13T10:37:36.003Z"
   },
   {
    "duration": 14,
    "start_time": "2024-10-13T10:37:36.026Z"
   },
   {
    "duration": 13,
    "start_time": "2024-10-13T10:37:36.041Z"
   },
   {
    "duration": 42,
    "start_time": "2024-10-13T10:37:36.057Z"
   },
   {
    "duration": 37,
    "start_time": "2024-10-13T10:37:36.101Z"
   },
   {
    "duration": 32,
    "start_time": "2024-10-13T10:37:36.140Z"
   },
   {
    "duration": 16,
    "start_time": "2024-10-13T10:37:36.174Z"
   },
   {
    "duration": 15,
    "start_time": "2024-10-13T10:37:36.196Z"
   },
   {
    "duration": 19,
    "start_time": "2024-10-13T10:37:36.213Z"
   },
   {
    "duration": 49,
    "start_time": "2024-10-13T10:37:36.234Z"
   },
   {
    "duration": 37,
    "start_time": "2024-10-13T10:37:36.285Z"
   },
   {
    "duration": 9,
    "start_time": "2024-10-13T10:37:36.324Z"
   },
   {
    "duration": 11,
    "start_time": "2024-10-13T10:37:36.336Z"
   },
   {
    "duration": 4,
    "start_time": "2024-10-13T10:37:36.349Z"
   },
   {
    "duration": 48,
    "start_time": "2024-10-13T10:37:36.354Z"
   },
   {
    "duration": 18,
    "start_time": "2024-10-13T10:37:36.404Z"
   },
   {
    "duration": 23,
    "start_time": "2024-10-13T10:37:36.424Z"
   },
   {
    "duration": 9,
    "start_time": "2024-10-13T10:37:36.449Z"
   },
   {
    "duration": 49,
    "start_time": "2024-10-13T10:37:36.460Z"
   },
   {
    "duration": 12,
    "start_time": "2024-10-13T10:37:36.511Z"
   },
   {
    "duration": 25,
    "start_time": "2024-10-13T10:37:36.525Z"
   },
   {
    "duration": 39,
    "start_time": "2024-10-13T10:37:36.552Z"
   },
   {
    "duration": 101,
    "start_time": "2024-10-13T10:37:36.593Z"
   },
   {
    "duration": 67,
    "start_time": "2024-10-13T10:37:36.696Z"
   },
   {
    "duration": 23,
    "start_time": "2024-10-13T10:37:36.765Z"
   },
   {
    "duration": 327,
    "start_time": "2024-10-13T10:37:36.790Z"
   },
   {
    "duration": 11,
    "start_time": "2024-10-13T10:37:37.118Z"
   },
   {
    "duration": 147,
    "start_time": "2024-10-13T10:37:37.130Z"
   },
   {
    "duration": 14,
    "start_time": "2024-10-13T10:37:37.278Z"
   },
   {
    "duration": 332,
    "start_time": "2024-10-13T10:37:37.294Z"
   },
   {
    "duration": 9,
    "start_time": "2024-10-13T10:37:37.628Z"
   },
   {
    "duration": 132,
    "start_time": "2024-10-13T10:37:37.640Z"
   },
   {
    "duration": 184,
    "start_time": "2024-10-13T10:37:37.773Z"
   },
   {
    "duration": 7,
    "start_time": "2024-10-13T10:37:37.959Z"
   },
   {
    "duration": 184,
    "start_time": "2024-10-13T10:37:37.967Z"
   },
   {
    "duration": 222,
    "start_time": "2024-10-13T10:37:38.153Z"
   },
   {
    "duration": 11,
    "start_time": "2024-10-13T10:37:38.376Z"
   },
   {
    "duration": 40,
    "start_time": "2024-10-13T10:37:38.388Z"
   },
   {
    "duration": 13,
    "start_time": "2024-10-13T10:37:38.430Z"
   },
   {
    "duration": 12,
    "start_time": "2024-10-13T10:37:38.449Z"
   },
   {
    "duration": 39,
    "start_time": "2024-10-13T10:37:38.463Z"
   },
   {
    "duration": 28,
    "start_time": "2024-10-13T10:37:38.503Z"
   },
   {
    "duration": 279,
    "start_time": "2024-10-13T10:37:38.533Z"
   },
   {
    "duration": 279,
    "start_time": "2024-10-13T10:37:38.833Z"
   },
   {
    "duration": 20,
    "start_time": "2024-10-13T10:37:39.115Z"
   },
   {
    "duration": 38,
    "start_time": "2024-10-13T10:37:39.136Z"
   },
   {
    "duration": 41,
    "start_time": "2024-10-13T10:37:39.176Z"
   },
   {
    "duration": 27,
    "start_time": "2024-10-13T10:37:39.219Z"
   },
   {
    "duration": 8,
    "start_time": "2024-10-13T10:37:39.248Z"
   },
   {
    "duration": 89,
    "start_time": "2024-10-13T10:37:39.258Z"
   },
   {
    "duration": 21,
    "start_time": "2024-10-13T10:37:39.348Z"
   },
   {
    "duration": 16,
    "start_time": "2024-10-13T10:37:39.371Z"
   },
   {
    "duration": 13,
    "start_time": "2024-10-13T10:37:39.389Z"
   },
   {
    "duration": 15,
    "start_time": "2024-10-13T10:37:39.404Z"
   },
   {
    "duration": 7,
    "start_time": "2024-10-13T10:37:39.421Z"
   },
   {
    "duration": 178,
    "start_time": "2024-10-13T10:37:39.429Z"
   },
   {
    "duration": 4,
    "start_time": "2024-10-13T10:37:39.608Z"
   },
   {
    "duration": 7,
    "start_time": "2024-10-13T10:37:39.614Z"
   },
   {
    "duration": 184,
    "start_time": "2024-10-13T10:37:39.623Z"
   },
   {
    "duration": 4,
    "start_time": "2024-10-13T10:37:39.809Z"
   },
   {
    "duration": 159,
    "start_time": "2024-10-13T10:42:40.965Z"
   },
   {
    "duration": 105,
    "start_time": "2024-10-13T10:45:23.751Z"
   },
   {
    "duration": 26,
    "start_time": "2024-10-13T10:45:52.765Z"
   },
   {
    "duration": 252,
    "start_time": "2024-10-13T10:46:11.713Z"
   },
   {
    "duration": 455,
    "start_time": "2024-10-13T11:12:39.167Z"
   },
   {
    "duration": 452,
    "start_time": "2024-10-13T11:12:39.624Z"
   },
   {
    "duration": 3,
    "start_time": "2024-10-13T11:12:40.078Z"
   },
   {
    "duration": 485,
    "start_time": "2024-10-13T11:12:40.083Z"
   },
   {
    "duration": 3,
    "start_time": "2024-10-13T11:12:40.570Z"
   },
   {
    "duration": 5,
    "start_time": "2024-10-13T11:12:40.575Z"
   },
   {
    "duration": 90,
    "start_time": "2024-10-13T11:12:40.582Z"
   },
   {
    "duration": 148,
    "start_time": "2024-10-13T11:12:40.674Z"
   },
   {
    "duration": 68,
    "start_time": "2024-10-13T11:12:40.824Z"
   },
   {
    "duration": 13,
    "start_time": "2024-10-13T11:12:40.894Z"
   },
   {
    "duration": 12,
    "start_time": "2024-10-13T11:12:40.909Z"
   },
   {
    "duration": 12,
    "start_time": "2024-10-13T11:12:40.923Z"
   },
   {
    "duration": 13,
    "start_time": "2024-10-13T11:12:40.936Z"
   },
   {
    "duration": 8,
    "start_time": "2024-10-13T11:12:40.953Z"
   },
   {
    "duration": 10,
    "start_time": "2024-10-13T11:12:40.963Z"
   },
   {
    "duration": 143,
    "start_time": "2024-10-13T11:12:40.975Z"
   },
   {
    "duration": 12,
    "start_time": "2024-10-13T11:12:41.120Z"
   },
   {
    "duration": 10,
    "start_time": "2024-10-13T11:12:41.134Z"
   },
   {
    "duration": 8,
    "start_time": "2024-10-13T11:12:41.146Z"
   },
   {
    "duration": 10,
    "start_time": "2024-10-13T11:12:41.156Z"
   },
   {
    "duration": 14,
    "start_time": "2024-10-13T11:12:41.168Z"
   },
   {
    "duration": 16,
    "start_time": "2024-10-13T11:12:41.184Z"
   },
   {
    "duration": 10,
    "start_time": "2024-10-13T11:12:41.201Z"
   },
   {
    "duration": 13,
    "start_time": "2024-10-13T11:12:41.213Z"
   },
   {
    "duration": 29,
    "start_time": "2024-10-13T11:12:41.227Z"
   },
   {
    "duration": 8,
    "start_time": "2024-10-13T11:12:41.259Z"
   },
   {
    "duration": 39,
    "start_time": "2024-10-13T11:12:41.269Z"
   },
   {
    "duration": 301,
    "start_time": "2024-10-13T11:12:41.310Z"
   },
   {
    "duration": 12,
    "start_time": "2024-10-13T11:12:41.613Z"
   },
   {
    "duration": 169,
    "start_time": "2024-10-13T11:12:41.627Z"
   },
   {
    "duration": 14,
    "start_time": "2024-10-13T11:12:41.798Z"
   },
   {
    "duration": 336,
    "start_time": "2024-10-13T11:12:41.814Z"
   },
   {
    "duration": 9,
    "start_time": "2024-10-13T11:12:42.155Z"
   },
   {
    "duration": 141,
    "start_time": "2024-10-13T11:12:42.166Z"
   },
   {
    "duration": 246,
    "start_time": "2024-10-13T11:12:42.309Z"
   },
   {
    "duration": 11,
    "start_time": "2024-10-13T11:12:42.557Z"
   },
   {
    "duration": 147,
    "start_time": "2024-10-13T11:12:42.570Z"
   },
   {
    "duration": 267,
    "start_time": "2024-10-13T11:12:42.719Z"
   },
   {
    "duration": 14,
    "start_time": "2024-10-13T11:12:42.988Z"
   },
   {
    "duration": 108,
    "start_time": "2024-10-13T11:12:43.005Z"
   },
   {
    "duration": 11,
    "start_time": "2024-10-13T11:12:43.120Z"
   },
   {
    "duration": 7,
    "start_time": "2024-10-13T11:12:43.133Z"
   },
   {
    "duration": 22,
    "start_time": "2024-10-13T11:12:43.142Z"
   },
   {
    "duration": 15,
    "start_time": "2024-10-13T11:12:43.166Z"
   },
   {
    "duration": 424,
    "start_time": "2024-10-13T11:12:43.183Z"
   },
   {
    "duration": 328,
    "start_time": "2024-10-13T11:12:43.609Z"
   },
   {
    "duration": 20,
    "start_time": "2024-10-13T11:12:43.938Z"
   },
   {
    "duration": 24,
    "start_time": "2024-10-13T11:12:43.960Z"
   },
   {
    "duration": 45,
    "start_time": "2024-10-13T11:12:43.986Z"
   },
   {
    "duration": 40,
    "start_time": "2024-10-13T11:12:44.033Z"
   },
   {
    "duration": 7,
    "start_time": "2024-10-13T11:12:44.075Z"
   },
   {
    "duration": 6,
    "start_time": "2024-10-13T11:12:44.084Z"
   },
   {
    "duration": 31,
    "start_time": "2024-10-13T11:12:44.091Z"
   },
   {
    "duration": 14,
    "start_time": "2024-10-13T11:12:44.123Z"
   },
   {
    "duration": 5,
    "start_time": "2024-10-13T11:12:44.139Z"
   },
   {
    "duration": 18,
    "start_time": "2024-10-13T11:12:44.146Z"
   },
   {
    "duration": 8,
    "start_time": "2024-10-13T11:12:44.166Z"
   },
   {
    "duration": 227,
    "start_time": "2024-10-13T11:12:44.176Z"
   },
   {
    "duration": 5,
    "start_time": "2024-10-13T11:12:44.405Z"
   },
   {
    "duration": 40,
    "start_time": "2024-10-13T11:12:44.411Z"
   },
   {
    "duration": 172,
    "start_time": "2024-10-13T11:12:44.453Z"
   },
   {
    "duration": 4,
    "start_time": "2024-10-13T11:12:44.627Z"
   },
   {
    "duration": 6,
    "start_time": "2024-10-13T11:45:58.680Z"
   },
   {
    "duration": 4,
    "start_time": "2024-10-13T11:46:09.744Z"
   },
   {
    "duration": 4,
    "start_time": "2024-10-13T11:46:16.192Z"
   },
   {
    "duration": 4,
    "start_time": "2024-10-13T11:46:22.336Z"
   },
   {
    "duration": 4,
    "start_time": "2024-10-13T11:46:28.368Z"
   },
   {
    "duration": 5,
    "start_time": "2024-10-13T11:46:32.848Z"
   },
   {
    "duration": 4,
    "start_time": "2024-10-13T11:46:45.279Z"
   },
   {
    "duration": 4,
    "start_time": "2024-10-13T11:46:48.160Z"
   },
   {
    "duration": 4,
    "start_time": "2024-10-13T11:47:06.193Z"
   },
   {
    "duration": 5,
    "start_time": "2024-10-13T11:47:11.712Z"
   },
   {
    "duration": 4,
    "start_time": "2024-10-13T11:50:24.871Z"
   },
   {
    "duration": 471,
    "start_time": "2024-10-13T11:52:40.551Z"
   },
   {
    "duration": 304,
    "start_time": "2024-10-13T11:52:41.024Z"
   },
   {
    "duration": 3,
    "start_time": "2024-10-13T11:52:41.330Z"
   },
   {
    "duration": 517,
    "start_time": "2024-10-13T11:52:41.335Z"
   },
   {
    "duration": 3,
    "start_time": "2024-10-13T11:52:41.856Z"
   },
   {
    "duration": 8,
    "start_time": "2024-10-13T11:52:41.861Z"
   },
   {
    "duration": 35,
    "start_time": "2024-10-13T11:52:41.872Z"
   },
   {
    "duration": 40,
    "start_time": "2024-10-13T11:52:41.909Z"
   },
   {
    "duration": 15,
    "start_time": "2024-10-13T11:52:41.951Z"
   },
   {
    "duration": 15,
    "start_time": "2024-10-13T11:52:41.970Z"
   },
   {
    "duration": 13,
    "start_time": "2024-10-13T11:52:41.987Z"
   },
   {
    "duration": 11,
    "start_time": "2024-10-13T11:52:42.002Z"
   },
   {
    "duration": 13,
    "start_time": "2024-10-13T11:52:42.015Z"
   },
   {
    "duration": 40,
    "start_time": "2024-10-13T11:52:42.030Z"
   },
   {
    "duration": 9,
    "start_time": "2024-10-13T11:52:42.072Z"
   },
   {
    "duration": 5,
    "start_time": "2024-10-13T11:52:42.082Z"
   },
   {
    "duration": 19,
    "start_time": "2024-10-13T11:52:42.089Z"
   },
   {
    "duration": 8,
    "start_time": "2024-10-13T11:52:42.110Z"
   },
   {
    "duration": 6,
    "start_time": "2024-10-13T11:52:42.120Z"
   },
   {
    "duration": 7,
    "start_time": "2024-10-13T11:52:42.156Z"
   },
   {
    "duration": 23,
    "start_time": "2024-10-13T11:52:42.164Z"
   },
   {
    "duration": 15,
    "start_time": "2024-10-13T11:52:42.191Z"
   },
   {
    "duration": 10,
    "start_time": "2024-10-13T11:52:42.208Z"
   },
   {
    "duration": 46,
    "start_time": "2024-10-13T11:52:42.220Z"
   },
   {
    "duration": 7,
    "start_time": "2024-10-13T11:52:42.268Z"
   },
   {
    "duration": 19,
    "start_time": "2024-10-13T11:52:42.277Z"
   },
   {
    "duration": 20,
    "start_time": "2024-10-13T11:52:42.298Z"
   },
   {
    "duration": 345,
    "start_time": "2024-10-13T11:52:42.325Z"
   },
   {
    "duration": 14,
    "start_time": "2024-10-13T11:52:42.673Z"
   },
   {
    "duration": 184,
    "start_time": "2024-10-13T11:52:42.690Z"
   },
   {
    "duration": 13,
    "start_time": "2024-10-13T11:52:42.876Z"
   },
   {
    "duration": 339,
    "start_time": "2024-10-13T11:52:42.891Z"
   },
   {
    "duration": 11,
    "start_time": "2024-10-13T11:52:43.232Z"
   },
   {
    "duration": 147,
    "start_time": "2024-10-13T11:52:43.256Z"
   },
   {
    "duration": 256,
    "start_time": "2024-10-13T11:52:43.404Z"
   },
   {
    "duration": 10,
    "start_time": "2024-10-13T11:52:43.662Z"
   },
   {
    "duration": 156,
    "start_time": "2024-10-13T11:52:43.674Z"
   },
   {
    "duration": 265,
    "start_time": "2024-10-13T11:52:43.831Z"
   },
   {
    "duration": 16,
    "start_time": "2024-10-13T11:52:44.098Z"
   },
   {
    "duration": 21,
    "start_time": "2024-10-13T11:52:44.116Z"
   },
   {
    "duration": 23,
    "start_time": "2024-10-13T11:52:44.139Z"
   },
   {
    "duration": 37,
    "start_time": "2024-10-13T11:52:44.164Z"
   },
   {
    "duration": 24,
    "start_time": "2024-10-13T11:52:44.203Z"
   },
   {
    "duration": 18,
    "start_time": "2024-10-13T11:52:44.229Z"
   },
   {
    "duration": 413,
    "start_time": "2024-10-13T11:52:44.256Z"
   },
   {
    "duration": 338,
    "start_time": "2024-10-13T11:52:44.671Z"
   },
   {
    "duration": 17,
    "start_time": "2024-10-13T11:52:45.012Z"
   },
   {
    "duration": 56,
    "start_time": "2024-10-13T11:52:45.031Z"
   },
   {
    "duration": 57,
    "start_time": "2024-10-13T11:52:45.089Z"
   },
   {
    "duration": 83,
    "start_time": "2024-10-13T11:52:45.148Z"
   },
   {
    "duration": 22,
    "start_time": "2024-10-13T11:52:45.233Z"
   },
   {
    "duration": 26,
    "start_time": "2024-10-13T11:52:45.257Z"
   },
   {
    "duration": 41,
    "start_time": "2024-10-13T11:52:45.285Z"
   },
   {
    "duration": 25,
    "start_time": "2024-10-13T11:52:45.328Z"
   },
   {
    "duration": 19,
    "start_time": "2024-10-13T11:52:45.355Z"
   },
   {
    "duration": 49,
    "start_time": "2024-10-13T11:52:45.376Z"
   },
   {
    "duration": 34,
    "start_time": "2024-10-13T11:52:45.427Z"
   },
   {
    "duration": 220,
    "start_time": "2024-10-13T11:52:45.463Z"
   },
   {
    "duration": 5,
    "start_time": "2024-10-13T11:52:45.684Z"
   },
   {
    "duration": 18,
    "start_time": "2024-10-13T11:52:45.691Z"
   },
   {
    "duration": 181,
    "start_time": "2024-10-13T11:52:45.711Z"
   },
   {
    "duration": 4,
    "start_time": "2024-10-13T11:52:45.894Z"
   },
   {
    "duration": 430,
    "start_time": "2024-10-13T15:44:04.052Z"
   },
   {
    "duration": 392,
    "start_time": "2024-10-13T15:44:05.679Z"
   },
   {
    "duration": 3,
    "start_time": "2024-10-13T15:44:06.482Z"
   },
   {
    "duration": 484,
    "start_time": "2024-10-13T15:44:07.161Z"
   },
   {
    "duration": 3,
    "start_time": "2024-10-13T15:44:07.694Z"
   },
   {
    "duration": 2,
    "start_time": "2024-10-13T15:44:09.005Z"
   },
   {
    "duration": 108,
    "start_time": "2024-10-13T15:44:14.811Z"
   },
   {
    "duration": 174,
    "start_time": "2024-10-13T15:44:15.964Z"
   },
   {
    "duration": 82,
    "start_time": "2024-10-13T15:44:17.148Z"
   },
   {
    "duration": 13,
    "start_time": "2024-10-13T15:44:18.575Z"
   },
   {
    "duration": 12,
    "start_time": "2024-10-13T15:44:20.435Z"
   },
   {
    "duration": 9,
    "start_time": "2024-10-13T15:44:22.467Z"
   },
   {
    "duration": 11,
    "start_time": "2024-10-13T15:44:23.864Z"
   },
   {
    "duration": 7,
    "start_time": "2024-10-13T15:44:27.385Z"
   },
   {
    "duration": 7,
    "start_time": "2024-10-13T15:44:32.312Z"
   },
   {
    "duration": 5,
    "start_time": "2024-10-13T15:44:35.434Z"
   },
   {
    "duration": 9,
    "start_time": "2024-10-13T15:44:37.521Z"
   },
   {
    "duration": 7,
    "start_time": "2024-10-13T15:44:40.095Z"
   },
   {
    "duration": 6,
    "start_time": "2024-10-13T15:44:41.828Z"
   },
   {
    "duration": 6,
    "start_time": "2024-10-13T15:44:45.382Z"
   },
   {
    "duration": 8,
    "start_time": "2024-10-13T15:44:45.913Z"
   },
   {
    "duration": 5,
    "start_time": "2024-10-13T15:44:47.416Z"
   },
   {
    "duration": 7,
    "start_time": "2024-10-13T15:44:51.034Z"
   },
   {
    "duration": 10,
    "start_time": "2024-10-13T15:44:53.441Z"
   },
   {
    "duration": 5,
    "start_time": "2024-10-13T15:44:55.291Z"
   },
   {
    "duration": 4,
    "start_time": "2024-10-13T15:45:01.818Z"
   },
   {
    "duration": 13,
    "start_time": "2024-10-13T15:45:03.536Z"
   },
   {
    "duration": 270,
    "start_time": "2024-10-13T15:45:07.714Z"
   },
   {
    "duration": 177,
    "start_time": "2024-10-13T15:45:10.241Z"
   },
   {
    "duration": 12,
    "start_time": "2024-10-13T15:49:14.331Z"
   },
   {
    "duration": 139,
    "start_time": "2024-10-13T15:49:17.223Z"
   },
   {
    "duration": 13,
    "start_time": "2024-10-13T15:49:22.181Z"
   },
   {
    "duration": 293,
    "start_time": "2024-10-13T15:49:25.052Z"
   },
   {
    "duration": 8,
    "start_time": "2024-10-13T15:49:31.301Z"
   },
   {
    "duration": 118,
    "start_time": "2024-10-13T15:49:38.342Z"
   },
   {
    "duration": 139,
    "start_time": "2024-10-13T15:54:24.948Z"
   },
   {
    "duration": 140,
    "start_time": "2024-10-13T15:58:01.385Z"
   },
   {
    "duration": 279,
    "start_time": "2024-10-13T15:58:04.225Z"
   },
   {
    "duration": 10,
    "start_time": "2024-10-13T15:58:09.971Z"
   },
   {
    "duration": 145,
    "start_time": "2024-10-13T15:59:21.008Z"
   },
   {
    "duration": 235,
    "start_time": "2024-10-13T15:59:33.974Z"
   },
   {
    "duration": 11,
    "start_time": "2024-10-13T15:59:39.094Z"
   },
   {
    "duration": 14,
    "start_time": "2024-10-13T15:59:40.336Z"
   },
   {
    "duration": 6,
    "start_time": "2024-10-13T15:59:41.773Z"
   },
   {
    "duration": 5,
    "start_time": "2024-10-13T15:59:42.304Z"
   },
   {
    "duration": 12,
    "start_time": "2024-10-13T15:59:43.340Z"
   },
   {
    "duration": 11,
    "start_time": "2024-10-13T15:59:43.859Z"
   },
   {
    "duration": 271,
    "start_time": "2024-10-13T15:59:47.149Z"
   },
   {
    "duration": 317,
    "start_time": "2024-10-13T15:59:50.472Z"
   },
   {
    "duration": 15,
    "start_time": "2024-10-13T15:59:58.514Z"
   },
   {
    "duration": 22,
    "start_time": "2024-10-13T16:00:00.670Z"
   },
   {
    "duration": 39,
    "start_time": "2024-10-13T16:00:04.813Z"
   },
   {
    "duration": 30,
    "start_time": "2024-10-13T16:00:08.228Z"
   },
   {
    "duration": 7,
    "start_time": "2024-10-13T16:00:15.326Z"
   },
   {
    "duration": 6,
    "start_time": "2024-10-13T16:00:22.901Z"
   },
   {
    "duration": 5,
    "start_time": "2024-10-13T16:00:27.332Z"
   },
   {
    "duration": 11,
    "start_time": "2024-10-13T16:00:27.871Z"
   },
   {
    "duration": 4,
    "start_time": "2024-10-13T16:00:28.996Z"
   },
   {
    "duration": 12,
    "start_time": "2024-10-13T16:00:29.540Z"
   },
   {
    "duration": 9,
    "start_time": "2024-10-13T16:00:31.420Z"
   },
   {
    "duration": 193,
    "start_time": "2024-10-13T16:00:37.772Z"
   },
   {
    "duration": 4,
    "start_time": "2024-10-13T16:00:40.174Z"
   },
   {
    "duration": 4,
    "start_time": "2024-10-13T16:00:41.198Z"
   },
   {
    "duration": 136,
    "start_time": "2024-10-13T16:00:46.606Z"
   },
   {
    "duration": 3,
    "start_time": "2024-10-13T16:00:47.792Z"
   },
   {
    "duration": 3,
    "start_time": "2024-10-13T16:01:26.389Z"
   },
   {
    "duration": 4,
    "start_time": "2024-10-13T16:01:46.019Z"
   },
   {
    "duration": 3,
    "start_time": "2024-10-13T16:02:19.836Z"
   },
   {
    "duration": 3,
    "start_time": "2024-10-13T16:02:29.495Z"
   },
   {
    "duration": 4,
    "start_time": "2024-10-13T16:02:44.659Z"
   },
   {
    "duration": 6,
    "start_time": "2024-10-13T16:20:01.579Z"
   },
   {
    "duration": 8,
    "start_time": "2024-10-13T16:20:10.575Z"
   },
   {
    "duration": 411,
    "start_time": "2024-10-14T14:23:43.888Z"
   },
   {
    "duration": 226,
    "start_time": "2024-10-14T14:23:44.301Z"
   },
   {
    "duration": 3,
    "start_time": "2024-10-14T14:23:44.529Z"
   },
   {
    "duration": 476,
    "start_time": "2024-10-14T14:23:44.533Z"
   },
   {
    "duration": 2,
    "start_time": "2024-10-14T14:23:45.011Z"
   },
   {
    "duration": 38,
    "start_time": "2024-10-14T14:23:45.015Z"
   },
   {
    "duration": 101,
    "start_time": "2024-10-14T14:23:45.054Z"
   },
   {
    "duration": 156,
    "start_time": "2024-10-14T14:23:45.157Z"
   },
   {
    "duration": 68,
    "start_time": "2024-10-14T14:23:45.315Z"
   },
   {
    "duration": 12,
    "start_time": "2024-10-14T14:23:45.384Z"
   },
   {
    "duration": 23,
    "start_time": "2024-10-14T14:23:45.397Z"
   },
   {
    "duration": 19,
    "start_time": "2024-10-14T14:23:45.421Z"
   },
   {
    "duration": 11,
    "start_time": "2024-10-14T14:23:45.442Z"
   },
   {
    "duration": 10,
    "start_time": "2024-10-14T14:23:45.457Z"
   },
   {
    "duration": 8,
    "start_time": "2024-10-14T14:23:45.469Z"
   },
   {
    "duration": 4,
    "start_time": "2024-10-14T14:23:45.479Z"
   },
   {
    "duration": 12,
    "start_time": "2024-10-14T14:23:45.484Z"
   },
   {
    "duration": 10,
    "start_time": "2024-10-14T14:23:45.498Z"
   },
   {
    "duration": 17,
    "start_time": "2024-10-14T14:23:45.509Z"
   },
   {
    "duration": 23,
    "start_time": "2024-10-14T14:23:45.527Z"
   },
   {
    "duration": 11,
    "start_time": "2024-10-14T14:23:45.553Z"
   },
   {
    "duration": 6,
    "start_time": "2024-10-14T14:23:45.565Z"
   },
   {
    "duration": 26,
    "start_time": "2024-10-14T14:23:45.573Z"
   },
   {
    "duration": 14,
    "start_time": "2024-10-14T14:23:45.600Z"
   },
   {
    "duration": 29,
    "start_time": "2024-10-14T14:23:45.615Z"
   },
   {
    "duration": 11,
    "start_time": "2024-10-14T14:23:45.645Z"
   },
   {
    "duration": 23,
    "start_time": "2024-10-14T14:23:45.657Z"
   },
   {
    "duration": 269,
    "start_time": "2024-10-14T14:23:45.682Z"
   },
   {
    "duration": 182,
    "start_time": "2024-10-14T14:23:45.952Z"
   },
   {
    "duration": 17,
    "start_time": "2024-10-14T14:23:46.136Z"
   },
   {
    "duration": 136,
    "start_time": "2024-10-14T14:23:46.154Z"
   },
   {
    "duration": 12,
    "start_time": "2024-10-14T14:23:46.292Z"
   },
   {
    "duration": 308,
    "start_time": "2024-10-14T14:23:46.306Z"
   },
   {
    "duration": 9,
    "start_time": "2024-10-14T14:23:46.615Z"
   },
   {
    "duration": 191,
    "start_time": "2024-10-14T14:23:46.625Z"
   },
   {
    "duration": 222,
    "start_time": "2024-10-14T14:23:46.818Z"
   },
   {
    "duration": 17,
    "start_time": "2024-10-14T14:23:47.042Z"
   },
   {
    "duration": 141,
    "start_time": "2024-10-14T14:23:47.060Z"
   },
   {
    "duration": 245,
    "start_time": "2024-10-14T14:23:47.203Z"
   },
   {
    "duration": 12,
    "start_time": "2024-10-14T14:23:47.449Z"
   },
   {
    "duration": 11,
    "start_time": "2024-10-14T14:23:47.466Z"
   },
   {
    "duration": 11,
    "start_time": "2024-10-14T14:23:47.478Z"
   },
   {
    "duration": 5,
    "start_time": "2024-10-14T14:23:47.490Z"
   },
   {
    "duration": 13,
    "start_time": "2024-10-14T14:23:47.496Z"
   },
   {
    "duration": 10,
    "start_time": "2024-10-14T14:23:47.511Z"
   },
   {
    "duration": 364,
    "start_time": "2024-10-14T14:23:47.522Z"
   },
   {
    "duration": 352,
    "start_time": "2024-10-14T14:23:47.888Z"
   },
   {
    "duration": 21,
    "start_time": "2024-10-14T14:23:48.242Z"
   },
   {
    "duration": 36,
    "start_time": "2024-10-14T14:23:48.264Z"
   },
   {
    "duration": 42,
    "start_time": "2024-10-14T14:23:48.302Z"
   },
   {
    "duration": 20,
    "start_time": "2024-10-14T14:23:48.345Z"
   },
   {
    "duration": 53,
    "start_time": "2024-10-14T14:23:48.366Z"
   },
   {
    "duration": 14,
    "start_time": "2024-10-14T14:23:48.420Z"
   },
   {
    "duration": 4,
    "start_time": "2024-10-14T14:23:48.435Z"
   },
   {
    "duration": 15,
    "start_time": "2024-10-14T14:23:48.440Z"
   },
   {
    "duration": 4,
    "start_time": "2024-10-14T14:23:48.457Z"
   },
   {
    "duration": 11,
    "start_time": "2024-10-14T14:23:48.462Z"
   },
   {
    "duration": 6,
    "start_time": "2024-10-14T14:23:48.475Z"
   },
   {
    "duration": 200,
    "start_time": "2024-10-14T14:23:48.483Z"
   },
   {
    "duration": 4,
    "start_time": "2024-10-14T14:23:48.684Z"
   },
   {
    "duration": 72,
    "start_time": "2024-10-14T14:23:48.689Z"
   },
   {
    "duration": 5,
    "start_time": "2024-10-14T14:23:48.763Z"
   },
   {
    "duration": 4,
    "start_time": "2024-10-14T14:23:48.770Z"
   },
   {
    "duration": 5,
    "start_time": "2024-10-14T14:23:48.775Z"
   },
   {
    "duration": 5,
    "start_time": "2024-10-14T14:23:48.781Z"
   },
   {
    "duration": 159,
    "start_time": "2024-10-14T14:23:48.787Z"
   },
   {
    "duration": 5,
    "start_time": "2024-10-14T14:23:48.948Z"
   },
   {
    "duration": 408,
    "start_time": "2024-10-14T15:06:10.793Z"
   },
   {
    "duration": 238,
    "start_time": "2024-10-14T15:06:11.203Z"
   },
   {
    "duration": 3,
    "start_time": "2024-10-14T15:06:11.442Z"
   },
   {
    "duration": 464,
    "start_time": "2024-10-14T15:06:11.452Z"
   },
   {
    "duration": 2,
    "start_time": "2024-10-14T15:06:11.919Z"
   },
   {
    "duration": 4,
    "start_time": "2024-10-14T15:06:11.923Z"
   },
   {
    "duration": 40,
    "start_time": "2024-10-14T15:06:11.928Z"
   },
   {
    "duration": 37,
    "start_time": "2024-10-14T15:06:11.970Z"
   },
   {
    "duration": 17,
    "start_time": "2024-10-14T15:06:12.009Z"
   },
   {
    "duration": 18,
    "start_time": "2024-10-14T15:06:12.029Z"
   },
   {
    "duration": 15,
    "start_time": "2024-10-14T15:06:12.049Z"
   },
   {
    "duration": 11,
    "start_time": "2024-10-14T15:06:12.066Z"
   },
   {
    "duration": 12,
    "start_time": "2024-10-14T15:06:12.078Z"
   },
   {
    "duration": 8,
    "start_time": "2024-10-14T15:06:12.092Z"
   },
   {
    "duration": 15,
    "start_time": "2024-10-14T15:06:12.102Z"
   },
   {
    "duration": 38,
    "start_time": "2024-10-14T15:06:12.119Z"
   },
   {
    "duration": 15,
    "start_time": "2024-10-14T15:06:12.160Z"
   },
   {
    "duration": 9,
    "start_time": "2024-10-14T15:06:12.177Z"
   },
   {
    "duration": 9,
    "start_time": "2024-10-14T15:06:12.188Z"
   },
   {
    "duration": 5,
    "start_time": "2024-10-14T15:06:12.199Z"
   },
   {
    "duration": 9,
    "start_time": "2024-10-14T15:06:12.205Z"
   },
   {
    "duration": 6,
    "start_time": "2024-10-14T15:06:12.254Z"
   },
   {
    "duration": 8,
    "start_time": "2024-10-14T15:06:12.261Z"
   },
   {
    "duration": 14,
    "start_time": "2024-10-14T15:06:12.271Z"
   },
   {
    "duration": 27,
    "start_time": "2024-10-14T15:06:12.287Z"
   },
   {
    "duration": 10,
    "start_time": "2024-10-14T15:06:12.317Z"
   },
   {
    "duration": 39,
    "start_time": "2024-10-14T15:06:12.328Z"
   },
   {
    "duration": 299,
    "start_time": "2024-10-14T15:06:12.373Z"
   },
   {
    "duration": 191,
    "start_time": "2024-10-14T15:06:12.673Z"
   },
   {
    "duration": 11,
    "start_time": "2024-10-14T15:06:12.865Z"
   },
   {
    "duration": 152,
    "start_time": "2024-10-14T15:06:12.878Z"
   },
   {
    "duration": 13,
    "start_time": "2024-10-14T15:06:13.031Z"
   },
   {
    "duration": 318,
    "start_time": "2024-10-14T15:06:13.045Z"
   },
   {
    "duration": 9,
    "start_time": "2024-10-14T15:06:13.364Z"
   },
   {
    "duration": 156,
    "start_time": "2024-10-14T15:06:13.375Z"
   },
   {
    "duration": 225,
    "start_time": "2024-10-14T15:06:13.533Z"
   },
   {
    "duration": 9,
    "start_time": "2024-10-14T15:06:13.760Z"
   },
   {
    "duration": 150,
    "start_time": "2024-10-14T15:06:13.771Z"
   },
   {
    "duration": 220,
    "start_time": "2024-10-14T15:06:13.922Z"
   },
   {
    "duration": 16,
    "start_time": "2024-10-14T15:06:14.144Z"
   },
   {
    "duration": 12,
    "start_time": "2024-10-14T15:06:14.161Z"
   },
   {
    "duration": 9,
    "start_time": "2024-10-14T15:06:14.175Z"
   },
   {
    "duration": 5,
    "start_time": "2024-10-14T15:06:14.186Z"
   },
   {
    "duration": 12,
    "start_time": "2024-10-14T15:06:14.193Z"
   },
   {
    "duration": 11,
    "start_time": "2024-10-14T15:06:14.206Z"
   },
   {
    "duration": 467,
    "start_time": "2024-10-14T15:06:14.218Z"
   },
   {
    "duration": 321,
    "start_time": "2024-10-14T15:06:14.687Z"
   },
   {
    "duration": 15,
    "start_time": "2024-10-14T15:06:15.010Z"
   },
   {
    "duration": 35,
    "start_time": "2024-10-14T15:06:15.026Z"
   },
   {
    "duration": 52,
    "start_time": "2024-10-14T15:06:15.062Z"
   },
   {
    "duration": 20,
    "start_time": "2024-10-14T15:06:15.116Z"
   },
   {
    "duration": 7,
    "start_time": "2024-10-14T15:06:15.137Z"
   },
   {
    "duration": 12,
    "start_time": "2024-10-14T15:06:15.145Z"
   },
   {
    "duration": 19,
    "start_time": "2024-10-14T15:06:15.158Z"
   },
   {
    "duration": 17,
    "start_time": "2024-10-14T15:06:15.178Z"
   },
   {
    "duration": 19,
    "start_time": "2024-10-14T15:06:15.196Z"
   },
   {
    "duration": 16,
    "start_time": "2024-10-14T15:06:15.217Z"
   },
   {
    "duration": 13,
    "start_time": "2024-10-14T15:06:15.235Z"
   },
   {
    "duration": 196,
    "start_time": "2024-10-14T15:06:15.250Z"
   },
   {
    "duration": 4,
    "start_time": "2024-10-14T15:06:15.452Z"
   },
   {
    "duration": 16,
    "start_time": "2024-10-14T15:06:15.457Z"
   },
   {
    "duration": 22,
    "start_time": "2024-10-14T15:06:15.475Z"
   },
   {
    "duration": 21,
    "start_time": "2024-10-14T15:06:15.499Z"
   },
   {
    "duration": 24,
    "start_time": "2024-10-14T15:06:15.521Z"
   },
   {
    "duration": 23,
    "start_time": "2024-10-14T15:06:15.546Z"
   },
   {
    "duration": 160,
    "start_time": "2024-10-14T15:06:15.571Z"
   },
   {
    "duration": 4,
    "start_time": "2024-10-14T15:06:15.732Z"
   },
   {
    "duration": 427,
    "start_time": "2024-10-14T15:07:10.184Z"
   },
   {
    "duration": 238,
    "start_time": "2024-10-14T15:07:10.613Z"
   },
   {
    "duration": 4,
    "start_time": "2024-10-14T15:07:10.852Z"
   },
   {
    "duration": 541,
    "start_time": "2024-10-14T15:07:10.857Z"
   },
   {
    "duration": 3,
    "start_time": "2024-10-14T15:07:11.399Z"
   },
   {
    "duration": 11,
    "start_time": "2024-10-14T15:07:11.404Z"
   },
   {
    "duration": 48,
    "start_time": "2024-10-14T15:07:11.417Z"
   },
   {
    "duration": 28,
    "start_time": "2024-10-14T15:07:11.467Z"
   },
   {
    "duration": 15,
    "start_time": "2024-10-14T15:07:11.497Z"
   },
   {
    "duration": 13,
    "start_time": "2024-10-14T15:07:11.514Z"
   },
   {
    "duration": 21,
    "start_time": "2024-10-14T15:07:11.528Z"
   },
   {
    "duration": 15,
    "start_time": "2024-10-14T15:07:11.550Z"
   },
   {
    "duration": 56,
    "start_time": "2024-10-14T15:07:11.566Z"
   },
   {
    "duration": 7,
    "start_time": "2024-10-14T15:07:11.623Z"
   },
   {
    "duration": 8,
    "start_time": "2024-10-14T15:07:11.631Z"
   },
   {
    "duration": 10,
    "start_time": "2024-10-14T15:07:11.640Z"
   },
   {
    "duration": 12,
    "start_time": "2024-10-14T15:07:11.651Z"
   },
   {
    "duration": 18,
    "start_time": "2024-10-14T15:07:11.665Z"
   },
   {
    "duration": 23,
    "start_time": "2024-10-14T15:07:11.684Z"
   },
   {
    "duration": 8,
    "start_time": "2024-10-14T15:07:11.709Z"
   },
   {
    "duration": 8,
    "start_time": "2024-10-14T15:07:11.718Z"
   },
   {
    "duration": 4,
    "start_time": "2024-10-14T15:07:11.728Z"
   },
   {
    "duration": 11,
    "start_time": "2024-10-14T15:07:11.734Z"
   },
   {
    "duration": 11,
    "start_time": "2024-10-14T15:07:11.746Z"
   },
   {
    "duration": 6,
    "start_time": "2024-10-14T15:07:11.758Z"
   },
   {
    "duration": 4,
    "start_time": "2024-10-14T15:07:11.765Z"
   },
   {
    "duration": 22,
    "start_time": "2024-10-14T15:07:11.771Z"
   },
   {
    "duration": 304,
    "start_time": "2024-10-14T15:07:11.797Z"
   },
   {
    "duration": 203,
    "start_time": "2024-10-14T15:07:12.103Z"
   },
   {
    "duration": 13,
    "start_time": "2024-10-14T15:07:12.307Z"
   },
   {
    "duration": 162,
    "start_time": "2024-10-14T15:07:12.322Z"
   },
   {
    "duration": 12,
    "start_time": "2024-10-14T15:07:12.485Z"
   },
   {
    "duration": 368,
    "start_time": "2024-10-14T15:07:12.499Z"
   },
   {
    "duration": 9,
    "start_time": "2024-10-14T15:07:12.869Z"
   },
   {
    "duration": 165,
    "start_time": "2024-10-14T15:07:12.880Z"
   },
   {
    "duration": 230,
    "start_time": "2024-10-14T15:07:13.046Z"
   },
   {
    "duration": 7,
    "start_time": "2024-10-14T15:07:13.278Z"
   },
   {
    "duration": 207,
    "start_time": "2024-10-14T15:07:13.287Z"
   },
   {
    "duration": 295,
    "start_time": "2024-10-14T15:07:13.497Z"
   },
   {
    "duration": 10,
    "start_time": "2024-10-14T15:07:13.794Z"
   },
   {
    "duration": 12,
    "start_time": "2024-10-14T15:07:13.806Z"
   },
   {
    "duration": 7,
    "start_time": "2024-10-14T15:07:13.820Z"
   },
   {
    "duration": 26,
    "start_time": "2024-10-14T15:07:13.829Z"
   },
   {
    "duration": 14,
    "start_time": "2024-10-14T15:07:13.857Z"
   },
   {
    "duration": 12,
    "start_time": "2024-10-14T15:07:13.873Z"
   },
   {
    "duration": 384,
    "start_time": "2024-10-14T15:07:13.887Z"
   },
   {
    "duration": 328,
    "start_time": "2024-10-14T15:07:14.273Z"
   },
   {
    "duration": 16,
    "start_time": "2024-10-14T15:07:14.602Z"
   },
   {
    "duration": 35,
    "start_time": "2024-10-14T15:07:14.619Z"
   },
   {
    "duration": 40,
    "start_time": "2024-10-14T15:07:14.655Z"
   },
   {
    "duration": 20,
    "start_time": "2024-10-14T15:07:14.697Z"
   },
   {
    "duration": 7,
    "start_time": "2024-10-14T15:07:14.719Z"
   },
   {
    "duration": 7,
    "start_time": "2024-10-14T15:07:14.753Z"
   },
   {
    "duration": 5,
    "start_time": "2024-10-14T15:07:14.762Z"
   },
   {
    "duration": 13,
    "start_time": "2024-10-14T15:07:14.769Z"
   },
   {
    "duration": 79,
    "start_time": "2024-10-14T15:07:14.783Z"
   },
   {
    "duration": 79,
    "start_time": "2024-10-14T15:07:14.863Z"
   },
   {
    "duration": 10,
    "start_time": "2024-10-14T15:07:14.944Z"
   },
   {
    "duration": 190,
    "start_time": "2024-10-14T15:07:14.956Z"
   },
   {
    "duration": 7,
    "start_time": "2024-10-14T15:07:15.147Z"
   },
   {
    "duration": 11,
    "start_time": "2024-10-14T15:07:15.155Z"
   },
   {
    "duration": 5,
    "start_time": "2024-10-14T15:07:15.168Z"
   },
   {
    "duration": 4,
    "start_time": "2024-10-14T15:07:15.174Z"
   },
   {
    "duration": 13,
    "start_time": "2024-10-14T15:07:15.179Z"
   },
   {
    "duration": 4,
    "start_time": "2024-10-14T15:07:15.194Z"
   },
   {
    "duration": 155,
    "start_time": "2024-10-14T15:07:15.200Z"
   },
   {
    "duration": 4,
    "start_time": "2024-10-14T15:07:15.357Z"
   },
   {
    "duration": 412,
    "start_time": "2024-10-14T15:42:45.913Z"
   },
   {
    "duration": 366,
    "start_time": "2024-10-14T15:42:46.327Z"
   },
   {
    "duration": 2,
    "start_time": "2024-10-14T15:42:46.695Z"
   },
   {
    "duration": 450,
    "start_time": "2024-10-14T15:42:46.699Z"
   },
   {
    "duration": 2,
    "start_time": "2024-10-14T15:42:47.150Z"
   },
   {
    "duration": 12,
    "start_time": "2024-10-14T15:42:47.154Z"
   },
   {
    "duration": 76,
    "start_time": "2024-10-14T15:42:47.167Z"
   },
   {
    "duration": 158,
    "start_time": "2024-10-14T15:42:47.245Z"
   },
   {
    "duration": 69,
    "start_time": "2024-10-14T15:42:47.405Z"
   },
   {
    "duration": 11,
    "start_time": "2024-10-14T15:42:47.477Z"
   },
   {
    "duration": 12,
    "start_time": "2024-10-14T15:42:47.489Z"
   },
   {
    "duration": 16,
    "start_time": "2024-10-14T15:42:47.502Z"
   },
   {
    "duration": 21,
    "start_time": "2024-10-14T15:42:47.520Z"
   },
   {
    "duration": 11,
    "start_time": "2024-10-14T15:42:47.542Z"
   },
   {
    "duration": 10,
    "start_time": "2024-10-14T15:42:47.555Z"
   },
   {
    "duration": 19,
    "start_time": "2024-10-14T15:42:47.566Z"
   },
   {
    "duration": 8,
    "start_time": "2024-10-14T15:42:47.586Z"
   },
   {
    "duration": 5,
    "start_time": "2024-10-14T15:42:47.596Z"
   },
   {
    "duration": 6,
    "start_time": "2024-10-14T15:42:47.602Z"
   },
   {
    "duration": 14,
    "start_time": "2024-10-14T15:42:47.609Z"
   },
   {
    "duration": 8,
    "start_time": "2024-10-14T15:42:47.624Z"
   },
   {
    "duration": 4,
    "start_time": "2024-10-14T15:42:47.633Z"
   },
   {
    "duration": 5,
    "start_time": "2024-10-14T15:42:47.638Z"
   },
   {
    "duration": 10,
    "start_time": "2024-10-14T15:42:47.644Z"
   },
   {
    "duration": 4,
    "start_time": "2024-10-14T15:42:47.656Z"
   },
   {
    "duration": 11,
    "start_time": "2024-10-14T15:42:47.661Z"
   },
   {
    "duration": 12,
    "start_time": "2024-10-14T15:42:47.674Z"
   },
   {
    "duration": 233,
    "start_time": "2024-10-14T15:42:47.689Z"
   },
   {
    "duration": 213,
    "start_time": "2024-10-14T15:42:50.945Z"
   },
   {
    "duration": 98,
    "start_time": "2024-10-14T15:42:52.803Z"
   },
   {
    "duration": 10,
    "start_time": "2024-10-14T15:44:24.800Z"
   },
   {
    "duration": 155,
    "start_time": "2024-10-14T15:44:48.056Z"
   },
   {
    "duration": 2,
    "start_time": "2024-10-14T15:53:00.998Z"
   },
   {
    "duration": 6,
    "start_time": "2024-10-14T15:53:01.002Z"
   },
   {
    "duration": 33,
    "start_time": "2024-10-14T15:53:01.009Z"
   },
   {
    "duration": 5,
    "start_time": "2024-10-14T15:53:01.043Z"
   },
   {
    "duration": 4,
    "start_time": "2024-10-14T15:53:01.049Z"
   },
   {
    "duration": 13,
    "start_time": "2024-10-14T15:53:01.054Z"
   },
   {
    "duration": 36,
    "start_time": "2024-10-14T15:53:01.068Z"
   },
   {
    "duration": 30,
    "start_time": "2024-10-14T15:53:01.105Z"
   },
   {
    "duration": 25,
    "start_time": "2024-10-14T15:53:01.137Z"
   },
   {
    "duration": 10,
    "start_time": "2024-10-14T15:53:01.163Z"
   },
   {
    "duration": 28,
    "start_time": "2024-10-14T15:53:01.175Z"
   },
   {
    "duration": 10,
    "start_time": "2024-10-14T15:53:01.204Z"
   },
   {
    "duration": 62,
    "start_time": "2024-10-14T15:53:01.216Z"
   },
   {
    "duration": 7,
    "start_time": "2024-10-14T15:53:01.279Z"
   },
   {
    "duration": 15,
    "start_time": "2024-10-14T15:53:01.287Z"
   },
   {
    "duration": 3,
    "start_time": "2024-10-14T15:53:01.304Z"
   },
   {
    "duration": 10,
    "start_time": "2024-10-14T15:53:01.308Z"
   },
   {
    "duration": 9,
    "start_time": "2024-10-14T15:53:01.319Z"
   },
   {
    "duration": 85,
    "start_time": "2024-10-14T15:53:01.330Z"
   },
   {
    "duration": 16,
    "start_time": "2024-10-14T15:53:01.416Z"
   },
   {
    "duration": 21,
    "start_time": "2024-10-14T15:53:01.433Z"
   },
   {
    "duration": 10,
    "start_time": "2024-10-14T15:53:01.455Z"
   },
   {
    "duration": 6,
    "start_time": "2024-10-14T15:53:01.466Z"
   },
   {
    "duration": 44,
    "start_time": "2024-10-14T15:53:01.473Z"
   },
   {
    "duration": 4,
    "start_time": "2024-10-14T15:53:01.518Z"
   },
   {
    "duration": 25,
    "start_time": "2024-10-14T15:53:01.523Z"
   },
   {
    "duration": 19,
    "start_time": "2024-10-14T15:53:01.550Z"
   },
   {
    "duration": 268,
    "start_time": "2024-10-14T15:53:01.571Z"
   },
   {
    "duration": 168,
    "start_time": "2024-10-14T15:53:01.842Z"
   },
   {
    "duration": 10,
    "start_time": "2024-10-14T15:53:02.012Z"
   },
   {
    "duration": 223,
    "start_time": "2024-10-14T15:53:02.023Z"
   },
   {
    "duration": 10,
    "start_time": "2024-10-14T15:53:02.248Z"
   },
   {
    "duration": 302,
    "start_time": "2024-10-14T15:53:02.260Z"
   },
   {
    "duration": 7,
    "start_time": "2024-10-14T15:53:02.564Z"
   },
   {
    "duration": 141,
    "start_time": "2024-10-14T15:53:02.573Z"
   },
   {
    "duration": 237,
    "start_time": "2024-10-14T15:53:02.715Z"
   },
   {
    "duration": 8,
    "start_time": "2024-10-14T15:53:02.954Z"
   },
   {
    "duration": 153,
    "start_time": "2024-10-14T15:53:02.963Z"
   },
   {
    "duration": 186,
    "start_time": "2024-10-14T15:53:03.118Z"
   },
   {
    "duration": 9,
    "start_time": "2024-10-14T15:53:03.312Z"
   },
   {
    "duration": 75,
    "start_time": "2024-10-14T15:53:03.322Z"
   },
   {
    "duration": 16,
    "start_time": "2024-10-14T15:53:03.399Z"
   },
   {
    "duration": 31,
    "start_time": "2024-10-14T15:53:03.416Z"
   },
   {
    "duration": 19,
    "start_time": "2024-10-14T15:53:03.448Z"
   },
   {
    "duration": 23,
    "start_time": "2024-10-14T15:53:03.469Z"
   },
   {
    "duration": 244,
    "start_time": "2024-10-14T15:53:03.493Z"
   },
   {
    "duration": 265,
    "start_time": "2024-10-14T15:53:03.738Z"
   },
   {
    "duration": 15,
    "start_time": "2024-10-14T15:53:04.005Z"
   },
   {
    "duration": 121,
    "start_time": "2024-10-14T15:53:04.022Z"
   },
   {
    "duration": 59,
    "start_time": "2024-10-14T15:53:04.144Z"
   },
   {
    "duration": 17,
    "start_time": "2024-10-14T15:53:04.204Z"
   },
   {
    "duration": 43,
    "start_time": "2024-10-14T15:53:04.223Z"
   },
   {
    "duration": 51,
    "start_time": "2024-10-14T15:53:04.267Z"
   },
   {
    "duration": 15,
    "start_time": "2024-10-14T15:53:04.319Z"
   },
   {
    "duration": 30,
    "start_time": "2024-10-14T15:53:04.335Z"
   },
   {
    "duration": 28,
    "start_time": "2024-10-14T15:53:04.366Z"
   },
   {
    "duration": 38,
    "start_time": "2024-10-14T15:53:04.395Z"
   },
   {
    "duration": 17,
    "start_time": "2024-10-14T15:53:04.434Z"
   },
   {
    "duration": 189,
    "start_time": "2024-10-14T15:53:04.452Z"
   },
   {
    "duration": 4,
    "start_time": "2024-10-14T15:53:04.642Z"
   },
   {
    "duration": 7,
    "start_time": "2024-10-14T15:53:04.647Z"
   },
   {
    "duration": 32,
    "start_time": "2024-10-14T15:53:04.655Z"
   },
   {
    "duration": 25,
    "start_time": "2024-10-14T15:53:04.688Z"
   },
   {
    "duration": 35,
    "start_time": "2024-10-14T15:53:04.714Z"
   },
   {
    "duration": 22,
    "start_time": "2024-10-14T15:53:04.750Z"
   },
   {
    "duration": 73,
    "start_time": "2024-10-14T15:53:12.367Z"
   },
   {
    "duration": 4,
    "start_time": "2024-10-14T15:53:20.079Z"
   },
   {
    "duration": 4,
    "start_time": "2024-10-14T15:53:52.157Z"
   },
   {
    "duration": 3,
    "start_time": "2024-10-14T15:54:01.454Z"
   },
   {
    "duration": 4,
    "start_time": "2024-10-14T15:54:24.341Z"
   },
   {
    "duration": 4,
    "start_time": "2024-10-14T15:54:43.205Z"
   },
   {
    "duration": 4,
    "start_time": "2024-10-14T15:54:54.078Z"
   },
   {
    "duration": 3,
    "start_time": "2024-10-14T15:55:01.333Z"
   },
   {
    "duration": 3,
    "start_time": "2024-10-14T15:55:08.388Z"
   },
   {
    "duration": 4,
    "start_time": "2024-10-14T15:55:15.036Z"
   },
   {
    "duration": 3,
    "start_time": "2024-10-14T15:55:36.429Z"
   },
   {
    "duration": 387,
    "start_time": "2024-10-15T13:05:51.475Z"
   },
   {
    "duration": 207,
    "start_time": "2024-10-15T13:05:51.864Z"
   },
   {
    "duration": 2,
    "start_time": "2024-10-15T13:05:52.072Z"
   },
   {
    "duration": 409,
    "start_time": "2024-10-15T13:05:52.075Z"
   },
   {
    "duration": 2,
    "start_time": "2024-10-15T13:05:52.486Z"
   },
   {
    "duration": 41,
    "start_time": "2024-10-15T13:05:52.489Z"
   },
   {
    "duration": 84,
    "start_time": "2024-10-15T13:05:52.532Z"
   },
   {
    "duration": 154,
    "start_time": "2024-10-15T13:05:52.617Z"
   },
   {
    "duration": 67,
    "start_time": "2024-10-15T13:05:52.773Z"
   },
   {
    "duration": 10,
    "start_time": "2024-10-15T13:05:52.841Z"
   },
   {
    "duration": 14,
    "start_time": "2024-10-15T13:05:52.852Z"
   },
   {
    "duration": 8,
    "start_time": "2024-10-15T13:05:52.867Z"
   },
   {
    "duration": 43,
    "start_time": "2024-10-15T13:05:52.877Z"
   },
   {
    "duration": 9,
    "start_time": "2024-10-15T13:05:52.922Z"
   },
   {
    "duration": 23,
    "start_time": "2024-10-15T13:05:52.933Z"
   },
   {
    "duration": 12,
    "start_time": "2024-10-15T13:05:52.958Z"
   },
   {
    "duration": 11,
    "start_time": "2024-10-15T13:05:52.972Z"
   },
   {
    "duration": 14,
    "start_time": "2024-10-15T13:05:52.984Z"
   },
   {
    "duration": 14,
    "start_time": "2024-10-15T13:05:52.999Z"
   },
   {
    "duration": 38,
    "start_time": "2024-10-15T13:05:53.015Z"
   },
   {
    "duration": 9,
    "start_time": "2024-10-15T13:05:53.055Z"
   },
   {
    "duration": 10,
    "start_time": "2024-10-15T13:05:53.065Z"
   },
   {
    "duration": 16,
    "start_time": "2024-10-15T13:05:53.076Z"
   },
   {
    "duration": 17,
    "start_time": "2024-10-15T13:05:53.093Z"
   },
   {
    "duration": 6,
    "start_time": "2024-10-15T13:05:53.111Z"
   },
   {
    "duration": 3,
    "start_time": "2024-10-15T13:05:53.118Z"
   },
   {
    "duration": 25,
    "start_time": "2024-10-15T13:05:53.123Z"
   },
   {
    "duration": 236,
    "start_time": "2024-10-15T13:05:53.149Z"
   },
   {
    "duration": 159,
    "start_time": "2024-10-15T13:05:53.386Z"
   },
   {
    "duration": 12,
    "start_time": "2024-10-15T13:05:53.547Z"
   },
   {
    "duration": 114,
    "start_time": "2024-10-15T13:05:53.560Z"
   },
   {
    "duration": 10,
    "start_time": "2024-10-15T13:05:53.676Z"
   },
   {
    "duration": 240,
    "start_time": "2024-10-15T13:05:53.688Z"
   },
   {
    "duration": 7,
    "start_time": "2024-10-15T13:05:53.930Z"
   },
   {
    "duration": 153,
    "start_time": "2024-10-15T13:05:53.939Z"
   },
   {
    "duration": 185,
    "start_time": "2024-10-15T13:05:54.094Z"
   },
   {
    "duration": 8,
    "start_time": "2024-10-15T13:05:54.280Z"
   },
   {
    "duration": 128,
    "start_time": "2024-10-15T13:05:54.289Z"
   },
   {
    "duration": 184,
    "start_time": "2024-10-15T13:05:54.419Z"
   },
   {
    "duration": 8,
    "start_time": "2024-10-15T13:05:54.604Z"
   },
   {
    "duration": 60,
    "start_time": "2024-10-15T13:05:54.615Z"
   },
   {
    "duration": 18,
    "start_time": "2024-10-15T13:05:54.677Z"
   },
   {
    "duration": 7,
    "start_time": "2024-10-15T13:05:54.696Z"
   },
   {
    "duration": 18,
    "start_time": "2024-10-15T13:05:54.704Z"
   },
   {
    "duration": 10,
    "start_time": "2024-10-15T13:05:54.724Z"
   },
   {
    "duration": 269,
    "start_time": "2024-10-15T13:05:54.735Z"
   },
   {
    "duration": 253,
    "start_time": "2024-10-15T13:05:55.006Z"
   },
   {
    "duration": 12,
    "start_time": "2024-10-15T13:05:55.260Z"
   },
   {
    "duration": 35,
    "start_time": "2024-10-15T13:05:55.273Z"
   },
   {
    "duration": 35,
    "start_time": "2024-10-15T13:05:55.309Z"
   },
   {
    "duration": 23,
    "start_time": "2024-10-15T13:05:55.345Z"
   },
   {
    "duration": 84,
    "start_time": "2024-10-15T13:05:55.369Z"
   },
   {
    "duration": 25,
    "start_time": "2024-10-15T13:05:55.454Z"
   },
   {
    "duration": 10,
    "start_time": "2024-10-15T13:05:55.480Z"
   },
   {
    "duration": 19,
    "start_time": "2024-10-15T13:05:55.491Z"
   },
   {
    "duration": 18,
    "start_time": "2024-10-15T13:05:55.511Z"
   },
   {
    "duration": 25,
    "start_time": "2024-10-15T13:05:55.531Z"
   },
   {
    "duration": 16,
    "start_time": "2024-10-15T13:05:55.557Z"
   },
   {
    "duration": 195,
    "start_time": "2024-10-15T13:05:55.574Z"
   },
   {
    "duration": 3,
    "start_time": "2024-10-15T13:05:55.770Z"
   },
   {
    "duration": 11,
    "start_time": "2024-10-15T13:05:55.774Z"
   },
   {
    "duration": 14,
    "start_time": "2024-10-15T13:05:55.786Z"
   },
   {
    "duration": 14,
    "start_time": "2024-10-15T13:05:55.801Z"
   },
   {
    "duration": 20,
    "start_time": "2024-10-15T13:05:55.816Z"
   },
   {
    "duration": 13,
    "start_time": "2024-10-15T13:05:55.837Z"
   },
   {
    "duration": 12,
    "start_time": "2024-10-15T13:05:55.851Z"
   },
   {
    "duration": 11,
    "start_time": "2024-10-15T13:05:55.864Z"
   },
   {
    "duration": 226,
    "start_time": "2024-10-15T13:05:55.876Z"
   },
   {
    "duration": 4,
    "start_time": "2024-10-15T13:05:56.104Z"
   },
   {
    "duration": 4,
    "start_time": "2024-10-15T13:40:08.252Z"
   },
   {
    "duration": 3,
    "start_time": "2024-10-15T13:40:11.780Z"
   },
   {
    "duration": 3,
    "start_time": "2024-10-15T13:40:15.364Z"
   },
   {
    "duration": 330,
    "start_time": "2024-10-15T13:42:50.410Z"
   },
   {
    "duration": 230,
    "start_time": "2024-10-15T13:42:50.741Z"
   },
   {
    "duration": 2,
    "start_time": "2024-10-15T13:42:50.972Z"
   },
   {
    "duration": 444,
    "start_time": "2024-10-15T13:42:50.976Z"
   },
   {
    "duration": 2,
    "start_time": "2024-10-15T13:42:51.422Z"
   },
   {
    "duration": 15,
    "start_time": "2024-10-15T13:42:51.425Z"
   },
   {
    "duration": 36,
    "start_time": "2024-10-15T13:42:51.441Z"
   },
   {
    "duration": 25,
    "start_time": "2024-10-15T13:42:51.479Z"
   },
   {
    "duration": 79,
    "start_time": "2024-10-15T13:42:51.505Z"
   },
   {
    "duration": 10,
    "start_time": "2024-10-15T13:42:51.585Z"
   },
   {
    "duration": 12,
    "start_time": "2024-10-15T13:42:51.596Z"
   },
   {
    "duration": 9,
    "start_time": "2024-10-15T13:42:51.609Z"
   },
   {
    "duration": 23,
    "start_time": "2024-10-15T13:42:51.619Z"
   },
   {
    "duration": 17,
    "start_time": "2024-10-15T13:42:51.644Z"
   },
   {
    "duration": 42,
    "start_time": "2024-10-15T13:42:51.662Z"
   },
   {
    "duration": 8,
    "start_time": "2024-10-15T13:42:51.705Z"
   },
   {
    "duration": 7,
    "start_time": "2024-10-15T13:42:51.715Z"
   },
   {
    "duration": 11,
    "start_time": "2024-10-15T13:42:51.723Z"
   },
   {
    "duration": 16,
    "start_time": "2024-10-15T13:42:51.735Z"
   },
   {
    "duration": 9,
    "start_time": "2024-10-15T13:42:51.752Z"
   },
   {
    "duration": 11,
    "start_time": "2024-10-15T13:42:51.762Z"
   },
   {
    "duration": 8,
    "start_time": "2024-10-15T13:42:51.775Z"
   },
   {
    "duration": 20,
    "start_time": "2024-10-15T13:42:51.784Z"
   },
   {
    "duration": 8,
    "start_time": "2024-10-15T13:42:51.805Z"
   },
   {
    "duration": 14,
    "start_time": "2024-10-15T13:42:51.815Z"
   },
   {
    "duration": 16,
    "start_time": "2024-10-15T13:42:51.831Z"
   },
   {
    "duration": 15,
    "start_time": "2024-10-15T13:42:51.849Z"
   },
   {
    "duration": 219,
    "start_time": "2024-10-15T13:42:51.866Z"
   },
   {
    "duration": 183,
    "start_time": "2024-10-15T13:42:52.086Z"
   },
   {
    "duration": 9,
    "start_time": "2024-10-15T13:42:52.271Z"
   },
   {
    "duration": 145,
    "start_time": "2024-10-15T13:42:52.281Z"
   },
   {
    "duration": 11,
    "start_time": "2024-10-15T13:42:52.427Z"
   },
   {
    "duration": 237,
    "start_time": "2024-10-15T13:42:52.439Z"
   },
   {
    "duration": 7,
    "start_time": "2024-10-15T13:42:52.677Z"
   },
   {
    "duration": 134,
    "start_time": "2024-10-15T13:42:52.685Z"
   },
   {
    "duration": 183,
    "start_time": "2024-10-15T13:42:52.821Z"
   },
   {
    "duration": 7,
    "start_time": "2024-10-15T13:42:53.005Z"
   },
   {
    "duration": 128,
    "start_time": "2024-10-15T13:42:53.013Z"
   },
   {
    "duration": 187,
    "start_time": "2024-10-15T13:42:53.142Z"
   },
   {
    "duration": 11,
    "start_time": "2024-10-15T13:42:53.331Z"
   },
   {
    "duration": 11,
    "start_time": "2024-10-15T13:42:53.357Z"
   },
   {
    "duration": 10,
    "start_time": "2024-10-15T13:42:53.370Z"
   },
   {
    "duration": 14,
    "start_time": "2024-10-15T13:42:53.381Z"
   },
   {
    "duration": 23,
    "start_time": "2024-10-15T13:42:53.396Z"
   },
   {
    "duration": 24,
    "start_time": "2024-10-15T13:42:53.420Z"
   },
   {
    "duration": 288,
    "start_time": "2024-10-15T13:42:53.446Z"
   },
   {
    "duration": 244,
    "start_time": "2024-10-15T13:42:53.736Z"
   },
   {
    "duration": 12,
    "start_time": "2024-10-15T13:42:53.982Z"
   },
   {
    "duration": 17,
    "start_time": "2024-10-15T13:42:53.995Z"
   },
   {
    "duration": 47,
    "start_time": "2024-10-15T13:42:54.014Z"
   },
   {
    "duration": 88,
    "start_time": "2024-10-15T13:42:54.063Z"
   },
   {
    "duration": 6,
    "start_time": "2024-10-15T13:42:54.153Z"
   },
   {
    "duration": 11,
    "start_time": "2024-10-15T13:42:54.160Z"
   },
   {
    "duration": 15,
    "start_time": "2024-10-15T13:42:54.173Z"
   },
   {
    "duration": 12,
    "start_time": "2024-10-15T13:42:54.190Z"
   },
   {
    "duration": 5,
    "start_time": "2024-10-15T13:42:54.204Z"
   },
   {
    "duration": 16,
    "start_time": "2024-10-15T13:42:54.210Z"
   },
   {
    "duration": 12,
    "start_time": "2024-10-15T13:42:54.227Z"
   },
   {
    "duration": 159,
    "start_time": "2024-10-15T13:42:54.241Z"
   },
   {
    "duration": 4,
    "start_time": "2024-10-15T13:42:54.401Z"
   },
   {
    "duration": 8,
    "start_time": "2024-10-15T13:42:54.406Z"
   },
   {
    "duration": 4,
    "start_time": "2024-10-15T13:42:54.415Z"
   },
   {
    "duration": 4,
    "start_time": "2024-10-15T13:42:54.420Z"
   },
   {
    "duration": 7,
    "start_time": "2024-10-15T13:42:54.425Z"
   },
   {
    "duration": 39,
    "start_time": "2024-10-15T13:42:54.434Z"
   },
   {
    "duration": 30,
    "start_time": "2024-10-15T13:42:54.474Z"
   },
   {
    "duration": 8,
    "start_time": "2024-10-15T13:42:54.505Z"
   },
   {
    "duration": 110,
    "start_time": "2024-10-15T13:42:54.515Z"
   },
   {
    "duration": 3,
    "start_time": "2024-10-15T13:42:54.626Z"
   },
   {
    "duration": 428,
    "start_time": "2024-10-15T13:59:27.182Z"
   },
   {
    "duration": 480,
    "start_time": "2024-10-15T13:59:27.612Z"
   },
   {
    "duration": 3,
    "start_time": "2024-10-15T13:59:28.094Z"
   },
   {
    "duration": 540,
    "start_time": "2024-10-15T13:59:28.099Z"
   },
   {
    "duration": 6,
    "start_time": "2024-10-15T13:59:28.640Z"
   },
   {
    "duration": 4,
    "start_time": "2024-10-15T13:59:28.649Z"
   },
   {
    "duration": 78,
    "start_time": "2024-10-15T13:59:28.656Z"
   },
   {
    "duration": 142,
    "start_time": "2024-10-15T13:59:28.736Z"
   },
   {
    "duration": 67,
    "start_time": "2024-10-15T13:59:28.880Z"
   },
   {
    "duration": 17,
    "start_time": "2024-10-15T13:59:28.952Z"
   },
   {
    "duration": 24,
    "start_time": "2024-10-15T13:59:28.970Z"
   },
   {
    "duration": 11,
    "start_time": "2024-10-15T13:59:28.996Z"
   },
   {
    "duration": 14,
    "start_time": "2024-10-15T13:59:29.009Z"
   },
   {
    "duration": 28,
    "start_time": "2024-10-15T13:59:29.025Z"
   },
   {
    "duration": 10,
    "start_time": "2024-10-15T13:59:29.054Z"
   },
   {
    "duration": 7,
    "start_time": "2024-10-15T13:59:29.065Z"
   },
   {
    "duration": 10,
    "start_time": "2024-10-15T13:59:29.074Z"
   },
   {
    "duration": 6,
    "start_time": "2024-10-15T13:59:29.086Z"
   },
   {
    "duration": 6,
    "start_time": "2024-10-15T13:59:29.093Z"
   },
   {
    "duration": 45,
    "start_time": "2024-10-15T13:59:29.100Z"
   },
   {
    "duration": 15,
    "start_time": "2024-10-15T13:59:29.147Z"
   },
   {
    "duration": 6,
    "start_time": "2024-10-15T13:59:29.163Z"
   },
   {
    "duration": 7,
    "start_time": "2024-10-15T13:59:29.170Z"
   },
   {
    "duration": 12,
    "start_time": "2024-10-15T13:59:29.179Z"
   },
   {
    "duration": 53,
    "start_time": "2024-10-15T13:59:29.193Z"
   },
   {
    "duration": 74,
    "start_time": "2024-10-15T13:59:29.249Z"
   },
   {
    "duration": 21,
    "start_time": "2024-10-15T13:59:29.324Z"
   },
   {
    "duration": 325,
    "start_time": "2024-10-15T13:59:29.350Z"
   },
   {
    "duration": 214,
    "start_time": "2024-10-15T13:59:29.677Z"
   },
   {
    "duration": 13,
    "start_time": "2024-10-15T13:59:29.892Z"
   },
   {
    "duration": 192,
    "start_time": "2024-10-15T13:59:29.906Z"
   },
   {
    "duration": 12,
    "start_time": "2024-10-15T13:59:30.099Z"
   },
   {
    "duration": 336,
    "start_time": "2024-10-15T13:59:30.113Z"
   },
   {
    "duration": 13,
    "start_time": "2024-10-15T13:59:30.451Z"
   },
   {
    "duration": 204,
    "start_time": "2024-10-15T13:59:30.466Z"
   },
   {
    "duration": 234,
    "start_time": "2024-10-15T13:59:30.672Z"
   },
   {
    "duration": 9,
    "start_time": "2024-10-15T13:59:30.908Z"
   },
   {
    "duration": 154,
    "start_time": "2024-10-15T13:59:30.918Z"
   },
   {
    "duration": 252,
    "start_time": "2024-10-15T13:59:31.074Z"
   },
   {
    "duration": 15,
    "start_time": "2024-10-15T13:59:31.328Z"
   },
   {
    "duration": 28,
    "start_time": "2024-10-15T13:59:31.345Z"
   },
   {
    "duration": 31,
    "start_time": "2024-10-15T13:59:31.374Z"
   },
   {
    "duration": 22,
    "start_time": "2024-10-15T13:59:31.407Z"
   },
   {
    "duration": 51,
    "start_time": "2024-10-15T13:59:31.431Z"
   },
   {
    "duration": 35,
    "start_time": "2024-10-15T13:59:31.484Z"
   },
   {
    "duration": 398,
    "start_time": "2024-10-15T13:59:31.521Z"
   },
   {
    "duration": 326,
    "start_time": "2024-10-15T13:59:31.921Z"
   },
   {
    "duration": 21,
    "start_time": "2024-10-15T13:59:32.251Z"
   },
   {
    "duration": 41,
    "start_time": "2024-10-15T13:59:32.274Z"
   },
   {
    "duration": 62,
    "start_time": "2024-10-15T13:59:32.316Z"
   },
   {
    "duration": 22,
    "start_time": "2024-10-15T13:59:32.379Z"
   },
   {
    "duration": 65,
    "start_time": "2024-10-15T13:59:32.402Z"
   },
   {
    "duration": 7,
    "start_time": "2024-10-15T13:59:32.469Z"
   },
   {
    "duration": 16,
    "start_time": "2024-10-15T13:59:32.478Z"
   },
   {
    "duration": 44,
    "start_time": "2024-10-15T13:59:32.496Z"
   },
   {
    "duration": 11,
    "start_time": "2024-10-15T13:59:32.541Z"
   },
   {
    "duration": 122,
    "start_time": "2024-10-15T13:59:32.553Z"
   },
   {
    "duration": 18,
    "start_time": "2024-10-15T13:59:32.676Z"
   },
   {
    "duration": 208,
    "start_time": "2024-10-15T13:59:32.695Z"
   },
   {
    "duration": 4,
    "start_time": "2024-10-15T13:59:32.904Z"
   },
   {
    "duration": 6,
    "start_time": "2024-10-15T13:59:32.910Z"
   },
   {
    "duration": 29,
    "start_time": "2024-10-15T13:59:32.918Z"
   },
   {
    "duration": 10,
    "start_time": "2024-10-15T13:59:32.949Z"
   },
   {
    "duration": 19,
    "start_time": "2024-10-15T13:59:32.961Z"
   },
   {
    "duration": 35,
    "start_time": "2024-10-15T13:59:32.982Z"
   },
   {
    "duration": 5,
    "start_time": "2024-10-15T13:59:33.019Z"
   },
   {
    "duration": 5,
    "start_time": "2024-10-15T13:59:33.026Z"
   },
   {
    "duration": 181,
    "start_time": "2024-10-15T13:59:33.033Z"
   },
   {
    "duration": 5,
    "start_time": "2024-10-15T13:59:33.216Z"
   },
   {
    "duration": 4,
    "start_time": "2024-10-15T14:00:02.174Z"
   },
   {
    "duration": 4,
    "start_time": "2024-10-15T14:00:15.576Z"
   },
   {
    "duration": 5,
    "start_time": "2024-10-15T14:00:33.121Z"
   },
   {
    "duration": 5,
    "start_time": "2024-10-15T14:00:45.042Z"
   },
   {
    "duration": 7,
    "start_time": "2024-10-15T14:00:52.041Z"
   },
   {
    "duration": 7,
    "start_time": "2024-10-15T14:01:11.466Z"
   },
   {
    "duration": 5,
    "start_time": "2024-10-15T14:01:20.729Z"
   },
   {
    "duration": 5,
    "start_time": "2024-10-15T14:01:27.169Z"
   },
   {
    "duration": 4,
    "start_time": "2024-10-15T14:01:34.335Z"
   },
   {
    "duration": 5,
    "start_time": "2024-10-15T14:01:40.375Z"
   },
   {
    "duration": 5,
    "start_time": "2024-10-15T14:01:49.201Z"
   },
   {
    "duration": 7,
    "start_time": "2024-10-15T14:01:55.147Z"
   }
  ],
  "kernelspec": {
   "display_name": "Python 3",
   "language": "python",
   "name": "python3"
  },
  "language_info": {
   "codemirror_mode": {
    "name": "ipython",
    "version": 3
   },
   "file_extension": ".py",
   "mimetype": "text/x-python",
   "name": "python",
   "nbconvert_exporter": "python",
   "pygments_lexer": "ipython3",
   "version": "3.7.0"
  },
  "toc": {
   "base_numbering": 1,
   "nav_menu": {},
   "number_sections": true,
   "sideBar": true,
   "skip_h1_title": true,
   "title_cell": "Table of Contents",
   "title_sidebar": "Contents",
   "toc_cell": false,
   "toc_position": {},
   "toc_section_display": true,
   "toc_window_display": false
  }
 },
 "nbformat": 4,
 "nbformat_minor": 5
}
