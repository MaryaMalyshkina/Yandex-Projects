{
 "cells": [
  {
   "cell_type": "markdown",
   "metadata": {
    "editable": true,
    "id": "krWQtJqIMj3r",
    "slideshow": {
     "slide_type": ""
    },
    "tags": []
   },
   "source": [
    "# Проект для \"Викишоп\" с BERT"
   ]
  },
  {
   "cell_type": "markdown",
   "metadata": {
    "id": "Ytsn-K1BhzSW"
   },
   "source": [
    "# ВВЕДЕНИЕ"
   ]
  },
  {
   "cell_type": "markdown",
   "metadata": {
    "id": "KDm0qmt0Lz9f"
   },
   "source": [
    "Интернет-магазин «Викишоп» запускает новый сервис. Теперь пользователи могут редактировать и дополнять описания товаров, как в вики-сообществах. То есть клиенты предлагают свои правки и комментируют изменения других. Магазину нужен инструмент, который будет искать токсичные комментарии и отправлять их на модерацию.\n",
    "Требуется обучить модель классифицировать комментарии на позитивные и негативные. Исходные данные содержат разметку  токсичности правок.\n",
    "Предполагается, что построенная модель будет иметь метрику качества F1 не меньше 0.75."
   ]
  },
  {
   "cell_type": "markdown",
   "metadata": {
    "id": "f9Sri534h7bF"
   },
   "source": [
    "# Загрузка данных"
   ]
  },
  {
   "cell_type": "markdown",
   "metadata": {
    "id": "9n2bDVAjhX0y"
   },
   "source": [
    "Установка библиотек."
   ]
  },
  {
   "cell_type": "code",
   "execution_count": null,
   "metadata": {
    "id": "Obx299H99L6D"
   },
   "outputs": [],
   "source": [
    "!pip install imblearn -q"
   ]
  },
  {
   "cell_type": "code",
   "execution_count": null,
   "metadata": {
    "id": "ZymyuXy2iL_k"
   },
   "outputs": [],
   "source": [
    "!pip install wordcloud  -q"
   ]
  },
  {
   "cell_type": "code",
   "execution_count": null,
   "metadata": {
    "id": "3YsfgzWJ8d11"
   },
   "outputs": [],
   "source": [
    "!pip install transformers_interpret -q"
   ]
  },
  {
   "cell_type": "code",
   "execution_count": null,
   "metadata": {
    "colab": {
     "base_uri": "https://localhost:8080/"
    },
    "id": "S09BGBPSs2J6",
    "outputId": "d228bbfb-765e-4653-ac1a-8f8f339cb701"
   },
   "outputs": [],
   "source": [
    "!pip install numpy==1.26.4"
   ]
  },
  {
   "cell_type": "code",
   "execution_count": null,
   "metadata": {
    "colab": {
     "base_uri": "https://localhost:8080/"
    },
    "id": "u6Qyd5LZNrb4",
    "outputId": "0e8a70de-6ed5-475e-8e3a-d0dbffc53809"
   },
   "outputs": [],
   "source": [
    "import os\n",
    "import time\n",
    "import torch\n",
    "import re\n",
    "\n",
    "import pandas as pd\n",
    "import nltk\n",
    "\n",
    "import matplotlib.pyplot as plt\n",
    "%matplotlib inline\n",
    "import seaborn as sns\n",
    "import numpy as np\n",
    "from tqdm import notebook\n",
    "import copy\n",
    "\n",
    "from nltk.corpus import stopwords as nltk_stopwords\n",
    "from transformers import AutoModel, AutoTokenizer\n",
    "\n",
    "from sklearn.feature_extraction.text import CountVectorizer\n",
    "from sklearn.feature_extraction.text import TfidfVectorizer\n",
    "from sklearn.feature_extraction.text import TfidfTransformer\n",
    "\n",
    "from sklearn.linear_model import LogisticRegression\n",
    "from sklearn.neighbors import KNeighborsClassifier\n",
    "from sklearn.svm import SVC\n",
    "from sklearn.tree import DecisionTreeClassifier\n",
    "from sklearn.model_selection import GridSearchCV, RandomizedSearchCV\n",
    "from sklearn.dummy import DummyClassifier\n",
    "from sklearn.feature_selection import f_classif, mutual_info_classif,SelectKBest\n",
    "from sklearn.inspection import permutation_importance\n",
    "\n",
    "from sklearn.model_selection import train_test_split\n",
    "\n",
    "from sklearn.metrics import (\n",
    "     accuracy_score,\n",
    "     confusion_matrix,\n",
    "     f1_score,\n",
    "     ConfusionMatrixDisplay\n",
    ")\n",
    "\n",
    "from wordcloud import WordCloud\n",
    "import transformers\n",
    "\n",
    "import nltk\n",
    "nltk.download('wordnet')\n",
    "\n",
    "from nltk.stem import WordNetLemmatizer\n",
    "from nltk.tokenize import word_tokenize\n",
    "\n",
    "\n",
    "from sklearn.pipeline import Pipeline\n",
    "\n",
    "RANDOM_STATE = 42\n",
    "TEST_SIZE = 0.5"
   ]
  },
  {
   "cell_type": "markdown",
   "metadata": {
    "id": "1UI-uhy_hkQO"
   },
   "source": [
    "Загрузка данных."
   ]
  },
  {
   "cell_type": "code",
   "execution_count": null,
   "metadata": {
    "id": "c2bLru_wVbin"
   },
   "outputs": [],
   "source": [
    "pth1 = 'toxic_comments.csv'\n",
    "pth2 = 'https://code.s3.yandex.net/datasets/toxic_comments.csv'\n",
    "\n",
    "try:\n",
    "    data = pd.read_csv(pth1)\n",
    "except:\n",
    "    data = pd.read_csv(pth2)"
   ]
  },
  {
   "cell_type": "markdown",
   "metadata": {
    "id": "wkxoLlouhnLI"
   },
   "source": [
    "Просмотр загруженного датафрейма."
   ]
  },
  {
   "cell_type": "code",
   "execution_count": null,
   "metadata": {
    "colab": {
     "base_uri": "https://localhost:8080/",
     "height": 363
    },
    "id": "uyubDuu9Vbk1",
    "outputId": "6e2db18f-9c0a-4df5-969e-631a7559b908"
   },
   "outputs": [],
   "source": [
    "display(data.head(10))"
   ]
  },
  {
   "cell_type": "markdown",
   "metadata": {
    "id": "OjcC9dqpjQ6S"
   },
   "source": [
    "Общая информация о датафрейме, проверка на дубликаты и пропуски."
   ]
  },
  {
   "cell_type": "code",
   "execution_count": null,
   "metadata": {
    "colab": {
     "base_uri": "https://localhost:8080/"
    },
    "id": "OLy6TOQ_OJP6",
    "outputId": "18127e18-65a2-48b4-bb77-7a9e63a776d3"
   },
   "outputs": [],
   "source": [
    "data.info()"
   ]
  },
  {
   "cell_type": "code",
   "execution_count": null,
   "metadata": {
    "colab": {
     "base_uri": "https://localhost:8080/"
    },
    "id": "lqDmpwzEVbnj",
    "outputId": "865e2dd3-456e-4ffb-9873-afc6063d4bb0"
   },
   "outputs": [],
   "source": [
    "data.duplicated().sum()"
   ]
  },
  {
   "cell_type": "code",
   "execution_count": null,
   "metadata": {
    "colab": {
     "base_uri": "https://localhost:8080/",
     "height": 178
    },
    "id": "818ijd1LVbql",
    "outputId": "a4ebf527-c727-4171-f791-630e74e5ef6c"
   },
   "outputs": [],
   "source": [
    "data.isna().sum()"
   ]
  },
  {
   "cell_type": "markdown",
   "metadata": {
    "id": "vIBn_rX7CGW9"
   },
   "source": [
    "Посмотрим, сколько всего токсичных комментариев в выборке."
   ]
  },
  {
   "cell_type": "code",
   "execution_count": null,
   "metadata": {
    "colab": {
     "base_uri": "https://localhost:8080/"
    },
    "id": "yJ-UQHe4CNGC",
    "outputId": "01aca3c1-f42b-4fa6-b055-4eeef1109e54"
   },
   "outputs": [],
   "source": [
    "data['toxic'].sum()/data['toxic'].count()"
   ]
  },
  {
   "cell_type": "markdown",
   "metadata": {
    "id": "wrLWtf-zCO7O"
   },
   "source": [
    "Около 10%, значит у нас будет сильный дисбаланс классов, который надо будет учесть при построении модели классификации."
   ]
  },
  {
   "cell_type": "markdown",
   "metadata": {
    "id": "bLGLklQ-8i9D"
   },
   "source": [
    " Сначала решим задачу классификации твитов, применив векторные представления на базе BERT. Построить векторы текстов нам поможет предобученная на токсичных  текстах модель toxic-bert."
   ]
  },
  {
   "cell_type": "markdown",
   "metadata": {
    "id": "FCeVZBr641Aa"
   },
   "source": [
    "# BERT"
   ]
  },
  {
   "cell_type": "markdown",
   "metadata": {
    "id": "6SxM6IwijbZA"
   },
   "source": [
    "Таблица содержит почти 160 тысяч строк, это очень много для моделей обработки текста. Ограничимся случайной выборкой из 800 строк, посмотрим, как на них отработает модель."
   ]
  },
  {
   "cell_type": "code",
   "execution_count": null,
   "metadata": {
    "id": "4Sl4uWmkZVzu"
   },
   "outputs": [],
   "source": [
    "data_tox = data[data['toxic']==1]"
   ]
  },
  {
   "cell_type": "code",
   "execution_count": null,
   "metadata": {
    "id": "1x2gL7agFClm"
   },
   "outputs": [],
   "source": [
    "data_copy = data.copy(deep=True)#создадим копию исходного датафрейма"
   ]
  },
  {
   "cell_type": "code",
   "execution_count": null,
   "metadata": {
    "id": "yj1gEy1NnYK-"
   },
   "outputs": [],
   "source": [
    "data = data.sample(800).reset_index(drop=True)"
   ]
  },
  {
   "cell_type": "markdown",
   "metadata": {
    "id": "--jeT7ObZMca"
   },
   "source": [
    "Создаем список слов из корпуса токсичных комментариев и список слов из нейтральных."
   ]
  },
  {
   "cell_type": "code",
   "execution_count": null,
   "metadata": {
    "id": "Odc9gzrIm5np"
   },
   "outputs": [],
   "source": [
    "data_good = data[data['toxic']==0]\n",
    "\n",
    "corpus_tox = list(data_tox['text'])\n",
    "corpus_good = list(data_good['text'])\n",
    "\n",
    "tox = ' '.join(corpus_tox)\n",
    "good = ' '.join(corpus_good)"
   ]
  },
  {
   "cell_type": "markdown",
   "metadata": {
    "id": "ipxYn17M9wGE"
   },
   "source": [
    "Построим облако слов отдельно для токсичных и для нейтральных комментариев для более наглядного представления."
   ]
  },
  {
   "cell_type": "markdown",
   "metadata": {
    "id": "YLbOBOWsZlIM"
   },
   "source": [
    "Облако слов для токсичных комментариев (по всей выборке)."
   ]
  },
  {
   "cell_type": "code",
   "execution_count": null,
   "metadata": {
    "colab": {
     "base_uri": "https://localhost:8080/",
     "height": 853
    },
    "id": "ZsQjz197qha8",
    "outputId": "8d78ec0d-69a3-434e-cd1b-7628ee48fe7b"
   },
   "outputs": [],
   "source": [
    "start = time.perf_counter()\n",
    "\n",
    "wordCloud = WordCloud(width = 10000, height = 10000, random_state=1, background_color='black', colormap='Set2', collocations=False).\\\n",
    "             generate(tox)\n",
    "plt.figure(figsize=(10,10))\n",
    "plt.imshow(wordCloud)\n",
    "\n",
    "end=time.perf_counter()\n",
    "elapsed =end - start\n",
    "print(f\"Затрачено времени: {elapsed} сек\")"
   ]
  },
  {
   "cell_type": "markdown",
   "metadata": {
    "id": "DqjtrzXRdEQu"
   },
   "source": [
    "Облако слов для нейтральных комментариев (по сэмплированной выборке)."
   ]
  },
  {
   "cell_type": "code",
   "execution_count": null,
   "metadata": {
    "colab": {
     "base_uri": "https://localhost:8080/",
     "height": 853
    },
    "id": "q7UnDHKOqjQC",
    "outputId": "7cb8e67b-5c0c-4a04-b743-b17f07ccf804"
   },
   "outputs": [],
   "source": [
    "start=time.perf_counter()\n",
    "\n",
    "wordCloud = WordCloud(width = 10000, height = 10000, random_state=1, background_color='black', colormap='Set2', collocations=False).\\\n",
    "             generate(good)\n",
    "plt.figure(figsize=(10,10))\n",
    "plt.imshow(wordCloud)\n",
    "\n",
    "end=time.perf_counter()\n",
    "elapsed =end - start\n",
    "print(f\"Затрачено времени: {elapsed} сек\")"
   ]
  },
  {
   "cell_type": "markdown",
   "metadata": {
    "id": "GXJ4CU-5ltCm"
   },
   "source": [
    "Загружаем список стоп-слов английского языка."
   ]
  },
  {
   "cell_type": "code",
   "execution_count": null,
   "metadata": {
    "colab": {
     "base_uri": "https://localhost:8080/"
    },
    "id": "EFgB9_z9U2F4",
    "outputId": "7dd76e3f-5713-4d01-e394-15463867a8fd"
   },
   "outputs": [],
   "source": [
    "nltk.download('stopwords')\n",
    "\n",
    "stopwords = set(nltk_stopwords.words('english'))"
   ]
  },
  {
   "cell_type": "markdown",
   "metadata": {
    "id": "EYbqYT_ClRKO"
   },
   "source": [
    "Создаем корпус текстов."
   ]
  },
  {
   "cell_type": "code",
   "execution_count": null,
   "metadata": {
    "id": "VbccnlsWlGxr"
   },
   "outputs": [],
   "source": [
    "corpus = list(data['text'])"
   ]
  },
  {
   "cell_type": "markdown",
   "metadata": {
    "id": "bBEQH6GYl0q9"
   },
   "source": [
    "Функция для очистки текста от ненужных символов."
   ]
  },
  {
   "cell_type": "code",
   "execution_count": null,
   "metadata": {
    "id": "pso6ns9PxzxD"
   },
   "outputs": [],
   "source": [
    "def clear_text(text):\n",
    "    t=re.sub(r'[^a-zA-Z]', ' ', text)\n",
    "    t=t.split()\n",
    "    return ' '.join(t)"
   ]
  },
  {
   "cell_type": "markdown",
   "metadata": {
    "id": "q2FP0bccmMKJ"
   },
   "source": [
    "Теперь применяем эту функцию к каждому предложению из корпуса."
   ]
  },
  {
   "cell_type": "code",
   "execution_count": null,
   "metadata": {
    "id": "TB_S9gjWx00T"
   },
   "outputs": [],
   "source": [
    "a = []\n",
    "for i in corpus:\n",
    "    a.append(clear_text(i))"
   ]
  },
  {
   "cell_type": "markdown",
   "metadata": {
    "id": "MPK8gUGYmZsM"
   },
   "source": [
    "Переписываем столбец data['text'] и проверяем корректность нашей обработки."
   ]
  },
  {
   "cell_type": "code",
   "execution_count": null,
   "metadata": {
    "id": "IZ8V0dLlx04d"
   },
   "outputs": [],
   "source": [
    "data['text'] = a"
   ]
  },
  {
   "cell_type": "code",
   "execution_count": null,
   "metadata": {
    "colab": {
     "base_uri": "https://localhost:8080/",
     "height": 363
    },
    "id": "fSVjYu_wx07i",
    "outputId": "24a6dba1-ea25-4d5b-a335-564594679411"
   },
   "outputs": [],
   "source": [
    "display(data.head(10))"
   ]
  },
  {
   "cell_type": "markdown",
   "metadata": {
    "id": "TgLxS9wNm1p6"
   },
   "source": [
    "Таким образом, наш текст очищен от лишних символов, теперь к нему можно применять модель для создания признаков для задачи классификации и прогноза токсичности отзывов."
   ]
  },
  {
   "cell_type": "markdown",
   "metadata": {
    "id": "8a2rYGlPn5kr"
   },
   "source": [
    "### Подготовка признаков для задачи классификации"
   ]
  },
  {
   "cell_type": "markdown",
   "metadata": {
    "id": "ABgAXc7zoDh5"
   },
   "source": [
    "\n",
    "Преобразуем исходные тексты в векторы, которые и будут признаками в задаче классификации. Для этого используем предобученную модель \"unitary/toxic-bert\"."
   ]
  },
  {
   "cell_type": "markdown",
   "metadata": {
    "id": "1hkwzOVqqHyS"
   },
   "source": [
    "Инициализируем модель и токенизатор, который разбивает и преобразует исходные тексты в список токенов."
   ]
  },
  {
   "cell_type": "code",
   "execution_count": null,
   "metadata": {
    "colab": {
     "base_uri": "https://localhost:8080/",
     "height": 301,
     "referenced_widgets": [
      "3ea48e4598a24449b002ddde0110f8f4",
      "5bb9839f28ea41afbc50d341cae080ff",
      "a6a25f6f5fef4669bbd1f46370ff40a5",
      "802d1e84482e4e97b8118db550509597",
      "1ed16092dc854fffa44d311c8c4b0e52",
      "6f3ec3497ec2440395c885af05f56265",
      "6b416e5560d74a85a993ec53dc15c013",
      "2c2807228faa4f6c821e8275896453b2",
      "72be206ab9bd449c8c0a482047fe8c4a",
      "ed7802e55f6545cc8dd49e4e5dded681",
      "328eec5d99644d2ab66eb6398d983309",
      "67fdaf4a67654b94855229503040c336",
      "c303a6d6748a4efe8c42974f5163ac28",
      "a871cd4d99e346bfa7a9e59d3f8e034c",
      "c0e57d3d796a48b5ba7a148971376a12",
      "3fc4b1128dd64b4a9975cbf574cb7a51",
      "2648859be1f74826abe21d3883d7b0f0",
      "7cf38739f3394dcf8d9e9dd3803380b8",
      "337acabf721e4c569765be8abc7b2011",
      "262a7d19ed8b406a81d960a673469651",
      "69b44acf5d2546a584c51ed7b28f495a",
      "6fbfae81d53942f29fe69ebe279caace",
      "176fb4b1239c4021a1312cc53e73d5d2",
      "ca17aaef3337445b8c679d2d6cf9e99c",
      "93d461d1b7fe479b8f8fbdce2f208141",
      "dcb7bda4c60f4becb2151287b4c20c16",
      "6367f3948bbd41bb8e22504e365fc4d9",
      "517f2279a0134a9292e7636e88270be8",
      "a84e93e1731545859be5405815001942",
      "002af21bae2b4845ae24942e98aaf43f",
      "198d1138b004413a9b64477b84e83749",
      "b0a0acfe6d42497f932c1f413632f63a",
      "d2cb6dc21cb6468caad7917f10d104be",
      "61de821dacf44790b9a15640eddd05c7",
      "dde976c9ef704e8b9273fb4b7d69aa43",
      "b9cd29cad8194df191f25acb2c9cf484",
      "0a956300b980470da1841f55a31ededc",
      "2c207e8af7624e19a40a108d8dc90e47",
      "48da4a500bc84e1aa814b24d8c7bc1dd",
      "c326863f53994d5bbe420f623f9456f3",
      "2a925dfbacd646d29f9118b51c488ce6",
      "7e2bb1c116c74494abf00bbbd2310c1c",
      "454701776104412dbc0f09f65c6b9aa5",
      "f0e0d25aa510494f864b587f24e44542",
      "54d04bb18dc94017a4788085a869652a",
      "06e05d3d014d44bdb85df838543dd407",
      "5cf57035e18c45b0b44f5e258ef7a07e",
      "d2b740cf36274503bd8de1a8ea889486",
      "0e9ca47db4354cbab8c928faab3d6780",
      "e152b5b83d1549f6b332603717f0b825",
      "82768424eb734470a1b5fb32b1dd29b6",
      "f7eccbfb9e3b4900b1b79e20ab31ba13",
      "5b707ec7d0a54c41b09e861c10511c90",
      "61eecf90c1f24e74a7dbb0d9a4469604",
      "f2e51847994849e79eb76b557ad025cd"
     ]
    },
    "id": "Dk6RJeyyLTL3",
    "outputId": "ee7e1809-2372-46b4-a514-688ae665d572"
   },
   "outputs": [],
   "source": [
    "model_name = \"unitary/toxic-bert\"\n",
    "\n",
    "model = AutoModel.from_pretrained(model_name)\n",
    "tokenizer = AutoTokenizer.from_pretrained(model_name)"
   ]
  },
  {
   "cell_type": "markdown",
   "metadata": {
    "id": "oEUYtLU5qfDB"
   },
   "source": [
    "Преобразуем текст в номера токенов с помощью токенайзера.\n",
    "\n",
    "Параметр add_special_tokens = True,значит, что к любому преобразуемому тексту добавляется токен начала (101) и токен конца текста (102).\n",
    "\n",
    "Параметры truncation=True,max_length=512 означают, что последовательности усекаются до максимальной длины 512 токенов."
   ]
  },
  {
   "cell_type": "code",
   "execution_count": null,
   "metadata": {
    "id": "jcNdr1BCVb3k"
   },
   "outputs": [],
   "source": [
    "tokenized = data['text'].apply(\n",
    "    lambda x: tokenizer.encode(x, add_special_tokens = True,truncation = True, max_length = 512))"
   ]
  },
  {
   "cell_type": "markdown",
   "metadata": {
    "id": "4TF5NODXq2-i"
   },
   "source": [
    "Посмотрим, как прошла токенизация."
   ]
  },
  {
   "cell_type": "code",
   "execution_count": null,
   "metadata": {
    "colab": {
     "base_uri": "https://localhost:8080/",
     "height": 458
    },
    "id": "9om0lehfPC3z",
    "outputId": "448402b5-5dfe-45f0-800b-1fd3e20b63c3"
   },
   "outputs": [],
   "source": [
    "display(tokenized)"
   ]
  },
  {
   "cell_type": "markdown",
   "metadata": {
    "id": "0_j2NjnbtNZr"
   },
   "source": [
    "Каждая строка преобразована в список чисел."
   ]
  },
  {
   "cell_type": "markdown",
   "metadata": {
    "id": "3bhL5lt5rgNw"
   },
   "source": [
    "Теперь применим метод padding, чтобы после токенизации длины исходных текстов в корпусе были равным (условие для работы BERT). Пусть стандартной длиной вектора n будет длина наибольшего во всём датасете вектора. Остальные векторы дополним нулями."
   ]
  },
  {
   "cell_type": "code",
   "execution_count": null,
   "metadata": {
    "id": "Bo-mrFcoVb6g"
   },
   "outputs": [],
   "source": [
    "max_len = 0\n",
    "for i in tokenized.values:\n",
    "    if len(i) > max_len:\n",
    "        max_len = len(i)"
   ]
  },
  {
   "cell_type": "code",
   "execution_count": null,
   "metadata": {
    "id": "Vvx-_YMyVb-J"
   },
   "outputs": [],
   "source": [
    "padded = np.array([i + [0]*(max_len - len(i)) for i in tokenized.values])"
   ]
  },
  {
   "cell_type": "markdown",
   "metadata": {
    "id": "gt-rfDf4rtAo"
   },
   "source": [
    "Теперь поясним модели, что нули не несут значимой информации. Создадим attention_mask, массив из 0 и 1, который  указывает модели, какие токены следует учитывать (1), а какие игнорировать(0)."
   ]
  },
  {
   "cell_type": "code",
   "execution_count": null,
   "metadata": {
    "id": "T50tYMM3oTw7"
   },
   "outputs": [],
   "source": [
    "attention_mask = np.where(padded != 0, 1, 0)"
   ]
  },
  {
   "cell_type": "markdown",
   "metadata": {
    "id": "pqsTiN_8uD22"
   },
   "source": [
    "Проверим размерности полученных массивов."
   ]
  },
  {
   "cell_type": "code",
   "execution_count": null,
   "metadata": {
    "colab": {
     "base_uri": "https://localhost:8080/"
    },
    "id": "B9-DgdRqpuEs",
    "outputId": "266f6233-0798-4bde-a82d-3c736b72f102"
   },
   "outputs": [],
   "source": [
    "np.array(padded).shape"
   ]
  },
  {
   "cell_type": "code",
   "execution_count": null,
   "metadata": {
    "colab": {
     "base_uri": "https://localhost:8080/"
    },
    "id": "06gKwy2Dp2ss",
    "outputId": "c3419228-a332-4826-8ada-9ee6d754e5bc"
   },
   "outputs": [],
   "source": [
    "attention_mask.shape"
   ]
  },
  {
   "cell_type": "markdown",
   "metadata": {
    "id": "P47VF1ZEug98"
   },
   "source": [
    "Теперь преобразуем тексты в векторы-эмбеддинги, которые содержат данные о соотношении разных слов и их свойствах.\n",
    "\n",
    "Сделаем цикл по батчам, на каждом шаге преобразуем данные и маску в формат тензоров и передаем их модели unitary/toxic-bert, которая преобразует их в эмбеддинги, и эти эмбеддинги заносятся в список embeddings."
   ]
  },
  {
   "cell_type": "code",
   "execution_count": null,
   "metadata": {
    "colab": {
     "base_uri": "https://localhost:8080/"
    },
    "id": "oTscH8YiOh6Y",
    "outputId": "c92d5fb8-2171-47ad-8e96-451c3a4ac542"
   },
   "outputs": [],
   "source": [
    "device = torch.device(\"cuda\" if torch.cuda.is_available() else \"cpu\")\n",
    "print(f\"Using device: {device}\")"
   ]
  },
  {
   "cell_type": "code",
   "execution_count": null,
   "metadata": {
    "colab": {
     "base_uri": "https://localhost:8080/"
    },
    "id": "Ze042DcDOkMp",
    "outputId": "2dfa2cf9-cce9-4f6f-b15d-a8ec35eed7c9"
   },
   "outputs": [],
   "source": [
    "model.to(device)"
   ]
  },
  {
   "cell_type": "code",
   "execution_count": null,
   "metadata": {
    "id": "MjvAt-xwOouh"
   },
   "outputs": [],
   "source": [
    "token_ids = torch.tensor(padded).to(device)\n",
    "attentionMask = torch.tensor(attention_mask ).to(device)"
   ]
  },
  {
   "cell_type": "code",
   "execution_count": null,
   "metadata": {
    "colab": {
     "base_uri": "https://localhost:8080/",
     "height": 49,
     "referenced_widgets": [
      "b92939d334604441be00be550e5b3972",
      "a1a17eeb9a32411dbc1c75f7a850069f",
      "9c1242a9311c4e4ba99736700cc40d46",
      "f1df1a53b2b1484cadf3d78e0f68a054",
      "6aa075f3430b49bc940dc9c87a10123b",
      "2cd3b04409e64e4d8e6caf7d747e2440",
      "1c21ec51d23e4602ab14b39dfda460a7",
      "0369a918753e4da1b665ecebb99e8095",
      "f816d41770c040feaf2f913529476e0d",
      "97e235f036ec4f3e9ae0933e4bc7ae76",
      "b02d000fa3184d81bff228b4865de38d"
     ]
    },
    "id": "kYcIehUCP_Rd",
    "outputId": "be7de745-f548-433d-da32-ec08f0b4f8ae"
   },
   "outputs": [],
   "source": [
    "def get_text_embeddings(data, tokenizer, model, device, max_len=512, batch_size=50):\n",
    "\n",
    "  # Токенизируем данные\n",
    "  tokenized = data['text'].apply(lambda x: tokenizer.encode(x, add_special_tokens=True,truncation=True, max_length=max_len))\n",
    "  padded = np.array([i + [0]*(max_len - len(i)) for i in tokenized.values])\n",
    "  attention_mask = np.where(padded != 0, 1, 0)\n",
    "\n",
    "  # Получаем эмбендинги\n",
    "  text_embeddings = {}\n",
    "  embeddings=[]\n",
    "\n",
    "  for i in notebook.tqdm(range(padded.shape[0] // batch_size)):\n",
    "    batch = torch.LongTensor(padded[batch_size*i:batch_size*(i+1)]).to(device)\n",
    "    attention_mask_batch = torch.LongTensor(attention_mask[batch_size*i:batch_size*(i+1)]).to(device)\n",
    "\n",
    "    with torch.no_grad():\n",
    "      model.to(device)\n",
    "      batch_embeddings = model(batch, attention_mask=attention_mask_batch)\n",
    "\n",
    "      embeddings.append(batch_embeddings[0][:,0,:].cpu().numpy())\n",
    "\n",
    "  return embeddings\n",
    "\n",
    "# получаем векторы\n",
    "text_embeddings = get_text_embeddings(data, tokenizer, model, device, max_len=512, batch_size=1)"
   ]
  },
  {
   "cell_type": "markdown",
   "metadata": {
    "id": "TmpFiGA4v8Ut"
   },
   "source": [
    "Соберём все эмбеддинги в матрицу признаков features, проверим размерность матрицы и целевого признака и выведем на печать полученные признаки."
   ]
  },
  {
   "cell_type": "code",
   "execution_count": null,
   "metadata": {
    "colab": {
     "base_uri": "https://localhost:8080/"
    },
    "id": "IdFXmXsoL2Vx",
    "outputId": "254d61bd-6998-4f3d-dedf-e7c9f47831ea"
   },
   "outputs": [],
   "source": [
    "features = np.concatenate(text_embeddings)\n",
    "\n",
    "print(features.shape[0])\n",
    "print(data['toxic'].shape[0])\n"
   ]
  },
  {
   "cell_type": "markdown",
   "metadata": {
    "id": "L9eUniL9wp4H"
   },
   "source": [
    "Как видим, преобразование прошло корректно.  Теперь на этих признаках можно обучать модель классификации."
   ]
  },
  {
   "cell_type": "markdown",
   "metadata": {
    "id": "lwhH3czyw759"
   },
   "source": [
    "### Подбор модели классификации"
   ]
  },
  {
   "cell_type": "markdown",
   "metadata": {
    "id": "977hxzlMw6QJ"
   },
   "source": [
    "Поскольку у нас наблюдается сильный дисбаланс классов в целевом признаке, нужно стратифицировать тренировочную и тестовую выборки, чтобы они сохранили соотношение классов исходных данных. Соотношение тренировочной и тестовой выборки возьмем 1:1."
   ]
  },
  {
   "cell_type": "code",
   "execution_count": null,
   "metadata": {
    "id": "mtaDiaVTL2ZJ"
   },
   "outputs": [],
   "source": [
    "X_train, X_test, y_train, y_test = train_test_split(\n",
    "    features,\n",
    "    data['toxic'],\n",
    "    test_size = TEST_SIZE,\n",
    "    random_state = RANDOM_STATE,\n",
    "    stratify=data['toxic']\n",
    ")"
   ]
  },
  {
   "cell_type": "markdown",
   "metadata": {
    "id": "fu_7NobcV6S5"
   },
   "source": [
    "Проверим размеры выборок."
   ]
  },
  {
   "cell_type": "code",
   "execution_count": null,
   "metadata": {
    "colab": {
     "base_uri": "https://localhost:8080/"
    },
    "id": "nqGcLXwfR269",
    "outputId": "f69e6ed2-12aa-4e4f-9b14-9beefc3361ab"
   },
   "outputs": [],
   "source": [
    "print(X_train.shape[0])\n",
    "print(X_test.shape[0])"
   ]
  },
  {
   "cell_type": "markdown",
   "metadata": {
    "id": "OIlK_Y_3Q4Du"
   },
   "source": [
    "Проверим, соблюдены ли пропорции классов в тренировочной и тестовой выборке."
   ]
  },
  {
   "cell_type": "code",
   "execution_count": null,
   "metadata": {
    "colab": {
     "base_uri": "https://localhost:8080/",
     "height": 410
    },
    "id": "wNJ_qYqj3jj0",
    "outputId": "45cc2a1b-72ba-4882-fe9f-f13ca951135d"
   },
   "outputs": [],
   "source": [
    "fig, ax = plt.subplots(1,3, figsize=(12,4))\n",
    "data['toxic'].value_counts().plot(kind='bar', ax=ax[0], rot=0)\n",
    "ax[0].set_title(\"Исходный датасет\")\n",
    "y_train.value_counts().plot(kind='bar', ax=ax[1], rot=0)\n",
    "ax[1].set_title(\"Train\")\n",
    "y_test.value_counts().plot(kind='bar', ax=ax[2], rot=0)\n",
    "ax[2].set_title(\"Test\")\n",
    "plt.show()"
   ]
  },
  {
   "cell_type": "markdown",
   "metadata": {
    "id": "UySqZMqZTGh-"
   },
   "source": [
    "Как видим, пропорции соблюдены верно."
   ]
  },
  {
   "cell_type": "markdown",
   "metadata": {
    "id": "1RCndvvmRcSY"
   },
   "source": [
    "Создадим словарь для моделей, из которых  будем  выбирать лучшую по метрике f1. Для всех моделей, кроме KNeighborsClassifier применим взвешивание классов для решения проблемы дисбаланса классов."
   ]
  },
  {
   "cell_type": "code",
   "execution_count": null,
   "metadata": {
    "id": "9iE05rP6_d1V"
   },
   "outputs": [],
   "source": [
    "param_distributions = [\n",
    "    #словарь для модели KNeighborsClassifier()\n",
    "    {\n",
    "        'models': [KNeighborsClassifier()],\n",
    "        'models__n_neighbors': range(1, 20),\n",
    "        'models__weights': ['uniform', 'distance'],\n",
    "\n",
    "     },\n",
    "    # словарь для модели DecisionTreeClassifier()\n",
    "    {\n",
    "        'models': [DecisionTreeClassifier(random_state = RANDOM_STATE, class_weight = 'balanced')],\n",
    "        'models__min_samples_leaf': range(1, 10),\n",
    "\n",
    "\n",
    "\n",
    "    },\n",
    "    # словарь для модели SVC()\n",
    "    {\n",
    "        'models': [SVC(random_state = RANDOM_STATE, probability = True, class_weight = 'balanced')],\n",
    "        'models__kernel': ['linear', 'poly', 'rbf', 'sigmoid'],\n",
    "\n",
    "\n",
    "    },\n",
    "    # словарь для модели LogisticRegression()\n",
    "    {\n",
    "        'models': [LogisticRegression(random_state = RANDOM_STATE, class_weight = 'balanced', max_iter = 1000)],\n",
    "        'models__C': [0.5,1,2,3,4,5,6,7,8,9,10],\n",
    "        'models__solver': ['liblinear', 'saga'],\n",
    "\n",
    "    },\n",
    "]"
   ]
  },
  {
   "cell_type": "code",
   "execution_count": null,
   "metadata": {
    "id": "Dn0wdBGe_d8S"
   },
   "outputs": [],
   "source": [
    "pipe_final = Pipeline([\n",
    "\n",
    "    ('models', DecisionTreeClassifier(random_state=RANDOM_STATE))\n",
    "])"
   ]
  },
  {
   "cell_type": "markdown",
   "metadata": {
    "id": "R1mETviqRvwZ"
   },
   "source": [
    "Случайный поиск наилучшей модели с кросс-валидацией на 5 выборках по метрике f1:"
   ]
  },
  {
   "cell_type": "code",
   "execution_count": null,
   "metadata": {
    "id": "uFtEWCc7GbZY"
   },
   "outputs": [],
   "source": [
    "randomized_search_all = RandomizedSearchCV(\n",
    "    pipe_final,\n",
    "    param_distributions=param_distributions,\n",
    "    scoring='f1',\n",
    "    random_state=RANDOM_STATE,\n",
    "    n_jobs=-1,\n",
    "    cv=5\n",
    ")\n"
   ]
  },
  {
   "cell_type": "code",
   "execution_count": null,
   "metadata": {
    "colab": {
     "base_uri": "https://localhost:8080/",
     "height": 148
    },
    "id": "WKGtdmUyJURG",
    "outputId": "820bb718-54f5-444f-b4b0-84d701423fd5"
   },
   "outputs": [],
   "source": [
    "randomized_search_all.fit(X_train, y_train)"
   ]
  },
  {
   "cell_type": "markdown",
   "metadata": {
    "id": "aNwCyq6LWEf9"
   },
   "source": [
    "Выведем таблицу с результатами поиска наилучшей модели."
   ]
  },
  {
   "cell_type": "code",
   "execution_count": null,
   "metadata": {
    "colab": {
     "base_uri": "https://localhost:8080/",
     "height": 588
    },
    "id": "gXHK_GmdR1Fx",
    "outputId": "88be4a62-b7fb-4ed8-878c-5d6bc76baa44"
   },
   "outputs": [],
   "source": [
    "pd.set_option('display.max_colwidth', None)\n",
    "result = pd.DataFrame(randomized_search_all.cv_results_)\n",
    "display(result[\n",
    "    ['rank_test_score', 'param_models', 'mean_test_score','params']\n",
    "].sort_values('rank_test_score'))"
   ]
  },
  {
   "cell_type": "markdown",
   "metadata": {
    "id": "ehA8DfqXtOn7"
   },
   "source": [
    "Для каждой модели выведем ее лучшие параметры и метрики по убывающей."
   ]
  },
  {
   "cell_type": "code",
   "execution_count": null,
   "metadata": {
    "id": "1r69WLF3roD_"
   },
   "outputs": [],
   "source": [
    "result['param_models']=result['param_models'].astype('str')"
   ]
  },
  {
   "cell_type": "markdown",
   "metadata": {
    "id": "l5ud921Vtssz"
   },
   "source": [
    "Для логистической регрессии:"
   ]
  },
  {
   "cell_type": "code",
   "execution_count": null,
   "metadata": {
    "colab": {
     "base_uri": "https://localhost:8080/",
     "height": 247
    },
    "id": "c9jQvYGxpXdJ",
    "outputId": "6c558213-baa2-4427-9b78-6ea45f913729"
   },
   "outputs": [],
   "source": [
    "result_lr=result[result['param_models'].str.contains('Logistic')]\n",
    "\n",
    "display(result_lr[\n",
    "    ['rank_test_score', 'param_models', 'mean_test_score','params']\n",
    "].sort_values('rank_test_score'))"
   ]
  },
  {
   "cell_type": "markdown",
   "metadata": {
    "id": "-PZFtjdnt117"
   },
   "source": [
    "Для модели к-соседей:"
   ]
  },
  {
   "cell_type": "code",
   "execution_count": null,
   "metadata": {
    "colab": {
     "base_uri": "https://localhost:8080/",
     "height": 269
    },
    "id": "_MWSv8migQsy",
    "outputId": "fce06ec1-6eff-4058-bc68-cb4f824a13be"
   },
   "outputs": [],
   "source": [
    "result_kn=result[result['param_models'].str.contains('KNeighborsClassifier')]\n",
    "\n",
    "display(result_kn[\n",
    "    ['rank_test_score', 'param_models', 'mean_test_score','params']\n",
    "].sort_values('rank_test_score'))"
   ]
  },
  {
   "cell_type": "markdown",
   "metadata": {
    "id": "j6w9myEot8AC"
   },
   "source": [
    "Для SVC и DecisionTreeClassifier подходящие модели не нашлись:"
   ]
  },
  {
   "cell_type": "code",
   "execution_count": null,
   "metadata": {
    "colab": {
     "base_uri": "https://localhost:8080/",
     "height": 53
    },
    "id": "DCzZywzAsfW3",
    "outputId": "c621c6cf-8899-48d0-9761-610aee8bcfec"
   },
   "outputs": [],
   "source": [
    "result_SVC=result[result['param_models'].str.contains('SVC')]\n",
    "\n",
    "display(result_SVC[\n",
    "    ['rank_test_score', 'param_models', 'mean_test_score','params']\n",
    "].sort_values('rank_test_score'))"
   ]
  },
  {
   "cell_type": "code",
   "execution_count": null,
   "metadata": {
    "colab": {
     "base_uri": "https://localhost:8080/",
     "height": 53
    },
    "id": "TtMtr1gfs-2Q",
    "outputId": "0ddb9dc2-4d4d-4813-b55a-b1c2a5026e19"
   },
   "outputs": [],
   "source": [
    "result_Decision=result[result['param_models'].str.contains('Decision')]\n",
    "\n",
    "display(result_Decision[\n",
    "    ['rank_test_score', 'param_models', 'mean_test_score','params']\n",
    "].sort_values('rank_test_score'))"
   ]
  },
  {
   "cell_type": "markdown",
   "metadata": {
    "id": "T8pMoaeKWf0d"
   },
   "source": [
    "Таким образом, наилучшей моделью по метрике f1 признана логистическая регрессия, ее средняя метрика оказалась 0.923."
   ]
  },
  {
   "cell_type": "markdown",
   "metadata": {
    "id": "ES_hwQBFxEcM"
   },
   "source": [
    "### Тестирование лучшей модели"
   ]
  },
  {
   "cell_type": "markdown",
   "metadata": {
    "id": "yiFxwT6hXEFA"
   },
   "source": [
    "Теперь можем рассчитать метрику f1 на тестовой выборке."
   ]
  },
  {
   "cell_type": "code",
   "execution_count": null,
   "metadata": {
    "colab": {
     "base_uri": "https://localhost:8080/"
    },
    "id": "cwIW_6BOXC3t",
    "outputId": "169bafa0-f1c4-434e-af3d-7983b0de19d3"
   },
   "outputs": [],
   "source": [
    "y_pred=randomized_search_all.predict(X_test)\n",
    "\n",
    "f1_score(y_test,y_pred)"
   ]
  },
  {
   "cell_type": "markdown",
   "metadata": {
    "id": "83C_ppCnXLzH"
   },
   "source": [
    "Метрика удовлетворяет условиям задачи."
   ]
  },
  {
   "cell_type": "markdown",
   "metadata": {
    "id": "jwzb9NBZJRBj"
   },
   "source": [
    " Чтобы узнать, не предвзята ли наша модель, сравним её с такой, которая всегда присваивает объектам мажорный класс: DummyClassifier."
   ]
  },
  {
   "cell_type": "code",
   "execution_count": null,
   "metadata": {
    "colab": {
     "base_uri": "https://localhost:8080/"
    },
    "id": "PB_0zxKTJL41",
    "outputId": "4fbbd858-a7ac-421c-b994-1fb1b34fae45"
   },
   "outputs": [],
   "source": [
    "dummy_model = DummyClassifier(strategy = 'constant', constant = 1)\n",
    "\n",
    "dummy_model.fit(X_train, y_train)\n",
    "\n",
    "dummy_model_preds = dummy_model.predict(X_test)\n",
    "\n",
    "dummy_f1 = f1_score(y_test, dummy_model_preds)\n",
    "print('F1-score =', round(dummy_f1,2))"
   ]
  },
  {
   "cell_type": "markdown",
   "metadata": {
    "id": "1C4GgCLBZ7D5"
   },
   "source": [
    "f1 = 0.22 на тестовой выборке.\n",
    "\n",
    "Таким образом, наша модель прошла проверку на адекватность."
   ]
  },
  {
   "cell_type": "markdown",
   "metadata": {
    "id": "J_UaAi3FXkIv"
   },
   "source": [
    "Для найденной наилучшей модели можно для наглядности вывести матрицу ошибок на тестовой выборке."
   ]
  },
  {
   "cell_type": "code",
   "execution_count": null,
   "metadata": {
    "colab": {
     "base_uri": "https://localhost:8080/",
     "height": 449
    },
    "id": "C1N5tDz5ZhpO",
    "outputId": "ead55a94-4cda-4a2a-84aa-bcef9facb86d"
   },
   "outputs": [],
   "source": [
    "ConfusionMatrixDisplay.from_estimator(randomized_search_all, X_test, y_test)\n",
    "plt.show()"
   ]
  },
  {
   "cell_type": "markdown",
   "metadata": {
    "id": "lFd_LM65YAL8"
   },
   "source": [
    "Как видим, 1 токсичный отзыва модель приняла за нейтральные, а 5 нейтральных несправедливо отнесла к токсичным."
   ]
  },
  {
   "cell_type": "markdown",
   "metadata": {
    "id": "pOxvinuedBED"
   },
   "source": [
    "Теоретически, на этапе подбора модели можно было бы изменить порог вероятности, чтобы модель реже относила нейтральные отзывы к токсичным, тогда и ошибку FN можно было бы уменьшить. Но тогда нужно было бы выделять валидационную выборку и на ней подбирать порог, а у нас и так оказалось в наличии немного данных: на 800 строках программа работает около часа.\n"
   ]
  },
  {
   "cell_type": "markdown",
   "metadata": {
    "id": "1zb0tJYkrkK-"
   },
   "source": [
    "#  TFIDF"
   ]
  },
  {
   "cell_type": "markdown",
   "metadata": {
    "id": "vIzsmUfU_hG1"
   },
   "source": [
    "Теперь для интереса попробуем решить задачу без нейронной сети BERT.\n",
    "У нас есть задача классификации, где целевой признак равен «1» для токсичного текста и «0» для отрицательного, а входные признаки — это слова из корпуса и их величины TF-IDF для каждого текста."
   ]
  },
  {
   "cell_type": "code",
   "execution_count": null,
   "metadata": {
    "id": "tDyN2vQUFgzV"
   },
   "outputs": [],
   "source": [
    "#достаем обратно исходный датафрейм\n",
    "data=data_copy.copy(deep=True)"
   ]
  },
  {
   "cell_type": "code",
   "execution_count": null,
   "metadata": {
    "colab": {
     "base_uri": "https://localhost:8080/"
    },
    "id": "MCrPmmfuGLSK",
    "outputId": "9204da99-2e5c-4609-d9c7-c9b8641f9f0b"
   },
   "outputs": [],
   "source": [
    "data.info()"
   ]
  },
  {
   "cell_type": "markdown",
   "metadata": {
    "id": "HJGn4dORrkK_"
   },
   "source": [
    "Если для BERT не требовалось лемматизировать текст и очищать его от стоп-слов, то сейчас нам уже придется сделать это.\n",
    "\n",
    "Функции для очищения от ненужных симловов, лемматизации и удаления  стоп-слов:"
   ]
  },
  {
   "cell_type": "code",
   "execution_count": null,
   "metadata": {
    "id": "yl3N4x8SvY16"
   },
   "outputs": [],
   "source": [
    "lemmatizer = WordNetLemmatizer()\n",
    "\n",
    "def lemmatize(text):\n",
    "    lemm_list=lemmatizer.lemmatize(text)\n",
    "    lemm_text = \"\".join(lemm_list)\n",
    "\n",
    "    return lemm_text\n",
    "\n",
    "def clear_text(text):\n",
    "    t=re.sub(r'[^a-zA-Z]', ' ', text)\n",
    "    t=t.split()\n",
    "    return ' '.join(t)\n",
    "\n",
    "def remove_stopwords(text):\n",
    "    text=text.split(' ')\n",
    "    processed_word_list = []\n",
    "    for word in text:\n",
    "        word = word.lower()\n",
    "        if word not in stopwords:\n",
    "            processed_word_list.append(word)\n",
    "    return ' '.join(processed_word_list)"
   ]
  },
  {
   "cell_type": "markdown",
   "metadata": {
    "id": "QdRujQXOAdjr"
   },
   "source": [
    "Применяем эти функции к корпусу текстов:"
   ]
  },
  {
   "cell_type": "code",
   "execution_count": null,
   "metadata": {
    "id": "37br9vPfvkpD"
   },
   "outputs": [],
   "source": [
    "a=[]\n",
    "\n",
    "corpus = list(data['text'])\n",
    "\n",
    "for i in corpus:\n",
    "         a.append(remove_stopwords(lemmatize(clear_text(i))))\n",
    "\n",
    "data['text']=a"
   ]
  },
  {
   "cell_type": "code",
   "execution_count": null,
   "metadata": {
    "colab": {
     "base_uri": "https://localhost:8080/",
     "height": 293
    },
    "id": "1s2ekIRIFv-n",
    "outputId": "12a0afdb-89b8-4eff-b59e-58f51d0947f6"
   },
   "outputs": [],
   "source": [
    "display(data.head())"
   ]
  },
  {
   "cell_type": "markdown",
   "metadata": {
    "id": "r0wJy9SjAh36"
   },
   "source": [
    "Создаем тренировочную и тестовые выборки, стратифицируя их по признаку 'toxic'."
   ]
  },
  {
   "cell_type": "code",
   "execution_count": null,
   "metadata": {
    "id": "3PML8nKsvZf6"
   },
   "outputs": [],
   "source": [
    "X_train, X_test, y_train, y_test = train_test_split(\n",
    "    data['text'],\n",
    "    data['toxic'],\n",
    "    test_size = TEST_SIZE,\n",
    "    random_state = RANDOM_STATE,\n",
    "    stratify=data['toxic']\n",
    ")"
   ]
  },
  {
   "cell_type": "markdown",
   "metadata": {
    "id": "cZ4ze2WvAycJ"
   },
   "source": [
    "Будем подбирать гиперпараметры для логистической регрессии, параметры заданы в словаре:"
   ]
  },
  {
   "cell_type": "code",
   "execution_count": null,
   "metadata": {
    "id": "BviVYbokA_8x"
   },
   "outputs": [],
   "source": [
    "params={\n",
    "          'model__C':[.01,.05,.1,.5,1,5,10],\n",
    "          'model__penalty':['l1','l2']}"
   ]
  },
  {
   "cell_type": "markdown",
   "metadata": {
    "id": "VICfdTfZBCQ4"
   },
   "source": [
    "Итоговый пайплайн, который состоит из\n",
    "\n",
    "*   CountVectorizer - преобразователя текста в матрицу числовых данных,\n",
    "*   TfidfTransformer - преобразователя матрицы в матрицу значений TF-IDF\n",
    "*   модели логистической регрессии.\n",
    "\n"
   ]
  },
  {
   "cell_type": "code",
   "execution_count": null,
   "metadata": {
    "id": "I_YsQINszAXn"
   },
   "outputs": [],
   "source": [
    "pipeline = Pipeline(\n",
    "    [\n",
    "    ('vect', CountVectorizer(min_df=40,ngram_range=(1,4))),\n",
    "    ('tfidf', TfidfTransformer()),\n",
    "    ('model',LogisticRegression())\n",
    "    ])"
   ]
  },
  {
   "cell_type": "markdown",
   "metadata": {
    "id": "7S5X9fB8DLbC"
   },
   "source": [
    "Подбор гиперпараметров для логистической регрессии с помощью поиска по сетке GridSearchCV."
   ]
  },
  {
   "cell_type": "code",
   "execution_count": null,
   "metadata": {
    "colab": {
     "base_uri": "https://localhost:8080/",
     "height": 785
    },
    "id": "zrW8sC-ZDGoJ",
    "outputId": "685f4ff8-f9ba-4a4c-c286-ccbbccf59570"
   },
   "outputs": [],
   "source": [
    "grid = GridSearchCV(\n",
    "    pipeline,\n",
    "    cv=5,\n",
    "    n_jobs=-1,\n",
    "    param_grid=params,\n",
    "    scoring='f1')\n",
    "\n",
    "grid.fit(X_train, y_train)"
   ]
  },
  {
   "cell_type": "code",
   "execution_count": null,
   "metadata": {
    "colab": {
     "base_uri": "https://localhost:8080/"
    },
    "id": "jr0JKf1ELp0H",
    "outputId": "e44ac269-cc3c-4088-dbaa-47b7f6c7811e"
   },
   "outputs": [],
   "source": [
    "print('Метрика f1 на тестовой выборке ', grid.score(X_test, y_test))"
   ]
  },
  {
   "cell_type": "markdown",
   "metadata": {
    "id": "vR9bzwd4N7Mr"
   },
   "source": [
    "Метрика на тестовой выборке оказалась приемлемой.\n",
    "\n",
    "Выведем лучшие модели и их параметры."
   ]
  },
  {
   "cell_type": "code",
   "execution_count": null,
   "metadata": {
    "colab": {
     "base_uri": "https://localhost:8080/",
     "height": 488
    },
    "id": "p4VVldktKdAa",
    "outputId": "5c8f4b16-8a50-403c-b17b-1eb45cebc077"
   },
   "outputs": [],
   "source": [
    "pd.set_option('display.max_colwidth', None)\n",
    "result = pd.DataFrame(grid.cv_results_)\n",
    "display(result[\n",
    "    ['rank_test_score', 'params', 'mean_test_score','params']\n",
    "].sort_values('rank_test_score'))"
   ]
  },
  {
   "cell_type": "markdown",
   "metadata": {
    "id": "ypGIS0oysMxZ"
   },
   "source": [
    "Можно произвести отбор  признаков — найти те, которые вносят наибольший вклад в корректное предсказание."
   ]
  },
  {
   "cell_type": "markdown",
   "metadata": {
    "id": "DVX1-_C1XB-J"
   },
   "source": [
    "Поиск наиболее важных признаков."
   ]
  },
  {
   "cell_type": "code",
   "execution_count": null,
   "metadata": {
    "id": "qQUrhsxAWAz5"
   },
   "outputs": [],
   "source": [
    "best_model = grid.best_estimator_\n",
    "logistic_regression_model = best_model.named_steps['model']\n",
    "coefficients = logistic_regression_model.coef_"
   ]
  },
  {
   "cell_type": "code",
   "execution_count": null,
   "metadata": {
    "id": "RPeiwMaiWQhg"
   },
   "outputs": [],
   "source": [
    "vectorizer = best_model.named_steps['vect']\n",
    "feature_names = vectorizer.get_feature_names_out()"
   ]
  },
  {
   "cell_type": "code",
   "execution_count": null,
   "metadata": {
    "id": "DGZuMzxxWV_z"
   },
   "outputs": [],
   "source": [
    "if len(coefficients) == 1:\n",
    "    coef_df = pd.DataFrame({\n",
    "        'feature': feature_names,\n",
    "        'coefficient': coefficients[0]\n",
    "    })"
   ]
  },
  {
   "cell_type": "code",
   "execution_count": null,
   "metadata": {
    "id": "myzbKK47WbZk"
   },
   "outputs": [],
   "source": [
    "coef_df['abs_coefficient'] = coef_df['coefficient'].abs()\n",
    "coef_df = coef_df.sort_values(by='abs_coefficient', ascending=False)"
   ]
  },
  {
   "cell_type": "code",
   "execution_count": null,
   "metadata": {
    "colab": {
     "base_uri": "https://localhost:8080/"
    },
    "id": "z1fFVM8XWfa7",
    "outputId": "fb6b073f-db1d-4406-b13b-6ea4d0921240"
   },
   "outputs": [],
   "source": [
    "top_n = 20  # количество признаков\n",
    "top_features = coef_df.head(top_n)\n",
    "print(top_features)"
   ]
  },
  {
   "cell_type": "code",
   "execution_count": null,
   "metadata": {
    "colab": {
     "base_uri": "https://localhost:8080/",
     "height": 718
    },
    "id": "li2VMnzfWnzU",
    "outputId": "f518bc79-f54e-483a-a8a9-27af10a7d89f"
   },
   "outputs": [],
   "source": [
    "plt.figure(figsize = (10, 8))\n",
    "\n",
    "plt.barh(top_features['feature'], top_features['coefficient'])\n",
    "\n",
    "plt.xlabel('Importance')\n",
    "plt.ylabel('Feature')\n",
    "plt.title('The most important features')\n",
    "plt.show()"
   ]
  },
  {
   "cell_type": "markdown",
   "metadata": {
    "id": "BBEICVsR6VeV"
   },
   "source": [
    "Эти слова внесли наибольший вклад в прогноз, сделанного моделью gs."
   ]
  },
  {
   "cell_type": "markdown",
   "metadata": {
    "id": "bVp74UNExN2K"
   },
   "source": [
    "# Заключение"
   ]
  },
  {
   "cell_type": "markdown",
   "metadata": {
    "id": "DOOU7jySfH2F"
   },
   "source": [
    "Целью задачи было построить модель, которая относит отзывы пользователей к токсичным или нейтральным.\n",
    "\n",
    "Решение задачи проводилось двумя способами: с помощью нейронной сети BERT и без нее, используя величины TF-IDF в качестве входных признаков.\n",
    "\n",
    "В первом способе сначала текстовые данные преобразовывались в числовые векторы-эмбеддинги с помощью предобученной модели \"unitary/toxic-bert\",\n",
    "а затем на основе полученных числовых признаков подбиралась оптимальная модель для задачи классификации.\n",
    "\n",
    "Важной особенностью задачи был сильный дисбаланс классов: токсичных отзывов в исходной выборке была только десятая часть.\n",
    "\n",
    "Оптимальная модель подобрана с помощью случайного поиска, на этапе тестирования наилучшая модель выдала метрику f1 0.94 - больше требуемой.\n",
    "\n",
    "Во втором способе текст был очищен от ненужных симловов и стоп-слов и лемматизирован. Итоговый пайплайн включал в себя преобразование текста в матрицу числовых данных (CountVectorizer), преобразование в матрицу значений TF-IDF (TfidfTransformer) и модель логистической регресии.\n",
    "\n",
    "С помощью GridSearchCV был произведен подбор гиперпараметров логистической регрессии. Наилучшая найденная модель выдала метрику f1 на тесте 0.76 - гораздо меньше, чем BERT, но формально она удовлетворяет требованиям.\n",
    "\n",
    "Для найденной модели выведены слова, которые внесли наибольший вклад при классификации отзывов на нейтральные и токсичные.\n",
    "\n",
    "Таким образом, задача классификации отзывов решена двумя способами, BERT показала отличный результат, хотя для ее работы исходную выборку пришлось сократить до 800 строк, для которых подсчет эмбеддингов занял 25 минут.\n",
    "Этот аспект тоже нужно учитывать при выборе модели обработки текстов."
   ]
  },
  {
   "cell_type": "code",
   "execution_count": null,
   "metadata": {
    "id": "N6K2cfUQMpmF"
   },
   "outputs": [],
   "source": []
  }
 ],
 "metadata": {
  "accelerator": "TPU",
  "colab": {
   "gpuType": "V28",
   "provenance": [],
   "toc_visible": true
  },
  "kernelspec": {
   "display_name": "Python 3 (ipykernel)",
   "language": "python",
   "name": "python3"
  },
  "language_info": {
   "codemirror_mode": {
    "name": "ipython",
    "version": 3
   },
   "file_extension": ".py",
   "mimetype": "text/x-python",
   "name": "python",
   "nbconvert_exporter": "python",
   "pygments_lexer": "ipython3",
   "version": "3.12.4"
  },
  "toc": {
   "base_numbering": 1,
   "nav_menu": {},
   "number_sections": true,
   "sideBar": true,
   "skip_h1_title": true,
   "title_cell": "Table of Contents",
   "title_sidebar": "Contents",
   "toc_cell": false,
   "toc_position": {},
   "toc_section_display": true,
   "toc_window_display": false
  },
  "widgets": {
   "application/vnd.jupyter.widget-state+json": {
    "002af21bae2b4845ae24942e98aaf43f": {
     "model_module": "@jupyter-widgets/base",
     "model_module_version": "1.2.0",
     "model_name": "LayoutModel",
     "state": {
      "_model_module": "@jupyter-widgets/base",
      "_model_module_version": "1.2.0",
      "_model_name": "LayoutModel",
      "_view_count": null,
      "_view_module": "@jupyter-widgets/base",
      "_view_module_version": "1.2.0",
      "_view_name": "LayoutView",
      "align_content": null,
      "align_items": null,
      "align_self": null,
      "border": null,
      "bottom": null,
      "display": null,
      "flex": null,
      "flex_flow": null,
      "grid_area": null,
      "grid_auto_columns": null,
      "grid_auto_flow": null,
      "grid_auto_rows": null,
      "grid_column": null,
      "grid_gap": null,
      "grid_row": null,
      "grid_template_areas": null,
      "grid_template_columns": null,
      "grid_template_rows": null,
      "height": null,
      "justify_content": null,
      "justify_items": null,
      "left": null,
      "margin": null,
      "max_height": null,
      "max_width": null,
      "min_height": null,
      "min_width": null,
      "object_fit": null,
      "object_position": null,
      "order": null,
      "overflow": null,
      "overflow_x": null,
      "overflow_y": null,
      "padding": null,
      "right": null,
      "top": null,
      "visibility": null,
      "width": null
     }
    },
    "0369a918753e4da1b665ecebb99e8095": {
     "model_module": "@jupyter-widgets/base",
     "model_module_version": "1.2.0",
     "model_name": "LayoutModel",
     "state": {
      "_model_module": "@jupyter-widgets/base",
      "_model_module_version": "1.2.0",
      "_model_name": "LayoutModel",
      "_view_count": null,
      "_view_module": "@jupyter-widgets/base",
      "_view_module_version": "1.2.0",
      "_view_name": "LayoutView",
      "align_content": null,
      "align_items": null,
      "align_self": null,
      "border": null,
      "bottom": null,
      "display": null,
      "flex": null,
      "flex_flow": null,
      "grid_area": null,
      "grid_auto_columns": null,
      "grid_auto_flow": null,
      "grid_auto_rows": null,
      "grid_column": null,
      "grid_gap": null,
      "grid_row": null,
      "grid_template_areas": null,
      "grid_template_columns": null,
      "grid_template_rows": null,
      "height": null,
      "justify_content": null,
      "justify_items": null,
      "left": null,
      "margin": null,
      "max_height": null,
      "max_width": null,
      "min_height": null,
      "min_width": null,
      "object_fit": null,
      "object_position": null,
      "order": null,
      "overflow": null,
      "overflow_x": null,
      "overflow_y": null,
      "padding": null,
      "right": null,
      "top": null,
      "visibility": null,
      "width": null
     }
    },
    "06e05d3d014d44bdb85df838543dd407": {
     "model_module": "@jupyter-widgets/controls",
     "model_module_version": "1.5.0",
     "model_name": "HTMLModel",
     "state": {
      "_dom_classes": [],
      "_model_module": "@jupyter-widgets/controls",
      "_model_module_version": "1.5.0",
      "_model_name": "HTMLModel",
      "_view_count": null,
      "_view_module": "@jupyter-widgets/controls",
      "_view_module_version": "1.5.0",
      "_view_name": "HTMLView",
      "description": "",
      "description_tooltip": null,
      "layout": "IPY_MODEL_e152b5b83d1549f6b332603717f0b825",
      "placeholder": "​",
      "style": "IPY_MODEL_82768424eb734470a1b5fb32b1dd29b6",
      "value": "special_tokens_map.json: 100%"
     }
    },
    "0a956300b980470da1841f55a31ededc": {
     "model_module": "@jupyter-widgets/controls",
     "model_module_version": "1.5.0",
     "model_name": "HTMLModel",
     "state": {
      "_dom_classes": [],
      "_model_module": "@jupyter-widgets/controls",
      "_model_module_version": "1.5.0",
      "_model_name": "HTMLModel",
      "_view_count": null,
      "_view_module": "@jupyter-widgets/controls",
      "_view_module_version": "1.5.0",
      "_view_name": "HTMLView",
      "description": "",
      "description_tooltip": null,
      "layout": "IPY_MODEL_454701776104412dbc0f09f65c6b9aa5",
      "placeholder": "​",
      "style": "IPY_MODEL_f0e0d25aa510494f864b587f24e44542",
      "value": " 232k/232k [00:00&lt;00:00, 4.77MB/s]"
     }
    },
    "0e9ca47db4354cbab8c928faab3d6780": {
     "model_module": "@jupyter-widgets/base",
     "model_module_version": "1.2.0",
     "model_name": "LayoutModel",
     "state": {
      "_model_module": "@jupyter-widgets/base",
      "_model_module_version": "1.2.0",
      "_model_name": "LayoutModel",
      "_view_count": null,
      "_view_module": "@jupyter-widgets/base",
      "_view_module_version": "1.2.0",
      "_view_name": "LayoutView",
      "align_content": null,
      "align_items": null,
      "align_self": null,
      "border": null,
      "bottom": null,
      "display": null,
      "flex": null,
      "flex_flow": null,
      "grid_area": null,
      "grid_auto_columns": null,
      "grid_auto_flow": null,
      "grid_auto_rows": null,
      "grid_column": null,
      "grid_gap": null,
      "grid_row": null,
      "grid_template_areas": null,
      "grid_template_columns": null,
      "grid_template_rows": null,
      "height": null,
      "justify_content": null,
      "justify_items": null,
      "left": null,
      "margin": null,
      "max_height": null,
      "max_width": null,
      "min_height": null,
      "min_width": null,
      "object_fit": null,
      "object_position": null,
      "order": null,
      "overflow": null,
      "overflow_x": null,
      "overflow_y": null,
      "padding": null,
      "right": null,
      "top": null,
      "visibility": null,
      "width": null
     }
    },
    "176fb4b1239c4021a1312cc53e73d5d2": {
     "model_module": "@jupyter-widgets/controls",
     "model_module_version": "1.5.0",
     "model_name": "HBoxModel",
     "state": {
      "_dom_classes": [],
      "_model_module": "@jupyter-widgets/controls",
      "_model_module_version": "1.5.0",
      "_model_name": "HBoxModel",
      "_view_count": null,
      "_view_module": "@jupyter-widgets/controls",
      "_view_module_version": "1.5.0",
      "_view_name": "HBoxView",
      "box_style": "",
      "children": [
       "IPY_MODEL_ca17aaef3337445b8c679d2d6cf9e99c",
       "IPY_MODEL_93d461d1b7fe479b8f8fbdce2f208141",
       "IPY_MODEL_dcb7bda4c60f4becb2151287b4c20c16"
      ],
      "layout": "IPY_MODEL_6367f3948bbd41bb8e22504e365fc4d9"
     }
    },
    "198d1138b004413a9b64477b84e83749": {
     "model_module": "@jupyter-widgets/controls",
     "model_module_version": "1.5.0",
     "model_name": "ProgressStyleModel",
     "state": {
      "_model_module": "@jupyter-widgets/controls",
      "_model_module_version": "1.5.0",
      "_model_name": "ProgressStyleModel",
      "_view_count": null,
      "_view_module": "@jupyter-widgets/base",
      "_view_module_version": "1.2.0",
      "_view_name": "StyleView",
      "bar_color": null,
      "description_width": ""
     }
    },
    "1c21ec51d23e4602ab14b39dfda460a7": {
     "model_module": "@jupyter-widgets/controls",
     "model_module_version": "1.5.0",
     "model_name": "DescriptionStyleModel",
     "state": {
      "_model_module": "@jupyter-widgets/controls",
      "_model_module_version": "1.5.0",
      "_model_name": "DescriptionStyleModel",
      "_view_count": null,
      "_view_module": "@jupyter-widgets/base",
      "_view_module_version": "1.2.0",
      "_view_name": "StyleView",
      "description_width": ""
     }
    },
    "1ed16092dc854fffa44d311c8c4b0e52": {
     "model_module": "@jupyter-widgets/base",
     "model_module_version": "1.2.0",
     "model_name": "LayoutModel",
     "state": {
      "_model_module": "@jupyter-widgets/base",
      "_model_module_version": "1.2.0",
      "_model_name": "LayoutModel",
      "_view_count": null,
      "_view_module": "@jupyter-widgets/base",
      "_view_module_version": "1.2.0",
      "_view_name": "LayoutView",
      "align_content": null,
      "align_items": null,
      "align_self": null,
      "border": null,
      "bottom": null,
      "display": null,
      "flex": null,
      "flex_flow": null,
      "grid_area": null,
      "grid_auto_columns": null,
      "grid_auto_flow": null,
      "grid_auto_rows": null,
      "grid_column": null,
      "grid_gap": null,
      "grid_row": null,
      "grid_template_areas": null,
      "grid_template_columns": null,
      "grid_template_rows": null,
      "height": null,
      "justify_content": null,
      "justify_items": null,
      "left": null,
      "margin": null,
      "max_height": null,
      "max_width": null,
      "min_height": null,
      "min_width": null,
      "object_fit": null,
      "object_position": null,
      "order": null,
      "overflow": null,
      "overflow_x": null,
      "overflow_y": null,
      "padding": null,
      "right": null,
      "top": null,
      "visibility": null,
      "width": null
     }
    },
    "262a7d19ed8b406a81d960a673469651": {
     "model_module": "@jupyter-widgets/controls",
     "model_module_version": "1.5.0",
     "model_name": "ProgressStyleModel",
     "state": {
      "_model_module": "@jupyter-widgets/controls",
      "_model_module_version": "1.5.0",
      "_model_name": "ProgressStyleModel",
      "_view_count": null,
      "_view_module": "@jupyter-widgets/base",
      "_view_module_version": "1.2.0",
      "_view_name": "StyleView",
      "bar_color": null,
      "description_width": ""
     }
    },
    "2648859be1f74826abe21d3883d7b0f0": {
     "model_module": "@jupyter-widgets/base",
     "model_module_version": "1.2.0",
     "model_name": "LayoutModel",
     "state": {
      "_model_module": "@jupyter-widgets/base",
      "_model_module_version": "1.2.0",
      "_model_name": "LayoutModel",
      "_view_count": null,
      "_view_module": "@jupyter-widgets/base",
      "_view_module_version": "1.2.0",
      "_view_name": "LayoutView",
      "align_content": null,
      "align_items": null,
      "align_self": null,
      "border": null,
      "bottom": null,
      "display": null,
      "flex": null,
      "flex_flow": null,
      "grid_area": null,
      "grid_auto_columns": null,
      "grid_auto_flow": null,
      "grid_auto_rows": null,
      "grid_column": null,
      "grid_gap": null,
      "grid_row": null,
      "grid_template_areas": null,
      "grid_template_columns": null,
      "grid_template_rows": null,
      "height": null,
      "justify_content": null,
      "justify_items": null,
      "left": null,
      "margin": null,
      "max_height": null,
      "max_width": null,
      "min_height": null,
      "min_width": null,
      "object_fit": null,
      "object_position": null,
      "order": null,
      "overflow": null,
      "overflow_x": null,
      "overflow_y": null,
      "padding": null,
      "right": null,
      "top": null,
      "visibility": null,
      "width": null
     }
    },
    "2a925dfbacd646d29f9118b51c488ce6": {
     "model_module": "@jupyter-widgets/base",
     "model_module_version": "1.2.0",
     "model_name": "LayoutModel",
     "state": {
      "_model_module": "@jupyter-widgets/base",
      "_model_module_version": "1.2.0",
      "_model_name": "LayoutModel",
      "_view_count": null,
      "_view_module": "@jupyter-widgets/base",
      "_view_module_version": "1.2.0",
      "_view_name": "LayoutView",
      "align_content": null,
      "align_items": null,
      "align_self": null,
      "border": null,
      "bottom": null,
      "display": null,
      "flex": null,
      "flex_flow": null,
      "grid_area": null,
      "grid_auto_columns": null,
      "grid_auto_flow": null,
      "grid_auto_rows": null,
      "grid_column": null,
      "grid_gap": null,
      "grid_row": null,
      "grid_template_areas": null,
      "grid_template_columns": null,
      "grid_template_rows": null,
      "height": null,
      "justify_content": null,
      "justify_items": null,
      "left": null,
      "margin": null,
      "max_height": null,
      "max_width": null,
      "min_height": null,
      "min_width": null,
      "object_fit": null,
      "object_position": null,
      "order": null,
      "overflow": null,
      "overflow_x": null,
      "overflow_y": null,
      "padding": null,
      "right": null,
      "top": null,
      "visibility": null,
      "width": null
     }
    },
    "2c207e8af7624e19a40a108d8dc90e47": {
     "model_module": "@jupyter-widgets/base",
     "model_module_version": "1.2.0",
     "model_name": "LayoutModel",
     "state": {
      "_model_module": "@jupyter-widgets/base",
      "_model_module_version": "1.2.0",
      "_model_name": "LayoutModel",
      "_view_count": null,
      "_view_module": "@jupyter-widgets/base",
      "_view_module_version": "1.2.0",
      "_view_name": "LayoutView",
      "align_content": null,
      "align_items": null,
      "align_self": null,
      "border": null,
      "bottom": null,
      "display": null,
      "flex": null,
      "flex_flow": null,
      "grid_area": null,
      "grid_auto_columns": null,
      "grid_auto_flow": null,
      "grid_auto_rows": null,
      "grid_column": null,
      "grid_gap": null,
      "grid_row": null,
      "grid_template_areas": null,
      "grid_template_columns": null,
      "grid_template_rows": null,
      "height": null,
      "justify_content": null,
      "justify_items": null,
      "left": null,
      "margin": null,
      "max_height": null,
      "max_width": null,
      "min_height": null,
      "min_width": null,
      "object_fit": null,
      "object_position": null,
      "order": null,
      "overflow": null,
      "overflow_x": null,
      "overflow_y": null,
      "padding": null,
      "right": null,
      "top": null,
      "visibility": null,
      "width": null
     }
    },
    "2c2807228faa4f6c821e8275896453b2": {
     "model_module": "@jupyter-widgets/base",
     "model_module_version": "1.2.0",
     "model_name": "LayoutModel",
     "state": {
      "_model_module": "@jupyter-widgets/base",
      "_model_module_version": "1.2.0",
      "_model_name": "LayoutModel",
      "_view_count": null,
      "_view_module": "@jupyter-widgets/base",
      "_view_module_version": "1.2.0",
      "_view_name": "LayoutView",
      "align_content": null,
      "align_items": null,
      "align_self": null,
      "border": null,
      "bottom": null,
      "display": null,
      "flex": null,
      "flex_flow": null,
      "grid_area": null,
      "grid_auto_columns": null,
      "grid_auto_flow": null,
      "grid_auto_rows": null,
      "grid_column": null,
      "grid_gap": null,
      "grid_row": null,
      "grid_template_areas": null,
      "grid_template_columns": null,
      "grid_template_rows": null,
      "height": null,
      "justify_content": null,
      "justify_items": null,
      "left": null,
      "margin": null,
      "max_height": null,
      "max_width": null,
      "min_height": null,
      "min_width": null,
      "object_fit": null,
      "object_position": null,
      "order": null,
      "overflow": null,
      "overflow_x": null,
      "overflow_y": null,
      "padding": null,
      "right": null,
      "top": null,
      "visibility": null,
      "width": null
     }
    },
    "2cd3b04409e64e4d8e6caf7d747e2440": {
     "model_module": "@jupyter-widgets/base",
     "model_module_version": "1.2.0",
     "model_name": "LayoutModel",
     "state": {
      "_model_module": "@jupyter-widgets/base",
      "_model_module_version": "1.2.0",
      "_model_name": "LayoutModel",
      "_view_count": null,
      "_view_module": "@jupyter-widgets/base",
      "_view_module_version": "1.2.0",
      "_view_name": "LayoutView",
      "align_content": null,
      "align_items": null,
      "align_self": null,
      "border": null,
      "bottom": null,
      "display": null,
      "flex": null,
      "flex_flow": null,
      "grid_area": null,
      "grid_auto_columns": null,
      "grid_auto_flow": null,
      "grid_auto_rows": null,
      "grid_column": null,
      "grid_gap": null,
      "grid_row": null,
      "grid_template_areas": null,
      "grid_template_columns": null,
      "grid_template_rows": null,
      "height": null,
      "justify_content": null,
      "justify_items": null,
      "left": null,
      "margin": null,
      "max_height": null,
      "max_width": null,
      "min_height": null,
      "min_width": null,
      "object_fit": null,
      "object_position": null,
      "order": null,
      "overflow": null,
      "overflow_x": null,
      "overflow_y": null,
      "padding": null,
      "right": null,
      "top": null,
      "visibility": null,
      "width": null
     }
    },
    "328eec5d99644d2ab66eb6398d983309": {
     "model_module": "@jupyter-widgets/controls",
     "model_module_version": "1.5.0",
     "model_name": "DescriptionStyleModel",
     "state": {
      "_model_module": "@jupyter-widgets/controls",
      "_model_module_version": "1.5.0",
      "_model_name": "DescriptionStyleModel",
      "_view_count": null,
      "_view_module": "@jupyter-widgets/base",
      "_view_module_version": "1.2.0",
      "_view_name": "StyleView",
      "description_width": ""
     }
    },
    "337acabf721e4c569765be8abc7b2011": {
     "model_module": "@jupyter-widgets/base",
     "model_module_version": "1.2.0",
     "model_name": "LayoutModel",
     "state": {
      "_model_module": "@jupyter-widgets/base",
      "_model_module_version": "1.2.0",
      "_model_name": "LayoutModel",
      "_view_count": null,
      "_view_module": "@jupyter-widgets/base",
      "_view_module_version": "1.2.0",
      "_view_name": "LayoutView",
      "align_content": null,
      "align_items": null,
      "align_self": null,
      "border": null,
      "bottom": null,
      "display": null,
      "flex": null,
      "flex_flow": null,
      "grid_area": null,
      "grid_auto_columns": null,
      "grid_auto_flow": null,
      "grid_auto_rows": null,
      "grid_column": null,
      "grid_gap": null,
      "grid_row": null,
      "grid_template_areas": null,
      "grid_template_columns": null,
      "grid_template_rows": null,
      "height": null,
      "justify_content": null,
      "justify_items": null,
      "left": null,
      "margin": null,
      "max_height": null,
      "max_width": null,
      "min_height": null,
      "min_width": null,
      "object_fit": null,
      "object_position": null,
      "order": null,
      "overflow": null,
      "overflow_x": null,
      "overflow_y": null,
      "padding": null,
      "right": null,
      "top": null,
      "visibility": null,
      "width": null
     }
    },
    "3ea48e4598a24449b002ddde0110f8f4": {
     "model_module": "@jupyter-widgets/controls",
     "model_module_version": "1.5.0",
     "model_name": "HBoxModel",
     "state": {
      "_dom_classes": [],
      "_model_module": "@jupyter-widgets/controls",
      "_model_module_version": "1.5.0",
      "_model_name": "HBoxModel",
      "_view_count": null,
      "_view_module": "@jupyter-widgets/controls",
      "_view_module_version": "1.5.0",
      "_view_name": "HBoxView",
      "box_style": "",
      "children": [
       "IPY_MODEL_5bb9839f28ea41afbc50d341cae080ff",
       "IPY_MODEL_a6a25f6f5fef4669bbd1f46370ff40a5",
       "IPY_MODEL_802d1e84482e4e97b8118db550509597"
      ],
      "layout": "IPY_MODEL_1ed16092dc854fffa44d311c8c4b0e52"
     }
    },
    "3fc4b1128dd64b4a9975cbf574cb7a51": {
     "model_module": "@jupyter-widgets/base",
     "model_module_version": "1.2.0",
     "model_name": "LayoutModel",
     "state": {
      "_model_module": "@jupyter-widgets/base",
      "_model_module_version": "1.2.0",
      "_model_name": "LayoutModel",
      "_view_count": null,
      "_view_module": "@jupyter-widgets/base",
      "_view_module_version": "1.2.0",
      "_view_name": "LayoutView",
      "align_content": null,
      "align_items": null,
      "align_self": null,
      "border": null,
      "bottom": null,
      "display": null,
      "flex": null,
      "flex_flow": null,
      "grid_area": null,
      "grid_auto_columns": null,
      "grid_auto_flow": null,
      "grid_auto_rows": null,
      "grid_column": null,
      "grid_gap": null,
      "grid_row": null,
      "grid_template_areas": null,
      "grid_template_columns": null,
      "grid_template_rows": null,
      "height": null,
      "justify_content": null,
      "justify_items": null,
      "left": null,
      "margin": null,
      "max_height": null,
      "max_width": null,
      "min_height": null,
      "min_width": null,
      "object_fit": null,
      "object_position": null,
      "order": null,
      "overflow": null,
      "overflow_x": null,
      "overflow_y": null,
      "padding": null,
      "right": null,
      "top": null,
      "visibility": null,
      "width": null
     }
    },
    "454701776104412dbc0f09f65c6b9aa5": {
     "model_module": "@jupyter-widgets/base",
     "model_module_version": "1.2.0",
     "model_name": "LayoutModel",
     "state": {
      "_model_module": "@jupyter-widgets/base",
      "_model_module_version": "1.2.0",
      "_model_name": "LayoutModel",
      "_view_count": null,
      "_view_module": "@jupyter-widgets/base",
      "_view_module_version": "1.2.0",
      "_view_name": "LayoutView",
      "align_content": null,
      "align_items": null,
      "align_self": null,
      "border": null,
      "bottom": null,
      "display": null,
      "flex": null,
      "flex_flow": null,
      "grid_area": null,
      "grid_auto_columns": null,
      "grid_auto_flow": null,
      "grid_auto_rows": null,
      "grid_column": null,
      "grid_gap": null,
      "grid_row": null,
      "grid_template_areas": null,
      "grid_template_columns": null,
      "grid_template_rows": null,
      "height": null,
      "justify_content": null,
      "justify_items": null,
      "left": null,
      "margin": null,
      "max_height": null,
      "max_width": null,
      "min_height": null,
      "min_width": null,
      "object_fit": null,
      "object_position": null,
      "order": null,
      "overflow": null,
      "overflow_x": null,
      "overflow_y": null,
      "padding": null,
      "right": null,
      "top": null,
      "visibility": null,
      "width": null
     }
    },
    "48da4a500bc84e1aa814b24d8c7bc1dd": {
     "model_module": "@jupyter-widgets/base",
     "model_module_version": "1.2.0",
     "model_name": "LayoutModel",
     "state": {
      "_model_module": "@jupyter-widgets/base",
      "_model_module_version": "1.2.0",
      "_model_name": "LayoutModel",
      "_view_count": null,
      "_view_module": "@jupyter-widgets/base",
      "_view_module_version": "1.2.0",
      "_view_name": "LayoutView",
      "align_content": null,
      "align_items": null,
      "align_self": null,
      "border": null,
      "bottom": null,
      "display": null,
      "flex": null,
      "flex_flow": null,
      "grid_area": null,
      "grid_auto_columns": null,
      "grid_auto_flow": null,
      "grid_auto_rows": null,
      "grid_column": null,
      "grid_gap": null,
      "grid_row": null,
      "grid_template_areas": null,
      "grid_template_columns": null,
      "grid_template_rows": null,
      "height": null,
      "justify_content": null,
      "justify_items": null,
      "left": null,
      "margin": null,
      "max_height": null,
      "max_width": null,
      "min_height": null,
      "min_width": null,
      "object_fit": null,
      "object_position": null,
      "order": null,
      "overflow": null,
      "overflow_x": null,
      "overflow_y": null,
      "padding": null,
      "right": null,
      "top": null,
      "visibility": null,
      "width": null
     }
    },
    "517f2279a0134a9292e7636e88270be8": {
     "model_module": "@jupyter-widgets/base",
     "model_module_version": "1.2.0",
     "model_name": "LayoutModel",
     "state": {
      "_model_module": "@jupyter-widgets/base",
      "_model_module_version": "1.2.0",
      "_model_name": "LayoutModel",
      "_view_count": null,
      "_view_module": "@jupyter-widgets/base",
      "_view_module_version": "1.2.0",
      "_view_name": "LayoutView",
      "align_content": null,
      "align_items": null,
      "align_self": null,
      "border": null,
      "bottom": null,
      "display": null,
      "flex": null,
      "flex_flow": null,
      "grid_area": null,
      "grid_auto_columns": null,
      "grid_auto_flow": null,
      "grid_auto_rows": null,
      "grid_column": null,
      "grid_gap": null,
      "grid_row": null,
      "grid_template_areas": null,
      "grid_template_columns": null,
      "grid_template_rows": null,
      "height": null,
      "justify_content": null,
      "justify_items": null,
      "left": null,
      "margin": null,
      "max_height": null,
      "max_width": null,
      "min_height": null,
      "min_width": null,
      "object_fit": null,
      "object_position": null,
      "order": null,
      "overflow": null,
      "overflow_x": null,
      "overflow_y": null,
      "padding": null,
      "right": null,
      "top": null,
      "visibility": null,
      "width": null
     }
    },
    "54d04bb18dc94017a4788085a869652a": {
     "model_module": "@jupyter-widgets/controls",
     "model_module_version": "1.5.0",
     "model_name": "HBoxModel",
     "state": {
      "_dom_classes": [],
      "_model_module": "@jupyter-widgets/controls",
      "_model_module_version": "1.5.0",
      "_model_name": "HBoxModel",
      "_view_count": null,
      "_view_module": "@jupyter-widgets/controls",
      "_view_module_version": "1.5.0",
      "_view_name": "HBoxView",
      "box_style": "",
      "children": [
       "IPY_MODEL_06e05d3d014d44bdb85df838543dd407",
       "IPY_MODEL_5cf57035e18c45b0b44f5e258ef7a07e",
       "IPY_MODEL_d2b740cf36274503bd8de1a8ea889486"
      ],
      "layout": "IPY_MODEL_0e9ca47db4354cbab8c928faab3d6780"
     }
    },
    "5b707ec7d0a54c41b09e861c10511c90": {
     "model_module": "@jupyter-widgets/controls",
     "model_module_version": "1.5.0",
     "model_name": "ProgressStyleModel",
     "state": {
      "_model_module": "@jupyter-widgets/controls",
      "_model_module_version": "1.5.0",
      "_model_name": "ProgressStyleModel",
      "_view_count": null,
      "_view_module": "@jupyter-widgets/base",
      "_view_module_version": "1.2.0",
      "_view_name": "StyleView",
      "bar_color": null,
      "description_width": ""
     }
    },
    "5bb9839f28ea41afbc50d341cae080ff": {
     "model_module": "@jupyter-widgets/controls",
     "model_module_version": "1.5.0",
     "model_name": "HTMLModel",
     "state": {
      "_dom_classes": [],
      "_model_module": "@jupyter-widgets/controls",
      "_model_module_version": "1.5.0",
      "_model_name": "HTMLModel",
      "_view_count": null,
      "_view_module": "@jupyter-widgets/controls",
      "_view_module_version": "1.5.0",
      "_view_name": "HTMLView",
      "description": "",
      "description_tooltip": null,
      "layout": "IPY_MODEL_6f3ec3497ec2440395c885af05f56265",
      "placeholder": "​",
      "style": "IPY_MODEL_6b416e5560d74a85a993ec53dc15c013",
      "value": "config.json: 100%"
     }
    },
    "5cf57035e18c45b0b44f5e258ef7a07e": {
     "model_module": "@jupyter-widgets/controls",
     "model_module_version": "1.5.0",
     "model_name": "FloatProgressModel",
     "state": {
      "_dom_classes": [],
      "_model_module": "@jupyter-widgets/controls",
      "_model_module_version": "1.5.0",
      "_model_name": "FloatProgressModel",
      "_view_count": null,
      "_view_module": "@jupyter-widgets/controls",
      "_view_module_version": "1.5.0",
      "_view_name": "ProgressView",
      "bar_style": "success",
      "description": "",
      "description_tooltip": null,
      "layout": "IPY_MODEL_f7eccbfb9e3b4900b1b79e20ab31ba13",
      "max": 112,
      "min": 0,
      "orientation": "horizontal",
      "style": "IPY_MODEL_5b707ec7d0a54c41b09e861c10511c90",
      "value": 112
     }
    },
    "61de821dacf44790b9a15640eddd05c7": {
     "model_module": "@jupyter-widgets/controls",
     "model_module_version": "1.5.0",
     "model_name": "HBoxModel",
     "state": {
      "_dom_classes": [],
      "_model_module": "@jupyter-widgets/controls",
      "_model_module_version": "1.5.0",
      "_model_name": "HBoxModel",
      "_view_count": null,
      "_view_module": "@jupyter-widgets/controls",
      "_view_module_version": "1.5.0",
      "_view_name": "HBoxView",
      "box_style": "",
      "children": [
       "IPY_MODEL_dde976c9ef704e8b9273fb4b7d69aa43",
       "IPY_MODEL_b9cd29cad8194df191f25acb2c9cf484",
       "IPY_MODEL_0a956300b980470da1841f55a31ededc"
      ],
      "layout": "IPY_MODEL_2c207e8af7624e19a40a108d8dc90e47"
     }
    },
    "61eecf90c1f24e74a7dbb0d9a4469604": {
     "model_module": "@jupyter-widgets/base",
     "model_module_version": "1.2.0",
     "model_name": "LayoutModel",
     "state": {
      "_model_module": "@jupyter-widgets/base",
      "_model_module_version": "1.2.0",
      "_model_name": "LayoutModel",
      "_view_count": null,
      "_view_module": "@jupyter-widgets/base",
      "_view_module_version": "1.2.0",
      "_view_name": "LayoutView",
      "align_content": null,
      "align_items": null,
      "align_self": null,
      "border": null,
      "bottom": null,
      "display": null,
      "flex": null,
      "flex_flow": null,
      "grid_area": null,
      "grid_auto_columns": null,
      "grid_auto_flow": null,
      "grid_auto_rows": null,
      "grid_column": null,
      "grid_gap": null,
      "grid_row": null,
      "grid_template_areas": null,
      "grid_template_columns": null,
      "grid_template_rows": null,
      "height": null,
      "justify_content": null,
      "justify_items": null,
      "left": null,
      "margin": null,
      "max_height": null,
      "max_width": null,
      "min_height": null,
      "min_width": null,
      "object_fit": null,
      "object_position": null,
      "order": null,
      "overflow": null,
      "overflow_x": null,
      "overflow_y": null,
      "padding": null,
      "right": null,
      "top": null,
      "visibility": null,
      "width": null
     }
    },
    "6367f3948bbd41bb8e22504e365fc4d9": {
     "model_module": "@jupyter-widgets/base",
     "model_module_version": "1.2.0",
     "model_name": "LayoutModel",
     "state": {
      "_model_module": "@jupyter-widgets/base",
      "_model_module_version": "1.2.0",
      "_model_name": "LayoutModel",
      "_view_count": null,
      "_view_module": "@jupyter-widgets/base",
      "_view_module_version": "1.2.0",
      "_view_name": "LayoutView",
      "align_content": null,
      "align_items": null,
      "align_self": null,
      "border": null,
      "bottom": null,
      "display": null,
      "flex": null,
      "flex_flow": null,
      "grid_area": null,
      "grid_auto_columns": null,
      "grid_auto_flow": null,
      "grid_auto_rows": null,
      "grid_column": null,
      "grid_gap": null,
      "grid_row": null,
      "grid_template_areas": null,
      "grid_template_columns": null,
      "grid_template_rows": null,
      "height": null,
      "justify_content": null,
      "justify_items": null,
      "left": null,
      "margin": null,
      "max_height": null,
      "max_width": null,
      "min_height": null,
      "min_width": null,
      "object_fit": null,
      "object_position": null,
      "order": null,
      "overflow": null,
      "overflow_x": null,
      "overflow_y": null,
      "padding": null,
      "right": null,
      "top": null,
      "visibility": null,
      "width": null
     }
    },
    "67fdaf4a67654b94855229503040c336": {
     "model_module": "@jupyter-widgets/controls",
     "model_module_version": "1.5.0",
     "model_name": "HBoxModel",
     "state": {
      "_dom_classes": [],
      "_model_module": "@jupyter-widgets/controls",
      "_model_module_version": "1.5.0",
      "_model_name": "HBoxModel",
      "_view_count": null,
      "_view_module": "@jupyter-widgets/controls",
      "_view_module_version": "1.5.0",
      "_view_name": "HBoxView",
      "box_style": "",
      "children": [
       "IPY_MODEL_c303a6d6748a4efe8c42974f5163ac28",
       "IPY_MODEL_a871cd4d99e346bfa7a9e59d3f8e034c",
       "IPY_MODEL_c0e57d3d796a48b5ba7a148971376a12"
      ],
      "layout": "IPY_MODEL_3fc4b1128dd64b4a9975cbf574cb7a51"
     }
    },
    "69b44acf5d2546a584c51ed7b28f495a": {
     "model_module": "@jupyter-widgets/base",
     "model_module_version": "1.2.0",
     "model_name": "LayoutModel",
     "state": {
      "_model_module": "@jupyter-widgets/base",
      "_model_module_version": "1.2.0",
      "_model_name": "LayoutModel",
      "_view_count": null,
      "_view_module": "@jupyter-widgets/base",
      "_view_module_version": "1.2.0",
      "_view_name": "LayoutView",
      "align_content": null,
      "align_items": null,
      "align_self": null,
      "border": null,
      "bottom": null,
      "display": null,
      "flex": null,
      "flex_flow": null,
      "grid_area": null,
      "grid_auto_columns": null,
      "grid_auto_flow": null,
      "grid_auto_rows": null,
      "grid_column": null,
      "grid_gap": null,
      "grid_row": null,
      "grid_template_areas": null,
      "grid_template_columns": null,
      "grid_template_rows": null,
      "height": null,
      "justify_content": null,
      "justify_items": null,
      "left": null,
      "margin": null,
      "max_height": null,
      "max_width": null,
      "min_height": null,
      "min_width": null,
      "object_fit": null,
      "object_position": null,
      "order": null,
      "overflow": null,
      "overflow_x": null,
      "overflow_y": null,
      "padding": null,
      "right": null,
      "top": null,
      "visibility": null,
      "width": null
     }
    },
    "6aa075f3430b49bc940dc9c87a10123b": {
     "model_module": "@jupyter-widgets/base",
     "model_module_version": "1.2.0",
     "model_name": "LayoutModel",
     "state": {
      "_model_module": "@jupyter-widgets/base",
      "_model_module_version": "1.2.0",
      "_model_name": "LayoutModel",
      "_view_count": null,
      "_view_module": "@jupyter-widgets/base",
      "_view_module_version": "1.2.0",
      "_view_name": "LayoutView",
      "align_content": null,
      "align_items": null,
      "align_self": null,
      "border": null,
      "bottom": null,
      "display": null,
      "flex": null,
      "flex_flow": null,
      "grid_area": null,
      "grid_auto_columns": null,
      "grid_auto_flow": null,
      "grid_auto_rows": null,
      "grid_column": null,
      "grid_gap": null,
      "grid_row": null,
      "grid_template_areas": null,
      "grid_template_columns": null,
      "grid_template_rows": null,
      "height": null,
      "justify_content": null,
      "justify_items": null,
      "left": null,
      "margin": null,
      "max_height": null,
      "max_width": null,
      "min_height": null,
      "min_width": null,
      "object_fit": null,
      "object_position": null,
      "order": null,
      "overflow": null,
      "overflow_x": null,
      "overflow_y": null,
      "padding": null,
      "right": null,
      "top": null,
      "visibility": null,
      "width": null
     }
    },
    "6b416e5560d74a85a993ec53dc15c013": {
     "model_module": "@jupyter-widgets/controls",
     "model_module_version": "1.5.0",
     "model_name": "DescriptionStyleModel",
     "state": {
      "_model_module": "@jupyter-widgets/controls",
      "_model_module_version": "1.5.0",
      "_model_name": "DescriptionStyleModel",
      "_view_count": null,
      "_view_module": "@jupyter-widgets/base",
      "_view_module_version": "1.2.0",
      "_view_name": "StyleView",
      "description_width": ""
     }
    },
    "6f3ec3497ec2440395c885af05f56265": {
     "model_module": "@jupyter-widgets/base",
     "model_module_version": "1.2.0",
     "model_name": "LayoutModel",
     "state": {
      "_model_module": "@jupyter-widgets/base",
      "_model_module_version": "1.2.0",
      "_model_name": "LayoutModel",
      "_view_count": null,
      "_view_module": "@jupyter-widgets/base",
      "_view_module_version": "1.2.0",
      "_view_name": "LayoutView",
      "align_content": null,
      "align_items": null,
      "align_self": null,
      "border": null,
      "bottom": null,
      "display": null,
      "flex": null,
      "flex_flow": null,
      "grid_area": null,
      "grid_auto_columns": null,
      "grid_auto_flow": null,
      "grid_auto_rows": null,
      "grid_column": null,
      "grid_gap": null,
      "grid_row": null,
      "grid_template_areas": null,
      "grid_template_columns": null,
      "grid_template_rows": null,
      "height": null,
      "justify_content": null,
      "justify_items": null,
      "left": null,
      "margin": null,
      "max_height": null,
      "max_width": null,
      "min_height": null,
      "min_width": null,
      "object_fit": null,
      "object_position": null,
      "order": null,
      "overflow": null,
      "overflow_x": null,
      "overflow_y": null,
      "padding": null,
      "right": null,
      "top": null,
      "visibility": null,
      "width": null
     }
    },
    "6fbfae81d53942f29fe69ebe279caace": {
     "model_module": "@jupyter-widgets/controls",
     "model_module_version": "1.5.0",
     "model_name": "DescriptionStyleModel",
     "state": {
      "_model_module": "@jupyter-widgets/controls",
      "_model_module_version": "1.5.0",
      "_model_name": "DescriptionStyleModel",
      "_view_count": null,
      "_view_module": "@jupyter-widgets/base",
      "_view_module_version": "1.2.0",
      "_view_name": "StyleView",
      "description_width": ""
     }
    },
    "72be206ab9bd449c8c0a482047fe8c4a": {
     "model_module": "@jupyter-widgets/controls",
     "model_module_version": "1.5.0",
     "model_name": "ProgressStyleModel",
     "state": {
      "_model_module": "@jupyter-widgets/controls",
      "_model_module_version": "1.5.0",
      "_model_name": "ProgressStyleModel",
      "_view_count": null,
      "_view_module": "@jupyter-widgets/base",
      "_view_module_version": "1.2.0",
      "_view_name": "StyleView",
      "bar_color": null,
      "description_width": ""
     }
    },
    "7cf38739f3394dcf8d9e9dd3803380b8": {
     "model_module": "@jupyter-widgets/controls",
     "model_module_version": "1.5.0",
     "model_name": "DescriptionStyleModel",
     "state": {
      "_model_module": "@jupyter-widgets/controls",
      "_model_module_version": "1.5.0",
      "_model_name": "DescriptionStyleModel",
      "_view_count": null,
      "_view_module": "@jupyter-widgets/base",
      "_view_module_version": "1.2.0",
      "_view_name": "StyleView",
      "description_width": ""
     }
    },
    "7e2bb1c116c74494abf00bbbd2310c1c": {
     "model_module": "@jupyter-widgets/controls",
     "model_module_version": "1.5.0",
     "model_name": "ProgressStyleModel",
     "state": {
      "_model_module": "@jupyter-widgets/controls",
      "_model_module_version": "1.5.0",
      "_model_name": "ProgressStyleModel",
      "_view_count": null,
      "_view_module": "@jupyter-widgets/base",
      "_view_module_version": "1.2.0",
      "_view_name": "StyleView",
      "bar_color": null,
      "description_width": ""
     }
    },
    "802d1e84482e4e97b8118db550509597": {
     "model_module": "@jupyter-widgets/controls",
     "model_module_version": "1.5.0",
     "model_name": "HTMLModel",
     "state": {
      "_dom_classes": [],
      "_model_module": "@jupyter-widgets/controls",
      "_model_module_version": "1.5.0",
      "_model_name": "HTMLModel",
      "_view_count": null,
      "_view_module": "@jupyter-widgets/controls",
      "_view_module_version": "1.5.0",
      "_view_name": "HTMLView",
      "description": "",
      "description_tooltip": null,
      "layout": "IPY_MODEL_ed7802e55f6545cc8dd49e4e5dded681",
      "placeholder": "​",
      "style": "IPY_MODEL_328eec5d99644d2ab66eb6398d983309",
      "value": " 811/811 [00:00&lt;00:00, 86.3kB/s]"
     }
    },
    "82768424eb734470a1b5fb32b1dd29b6": {
     "model_module": "@jupyter-widgets/controls",
     "model_module_version": "1.5.0",
     "model_name": "DescriptionStyleModel",
     "state": {
      "_model_module": "@jupyter-widgets/controls",
      "_model_module_version": "1.5.0",
      "_model_name": "DescriptionStyleModel",
      "_view_count": null,
      "_view_module": "@jupyter-widgets/base",
      "_view_module_version": "1.2.0",
      "_view_name": "StyleView",
      "description_width": ""
     }
    },
    "93d461d1b7fe479b8f8fbdce2f208141": {
     "model_module": "@jupyter-widgets/controls",
     "model_module_version": "1.5.0",
     "model_name": "FloatProgressModel",
     "state": {
      "_dom_classes": [],
      "_model_module": "@jupyter-widgets/controls",
      "_model_module_version": "1.5.0",
      "_model_name": "FloatProgressModel",
      "_view_count": null,
      "_view_module": "@jupyter-widgets/controls",
      "_view_module_version": "1.5.0",
      "_view_name": "ProgressView",
      "bar_style": "success",
      "description": "",
      "description_tooltip": null,
      "layout": "IPY_MODEL_002af21bae2b4845ae24942e98aaf43f",
      "max": 174,
      "min": 0,
      "orientation": "horizontal",
      "style": "IPY_MODEL_198d1138b004413a9b64477b84e83749",
      "value": 174
     }
    },
    "97e235f036ec4f3e9ae0933e4bc7ae76": {
     "model_module": "@jupyter-widgets/base",
     "model_module_version": "1.2.0",
     "model_name": "LayoutModel",
     "state": {
      "_model_module": "@jupyter-widgets/base",
      "_model_module_version": "1.2.0",
      "_model_name": "LayoutModel",
      "_view_count": null,
      "_view_module": "@jupyter-widgets/base",
      "_view_module_version": "1.2.0",
      "_view_name": "LayoutView",
      "align_content": null,
      "align_items": null,
      "align_self": null,
      "border": null,
      "bottom": null,
      "display": null,
      "flex": null,
      "flex_flow": null,
      "grid_area": null,
      "grid_auto_columns": null,
      "grid_auto_flow": null,
      "grid_auto_rows": null,
      "grid_column": null,
      "grid_gap": null,
      "grid_row": null,
      "grid_template_areas": null,
      "grid_template_columns": null,
      "grid_template_rows": null,
      "height": null,
      "justify_content": null,
      "justify_items": null,
      "left": null,
      "margin": null,
      "max_height": null,
      "max_width": null,
      "min_height": null,
      "min_width": null,
      "object_fit": null,
      "object_position": null,
      "order": null,
      "overflow": null,
      "overflow_x": null,
      "overflow_y": null,
      "padding": null,
      "right": null,
      "top": null,
      "visibility": null,
      "width": null
     }
    },
    "9c1242a9311c4e4ba99736700cc40d46": {
     "model_module": "@jupyter-widgets/controls",
     "model_module_version": "1.5.0",
     "model_name": "FloatProgressModel",
     "state": {
      "_dom_classes": [],
      "_model_module": "@jupyter-widgets/controls",
      "_model_module_version": "1.5.0",
      "_model_name": "FloatProgressModel",
      "_view_count": null,
      "_view_module": "@jupyter-widgets/controls",
      "_view_module_version": "1.5.0",
      "_view_name": "ProgressView",
      "bar_style": "success",
      "description": "",
      "description_tooltip": null,
      "layout": "IPY_MODEL_0369a918753e4da1b665ecebb99e8095",
      "max": 800,
      "min": 0,
      "orientation": "horizontal",
      "style": "IPY_MODEL_f816d41770c040feaf2f913529476e0d",
      "value": 800
     }
    },
    "a1a17eeb9a32411dbc1c75f7a850069f": {
     "model_module": "@jupyter-widgets/controls",
     "model_module_version": "1.5.0",
     "model_name": "HTMLModel",
     "state": {
      "_dom_classes": [],
      "_model_module": "@jupyter-widgets/controls",
      "_model_module_version": "1.5.0",
      "_model_name": "HTMLModel",
      "_view_count": null,
      "_view_module": "@jupyter-widgets/controls",
      "_view_module_version": "1.5.0",
      "_view_name": "HTMLView",
      "description": "",
      "description_tooltip": null,
      "layout": "IPY_MODEL_2cd3b04409e64e4d8e6caf7d747e2440",
      "placeholder": "​",
      "style": "IPY_MODEL_1c21ec51d23e4602ab14b39dfda460a7",
      "value": "100%"
     }
    },
    "a6a25f6f5fef4669bbd1f46370ff40a5": {
     "model_module": "@jupyter-widgets/controls",
     "model_module_version": "1.5.0",
     "model_name": "FloatProgressModel",
     "state": {
      "_dom_classes": [],
      "_model_module": "@jupyter-widgets/controls",
      "_model_module_version": "1.5.0",
      "_model_name": "FloatProgressModel",
      "_view_count": null,
      "_view_module": "@jupyter-widgets/controls",
      "_view_module_version": "1.5.0",
      "_view_name": "ProgressView",
      "bar_style": "success",
      "description": "",
      "description_tooltip": null,
      "layout": "IPY_MODEL_2c2807228faa4f6c821e8275896453b2",
      "max": 811,
      "min": 0,
      "orientation": "horizontal",
      "style": "IPY_MODEL_72be206ab9bd449c8c0a482047fe8c4a",
      "value": 811
     }
    },
    "a84e93e1731545859be5405815001942": {
     "model_module": "@jupyter-widgets/controls",
     "model_module_version": "1.5.0",
     "model_name": "DescriptionStyleModel",
     "state": {
      "_model_module": "@jupyter-widgets/controls",
      "_model_module_version": "1.5.0",
      "_model_name": "DescriptionStyleModel",
      "_view_count": null,
      "_view_module": "@jupyter-widgets/base",
      "_view_module_version": "1.2.0",
      "_view_name": "StyleView",
      "description_width": ""
     }
    },
    "a871cd4d99e346bfa7a9e59d3f8e034c": {
     "model_module": "@jupyter-widgets/controls",
     "model_module_version": "1.5.0",
     "model_name": "FloatProgressModel",
     "state": {
      "_dom_classes": [],
      "_model_module": "@jupyter-widgets/controls",
      "_model_module_version": "1.5.0",
      "_model_name": "FloatProgressModel",
      "_view_count": null,
      "_view_module": "@jupyter-widgets/controls",
      "_view_module_version": "1.5.0",
      "_view_name": "ProgressView",
      "bar_style": "success",
      "description": "",
      "description_tooltip": null,
      "layout": "IPY_MODEL_337acabf721e4c569765be8abc7b2011",
      "max": 437975136,
      "min": 0,
      "orientation": "horizontal",
      "style": "IPY_MODEL_262a7d19ed8b406a81d960a673469651",
      "value": 437975136
     }
    },
    "b02d000fa3184d81bff228b4865de38d": {
     "model_module": "@jupyter-widgets/controls",
     "model_module_version": "1.5.0",
     "model_name": "DescriptionStyleModel",
     "state": {
      "_model_module": "@jupyter-widgets/controls",
      "_model_module_version": "1.5.0",
      "_model_name": "DescriptionStyleModel",
      "_view_count": null,
      "_view_module": "@jupyter-widgets/base",
      "_view_module_version": "1.2.0",
      "_view_name": "StyleView",
      "description_width": ""
     }
    },
    "b0a0acfe6d42497f932c1f413632f63a": {
     "model_module": "@jupyter-widgets/base",
     "model_module_version": "1.2.0",
     "model_name": "LayoutModel",
     "state": {
      "_model_module": "@jupyter-widgets/base",
      "_model_module_version": "1.2.0",
      "_model_name": "LayoutModel",
      "_view_count": null,
      "_view_module": "@jupyter-widgets/base",
      "_view_module_version": "1.2.0",
      "_view_name": "LayoutView",
      "align_content": null,
      "align_items": null,
      "align_self": null,
      "border": null,
      "bottom": null,
      "display": null,
      "flex": null,
      "flex_flow": null,
      "grid_area": null,
      "grid_auto_columns": null,
      "grid_auto_flow": null,
      "grid_auto_rows": null,
      "grid_column": null,
      "grid_gap": null,
      "grid_row": null,
      "grid_template_areas": null,
      "grid_template_columns": null,
      "grid_template_rows": null,
      "height": null,
      "justify_content": null,
      "justify_items": null,
      "left": null,
      "margin": null,
      "max_height": null,
      "max_width": null,
      "min_height": null,
      "min_width": null,
      "object_fit": null,
      "object_position": null,
      "order": null,
      "overflow": null,
      "overflow_x": null,
      "overflow_y": null,
      "padding": null,
      "right": null,
      "top": null,
      "visibility": null,
      "width": null
     }
    },
    "b92939d334604441be00be550e5b3972": {
     "model_module": "@jupyter-widgets/controls",
     "model_module_version": "1.5.0",
     "model_name": "HBoxModel",
     "state": {
      "_dom_classes": [],
      "_model_module": "@jupyter-widgets/controls",
      "_model_module_version": "1.5.0",
      "_model_name": "HBoxModel",
      "_view_count": null,
      "_view_module": "@jupyter-widgets/controls",
      "_view_module_version": "1.5.0",
      "_view_name": "HBoxView",
      "box_style": "",
      "children": [
       "IPY_MODEL_a1a17eeb9a32411dbc1c75f7a850069f",
       "IPY_MODEL_9c1242a9311c4e4ba99736700cc40d46",
       "IPY_MODEL_f1df1a53b2b1484cadf3d78e0f68a054"
      ],
      "layout": "IPY_MODEL_6aa075f3430b49bc940dc9c87a10123b"
     }
    },
    "b9cd29cad8194df191f25acb2c9cf484": {
     "model_module": "@jupyter-widgets/controls",
     "model_module_version": "1.5.0",
     "model_name": "FloatProgressModel",
     "state": {
      "_dom_classes": [],
      "_model_module": "@jupyter-widgets/controls",
      "_model_module_version": "1.5.0",
      "_model_name": "FloatProgressModel",
      "_view_count": null,
      "_view_module": "@jupyter-widgets/controls",
      "_view_module_version": "1.5.0",
      "_view_name": "ProgressView",
      "bar_style": "success",
      "description": "",
      "description_tooltip": null,
      "layout": "IPY_MODEL_2a925dfbacd646d29f9118b51c488ce6",
      "max": 231508,
      "min": 0,
      "orientation": "horizontal",
      "style": "IPY_MODEL_7e2bb1c116c74494abf00bbbd2310c1c",
      "value": 231508
     }
    },
    "c0e57d3d796a48b5ba7a148971376a12": {
     "model_module": "@jupyter-widgets/controls",
     "model_module_version": "1.5.0",
     "model_name": "HTMLModel",
     "state": {
      "_dom_classes": [],
      "_model_module": "@jupyter-widgets/controls",
      "_model_module_version": "1.5.0",
      "_model_name": "HTMLModel",
      "_view_count": null,
      "_view_module": "@jupyter-widgets/controls",
      "_view_module_version": "1.5.0",
      "_view_name": "HTMLView",
      "description": "",
      "description_tooltip": null,
      "layout": "IPY_MODEL_69b44acf5d2546a584c51ed7b28f495a",
      "placeholder": "​",
      "style": "IPY_MODEL_6fbfae81d53942f29fe69ebe279caace",
      "value": " 438M/438M [00:01&lt;00:00, 280MB/s]"
     }
    },
    "c303a6d6748a4efe8c42974f5163ac28": {
     "model_module": "@jupyter-widgets/controls",
     "model_module_version": "1.5.0",
     "model_name": "HTMLModel",
     "state": {
      "_dom_classes": [],
      "_model_module": "@jupyter-widgets/controls",
      "_model_module_version": "1.5.0",
      "_model_name": "HTMLModel",
      "_view_count": null,
      "_view_module": "@jupyter-widgets/controls",
      "_view_module_version": "1.5.0",
      "_view_name": "HTMLView",
      "description": "",
      "description_tooltip": null,
      "layout": "IPY_MODEL_2648859be1f74826abe21d3883d7b0f0",
      "placeholder": "​",
      "style": "IPY_MODEL_7cf38739f3394dcf8d9e9dd3803380b8",
      "value": "model.safetensors: 100%"
     }
    },
    "c326863f53994d5bbe420f623f9456f3": {
     "model_module": "@jupyter-widgets/controls",
     "model_module_version": "1.5.0",
     "model_name": "DescriptionStyleModel",
     "state": {
      "_model_module": "@jupyter-widgets/controls",
      "_model_module_version": "1.5.0",
      "_model_name": "DescriptionStyleModel",
      "_view_count": null,
      "_view_module": "@jupyter-widgets/base",
      "_view_module_version": "1.2.0",
      "_view_name": "StyleView",
      "description_width": ""
     }
    },
    "ca17aaef3337445b8c679d2d6cf9e99c": {
     "model_module": "@jupyter-widgets/controls",
     "model_module_version": "1.5.0",
     "model_name": "HTMLModel",
     "state": {
      "_dom_classes": [],
      "_model_module": "@jupyter-widgets/controls",
      "_model_module_version": "1.5.0",
      "_model_name": "HTMLModel",
      "_view_count": null,
      "_view_module": "@jupyter-widgets/controls",
      "_view_module_version": "1.5.0",
      "_view_name": "HTMLView",
      "description": "",
      "description_tooltip": null,
      "layout": "IPY_MODEL_517f2279a0134a9292e7636e88270be8",
      "placeholder": "​",
      "style": "IPY_MODEL_a84e93e1731545859be5405815001942",
      "value": "tokenizer_config.json: 100%"
     }
    },
    "d2b740cf36274503bd8de1a8ea889486": {
     "model_module": "@jupyter-widgets/controls",
     "model_module_version": "1.5.0",
     "model_name": "HTMLModel",
     "state": {
      "_dom_classes": [],
      "_model_module": "@jupyter-widgets/controls",
      "_model_module_version": "1.5.0",
      "_model_name": "HTMLModel",
      "_view_count": null,
      "_view_module": "@jupyter-widgets/controls",
      "_view_module_version": "1.5.0",
      "_view_name": "HTMLView",
      "description": "",
      "description_tooltip": null,
      "layout": "IPY_MODEL_61eecf90c1f24e74a7dbb0d9a4469604",
      "placeholder": "​",
      "style": "IPY_MODEL_f2e51847994849e79eb76b557ad025cd",
      "value": " 112/112 [00:00&lt;00:00, 16.0kB/s]"
     }
    },
    "d2cb6dc21cb6468caad7917f10d104be": {
     "model_module": "@jupyter-widgets/controls",
     "model_module_version": "1.5.0",
     "model_name": "DescriptionStyleModel",
     "state": {
      "_model_module": "@jupyter-widgets/controls",
      "_model_module_version": "1.5.0",
      "_model_name": "DescriptionStyleModel",
      "_view_count": null,
      "_view_module": "@jupyter-widgets/base",
      "_view_module_version": "1.2.0",
      "_view_name": "StyleView",
      "description_width": ""
     }
    },
    "dcb7bda4c60f4becb2151287b4c20c16": {
     "model_module": "@jupyter-widgets/controls",
     "model_module_version": "1.5.0",
     "model_name": "HTMLModel",
     "state": {
      "_dom_classes": [],
      "_model_module": "@jupyter-widgets/controls",
      "_model_module_version": "1.5.0",
      "_model_name": "HTMLModel",
      "_view_count": null,
      "_view_module": "@jupyter-widgets/controls",
      "_view_module_version": "1.5.0",
      "_view_name": "HTMLView",
      "description": "",
      "description_tooltip": null,
      "layout": "IPY_MODEL_b0a0acfe6d42497f932c1f413632f63a",
      "placeholder": "​",
      "style": "IPY_MODEL_d2cb6dc21cb6468caad7917f10d104be",
      "value": " 174/174 [00:00&lt;00:00, 23.6kB/s]"
     }
    },
    "dde976c9ef704e8b9273fb4b7d69aa43": {
     "model_module": "@jupyter-widgets/controls",
     "model_module_version": "1.5.0",
     "model_name": "HTMLModel",
     "state": {
      "_dom_classes": [],
      "_model_module": "@jupyter-widgets/controls",
      "_model_module_version": "1.5.0",
      "_model_name": "HTMLModel",
      "_view_count": null,
      "_view_module": "@jupyter-widgets/controls",
      "_view_module_version": "1.5.0",
      "_view_name": "HTMLView",
      "description": "",
      "description_tooltip": null,
      "layout": "IPY_MODEL_48da4a500bc84e1aa814b24d8c7bc1dd",
      "placeholder": "​",
      "style": "IPY_MODEL_c326863f53994d5bbe420f623f9456f3",
      "value": "vocab.txt: 100%"
     }
    },
    "e152b5b83d1549f6b332603717f0b825": {
     "model_module": "@jupyter-widgets/base",
     "model_module_version": "1.2.0",
     "model_name": "LayoutModel",
     "state": {
      "_model_module": "@jupyter-widgets/base",
      "_model_module_version": "1.2.0",
      "_model_name": "LayoutModel",
      "_view_count": null,
      "_view_module": "@jupyter-widgets/base",
      "_view_module_version": "1.2.0",
      "_view_name": "LayoutView",
      "align_content": null,
      "align_items": null,
      "align_self": null,
      "border": null,
      "bottom": null,
      "display": null,
      "flex": null,
      "flex_flow": null,
      "grid_area": null,
      "grid_auto_columns": null,
      "grid_auto_flow": null,
      "grid_auto_rows": null,
      "grid_column": null,
      "grid_gap": null,
      "grid_row": null,
      "grid_template_areas": null,
      "grid_template_columns": null,
      "grid_template_rows": null,
      "height": null,
      "justify_content": null,
      "justify_items": null,
      "left": null,
      "margin": null,
      "max_height": null,
      "max_width": null,
      "min_height": null,
      "min_width": null,
      "object_fit": null,
      "object_position": null,
      "order": null,
      "overflow": null,
      "overflow_x": null,
      "overflow_y": null,
      "padding": null,
      "right": null,
      "top": null,
      "visibility": null,
      "width": null
     }
    },
    "ed7802e55f6545cc8dd49e4e5dded681": {
     "model_module": "@jupyter-widgets/base",
     "model_module_version": "1.2.0",
     "model_name": "LayoutModel",
     "state": {
      "_model_module": "@jupyter-widgets/base",
      "_model_module_version": "1.2.0",
      "_model_name": "LayoutModel",
      "_view_count": null,
      "_view_module": "@jupyter-widgets/base",
      "_view_module_version": "1.2.0",
      "_view_name": "LayoutView",
      "align_content": null,
      "align_items": null,
      "align_self": null,
      "border": null,
      "bottom": null,
      "display": null,
      "flex": null,
      "flex_flow": null,
      "grid_area": null,
      "grid_auto_columns": null,
      "grid_auto_flow": null,
      "grid_auto_rows": null,
      "grid_column": null,
      "grid_gap": null,
      "grid_row": null,
      "grid_template_areas": null,
      "grid_template_columns": null,
      "grid_template_rows": null,
      "height": null,
      "justify_content": null,
      "justify_items": null,
      "left": null,
      "margin": null,
      "max_height": null,
      "max_width": null,
      "min_height": null,
      "min_width": null,
      "object_fit": null,
      "object_position": null,
      "order": null,
      "overflow": null,
      "overflow_x": null,
      "overflow_y": null,
      "padding": null,
      "right": null,
      "top": null,
      "visibility": null,
      "width": null
     }
    },
    "f0e0d25aa510494f864b587f24e44542": {
     "model_module": "@jupyter-widgets/controls",
     "model_module_version": "1.5.0",
     "model_name": "DescriptionStyleModel",
     "state": {
      "_model_module": "@jupyter-widgets/controls",
      "_model_module_version": "1.5.0",
      "_model_name": "DescriptionStyleModel",
      "_view_count": null,
      "_view_module": "@jupyter-widgets/base",
      "_view_module_version": "1.2.0",
      "_view_name": "StyleView",
      "description_width": ""
     }
    },
    "f1df1a53b2b1484cadf3d78e0f68a054": {
     "model_module": "@jupyter-widgets/controls",
     "model_module_version": "1.5.0",
     "model_name": "HTMLModel",
     "state": {
      "_dom_classes": [],
      "_model_module": "@jupyter-widgets/controls",
      "_model_module_version": "1.5.0",
      "_model_name": "HTMLModel",
      "_view_count": null,
      "_view_module": "@jupyter-widgets/controls",
      "_view_module_version": "1.5.0",
      "_view_name": "HTMLView",
      "description": "",
      "description_tooltip": null,
      "layout": "IPY_MODEL_97e235f036ec4f3e9ae0933e4bc7ae76",
      "placeholder": "​",
      "style": "IPY_MODEL_b02d000fa3184d81bff228b4865de38d",
      "value": " 800/800 [24:14&lt;00:00,  1.82s/it]"
     }
    },
    "f2e51847994849e79eb76b557ad025cd": {
     "model_module": "@jupyter-widgets/controls",
     "model_module_version": "1.5.0",
     "model_name": "DescriptionStyleModel",
     "state": {
      "_model_module": "@jupyter-widgets/controls",
      "_model_module_version": "1.5.0",
      "_model_name": "DescriptionStyleModel",
      "_view_count": null,
      "_view_module": "@jupyter-widgets/base",
      "_view_module_version": "1.2.0",
      "_view_name": "StyleView",
      "description_width": ""
     }
    },
    "f7eccbfb9e3b4900b1b79e20ab31ba13": {
     "model_module": "@jupyter-widgets/base",
     "model_module_version": "1.2.0",
     "model_name": "LayoutModel",
     "state": {
      "_model_module": "@jupyter-widgets/base",
      "_model_module_version": "1.2.0",
      "_model_name": "LayoutModel",
      "_view_count": null,
      "_view_module": "@jupyter-widgets/base",
      "_view_module_version": "1.2.0",
      "_view_name": "LayoutView",
      "align_content": null,
      "align_items": null,
      "align_self": null,
      "border": null,
      "bottom": null,
      "display": null,
      "flex": null,
      "flex_flow": null,
      "grid_area": null,
      "grid_auto_columns": null,
      "grid_auto_flow": null,
      "grid_auto_rows": null,
      "grid_column": null,
      "grid_gap": null,
      "grid_row": null,
      "grid_template_areas": null,
      "grid_template_columns": null,
      "grid_template_rows": null,
      "height": null,
      "justify_content": null,
      "justify_items": null,
      "left": null,
      "margin": null,
      "max_height": null,
      "max_width": null,
      "min_height": null,
      "min_width": null,
      "object_fit": null,
      "object_position": null,
      "order": null,
      "overflow": null,
      "overflow_x": null,
      "overflow_y": null,
      "padding": null,
      "right": null,
      "top": null,
      "visibility": null,
      "width": null
     }
    },
    "f816d41770c040feaf2f913529476e0d": {
     "model_module": "@jupyter-widgets/controls",
     "model_module_version": "1.5.0",
     "model_name": "ProgressStyleModel",
     "state": {
      "_model_module": "@jupyter-widgets/controls",
      "_model_module_version": "1.5.0",
      "_model_name": "ProgressStyleModel",
      "_view_count": null,
      "_view_module": "@jupyter-widgets/base",
      "_view_module_version": "1.2.0",
      "_view_name": "StyleView",
      "bar_color": null,
      "description_width": ""
     }
    }
   }
  }
 },
 "nbformat": 4,
 "nbformat_minor": 4
}
